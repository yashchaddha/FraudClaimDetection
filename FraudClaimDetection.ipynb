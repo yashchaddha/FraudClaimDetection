{
 "cells": [
  {
   "cell_type": "markdown",
   "metadata": {
    "id": "uJ6cv25EDPWV"
   },
   "source": [
    "## **Fraudulent Claim Detection**"
   ]
  },
  {
   "cell_type": "markdown",
   "metadata": {
    "id": "_rLrWLwZDPWW"
   },
   "source": [
    "## Problem Statement\n",
    "Global Insure, a leading insurance company, processes thousands of claims annually. However, a significant percentage of these claims turn out to be fraudulent, resulting in considerable financial losses. The company’s current process for identifying fraudulent claims involves manual inspections, which is time-consuming and inefficient. Fraudulent claims are often detected too late in the process, after the company has already paid out significant amounts. Global Insure wants to improve its fraud detection process using data-driven insights to classify claims as fraudulent or legitimate early in the approval process. This would minimise financial losses and optimise the overall claims handling process.\n",
    "\n",
    "## Business Objective\n",
    "Global Insure wants to build a model to classify insurance claims as either fraudulent or legitimate based on historical claim details and customer profiles. By using features like claim amounts, customer profiles and claim types, the company aims to predict which claims are likely to be fraudulent before they are approved.\n",
    "\n",
    "\n",
    "Based on this assignment, you have to answer the following questions:<br>\n",
    "\n",
    "● How can we analyse historical claim data to detect patterns that indicate fraudulent claims?<br>\n",
    "● Which features are most predictive of fraudulent behaviour?<br>\n",
    "● Can we predict the likelihood of fraud for an incoming claim, based on past data?<br>\n",
    "● What insights can be drawn from the model that can help in improving the fraud detection process?<br>"
   ]
  },
  {
   "cell_type": "markdown",
   "metadata": {
    "id": "dCp1H_XyDPWX"
   },
   "source": [
    "## Assignment Tasks\n",
    "You need to perform the following steps for successfully completing this assignment:\n",
    "1. Data Preparation\n",
    "2. Data Cleaning\n",
    "3. Train Validation Split 70-30\n",
    "4. EDA on Training Data\n",
    "5. EDA on Validation Data (optional)\n",
    "6. Feature Engineering\n",
    "7. Model Building\n",
    "8. Predicting and Model Evaluation"
   ]
  },
  {
   "cell_type": "markdown",
   "metadata": {
    "id": "PPnbScj6sHfw"
   },
   "source": [
    "## Data Dictionary\n",
    "The insurance claims data has 40 Columns and 1000 Rows. Following data dictionary provides the description for each column present in dataset:<br>\n",
    "\n",
    "<table>\n",
    "  <thead>\n",
    "    <tr>\n",
    "      <th>Column Name</th>\n",
    "      <th>Description</th>\n",
    "    </tr>\n",
    "  </thead>\n",
    "  <tbody>\n",
    "    <tr>\n",
    "      <td>months_as_customer</td>\n",
    "      <td>Represents the duration in months that a customer has been associated with the insurance company.</td>\n",
    "    </tr>\n",
    "    <tr>\n",
    "      <td>age</td>\n",
    "      <td>Represents the age of the insured person.</td>\n",
    "    </tr>\n",
    "    <tr>\n",
    "      <td>policy_number</td>\n",
    "      <td>Represents a unique identifier for each insurance policy.</td>\n",
    "    </tr>\n",
    "    <tr>\n",
    "      <td>policy_bind_date</td>\n",
    "      <td>Represents the date when the insurance policy was initiated.</td>\n",
    "    </tr>\n",
    "    <tr>\n",
    "      <td>policy_state</td>\n",
    "      <td>Represents the state where the insurance policy is applicable.</td>\n",
    "    </tr>\n",
    "    <tr>\n",
    "      <td>policy_csl</td>\n",
    "      <td>Represents the combined single limit for the insurance policy.</td>\n",
    "    </tr>\n",
    "    <tr>\n",
    "      <td>policy_deductable</td>\n",
    "      <td>Represents the amount that the insured person needs to pay before the insurance coverage kicks in.</td>\n",
    "    </tr>\n",
    "    <tr>\n",
    "      <td>policy_annual_premium</td>\n",
    "      <td>Represents the yearly cost of the insurance policy.</td>\n",
    "    </tr>\n",
    "    <tr>\n",
    "      <td>umbrella_limit</td>\n",
    "      <td>Represents an additional layer of liability coverage provided beyond the limits of the primary insurance policy.</td>\n",
    "    </tr>\n",
    "    <tr>\n",
    "      <td>insured_zip</td>\n",
    "      <td>Represents the zip code of the insured person.</td>\n",
    "    </tr>\n",
    "    <tr>\n",
    "      <td>insured_sex</td>\n",
    "      <td>Represents the gender of the insured person.</td>\n",
    "    </tr>\n",
    "    <tr>\n",
    "      <td>insured_education_level</td>\n",
    "      <td>Represents the highest educational qualification of the insured person.</td>\n",
    "    </tr>\n",
    "    <tr>\n",
    "      <td>insured_occupation</td>\n",
    "      <td>Represents the profession or job of the insured person.</td>\n",
    "    </tr>\n",
    "    <tr>\n",
    "      <td>insured_hobbies</td>\n",
    "      <td>Represents the hobbies or leisure activities of the insured person.</td>\n",
    "    </tr>\n",
    "    <tr>\n",
    "      <td>insured_relationship</td>\n",
    "      <td>Represents the relationship of the insured person to the policyholder.</td>\n",
    "    </tr>\n",
    "    <tr>\n",
    "      <td>capital-gains</td>\n",
    "      <td>Represents the profit earned from the sale of assets such as stocks, bonds, or real estate.</td>\n",
    "    </tr>\n",
    "    <tr>\n",
    "      <td>capital-loss</td>\n",
    "      <td>Represents the loss incurred from the sale of assets such as stocks, bonds, or real estate.</td>\n",
    "    </tr>\n",
    "    <tr>\n",
    "      <td>incident_date</td>\n",
    "      <td>Represents the date when the incident or accident occurred.</td>\n",
    "    </tr>\n",
    "    <tr>\n",
    "      <td>incident_type</td>\n",
    "      <td>Represents the category or type of incident that led to the claim.</td>\n",
    "    </tr>\n",
    "    <tr>\n",
    "      <td>collision_type</td>\n",
    "      <td>Represents the type of collision that occurred in an accident.</td>\n",
    "    </tr>\n",
    "    <tr>\n",
    "      <td>incident_severity</td>\n",
    "      <td>Represents the extent of damage or injury caused by the incident.</td>\n",
    "    </tr>\n",
    "    <tr>\n",
    "      <td>authorities_contacted</td>\n",
    "      <td>Represents the authorities or agencies that were contacted after the incident.</td>\n",
    "    </tr>\n",
    "    <tr>\n",
    "      <td>incident_state</td>\n",
    "      <td>Represents the state where the incident occurred.</td>\n",
    "    </tr>\n",
    "    <tr>\n",
    "      <td>incident_city</td>\n",
    "      <td>Represents the city where the incident occurred.</td>\n",
    "    </tr>\n",
    "    <tr>\n",
    "      <td>incident_location</td>\n",
    "      <td>Represents the specific location or address where the incident occurred.</td>\n",
    "    </tr>\n",
    "    <tr>\n",
    "      <td>incident_hour_of_the_day</td>\n",
    "      <td>Represents the hour of the day when the incident occurred.</td>\n",
    "    </tr>\n",
    "    <tr>\n",
    "      <td>number_of_vehicles_involved</td>\n",
    "      <td>Represents the total number of vehicles involved in the incident.</td>\n",
    "    </tr>\n",
    "    <tr>\n",
    "      <td>property_damage</td>\n",
    "      <td>Represents whether there was any damage to property in the incident.</td>\n",
    "    </tr>\n",
    "    <tr>\n",
    "      <td>bodily_injuries</td>\n",
    "      <td>Represents the number of bodily injuries resulting from the incident.</td>\n",
    "    </tr>\n",
    "    <tr>\n",
    "      <td>witnesses</td>\n",
    "      <td>Represents the number of witnesses present at the scene of the incident.</td>\n",
    "    </tr>\n",
    "    <tr>\n",
    "      <td>police_report_available</td>\n",
    "      <td>Represents whether a police report is available for the incident.</td>\n",
    "    </tr>\n",
    "    <tr>\n",
    "      <td>total_claim_amount</td>\n",
    "      <td>Represents the total amount claimed by the insured person for the incident.</td>\n",
    "    </tr>\n",
    "    <tr>\n",
    "      <td>injury_claim</td>\n",
    "      <td>Represents the amount claimed for injuries sustained in the incident.</td>\n",
    "    </tr>\n",
    "    <tr>\n",
    "      <td>property_claim</td>\n",
    "      <td>Represents the amount claimed for property damage in the incident.</td>\n",
    "    </tr>\n",
    "    <tr>\n",
    "      <td>vehicle_claim</td>\n",
    "      <td>Represents the amount claimed for vehicle damage in the incident.</td>\n",
    "    </tr>\n",
    "    <tr>\n",
    "      <td>auto_make</td>\n",
    "      <td>Represents the manufacturer of the insured vehicle.</td>\n",
    "    </tr>\n",
    "    <tr>\n",
    "      <td>auto_model</td>\n",
    "      <td>Represents the specific model of the insured vehicle.</td>\n",
    "    </tr>\n",
    "    <tr>\n",
    "      <td>auto_year</td>\n",
    "      <td>Represents the year of manufacture of the insured vehicle.</td>\n",
    "    </tr>\n",
    "    <tr>\n",
    "      <td>fraud_reported</td>\n",
    "      <td>Represents whether the claim was reported as fraudulent or not.</td>\n",
    "    </tr>\n",
    "    <tr>\n",
    "      <td>_c39</td>\n",
    "      <td>Represents an unknown or unspecified variable.</td>\n",
    "    </tr>\n",
    "  </tbody>\n",
    "</table>"
   ]
  },
  {
   "cell_type": "markdown",
   "metadata": {
    "id": "2Hfg3nHjDPWY"
   },
   "source": [
    "## **1. Data Preparation**\n",
    "In this step, read the dataset provided in CSV format and look at basic statistics of the data, including preview of data, dimension of data, column descriptions and data types."
   ]
  },
  {
   "cell_type": "markdown",
   "metadata": {
    "id": "2xZBs5L_DPWY"
   },
   "source": [
    "### **1.0 Import Libraries**"
   ]
  },
  {
   "cell_type": "code",
   "execution_count": 106,
   "metadata": {
    "id": "2xUZYP92DPWY"
   },
   "outputs": [],
   "source": [
    "# Supress unnecessary warnings\n",
    "import warnings\n",
    "warnings.filterwarnings(\"ignore\")"
   ]
  },
  {
   "cell_type": "code",
   "execution_count": 107,
   "metadata": {
    "id": "6glz5HkPDPWZ"
   },
   "outputs": [],
   "source": [
    "# Import necessary libraries\n",
    "import numpy as np\n",
    "import pandas as pd\n",
    "import seaborn as sns\n",
    "import matplotlib.pyplot as plt"
   ]
  },
  {
   "cell_type": "markdown",
   "metadata": {
    "id": "D8-RBUdWDPWZ"
   },
   "source": [
    "### **1.1 Load the Data**"
   ]
  },
  {
   "cell_type": "code",
   "execution_count": 108,
   "metadata": {
    "id": "kP0JaSjJDPWZ"
   },
   "outputs": [],
   "source": [
    "# Load the dataset\n",
    "df = pd.read_csv('insurance_claims.csv')\n"
   ]
  },
  {
   "cell_type": "code",
   "execution_count": 109,
   "metadata": {
    "id": "qaR4TkqTDPWZ"
   },
   "outputs": [
    {
     "data": {
      "text/html": [
       "<div>\n",
       "<style scoped>\n",
       "    .dataframe tbody tr th:only-of-type {\n",
       "        vertical-align: middle;\n",
       "    }\n",
       "\n",
       "    .dataframe tbody tr th {\n",
       "        vertical-align: top;\n",
       "    }\n",
       "\n",
       "    .dataframe thead th {\n",
       "        text-align: right;\n",
       "    }\n",
       "</style>\n",
       "<table border=\"1\" class=\"dataframe\">\n",
       "  <thead>\n",
       "    <tr style=\"text-align: right;\">\n",
       "      <th></th>\n",
       "      <th>months_as_customer</th>\n",
       "      <th>age</th>\n",
       "      <th>policy_number</th>\n",
       "      <th>policy_bind_date</th>\n",
       "      <th>policy_state</th>\n",
       "      <th>policy_csl</th>\n",
       "      <th>policy_deductable</th>\n",
       "      <th>policy_annual_premium</th>\n",
       "      <th>umbrella_limit</th>\n",
       "      <th>insured_zip</th>\n",
       "      <th>...</th>\n",
       "      <th>police_report_available</th>\n",
       "      <th>total_claim_amount</th>\n",
       "      <th>injury_claim</th>\n",
       "      <th>property_claim</th>\n",
       "      <th>vehicle_claim</th>\n",
       "      <th>auto_make</th>\n",
       "      <th>auto_model</th>\n",
       "      <th>auto_year</th>\n",
       "      <th>fraud_reported</th>\n",
       "      <th>_c39</th>\n",
       "    </tr>\n",
       "  </thead>\n",
       "  <tbody>\n",
       "    <tr>\n",
       "      <th>0</th>\n",
       "      <td>328</td>\n",
       "      <td>48</td>\n",
       "      <td>521585</td>\n",
       "      <td>2014-10-17</td>\n",
       "      <td>OH</td>\n",
       "      <td>250/500</td>\n",
       "      <td>1000</td>\n",
       "      <td>1406.91</td>\n",
       "      <td>0</td>\n",
       "      <td>466132</td>\n",
       "      <td>...</td>\n",
       "      <td>YES</td>\n",
       "      <td>71610</td>\n",
       "      <td>6510</td>\n",
       "      <td>13020</td>\n",
       "      <td>52080</td>\n",
       "      <td>Saab</td>\n",
       "      <td>92x</td>\n",
       "      <td>2004</td>\n",
       "      <td>Y</td>\n",
       "      <td>NaN</td>\n",
       "    </tr>\n",
       "    <tr>\n",
       "      <th>1</th>\n",
       "      <td>228</td>\n",
       "      <td>42</td>\n",
       "      <td>342868</td>\n",
       "      <td>2006-06-27</td>\n",
       "      <td>IN</td>\n",
       "      <td>250/500</td>\n",
       "      <td>2000</td>\n",
       "      <td>1197.22</td>\n",
       "      <td>5000000</td>\n",
       "      <td>468176</td>\n",
       "      <td>...</td>\n",
       "      <td>?</td>\n",
       "      <td>5070</td>\n",
       "      <td>780</td>\n",
       "      <td>780</td>\n",
       "      <td>3510</td>\n",
       "      <td>Mercedes</td>\n",
       "      <td>E400</td>\n",
       "      <td>2007</td>\n",
       "      <td>Y</td>\n",
       "      <td>NaN</td>\n",
       "    </tr>\n",
       "    <tr>\n",
       "      <th>2</th>\n",
       "      <td>134</td>\n",
       "      <td>29</td>\n",
       "      <td>687698</td>\n",
       "      <td>2000-09-06</td>\n",
       "      <td>OH</td>\n",
       "      <td>100/300</td>\n",
       "      <td>2000</td>\n",
       "      <td>1413.14</td>\n",
       "      <td>5000000</td>\n",
       "      <td>430632</td>\n",
       "      <td>...</td>\n",
       "      <td>NO</td>\n",
       "      <td>34650</td>\n",
       "      <td>7700</td>\n",
       "      <td>3850</td>\n",
       "      <td>23100</td>\n",
       "      <td>Dodge</td>\n",
       "      <td>RAM</td>\n",
       "      <td>2007</td>\n",
       "      <td>N</td>\n",
       "      <td>NaN</td>\n",
       "    </tr>\n",
       "    <tr>\n",
       "      <th>3</th>\n",
       "      <td>256</td>\n",
       "      <td>41</td>\n",
       "      <td>227811</td>\n",
       "      <td>1990-05-25</td>\n",
       "      <td>IL</td>\n",
       "      <td>250/500</td>\n",
       "      <td>2000</td>\n",
       "      <td>1415.74</td>\n",
       "      <td>6000000</td>\n",
       "      <td>608117</td>\n",
       "      <td>...</td>\n",
       "      <td>NO</td>\n",
       "      <td>63400</td>\n",
       "      <td>6340</td>\n",
       "      <td>6340</td>\n",
       "      <td>50720</td>\n",
       "      <td>Chevrolet</td>\n",
       "      <td>Tahoe</td>\n",
       "      <td>2014</td>\n",
       "      <td>Y</td>\n",
       "      <td>NaN</td>\n",
       "    </tr>\n",
       "    <tr>\n",
       "      <th>4</th>\n",
       "      <td>228</td>\n",
       "      <td>44</td>\n",
       "      <td>367455</td>\n",
       "      <td>2014-06-06</td>\n",
       "      <td>IL</td>\n",
       "      <td>500/1000</td>\n",
       "      <td>1000</td>\n",
       "      <td>1583.91</td>\n",
       "      <td>6000000</td>\n",
       "      <td>610706</td>\n",
       "      <td>...</td>\n",
       "      <td>NO</td>\n",
       "      <td>6500</td>\n",
       "      <td>1300</td>\n",
       "      <td>650</td>\n",
       "      <td>4550</td>\n",
       "      <td>Accura</td>\n",
       "      <td>RSX</td>\n",
       "      <td>2009</td>\n",
       "      <td>N</td>\n",
       "      <td>NaN</td>\n",
       "    </tr>\n",
       "  </tbody>\n",
       "</table>\n",
       "<p>5 rows × 40 columns</p>\n",
       "</div>"
      ],
      "text/plain": [
       "   months_as_customer  age  policy_number policy_bind_date policy_state  \\\n",
       "0                 328   48         521585       2014-10-17           OH   \n",
       "1                 228   42         342868       2006-06-27           IN   \n",
       "2                 134   29         687698       2000-09-06           OH   \n",
       "3                 256   41         227811       1990-05-25           IL   \n",
       "4                 228   44         367455       2014-06-06           IL   \n",
       "\n",
       "  policy_csl  policy_deductable  policy_annual_premium  umbrella_limit  \\\n",
       "0    250/500               1000                1406.91               0   \n",
       "1    250/500               2000                1197.22         5000000   \n",
       "2    100/300               2000                1413.14         5000000   \n",
       "3    250/500               2000                1415.74         6000000   \n",
       "4   500/1000               1000                1583.91         6000000   \n",
       "\n",
       "   insured_zip  ... police_report_available total_claim_amount injury_claim  \\\n",
       "0       466132  ...                     YES              71610         6510   \n",
       "1       468176  ...                       ?               5070          780   \n",
       "2       430632  ...                      NO              34650         7700   \n",
       "3       608117  ...                      NO              63400         6340   \n",
       "4       610706  ...                      NO               6500         1300   \n",
       "\n",
       "  property_claim vehicle_claim  auto_make  auto_model auto_year  \\\n",
       "0          13020         52080       Saab         92x      2004   \n",
       "1            780          3510   Mercedes        E400      2007   \n",
       "2           3850         23100      Dodge         RAM      2007   \n",
       "3           6340         50720  Chevrolet       Tahoe      2014   \n",
       "4            650          4550     Accura         RSX      2009   \n",
       "\n",
       "  fraud_reported _c39  \n",
       "0              Y  NaN  \n",
       "1              Y  NaN  \n",
       "2              N  NaN  \n",
       "3              Y  NaN  \n",
       "4              N  NaN  \n",
       "\n",
       "[5 rows x 40 columns]"
      ]
     },
     "execution_count": 109,
     "metadata": {},
     "output_type": "execute_result"
    }
   ],
   "source": [
    "# Check at the first few entries\n",
    "df.head()"
   ]
  },
  {
   "cell_type": "code",
   "execution_count": 110,
   "metadata": {
    "id": "TK9_lipzDPWa"
   },
   "outputs": [
    {
     "data": {
      "text/plain": [
       "(1000, 40)"
      ]
     },
     "execution_count": 110,
     "metadata": {},
     "output_type": "execute_result"
    }
   ],
   "source": [
    "# Inspect the shape of the dataset\n",
    "df.shape"
   ]
  },
  {
   "cell_type": "code",
   "execution_count": 111,
   "metadata": {
    "id": "Fd0PADNIuqov"
   },
   "outputs": [
    {
     "name": "stdout",
     "output_type": "stream",
     "text": [
      "<class 'pandas.core.frame.DataFrame'>\n",
      "RangeIndex: 1000 entries, 0 to 999\n",
      "Data columns (total 40 columns):\n",
      " #   Column                       Non-Null Count  Dtype  \n",
      "---  ------                       --------------  -----  \n",
      " 0   months_as_customer           1000 non-null   int64  \n",
      " 1   age                          1000 non-null   int64  \n",
      " 2   policy_number                1000 non-null   int64  \n",
      " 3   policy_bind_date             1000 non-null   object \n",
      " 4   policy_state                 1000 non-null   object \n",
      " 5   policy_csl                   1000 non-null   object \n",
      " 6   policy_deductable            1000 non-null   int64  \n",
      " 7   policy_annual_premium        1000 non-null   float64\n",
      " 8   umbrella_limit               1000 non-null   int64  \n",
      " 9   insured_zip                  1000 non-null   int64  \n",
      " 10  insured_sex                  1000 non-null   object \n",
      " 11  insured_education_level      1000 non-null   object \n",
      " 12  insured_occupation           1000 non-null   object \n",
      " 13  insured_hobbies              1000 non-null   object \n",
      " 14  insured_relationship         1000 non-null   object \n",
      " 15  capital-gains                1000 non-null   int64  \n",
      " 16  capital-loss                 1000 non-null   int64  \n",
      " 17  incident_date                1000 non-null   object \n",
      " 18  incident_type                1000 non-null   object \n",
      " 19  collision_type               1000 non-null   object \n",
      " 20  incident_severity            1000 non-null   object \n",
      " 21  authorities_contacted        1000 non-null   object \n",
      " 22  incident_state               1000 non-null   object \n",
      " 23  incident_city                1000 non-null   object \n",
      " 24  incident_location            1000 non-null   object \n",
      " 25  incident_hour_of_the_day     1000 non-null   int64  \n",
      " 26  number_of_vehicles_involved  1000 non-null   int64  \n",
      " 27  property_damage              1000 non-null   object \n",
      " 28  bodily_injuries              1000 non-null   int64  \n",
      " 29  witnesses                    1000 non-null   int64  \n",
      " 30  police_report_available      1000 non-null   object \n",
      " 31  total_claim_amount           1000 non-null   int64  \n",
      " 32  injury_claim                 1000 non-null   int64  \n",
      " 33  property_claim               1000 non-null   int64  \n",
      " 34  vehicle_claim                1000 non-null   int64  \n",
      " 35  auto_make                    1000 non-null   object \n",
      " 36  auto_model                   1000 non-null   object \n",
      " 37  auto_year                    1000 non-null   int64  \n",
      " 38  fraud_reported               1000 non-null   object \n",
      " 39  _c39                         0 non-null      float64\n",
      "dtypes: float64(2), int64(17), object(21)\n",
      "memory usage: 312.6+ KB\n"
     ]
    }
   ],
   "source": [
    "# Inspect the features in the dataset\n",
    "df.info()"
   ]
  },
  {
   "cell_type": "markdown",
   "metadata": {
    "id": "YRijmf2EDPWa"
   },
   "source": [
    "## **2. Data Cleaning** <font color = red>[10 marks]</font>"
   ]
  },
  {
   "cell_type": "markdown",
   "metadata": {
    "id": "DxXOACINDPWa"
   },
   "source": [
    "### **2.1 Handle null values** <font color = red>[2 marks]</font>"
   ]
  },
  {
   "cell_type": "markdown",
   "metadata": {
    "id": "kJDjZSkmDPWa"
   },
   "source": [
    "#### **2.1.1** Examine the columns to determine if any value or column needs to be treated <font color=\"red\">[1 Mark]</font>"
   ]
  },
  {
   "cell_type": "code",
   "execution_count": 112,
   "metadata": {
    "id": "3B4OtvQlDPWa"
   },
   "outputs": [
    {
     "data": {
      "text/plain": [
       "months_as_customer                0\n",
       "age                               0\n",
       "policy_number                     0\n",
       "policy_bind_date                  0\n",
       "policy_state                      0\n",
       "policy_csl                        0\n",
       "policy_deductable                 0\n",
       "policy_annual_premium             0\n",
       "umbrella_limit                    0\n",
       "insured_zip                       0\n",
       "insured_sex                       0\n",
       "insured_education_level           0\n",
       "insured_occupation                0\n",
       "insured_hobbies                   0\n",
       "insured_relationship              0\n",
       "capital-gains                     0\n",
       "capital-loss                      0\n",
       "incident_date                     0\n",
       "incident_type                     0\n",
       "collision_type                    0\n",
       "incident_severity                 0\n",
       "authorities_contacted             0\n",
       "incident_state                    0\n",
       "incident_city                     0\n",
       "incident_location                 0\n",
       "incident_hour_of_the_day          0\n",
       "number_of_vehicles_involved       0\n",
       "property_damage                   0\n",
       "bodily_injuries                   0\n",
       "witnesses                         0\n",
       "police_report_available           0\n",
       "total_claim_amount                0\n",
       "injury_claim                      0\n",
       "property_claim                    0\n",
       "vehicle_claim                     0\n",
       "auto_make                         0\n",
       "auto_model                        0\n",
       "auto_year                         0\n",
       "fraud_reported                    0\n",
       "_c39                           1000\n",
       "dtype: int64"
      ]
     },
     "execution_count": 112,
     "metadata": {},
     "output_type": "execute_result"
    }
   ],
   "source": [
    "# Check the number of missing values in each column\n",
    "df.isnull().sum()\n"
   ]
  },
  {
   "cell_type": "markdown",
   "metadata": {
    "id": "AE6K2iqkDPWb"
   },
   "source": [
    "#### **2.1.2** Handle rows containing null values <font color=\"red\">[1 Mark]</font>"
   ]
  },
  {
   "cell_type": "code",
   "execution_count": 113,
   "metadata": {
    "id": "88PX2r5hDPWb"
   },
   "outputs": [],
   "source": [
    "# Handle the rows containing null values\n",
    "\n",
    "# 2. Fill missing authorities_contacted\n",
    "df['authorities_contacted'] = df['authorities_contacted'].fillna('None Reported')\n"
   ]
  },
  {
   "cell_type": "code",
   "execution_count": 114,
   "metadata": {},
   "outputs": [
    {
     "data": {
      "text/plain": [
       "(1000, 40)"
      ]
     },
     "execution_count": 114,
     "metadata": {},
     "output_type": "execute_result"
    }
   ],
   "source": [
    "df.shape"
   ]
  },
  {
   "cell_type": "markdown",
   "metadata": {
    "id": "202JyqOjDPWb"
   },
   "source": [
    "### **2.2 Identify and handle redundant values and columns** <font color = red>[5 marks]</font>"
   ]
  },
  {
   "cell_type": "markdown",
   "metadata": {
    "id": "fSh2wYZoDPWb"
   },
   "source": [
    "#### **2.2.1** Examine the columns to determine if any value or column needs to be treated <font color=\"red\">[2 Mark]</font>"
   ]
  },
  {
   "cell_type": "code",
   "execution_count": 115,
   "metadata": {
    "id": "1x0Cn8BiDPWb"
   },
   "outputs": [
    {
     "name": "stdout",
     "output_type": "stream",
     "text": [
      "                             unique_count  \\\n",
      "months_as_customer                    391   \n",
      "age                                    46   \n",
      "policy_number                        1000   \n",
      "policy_bind_date                      951   \n",
      "policy_state                            3   \n",
      "policy_csl                              3   \n",
      "policy_deductable                       3   \n",
      "policy_annual_premium                 991   \n",
      "umbrella_limit                         11   \n",
      "insured_zip                           995   \n",
      "insured_sex                             2   \n",
      "insured_education_level                 7   \n",
      "insured_occupation                     14   \n",
      "insured_hobbies                        20   \n",
      "insured_relationship                    6   \n",
      "capital-gains                         338   \n",
      "capital-loss                          354   \n",
      "incident_date                          60   \n",
      "incident_type                           4   \n",
      "collision_type                          4   \n",
      "incident_severity                       4   \n",
      "authorities_contacted                   5   \n",
      "incident_state                          7   \n",
      "incident_city                           7   \n",
      "incident_location                    1000   \n",
      "incident_hour_of_the_day               24   \n",
      "number_of_vehicles_involved             4   \n",
      "property_damage                         3   \n",
      "bodily_injuries                         3   \n",
      "witnesses                               4   \n",
      "police_report_available                 3   \n",
      "total_claim_amount                    763   \n",
      "injury_claim                          638   \n",
      "property_claim                        626   \n",
      "vehicle_claim                         726   \n",
      "auto_make                              14   \n",
      "auto_model                             39   \n",
      "auto_year                              21   \n",
      "fraud_reported                          2   \n",
      "_c39                                    1   \n",
      "\n",
      "                                                                    top_values  \n",
      "months_as_customer                                    {194: 8, 128: 7, 254: 7}  \n",
      "age                                                   {43: 49, 39: 48, 41: 45}  \n",
      "policy_number                                {521585: 1, 687755: 1, 674485: 1}  \n",
      "policy_bind_date             {'2006-01-01': 3, '1992-04-28': 3, '1992-08-05...  \n",
      "policy_state                                 {'OH': 352, 'IL': 338, 'IN': 310}  \n",
      "policy_csl                   {'250/500': 351, '100/300': 349, '500/1000': 300}  \n",
      "policy_deductable                             {1000: 351, 500: 342, 2000: 307}  \n",
      "policy_annual_premium                     {1558.29: 2, 1215.36: 2, 1362.87: 2}  \n",
      "umbrella_limit                              {0: 798, 6000000: 57, 5000000: 46}  \n",
      "insured_zip                                  {477695: 2, 469429: 2, 446895: 2}  \n",
      "insured_sex                                       {'FEMALE': 537, 'MALE': 463}  \n",
      "insured_education_level      {'JD': 161, 'High School': 160, 'Associate': 145}  \n",
      "insured_occupation           {'machine-op-inspct': 93, 'prof-specialty': 85...  \n",
      "insured_hobbies               {'reading': 64, 'exercise': 57, 'paintball': 57}  \n",
      "insured_relationship         {'own-child': 183, 'other-relative': 177, 'not...  \n",
      "capital-gains                                     {0: 508, 46300: 5, 51500: 4}  \n",
      "capital-loss                                    {0: 475, -31700: 5, -53700: 5}  \n",
      "incident_date                {'2015-02-02': 28, '2015-02-17': 26, '2015-01-...  \n",
      "incident_type                {'Multi-vehicle Collision': 419, 'Single Vehic...  \n",
      "collision_type               {'Rear Collision': 292, 'Side Collision': 276,...  \n",
      "incident_severity            {'Minor Damage': 354, 'Total Loss': 280, 'Majo...  \n",
      "authorities_contacted               {'Police': 292, 'Fire': 223, 'Other': 198}  \n",
      "incident_state                               {'NY': 262, 'SC': 248, 'WV': 217}  \n",
      "incident_city                {'Springfield': 157, 'Arlington': 152, 'Columb...  \n",
      "incident_location            {'9935 4th Drive': 1, '4214 MLK Ridge': 1, '85...  \n",
      "incident_hour_of_the_day                                {17: 54, 3: 53, 0: 52}  \n",
      "number_of_vehicles_involved                            {1: 581, 3: 358, 4: 31}  \n",
      "property_damage                              {'?': 360, 'NO': 338, 'YES': 302}  \n",
      "bodily_injuries                                       {0: 340, 2: 332, 1: 328}  \n",
      "witnesses                                             {1: 258, 2: 250, 0: 249}  \n",
      "police_report_available                      {'?': 343, 'NO': 343, 'YES': 314}  \n",
      "total_claim_amount                               {59400: 5, 2640: 4, 70400: 4}  \n",
      "injury_claim                                           {0: 25, 640: 7, 480: 7}  \n",
      "property_claim                                         {0: 19, 860: 6, 480: 5}  \n",
      "vehicle_claim                                     {5040: 7, 3360: 6, 52080: 5}  \n",
      "auto_make                              {'Saab': 80, 'Dodge': 80, 'Suburu': 80}  \n",
      "auto_model                               {'RAM': 43, 'Wrangler': 42, 'A3': 37}  \n",
      "auto_year                                       {1995: 56, 1999: 55, 2005: 54}  \n",
      "fraud_reported                                            {'N': 753, 'Y': 247}  \n",
      "_c39                                                               {nan: 1000}  \n"
     ]
    }
   ],
   "source": [
    "# Write code to display all the columns with their unique values and counts and check for redundant values\n",
    "summary = pd.DataFrame({\n",
    "    'unique_count': df.nunique(dropna=False),\n",
    "    'top_values': df.apply(lambda x: x.value_counts(dropna=False).head(3).to_dict())\n",
    "})\n",
    "print(summary)\n"
   ]
  },
  {
   "cell_type": "markdown",
   "metadata": {
    "id": "RRIhr3ZwDPWb"
   },
   "source": [
    "#### **2.2.2** Identify and drop any columns that are completely empty <font color=\"red\">[1 Mark]</font>"
   ]
  },
  {
   "cell_type": "code",
   "execution_count": 116,
   "metadata": {
    "id": "9vLZf8ExDPWb"
   },
   "outputs": [],
   "source": [
    "# Identify and drop any columns that are completely empty\n",
    "# Dropping the _c39 column as it is completely empty\n",
    "df = df.drop(columns=['_c39'])\n"
   ]
  },
  {
   "cell_type": "code",
   "execution_count": 117,
   "metadata": {},
   "outputs": [
    {
     "data": {
      "text/plain": [
       "(1000, 39)"
      ]
     },
     "execution_count": 117,
     "metadata": {},
     "output_type": "execute_result"
    }
   ],
   "source": [
    "df.shape"
   ]
  },
  {
   "cell_type": "markdown",
   "metadata": {
    "id": "1Cx8douODPWd"
   },
   "source": [
    "#### **2.2.3** Identify and drop rows where features have illogical or invalid values, such as negative values for features that should only have positive values <font color=\"red\">[1 Mark]</font>"
   ]
  },
  {
   "cell_type": "code",
   "execution_count": 118,
   "metadata": {
    "id": "U5oARc23DPWd"
   },
   "outputs": [
    {
     "name": "stdout",
     "output_type": "stream",
     "text": [
      "Dropped rows with umbrella limit less than 0 (999, 39)\n"
     ]
    }
   ],
   "source": [
    "# Identify and drop rows where features have illogical or invalid values, such as negative values for features that should only have positive values\n",
    "# Since umbrella limit cannot be negative hence dropping the rows that have umbrella limit less than 0\n",
    "\n",
    "df= df[df['umbrella_limit'] >= 0]\n",
    "print(\"Dropped rows with umbrella limit less than 0\",df.shape)"
   ]
  },
  {
   "cell_type": "code",
   "execution_count": 119,
   "metadata": {},
   "outputs": [
    {
     "name": "stdout",
     "output_type": "stream",
     "text": [
      "Negative capital-gains rows: 0\n",
      "Negative capital-loss rows: 525\n",
      "capital-gains    0\n",
      "capital-loss     0\n",
      "dtype: int64\n"
     ]
    }
   ],
   "source": [
    "# 1. Identify how many “wrong‑signed” values exist\n",
    "neg_gains_count = (df['capital-gains'] < 0).sum()\n",
    "neg_losses_count = (df['capital-loss'] < 0).sum()\n",
    "print(f\"Negative capital-gains rows: {neg_gains_count}\")\n",
    "print(f\"Negative capital-loss rows: {neg_losses_count}\")\n",
    "\n",
    "# 2. Convert any negatives to absolute values\n",
    "df[['capital-gains', 'capital-loss']] = df[['capital-gains', 'capital-loss']].abs()\n",
    "\n",
    "# 3. Verify there are no more negatives\n",
    "print(df[['capital-gains', 'capital-loss']].min())\n"
   ]
  },
  {
   "cell_type": "code",
   "execution_count": 120,
   "metadata": {},
   "outputs": [
    {
     "name": "stdout",
     "output_type": "stream",
     "text": [
      "Value counts for collision_type:\n",
      "Rear Collision     292\n",
      "Side Collision     275\n",
      "Front Collision    254\n",
      "Unknown            178\n",
      "Name: collision_type, dtype: int64\n",
      "\n",
      "Value counts for police_report_available:\n",
      "NO         343\n",
      "Unknown    342\n",
      "YES        314\n",
      "Name: police_report_available, dtype: int64\n",
      "\n",
      "Value counts for property_damage:\n",
      "Unknown    360\n",
      "NO         338\n",
      "YES        301\n",
      "Name: property_damage, dtype: int64\n",
      "\n"
     ]
    }
   ],
   "source": [
    "# Define the columns to clean\n",
    "unknown_category_cols = ['collision_type', 'police_report_available', 'property_damage']\n",
    "\n",
    "# Replace '?' with 'Unknown' in each column\n",
    "for col in unknown_category_cols:\n",
    "    df[col] = df[col].replace('?', 'Unknown')\n",
    "    # Print the updated value counts\n",
    "    print(f\"Value counts for {col}:\\n{df[col].value_counts(dropna=False)}\\n\")\n"
   ]
  },
  {
   "cell_type": "markdown",
   "metadata": {
    "id": "XTGMKeeNDPWd"
   },
   "source": [
    "#### **2.2.4** Identify and remove columns where a large proportion of the values are unique or near-unique, as these columns are likely to be identifiers or have very limited predictive power <font color=\"red\">[1 Mark]</font>"
   ]
  },
  {
   "cell_type": "code",
   "execution_count": 121,
   "metadata": {
    "id": "U4LXO65UDPWd"
   },
   "outputs": [
    {
     "name": "stdout",
     "output_type": "stream",
     "text": [
      "Columns with more than 90% unique values\n",
      "policy_number            100.000000\n",
      "policy_bind_date          95.095095\n",
      "policy_annual_premium     99.099099\n",
      "insured_zip               99.499499\n",
      "incident_location        100.000000\n",
      "dtype: float64\n",
      "Dropped columns Index(['policy_number', 'policy_bind_date', 'policy_annual_premium',\n",
      "       'insured_zip', 'incident_location'],\n",
      "      dtype='object') successfully\n"
     ]
    }
   ],
   "source": [
    "# Identify and remove columns that are likely to be identifiers or have very limited predictive power\n",
    "unique_percentage = (df.nunique() / len(df)) * 100\n",
    "\n",
    "threshold = 90\n",
    "unique_cols = unique_percentage[unique_percentage > threshold]\n",
    "print(\"Columns with more than 90% unique values\",unique_cols,sep='\\n')\n",
    "\n",
    "# Dropping columns\n",
    "df.drop(columns=unique_cols.index, axis = 1, inplace=True)\n",
    "print(f'Dropped columns {unique_cols.index} successfully')\n"
   ]
  },
  {
   "cell_type": "code",
   "execution_count": 122,
   "metadata": {
    "id": "KzHx2BzPDPWd"
   },
   "outputs": [
    {
     "name": "stdout",
     "output_type": "stream",
     "text": [
      "<class 'pandas.core.frame.DataFrame'>\n",
      "Int64Index: 999 entries, 0 to 999\n",
      "Data columns (total 34 columns):\n",
      " #   Column                       Non-Null Count  Dtype \n",
      "---  ------                       --------------  ----- \n",
      " 0   months_as_customer           999 non-null    int64 \n",
      " 1   age                          999 non-null    int64 \n",
      " 2   policy_state                 999 non-null    object\n",
      " 3   policy_csl                   999 non-null    object\n",
      " 4   policy_deductable            999 non-null    int64 \n",
      " 5   umbrella_limit               999 non-null    int64 \n",
      " 6   insured_sex                  999 non-null    object\n",
      " 7   insured_education_level      999 non-null    object\n",
      " 8   insured_occupation           999 non-null    object\n",
      " 9   insured_hobbies              999 non-null    object\n",
      " 10  insured_relationship         999 non-null    object\n",
      " 11  capital-gains                999 non-null    int64 \n",
      " 12  capital-loss                 999 non-null    int64 \n",
      " 13  incident_date                999 non-null    object\n",
      " 14  incident_type                999 non-null    object\n",
      " 15  collision_type               999 non-null    object\n",
      " 16  incident_severity            999 non-null    object\n",
      " 17  authorities_contacted        999 non-null    object\n",
      " 18  incident_state               999 non-null    object\n",
      " 19  incident_city                999 non-null    object\n",
      " 20  incident_hour_of_the_day     999 non-null    int64 \n",
      " 21  number_of_vehicles_involved  999 non-null    int64 \n",
      " 22  property_damage              999 non-null    object\n",
      " 23  bodily_injuries              999 non-null    int64 \n",
      " 24  witnesses                    999 non-null    int64 \n",
      " 25  police_report_available      999 non-null    object\n",
      " 26  total_claim_amount           999 non-null    int64 \n",
      " 27  injury_claim                 999 non-null    int64 \n",
      " 28  property_claim               999 non-null    int64 \n",
      " 29  vehicle_claim                999 non-null    int64 \n",
      " 30  auto_make                    999 non-null    object\n",
      " 31  auto_model                   999 non-null    object\n",
      " 32  auto_year                    999 non-null    int64 \n",
      " 33  fraud_reported               999 non-null    object\n",
      "dtypes: int64(15), object(19)\n",
      "memory usage: 273.2+ KB\n"
     ]
    }
   ],
   "source": [
    "# Check the dataset\n",
    "df.info()"
   ]
  },
  {
   "cell_type": "markdown",
   "metadata": {
    "id": "nAvSdxKBDPWe"
   },
   "source": [
    "### **2.3 Fix Data Types** <font color = red>[3 marks]</font>\n",
    "Carefully examine the dataset and identify columns that contain date or time information but are not stored as the appropriate data type. Convert these columns to the correct datetime data type to enable proper analysis and manipulation of temporal information."
   ]
  },
  {
   "cell_type": "code",
   "execution_count": 123,
   "metadata": {
    "id": "WIycvsINDPWe"
   },
   "outputs": [],
   "source": [
    "# Fix the data types of the columns with incorrect data types\n",
    "date_time_cols = ['incident_date']\n",
    "for cols in date_time_cols:\n",
    "    df[cols] = pd.to_datetime(df[cols])"
   ]
  },
  {
   "cell_type": "code",
   "execution_count": 124,
   "metadata": {
    "id": "kl0jWZNEDPWe"
   },
   "outputs": [
    {
     "name": "stdout",
     "output_type": "stream",
     "text": [
      "<class 'pandas.core.frame.DataFrame'>\n",
      "Int64Index: 999 entries, 0 to 999\n",
      "Data columns (total 34 columns):\n",
      " #   Column                       Non-Null Count  Dtype         \n",
      "---  ------                       --------------  -----         \n",
      " 0   months_as_customer           999 non-null    int64         \n",
      " 1   age                          999 non-null    int64         \n",
      " 2   policy_state                 999 non-null    object        \n",
      " 3   policy_csl                   999 non-null    object        \n",
      " 4   policy_deductable            999 non-null    int64         \n",
      " 5   umbrella_limit               999 non-null    int64         \n",
      " 6   insured_sex                  999 non-null    object        \n",
      " 7   insured_education_level      999 non-null    object        \n",
      " 8   insured_occupation           999 non-null    object        \n",
      " 9   insured_hobbies              999 non-null    object        \n",
      " 10  insured_relationship         999 non-null    object        \n",
      " 11  capital-gains                999 non-null    int64         \n",
      " 12  capital-loss                 999 non-null    int64         \n",
      " 13  incident_date                999 non-null    datetime64[ns]\n",
      " 14  incident_type                999 non-null    object        \n",
      " 15  collision_type               999 non-null    object        \n",
      " 16  incident_severity            999 non-null    object        \n",
      " 17  authorities_contacted        999 non-null    object        \n",
      " 18  incident_state               999 non-null    object        \n",
      " 19  incident_city                999 non-null    object        \n",
      " 20  incident_hour_of_the_day     999 non-null    int64         \n",
      " 21  number_of_vehicles_involved  999 non-null    int64         \n",
      " 22  property_damage              999 non-null    object        \n",
      " 23  bodily_injuries              999 non-null    int64         \n",
      " 24  witnesses                    999 non-null    int64         \n",
      " 25  police_report_available      999 non-null    object        \n",
      " 26  total_claim_amount           999 non-null    int64         \n",
      " 27  injury_claim                 999 non-null    int64         \n",
      " 28  property_claim               999 non-null    int64         \n",
      " 29  vehicle_claim                999 non-null    int64         \n",
      " 30  auto_make                    999 non-null    object        \n",
      " 31  auto_model                   999 non-null    object        \n",
      " 32  auto_year                    999 non-null    int64         \n",
      " 33  fraud_reported               999 non-null    object        \n",
      "dtypes: datetime64[ns](1), int64(15), object(18)\n",
      "memory usage: 273.2+ KB\n"
     ]
    }
   ],
   "source": [
    "# Check the features of the data again\n",
    "df.info()"
   ]
  },
  {
   "cell_type": "markdown",
   "metadata": {
    "id": "nXS8rflQDPWe"
   },
   "source": [
    "## **3. Train-Validation Split** <font color = red>[5 marks]</font>"
   ]
  },
  {
   "cell_type": "markdown",
   "metadata": {
    "id": "9qOELXFYDPWe"
   },
   "source": [
    "### **3.1 Import required libraries**  "
   ]
  },
  {
   "cell_type": "code",
   "execution_count": 125,
   "metadata": {
    "id": "-vJKP7g0DPWe"
   },
   "outputs": [],
   "source": [
    "# Import train-test-split\n",
    "from sklearn.model_selection import train_test_split"
   ]
  },
  {
   "cell_type": "markdown",
   "metadata": {
    "id": "-MdKqcZ-DPWe"
   },
   "source": [
    "### **3.2 Define feature and target variables** <font color = red>[2 Marks]</font>"
   ]
  },
  {
   "cell_type": "code",
   "execution_count": 126,
   "metadata": {
    "id": "qacdKTt1DPWj"
   },
   "outputs": [
    {
     "name": "stdout",
     "output_type": "stream",
     "text": [
      "Features (X) shape: (999, 33)\n",
      "Target (y) shape: (999,)\n"
     ]
    }
   ],
   "source": [
    "# Convert 'fraud_reported' from 'Y'/'N' to binary 1/0\n",
    "y = df['fraud_reported'].map({'Y': 1, 'N': 0})\n",
    "\n",
    "# Define the feature set by dropping the target column\n",
    "X = df.drop(columns=['fraud_reported'])\n",
    "\n",
    "# Display shapes\n",
    "print(\"Features (X) shape:\", X.shape)\n",
    "print(\"Target (y) shape:\", y.shape)\n"
   ]
  },
  {
   "cell_type": "markdown",
   "metadata": {
    "id": "t2JaDNlsDPWj"
   },
   "source": [
    "### **3.3 Split the data** <font color=\"red\">[3 Marks]</font>"
   ]
  },
  {
   "cell_type": "code",
   "execution_count": 127,
   "metadata": {
    "id": "7_mMlbt7DPWj"
   },
   "outputs": [
    {
     "name": "stdout",
     "output_type": "stream",
     "text": [
      "X_train (699, 33)\n",
      "X_test (300, 33)\n",
      "y_train (699,)\n",
      "y_test (300,)\n"
     ]
    }
   ],
   "source": [
    "# Split the dataset into 70% train and 30% validation and use stratification on the target variable\n",
    "X_train,X_test,y_train,y_test = train_test_split(X,y,test_size=0.3,stratify=y,random_state=42)\n",
    "\n",
    "# Reset index for all train and test sets\n",
    "X_train.reset_index(drop=True,inplace=True)\n",
    "X_test.reset_index(drop=True,inplace=True)\n",
    "y_train.reset_index(drop=True,inplace=True)\n",
    "y_test.reset_index(drop=True,inplace=True)\n",
    "\n",
    "print(\"X_train\",X_train.shape)\n",
    "print(\"X_test\",X_test.shape)\n",
    "print(\"y_train\",y_train.shape)\n",
    "print(\"y_test\",y_test.shape)\n"
   ]
  },
  {
   "cell_type": "code",
   "execution_count": 128,
   "metadata": {},
   "outputs": [
    {
     "name": "stdout",
     "output_type": "stream",
     "text": [
      "<class 'pandas.core.frame.DataFrame'>\n",
      "Int64Index: 999 entries, 0 to 999\n",
      "Data columns (total 34 columns):\n",
      " #   Column                       Non-Null Count  Dtype         \n",
      "---  ------                       --------------  -----         \n",
      " 0   months_as_customer           999 non-null    int64         \n",
      " 1   age                          999 non-null    int64         \n",
      " 2   policy_state                 999 non-null    object        \n",
      " 3   policy_csl                   999 non-null    object        \n",
      " 4   policy_deductable            999 non-null    int64         \n",
      " 5   umbrella_limit               999 non-null    int64         \n",
      " 6   insured_sex                  999 non-null    object        \n",
      " 7   insured_education_level      999 non-null    object        \n",
      " 8   insured_occupation           999 non-null    object        \n",
      " 9   insured_hobbies              999 non-null    object        \n",
      " 10  insured_relationship         999 non-null    object        \n",
      " 11  capital-gains                999 non-null    int64         \n",
      " 12  capital-loss                 999 non-null    int64         \n",
      " 13  incident_date                999 non-null    datetime64[ns]\n",
      " 14  incident_type                999 non-null    object        \n",
      " 15  collision_type               999 non-null    object        \n",
      " 16  incident_severity            999 non-null    object        \n",
      " 17  authorities_contacted        999 non-null    object        \n",
      " 18  incident_state               999 non-null    object        \n",
      " 19  incident_city                999 non-null    object        \n",
      " 20  incident_hour_of_the_day     999 non-null    int64         \n",
      " 21  number_of_vehicles_involved  999 non-null    int64         \n",
      " 22  property_damage              999 non-null    object        \n",
      " 23  bodily_injuries              999 non-null    int64         \n",
      " 24  witnesses                    999 non-null    int64         \n",
      " 25  police_report_available      999 non-null    object        \n",
      " 26  total_claim_amount           999 non-null    int64         \n",
      " 27  injury_claim                 999 non-null    int64         \n",
      " 28  property_claim               999 non-null    int64         \n",
      " 29  vehicle_claim                999 non-null    int64         \n",
      " 30  auto_make                    999 non-null    object        \n",
      " 31  auto_model                   999 non-null    object        \n",
      " 32  auto_year                    999 non-null    int64         \n",
      " 33  fraud_reported               999 non-null    object        \n",
      "dtypes: datetime64[ns](1), int64(15), object(18)\n",
      "memory usage: 273.2+ KB\n"
     ]
    }
   ],
   "source": [
    "df.info()"
   ]
  },
  {
   "cell_type": "markdown",
   "metadata": {
    "id": "4E_xpebIDPWk"
   },
   "source": [
    "## **4. EDA on training data** <font color = red>[20 marks]</font>"
   ]
  },
  {
   "cell_type": "markdown",
   "metadata": {
    "id": "xDNn7iBADPWk"
   },
   "source": [
    "### **4.1 Perform univariate analysis** <font color = red>[5 marks]</font>"
   ]
  },
  {
   "cell_type": "markdown",
   "metadata": {
    "id": "aVLeqhcADPWk"
   },
   "source": [
    "#### **4.1.1** Identify and select numerical columns from training data for univariate analysis <font color = \"red\">[1 Mark]</font>"
   ]
  },
  {
   "cell_type": "code",
   "execution_count": 129,
   "metadata": {
    "id": "bR9ulzRsDPWk"
   },
   "outputs": [
    {
     "name": "stdout",
     "output_type": "stream",
     "text": [
      "Numeric columns for univariate analysis:\n",
      "- months_as_customer\n",
      "- age\n",
      "- policy_deductable\n",
      "- umbrella_limit\n",
      "- capital-gains\n",
      "- capital-loss\n",
      "- incident_hour_of_the_day\n",
      "- number_of_vehicles_involved\n",
      "- bodily_injuries\n",
      "- witnesses\n",
      "- total_claim_amount\n",
      "- injury_claim\n",
      "- property_claim\n",
      "- vehicle_claim\n",
      "- auto_year\n"
     ]
    }
   ],
   "source": [
    "\n",
    "# Identify numeric columns in the training set for univariate analysis\n",
    "num_cols = X_train.select_dtypes(include=['int64']).columns.tolist()\n",
    "print(\"Numeric columns for univariate analysis:\")\n",
    "for col in num_cols:\n",
    "    print(\"-\", col)\n"
   ]
  },
  {
   "cell_type": "markdown",
   "metadata": {
    "id": "wP4icMhPDPWk"
   },
   "source": [
    "#### **4.1.2** Visualise the distribution of selected numerical features using appropriate plots to understand their characteristics <font color = \"red\">[4 Marks]</font>"
   ]
  },
  {
   "cell_type": "code",
   "execution_count": 130,
   "metadata": {},
   "outputs": [
    {
     "data": {
      "text/plain": [
       "Index(['months_as_customer', 'age', 'policy_state', 'policy_csl',\n",
       "       'policy_deductable', 'umbrella_limit', 'insured_sex',\n",
       "       'insured_education_level', 'insured_occupation', 'insured_hobbies',\n",
       "       'insured_relationship', 'capital-gains', 'capital-loss',\n",
       "       'incident_date', 'incident_type', 'collision_type', 'incident_severity',\n",
       "       'authorities_contacted', 'incident_state', 'incident_city',\n",
       "       'incident_hour_of_the_day', 'number_of_vehicles_involved',\n",
       "       'property_damage', 'bodily_injuries', 'witnesses',\n",
       "       'police_report_available', 'total_claim_amount', 'injury_claim',\n",
       "       'property_claim', 'vehicle_claim', 'auto_make', 'auto_model',\n",
       "       'auto_year', 'fraud_reported'],\n",
       "      dtype='object')"
      ]
     },
     "execution_count": 130,
     "metadata": {},
     "output_type": "execute_result"
    }
   ],
   "source": [
    "df.columns"
   ]
  },
  {
   "cell_type": "code",
   "execution_count": 131,
   "metadata": {
    "id": "ny7woMrmDPWk"
   },
   "outputs": [
    {
     "data": {
      "image/png": "[encoded data removed]",
      "text/plain": [
       "<Figure size 432x288 with 1 Axes>"
      ]
     },
     "metadata": {
      "needs_background": "light"
     },
     "output_type": "display_data"
    },
    {
     "data": {
      "image/png": "[encoded data removed]",
      "text/plain": [
       "<Figure size 432x288 with 1 Axes>"
      ]
     },
     "metadata": {
      "needs_background": "light"
     },
     "output_type": "display_data"
    },
    {
     "data": {
      "image/png": "[encoded data removed]",
      "text/plain": [
       "<Figure size 432x288 with 1 Axes>"
      ]
     },
     "metadata": {
      "needs_background": "light"
     },
     "output_type": "display_data"
    },
    {
     "data": {
      "image/png": "[encoded data removed]",
      "text/plain": [
       "<Figure size 432x288 with 1 Axes>"
      ]
     },
     "metadata": {
      "needs_background": "light"
     },
     "output_type": "display_data"
    },
    {
     "data": {
      "image/png": "[encoded data removed]",
      "text/plain": [
       "<Figure size 432x288 with 1 Axes>"
      ]
     },
     "metadata": {
      "needs_background": "light"
     },
     "output_type": "display_data"
    },
    {
     "data": {
      "image/png": "[encoded data removed]",
      "text/plain": [
       "<Figure size 432x288 with 1 Axes>"
      ]
     },
     "metadata": {
      "needs_background": "light"
     },
     "output_type": "display_data"
    },
    {
     "data": {
      "image/png": "[encoded data removed]",
      "text/plain": [
       "<Figure size 432x288 with 1 Axes>"
      ]
     },
     "metadata": {
      "needs_background": "light"
     },
     "output_type": "display_data"
    },
    {
     "data": {
      "image/png": "[encoded data removed]",
      "text/plain": [
       "<Figure size 432x288 with 1 Axes>"
      ]
     },
     "metadata": {
      "needs_background": "light"
     },
     "output_type": "display_data"
    },
    {
     "data": {
      "image/png": "[encoded data removed]",
      "text/plain": [
       "<Figure size 432x288 with 1 Axes>"
      ]
     },
     "metadata": {
      "needs_background": "light"
     },
     "output_type": "display_data"
    },
    {
     "data": {
      "image/png": "[encoded data removed]",
      "text/plain": [
       "<Figure size 432x288 with 1 Axes>"
      ]
     },
     "metadata": {
      "needs_background": "light"
     },
     "output_type": "display_data"
    },
    {
     "data": {
      "image/png": "[encoded data removed]",
      "text/plain": [
       "<Figure size 432x288 with 1 Axes>"
      ]
     },
     "metadata": {
      "needs_background": "light"
     },
     "output_type": "display_data"
    },
    {
     "data": {
      "image/png": "[encoded data removed]",
      "text/plain": [
       "<Figure size 432x288 with 1 Axes>"
      ]
     },
     "metadata": {
      "needs_background": "light"
     },
     "output_type": "display_data"
    },
    {
     "data": {
      "image/png": "[encoded data removed]",
      "text/plain": [
       "<Figure size 432x288 with 1 Axes>"
      ]
     },
     "metadata": {
      "needs_background": "light"
     },
     "output_type": "display_data"
    },
    {
     "data": {
      "image/png": "[encoded data removed]",
      "text/plain": [
       "<Figure size 432x288 with 1 Axes>"
      ]
     },
     "metadata": {
      "needs_background": "light"
     },
     "output_type": "display_data"
    },
    {
     "data": {
      "image/png": "[encoded data removed]",
      "text/plain": [
       "<Figure size 432x288 with 1 Axes>"
      ]
     },
     "metadata": {
      "needs_background": "light"
     },
     "output_type": "display_data"
    }
   ],
   "source": [
    "# Plot all the numerical columns to understand their distribution\n",
    "for col in num_cols:\n",
    "    plt.figure()\n",
    "    plt.hist(X_train[col].dropna(), bins=30)\n",
    "    plt.title(f'Distribution of {col}')\n",
    "    plt.xlabel(col)\n",
    "    plt.ylabel('Frequency')\n",
    "    plt.show()"
   ]
  },
  {
   "cell_type": "markdown",
   "metadata": {},
   "source": [
    "#### Inference \n",
    "\n",
    "##### Claim amounts & capital flows (total_claim_amount, injury_claim, property_claim, vehicle_claim, capital‑gains, capital‑loss):\n",
    "\n",
    "- All are highly right‑skewed with long tails—many small or zero values and a few very large claims.\n",
    "\n",
    "- We’ll likely need log (or similar) transforms to tame the skew and stabilize variance.\n",
    "\n",
    "##### Coverage limits:\n",
    "\n",
    "- umbrella_limit is zero for the vast majority (no extra coverage), with small spikes at large round numbers.\n",
    "\n",
    "- policy_deductable takes only three discrete values (500, 1000, 2000), which will be best handled as an ordinal or categorical feature.\n",
    "\n",
    "##### Customer tenure & demographics:\n",
    "\n",
    "- months_as_customer shows two clusters—newer customers (<200 months) and long‑standing ones (>300 months).\n",
    "\n",
    "- age roughly bell‑shaped between 25–50, tapering off toward the extremes.\n",
    "\n",
    "##### Incident characteristics:\n",
    "\n",
    "- incident_hour_of_the_day is fairly uniform across 0–23 hours, with slight peaks at typical commute times (morning/evening).\n",
    "\n",
    "- number_of_vehicles_involved, bodily_injuries, and witnesses are low‑cardinality counts (mostly 1 vehicle, 0–2 injuries/witnesses).\n",
    "\n",
    "##### Vehicle model year:\n",
    "\n",
    "- auto_year spans 1995–2015 fairly evenly, suggesting no major gaps—but we may want to bucket into age‑of‑vehicle bins.\n",
    "\n",
    "These patterns suggest a mix of continuous, skewed monetary features (candidates for transformation), low‑cardinality numeric counts, and a few discrete tiers (deductible, coverage)."
   ]
  },
  {
   "cell_type": "markdown",
   "metadata": {
    "id": "o4UAw5pDDPWl"
   },
   "source": [
    "### **4.2 Perform correlation analysis** <font color=\"red\">[3 Marks]</font>"
   ]
  },
  {
   "cell_type": "markdown",
   "metadata": {
    "id": "ySJiTDdxDPWl"
   },
   "source": [
    " Investigate the relationships between numerical features to identify potential multicollinearity or dependencies. Visualise the correlation structure using an appropriate method to gain insights into feature relationships."
   ]
  },
  {
   "cell_type": "code",
   "execution_count": 132,
   "metadata": {
    "id": "_xadGQK7DPWl"
   },
   "outputs": [
    {
     "data": {
      "image/png": "[encoded data removed]",
      "text/plain": [
       "<Figure size 864x576 with 2 Axes>"
      ]
     },
     "metadata": {
      "needs_background": "light"
     },
     "output_type": "display_data"
    }
   ],
   "source": [
    "# Create correlation matrix for numerical columns\n",
    "\n",
    "corr = X_train[num_cols].corr()\n",
    "# Plot Heatmap of the correlation matrix\n",
    "plt.figure(figsize=(12, 8))\n",
    "sns.heatmap(corr, annot=True, cmap='coolwarm', vmin=-1, vmax=1, center=0)\n",
    "plt.title('Correlation Heatmap of Numerical Features')\n",
    "plt.show()"
   ]
  },
  {
   "cell_type": "markdown",
   "metadata": {},
   "source": [
    "#### Inference\n",
    "\n",
    "##### High multicollinearity in claim amounts\n",
    "\n",
    "- total_claim_amount is nearly perfectly correlated (r > 0.9) with each of its components: injury_claim, property_claim, and vehicle_claim.\n",
    "\n",
    "- These three individual claim columns also correlate strongly with each other (r ≈ 0.6–0.8), reflecting that larger overall claims tend to involve both property and bodily costs.\n",
    "\n",
    "##### Zero or low correlations elsewhere\n",
    "\n",
    "- Most demographic and temporal features (e.g. age, months_as_customer, incident_hour_of_the_day) show very low pairwise correlations with financial variables, indicating they capture orthogonal information.\n",
    "\n",
    "##### Discrete count variables\n",
    "\n",
    "- number_of_vehicles_involved, bodily_injuries, and witnesses have modest positive correlations with claim amounts (r ≈ 0.1–0.2), suggesting collisions with more parties/injuries tend to cost more.\n",
    "\n",
    "##### Independent financial flows\n",
    "\n",
    "- capital-gains and capital-loss have little to no correlation with claims-related features, indicating separate sources of variability."
   ]
  },
  {
   "cell_type": "markdown",
   "metadata": {
    "id": "ZHQ3du-9DPWl"
   },
   "source": [
    "### **4.3 Check class balance** <font color=\"red\">[2 Marks]</font>"
   ]
  },
  {
   "cell_type": "markdown",
   "metadata": {
    "id": "eTkJHl0xDPWm"
   },
   "source": [
    "Examine the distribution of the target variable to identify potential class imbalances using visualisation for better understanding."
   ]
  },
  {
   "cell_type": "code",
   "execution_count": 133,
   "metadata": {
    "id": "V1QrXZdhDPWm"
   },
   "outputs": [
    {
     "data": {
      "image/png": "[encoded data removed]",
      "text/plain": [
       "<Figure size 432x288 with 1 Axes>"
      ]
     },
     "metadata": {
      "needs_background": "light"
     },
     "output_type": "display_data"
    }
   ],
   "source": [
    "# Compute class counts on the training set\n",
    "counts = y_train.value_counts().sort_index()\n",
    "labels = ['Legitimate', 'Fraudulent']  # 0 -> Legitimate, 1 -> Fraudulent\n",
    "\n",
    "# Plot bar chart\n",
    "fig, ax = plt.subplots()\n",
    "ax.bar(labels, counts.values)\n",
    "ax.set_xlabel('Claim Status')\n",
    "ax.set_ylabel('Number of Claims')\n",
    "ax.set_title('Distribution of Target Variable (fraud_reported)')\n",
    "plt.tight_layout()\n",
    "plt.show()\n"
   ]
  },
  {
   "cell_type": "markdown",
   "metadata": {},
   "source": [
    "#### Inference\n",
    "\n",
    "The bar chart shows that the training set is imbalanced:\n",
    "\n",
    "- Legitimate claims: ~525\n",
    "\n",
    "- Fraudulent claims: ~175\n",
    "\n",
    "This corresponds to roughly a 3:1 ratio (75% legit vs. 25% fraud). While not extremely skewed, it’s a clear imbalance. We should account for this in model building—e.g., by using stratified sampling, class weights, or targeted metrics like precision/recall—to ensure the minority (fraud) class is well recognized."
   ]
  },
  {
   "cell_type": "markdown",
   "metadata": {
    "id": "xFhVKzRHDPWn"
   },
   "source": [
    "### **4.4 Perform bivariate analysis** <font color=\"red\">[10 Marks]</font>"
   ]
  },
  {
   "cell_type": "markdown",
   "metadata": {
    "id": "h0WjamQXDPWn"
   },
   "source": [
    "#### **4.4.1** Target likelihood analysis for categorical variables. <font color=\"red\">[5 Marks]</font>\n",
    "Investigate the relationships between categorical features and the target variable by analysing the target event likelihood (for the `'Y'` event) for each level of every relevant categorical feature. Through this analysis, identify categorical features that do not contribute much in explaining the variation in the target variable."
   ]
  },
  {
   "cell_type": "code",
   "execution_count": 134,
   "metadata": {
    "id": "K1OQJrO5guyw"
   },
   "outputs": [
    {
     "name": "stdout",
     "output_type": "stream",
     "text": [
      "Categorical Features Fraud Rate Range                          fraud_rate_min  fraud_rate_max     range\n",
      "feature                                                          \n",
      "insured_sex                    0.245399        0.249330  0.003931\n",
      "policy_state                   0.243697        0.253112  0.009415\n",
      "police_report_available        0.229665        0.255144  0.025479\n",
      "policy_csl                     0.219626        0.268000  0.048374\n",
      "insured_education_level        0.209091        0.283186  0.074095\n",
      "incident_city                  0.200000        0.298077  0.098077\n",
      "property_damage                0.176230        0.290323  0.114093\n",
      "insured_relationship           0.173554        0.299213  0.125659\n",
      "auto_make                      0.140000        0.326923  0.186923\n",
      "insured_occupation             0.142857        0.344828  0.201970\n",
      "incident_type                  0.081967        0.287234  0.205267\n",
      "collision_type                 0.087302        0.297170  0.209868\n",
      "authorities_contacted          0.088235        0.316176  0.227941\n",
      "incident_state                 0.151316        0.421053  0.269737\n",
      "auto_model                     0.000000        0.500000  0.500000\n",
      "incident_severity              0.065574        0.609375  0.543801\n",
      "insured_hobbies                0.075000        0.906250  0.831250\n",
      "\n",
      " Low-Variation Categorical Features (<5% range)                          fraud_rate_min  fraud_rate_max     range\n",
      "feature                                                          \n",
      "insured_sex                    0.245399        0.249330  0.003931\n",
      "policy_state                   0.243697        0.253112  0.009415\n",
      "police_report_available        0.229665        0.255144  0.025479\n",
      "policy_csl                     0.219626        0.268000  0.048374\n"
     ]
    }
   ],
   "source": [
    "# Write a function to calculate and analyse the target variable likelihood for categorical features\n",
    "\n",
    "# Combine training features and target\n",
    "train = X_train.copy()\n",
    "train['fraud'] = y_train\n",
    "\n",
    "# Identify categorical columns\n",
    "cat_cols = train.select_dtypes(include=['object']).columns.tolist()\n",
    "\n",
    "# Calculate fraud rate per level for each categorical feature and compute range\n",
    "range_records = []\n",
    "for col in cat_cols:\n",
    "    rates = train.groupby(col)['fraud'].mean()\n",
    "    range_records.append({\n",
    "        'feature': col,\n",
    "        'fraud_rate_min': rates.min(),\n",
    "        'fraud_rate_max': rates.max(),\n",
    "        'range': rates.max() - rates.min()\n",
    "    })\n",
    "\n",
    "range_df = pd.DataFrame(range_records).set_index('feature').sort_values('range')\n",
    "\n",
    "# Identify low-variation features (< 5% range)\n",
    "low_var_df = range_df[range_df['range'] < 0.05]\n",
    "\n",
    "# Display concise summaries\n",
    "print('Categorical Features Fraud Rate Range', range_df)\n",
    "print('\\n Low-Variation Categorical Features (<5% range)', low_var_df)"
   ]
  },
  {
   "cell_type": "markdown",
   "metadata": {},
   "source": [
    "#### Inference\n",
    "\n",
    "Low‑variation features (< 5 % range):\n",
    "\n",
    "- insured_sex (range ≈ 0.33 %)\n",
    "\n",
    "- policy_state (range ≈ 1.98 %)\n",
    "\n",
    "- police_report_available (range ≈ 3.60 %)\n",
    "\n",
    "- policy_csl (range ≈ 4.87 %)\n",
    "\n",
    "These features show little change in fraud likelihood across their categories and may have limited predictive power on their own."
   ]
  },
  {
   "cell_type": "markdown",
   "metadata": {
    "id": "z6oeg9naDPWo"
   },
   "source": [
    "#### **4.4.2** Explore the relationships between numerical features and the target variable to understand their impact on the target outcome using appropriate visualisation techniques to identify trends and potential interactions. <font color=\"red\">[5 Marks]</font>"
   ]
  },
  {
   "cell_type": "code",
   "execution_count": 135,
   "metadata": {
    "id": "bVXoNozGDPWo"
   },
   "outputs": [
    {
     "data": {
      "text/plain": [
       "<Figure size 432x288 with 0 Axes>"
      ]
     },
     "metadata": {},
     "output_type": "display_data"
    },
    {
     "data": {
      "image/png": "[encoded data removed]",
      "text/plain": [
       "<Figure size 432x288 with 1 Axes>"
      ]
     },
     "metadata": {
      "needs_background": "light"
     },
     "output_type": "display_data"
    },
    {
     "data": {
      "text/plain": [
       "<Figure size 432x288 with 0 Axes>"
      ]
     },
     "metadata": {},
     "output_type": "display_data"
    },
    {
     "data": {
      "image/png": "[encoded data removed]",
      "text/plain": [
       "<Figure size 432x288 with 1 Axes>"
      ]
     },
     "metadata": {
      "needs_background": "light"
     },
     "output_type": "display_data"
    },
    {
     "data": {
      "text/plain": [
       "<Figure size 432x288 with 0 Axes>"
      ]
     },
     "metadata": {},
     "output_type": "display_data"
    },
    {
     "data": {
      "image/png": "[encoded data removed]",
      "text/plain": [
       "<Figure size 432x288 with 1 Axes>"
      ]
     },
     "metadata": {
      "needs_background": "light"
     },
     "output_type": "display_data"
    },
    {
     "data": {
      "text/plain": [
       "<Figure size 432x288 with 0 Axes>"
      ]
     },
     "metadata": {},
     "output_type": "display_data"
    },
    {
     "data": {
      "image/png": "[encoded data removed]",
      "text/plain": [
       "<Figure size 432x288 with 1 Axes>"
      ]
     },
     "metadata": {
      "needs_background": "light"
     },
     "output_type": "display_data"
    },
    {
     "data": {
      "text/plain": [
       "<Figure size 432x288 with 0 Axes>"
      ]
     },
     "metadata": {},
     "output_type": "display_data"
    },
    {
     "data": {
      "image/png": "[encoded data removed]",
      "text/plain": [
       "<Figure size 432x288 with 1 Axes>"
      ]
     },
     "metadata": {
      "needs_background": "light"
     },
     "output_type": "display_data"
    },
    {
     "data": {
      "text/plain": [
       "<Figure size 432x288 with 0 Axes>"
      ]
     },
     "metadata": {},
     "output_type": "display_data"
    },
    {
     "data": {
      "image/png": "[encoded data removed]",
      "text/plain": [
       "<Figure size 432x288 with 1 Axes>"
      ]
     },
     "metadata": {
      "needs_background": "light"
     },
     "output_type": "display_data"
    },
    {
     "data": {
      "text/plain": [
       "<Figure size 432x288 with 0 Axes>"
      ]
     },
     "metadata": {},
     "output_type": "display_data"
    },
    {
     "data": {
      "image/png": "[encoded data removed]",
      "text/plain": [
       "<Figure size 432x288 with 1 Axes>"
      ]
     },
     "metadata": {
      "needs_background": "light"
     },
     "output_type": "display_data"
    },
    {
     "data": {
      "text/plain": [
       "<Figure size 432x288 with 0 Axes>"
      ]
     },
     "metadata": {},
     "output_type": "display_data"
    },
    {
     "data": {
      "image/png": "[encoded data removed]",
      "text/plain": [
       "<Figure size 432x288 with 1 Axes>"
      ]
     },
     "metadata": {
      "needs_background": "light"
     },
     "output_type": "display_data"
    },
    {
     "data": {
      "text/plain": [
       "<Figure size 432x288 with 0 Axes>"
      ]
     },
     "metadata": {},
     "output_type": "display_data"
    },
    {
     "data": {
      "image/png": "[encoded data removed]",
      "text/plain": [
       "<Figure size 432x288 with 1 Axes>"
      ]
     },
     "metadata": {
      "needs_background": "light"
     },
     "output_type": "display_data"
    },
    {
     "data": {
      "text/plain": [
       "<Figure size 432x288 with 0 Axes>"
      ]
     },
     "metadata": {},
     "output_type": "display_data"
    },
    {
     "data": {
      "image/png": "[encoded data removed]",
      "text/plain": [
       "<Figure size 432x288 with 1 Axes>"
      ]
     },
     "metadata": {
      "needs_background": "light"
     },
     "output_type": "display_data"
    },
    {
     "data": {
      "text/plain": [
       "<Figure size 432x288 with 0 Axes>"
      ]
     },
     "metadata": {},
     "output_type": "display_data"
    },
    {
     "data": {
      "image/png": "[encoded data removed]",
      "text/plain": [
       "<Figure size 432x288 with 1 Axes>"
      ]
     },
     "metadata": {
      "needs_background": "light"
     },
     "output_type": "display_data"
    },
    {
     "data": {
      "text/plain": [
       "<Figure size 432x288 with 0 Axes>"
      ]
     },
     "metadata": {},
     "output_type": "display_data"
    },
    {
     "data": {
      "image/png": "[encoded data removed]",
      "text/plain": [
       "<Figure size 432x288 with 1 Axes>"
      ]
     },
     "metadata": {
      "needs_background": "light"
     },
     "output_type": "display_data"
    },
    {
     "data": {
      "text/plain": [
       "<Figure size 432x288 with 0 Axes>"
      ]
     },
     "metadata": {},
     "output_type": "display_data"
    },
    {
     "data": {
      "image/png": "[encoded data removed]",
      "text/plain": [
       "<Figure size 432x288 with 1 Axes>"
      ]
     },
     "metadata": {
      "needs_background": "light"
     },
     "output_type": "display_data"
    },
    {
     "data": {
      "text/plain": [
       "<Figure size 432x288 with 0 Axes>"
      ]
     },
     "metadata": {},
     "output_type": "display_data"
    },
    {
     "data": {
      "image/png": "[encoded data removed]",
      "text/plain": [
       "<Figure size 432x288 with 1 Axes>"
      ]
     },
     "metadata": {
      "needs_background": "light"
     },
     "output_type": "display_data"
    },
    {
     "data": {
      "text/plain": [
       "<Figure size 432x288 with 0 Axes>"
      ]
     },
     "metadata": {},
     "output_type": "display_data"
    },
    {
     "data": {
      "image/png": "[encoded data removed]",
      "text/plain": [
       "<Figure size 432x288 with 1 Axes>"
      ]
     },
     "metadata": {
      "needs_background": "light"
     },
     "output_type": "display_data"
    }
   ],
   "source": [
    "# Visualise the relationship between numerical features and the target variable to understand their impact on the target outcome\n",
    "# Identify numeric columns\n",
    "num_cols = X_train.select_dtypes(include=['int64']).columns\n",
    "\n",
    "# Combine features with target for plotting\n",
    "train_data = pd.concat([X_train[num_cols], y_train.rename('fraud')], axis=1)\n",
    "\n",
    "# Create boxplots for each numeric feature by fraud status\n",
    "for col in num_cols:\n",
    "    plt.figure()\n",
    "    train_data.boxplot(column=col, by='fraud')\n",
    "    plt.title(f'{col} by Fraud Status')\n",
    "    plt.suptitle('')  \n",
    "    plt.xlabel('Fraud (0 = Legitimate, 1 = Fraudulent)')\n",
    "    plt.ylabel(col)\n",
    "    plt.show()"
   ]
  },
  {
   "cell_type": "markdown",
   "metadata": {},
   "source": [
    "#### Inference\n",
    "\n",
    "From the boxplots of each numerical feature by fraud status, here are the key patterns:\n",
    "\n",
    "##### Claim‐related amounts (total_claim_amount, injury_claim, property_claim, vehicle_claim):\n",
    "- Fraudulent claims show higher medians and upper quartiles—fraud tends to involve larger payouts.\n",
    "\n",
    "- Many small‐value outliers persist in legitimate claims; fraud cases cluster at higher values.\n",
    "\n",
    "##### Capital flows (capital-gains, capital-loss):\n",
    "- Legitimate claims have medians at zero and wide negative/positive spreads.\n",
    "\n",
    "- Fraud cases, while skewed, also show heavier gain/loss extremes compared to legitimate.\n",
    "\n",
    "##### Coverage and premium (umbrella_limit, policy_annual_premium, policy_deductable):\n",
    "- Fraudsters skew toward non-zero umbrella coverage (higher potential payouts).\n",
    "\n",
    "- Slightly higher median annual premiums and deductibles in fraud group.\n",
    "\n",
    "##### Customer tenure/demographics (months_as_customer, age, auto_year):\n",
    "- Distributions overlap heavily; only minor shifts in medians (e.g., fraud cases marginally younger).\n",
    "\n",
    "- Incident characteristics (incident_hour_of_the_day, number_of_vehicles_involved, bodily_injuries, witnesses):\n",
    "\n",
    "- Little difference in incident hour or counts of vehicles/injuries/witnesses between fraud and legit.\n",
    "\n",
    "##### Implications:\n",
    "\n",
    "- Financial features (claim sizes, capital gains/losses, coverage limits) show the strongest separation and will be key predictors.\n",
    "\n",
    "- Demographic and incident‐timing features provide less signal and may be lower on the feature‐importance list.\n",
    "\n",
    "- Consider log‐transforming skewed monetary variables and focusing on coverage amounts and past capital flows for modeling."
   ]
  },
  {
   "cell_type": "markdown",
   "metadata": {
    "id": "OVV4m9OiDPWo"
   },
   "source": [
    "## **5. EDA on validation data** <font color = red>[OPTIONAL]</font>"
   ]
  },
  {
   "cell_type": "markdown",
   "metadata": {
    "id": "hvF11y45DPWo"
   },
   "source": [
    "### **5.1 Perform univariate analysis**"
   ]
  },
  {
   "cell_type": "markdown",
   "metadata": {
    "id": "krLtfiOBDPWo"
   },
   "source": [
    "#### **5.1.1** Identify and select numerical columns from training data for univariate analysis."
   ]
  },
  {
   "cell_type": "code",
   "execution_count": 136,
   "metadata": {
    "id": "RURn5Dp1DPWo"
   },
   "outputs": [],
   "source": [
    "# Select numerical columns\n"
   ]
  },
  {
   "cell_type": "markdown",
   "metadata": {
    "id": "a41PWZrNDPWp"
   },
   "source": [
    "#### **5.1.2** Visualise the distribution of selected numerical features using appropriate plots to understand their characteristics."
   ]
  },
  {
   "cell_type": "code",
   "execution_count": 137,
   "metadata": {
    "id": "DUoPrry8DPWp"
   },
   "outputs": [],
   "source": [
    "# Plot all the numerical columns to understand their distribution\n"
   ]
  },
  {
   "cell_type": "markdown",
   "metadata": {
    "id": "OhvTVXiwDPWp"
   },
   "source": [
    "### **5.2 Perform correlation analysis**"
   ]
  },
  {
   "cell_type": "markdown",
   "metadata": {
    "id": "F5tDAjsNDPWp"
   },
   "source": [
    " Investigate the relationships between numerical features to identify potential multicollinearity or dependencies. Visualise the correlation structure using an appropriate method to gain insights into feature relationships."
   ]
  },
  {
   "cell_type": "code",
   "execution_count": 138,
   "metadata": {
    "id": "C-b6CSy1DPWp"
   },
   "outputs": [],
   "source": [
    "# Create correlation matrix for numerical columns\n",
    "\n",
    "# Plot Heatmap of the correlation matrix\n"
   ]
  },
  {
   "cell_type": "markdown",
   "metadata": {
    "id": "N2ww_JH7DPWp"
   },
   "source": [
    "### **5.3 Check class balance**"
   ]
  },
  {
   "cell_type": "markdown",
   "metadata": {
    "id": "ddcn-VSADPWp"
   },
   "source": [
    "Examine the distribution of the target variable to identify potential class imbalances. Visualise the distribution for better understanding."
   ]
  },
  {
   "cell_type": "code",
   "execution_count": 139,
   "metadata": {
    "id": "5Yvfw9F2DPWq"
   },
   "outputs": [],
   "source": [
    "# Plot a bar chart to check class balance\n"
   ]
  },
  {
   "cell_type": "markdown",
   "metadata": {
    "id": "_pDlcXHxDPWq"
   },
   "source": [
    "### **5.4 Perform bivariate analysis**"
   ]
  },
  {
   "cell_type": "markdown",
   "metadata": {
    "id": "F0UT1kLHDPWq"
   },
   "source": [
    "#### **5.4.1** Target likelihood analysis for categorical variables.\n",
    "Investigate the relationships between categorical features and the target variable by analysing the target event likelihood (for the `'Y'` event) for each level of every relevant categorical feature. Through this analysis, identify categorical features that do not contribute much in explaining the variation in the target variable."
   ]
  },
  {
   "cell_type": "code",
   "execution_count": 140,
   "metadata": {
    "id": "XMe7hHDcDPWr"
   },
   "outputs": [],
   "source": [
    "# Write a function to calculate and analyse the target variable likelihood for categorical features\n"
   ]
  },
  {
   "cell_type": "markdown",
   "metadata": {
    "id": "gCNILHjCDPWr"
   },
   "source": [
    "#### **5.4.2** Explore the relationships between numerical features and the target variable to understand their impact on the target outcome. Utilise appropriate visualisation techniques to identify trends and potential interactions."
   ]
  },
  {
   "cell_type": "code",
   "execution_count": 141,
   "metadata": {
    "id": "NhQl8TJ9DPWr"
   },
   "outputs": [],
   "source": [
    "# Visualise the relationship between numerical features and the target variable to understand their impact on the target outcome\n"
   ]
  },
  {
   "cell_type": "markdown",
   "metadata": {
    "id": "TVb5a63HDPWr"
   },
   "source": [
    "## **6. Feature Engineering** <font color = red>[25 marks]</font>"
   ]
  },
  {
   "cell_type": "markdown",
   "metadata": {
    "id": "F1-lpq1iDPWs"
   },
   "source": [
    "### **6.1 Perform resampling** <font color=\"red\">[3 Marks]</font>"
   ]
  },
  {
   "cell_type": "markdown",
   "metadata": {
    "id": "vV6fEzAADPWs"
   },
   "source": [
    "Handle class imbalance in the training data by applying resampling technique.\n",
    "\n",
    "Use the **RandomOverSampler** technique to balance the data and handle class imbalance. This method increases the number of samples in the minority class by randomly duplicating them, creating synthetic data points with similar characteristics. This helps prevent the model from being biased toward the majority class and improves its ability to predict the minority class more accurately.\n",
    "\n",
    "**Note:** You can try other resampling techniques to handle class imbalance"
   ]
  },
  {
   "cell_type": "code",
   "execution_count": 142,
   "metadata": {
    "id": "ijz0X5bGDPWs"
   },
   "outputs": [
    {
     "data": {
      "text/plain": [
       "'from imblearn.over_sampling import RandomOverSampler\\nfrom collections import Counter\\nfrom imblearn.over_sampling import SMOTE\\n\\n# Perform resampling on training data\\nros = RandomOverSampler(random_state=42)\\n\\nX_train_resampled, y_train_resampled = ros.fit_resample(X_train, y_train)\\n\\n# 3. Check class distributions before and after\\nprint(\"Before resampling:\", Counter(y_train))\\nprint(\"After resampling: \", Counter(y_train_resampled))'"
      ]
     },
     "execution_count": 142,
     "metadata": {},
     "output_type": "execute_result"
    }
   ],
   "source": [
    "# Import RandomOverSampler from imblearn library\n",
    "'''from imblearn.over_sampling import RandomOverSampler\n",
    "from collections import Counter\n",
    "from imblearn.over_sampling import SMOTE\n",
    "\n",
    "# Perform resampling on training data\n",
    "ros = RandomOverSampler(random_state=42)\n",
    "\n",
    "X_train_resampled, y_train_resampled = ros.fit_resample(X_train, y_train)\n",
    "\n",
    "# 3. Check class distributions before and after\n",
    "print(\"Before resampling:\", Counter(y_train))\n",
    "print(\"After resampling: \", Counter(y_train_resampled))'''"
   ]
  },
  {
   "cell_type": "markdown",
   "metadata": {
    "id": "IQ7nY4SLDPWs"
   },
   "source": [
    "### **6.2 Feature Creation** <font color=\"red\">[4 marks]</font>"
   ]
  },
  {
   "cell_type": "markdown",
   "metadata": {
    "id": "PdDUn_sVDPWs"
   },
   "source": [
    "Create new features from existing ones to enhance the model's ability to capture patterns in the data. This may involve deriving features from date/time columns, combining features, or creating interaction terms."
   ]
  },
  {
   "cell_type": "code",
   "execution_count": 143,
   "metadata": {},
   "outputs": [
    {
     "name": "stdout",
     "output_type": "stream",
     "text": [
      "<class 'pandas.core.frame.DataFrame'>\n",
      "RangeIndex: 699 entries, 0 to 698\n",
      "Data columns (total 33 columns):\n",
      " #   Column                       Non-Null Count  Dtype         \n",
      "---  ------                       --------------  -----         \n",
      " 0   months_as_customer           699 non-null    int64         \n",
      " 1   age                          699 non-null    int64         \n",
      " 2   policy_state                 699 non-null    object        \n",
      " 3   policy_csl                   699 non-null    object        \n",
      " 4   policy_deductable            699 non-null    int64         \n",
      " 5   umbrella_limit               699 non-null    int64         \n",
      " 6   insured_sex                  699 non-null    object        \n",
      " 7   insured_education_level      699 non-null    object        \n",
      " 8   insured_occupation           699 non-null    object        \n",
      " 9   insured_hobbies              699 non-null    object        \n",
      " 10  insured_relationship         699 non-null    object        \n",
      " 11  capital-gains                699 non-null    int64         \n",
      " 12  capital-loss                 699 non-null    int64         \n",
      " 13  incident_date                699 non-null    datetime64[ns]\n",
      " 14  incident_type                699 non-null    object        \n",
      " 15  collision_type               699 non-null    object        \n",
      " 16  incident_severity            699 non-null    object        \n",
      " 17  authorities_contacted        699 non-null    object        \n",
      " 18  incident_state               699 non-null    object        \n",
      " 19  incident_city                699 non-null    object        \n",
      " 20  incident_hour_of_the_day     699 non-null    int64         \n",
      " 21  number_of_vehicles_involved  699 non-null    int64         \n",
      " 22  property_damage              699 non-null    object        \n",
      " 23  bodily_injuries              699 non-null    int64         \n",
      " 24  witnesses                    699 non-null    int64         \n",
      " 25  police_report_available      699 non-null    object        \n",
      " 26  total_claim_amount           699 non-null    int64         \n",
      " 27  injury_claim                 699 non-null    int64         \n",
      " 28  property_claim               699 non-null    int64         \n",
      " 29  vehicle_claim                699 non-null    int64         \n",
      " 30  auto_make                    699 non-null    object        \n",
      " 31  auto_model                   699 non-null    object        \n",
      " 32  auto_year                    699 non-null    int64         \n",
      "dtypes: datetime64[ns](1), int64(15), object(17)\n",
      "memory usage: 180.3+ KB\n"
     ]
    }
   ],
   "source": [
    "X_train.info()\n"
   ]
  },
  {
   "cell_type": "code",
   "execution_count": 144,
   "metadata": {},
   "outputs": [
    {
     "data": {
      "text/html": [
       "<div>\n",
       "<style scoped>\n",
       "    .dataframe tbody tr th:only-of-type {\n",
       "        vertical-align: middle;\n",
       "    }\n",
       "\n",
       "    .dataframe tbody tr th {\n",
       "        vertical-align: top;\n",
       "    }\n",
       "\n",
       "    .dataframe thead th {\n",
       "        text-align: right;\n",
       "    }\n",
       "</style>\n",
       "<table border=\"1\" class=\"dataframe\">\n",
       "  <thead>\n",
       "    <tr style=\"text-align: right;\">\n",
       "      <th></th>\n",
       "      <th>months_as_customer</th>\n",
       "      <th>age</th>\n",
       "      <th>policy_state</th>\n",
       "      <th>policy_csl</th>\n",
       "      <th>policy_deductable</th>\n",
       "      <th>umbrella_limit</th>\n",
       "      <th>insured_sex</th>\n",
       "      <th>insured_education_level</th>\n",
       "      <th>insured_occupation</th>\n",
       "      <th>insured_hobbies</th>\n",
       "      <th>...</th>\n",
       "      <th>bodily_injuries</th>\n",
       "      <th>witnesses</th>\n",
       "      <th>police_report_available</th>\n",
       "      <th>total_claim_amount</th>\n",
       "      <th>injury_claim</th>\n",
       "      <th>property_claim</th>\n",
       "      <th>vehicle_claim</th>\n",
       "      <th>auto_make</th>\n",
       "      <th>auto_model</th>\n",
       "      <th>auto_year</th>\n",
       "    </tr>\n",
       "  </thead>\n",
       "  <tbody>\n",
       "    <tr>\n",
       "      <th>0</th>\n",
       "      <td>129</td>\n",
       "      <td>28</td>\n",
       "      <td>OH</td>\n",
       "      <td>500/1000</td>\n",
       "      <td>1000</td>\n",
       "      <td>0</td>\n",
       "      <td>MALE</td>\n",
       "      <td>Masters</td>\n",
       "      <td>machine-op-inspct</td>\n",
       "      <td>base-jumping</td>\n",
       "      <td>...</td>\n",
       "      <td>2</td>\n",
       "      <td>3</td>\n",
       "      <td>Unknown</td>\n",
       "      <td>44640</td>\n",
       "      <td>9920</td>\n",
       "      <td>4960</td>\n",
       "      <td>29760</td>\n",
       "      <td>Toyota</td>\n",
       "      <td>Camry</td>\n",
       "      <td>2005</td>\n",
       "    </tr>\n",
       "    <tr>\n",
       "      <th>1</th>\n",
       "      <td>210</td>\n",
       "      <td>41</td>\n",
       "      <td>IL</td>\n",
       "      <td>500/1000</td>\n",
       "      <td>500</td>\n",
       "      <td>0</td>\n",
       "      <td>MALE</td>\n",
       "      <td>High School</td>\n",
       "      <td>exec-managerial</td>\n",
       "      <td>polo</td>\n",
       "      <td>...</td>\n",
       "      <td>2</td>\n",
       "      <td>0</td>\n",
       "      <td>NO</td>\n",
       "      <td>81070</td>\n",
       "      <td>14740</td>\n",
       "      <td>14740</td>\n",
       "      <td>51590</td>\n",
       "      <td>BMW</td>\n",
       "      <td>X5</td>\n",
       "      <td>2001</td>\n",
       "    </tr>\n",
       "    <tr>\n",
       "      <th>2</th>\n",
       "      <td>85</td>\n",
       "      <td>25</td>\n",
       "      <td>IN</td>\n",
       "      <td>250/500</td>\n",
       "      <td>500</td>\n",
       "      <td>0</td>\n",
       "      <td>FEMALE</td>\n",
       "      <td>JD</td>\n",
       "      <td>tech-support</td>\n",
       "      <td>base-jumping</td>\n",
       "      <td>...</td>\n",
       "      <td>2</td>\n",
       "      <td>2</td>\n",
       "      <td>Unknown</td>\n",
       "      <td>5640</td>\n",
       "      <td>940</td>\n",
       "      <td>940</td>\n",
       "      <td>3760</td>\n",
       "      <td>Nissan</td>\n",
       "      <td>Ultima</td>\n",
       "      <td>2005</td>\n",
       "    </tr>\n",
       "    <tr>\n",
       "      <th>3</th>\n",
       "      <td>429</td>\n",
       "      <td>56</td>\n",
       "      <td>OH</td>\n",
       "      <td>250/500</td>\n",
       "      <td>1000</td>\n",
       "      <td>6000000</td>\n",
       "      <td>MALE</td>\n",
       "      <td>Associate</td>\n",
       "      <td>machine-op-inspct</td>\n",
       "      <td>skydiving</td>\n",
       "      <td>...</td>\n",
       "      <td>2</td>\n",
       "      <td>0</td>\n",
       "      <td>YES</td>\n",
       "      <td>39480</td>\n",
       "      <td>6580</td>\n",
       "      <td>6580</td>\n",
       "      <td>26320</td>\n",
       "      <td>Suburu</td>\n",
       "      <td>Forrestor</td>\n",
       "      <td>2002</td>\n",
       "    </tr>\n",
       "    <tr>\n",
       "      <th>4</th>\n",
       "      <td>106</td>\n",
       "      <td>31</td>\n",
       "      <td>IL</td>\n",
       "      <td>500/1000</td>\n",
       "      <td>2000</td>\n",
       "      <td>0</td>\n",
       "      <td>FEMALE</td>\n",
       "      <td>JD</td>\n",
       "      <td>farming-fishing</td>\n",
       "      <td>video-games</td>\n",
       "      <td>...</td>\n",
       "      <td>0</td>\n",
       "      <td>3</td>\n",
       "      <td>YES</td>\n",
       "      <td>45630</td>\n",
       "      <td>5070</td>\n",
       "      <td>5070</td>\n",
       "      <td>35490</td>\n",
       "      <td>Accura</td>\n",
       "      <td>MDX</td>\n",
       "      <td>2011</td>\n",
       "    </tr>\n",
       "  </tbody>\n",
       "</table>\n",
       "<p>5 rows × 33 columns</p>\n",
       "</div>"
      ],
      "text/plain": [
       "   months_as_customer  age policy_state policy_csl  policy_deductable  \\\n",
       "0                 129   28           OH   500/1000               1000   \n",
       "1                 210   41           IL   500/1000                500   \n",
       "2                  85   25           IN    250/500                500   \n",
       "3                 429   56           OH    250/500               1000   \n",
       "4                 106   31           IL   500/1000               2000   \n",
       "\n",
       "   umbrella_limit insured_sex insured_education_level insured_occupation  \\\n",
       "0               0        MALE                 Masters  machine-op-inspct   \n",
       "1               0        MALE             High School    exec-managerial   \n",
       "2               0      FEMALE                      JD       tech-support   \n",
       "3         6000000        MALE               Associate  machine-op-inspct   \n",
       "4               0      FEMALE                      JD    farming-fishing   \n",
       "\n",
       "  insured_hobbies  ... bodily_injuries  witnesses  police_report_available  \\\n",
       "0    base-jumping  ...               2          3                  Unknown   \n",
       "1            polo  ...               2          0                       NO   \n",
       "2    base-jumping  ...               2          2                  Unknown   \n",
       "3       skydiving  ...               2          0                      YES   \n",
       "4     video-games  ...               0          3                      YES   \n",
       "\n",
       "  total_claim_amount injury_claim property_claim vehicle_claim auto_make  \\\n",
       "0              44640         9920           4960         29760    Toyota   \n",
       "1              81070        14740          14740         51590       BMW   \n",
       "2               5640          940            940          3760    Nissan   \n",
       "3              39480         6580           6580         26320    Suburu   \n",
       "4              45630         5070           5070         35490    Accura   \n",
       "\n",
       "  auto_model auto_year  \n",
       "0      Camry      2005  \n",
       "1         X5      2001  \n",
       "2     Ultima      2005  \n",
       "3  Forrestor      2002  \n",
       "4        MDX      2011  \n",
       "\n",
       "[5 rows x 33 columns]"
      ]
     },
     "execution_count": 144,
     "metadata": {},
     "output_type": "execute_result"
    }
   ],
   "source": [
    "X_train.head()"
   ]
  },
  {
   "cell_type": "code",
   "execution_count": 145,
   "metadata": {
    "id": "beiDdjl7DPWs"
   },
   "outputs": [
    {
     "name": "stdout",
     "output_type": "stream",
     "text": [
      "New train shape: (699, 37)\n",
      "New valid shape: (300, 37)\n"
     ]
    },
    {
     "data": {
      "text/html": [
       "<div>\n",
       "<style scoped>\n",
       "    .dataframe tbody tr th:only-of-type {\n",
       "        vertical-align: middle;\n",
       "    }\n",
       "\n",
       "    .dataframe tbody tr th {\n",
       "        vertical-align: top;\n",
       "    }\n",
       "\n",
       "    .dataframe thead th {\n",
       "        text-align: right;\n",
       "    }\n",
       "</style>\n",
       "<table border=\"1\" class=\"dataframe\">\n",
       "  <thead>\n",
       "    <tr style=\"text-align: right;\">\n",
       "      <th></th>\n",
       "      <th>net_capital</th>\n",
       "      <th>claim_deduct_ratio</th>\n",
       "      <th>incident_month</th>\n",
       "      <th>incident_quarter</th>\n",
       "      <th>incident_dayofweek</th>\n",
       "    </tr>\n",
       "  </thead>\n",
       "  <tbody>\n",
       "    <tr>\n",
       "      <th>0</th>\n",
       "      <td>0</td>\n",
       "      <td>44.640</td>\n",
       "      <td>2</td>\n",
       "      <td>1</td>\n",
       "      <td>5</td>\n",
       "    </tr>\n",
       "    <tr>\n",
       "      <th>1</th>\n",
       "      <td>-41000</td>\n",
       "      <td>162.140</td>\n",
       "      <td>1</td>\n",
       "      <td>1</td>\n",
       "      <td>4</td>\n",
       "    </tr>\n",
       "    <tr>\n",
       "      <th>2</th>\n",
       "      <td>13400</td>\n",
       "      <td>11.280</td>\n",
       "      <td>2</td>\n",
       "      <td>1</td>\n",
       "      <td>0</td>\n",
       "    </tr>\n",
       "    <tr>\n",
       "      <th>3</th>\n",
       "      <td>23600</td>\n",
       "      <td>39.480</td>\n",
       "      <td>1</td>\n",
       "      <td>1</td>\n",
       "      <td>2</td>\n",
       "    </tr>\n",
       "    <tr>\n",
       "      <th>4</th>\n",
       "      <td>54100</td>\n",
       "      <td>22.815</td>\n",
       "      <td>2</td>\n",
       "      <td>1</td>\n",
       "      <td>6</td>\n",
       "    </tr>\n",
       "  </tbody>\n",
       "</table>\n",
       "</div>"
      ],
      "text/plain": [
       "   net_capital  claim_deduct_ratio  incident_month  incident_quarter  \\\n",
       "0            0              44.640               2                 1   \n",
       "1       -41000             162.140               1                 1   \n",
       "2        13400              11.280               2                 1   \n",
       "3        23600              39.480               1                 1   \n",
       "4        54100              22.815               2                 1   \n",
       "\n",
       "   incident_dayofweek  \n",
       "0                   5  \n",
       "1                   4  \n",
       "2                   0  \n",
       "3                   2  \n",
       "4                   6  "
      ]
     },
     "execution_count": 145,
     "metadata": {},
     "output_type": "execute_result"
    }
   ],
   "source": [
    "# Create new features based on your understanding for both training and validation data\n",
    "def create_features(df):\n",
    "    df = df.copy()\n",
    "\n",
    "    # Net capital flow\n",
    "    df['net_capital'] = df['capital-gains'] - df['capital-loss']\n",
    "    \n",
    "    # Claim-to-deductible ratio\n",
    "    df['claim_deduct_ratio'] = df['total_claim_amount'] / df['policy_deductable']\n",
    "    \n",
    "    \n",
    "    # Date breakdowns\n",
    "    df['incident_month']     = df['incident_date'].dt.month\n",
    "    df['incident_quarter']   = df['incident_date'].dt.quarter\n",
    "    df['incident_dayofweek'] = df['incident_date'].dt.dayofweek\n",
    "    \n",
    "    # (Optional) drop raw date if you only want the slices\n",
    "    df = df.drop(columns=['incident_date'])\n",
    "    \n",
    "    return df\n",
    "\n",
    "# Apply to train & validation\n",
    "X_train_feat = create_features(X_train)\n",
    "X_test_feat = create_features(X_test)\n",
    "\n",
    "# Quick check\n",
    "print(\"New train shape:\", X_train_feat.shape)\n",
    "print(\"New valid shape:\", X_test_feat.shape)\n",
    "X_train_feat[['net_capital','claim_deduct_ratio',\n",
    "              'incident_month',\n",
    "              'incident_quarter','incident_dayofweek']].head()"
   ]
  },
  {
   "cell_type": "markdown",
   "metadata": {
    "id": "NbQ6FhLUDPWt"
   },
   "source": [
    "### **6.3 Handle redundant columns** <font color=\"red\">[3 marks]</font>"
   ]
  },
  {
   "cell_type": "markdown",
   "metadata": {
    "id": "zs_uzd9VDPWt"
   },
   "source": [
    "Analyse the data to identify features that may be redundant or contribute minimal information toward predicting the target variable and drop them.\n",
    "\n",
    "- You can consider features that exhibit high correlation with other variables, which you may have observed during the EDA phase.\n",
    "- Features that don't strongly influence the prediction, which you may have observed during the EDA phase.\n",
    "- Categorical columns with low value counts for some levels can be remapped to reduce number of unique levels, and features with very high counts for just one level may be removed, as they resemble unique identifier columns and do not provide substantial predictive value.\n",
    "- Additionally, eliminate any columns from which the necessary features have already been extracted in the preceding step."
   ]
  },
  {
   "cell_type": "code",
   "execution_count": 146,
   "metadata": {
    "id": "9Fy0Rw1BDPWt"
   },
   "outputs": [
    {
     "name": "stdout",
     "output_type": "stream",
     "text": [
      "Dropped columns: ['injury_claim', 'property_claim', 'vehicle_claim', 'capital-gains', 'capital-loss', 'insured_sex', 'policy_state', 'policy_csl', 'police_report_available']\n",
      "X_train_final shape: (699, 28)\n",
      "X_test_final shape: (300, 28)\n",
      "Remaining features: ['months_as_customer', 'age', 'policy_deductable', 'umbrella_limit', 'insured_education_level', 'insured_occupation', 'insured_hobbies', 'insured_relationship', 'incident_type', 'collision_type', 'incident_severity', 'authorities_contacted', 'incident_state', 'incident_city', 'incident_hour_of_the_day', 'number_of_vehicles_involved', 'property_damage', 'bodily_injuries', 'witnesses', 'total_claim_amount', 'auto_make', 'auto_model', 'auto_year', 'net_capital', 'claim_deduct_ratio', 'incident_month', 'incident_quarter', 'incident_dayofweek']\n"
     ]
    }
   ],
   "source": [
    "# Drop redundant columns from training and validation data\n",
    "\n",
    "\n",
    "# List of columns to drop:\n",
    "drop_cols = [\n",
    "    'injury_claim',\n",
    "    'property_claim',\n",
    "    'vehicle_claim',\n",
    "    'capital-gains',\n",
    "    'capital-loss',\n",
    "    'insured_sex',\n",
    "    'policy_state',\n",
    "    'policy_csl',\n",
    "    'police_report_available'\n",
    "]\n",
    "\n",
    "# Drop from both training and validation feature sets\n",
    "X_train_final = X_train_feat.drop(columns=drop_cols)\n",
    "X_test_final  = X_test_feat.drop(columns=drop_cols)\n",
    "\n",
    "# Display shapes and remaining columns\n",
    "print(\"Dropped columns:\", drop_cols)\n",
    "print(\"X_train_final shape:\", X_train_final.shape)\n",
    "print(\"X_test_final shape:\", X_test_final.shape)\n",
    "print(\"Remaining features:\", X_train_final.columns.tolist())\n"
   ]
  },
  {
   "cell_type": "markdown",
   "metadata": {},
   "source": [
    "#### Inference\n",
    "\n",
    "\n",
    "##### Individual claim components (injury_claim, property_claim, vehicle_claim)\n",
    "\n",
    "- In our correlation analysis, each of these was almost perfectly collinear (r > 0.9) with total_claim_amount, meaning they add no new information once you keep the aggregate total.\n",
    "\n",
    "##### Raw capital flow columns (capital-gains, capital-loss)\n",
    "\n",
    "- We’ve replaced them with a single net_capital feature (gains – losses), which captures the same signal more succinctly and avoids multicollinearity.\n",
    "\n",
    "##### Low‑signal categoricals (insured_sex, policy_state, policy_csl, police_report_available)\n",
    "\n",
    "- In our bivariate “fraud‑rate by category” check, each varied by less than ~5 percentage points across their levels. Such minimal range indicates they contribute little discriminatory power for predicting fraud.\n",
    "\n",
    "Dropping these columns helps reduce redundancy, simplify the feature space, and focus the model on the most informative predictors."
   ]
  },
  {
   "cell_type": "markdown",
   "metadata": {
    "id": "SxA7dZ0UDPWt"
   },
   "source": [
    "### **6.4 Combine values in Categorical Columns** <font color=\"red\">[6 Marks]</font>\n",
    "During the EDA process, categorical columns with multiple unique values may be identified. To enhance model performance, it is essential to refine these categorical features by grouping values that have low frequency or provide limited predictive information.\n",
    "\n",
    "Combine categories that occur infrequently or exhibit similar behavior to reduce sparsity and improve model generalisation."
   ]
  },
  {
   "cell_type": "code",
   "execution_count": 147,
   "metadata": {
    "id": "-OF7Y35dDPWt"
   },
   "outputs": [
    {
     "name": "stdout",
     "output_type": "stream",
     "text": [
      "\n",
      "insured_education_level value counts after combining low-frequency categories:\n",
      "JD             16.17%\n",
      "Associate      15.88%\n",
      "High School    15.74%\n",
      "Masters        14.16%\n",
      "MD             13.59%\n",
      "PhD            12.88%\n",
      "College        11.59%\n",
      "Name: insured_education_level, dtype: object\n",
      "\n",
      "insured_occupation value counts after combining low-frequency categories:\n",
      "machine-op-inspct     9.3%\n",
      "prof-specialty       9.01%\n",
      "transport-moving      8.3%\n",
      "exec-managerial      8.01%\n",
      "sales                7.87%\n",
      "tech-support         7.73%\n",
      "craft-repair         7.58%\n",
      "priv-house-serv      7.15%\n",
      "other-service        6.87%\n",
      "adm-clerical         6.72%\n",
      "armed-forces         6.58%\n",
      "protective-serv      5.29%\n",
      "handlers-cleaners    5.01%\n",
      "Other                4.58%\n",
      "Name: insured_occupation, dtype: object\n",
      "\n",
      "insured_hobbies value counts after combining low-frequency categories:\n",
      "Other             37.77%\n",
      "reading            7.01%\n",
      "paintball          6.72%\n",
      "bungie-jumping     5.72%\n",
      "golf               5.72%\n",
      "exercise           5.58%\n",
      "base-jumping       5.44%\n",
      "yachting           5.29%\n",
      "camping            5.29%\n",
      "skydiving          5.15%\n",
      "kayaking           5.15%\n",
      "hiking             5.15%\n",
      "Name: insured_hobbies, dtype: object\n",
      "\n",
      "insured_relationship value counts after combining low-frequency categories:\n",
      "other-relative    18.17%\n",
      "not-in-family     17.31%\n",
      "own-child         17.31%\n",
      "wife              16.31%\n",
      "husband           16.31%\n",
      "unmarried         14.59%\n",
      "Name: insured_relationship, dtype: object\n",
      "\n",
      "incident_type value counts after combining low-frequency categories:\n",
      "Multi-vehicle Collision     41.63%\n",
      "Single Vehicle Collision    40.34%\n",
      "Parked Car                    9.3%\n",
      "Vehicle Theft                8.73%\n",
      "Name: incident_type, dtype: object\n",
      "\n",
      "collision_type value counts after combining low-frequency categories:\n",
      "Rear Collision     30.33%\n",
      "Side Collision      26.9%\n",
      "Front Collision    24.75%\n",
      "Unknown            18.03%\n",
      "Name: collision_type, dtype: object\n",
      "\n",
      "incident_severity value counts after combining low-frequency categories:\n",
      "Minor Damage      36.19%\n",
      "Total Loss        27.61%\n",
      "Major Damage      27.47%\n",
      "Trivial Damage     8.73%\n",
      "Name: incident_severity, dtype: object\n",
      "\n",
      "authorities_contacted value counts after combining low-frequency categories:\n",
      "Police       28.33%\n",
      "Fire         22.46%\n",
      "Other        20.03%\n",
      "Ambulance    19.46%\n",
      "None          9.73%\n",
      "Name: authorities_contacted, dtype: object\n",
      "\n",
      "incident_state value counts after combining low-frequency categories:\n",
      "SC       25.32%\n",
      "NY       24.89%\n",
      "WV       21.75%\n",
      "NC       11.87%\n",
      "VA       10.73%\n",
      "Other     5.44%\n",
      "Name: incident_state, dtype: object\n",
      "\n",
      "incident_city value counts after combining low-frequency categories:\n",
      "Columbus       15.74%\n",
      "Springfield    15.02%\n",
      "Arlington      14.88%\n",
      "Northbend      14.31%\n",
      "Riverwood      14.16%\n",
      "Hillsdale      13.16%\n",
      "Northbrook     12.73%\n",
      "Name: incident_city, dtype: object\n",
      "\n",
      "property_damage value counts after combining low-frequency categories:\n",
      "Unknown    35.48%\n",
      "NO         34.91%\n",
      "YES        29.61%\n",
      "Name: property_damage, dtype: object\n",
      "\n",
      "auto_make value counts after combining low-frequency categories:\n",
      "Suburu        9.01%\n",
      "Nissan         8.3%\n",
      "Chevrolet     7.87%\n",
      "Ford          7.73%\n",
      "Dodge         7.58%\n",
      "Audi          7.44%\n",
      "Mercedes       7.3%\n",
      "Saab           7.3%\n",
      "BMW           7.15%\n",
      "Accura        7.15%\n",
      "Toyota        6.72%\n",
      "Jeep          6.29%\n",
      "Volkswagen    5.72%\n",
      "Other         4.43%\n",
      "Name: auto_make, dtype: object\n",
      "\n",
      "auto_model value counts after combining low-frequency categories:\n",
      "Other    100.0%\n",
      "Name: auto_model, dtype: object\n"
     ]
    }
   ],
   "source": [
    "# Combine categories that have low frequency or provide limited predictive information\n",
    "\n",
    "# Define categorical columns to refine\n",
    "cat_cols = X_train_final.select_dtypes(include=['object']).columns.tolist()\n",
    "\n",
    "# Threshold for low-frequency categories (e.g., less than 5% of training data)\n",
    "threshold = 0.05  \n",
    "# n_train = len(X_train_final)\n",
    "\n",
    "# Identify and replace infrequent categories\n",
    "for col in cat_cols:\n",
    "    # Calculate relative frequencies\n",
    "    freq = X_train_final[col].value_counts(normalize=True)\n",
    "    low_freq_cats = freq[freq < threshold].index.tolist()\n",
    "    \n",
    "    # Map low-frequency levels to 'Other'\n",
    "    X_train_final[col] = X_train_final[col].replace(low_freq_cats, 'Other')\n",
    "    X_test_final[col] = X_test_final[col].replace(low_freq_cats, 'Other')\n",
    "\n",
    "# Display updated category counts for verification\n",
    "for col in cat_cols:\n",
    "    print(f\"\\n{col} value counts after combining low-frequency categories:\")\n",
    "    print(X_train_final[col].value_counts(normalize=True).mul(100).round(2).astype(str) + '%')\n"
   ]
  },
  {
   "cell_type": "markdown",
   "metadata": {},
   "source": [
    "#### Inference\n",
    "\n",
    "Grouped all levels in each categorical feature that comprised less than 5 % of the training data into a single “Other” category. This reduces sparsity and helps the model generalize over infrequent or noisy categories."
   ]
  },
  {
   "cell_type": "markdown",
   "metadata": {
    "id": "C2vnyJqYDPWt"
   },
   "source": [
    "### **6.5 Dummy variable creation** <font color=\"red\">[6 Marks]</font>\n",
    "Transform categorical variables into numerical representations using dummy variables. Ensure consistent encoding between training and validation data."
   ]
  },
  {
   "cell_type": "markdown",
   "metadata": {
    "id": "pQHnbRB_DPWt"
   },
   "source": [
    "#### **6.5.1** Identify categorical columns for dummy variable creation <font color=\"red\">[1 Mark]</font>"
   ]
  },
  {
   "cell_type": "code",
   "execution_count": 148,
   "metadata": {
    "id": "YCR73H4VDPWt"
   },
   "outputs": [
    {
     "name": "stdout",
     "output_type": "stream",
     "text": [
      "Categorical columns for dummy creation:\n",
      "['insured_education_level', 'insured_occupation', 'insured_hobbies', 'insured_relationship', 'incident_type', 'collision_type', 'incident_severity', 'authorities_contacted', 'incident_state', 'incident_city', 'property_damage', 'auto_make', 'auto_model']\n"
     ]
    }
   ],
   "source": [
    "# Identify the categorical columns for creating dummy variables\n",
    "# Identify categorical columns in the final feature set\n",
    "cat_cols = X_train_final.select_dtypes(include=['object']).columns.tolist()\n",
    "print(\"Categorical columns for dummy creation:\")\n",
    "print(cat_cols)\n"
   ]
  },
  {
   "cell_type": "markdown",
   "metadata": {
    "id": "ZcCgF0lsDPWu"
   },
   "source": [
    "#### **6.5.2** Create dummy variables for categorical columns in training data <font color=\"red\">[2 Marks]</font>"
   ]
  },
  {
   "cell_type": "code",
   "execution_count": 149,
   "metadata": {
    "id": "JA8seldpDPWu"
   },
   "outputs": [],
   "source": [
    "# Create dummy variables using the 'get_dummies' for categorical columns in training data\n",
    "X_train_dum = pd.get_dummies(X_train_final, columns=cat_cols, drop_first=True)"
   ]
  },
  {
   "cell_type": "markdown",
   "metadata": {
    "id": "cbLlOiYcDPWu"
   },
   "source": [
    "#### **6.5.3** Create dummy variables for categorical columns in validation data <font color=\"red\">[2 Marks]</font>"
   ]
  },
  {
   "cell_type": "code",
   "execution_count": 150,
   "metadata": {
    "id": "zvQ4n9yaDPWu"
   },
   "outputs": [],
   "source": [
    "# Create dummy variables using the 'get_dummies' for categorical columns in validation data\n",
    "X_test_dum = pd.get_dummies(X_test_final, columns=cat_cols, drop_first=True)"
   ]
  },
  {
   "cell_type": "code",
   "execution_count": 151,
   "metadata": {},
   "outputs": [
    {
     "name": "stdout",
     "output_type": "stream",
     "text": [
      "X_train_dum shape: (699, 89)\n",
      "X_valid_dum shape: (300, 89)\n"
     ]
    }
   ],
   "source": [
    "# Align validation columns to match training\n",
    "X_test_dum = X_test_dum.reindex(columns=X_train_dum.columns, fill_value=0)\n",
    "\n",
    "# Display shapes for verification\n",
    "print(\"X_train_dum shape:\", X_train_dum.shape)\n",
    "print(\"X_valid_dum shape:\", X_test_dum.shape)"
   ]
  },
  {
   "cell_type": "markdown",
   "metadata": {
    "id": "tg5crIDKDPWu"
   },
   "source": [
    "#### **6.5.4** Create dummy variable for dependent feature in training and validation data <font color = \"red\">[1 Mark]</font>"
   ]
  },
  {
   "cell_type": "code",
   "execution_count": 152,
   "metadata": {
    "id": "LyreaJQXDPWu"
   },
   "outputs": [
    {
     "name": "stdout",
     "output_type": "stream",
     "text": [
      "y_train_dum shape: (699, 2)\n",
      "y_valid_dum shape: (300, 2)\n"
     ]
    }
   ],
   "source": [
    "# Create dummy variable for dependent feature in training data\n",
    "y_train_dum = pd.get_dummies(y_train, prefix='fraud', drop_first=False)\n",
    "\n",
    "# Create dummy variable for dependent feature in validation data\n",
    "y_test_dum = pd.get_dummies(y_test, prefix='fraud', drop_first=False)\n",
    "\n",
    "# Display shapes for verification\n",
    "print(\"y_train_dum shape:\", y_train_dum.shape)\n",
    "print(\"y_valid_dum shape:\", y_test_dum.shape)\n"
   ]
  },
  {
   "cell_type": "code",
   "execution_count": 154,
   "metadata": {},
   "outputs": [
    {
     "name": "stdout",
     "output_type": "stream",
     "text": [
      "Before resampling: Counter({0: 526, 1: 173})\n",
      "After resampling:  Counter({1: 699, 0: 699})\n"
     ]
    }
   ],
   "source": [
    "from imblearn.over_sampling import RandomOverSampler\n",
    "from collections import Counter\n",
    "\n",
    "# Perform resampling on training data\n",
    "ros = RandomOverSampler(random_state=42)\n",
    "\n",
    "X_train_resampled, y_train_resampled = ros.fit_resample(X_train_dum, y_train_dum.values.ravel())\n",
    "\n",
    "# 3. Check class distributions before and after\n",
    "print(\"Before resampling:\", Counter(y_train))\n",
    "print(\"After resampling: \", Counter(y_train_resampled))"
   ]
  },
  {
   "cell_type": "code",
   "execution_count": 155,
   "metadata": {},
   "outputs": [
    {
     "data": {
      "text/plain": [
       "(699, 89)"
      ]
     },
     "execution_count": 155,
     "metadata": {},
     "output_type": "execute_result"
    }
   ],
   "source": [
    "X_train_resampled.shape"
   ]
  },
  {
   "cell_type": "code",
   "execution_count": 156,
   "metadata": {},
   "outputs": [
    {
     "data": {
      "text/plain": [
       "(1398,)"
      ]
     },
     "execution_count": 156,
     "metadata": {},
     "output_type": "execute_result"
    }
   ],
   "source": [
    "y_train_resampled.shape"
   ]
  },
  {
   "cell_type": "markdown",
   "metadata": {
    "id": "USXyE8QSDPWu"
   },
   "source": [
    "### **6.6 Feature scaling** <font color = red>[3 marks]</font>\n",
    "Scale numerical features to a common range to prevent features with larger values from dominating the model.  Choose a scaling method appropriate for the data and the chosen model. Apply the same scaling to both training and validation data."
   ]
  },
  {
   "cell_type": "code",
   "execution_count": 52,
   "metadata": {
    "id": "VfE4LXqXDPWu"
   },
   "outputs": [
    {
     "name": "stdout",
     "output_type": "stream",
     "text": [
      "X_train_scaled shape:    months_as_customer       age  policy_deductable  umbrella_limit  \\\n",
      "0           -0.648103 -1.202883          -0.246192       -0.479788   \n",
      "1            0.065501  0.238768          -1.065660       -0.479788   \n",
      "2           -1.035739 -1.535572          -1.065660       -0.479788   \n",
      "3            1.994873  1.902212          -0.246192        2.192496   \n",
      "4           -0.850731 -0.870194           1.392744       -0.479788   \n",
      "\n",
      "   incident_hour_of_the_day  number_of_vehicles_involved  bodily_injuries  \\\n",
      "0                  1.653807                    -0.822875         1.257154   \n",
      "1                  0.067464                     1.160537         1.257154   \n",
      "2                 -0.509387                    -0.822875         1.257154   \n",
      "3                 -1.663091                    -0.822875         1.257154   \n",
      "4                  1.221168                     1.160537        -1.173691   \n",
      "\n",
      "   witnesses  total_claim_amount  auto_year  ...  auto_make_Dodge  \\\n",
      "0   1.391572           -0.309391   0.006484  ...                0   \n",
      "1  -1.322964            1.051261  -0.664923  ...                0   \n",
      "2   0.486727           -1.766031   0.006484  ...                0   \n",
      "3  -1.322964           -0.502115  -0.497071  ...                0   \n",
      "4   1.391572           -0.272414   1.013593  ...                0   \n",
      "\n",
      "   auto_make_Ford  auto_make_Jeep  auto_make_Mercedes  auto_make_Nissan  \\\n",
      "0               0               0                   0                 0   \n",
      "1               0               0                   0                 0   \n",
      "2               0               0                   0                 1   \n",
      "3               0               0                   0                 0   \n",
      "4               0               0                   0                 0   \n",
      "\n",
      "   auto_make_Other  auto_make_Saab  auto_make_Suburu  auto_make_Toyota  \\\n",
      "0                0               0                 0                 1   \n",
      "1                0               0                 0                 0   \n",
      "2                0               0                 0                 0   \n",
      "3                0               0                 1                 0   \n",
      "4                0               0                 0                 0   \n",
      "\n",
      "   auto_make_Volkswagen  \n",
      "0                     0  \n",
      "1                     0  \n",
      "2                     0  \n",
      "3                     0  \n",
      "4                     0  \n",
      "\n",
      "[5 rows x 89 columns]\n",
      "X_test_scaled shape:    months_as_customer       age  policy_deductable  umbrella_limit  \\\n",
      "0            2.250361  2.234900          -0.246192       -0.479788   \n",
      "1            0.285749  0.349664          -1.065660       -0.479788   \n",
      "2           -0.181177 -0.093921           1.392744       -0.479788   \n",
      "3           -1.476235 -0.426609           1.392744       -0.479788   \n",
      "4            0.232889 -0.204817          -0.246192       -0.479788   \n",
      "\n",
      "   incident_hour_of_the_day  number_of_vehicles_involved  bodily_injuries  \\\n",
      "0                  1.653807                    -0.822875         1.257154   \n",
      "1                 -0.653600                     2.152243         1.257154   \n",
      "2                  0.932742                    -0.822875         1.257154   \n",
      "3                  1.653807                     1.160537         1.257154   \n",
      "4                  0.788529                    -0.822875        -1.173691   \n",
      "\n",
      "   witnesses  total_claim_amount  auto_year  ...  auto_make_Dodge  \\\n",
      "0   0.486727            0.705029  -1.672033  ...                0   \n",
      "1  -0.418119            0.604184   0.174335  ...                0   \n",
      "2   1.391572            1.371722   0.006484  ...                1   \n",
      "3   0.486727            0.009950  -1.504181  ...                0   \n",
      "4   0.486727            0.061119  -0.161368  ...                0   \n",
      "\n",
      "   auto_make_Ford  auto_make_Jeep  auto_make_Mercedes  auto_make_Nissan  \\\n",
      "0               0               1                   0                 0   \n",
      "1               0               0                   0                 0   \n",
      "2               0               0                   0                 0   \n",
      "3               0               0                   0                 0   \n",
      "4               0               0                   0                 0   \n",
      "\n",
      "   auto_make_Other  auto_make_Saab  auto_make_Suburu  auto_make_Toyota  \\\n",
      "0                0               0                 0                 0   \n",
      "1                0               0                 0                 1   \n",
      "2                0               0                 0                 0   \n",
      "3                0               0                 0                 0   \n",
      "4                0               1                 0                 0   \n",
      "\n",
      "   auto_make_Volkswagen  \n",
      "0                     0  \n",
      "1                     0  \n",
      "2                     0  \n",
      "3                     1  \n",
      "4                     0  \n",
      "\n",
      "[5 rows x 89 columns]\n"
     ]
    }
   ],
   "source": [
    "# Import the necessary scaling tool from scikit-learn\n",
    "from sklearn.preprocessing import StandardScaler\n",
    "\n",
    "numeric_cols = X_train_resampled.select_dtypes(include=['int64', 'float64']).columns.tolist()\n",
    "scaler = StandardScaler()\n",
    "\n",
    "# Scale the numeric features present in the training data\n",
    "X_train_scaled = X_train_resampled.copy()\n",
    "X_train_scaled[numeric_cols] = scaler.fit_transform(X_train_resampled[numeric_cols])\n",
    "\n",
    "# Scale the numeric features present in the validation data\n",
    "X_test_scaled = X_test_dum.copy()\n",
    "X_test_scaled[numeric_cols] = scaler.transform(X_test_dum[numeric_cols])\n",
    "\n",
    "# Display shapes for verification\n",
    "print(\"X_train_scaled shape:\", X_train_scaled.head())\n",
    "print(\"X_test_scaled shape:\", X_test_scaled.head())\n"
   ]
  },
  {
   "cell_type": "markdown",
   "metadata": {
    "id": "pqIhEkpxDPWu"
   },
   "source": [
    "## **7. Model Building** <font color = red>[50 marks]</font>"
   ]
  },
  {
   "cell_type": "markdown",
   "metadata": {
    "id": "i2OLtpZWUmgS"
   },
   "source": [
    "In this task, you will be building two machine learning models: Logistic Regression and Random Forest. Each model will go through a structured process to ensure optimal performance. The key steps for each model are outlined below:\n",
    "\n",
    "**Logistic Regression Model**\n",
    "- Feature Selection using RFECV – Identify the most relevant features using Recursive Feature Elimination with Cross-Validation.\n",
    "- Model Building and Multicollinearity Assessment – Build the logistic regression model and analyse statistical aspects such as p-values and VIFs to detect multicollinearity.\n",
    "- Model Training and Evaluation on Training Data – Fit the model on the training data and assess initial performance.\n",
    "- Finding the Optimal Cutoff – Determine the best probability threshold by analysing the sensitivity-specificity tradeoff and precision-recall tradeoff.\n",
    "- FInal Prediction and Evaluation on Training Data using the Optimal Cutoff – Generate final predictions using the selected cutoff and evaluate model performance.\n",
    "\n",
    "**Random Forest Model**\n",
    "- Get Feature Importances - Obtain the importance scores for each feature and select the important features to train the model.\n",
    "- Model Evaluation on Training Data – Assess performance metrics on the training data.\n",
    "- Check Model Overfitting using Cross-Validation – Evaluate generalisation by performing cross-validation.\n",
    "- Hyperparameter Tuning using Grid Search – Optimise model performance by fine-tuning hyperparameters.\n",
    "- Final Model and Evaluation on Training Data – Train the final model using the best parameters and assess its performance."
   ]
  },
  {
   "cell_type": "markdown",
   "metadata": {
    "id": "DwQl23_eDPWx"
   },
   "source": [
    "### **7.1 Feature selection** <font color = red>[4 marks]</font>\n",
    "Identify and select the most relevant features for building a logistic regression model using Recursive Feature Elimination with Cross-Validation (RFECV)."
   ]
  },
  {
   "cell_type": "markdown",
   "metadata": {
    "id": "x7oRIQMhDPWy"
   },
   "source": [
    "#### **7.1.1** Import necessary libraries <font color=\"red\">[1 Mark]</font>"
   ]
  },
  {
   "cell_type": "code",
   "execution_count": 53,
   "metadata": {
    "id": "RzQF3EyIDPWy"
   },
   "outputs": [],
   "source": [
    "# Import necessary libraries\n",
    "from sklearn.feature_selection import RFECV\n",
    "from sklearn.linear_model import LogisticRegression\n",
    "from sklearn.model_selection import StratifiedKFold\n",
    "from sklearn.pipeline import Pipeline"
   ]
  },
  {
   "cell_type": "markdown",
   "metadata": {
    "id": "j1sHmcZKDPWy"
   },
   "source": [
    "#### **7.1.2** Perform feature selection <font color=\"red\">[2 Mark]</font>"
   ]
  },
  {
   "cell_type": "code",
   "execution_count": 1,
   "metadata": {
    "id": "NKRnzy8sDPWy"
   },
   "outputs": [
    {
     "ename": "NameError",
     "evalue": "name 'X_train_scaled' is not defined",
     "output_type": "error",
     "traceback": [
      "\u001b[1;31m---------------------------------------------------------------------------\u001b[0m",
      "\u001b[1;31mNameError\u001b[0m                                 Traceback (most recent call last)",
      "Input \u001b[1;32mIn [1]\u001b[0m, in \u001b[0;36m<cell line: 4>\u001b[1;34m()\u001b[0m\n\u001b[0;32m      1\u001b[0m \u001b[38;5;66;03m# Apply RFECV to identify the most relevant features\u001b[39;00m\n\u001b[0;32m      2\u001b[0m \u001b[38;5;66;03m#X_num = X_train_dum.select_dtypes(include=[np.number])\u001b[39;00m\n\u001b[1;32m----> 4\u001b[0m X_num \u001b[38;5;241m=\u001b[39m \u001b[43mX_train_scaled\u001b[49m\n\u001b[0;32m      5\u001b[0m y \u001b[38;5;241m=\u001b[39m y_train_dum\n\u001b[0;32m      7\u001b[0m \u001b[38;5;66;03m# Create a pipeline with RFECV and Logistic Regression\u001b[39;00m\n",
      "\u001b[1;31mNameError\u001b[0m: name 'X_train_scaled' is not defined"
     ]
    }
   ],
   "source": [
    "# Apply RFECV to identify the most relevant features\n",
    "#X_num = X_train_dum.select_dtypes(include=[np.number])\n",
    "\n",
    "X_num = X_train_scaled\n",
    "y = y_train_dum\n",
    "\n",
    "# Create a pipeline with RFECV and Logistic Regression\n",
    "cv = StratifiedKFold(n_splits=5, shuffle=True, random_state=42)\n",
    "pipeline = Pipeline([\n",
    "    ('scaler', StandardScaler()),\n",
    "    ('clf', LogisticRegression(solver='lbfgs',\n",
    "                               max_iter=1000,\n",
    "                               class_weight='balanced',\n",
    "                               random_state=42))\n",
    "])\n",
    "\n",
    "# 3. Initialize and fit RFECV (using ROC‐AUC as the scoring metric)\n",
    "rfecv = RFECV(estimator=pipeline,\n",
    "              step=1,\n",
    "              cv=cv,\n",
    "              scoring='roc_auc',\n",
    "              n_jobs=-1,\n",
    "              importance_getter=lambda est: est.named_steps['clf'].coef_[0])\n",
    "rfecv.fit(X_num, y)"
   ]
  },
  {
   "cell_type": "code",
   "execution_count": 101,
   "metadata": {
    "id": "1I0kn-9qDPWy"
   },
   "outputs": [
    {
     "name": "stdout",
     "output_type": "stream",
     "text": [
      "                        feature  ranking  selected\n",
      "2             policy_deductable        1      True\n",
      "3                umbrella_limit        1      True\n",
      "7                     witnesses        1      True\n",
      "8            total_claim_amount        1      True\n",
      "9                     auto_year        1      True\n",
      "11           claim_deduct_ratio        1      True\n",
      "0            months_as_customer        2     False\n",
      "1                           age        3     False\n",
      "5   number_of_vehicles_involved        4     False\n",
      "12               incident_month        5     False\n",
      "14           incident_dayofweek        6     False\n",
      "6               bodily_injuries        7     False\n",
      "10                  net_capital        8     False\n",
      "4      incident_hour_of_the_day        9     False\n",
      "13             incident_quarter       10     False\n"
     ]
    }
   ],
   "source": [
    "# Display the features ranking by RFECV in a DataFrame\n",
    "ranking_df = pd.DataFrame({\n",
    "    'feature': X_num.columns,\n",
    "    'ranking': rfecv.ranking_,\n",
    "    'selected': rfecv.support_\n",
    "}).sort_values('ranking')\n",
    "\n",
    "print(ranking_df)\n"
   ]
  },
  {
   "cell_type": "markdown",
   "metadata": {},
   "source": [
    "#### Inference\n",
    "\n",
    "The RFECV has identified the following 6 features as optimal (ranking = 1, selected=True):\n",
    "\n",
    "- policy_deductable\n",
    "- umbrella_limit\n",
    "- witnesses\n",
    "- total_claim_amount\n",
    "- auto_year\n",
    "- claim_deduct_ratio\n"
   ]
  },
  {
   "cell_type": "markdown",
   "metadata": {
    "id": "KKdXnylEDPWz"
   },
   "source": [
    "#### **7.1.2** Retain the selected features <font color=\"red\">[1 Mark]</font>"
   ]
  },
  {
   "cell_type": "code",
   "execution_count": 103,
   "metadata": {
    "id": "Q8TkAe72DPWz"
   },
   "outputs": [
    {
     "name": "stdout",
     "output_type": "stream",
     "text": [
      "['policy_deductable', 'umbrella_limit', 'witnesses', 'total_claim_amount', 'auto_year', 'claim_deduct_ratio']\n"
     ]
    }
   ],
   "source": [
    "# Put columns selected by RFECV into variable 'col'\n",
    "col = ranking_df.loc[ranking_df['ranking'] == 1, 'feature'].tolist()\n",
    "\n",
    "print(col)"
   ]
  },
  {
   "cell_type": "markdown",
   "metadata": {
    "id": "J8zNEaKcDPWz"
   },
   "source": [
    "### **7.2 Build Logistic Regression Model** <font color = red>[12 marks]</font>\n",
    "After selecting the optimal features using RFECV, utilise these features to build a logistic regression model with Statsmodels. This approach enables a detailed statistical analysis of the model, including the assessment of p-values and Variance Inflation Factors (VIFs). Evaluating these metrics is crucial for detecting multicollinearity and ensuring that the selected predictors are not highly correlated."
   ]
  },
  {
   "cell_type": "markdown",
   "metadata": {
    "id": "xXwl9DO3DPWz"
   },
   "source": [
    "#### **7.2.1** Select relevant features and add constant in training data <font color=\"red\">[1 Mark]</font>"
   ]
  },
  {
   "cell_type": "code",
   "execution_count": 104,
   "metadata": {
    "id": "kF5g0yScDPWz"
   },
   "outputs": [],
   "source": [
    "# Select only the columns selected by RFECV\n",
    "X_sm = X_train_dum[col]"
   ]
  },
  {
   "cell_type": "code",
   "execution_count": 105,
   "metadata": {
    "id": "aBzSiNhrDPWz"
   },
   "outputs": [
    {
     "name": "stdout",
     "output_type": "stream",
     "text": [
      "   const  policy_deductable  umbrella_limit  witnesses  total_claim_amount  \\\n",
      "0    1.0               1000               0          3               44640   \n",
      "1    1.0                500               0          0               81070   \n",
      "2    1.0                500               0          2                5640   \n",
      "3    1.0               1000         6000000          0               39480   \n",
      "4    1.0               2000               0          3               45630   \n",
      "\n",
      "   auto_year  claim_deduct_ratio  \n",
      "0       2005              44.640  \n",
      "1       2001             162.140  \n",
      "2       2005              11.280  \n",
      "3       2002              39.480  \n",
      "4       2011              22.815  \n"
     ]
    }
   ],
   "source": [
    "# Import statsmodels and add constant\n",
    "import statsmodels.api as sm\n",
    "\n",
    "X_sm = sm.add_constant(X_sm)\n",
    "\n",
    "# Check the data\n",
    "print(X_sm.head())"
   ]
  },
  {
   "cell_type": "markdown",
   "metadata": {
    "id": "jc9wYqe8DPW0"
   },
   "source": [
    "#### **7.2.2** Fit logistic regression model <font color=\"red\">[2 Marks]</font>"
   ]
  },
  {
   "cell_type": "code",
   "execution_count": 106,
   "metadata": {
    "id": "2VTpvsZsDPW0"
   },
   "outputs": [
    {
     "name": "stdout",
     "output_type": "stream",
     "text": [
      "Model Summary:\n",
      "\n",
      "                           Logit Regression Results                           \n",
      "==============================================================================\n",
      "Dep. Variable:         fraud_reported   No. Observations:                  699\n",
      "Model:                          Logit   Df Residuals:                      692\n",
      "Method:                           MLE   Df Model:                            6\n",
      "Date:                Tue, 22 Apr 2025   Pseudo R-squ.:                 0.04540\n",
      "Time:                        07:58:25   Log-Likelihood:                -373.38\n",
      "converged:                       True   LL-Null:                       -391.14\n",
      "Covariance Type:            nonrobust   LLR p-value:                 3.418e-06\n",
      "======================================================================================\n",
      "                         coef    std err          z      P>|z|      [0.025      0.975]\n",
      "--------------------------------------------------------------------------------------\n",
      "const                 33.5684     30.392      1.105      0.269     -25.998      93.135\n",
      "policy_deductable      0.0006      0.000      2.187      0.029    6.23e-05       0.001\n",
      "umbrella_limit      7.709e-08   3.82e-08      2.019      0.044    2.24e-09    1.52e-07\n",
      "witnesses              0.1479      0.082      1.799      0.072      -0.013       0.309\n",
      "total_claim_amount  5.897e-06   6.07e-06      0.971      0.332   -6.01e-06    1.78e-05\n",
      "auto_year             -0.0183      0.015     -1.206      0.228      -0.048       0.011\n",
      "claim_deduct_ratio     0.0098      0.004      2.270      0.023       0.001       0.018\n",
      "======================================================================================\n"
     ]
    }
   ],
   "source": [
    "# Fit a logistic Regression model on X_train after adding a constant and output the summary\n",
    "model = sm.Logit(y_train, X_sm).fit(disp=False)\n",
    "print(\"Model Summary:\\n\")\n",
    "print(model.summary())"
   ]
  },
  {
   "cell_type": "markdown",
   "metadata": {},
   "source": [
    "#### Inference\n",
    "\n",
    "##### Overall fit\n",
    "\n",
    "- The model’s LLR p‑value (3.4 × 10⁻⁶) indicates it’s significantly better than an intercept‐only model, but the Pseudo R² ≈ 0.0454 is quite low, so it explains only ~4.5 % of the variance.\n",
    "\n",
    "##### Significant predictors (p < 0.05)\n",
    "\n",
    "- policy_deductable (coef = 0.0006; p = 0.029): A higher deductible modestly increases the log‑odds of fraud.\n",
    "\n",
    "- umbrella_limit (coef ≈ 7.7 × 10⁻⁸; p = 0.044): Larger umbrella coverage is associated with a slightly higher fraud risk.\n",
    "\n",
    "- claim_deduct_ratio (coef = 0.0098; p = 0.023): As the claim‐to‐deductible ratio rises, so does the probability of fraud.\n",
    "\n",
    "##### Marginal / non‑significant predictors\n",
    "\n",
    "- witnesses (p = 0.072): More witnesses trend toward higher fraud odds but only at the 10 % level.\n",
    "\n",
    "- total_claim_amount (p = 0.332) and auto_year (p = 0.228) show no significant independent effect once the other variables are in the model.\n",
    "\n",
    "##### Intercept\n",
    "\n",
    "- The constant isn’t significant (p = 0.269), which is common in unbalanced binaries."
   ]
  },
  {
   "cell_type": "markdown",
   "metadata": {
    "id": "XBd9hyWgDPW0"
   },
   "source": [
    "**Model Interpretation**\n",
    "\n",
    "The output summary table will provide the features used for building model along with coefficient of each of the feature and their p-value. The p-value in a logistic regression model is used to assess the statistical significance of each coefficient. Lesser the p-value, more significant the feature is in the model.\n",
    "\n",
    "A positive coefficient will indicate that an increase in the value of feature would increase the odds of the event occurring. On the other hand, a negative coefficient means the opposite, i.e, an increase in the value of feature would decrease the odds of the event occurring."
   ]
  },
  {
   "cell_type": "markdown",
   "metadata": {
    "id": "VnhgDNCNDPW0"
   },
   "source": [
    "Now check VIFs for presence of multicollinearity in the model."
   ]
  },
  {
   "cell_type": "markdown",
   "metadata": {
    "id": "xLTRjCqCDPW0"
   },
   "source": [
    "#### **7.2.3** Evaluate VIF of features to assess multicollinearity <font color=\"red\">[2 Marks]</font>"
   ]
  },
  {
   "cell_type": "code",
   "execution_count": null,
   "metadata": {
    "id": "MOIppRgGDPW0"
   },
   "outputs": [],
   "source": [
    "# Import 'variance_inflation_factor'\n",
    "from statsmodels.stats.outliers_influence import variance_inflation_factor"
   ]
  },
  {
   "cell_type": "code",
   "execution_count": 107,
   "metadata": {
    "id": "Xwb2dA9XDPW0"
   },
   "outputs": [
    {
     "name": "stdout",
     "output_type": "stream",
     "text": [
      "\n",
      "Variance Inflation Factors:\n",
      "              feature            VIF\n",
      "0               const  113465.834275\n",
      "1   policy_deductable       3.032081\n",
      "2      umbrella_limit       1.005905\n",
      "3           witnesses       1.009720\n",
      "4  total_claim_amount       3.285056\n",
      "5           auto_year       1.001928\n",
      "6  claim_deduct_ratio       5.425968\n"
     ]
    }
   ],
   "source": [
    "# Make a VIF DataFrame for all the variables present\n",
    "vif = pd.DataFrame({\n",
    "    'feature': X_sm.columns,\n",
    "    'VIF': [variance_inflation_factor(X_sm.values, i) for i in range(X_sm.shape[1])]\n",
    "})\n",
    "print(\"\\nVariance Inflation Factors:\")\n",
    "print(vif)"
   ]
  },
  {
   "cell_type": "markdown",
   "metadata": {},
   "source": [
    "#### Inference\n",
    "| Feature | VIF | Interpretation |\n",
    "|---------|-----|----------------|\n",
    "| const | 113466 | The intercept always shows a huge VIF—ignore this |\n",
    "| policy_deductable | 3.03 | Moderate correlation with other predictors, but well under 5 |\n",
    "| umbrella_limit | 1.01 | Virtually no collinearity |\n",
    "| witnesses | 1.01 | Virtually no collinearity |\n",
    "| total_claim_amount | 3.29 | Moderate correlation—again acceptable (< 5) |\n",
    "| auto_year | 1.00 | No collinearity concern |\n",
    "| claim_deduct_ratio | 5.43 | Borderline high—this ratio is naturally correlated with its components (total_claim_amount and policy_deductable) |\n",
    "\n",
    "\n",
    "Overall, all predictors except the intercept have VIFs well below the usual cutoff of 10 (and most below 5), indicating that multicollinearity is not a serious issue for this model."
   ]
  },
  {
   "cell_type": "markdown",
   "metadata": {
    "id": "2RMrfSNPDPW1"
   },
   "source": [
    "Proceed to the next step if p-values and VIFs are within acceptable ranges. If you observe high p-values or VIFs, drop the features and retrain the model. <font color=\"red\">[THIS IS OPTIONAL]</font>"
   ]
  },
  {
   "cell_type": "markdown",
   "metadata": {
    "id": "68j2g6bRDPW1"
   },
   "source": [
    "#### **7.2.4** Make predictions on training data <font color = \"red\">[1 Mark]</font>"
   ]
  },
  {
   "cell_type": "code",
   "execution_count": 109,
   "metadata": {
    "id": "5DT1M3O9DPW1"
   },
   "outputs": [
    {
     "name": "stdout",
     "output_type": "stream",
     "text": [
      "[[0.20480684]\n",
      " [0.34106276]\n",
      " [0.08614893]\n",
      " [0.20362944]\n",
      " [0.2544456 ]\n",
      " [0.39378155]\n",
      " [0.30238903]\n",
      " [0.11713448]\n",
      " [0.29327819]\n",
      " [0.17505467]\n",
      " [0.13237672]\n",
      " [0.19891629]\n",
      " [0.16738507]\n",
      " [0.20351633]\n",
      " [0.07731354]\n",
      " [0.14796519]\n",
      " [0.23829836]\n",
      " [0.18334902]\n",
      " [0.20856286]\n",
      " [0.05886175]\n",
      " [0.26754202]\n",
      " [0.18771257]\n",
      " [0.24221022]\n",
      " [0.15545028]\n",
      " [0.26451079]\n",
      " [0.24963   ]\n",
      " [0.40368463]\n",
      " [0.24589164]\n",
      " [0.14824919]\n",
      " [0.32383712]\n",
      " [0.28015841]\n",
      " [0.12598887]\n",
      " [0.41034565]\n",
      " [0.2183539 ]\n",
      " [0.34006691]\n",
      " [0.19304654]\n",
      " [0.40544939]\n",
      " [0.2186123 ]\n",
      " [0.20867323]\n",
      " [0.20443502]\n",
      " [0.31964698]\n",
      " [0.35890348]\n",
      " [0.0668493 ]\n",
      " [0.3045088 ]\n",
      " [0.27130421]\n",
      " [0.1963942 ]\n",
      " [0.29549586]\n",
      " [0.49835559]\n",
      " [0.24625318]\n",
      " [0.37974148]\n",
      " [0.1176382 ]\n",
      " [0.36885712]\n",
      " [0.21226873]\n",
      " [0.58325133]\n",
      " [0.31682711]\n",
      " [0.26100621]\n",
      " [0.40069713]\n",
      " [0.17887353]\n",
      " [0.08687814]\n",
      " [0.18029298]\n",
      " [0.33316641]\n",
      " [0.72675262]\n",
      " [0.27922424]\n",
      " [0.10190719]\n",
      " [0.3069107 ]\n",
      " [0.08177767]\n",
      " [0.34979842]\n",
      " [0.19428424]\n",
      " [0.36904058]\n",
      " [0.06822205]\n",
      " [0.1718605 ]\n",
      " [0.38298695]\n",
      " [0.34774206]\n",
      " [0.29121854]\n",
      " [0.20762557]\n",
      " [0.28021218]\n",
      " [0.29939943]\n",
      " [0.25505894]\n",
      " [0.3047469 ]\n",
      " [0.21892425]\n",
      " [0.26128137]\n",
      " [0.24707632]\n",
      " [0.26262767]\n",
      " [0.19467148]\n",
      " [0.14230545]\n",
      " [0.48271485]\n",
      " [0.22329022]\n",
      " [0.2297119 ]\n",
      " [0.20205722]\n",
      " [0.06388375]\n",
      " [0.18354841]\n",
      " [0.07355875]\n",
      " [0.07943398]\n",
      " [0.2596589 ]\n",
      " [0.32614476]\n",
      " [0.25661862]\n",
      " [0.40513929]\n",
      " [0.16620089]\n",
      " [0.23811525]\n",
      " [0.2170321 ]\n",
      " [0.13903302]\n",
      " [0.11812313]\n",
      " [0.09708206]\n",
      " [0.21065547]\n",
      " [0.30394938]\n",
      " [0.24168009]\n",
      " [0.22026453]\n",
      " [0.33058193]\n",
      " [0.25373323]\n",
      " [0.23565057]\n",
      " [0.15986506]\n",
      " [0.27031679]\n",
      " [0.23557717]\n",
      " [0.27155118]\n",
      " [0.30896675]\n",
      " [0.40268893]\n",
      " [0.26023356]\n",
      " [0.40746101]\n",
      " [0.33876461]\n",
      " [0.34800829]\n",
      " [0.1697104 ]\n",
      " [0.16346145]\n",
      " [0.33047231]\n",
      " [0.29952582]\n",
      " [0.30831386]\n",
      " [0.16475363]\n",
      " [0.25573702]\n",
      " [0.11656917]\n",
      " [0.25007841]\n",
      " [0.17928745]\n",
      " [0.32506865]\n",
      " [0.39562032]\n",
      " [0.29638136]\n",
      " [0.0977743 ]\n",
      " [0.22785787]\n",
      " [0.33584926]\n",
      " [0.217064  ]\n",
      " [0.13834827]\n",
      " [0.23875628]\n",
      " [0.0812192 ]\n",
      " [0.17749112]\n",
      " [0.22416334]\n",
      " [0.46252542]\n",
      " [0.22829018]\n",
      " [0.11725979]\n",
      " [0.53438953]\n",
      " [0.2408837 ]\n",
      " [0.32095534]\n",
      " [0.3241385 ]\n",
      " [0.17048776]\n",
      " [0.29201119]\n",
      " [0.17735528]\n",
      " [0.18778611]\n",
      " [0.23062238]\n",
      " [0.35645227]\n",
      " [0.28286265]\n",
      " [0.20287747]\n",
      " [0.35888117]\n",
      " [0.19323734]\n",
      " [0.20377714]\n",
      " [0.0868631 ]\n",
      " [0.34481915]\n",
      " [0.44515898]\n",
      " [0.28263499]\n",
      " [0.28192195]\n",
      " [0.30402235]\n",
      " [0.18880663]\n",
      " [0.27659098]\n",
      " [0.33195364]\n",
      " [0.25802867]\n",
      " [0.2348648 ]\n",
      " [0.22014511]\n",
      " [0.26108922]\n",
      " [0.26876797]\n",
      " [0.10587222]\n",
      " [0.20037256]\n",
      " [0.12985192]\n",
      " [0.28102761]\n",
      " [0.27957849]\n",
      " [0.2803263 ]\n",
      " [0.22176788]\n",
      " [0.22341021]\n",
      " [0.19881383]\n",
      " [0.1777803 ]\n",
      " [0.24287419]\n",
      " [0.25713017]\n",
      " [0.16807448]\n",
      " [0.17031374]\n",
      " [0.27033488]\n",
      " [0.27225456]\n",
      " [0.13166271]\n",
      " [0.08171469]\n",
      " [0.32808243]\n",
      " [0.22759499]\n",
      " [0.27336193]\n",
      " [0.3835356 ]\n",
      " [0.34999127]\n",
      " [0.140816  ]\n",
      " [0.24735412]\n",
      " [0.41123551]\n",
      " [0.17594133]\n",
      " [0.33337803]\n",
      " [0.39442054]\n",
      " [0.26519753]\n",
      " [0.43309868]\n",
      " [0.09382777]\n",
      " [0.12549821]\n",
      " [0.16691439]\n",
      " [0.3045713 ]\n",
      " [0.23854034]\n",
      " [0.45484691]\n",
      " [0.30173068]\n",
      " [0.15431   ]\n",
      " [0.11705234]\n",
      " [0.33807855]\n",
      " [0.21569906]\n",
      " [0.16348548]\n",
      " [0.15790232]\n",
      " [0.24979192]\n",
      " [0.35412592]\n",
      " [0.09593256]\n",
      " [0.14203549]\n",
      " [0.32128291]\n",
      " [0.30159361]\n",
      " [0.52435637]\n",
      " [0.11493923]\n",
      " [0.27782658]\n",
      " [0.28694125]\n",
      " [0.23598172]\n",
      " [0.312642  ]\n",
      " [0.30070548]\n",
      " [0.28282641]\n",
      " [0.25394129]\n",
      " [0.18967856]\n",
      " [0.31841346]\n",
      " [0.24121441]\n",
      " [0.41297326]\n",
      " [0.26159517]\n",
      " [0.34900437]\n",
      " [0.2092017 ]\n",
      " [0.31351671]\n",
      " [0.2397899 ]\n",
      " [0.1882796 ]\n",
      " [0.07889114]\n",
      " [0.28691628]\n",
      " [0.2445129 ]\n",
      " [0.09630393]\n",
      " [0.33401741]\n",
      " [0.30271222]\n",
      " [0.25616144]\n",
      " [0.34925173]\n",
      " [0.21796381]\n",
      " [0.2529746 ]\n",
      " [0.22005704]\n",
      " [0.25772607]\n",
      " [0.13075081]\n",
      " [0.20860982]\n",
      " [0.39920267]\n",
      " [0.324048  ]\n",
      " [0.33014336]\n",
      " [0.18026319]\n",
      " [0.21388121]\n",
      " [0.14568909]\n",
      " [0.12632033]\n",
      " [0.24529169]\n",
      " [0.37101868]\n",
      " [0.07514342]\n",
      " [0.34835798]\n",
      " [0.31397065]\n",
      " [0.19949536]\n",
      " [0.08121938]\n",
      " [0.25782556]\n",
      " [0.27763052]\n",
      " [0.25686614]\n",
      " [0.21614971]\n",
      " [0.27166415]\n",
      " [0.16537211]\n",
      " [0.07036458]\n",
      " [0.27523238]\n",
      " [0.24484113]\n",
      " [0.26355366]\n",
      " [0.24224203]\n",
      " [0.23743592]\n",
      " [0.17137799]\n",
      " [0.27436555]\n",
      " [0.27891192]\n",
      " [0.52570113]\n",
      " [0.23919501]\n",
      " [0.24556528]\n",
      " [0.48907639]\n",
      " [0.26037853]\n",
      " [0.15504234]\n",
      " [0.25089605]\n",
      " [0.24644033]\n",
      " [0.20927545]\n",
      " [0.44082511]\n",
      " [0.32986073]\n",
      " [0.22715045]\n",
      " [0.31363548]\n",
      " [0.20634133]\n",
      " [0.38999228]\n",
      " [0.36417893]\n",
      " [0.44052968]\n",
      " [0.30556876]\n",
      " [0.14801924]\n",
      " [0.32447815]\n",
      " [0.21630121]\n",
      " [0.13193382]\n",
      " [0.11363442]\n",
      " [0.20386163]\n",
      " [0.23083309]\n",
      " [0.16062633]\n",
      " [0.20002269]\n",
      " [0.2704504 ]\n",
      " [0.16331347]\n",
      " [0.31581276]\n",
      " [0.16711891]\n",
      " [0.25151293]\n",
      " [0.21694784]\n",
      " [0.27222853]\n",
      " [0.05518133]\n",
      " [0.09235536]\n",
      " [0.19479037]\n",
      " [0.22018806]\n",
      " [0.31681241]\n",
      " [0.1826887 ]\n",
      " [0.10152579]\n",
      " [0.28942219]\n",
      " [0.26704131]\n",
      " [0.43364732]\n",
      " [0.35954985]\n",
      " [0.2595717 ]\n",
      " [0.31256746]\n",
      " [0.23841349]\n",
      " [0.28271072]\n",
      " [0.11226788]\n",
      " [0.08947279]\n",
      " [0.24445394]\n",
      " [0.28574584]\n",
      " [0.20320557]\n",
      " [0.27485989]\n",
      " [0.18868518]\n",
      " [0.28273289]\n",
      " [0.2720251 ]\n",
      " [0.32258541]\n",
      " [0.27560834]\n",
      " [0.24144415]\n",
      " [0.2911242 ]\n",
      " [0.29763967]\n",
      " [0.35904392]\n",
      " [0.30657738]\n",
      " [0.07692098]\n",
      " [0.19914012]\n",
      " [0.24008618]\n",
      " [0.37292284]\n",
      " [0.33090708]\n",
      " [0.3040847 ]\n",
      " [0.21383995]\n",
      " [0.33618279]\n",
      " [0.39042763]\n",
      " [0.21628401]\n",
      " [0.2072313 ]\n",
      " [0.26282507]\n",
      " [0.2360414 ]\n",
      " [0.31863542]\n",
      " [0.27234463]\n",
      " [0.17700529]\n",
      " [0.37920784]\n",
      " [0.26255606]\n",
      " [0.29120304]\n",
      " [0.27025907]\n",
      " [0.26601249]\n",
      " [0.26085155]\n",
      " [0.20454296]\n",
      " [0.39917987]\n",
      " [0.24149575]\n",
      " [0.27273709]\n",
      " [0.23032683]\n",
      " [0.22618867]\n",
      " [0.28619756]\n",
      " [0.14166617]\n",
      " [0.42987792]\n",
      " [0.32619912]\n",
      " [0.25354887]\n",
      " [0.31529175]\n",
      " [0.51969972]\n",
      " [0.29931682]\n",
      " [0.42284788]\n",
      " [0.31524128]\n",
      " [0.22641641]\n",
      " [0.15974388]\n",
      " [0.25990963]\n",
      " [0.35045481]\n",
      " [0.20913748]\n",
      " [0.17725251]\n",
      " [0.28534893]\n",
      " [0.22755717]\n",
      " [0.54977472]\n",
      " [0.21438439]\n",
      " [0.33099683]\n",
      " [0.36248283]\n",
      " [0.18724501]\n",
      " [0.22084713]\n",
      " [0.21289557]\n",
      " [0.17072751]\n",
      " [0.06314892]\n",
      " [0.27295295]\n",
      " [0.12209326]\n",
      " [0.28224852]\n",
      " [0.26699578]\n",
      " [0.17315672]\n",
      " [0.26858818]\n",
      " [0.34160006]\n",
      " [0.16470903]\n",
      " [0.22866546]\n",
      " [0.27810696]\n",
      " [0.2480189 ]\n",
      " [0.3395493 ]\n",
      " [0.33810933]\n",
      " [0.2958571 ]\n",
      " [0.25351545]\n",
      " [0.27985016]\n",
      " [0.17083227]\n",
      " [0.31323277]\n",
      " [0.32454361]\n",
      " [0.41770661]\n",
      " [0.41133197]\n",
      " [0.15531422]\n",
      " [0.22844233]\n",
      " [0.26263041]\n",
      " [0.19248287]\n",
      " [0.16012281]\n",
      " [0.19990224]\n",
      " [0.24954938]\n",
      " [0.48840603]\n",
      " [0.22202039]\n",
      " [0.18823683]\n",
      " [0.09827615]\n",
      " [0.28940516]\n",
      " [0.28841163]\n",
      " [0.29882322]\n",
      " [0.16837804]\n",
      " [0.26011602]\n",
      " [0.27924579]\n",
      " [0.17577144]\n",
      " [0.12132111]\n",
      " [0.297165  ]\n",
      " [0.16651269]\n",
      " [0.17500381]\n",
      " [0.38689767]\n",
      " [0.20031744]\n",
      " [0.2275171 ]\n",
      " [0.06970555]\n",
      " [0.10918912]\n",
      " [0.19490382]\n",
      " [0.320127  ]\n",
      " [0.20222319]\n",
      " [0.48422734]\n",
      " [0.21449228]\n",
      " [0.13860266]\n",
      " [0.18275323]\n",
      " [0.23123639]\n",
      " [0.36063807]\n",
      " [0.20745482]\n",
      " [0.19569891]\n",
      " [0.30095297]\n",
      " [0.20121223]\n",
      " [0.28693001]\n",
      " [0.16825723]\n",
      " [0.20647006]\n",
      " [0.09214213]\n",
      " [0.23660835]\n",
      " [0.11803335]\n",
      " [0.117687  ]\n",
      " [0.23564966]\n",
      " [0.31103494]\n",
      " [0.2174866 ]\n",
      " [0.20670669]\n",
      " [0.3134457 ]\n",
      " [0.08518414]\n",
      " [0.33345647]\n",
      " [0.33368158]\n",
      " [0.41612864]\n",
      " [0.28990205]\n",
      " [0.28762798]\n",
      " [0.17107037]\n",
      " [0.08430085]\n",
      " [0.27883237]\n",
      " [0.22818372]\n",
      " [0.28844103]\n",
      " [0.26863492]\n",
      " [0.21192285]\n",
      " [0.29121887]\n",
      " [0.1979091 ]\n",
      " [0.20762188]\n",
      " [0.26197581]\n",
      " [0.23368089]\n",
      " [0.182613  ]\n",
      " [0.35212607]\n",
      " [0.30815534]\n",
      " [0.09498038]\n",
      " [0.22420141]\n",
      " [0.26651263]\n",
      " [0.08613068]\n",
      " [0.23390968]\n",
      " [0.17356202]\n",
      " [0.23172564]\n",
      " [0.09580734]\n",
      " [0.29078808]\n",
      " [0.27307885]\n",
      " [0.36384374]\n",
      " [0.38271126]\n",
      " [0.34078345]\n",
      " [0.18068807]\n",
      " [0.2195785 ]\n",
      " [0.34904402]\n",
      " [0.33337174]\n",
      " [0.18028391]\n",
      " [0.26090582]\n",
      " [0.16477869]\n",
      " [0.26795222]\n",
      " [0.23137277]\n",
      " [0.24608879]\n",
      " [0.24423721]\n",
      " [0.26751902]\n",
      " [0.24269491]\n",
      " [0.08380191]\n",
      " [0.20019368]\n",
      " [0.17848822]\n",
      " [0.32964266]\n",
      " [0.12594402]\n",
      " [0.44492146]\n",
      " [0.1468286 ]\n",
      " [0.24597339]\n",
      " [0.42060116]\n",
      " [0.2998401 ]\n",
      " [0.14276373]\n",
      " [0.29686127]\n",
      " [0.07476818]\n",
      " [0.19559107]\n",
      " [0.28937584]\n",
      " [0.30556898]\n",
      " [0.25532257]\n",
      " [0.40655062]\n",
      " [0.05981182]\n",
      " [0.32416842]\n",
      " [0.32408041]\n",
      " [0.22326643]\n",
      " [0.35875871]\n",
      " [0.29286284]\n",
      " [0.24194628]\n",
      " [0.07095179]\n",
      " [0.15948582]\n",
      " [0.27796309]\n",
      " [0.16737204]\n",
      " [0.15780372]\n",
      " [0.24814274]\n",
      " [0.21144595]\n",
      " [0.09625746]\n",
      " [0.20139262]\n",
      " [0.09733009]\n",
      " [0.32088459]\n",
      " [0.10112323]\n",
      " [0.25622178]\n",
      " [0.30478745]\n",
      " [0.39649408]\n",
      " [0.32329995]\n",
      " [0.21743181]\n",
      " [0.21462404]\n",
      " [0.26004236]\n",
      " [0.26603343]\n",
      " [0.2881444 ]\n",
      " [0.31508855]\n",
      " [0.29594017]\n",
      " [0.30546296]\n",
      " [0.2183697 ]\n",
      " [0.22502588]\n",
      " [0.20564538]\n",
      " [0.1257192 ]\n",
      " [0.20567988]\n",
      " [0.25260267]\n",
      " [0.28834052]\n",
      " [0.22630206]\n",
      " [0.33424421]\n",
      " [0.15831238]\n",
      " [0.076727  ]\n",
      " [0.22150926]\n",
      " [0.3542926 ]\n",
      " [0.16319761]\n",
      " [0.51307266]\n",
      " [0.11691266]\n",
      " [0.32306284]\n",
      " [0.34633162]\n",
      " [0.15156298]\n",
      " [0.32118149]\n",
      " [0.12524677]\n",
      " [0.17486879]\n",
      " [0.18172308]\n",
      " [0.18132169]\n",
      " [0.16821723]\n",
      " [0.52057122]\n",
      " [0.28537435]\n",
      " [0.06745951]\n",
      " [0.27384784]\n",
      " [0.19616418]\n",
      " [0.15346393]\n",
      " [0.25934358]\n",
      " [0.13257798]\n",
      " [0.1524865 ]\n",
      " [0.2213819 ]\n",
      " [0.10018121]\n",
      " [0.18021368]\n",
      " [0.39080169]\n",
      " [0.27908813]\n",
      " [0.24580497]\n",
      " [0.15099081]\n",
      " [0.31942917]\n",
      " [0.08861373]\n",
      " [0.26079489]\n",
      " [0.18125646]\n",
      " [0.29018766]\n",
      " [0.26238676]\n",
      " [0.06830264]\n",
      " [0.42022614]\n",
      " [0.21696769]\n",
      " [0.47452075]\n",
      " [0.34581667]\n",
      " [0.28513736]\n",
      " [0.16454542]\n",
      " [0.10455567]\n",
      " [0.28590833]\n",
      " [0.12573396]\n",
      " [0.12942057]\n",
      " [0.1888667 ]\n",
      " [0.29951445]\n",
      " [0.20306719]\n",
      " [0.30513529]\n",
      " [0.38128576]\n",
      " [0.16952644]\n",
      " [0.17797816]\n",
      " [0.16783281]\n",
      " [0.32351962]\n",
      " [0.16087392]\n",
      " [0.27842161]\n",
      " [0.06679131]\n",
      " [0.38788611]\n",
      " [0.09625367]\n",
      " [0.39854077]\n",
      " [0.17784459]\n",
      " [0.30274906]\n",
      " [0.26261338]\n",
      " [0.18587974]\n",
      " [0.26481174]\n",
      " [0.39285479]\n",
      " [0.32743471]\n",
      " [0.45741412]\n",
      " [0.18159595]\n",
      " [0.24585655]\n",
      " [0.22186163]\n",
      " [0.20634137]\n",
      " [0.32562242]\n",
      " [0.11523302]\n",
      " [0.32388017]\n",
      " [0.2060594 ]\n",
      " [0.09297112]\n",
      " [0.204101  ]\n",
      " [0.25054783]\n",
      " [0.07514558]\n",
      " [0.1828615 ]\n",
      " [0.23734868]\n",
      " [0.26468895]\n",
      " [0.35291825]\n",
      " [0.28550348]\n",
      " [0.27594755]\n",
      " [0.45053481]\n",
      " [0.22698723]\n",
      " [0.3793684 ]\n",
      " [0.25735635]\n",
      " [0.10041996]\n",
      " [0.16975538]\n",
      " [0.09648591]\n",
      " [0.29712007]\n",
      " [0.27566202]\n",
      " [0.32105825]\n",
      " [0.40741922]\n",
      " [0.19191355]\n",
      " [0.26127552]\n",
      " [0.23661141]\n",
      " [0.11486983]\n",
      " [0.24904781]\n",
      " [0.31993652]\n",
      " [0.4452682 ]\n",
      " [0.30498452]\n",
      " [0.116257  ]\n",
      " [0.07998369]\n",
      " [0.20272166]\n",
      " [0.13660772]\n",
      " [0.3356286 ]\n",
      " [0.17590942]]\n"
     ]
    }
   ],
   "source": [
    "# Predict the probabilities on the training data\n",
    "train_probs = model.predict(X_sm)\n",
    "\n",
    "# Reshape it into an array\n",
    "train_probs = np.array(train_probs).reshape(-1, 1)\n",
    "\n",
    "print(train_probs)"
   ]
  },
  {
   "cell_type": "markdown",
   "metadata": {
    "id": "_j4gJDUzDPW1"
   },
   "source": [
    "#### **7.2.5** Create a DataFrame that includes actual fraud reported flags, predicted probabilities, and a column indicating predicted classifications based on a cutoff value of 0.5 <font color=\"red\">[1 Mark]</font>\n",
    "\n"
   ]
  },
  {
   "cell_type": "code",
   "execution_count": null,
   "metadata": {
    "id": "nDaW7LS_DPW1"
   },
   "outputs": [
    {
     "data": {
      "text/html": [
       "<div>\n",
       "<style scoped>\n",
       "    .dataframe tbody tr th:only-of-type {\n",
       "        vertical-align: middle;\n",
       "    }\n",
       "\n",
       "    .dataframe tbody tr th {\n",
       "        vertical-align: top;\n",
       "    }\n",
       "\n",
       "    .dataframe thead th {\n",
       "        text-align: right;\n",
       "    }\n",
       "</style>\n",
       "<table border=\"1\" class=\"dataframe\">\n",
       "  <thead>\n",
       "    <tr style=\"text-align: right;\">\n",
       "      <th></th>\n",
       "      <th>actual_fraud</th>\n",
       "      <th>pred_prob</th>\n",
       "      <th>pred_class</th>\n",
       "    </tr>\n",
       "  </thead>\n",
       "  <tbody>\n",
       "    <tr>\n",
       "      <th>0</th>\n",
       "      <td>0</td>\n",
       "      <td>0.204807</td>\n",
       "      <td>0</td>\n",
       "    </tr>\n",
       "    <tr>\n",
       "      <th>1</th>\n",
       "      <td>0</td>\n",
       "      <td>0.341063</td>\n",
       "      <td>0</td>\n",
       "    </tr>\n",
       "    <tr>\n",
       "      <th>2</th>\n",
       "      <td>0</td>\n",
       "      <td>0.086149</td>\n",
       "      <td>0</td>\n",
       "    </tr>\n",
       "    <tr>\n",
       "      <th>3</th>\n",
       "      <td>0</td>\n",
       "      <td>0.203629</td>\n",
       "      <td>0</td>\n",
       "    </tr>\n",
       "    <tr>\n",
       "      <th>4</th>\n",
       "      <td>0</td>\n",
       "      <td>0.254446</td>\n",
       "      <td>0</td>\n",
       "    </tr>\n",
       "    <tr>\n",
       "      <th>...</th>\n",
       "      <td>...</td>\n",
       "      <td>...</td>\n",
       "      <td>...</td>\n",
       "    </tr>\n",
       "    <tr>\n",
       "      <th>694</th>\n",
       "      <td>0</td>\n",
       "      <td>0.079984</td>\n",
       "      <td>0</td>\n",
       "    </tr>\n",
       "    <tr>\n",
       "      <th>695</th>\n",
       "      <td>0</td>\n",
       "      <td>0.202722</td>\n",
       "      <td>0</td>\n",
       "    </tr>\n",
       "    <tr>\n",
       "      <th>696</th>\n",
       "      <td>0</td>\n",
       "      <td>0.136608</td>\n",
       "      <td>0</td>\n",
       "    </tr>\n",
       "    <tr>\n",
       "      <th>697</th>\n",
       "      <td>0</td>\n",
       "      <td>0.335629</td>\n",
       "      <td>0</td>\n",
       "    </tr>\n",
       "    <tr>\n",
       "      <th>698</th>\n",
       "      <td>1</td>\n",
       "      <td>0.175909</td>\n",
       "      <td>0</td>\n",
       "    </tr>\n",
       "  </tbody>\n",
       "</table>\n",
       "<p>699 rows × 3 columns</p>\n",
       "</div>"
      ],
      "text/plain": [
       "     actual_fraud  pred_prob  pred_class\n",
       "0               0   0.204807           0\n",
       "1               0   0.341063           0\n",
       "2               0   0.086149           0\n",
       "3               0   0.203629           0\n",
       "4               0   0.254446           0\n",
       "..            ...        ...         ...\n",
       "694             0   0.079984           0\n",
       "695             0   0.202722           0\n",
       "696             0   0.136608           0\n",
       "697             0   0.335629           0\n",
       "698             1   0.175909           0\n",
       "\n",
       "[699 rows x 3 columns]"
      ]
     },
     "execution_count": 113,
     "metadata": {},
     "output_type": "execute_result"
    }
   ],
   "source": [
    "# Create a new DataFrame containing the actual fraud reported flag and the probabilities predicted by the model\n",
    "train_probs = model.predict(X_sm)\n",
    "\n",
    "# Classify using a 0.5 cutoff\n",
    "train_preds = (train_probs >= 0.5).astype(int)\n",
    "\n",
    "# Construct the results DataFrame\n",
    "df_train_results = pd.DataFrame({\n",
    "    'actual_fraud': y_train,\n",
    "    'pred_prob': train_probs,\n",
    "    'pred_class': train_preds\n",
    "})\n",
    "\n",
    "# Show the first few rows\n",
    "df_train_results\n",
    "\n"
   ]
  },
  {
   "cell_type": "markdown",
   "metadata": {
    "id": "6rXpNOgtDPW1"
   },
   "source": [
    "**Model performance evaluation**\n",
    "\n",
    "Evaluate the performance of the model based on predictions made on the training data."
   ]
  },
  {
   "cell_type": "markdown",
   "metadata": {
    "id": "cornkRdjDPW2"
   },
   "source": [
    "#### **7.2.6** Check the accuracy of the model <font color = \"red\">[1 Mark]</font>"
   ]
  },
  {
   "cell_type": "code",
   "execution_count": 115,
   "metadata": {
    "id": "w0tyT2xgDPW2"
   },
   "outputs": [
    {
     "name": "stdout",
     "output_type": "stream",
     "text": [
      "Training Accuracy: 0.748\n"
     ]
    }
   ],
   "source": [
    "# Import metrics from sklearn for evaluation\n",
    "from sklearn import metrics\n",
    "\n",
    "# Check the accuracy of the model\n",
    "y_true = df_train_results['actual_fraud']\n",
    "y_pred = df_train_results['pred_class']\n",
    "\n",
    "# Compute accuracy\n",
    "accuracy = metrics.accuracy_score(y_true, y_pred)\n",
    "print(f\"Training Accuracy: {accuracy:.3f}\")"
   ]
  },
  {
   "cell_type": "markdown",
   "metadata": {
    "id": "mQPieExsDPW2"
   },
   "source": [
    "#### **7.2.7** Create a confusion matrix based on the predictions made on the training data <font color=\"red\">[1 Mark]</font>"
   ]
  },
  {
   "cell_type": "code",
   "execution_count": 116,
   "metadata": {
    "id": "1v1XZbNkDPW2"
   },
   "outputs": [
    {
     "name": "stdout",
     "output_type": "stream",
     "text": [
      "[[520   6]\n",
      " [170   3]]\n"
     ]
    }
   ],
   "source": [
    "# Create confusion matrix\n",
    "cm = metrics.confusion_matrix(y_true, y_pred)\n",
    "print(cm)\n"
   ]
  },
  {
   "cell_type": "markdown",
   "metadata": {
    "id": "CVWR_SjqKPQF"
   },
   "source": [
    "#### **7.2.8** Create variables for true positive, true negative, false positive and false negative <font color=\"red\">[1 Mark]</font>"
   ]
  },
  {
   "cell_type": "code",
   "execution_count": 117,
   "metadata": {
    "id": "JaXLtV-HKPgY"
   },
   "outputs": [
    {
     "name": "stdout",
     "output_type": "stream",
     "text": [
      "True Positives: 3\n",
      "True Negatives: 520\n",
      "False Positives: 6\n",
      "False Negatives: 170\n"
     ]
    }
   ],
   "source": [
    "# Create variables for true positive, true negative, false positive and false negative\n",
    "tp = cm[1, 1]\n",
    "tn = cm[0, 0]\n",
    "fp = cm[0, 1]\n",
    "fn = cm[1, 0]\n",
    "print(f\"True Positives: {tp}\")\n",
    "print(f\"True Negatives: {tn}\")\n",
    "print(f\"False Positives: {fp}\")\n",
    "print(f\"False Negatives: {fn}\")"
   ]
  },
  {
   "cell_type": "markdown",
   "metadata": {
    "id": "UkO5we1NDPW3"
   },
   "source": [
    "#### **7.2.9** Calculate sensitivity, specificity, precision, recall and F1-score <font color=\"red\">[2 Marks]</font>"
   ]
  },
  {
   "cell_type": "code",
   "execution_count": 118,
   "metadata": {
    "id": "K5GpJK5CDPW3"
   },
   "outputs": [
    {
     "name": "stdout",
     "output_type": "stream",
     "text": [
      "Sensitivity: 0.017\n",
      "Specificity: 0.989\n",
      "Precision: 0.333\n",
      "Recall: 0.017\n",
      "F1 Score: 0.033\n"
     ]
    }
   ],
   "source": [
    "# Calculate the sensitivity\n",
    "sensitivity = tp / (tp + fn)\n",
    "print(f\"Sensitivity: {sensitivity:.3f}\")\n",
    "\n",
    "# Calculate the specificity\n",
    "specificity = tn / (tn + fp)\n",
    "print(f\"Specificity: {specificity:.3f}\")\n",
    "\n",
    "# Calculate Precision\n",
    "precision = tp / (tp + fp)\n",
    "print(f\"Precision: {precision:.3f}\")\n",
    "\n",
    "# Calculate Recall\n",
    "recall = tp / (tp + fn)\n",
    "print(f\"Recall: {recall:.3f}\")\n",
    "\n",
    "# Calculate F1 Score\n",
    "f1_score = 2 * (precision * recall) / (precision + recall)\n",
    "print(f\"F1 Score: {f1_score:.3f}\")\n"
   ]
  },
  {
   "cell_type": "markdown",
   "metadata": {
    "id": "gIFdLeULDPW4"
   },
   "source": [
    "### **7.3 Find the Optimal Cutoff** <font color = red>[12 marks]</font>\n",
    "Find the optimal cutoff to improve model performance by evaluating various cutoff values and their impact on relevant metrics."
   ]
  },
  {
   "cell_type": "markdown",
   "metadata": {
    "id": "-un_98BlDPW4"
   },
   "source": [
    "#### **7.3.1** Plot ROC Curve  to visualise the trade-off between true positive rate and false positive rate across different classification thresholds <font color=\"red\">[2 Marks]</font>"
   ]
  },
  {
   "cell_type": "code",
   "execution_count": 120,
   "metadata": {
    "id": "SfRY65pZDPW5"
   },
   "outputs": [
    {
     "name": "stdout",
     "output_type": "stream",
     "text": [
      "Training ROC‑AUC: 0.503\n"
     ]
    }
   ],
   "source": [
    "# Import libraries or function to plot the ROC curve\n",
    "from sklearn.metrics import roc_auc_score\n",
    "\n",
    "# Define ROC function\n",
    "auc = roc_auc_score(y_true, y_pred)\n",
    "print(f\"Training ROC‑AUC: {auc:.3f}\")\n"
   ]
  },
  {
   "cell_type": "code",
   "execution_count": null,
   "metadata": {
    "id": "nGlAWkJDDPW6"
   },
   "outputs": [],
   "source": [
    "# Call the ROC function\n"
   ]
  },
  {
   "cell_type": "markdown",
   "metadata": {
    "id": "cFPV1EBDDPW6"
   },
   "source": [
    "**Sensitivity and Specificity tradeoff**\n",
    "\n",
    "After analysing the area under the curve of the ROC, check the sensitivity and specificity tradeoff to find the optimal cutoff point."
   ]
  },
  {
   "cell_type": "markdown",
   "metadata": {
    "id": "vjcQP2BzDPW6"
   },
   "source": [
    "#### **7.3.2** Predict on training data at various probability cutoffs <font color=\"red\">[1 Mark]</font>"
   ]
  },
  {
   "cell_type": "code",
   "execution_count": null,
   "metadata": {
    "id": "t1UMUMNODPW6"
   },
   "outputs": [],
   "source": [
    "# Create columns with different probability cutoffs to explore the impact of cutoff on model performance\n"
   ]
  },
  {
   "cell_type": "markdown",
   "metadata": {
    "id": "0EFEKx21DPW6"
   },
   "source": [
    "#### **7.3.3** Plot accuracy, sensitivity, specificity at different values of probability cutoffs <font color=\"red\">[2 Marks]</font>"
   ]
  },
  {
   "cell_type": "code",
   "execution_count": null,
   "metadata": {
    "id": "OsjuXoXtDPW6"
   },
   "outputs": [],
   "source": [
    "# Create a DataFrame to see the values of accuracy, sensitivity, and specificity at different values of probability cutoffs\n"
   ]
  },
  {
   "cell_type": "code",
   "execution_count": null,
   "metadata": {
    "id": "z4og5facDPW7"
   },
   "outputs": [],
   "source": [
    "# Plot accuracy, sensitivity, and specificity at different values of probability cutoffs\n"
   ]
  },
  {
   "cell_type": "markdown",
   "metadata": {
    "id": "o6C-ScQ1DPW7"
   },
   "source": [
    "#### **7.3.4** Create a column for final prediction based on optimal cutoff <font color=\"red\">[1 Mark]</font>"
   ]
  },
  {
   "cell_type": "code",
   "execution_count": null,
   "metadata": {
    "id": "1p-z0A9wDPW7"
   },
   "outputs": [],
   "source": [
    "# Create a column for final prediction based on the optimal cutoff\n"
   ]
  },
  {
   "cell_type": "markdown",
   "metadata": {
    "id": "8jEQC7QlDPW7"
   },
   "source": [
    "#### **7.3.5** Calculate the accuracy <font color=\"red\">[1 Mark]</font>"
   ]
  },
  {
   "cell_type": "code",
   "execution_count": null,
   "metadata": {
    "id": "-XARhijiDPW7"
   },
   "outputs": [],
   "source": [
    "# Check the accuracy now\n"
   ]
  },
  {
   "cell_type": "markdown",
   "metadata": {
    "id": "qsgvpYa3DPW-"
   },
   "source": [
    "#### **7.3.6** Create confusion matrix <font color=\"red\">[1 Mark]</font>"
   ]
  },
  {
   "cell_type": "code",
   "execution_count": null,
   "metadata": {
    "id": "tuRtey6YDPW-"
   },
   "outputs": [],
   "source": [
    "# Create the confusion matrix once again\n"
   ]
  },
  {
   "cell_type": "markdown",
   "metadata": {
    "id": "Nbfa0CsbDPW-"
   },
   "source": [
    "#### **7.3.7** Create variables for true positive, true negative, false positive and false negative <font color=\"red\">[1 Mark]</font>"
   ]
  },
  {
   "cell_type": "code",
   "execution_count": null,
   "metadata": {
    "id": "xAQncHXtDPW_"
   },
   "outputs": [],
   "source": [
    "# Create variables for true positive, true negative, false positive and false negative\n"
   ]
  },
  {
   "cell_type": "markdown",
   "metadata": {
    "id": "z7KXFHRnDPW_"
   },
   "source": [
    "#### **7.3.8** Calculate sensitivity, specificity, precision, recall and F1-score of the model <font color=\"red\">[2 Mark]</font>"
   ]
  },
  {
   "cell_type": "code",
   "execution_count": null,
   "metadata": {
    "id": "958ly8K8DPW_"
   },
   "outputs": [],
   "source": [
    "# Calculate the sensitivity\n",
    "\n",
    "\n",
    "# Calculate the specificity\n",
    "\n",
    "\n",
    "# Calculate Precision\n",
    "\n",
    "\n",
    "# Calculate Recall\n",
    "\n",
    "\n",
    "# Calculate F1 Score\n"
   ]
  },
  {
   "cell_type": "markdown",
   "metadata": {
    "id": "_dNjDGtNDPXA"
   },
   "source": [
    "**Precision and Recall tradeoff**\n",
    "\n",
    "Check optimal cutoff value by plotting precision-recall curve, and adjust the cutoff based on precision and recall tradeoff if required."
   ]
  },
  {
   "cell_type": "code",
   "execution_count": null,
   "metadata": {
    "id": "HGKKbLQgDPXA"
   },
   "outputs": [],
   "source": [
    "# Import precision-recall curve function\n",
    "from sklearn.metrics import precision_recall_curve"
   ]
  },
  {
   "cell_type": "markdown",
   "metadata": {
    "id": "G4_-ZTXYDPXB"
   },
   "source": [
    "#### **7.3.9** Plot precision-recall curve <font color=\"red\">[1 Mark]</font>"
   ]
  },
  {
   "cell_type": "code",
   "execution_count": null,
   "metadata": {
    "id": "Wj2qr5FSDPXB"
   },
   "outputs": [],
   "source": [
    "# Plot precision-recall curve\n"
   ]
  },
  {
   "cell_type": "markdown",
   "metadata": {
    "id": "VdNY3cNPDPXB"
   },
   "source": [
    "### **7.4 Build Random Forest Model** <font color = red>[12 marks]</font>\n",
    "Now that you have built a logistic regression model, let's move on to building a random forest model."
   ]
  },
  {
   "cell_type": "markdown",
   "metadata": {
    "id": "sS2Hc10fDPXC"
   },
   "source": [
    "#### **7.4.1** Import necessary libraries"
   ]
  },
  {
   "cell_type": "code",
   "execution_count": null,
   "metadata": {
    "id": "S6duSoHlDPXC"
   },
   "outputs": [],
   "source": [
    "# Import necessary libraries\n",
    "from sklearn.ensemble import RandomForestClassifier\n",
    "from sklearn.metrics import classification_report\n",
    "from sklearn.model_selection import cross_val_score, GridSearchCV"
   ]
  },
  {
   "cell_type": "markdown",
   "metadata": {
    "id": "7Euc5ukLDPXC"
   },
   "source": [
    "#### **7.4.2** Build the random forest model <font color=\"red\">[1 Mark]</font>"
   ]
  },
  {
   "cell_type": "code",
   "execution_count": null,
   "metadata": {
    "id": "3ouCc_YFDPXC"
   },
   "outputs": [],
   "source": [
    "# Build a base random forest model\n"
   ]
  },
  {
   "cell_type": "markdown",
   "metadata": {
    "id": "wr3ExsTgUSKl"
   },
   "source": [
    "#### **7.4.3** Get feature importance scores and select important features <font color=\"red\">[2 Marks]</font>"
   ]
  },
  {
   "cell_type": "code",
   "execution_count": null,
   "metadata": {
    "collapsed": true,
    "id": "eSnQ3xQL__gV"
   },
   "outputs": [],
   "source": [
    "# Get feature importance scores from the trained model\n",
    "\n",
    "# Create a DataFrame to visualise the importance scores\n"
   ]
  },
  {
   "cell_type": "code",
   "execution_count": null,
   "metadata": {
    "id": "yQIR2yUqxNVI"
   },
   "outputs": [],
   "source": [
    "# Select features with high importance scores\n",
    "\n",
    "# Create a new training data with only the selected features\n"
   ]
  },
  {
   "cell_type": "markdown",
   "metadata": {
    "id": "wTzZ1YnhU9Dt"
   },
   "source": [
    "#### **7.4.4** Train the model with selected features <font color=\"red\">[1 Mark]</font>"
   ]
  },
  {
   "cell_type": "code",
   "execution_count": null,
   "metadata": {
    "id": "IeU6JcgJUnPs"
   },
   "outputs": [],
   "source": [
    "# Fit the model on the training data with selected features\n"
   ]
  },
  {
   "cell_type": "markdown",
   "metadata": {
    "id": "g_5Fk-9bDPXG"
   },
   "source": [
    "#### **7.4.5** Generate predictions on the training data <font color=\"red\">[1 Mark]</font>"
   ]
  },
  {
   "cell_type": "code",
   "execution_count": null,
   "metadata": {
    "id": "TO6AGoPFDPXG"
   },
   "outputs": [],
   "source": [
    "# Generate predictions on training data\n"
   ]
  },
  {
   "cell_type": "markdown",
   "metadata": {
    "id": "I5ApUsKlDPXH"
   },
   "source": [
    "#### **7.4.6** Check accuracy of the model <font color=\"red\">[1 Mark]</font>"
   ]
  },
  {
   "cell_type": "code",
   "execution_count": null,
   "metadata": {
    "id": "t2zmn36dDPXH"
   },
   "outputs": [],
   "source": [
    "# Check accuracy of the model\n"
   ]
  },
  {
   "cell_type": "markdown",
   "metadata": {
    "id": "Z_e5FElrDPXH"
   },
   "source": [
    "#### **7.4.7** Create confusion matrix <font color=\"red\">[1 Mark]</font>"
   ]
  },
  {
   "cell_type": "code",
   "execution_count": null,
   "metadata": {
    "id": "NJIGPNTaDPXI"
   },
   "outputs": [],
   "source": [
    "# Create the confusion matrix to visualise the performance\n"
   ]
  },
  {
   "cell_type": "markdown",
   "metadata": {
    "id": "rY3mFM8CDPXI"
   },
   "source": [
    "#### **7.4.8** Create variables for true positive, true negative, false positive and false negative <font color=\"red\">[1 Mark]</font>"
   ]
  },
  {
   "cell_type": "code",
   "execution_count": null,
   "metadata": {
    "id": "l9Ehc0vcDPXI"
   },
   "outputs": [],
   "source": [
    "# Create variables for true positive, true negative, false positive and false negative\n"
   ]
  },
  {
   "cell_type": "markdown",
   "metadata": {
    "id": "_NSOsFxRDPXJ"
   },
   "source": [
    "#### **7.4.9** Calculate sensitivity, specificity, precision, recall and F1-score of the model <font color=\"red\">[2 Marks]</font>"
   ]
  },
  {
   "cell_type": "code",
   "execution_count": null,
   "metadata": {
    "id": "M3wJsKu3DPXJ"
   },
   "outputs": [],
   "source": [
    "# Calculate the sensitivity\n",
    "\n",
    "\n",
    "# Calculate the specificity\n",
    "\n",
    "\n",
    "# Calculate Precision\n",
    "\n",
    "\n",
    "# Calculate Recall\n",
    "\n",
    "\n",
    "# Calculate F1 Score\n"
   ]
  },
  {
   "cell_type": "markdown",
   "metadata": {
    "id": "b6Jax54VDPXJ"
   },
   "source": [
    "#### **7.4.10** Check if the model is overfitting training data using cross validation <font color = \"red\">[2 marks]</font>"
   ]
  },
  {
   "cell_type": "code",
   "execution_count": null,
   "metadata": {
    "id": "42-huob6DPXJ"
   },
   "outputs": [],
   "source": [
    "# Use cross validation to check if the model is overfitting\n"
   ]
  },
  {
   "cell_type": "markdown",
   "metadata": {
    "id": "sNxYrAKZDPXJ"
   },
   "source": [
    "### **7.5 Hyperparameter Tuning** <font color = red>[10 Marks]</font>\n",
    " Enhance the performance of the random forest model by systematically exploring and selecting optimal hyperparameter values using grid search."
   ]
  },
  {
   "cell_type": "markdown",
   "metadata": {
    "id": "UnBcYjbQDPXK"
   },
   "source": [
    "#### **7.5.1** Use grid search to find the best hyperparameter values <font color = red>[2 Marks]</font>"
   ]
  },
  {
   "cell_type": "code",
   "execution_count": null,
   "metadata": {
    "id": "LTLCDfb4DPXK"
   },
   "outputs": [],
   "source": [
    "# Use grid search to find the best hyperparamter values\n",
    "\n",
    "# Best Hyperparameters\n"
   ]
  },
  {
   "cell_type": "markdown",
   "metadata": {
    "id": "vrGoY46TDPXK"
   },
   "source": [
    "#### **7.5.2** Build a random forest model based on hyperparameter tuning results <font color = red>[1 Mark]</font>"
   ]
  },
  {
   "cell_type": "code",
   "execution_count": null,
   "metadata": {
    "id": "2yxPaaDxDPXK"
   },
   "outputs": [],
   "source": [
    "# Building random forest model based on results of hyperparameter tuning\n"
   ]
  },
  {
   "cell_type": "markdown",
   "metadata": {
    "id": "IJ4gQ2m0DPXK"
   },
   "source": [
    "#### **7.5.3** Make predictions on training data <font color = red>[1 Mark]</font>"
   ]
  },
  {
   "cell_type": "code",
   "execution_count": null,
   "metadata": {
    "id": "hTE3p2rCDPXL"
   },
   "outputs": [],
   "source": [
    "# Make predictions on training data\n"
   ]
  },
  {
   "cell_type": "markdown",
   "metadata": {
    "id": "fbfSJpEuDPXL"
   },
   "source": [
    "#### **7.5.4** Check accuracy of Random Forest Model <font color = red>[1 Mark]</font>"
   ]
  },
  {
   "cell_type": "code",
   "execution_count": null,
   "metadata": {
    "id": "ItpV-JYkDPXL"
   },
   "outputs": [],
   "source": [
    "# Check the accuracy\n"
   ]
  },
  {
   "cell_type": "markdown",
   "metadata": {
    "id": "l-t6Hme3DPXL"
   },
   "source": [
    "#### **7.5.5** Create confusion matrix <font color = red>[1 Mark]</font>"
   ]
  },
  {
   "cell_type": "code",
   "execution_count": null,
   "metadata": {
    "id": "MdteUZXzDPXL"
   },
   "outputs": [],
   "source": [
    "# Create the confusion matrix\n"
   ]
  },
  {
   "cell_type": "markdown",
   "metadata": {
    "id": "jEUtsRafDPXL"
   },
   "source": [
    "#### **7.5.6** Create variables for true positive, true negative, false positive and false negative <font color = red>[1 Mark]</font>"
   ]
  },
  {
   "cell_type": "code",
   "execution_count": null,
   "metadata": {
    "id": "0aeUhFSWDPXM"
   },
   "outputs": [],
   "source": [
    "# Create variables for true positive, true negative, false positive and false negative\n"
   ]
  },
  {
   "cell_type": "markdown",
   "metadata": {
    "id": "nwDnBdjnDPXM"
   },
   "source": [
    "#### **7.5.7** Calculate sensitivity, specificity, precision, recall and F1-score of the model <font color = red>[3 Marks]</font>"
   ]
  },
  {
   "cell_type": "code",
   "execution_count": null,
   "metadata": {
    "id": "KxPHj1NjDPXM"
   },
   "outputs": [],
   "source": [
    "# Calculate the sensitivity\n",
    "\n",
    "\n",
    "# Calculate the specificity\n",
    "\n",
    "\n",
    "# Calculate Precision\n",
    "\n",
    "\n",
    "# Calculate Recall\n",
    "\n",
    "\n",
    "# Calculate F1-Score\n"
   ]
  },
  {
   "cell_type": "markdown",
   "metadata": {
    "id": "yUEvyADyDPXM"
   },
   "source": [
    "## **8. Prediction and Model Evaluation** <font color = red>[20 marks]</font>\n",
    "Use the model from the previous step to make predictions on the validation data with the optimal cutoff. Then evaluate the model's performance using metrics such as accuracy, sensitivity, specificity, precision, and recall."
   ]
  },
  {
   "cell_type": "markdown",
   "metadata": {
    "id": "EQuMB-P1DPXM"
   },
   "source": [
    "### **8.1 Make predictions over validation data using logistic regression model** <font color = red>[10 marks]</font>"
   ]
  },
  {
   "cell_type": "markdown",
   "metadata": {
    "id": "Wuz5v3TYDPXM"
   },
   "source": [
    "#### **8.1.1** Select relevant features for validation data and add constant <font color=\"red\">[1 Mark]</font>"
   ]
  },
  {
   "cell_type": "code",
   "execution_count": null,
   "metadata": {
    "id": "_AbB-x3aDPXM"
   },
   "outputs": [],
   "source": [
    "# Select the relevant features for validation data\n",
    "\n",
    "# Add constant to X_validation\n"
   ]
  },
  {
   "cell_type": "markdown",
   "metadata": {
    "id": "pzpawlMLDPXM"
   },
   "source": [
    "#### **8.1.2** Make predictions over validation data <font color=\"red\">[1 Mark]</font>"
   ]
  },
  {
   "cell_type": "code",
   "execution_count": null,
   "metadata": {
    "id": "9CmoAZJODPXM"
   },
   "outputs": [],
   "source": [
    "# Make predictions on the validation data and store it in the variable 'y_validation_pred'\n"
   ]
  },
  {
   "cell_type": "markdown",
   "metadata": {
    "id": "r8qyn8xvDPXM"
   },
   "source": [
    "#### **8.1.3** Create DataFrame with actual values and predicted values for validation data <font color=\"red\">[2 Marks]</font>"
   ]
  },
  {
   "cell_type": "code",
   "execution_count": null,
   "metadata": {
    "id": "9Zx8RBFVDPXN"
   },
   "outputs": [],
   "source": [
    "#  Create DataFrame with actual values and predicted values for validation data\n"
   ]
  },
  {
   "cell_type": "markdown",
   "metadata": {
    "id": "G_kC6wEPDPXN"
   },
   "source": [
    "#### **8.1.4** Make final prediction based on cutoff value <font color=\"red\">[1 Mark]</font>"
   ]
  },
  {
   "cell_type": "code",
   "execution_count": null,
   "metadata": {
    "id": "4ge-EC74DPXN"
   },
   "outputs": [],
   "source": [
    "# Make final predictions on the validation data using the optimal cutoff\n"
   ]
  },
  {
   "cell_type": "markdown",
   "metadata": {
    "id": "bt7sm55QDPXN"
   },
   "source": [
    "#### **8.1.5** Check the accuracy of logistic regression model on validation data <font color=\"red\">[1 Mark]</font>"
   ]
  },
  {
   "cell_type": "code",
   "execution_count": null,
   "metadata": {
    "id": "81tEKwwsDPXN"
   },
   "outputs": [],
   "source": [
    "# Check the accuracy\n"
   ]
  },
  {
   "cell_type": "markdown",
   "metadata": {
    "id": "RE8ZnagdDPXN"
   },
   "source": [
    "#### **8.1.6** Create confusion matrix <font color=\"red\">[1 Mark]</font>"
   ]
  },
  {
   "cell_type": "code",
   "execution_count": null,
   "metadata": {
    "id": "NjkkexqrDPXN"
   },
   "outputs": [],
   "source": [
    "# Create the confusion matrix\n"
   ]
  },
  {
   "cell_type": "markdown",
   "metadata": {
    "id": "SSqBZOrYDPXN"
   },
   "source": [
    "#### **8.1.7** Create variables for true positive, true negative, false positive and false negative <font color=\"red\">[1 Mark]</font>"
   ]
  },
  {
   "cell_type": "code",
   "execution_count": null,
   "metadata": {
    "id": "NzH_sFeoDPXN"
   },
   "outputs": [],
   "source": [
    "# Create variables for true positive, true negative, false positive and false negative\n"
   ]
  },
  {
   "cell_type": "markdown",
   "metadata": {
    "id": "_Mkn6DUwDPXN"
   },
   "source": [
    "#### **8.1.8** Calculate sensitivity, specificity, precision, recall and f1 score of the model <font color=\"red\">[2 Marks]</font>"
   ]
  },
  {
   "cell_type": "code",
   "execution_count": null,
   "metadata": {
    "id": "FCqNW4t3DPXO"
   },
   "outputs": [],
   "source": [
    "# Calculate the sensitivity\n",
    "\n",
    "\n",
    "# Calculate the specificity\n",
    "\n",
    "\n",
    "# Calculate Precision\n",
    "\n",
    "\n",
    "# Calculate Recall\n",
    "\n",
    "\n",
    "# Calculate F1 Score\n"
   ]
  },
  {
   "cell_type": "markdown",
   "metadata": {
    "id": "1wTVm8V_DPXO"
   },
   "source": [
    "### **8.2 Make predictions over validation data using random forest model** <font color = red>[10 marks]</font>"
   ]
  },
  {
   "cell_type": "markdown",
   "metadata": {
    "id": "UDgbDTfIDPXO"
   },
   "source": [
    "#### **8.2.1** Select the important features and make predictions over validation data <font color=\"red\">[2 Marks]</font>"
   ]
  },
  {
   "cell_type": "code",
   "execution_count": null,
   "metadata": {
    "id": "RhtKprsQDPXO"
   },
   "outputs": [],
   "source": [
    "# Select the relevant features for validation data\n",
    "\n",
    "# Make predictions on the validation data\n"
   ]
  },
  {
   "cell_type": "markdown",
   "metadata": {
    "id": "bUbtP7CADPXO"
   },
   "source": [
    "#### **8.2.2** Check accuracy of random forest model <font color=\"red\">[1 Mark]</font>"
   ]
  },
  {
   "cell_type": "code",
   "execution_count": null,
   "metadata": {
    "id": "bJyVOpLlDPXO"
   },
   "outputs": [],
   "source": [
    "# Check accuracy\n"
   ]
  },
  {
   "cell_type": "markdown",
   "metadata": {
    "id": "spUa4VBfDPXO"
   },
   "source": [
    "#### **8.2.3** Create confusion matrix <font color=\"red\">[1 Mark]</font>"
   ]
  },
  {
   "cell_type": "code",
   "execution_count": null,
   "metadata": {
    "id": "eXJVNVrSDPXO"
   },
   "outputs": [],
   "source": [
    "# Create the confusion matrix\n"
   ]
  },
  {
   "cell_type": "markdown",
   "metadata": {
    "id": "HuUdgVYSDPXO"
   },
   "source": [
    "#### **8.2.4** Create variables for true positive, true negative, false positive and false negative <font color=\"red\">[1 Mark]</font>"
   ]
  },
  {
   "cell_type": "code",
   "execution_count": null,
   "metadata": {
    "id": "UT7lU5CWDPXO"
   },
   "outputs": [],
   "source": [
    "# Create variables for true positive, true negative, false positive and false negative\n"
   ]
  },
  {
   "cell_type": "markdown",
   "metadata": {
    "id": "YAjovvF4DPXO"
   },
   "source": [
    "#### **8.2.5** Calculate sensitivity, specificity, precision, recall and F1-score of the model <font color=\"red\">[5 Marks]</font>"
   ]
  },
  {
   "cell_type": "code",
   "execution_count": null,
   "metadata": {
    "id": "C1PYzDaWDPXO"
   },
   "outputs": [],
   "source": [
    "# Calculate Sensitivity\n",
    "\n",
    "\n",
    "# Calculate Specificity\n",
    "\n",
    "\n",
    "# Calculate Precision\n",
    "\n",
    "\n",
    "# Calculate Recall\n",
    "\n",
    "\n",
    "# Calculate F1-score\n"
   ]
  },
  {
   "cell_type": "markdown",
   "metadata": {
    "id": "nENAdFWhDPXP"
   },
   "source": [
    "## **Evaluation and Conclusion**\n",
    "Write the conclusion."
   ]
  }
 ],
 "metadata": {
  "colab": {
   "provenance": [
    {
     "file_id": "1SIhxHs7kl3qt0VU3gGAAt_k_NQTvuqmc",
     "timestamp": 1740041215388
    },
    {
     "file_id": "1wef6jk_PrklarfJ5GA9FoyCAiKkArPCw",
     "timestamp": 1739780524071
    }
   ],
   "toc_visible": true
  },
  "kernelspec": {
   "display_name": "Python 3 (ipykernel)",
   "language": "python",
   "name": "python3"
  },
  "language_info": {
   "codemirror_mode": {
    "name": "ipython",
    "version": 3
   },
   "file_extension": ".py",
   "mimetype": "text/x-python",
   "name": "python",
   "nbconvert_exporter": "python",
   "pygments_lexer": "ipython3",
   "version": "3.9.12"
  }
 },
 "nbformat": 4,
 "nbformat_minor": 1
}
