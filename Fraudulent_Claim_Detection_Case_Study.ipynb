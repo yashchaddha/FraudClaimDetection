{
 "cells": [
  {
   "cell_type": "markdown",
   "metadata": {
    "id": "uJ6cv25EDPWV"
   },
   "source": [
    "## **Fraudulent Claim Detection**"
   ]
  },
  {
   "cell_type": "markdown",
   "metadata": {
    "id": "_rLrWLwZDPWW"
   },
   "source": [
    "## Problem Statement\n",
    "Global Insure, a leading insurance company, processes thousands of claims annually. However, a significant percentage of these claims turn out to be fraudulent, resulting in considerable financial losses. The company’s current process for identifying fraudulent claims involves manual inspections, which is time-consuming and inefficient. Fraudulent claims are often detected too late in the process, after the company has already paid out significant amounts. Global Insure wants to improve its fraud detection process using data-driven insights to classify claims as fraudulent or legitimate early in the approval process. This would minimise financial losses and optimise the overall claims handling process.\n",
    "\n",
    "## Business Objective\n",
    "Global Insure wants to build a model to classify insurance claims as either fraudulent or legitimate based on historical claim details and customer profiles. By using features like claim amounts, customer profiles and claim types, the company aims to predict which claims are likely to be fraudulent before they are approved.\n",
    "\n",
    "\n",
    "Based on this assignment, you have to answer the following questions:<br>\n",
    "\n",
    "● How can we analyse historical claim data to detect patterns that indicate fraudulent claims?<br>\n",
    "● Which features are most predictive of fraudulent behaviour?<br>\n",
    "● Can we predict the likelihood of fraud for an incoming claim, based on past data?<br>\n",
    "● What insights can be drawn from the model that can help in improving the fraud detection process?<br>"
   ]
  },
  {
   "cell_type": "markdown",
   "metadata": {
    "id": "dCp1H_XyDPWX"
   },
   "source": [
    "## Assignment Tasks\n",
    "You need to perform the following steps for successfully completing this assignment:\n",
    "1. Data Preparation\n",
    "2. Data Cleaning\n",
    "3. Train Validation Split 70-30\n",
    "4. EDA on Training Data\n",
    "5. EDA on Validation Data (optional)\n",
    "6. Feature Engineering\n",
    "7. Model Building\n",
    "8. Predicting and Model Evaluation"
   ]
  },
  {
   "cell_type": "markdown",
   "metadata": {
    "id": "PPnbScj6sHfw"
   },
   "source": [
    "## Data Dictionary\n",
    "The insurance claims data has 40 Columns and 1000 Rows. Following data dictionary provides the description for each column present in dataset:<br>\n",
    "\n",
    "<table>\n",
    "  <thead>\n",
    "    <tr>\n",
    "      <th>Column Name</th>\n",
    "      <th>Description</th>\n",
    "    </tr>\n",
    "  </thead>\n",
    "  <tbody>\n",
    "    <tr>\n",
    "      <td>months_as_customer</td>\n",
    "      <td>Represents the duration in months that a customer has been associated with the insurance company.</td>\n",
    "    </tr>\n",
    "    <tr>\n",
    "      <td>age</td>\n",
    "      <td>Represents the age of the insured person.</td>\n",
    "    </tr>\n",
    "    <tr>\n",
    "      <td>policy_number</td>\n",
    "      <td>Represents a unique identifier for each insurance policy.</td>\n",
    "    </tr>\n",
    "    <tr>\n",
    "      <td>policy_bind_date</td>\n",
    "      <td>Represents the date when the insurance policy was initiated.</td>\n",
    "    </tr>\n",
    "    <tr>\n",
    "      <td>policy_state</td>\n",
    "      <td>Represents the state where the insurance policy is applicable.</td>\n",
    "    </tr>\n",
    "    <tr>\n",
    "      <td>policy_csl</td>\n",
    "      <td>Represents the combined single limit for the insurance policy.</td>\n",
    "    </tr>\n",
    "    <tr>\n",
    "      <td>policy_deductable</td>\n",
    "      <td>Represents the amount that the insured person needs to pay before the insurance coverage kicks in.</td>\n",
    "    </tr>\n",
    "    <tr>\n",
    "      <td>policy_annual_premium</td>\n",
    "      <td>Represents the yearly cost of the insurance policy.</td>\n",
    "    </tr>\n",
    "    <tr>\n",
    "      <td>umbrella_limit</td>\n",
    "      <td>Represents an additional layer of liability coverage provided beyond the limits of the primary insurance policy.</td>\n",
    "    </tr>\n",
    "    <tr>\n",
    "      <td>insured_zip</td>\n",
    "      <td>Represents the zip code of the insured person.</td>\n",
    "    </tr>\n",
    "    <tr>\n",
    "      <td>insured_sex</td>\n",
    "      <td>Represents the gender of the insured person.</td>\n",
    "    </tr>\n",
    "    <tr>\n",
    "      <td>insured_education_level</td>\n",
    "      <td>Represents the highest educational qualification of the insured person.</td>\n",
    "    </tr>\n",
    "    <tr>\n",
    "      <td>insured_occupation</td>\n",
    "      <td>Represents the profession or job of the insured person.</td>\n",
    "    </tr>\n",
    "    <tr>\n",
    "      <td>insured_hobbies</td>\n",
    "      <td>Represents the hobbies or leisure activities of the insured person.</td>\n",
    "    </tr>\n",
    "    <tr>\n",
    "      <td>insured_relationship</td>\n",
    "      <td>Represents the relationship of the insured person to the policyholder.</td>\n",
    "    </tr>\n",
    "    <tr>\n",
    "      <td>capital-gains</td>\n",
    "      <td>Represents the profit earned from the sale of assets such as stocks, bonds, or real estate.</td>\n",
    "    </tr>\n",
    "    <tr>\n",
    "      <td>capital-loss</td>\n",
    "      <td>Represents the loss incurred from the sale of assets such as stocks, bonds, or real estate.</td>\n",
    "    </tr>\n",
    "    <tr>\n",
    "      <td>incident_date</td>\n",
    "      <td>Represents the date when the incident or accident occurred.</td>\n",
    "    </tr>\n",
    "    <tr>\n",
    "      <td>incident_type</td>\n",
    "      <td>Represents the category or type of incident that led to the claim.</td>\n",
    "    </tr>\n",
    "    <tr>\n",
    "      <td>collision_type</td>\n",
    "      <td>Represents the type of collision that occurred in an accident.</td>\n",
    "    </tr>\n",
    "    <tr>\n",
    "      <td>incident_severity</td>\n",
    "      <td>Represents the extent of damage or injury caused by the incident.</td>\n",
    "    </tr>\n",
    "    <tr>\n",
    "      <td>authorities_contacted</td>\n",
    "      <td>Represents the authorities or agencies that were contacted after the incident.</td>\n",
    "    </tr>\n",
    "    <tr>\n",
    "      <td>incident_state</td>\n",
    "      <td>Represents the state where the incident occurred.</td>\n",
    "    </tr>\n",
    "    <tr>\n",
    "      <td>incident_city</td>\n",
    "      <td>Represents the city where the incident occurred.</td>\n",
    "    </tr>\n",
    "    <tr>\n",
    "      <td>incident_location</td>\n",
    "      <td>Represents the specific location or address where the incident occurred.</td>\n",
    "    </tr>\n",
    "    <tr>\n",
    "      <td>incident_hour_of_the_day</td>\n",
    "      <td>Represents the hour of the day when the incident occurred.</td>\n",
    "    </tr>\n",
    "    <tr>\n",
    "      <td>number_of_vehicles_involved</td>\n",
    "      <td>Represents the total number of vehicles involved in the incident.</td>\n",
    "    </tr>\n",
    "    <tr>\n",
    "      <td>property_damage</td>\n",
    "      <td>Represents whether there was any damage to property in the incident.</td>\n",
    "    </tr>\n",
    "    <tr>\n",
    "      <td>bodily_injuries</td>\n",
    "      <td>Represents the number of bodily injuries resulting from the incident.</td>\n",
    "    </tr>\n",
    "    <tr>\n",
    "      <td>witnesses</td>\n",
    "      <td>Represents the number of witnesses present at the scene of the incident.</td>\n",
    "    </tr>\n",
    "    <tr>\n",
    "      <td>police_report_available</td>\n",
    "      <td>Represents whether a police report is available for the incident.</td>\n",
    "    </tr>\n",
    "    <tr>\n",
    "      <td>total_claim_amount</td>\n",
    "      <td>Represents the total amount claimed by the insured person for the incident.</td>\n",
    "    </tr>\n",
    "    <tr>\n",
    "      <td>injury_claim</td>\n",
    "      <td>Represents the amount claimed for injuries sustained in the incident.</td>\n",
    "    </tr>\n",
    "    <tr>\n",
    "      <td>property_claim</td>\n",
    "      <td>Represents the amount claimed for property damage in the incident.</td>\n",
    "    </tr>\n",
    "    <tr>\n",
    "      <td>vehicle_claim</td>\n",
    "      <td>Represents the amount claimed for vehicle damage in the incident.</td>\n",
    "    </tr>\n",
    "    <tr>\n",
    "      <td>auto_make</td>\n",
    "      <td>Represents the manufacturer of the insured vehicle.</td>\n",
    "    </tr>\n",
    "    <tr>\n",
    "      <td>auto_model</td>\n",
    "      <td>Represents the specific model of the insured vehicle.</td>\n",
    "    </tr>\n",
    "    <tr>\n",
    "      <td>auto_year</td>\n",
    "      <td>Represents the year of manufacture of the insured vehicle.</td>\n",
    "    </tr>\n",
    "    <tr>\n",
    "      <td>fraud_reported</td>\n",
    "      <td>Represents whether the claim was reported as fraudulent or not.</td>\n",
    "    </tr>\n",
    "    <tr>\n",
    "      <td>_c39</td>\n",
    "      <td>Represents an unknown or unspecified variable.</td>\n",
    "    </tr>\n",
    "  </tbody>\n",
    "</table>"
   ]
  },
  {
   "cell_type": "markdown",
   "metadata": {
    "id": "2Hfg3nHjDPWY"
   },
   "source": [
    "## **1. Data Preparation**\n",
    "In this step, read the dataset provided in CSV format and look at basic statistics of the data, including preview of data, dimension of data, column descriptions and data types."
   ]
  },
  {
   "cell_type": "markdown",
   "metadata": {
    "id": "2xZBs5L_DPWY"
   },
   "source": [
    "### **1.0 Import Libraries**"
   ]
  },
  {
   "cell_type": "code",
   "execution_count": 2,
   "metadata": {
    "id": "2xUZYP92DPWY"
   },
   "outputs": [],
   "source": [
    "# Supress unnecessary warnings\n",
    "import warnings\n",
    "warnings.filterwarnings(\"ignore\")"
   ]
  },
  {
   "cell_type": "code",
   "execution_count": 3,
   "metadata": {
    "id": "6glz5HkPDPWZ"
   },
   "outputs": [],
   "source": [
    "# Import necessary libraries\n",
    "import numpy as np\n",
    "import pandas as pd\n",
    "import seaborn as sns\n",
    "import matplotlib.pyplot as plt"
   ]
  },
  {
   "cell_type": "markdown",
   "metadata": {
    "id": "D8-RBUdWDPWZ"
   },
   "source": [
    "### **1.1 Load the Data**"
   ]
  },
  {
   "cell_type": "code",
   "execution_count": 4,
   "metadata": {
    "id": "kP0JaSjJDPWZ"
   },
   "outputs": [],
   "source": [
    "# Load the dataset\n",
    "df_iclaims = pd.read_csv('insurance_claims.csv')"
   ]
  },
  {
   "cell_type": "code",
   "execution_count": 5,
   "metadata": {
    "id": "qaR4TkqTDPWZ"
   },
   "outputs": [
    {
     "data": {
      "text/html": [
       "<div>\n",
       "<style scoped>\n",
       "    .dataframe tbody tr th:only-of-type {\n",
       "        vertical-align: middle;\n",
       "    }\n",
       "\n",
       "    .dataframe tbody tr th {\n",
       "        vertical-align: top;\n",
       "    }\n",
       "\n",
       "    .dataframe thead th {\n",
       "        text-align: right;\n",
       "    }\n",
       "</style>\n",
       "<table border=\"1\" class=\"dataframe\">\n",
       "  <thead>\n",
       "    <tr style=\"text-align: right;\">\n",
       "      <th></th>\n",
       "      <th>months_as_customer</th>\n",
       "      <th>age</th>\n",
       "      <th>policy_number</th>\n",
       "      <th>policy_bind_date</th>\n",
       "      <th>policy_state</th>\n",
       "      <th>policy_csl</th>\n",
       "      <th>policy_deductable</th>\n",
       "      <th>policy_annual_premium</th>\n",
       "      <th>umbrella_limit</th>\n",
       "      <th>insured_zip</th>\n",
       "      <th>...</th>\n",
       "      <th>police_report_available</th>\n",
       "      <th>total_claim_amount</th>\n",
       "      <th>injury_claim</th>\n",
       "      <th>property_claim</th>\n",
       "      <th>vehicle_claim</th>\n",
       "      <th>auto_make</th>\n",
       "      <th>auto_model</th>\n",
       "      <th>auto_year</th>\n",
       "      <th>fraud_reported</th>\n",
       "      <th>_c39</th>\n",
       "    </tr>\n",
       "  </thead>\n",
       "  <tbody>\n",
       "    <tr>\n",
       "      <th>0</th>\n",
       "      <td>328</td>\n",
       "      <td>48</td>\n",
       "      <td>521585</td>\n",
       "      <td>2014-10-17</td>\n",
       "      <td>OH</td>\n",
       "      <td>250/500</td>\n",
       "      <td>1000</td>\n",
       "      <td>1406.91</td>\n",
       "      <td>0</td>\n",
       "      <td>466132</td>\n",
       "      <td>...</td>\n",
       "      <td>YES</td>\n",
       "      <td>71610</td>\n",
       "      <td>6510</td>\n",
       "      <td>13020</td>\n",
       "      <td>52080</td>\n",
       "      <td>Saab</td>\n",
       "      <td>92x</td>\n",
       "      <td>2004</td>\n",
       "      <td>Y</td>\n",
       "      <td>NaN</td>\n",
       "    </tr>\n",
       "    <tr>\n",
       "      <th>1</th>\n",
       "      <td>228</td>\n",
       "      <td>42</td>\n",
       "      <td>342868</td>\n",
       "      <td>2006-06-27</td>\n",
       "      <td>IN</td>\n",
       "      <td>250/500</td>\n",
       "      <td>2000</td>\n",
       "      <td>1197.22</td>\n",
       "      <td>5000000</td>\n",
       "      <td>468176</td>\n",
       "      <td>...</td>\n",
       "      <td>?</td>\n",
       "      <td>5070</td>\n",
       "      <td>780</td>\n",
       "      <td>780</td>\n",
       "      <td>3510</td>\n",
       "      <td>Mercedes</td>\n",
       "      <td>E400</td>\n",
       "      <td>2007</td>\n",
       "      <td>Y</td>\n",
       "      <td>NaN</td>\n",
       "    </tr>\n",
       "    <tr>\n",
       "      <th>2</th>\n",
       "      <td>134</td>\n",
       "      <td>29</td>\n",
       "      <td>687698</td>\n",
       "      <td>2000-09-06</td>\n",
       "      <td>OH</td>\n",
       "      <td>100/300</td>\n",
       "      <td>2000</td>\n",
       "      <td>1413.14</td>\n",
       "      <td>5000000</td>\n",
       "      <td>430632</td>\n",
       "      <td>...</td>\n",
       "      <td>NO</td>\n",
       "      <td>34650</td>\n",
       "      <td>7700</td>\n",
       "      <td>3850</td>\n",
       "      <td>23100</td>\n",
       "      <td>Dodge</td>\n",
       "      <td>RAM</td>\n",
       "      <td>2007</td>\n",
       "      <td>N</td>\n",
       "      <td>NaN</td>\n",
       "    </tr>\n",
       "    <tr>\n",
       "      <th>3</th>\n",
       "      <td>256</td>\n",
       "      <td>41</td>\n",
       "      <td>227811</td>\n",
       "      <td>1990-05-25</td>\n",
       "      <td>IL</td>\n",
       "      <td>250/500</td>\n",
       "      <td>2000</td>\n",
       "      <td>1415.74</td>\n",
       "      <td>6000000</td>\n",
       "      <td>608117</td>\n",
       "      <td>...</td>\n",
       "      <td>NO</td>\n",
       "      <td>63400</td>\n",
       "      <td>6340</td>\n",
       "      <td>6340</td>\n",
       "      <td>50720</td>\n",
       "      <td>Chevrolet</td>\n",
       "      <td>Tahoe</td>\n",
       "      <td>2014</td>\n",
       "      <td>Y</td>\n",
       "      <td>NaN</td>\n",
       "    </tr>\n",
       "    <tr>\n",
       "      <th>4</th>\n",
       "      <td>228</td>\n",
       "      <td>44</td>\n",
       "      <td>367455</td>\n",
       "      <td>2014-06-06</td>\n",
       "      <td>IL</td>\n",
       "      <td>500/1000</td>\n",
       "      <td>1000</td>\n",
       "      <td>1583.91</td>\n",
       "      <td>6000000</td>\n",
       "      <td>610706</td>\n",
       "      <td>...</td>\n",
       "      <td>NO</td>\n",
       "      <td>6500</td>\n",
       "      <td>1300</td>\n",
       "      <td>650</td>\n",
       "      <td>4550</td>\n",
       "      <td>Accura</td>\n",
       "      <td>RSX</td>\n",
       "      <td>2009</td>\n",
       "      <td>N</td>\n",
       "      <td>NaN</td>\n",
       "    </tr>\n",
       "  </tbody>\n",
       "</table>\n",
       "<p>5 rows × 40 columns</p>\n",
       "</div>"
      ],
      "text/plain": [
       "   months_as_customer  age  policy_number policy_bind_date policy_state  \\\n",
       "0                 328   48         521585       2014-10-17           OH   \n",
       "1                 228   42         342868       2006-06-27           IN   \n",
       "2                 134   29         687698       2000-09-06           OH   \n",
       "3                 256   41         227811       1990-05-25           IL   \n",
       "4                 228   44         367455       2014-06-06           IL   \n",
       "\n",
       "  policy_csl  policy_deductable  policy_annual_premium  umbrella_limit  \\\n",
       "0    250/500               1000                1406.91               0   \n",
       "1    250/500               2000                1197.22         5000000   \n",
       "2    100/300               2000                1413.14         5000000   \n",
       "3    250/500               2000                1415.74         6000000   \n",
       "4   500/1000               1000                1583.91         6000000   \n",
       "\n",
       "   insured_zip  ... police_report_available total_claim_amount injury_claim  \\\n",
       "0       466132  ...                     YES              71610         6510   \n",
       "1       468176  ...                       ?               5070          780   \n",
       "2       430632  ...                      NO              34650         7700   \n",
       "3       608117  ...                      NO              63400         6340   \n",
       "4       610706  ...                      NO               6500         1300   \n",
       "\n",
       "  property_claim vehicle_claim  auto_make  auto_model auto_year  \\\n",
       "0          13020         52080       Saab         92x      2004   \n",
       "1            780          3510   Mercedes        E400      2007   \n",
       "2           3850         23100      Dodge         RAM      2007   \n",
       "3           6340         50720  Chevrolet       Tahoe      2014   \n",
       "4            650          4550     Accura         RSX      2009   \n",
       "\n",
       "  fraud_reported _c39  \n",
       "0              Y  NaN  \n",
       "1              Y  NaN  \n",
       "2              N  NaN  \n",
       "3              Y  NaN  \n",
       "4              N  NaN  \n",
       "\n",
       "[5 rows x 40 columns]"
      ]
     },
     "execution_count": 5,
     "metadata": {},
     "output_type": "execute_result"
    }
   ],
   "source": [
    "# Check at the first few entries\n",
    "df_iclaims.head(5)"
   ]
  },
  {
   "cell_type": "code",
   "execution_count": 6,
   "metadata": {
    "id": "TK9_lipzDPWa"
   },
   "outputs": [
    {
     "data": {
      "text/plain": [
       "(1000, 40)"
      ]
     },
     "execution_count": 6,
     "metadata": {},
     "output_type": "execute_result"
    }
   ],
   "source": [
    "# Inspect the shape of the dataset\n",
    "df_iclaims.shape"
   ]
  },
  {
   "cell_type": "code",
   "execution_count": 7,
   "metadata": {
    "id": "Fd0PADNIuqov"
   },
   "outputs": [
    {
     "data": {
      "text/html": [
       "<div>\n",
       "<style scoped>\n",
       "    .dataframe tbody tr th:only-of-type {\n",
       "        vertical-align: middle;\n",
       "    }\n",
       "\n",
       "    .dataframe tbody tr th {\n",
       "        vertical-align: top;\n",
       "    }\n",
       "\n",
       "    .dataframe thead th {\n",
       "        text-align: right;\n",
       "    }\n",
       "</style>\n",
       "<table border=\"1\" class=\"dataframe\">\n",
       "  <thead>\n",
       "    <tr style=\"text-align: right;\">\n",
       "      <th></th>\n",
       "      <th>months_as_customer</th>\n",
       "      <th>age</th>\n",
       "      <th>policy_number</th>\n",
       "      <th>policy_deductable</th>\n",
       "      <th>policy_annual_premium</th>\n",
       "      <th>umbrella_limit</th>\n",
       "      <th>insured_zip</th>\n",
       "      <th>capital-gains</th>\n",
       "      <th>capital-loss</th>\n",
       "      <th>incident_hour_of_the_day</th>\n",
       "      <th>number_of_vehicles_involved</th>\n",
       "      <th>bodily_injuries</th>\n",
       "      <th>witnesses</th>\n",
       "      <th>total_claim_amount</th>\n",
       "      <th>injury_claim</th>\n",
       "      <th>property_claim</th>\n",
       "      <th>vehicle_claim</th>\n",
       "      <th>auto_year</th>\n",
       "      <th>_c39</th>\n",
       "    </tr>\n",
       "  </thead>\n",
       "  <tbody>\n",
       "    <tr>\n",
       "      <th>count</th>\n",
       "      <td>1000.000000</td>\n",
       "      <td>1000.000000</td>\n",
       "      <td>1000.000000</td>\n",
       "      <td>1000.000000</td>\n",
       "      <td>1000.000000</td>\n",
       "      <td>1.000000e+03</td>\n",
       "      <td>1000.000000</td>\n",
       "      <td>1000.000000</td>\n",
       "      <td>1000.000000</td>\n",
       "      <td>1000.000000</td>\n",
       "      <td>1000.00000</td>\n",
       "      <td>1000.000000</td>\n",
       "      <td>1000.000000</td>\n",
       "      <td>1000.00000</td>\n",
       "      <td>1000.000000</td>\n",
       "      <td>1000.000000</td>\n",
       "      <td>1000.000000</td>\n",
       "      <td>1000.000000</td>\n",
       "      <td>0.0</td>\n",
       "    </tr>\n",
       "    <tr>\n",
       "      <th>mean</th>\n",
       "      <td>203.954000</td>\n",
       "      <td>38.948000</td>\n",
       "      <td>546238.648000</td>\n",
       "      <td>1136.000000</td>\n",
       "      <td>1256.406150</td>\n",
       "      <td>1.101000e+06</td>\n",
       "      <td>501214.488000</td>\n",
       "      <td>25126.100000</td>\n",
       "      <td>-26793.700000</td>\n",
       "      <td>11.644000</td>\n",
       "      <td>1.83900</td>\n",
       "      <td>0.992000</td>\n",
       "      <td>1.487000</td>\n",
       "      <td>52761.94000</td>\n",
       "      <td>7433.420000</td>\n",
       "      <td>7399.570000</td>\n",
       "      <td>37928.950000</td>\n",
       "      <td>2005.103000</td>\n",
       "      <td>NaN</td>\n",
       "    </tr>\n",
       "    <tr>\n",
       "      <th>std</th>\n",
       "      <td>115.113174</td>\n",
       "      <td>9.140287</td>\n",
       "      <td>257063.005276</td>\n",
       "      <td>611.864673</td>\n",
       "      <td>244.167395</td>\n",
       "      <td>2.297407e+06</td>\n",
       "      <td>71701.610941</td>\n",
       "      <td>27872.187708</td>\n",
       "      <td>28104.096686</td>\n",
       "      <td>6.951373</td>\n",
       "      <td>1.01888</td>\n",
       "      <td>0.820127</td>\n",
       "      <td>1.111335</td>\n",
       "      <td>26401.53319</td>\n",
       "      <td>4880.951853</td>\n",
       "      <td>4824.726179</td>\n",
       "      <td>18886.252893</td>\n",
       "      <td>6.015861</td>\n",
       "      <td>NaN</td>\n",
       "    </tr>\n",
       "    <tr>\n",
       "      <th>min</th>\n",
       "      <td>0.000000</td>\n",
       "      <td>19.000000</td>\n",
       "      <td>100804.000000</td>\n",
       "      <td>500.000000</td>\n",
       "      <td>433.330000</td>\n",
       "      <td>-1.000000e+06</td>\n",
       "      <td>430104.000000</td>\n",
       "      <td>0.000000</td>\n",
       "      <td>-111100.000000</td>\n",
       "      <td>0.000000</td>\n",
       "      <td>1.00000</td>\n",
       "      <td>0.000000</td>\n",
       "      <td>0.000000</td>\n",
       "      <td>100.00000</td>\n",
       "      <td>0.000000</td>\n",
       "      <td>0.000000</td>\n",
       "      <td>70.000000</td>\n",
       "      <td>1995.000000</td>\n",
       "      <td>NaN</td>\n",
       "    </tr>\n",
       "    <tr>\n",
       "      <th>25%</th>\n",
       "      <td>115.750000</td>\n",
       "      <td>32.000000</td>\n",
       "      <td>335980.250000</td>\n",
       "      <td>500.000000</td>\n",
       "      <td>1089.607500</td>\n",
       "      <td>0.000000e+00</td>\n",
       "      <td>448404.500000</td>\n",
       "      <td>0.000000</td>\n",
       "      <td>-51500.000000</td>\n",
       "      <td>6.000000</td>\n",
       "      <td>1.00000</td>\n",
       "      <td>0.000000</td>\n",
       "      <td>1.000000</td>\n",
       "      <td>41812.50000</td>\n",
       "      <td>4295.000000</td>\n",
       "      <td>4445.000000</td>\n",
       "      <td>30292.500000</td>\n",
       "      <td>2000.000000</td>\n",
       "      <td>NaN</td>\n",
       "    </tr>\n",
       "    <tr>\n",
       "      <th>50%</th>\n",
       "      <td>199.500000</td>\n",
       "      <td>38.000000</td>\n",
       "      <td>533135.000000</td>\n",
       "      <td>1000.000000</td>\n",
       "      <td>1257.200000</td>\n",
       "      <td>0.000000e+00</td>\n",
       "      <td>466445.500000</td>\n",
       "      <td>0.000000</td>\n",
       "      <td>-23250.000000</td>\n",
       "      <td>12.000000</td>\n",
       "      <td>1.00000</td>\n",
       "      <td>1.000000</td>\n",
       "      <td>1.000000</td>\n",
       "      <td>58055.00000</td>\n",
       "      <td>6775.000000</td>\n",
       "      <td>6750.000000</td>\n",
       "      <td>42100.000000</td>\n",
       "      <td>2005.000000</td>\n",
       "      <td>NaN</td>\n",
       "    </tr>\n",
       "    <tr>\n",
       "      <th>75%</th>\n",
       "      <td>276.250000</td>\n",
       "      <td>44.000000</td>\n",
       "      <td>759099.750000</td>\n",
       "      <td>2000.000000</td>\n",
       "      <td>1415.695000</td>\n",
       "      <td>0.000000e+00</td>\n",
       "      <td>603251.000000</td>\n",
       "      <td>51025.000000</td>\n",
       "      <td>0.000000</td>\n",
       "      <td>17.000000</td>\n",
       "      <td>3.00000</td>\n",
       "      <td>2.000000</td>\n",
       "      <td>2.000000</td>\n",
       "      <td>70592.50000</td>\n",
       "      <td>11305.000000</td>\n",
       "      <td>10885.000000</td>\n",
       "      <td>50822.500000</td>\n",
       "      <td>2010.000000</td>\n",
       "      <td>NaN</td>\n",
       "    </tr>\n",
       "    <tr>\n",
       "      <th>max</th>\n",
       "      <td>479.000000</td>\n",
       "      <td>64.000000</td>\n",
       "      <td>999435.000000</td>\n",
       "      <td>2000.000000</td>\n",
       "      <td>2047.590000</td>\n",
       "      <td>1.000000e+07</td>\n",
       "      <td>620962.000000</td>\n",
       "      <td>100500.000000</td>\n",
       "      <td>0.000000</td>\n",
       "      <td>23.000000</td>\n",
       "      <td>4.00000</td>\n",
       "      <td>2.000000</td>\n",
       "      <td>3.000000</td>\n",
       "      <td>114920.00000</td>\n",
       "      <td>21450.000000</td>\n",
       "      <td>23670.000000</td>\n",
       "      <td>79560.000000</td>\n",
       "      <td>2015.000000</td>\n",
       "      <td>NaN</td>\n",
       "    </tr>\n",
       "  </tbody>\n",
       "</table>\n",
       "</div>"
      ],
      "text/plain": [
       "       months_as_customer          age  policy_number  policy_deductable  \\\n",
       "count         1000.000000  1000.000000    1000.000000        1000.000000   \n",
       "mean           203.954000    38.948000  546238.648000        1136.000000   \n",
       "std            115.113174     9.140287  257063.005276         611.864673   \n",
       "min              0.000000    19.000000  100804.000000         500.000000   \n",
       "25%            115.750000    32.000000  335980.250000         500.000000   \n",
       "50%            199.500000    38.000000  533135.000000        1000.000000   \n",
       "75%            276.250000    44.000000  759099.750000        2000.000000   \n",
       "max            479.000000    64.000000  999435.000000        2000.000000   \n",
       "\n",
       "       policy_annual_premium  umbrella_limit    insured_zip  capital-gains  \\\n",
       "count            1000.000000    1.000000e+03    1000.000000    1000.000000   \n",
       "mean             1256.406150    1.101000e+06  501214.488000   25126.100000   \n",
       "std               244.167395    2.297407e+06   71701.610941   27872.187708   \n",
       "min               433.330000   -1.000000e+06  430104.000000       0.000000   \n",
       "25%              1089.607500    0.000000e+00  448404.500000       0.000000   \n",
       "50%              1257.200000    0.000000e+00  466445.500000       0.000000   \n",
       "75%              1415.695000    0.000000e+00  603251.000000   51025.000000   \n",
       "max              2047.590000    1.000000e+07  620962.000000  100500.000000   \n",
       "\n",
       "        capital-loss  incident_hour_of_the_day  number_of_vehicles_involved  \\\n",
       "count    1000.000000               1000.000000                   1000.00000   \n",
       "mean   -26793.700000                 11.644000                      1.83900   \n",
       "std     28104.096686                  6.951373                      1.01888   \n",
       "min   -111100.000000                  0.000000                      1.00000   \n",
       "25%    -51500.000000                  6.000000                      1.00000   \n",
       "50%    -23250.000000                 12.000000                      1.00000   \n",
       "75%         0.000000                 17.000000                      3.00000   \n",
       "max         0.000000                 23.000000                      4.00000   \n",
       "\n",
       "       bodily_injuries    witnesses  total_claim_amount  injury_claim  \\\n",
       "count      1000.000000  1000.000000          1000.00000   1000.000000   \n",
       "mean          0.992000     1.487000         52761.94000   7433.420000   \n",
       "std           0.820127     1.111335         26401.53319   4880.951853   \n",
       "min           0.000000     0.000000           100.00000      0.000000   \n",
       "25%           0.000000     1.000000         41812.50000   4295.000000   \n",
       "50%           1.000000     1.000000         58055.00000   6775.000000   \n",
       "75%           2.000000     2.000000         70592.50000  11305.000000   \n",
       "max           2.000000     3.000000        114920.00000  21450.000000   \n",
       "\n",
       "       property_claim  vehicle_claim    auto_year  _c39  \n",
       "count     1000.000000    1000.000000  1000.000000   0.0  \n",
       "mean      7399.570000   37928.950000  2005.103000   NaN  \n",
       "std       4824.726179   18886.252893     6.015861   NaN  \n",
       "min          0.000000      70.000000  1995.000000   NaN  \n",
       "25%       4445.000000   30292.500000  2000.000000   NaN  \n",
       "50%       6750.000000   42100.000000  2005.000000   NaN  \n",
       "75%      10885.000000   50822.500000  2010.000000   NaN  \n",
       "max      23670.000000   79560.000000  2015.000000   NaN  "
      ]
     },
     "execution_count": 7,
     "metadata": {},
     "output_type": "execute_result"
    }
   ],
   "source": [
    "# Inspect the features in the dataset\n",
    "df_iclaims.describe()"
   ]
  },
  {
   "cell_type": "code",
   "execution_count": 8,
   "metadata": {},
   "outputs": [
    {
     "name": "stdout",
     "output_type": "stream",
     "text": [
      "<class 'pandas.core.frame.DataFrame'>\n",
      "RangeIndex: 1000 entries, 0 to 999\n",
      "Data columns (total 40 columns):\n",
      " #   Column                       Non-Null Count  Dtype  \n",
      "---  ------                       --------------  -----  \n",
      " 0   months_as_customer           1000 non-null   int64  \n",
      " 1   age                          1000 non-null   int64  \n",
      " 2   policy_number                1000 non-null   int64  \n",
      " 3   policy_bind_date             1000 non-null   object \n",
      " 4   policy_state                 1000 non-null   object \n",
      " 5   policy_csl                   1000 non-null   object \n",
      " 6   policy_deductable            1000 non-null   int64  \n",
      " 7   policy_annual_premium        1000 non-null   float64\n",
      " 8   umbrella_limit               1000 non-null   int64  \n",
      " 9   insured_zip                  1000 non-null   int64  \n",
      " 10  insured_sex                  1000 non-null   object \n",
      " 11  insured_education_level      1000 non-null   object \n",
      " 12  insured_occupation           1000 non-null   object \n",
      " 13  insured_hobbies              1000 non-null   object \n",
      " 14  insured_relationship         1000 non-null   object \n",
      " 15  capital-gains                1000 non-null   int64  \n",
      " 16  capital-loss                 1000 non-null   int64  \n",
      " 17  incident_date                1000 non-null   object \n",
      " 18  incident_type                1000 non-null   object \n",
      " 19  collision_type               1000 non-null   object \n",
      " 20  incident_severity            1000 non-null   object \n",
      " 21  authorities_contacted        1000 non-null   object \n",
      " 22  incident_state               1000 non-null   object \n",
      " 23  incident_city                1000 non-null   object \n",
      " 24  incident_location            1000 non-null   object \n",
      " 25  incident_hour_of_the_day     1000 non-null   int64  \n",
      " 26  number_of_vehicles_involved  1000 non-null   int64  \n",
      " 27  property_damage              1000 non-null   object \n",
      " 28  bodily_injuries              1000 non-null   int64  \n",
      " 29  witnesses                    1000 non-null   int64  \n",
      " 30  police_report_available      1000 non-null   object \n",
      " 31  total_claim_amount           1000 non-null   int64  \n",
      " 32  injury_claim                 1000 non-null   int64  \n",
      " 33  property_claim               1000 non-null   int64  \n",
      " 34  vehicle_claim                1000 non-null   int64  \n",
      " 35  auto_make                    1000 non-null   object \n",
      " 36  auto_model                   1000 non-null   object \n",
      " 37  auto_year                    1000 non-null   int64  \n",
      " 38  fraud_reported               1000 non-null   object \n",
      " 39  _c39                         0 non-null      float64\n",
      "dtypes: float64(2), int64(17), object(21)\n",
      "memory usage: 312.6+ KB\n"
     ]
    }
   ],
   "source": [
    "df_iclaims.info()"
   ]
  },
  {
   "cell_type": "markdown",
   "metadata": {
    "id": "YRijmf2EDPWa"
   },
   "source": [
    "## **2. Data Cleaning** <font color = red>[10 marks]</font>"
   ]
  },
  {
   "cell_type": "markdown",
   "metadata": {
    "id": "DxXOACINDPWa"
   },
   "source": [
    "### **2.1 Handle null values** <font color = red>[2 marks]</font>"
   ]
  },
  {
   "cell_type": "markdown",
   "metadata": {
    "id": "kJDjZSkmDPWa"
   },
   "source": [
    "#### **2.1.1** Examine the columns to determine if any value or column needs to be treated <font color=\"red\">[1 Mark]</font>"
   ]
  },
  {
   "cell_type": "code",
   "execution_count": 9,
   "metadata": {},
   "outputs": [],
   "source": [
    "#function to get the missing data information\n",
    "def get_missing_data_info(df, threshold):\n",
    "    missing_data = pd.DataFrame({\n",
    "        'Field_Name': df.columns,\n",
    "        'Missing_Vals': df.isnull().sum(),\n",
    "        'Missing_Vals_Percentage': (df.isnull().sum() / df.shape[0] * 100).round(4)\n",
    "    }).sort_values('Missing_Vals_Percentage', ascending=False)\n",
    "    \n",
    "    return missing_data[missing_data['Missing_Vals_Percentage'] > threshold]"
   ]
  },
  {
   "cell_type": "code",
   "execution_count": 10,
   "metadata": {},
   "outputs": [],
   "source": [
    "def drop_missing_cols_above_threshold(df, threshold):\n",
    "    _columns = get_missing_data_info(df, threshold)['Field_Name'].to_list()\n",
    "    for _column in _columns:\n",
    "        df.drop([_column], axis=1, inplace=True)"
   ]
  },
  {
   "cell_type": "code",
   "execution_count": 11,
   "metadata": {
    "id": "3B4OtvQlDPWa"
   },
   "outputs": [
    {
     "data": {
      "text/html": [
       "<div>\n",
       "<style scoped>\n",
       "    .dataframe tbody tr th:only-of-type {\n",
       "        vertical-align: middle;\n",
       "    }\n",
       "\n",
       "    .dataframe tbody tr th {\n",
       "        vertical-align: top;\n",
       "    }\n",
       "\n",
       "    .dataframe thead th {\n",
       "        text-align: right;\n",
       "    }\n",
       "</style>\n",
       "<table border=\"1\" class=\"dataframe\">\n",
       "  <thead>\n",
       "    <tr style=\"text-align: right;\">\n",
       "      <th></th>\n",
       "      <th>Field_Name</th>\n",
       "      <th>Missing_Vals</th>\n",
       "      <th>Missing_Vals_Percentage</th>\n",
       "    </tr>\n",
       "  </thead>\n",
       "  <tbody>\n",
       "    <tr>\n",
       "      <th>_c39</th>\n",
       "      <td>_c39</td>\n",
       "      <td>1000</td>\n",
       "      <td>100.0</td>\n",
       "    </tr>\n",
       "  </tbody>\n",
       "</table>\n",
       "</div>"
      ],
      "text/plain": [
       "     Field_Name  Missing_Vals  Missing_Vals_Percentage\n",
       "_c39       _c39          1000                    100.0"
      ]
     },
     "execution_count": 11,
     "metadata": {},
     "output_type": "execute_result"
    }
   ],
   "source": [
    "# Check the number of missing values in each column\n",
    "get_missing_data_info(df_iclaims, 0)"
   ]
  },
  {
   "cell_type": "markdown",
   "metadata": {
    "id": "AE6K2iqkDPWb"
   },
   "source": [
    "#### **2.1.2** Handle rows containing null values <font color=\"red\">[1 Mark]</font>"
   ]
  },
  {
   "cell_type": "code",
   "execution_count": 12,
   "metadata": {
    "id": "88PX2r5hDPWb"
   },
   "outputs": [
    {
     "data": {
      "text/plain": [
       "months_as_customer               0.0\n",
       "age                              0.0\n",
       "policy_number                    0.0\n",
       "policy_bind_date                 0.0\n",
       "policy_state                     0.0\n",
       "policy_csl                       0.0\n",
       "policy_deductable                0.0\n",
       "policy_annual_premium            0.0\n",
       "umbrella_limit                   0.0\n",
       "insured_zip                      0.0\n",
       "insured_sex                      0.0\n",
       "insured_education_level          0.0\n",
       "insured_occupation               0.0\n",
       "insured_hobbies                  0.0\n",
       "insured_relationship             0.0\n",
       "capital-gains                    0.0\n",
       "capital-loss                     0.0\n",
       "incident_date                    0.0\n",
       "incident_type                    0.0\n",
       "collision_type                   0.0\n",
       "incident_severity                0.0\n",
       "authorities_contacted            0.0\n",
       "incident_state                   0.0\n",
       "incident_city                    0.0\n",
       "incident_location                0.0\n",
       "incident_hour_of_the_day         0.0\n",
       "number_of_vehicles_involved      0.0\n",
       "property_damage                  0.0\n",
       "bodily_injuries                  0.0\n",
       "witnesses                        0.0\n",
       "police_report_available          0.0\n",
       "total_claim_amount               0.0\n",
       "injury_claim                     0.0\n",
       "property_claim                   0.0\n",
       "vehicle_claim                    0.0\n",
       "auto_make                        0.0\n",
       "auto_model                       0.0\n",
       "auto_year                        0.0\n",
       "fraud_reported                   0.0\n",
       "_c39                           100.0\n",
       "dtype: float64"
      ]
     },
     "execution_count": 12,
     "metadata": {},
     "output_type": "execute_result"
    }
   ],
   "source": [
    "# Handle the rows containing null values\n",
    "df_iclaims.isnull().mean()*100"
   ]
  },
  {
   "cell_type": "markdown",
   "metadata": {
    "id": "202JyqOjDPWb"
   },
   "source": [
    "### **2.2 Identify and handle redundant values and columns** <font color = red>[5 marks]</font>"
   ]
  },
  {
   "cell_type": "markdown",
   "metadata": {
    "id": "fSh2wYZoDPWb"
   },
   "source": [
    "#### **2.2.1** Examine the columns to determine if any value or column needs to be treated <font color=\"red\">[2 Mark]</font>"
   ]
  },
  {
   "cell_type": "code",
   "execution_count": 13,
   "metadata": {
    "id": "1x0Cn8BiDPWb"
   },
   "outputs": [
    {
     "name": "stdout",
     "output_type": "stream",
     "text": [
      "Number of unique values: 391\n",
      "Unique values and respective counts in months_as_customer:\n",
      "194    8\n",
      "128    7\n",
      "254    7\n",
      "140    7\n",
      "210    7\n",
      "      ..\n",
      "390    1\n",
      "411    1\n",
      "453    1\n",
      "448    1\n",
      "17     1\n",
      "Name: months_as_customer, Length: 391, dtype: int64\n",
      "\n",
      "\n",
      "Number of unique values: 46\n",
      "Unique values and respective counts in age:\n",
      "43    49\n",
      "39    48\n",
      "41    45\n",
      "34    44\n",
      "38    42\n",
      "30    42\n",
      "31    42\n",
      "37    41\n",
      "33    39\n",
      "40    38\n",
      "32    38\n",
      "29    35\n",
      "46    33\n",
      "42    32\n",
      "35    32\n",
      "36    32\n",
      "44    32\n",
      "28    30\n",
      "26    26\n",
      "45    26\n",
      "48    25\n",
      "47    24\n",
      "27    24\n",
      "57    16\n",
      "25    14\n",
      "55    14\n",
      "49    14\n",
      "53    13\n",
      "50    13\n",
      "24    10\n",
      "54    10\n",
      "61    10\n",
      "51     9\n",
      "60     9\n",
      "58     8\n",
      "56     8\n",
      "23     7\n",
      "21     6\n",
      "59     5\n",
      "62     4\n",
      "52     4\n",
      "64     2\n",
      "63     2\n",
      "19     1\n",
      "20     1\n",
      "22     1\n",
      "Name: age, dtype: int64\n",
      "\n",
      "\n",
      "Number of unique values: 1000\n",
      "Unique values and respective counts in policy_number:\n",
      "521585    1\n",
      "687755    1\n",
      "674485    1\n",
      "223404    1\n",
      "991480    1\n",
      "         ..\n",
      "563878    1\n",
      "620855    1\n",
      "583169    1\n",
      "337677    1\n",
      "556080    1\n",
      "Name: policy_number, Length: 1000, dtype: int64\n",
      "\n",
      "\n",
      "Number of unique values: 951\n",
      "Unique values and respective counts in policy_bind_date:\n",
      "2006-01-01    3\n",
      "1992-04-28    3\n",
      "1992-08-05    3\n",
      "1991-12-14    2\n",
      "2004-08-09    2\n",
      "             ..\n",
      "2014-06-03    1\n",
      "1998-12-12    1\n",
      "1999-02-18    1\n",
      "1997-10-30    1\n",
      "1996-11-11    1\n",
      "Name: policy_bind_date, Length: 951, dtype: int64\n",
      "\n",
      "\n",
      "Number of unique values: 3\n",
      "Unique values and respective counts in policy_state:\n",
      "OH    352\n",
      "IL    338\n",
      "IN    310\n",
      "Name: policy_state, dtype: int64\n",
      "\n",
      "\n",
      "Number of unique values: 3\n",
      "Unique values and respective counts in policy_csl:\n",
      "250/500     351\n",
      "100/300     349\n",
      "500/1000    300\n",
      "Name: policy_csl, dtype: int64\n",
      "\n",
      "\n",
      "Number of unique values: 3\n",
      "Unique values and respective counts in policy_deductable:\n",
      "1000    351\n",
      "500     342\n",
      "2000    307\n",
      "Name: policy_deductable, dtype: int64\n",
      "\n",
      "\n",
      "Number of unique values: 991\n",
      "Unique values and respective counts in policy_annual_premium:\n",
      "1558.29    2\n",
      "1215.36    2\n",
      "1362.87    2\n",
      "1073.83    2\n",
      "1389.13    2\n",
      "          ..\n",
      "1085.03    1\n",
      "1437.33    1\n",
      "988.29     1\n",
      "1238.89    1\n",
      "766.19     1\n",
      "Name: policy_annual_premium, Length: 991, dtype: int64\n",
      "\n",
      "\n",
      "Number of unique values: 11\n",
      "Unique values and respective counts in umbrella_limit:\n",
      " 0           798\n",
      " 6000000      57\n",
      " 5000000      46\n",
      " 4000000      39\n",
      " 7000000      29\n",
      " 3000000      12\n",
      " 8000000       8\n",
      " 9000000       5\n",
      " 2000000       3\n",
      " 10000000      2\n",
      "-1000000       1\n",
      "Name: umbrella_limit, dtype: int64\n",
      "\n",
      "\n",
      "Number of unique values: 995\n",
      "Unique values and respective counts in insured_zip:\n",
      "477695    2\n",
      "469429    2\n",
      "446895    2\n",
      "431202    2\n",
      "456602    2\n",
      "         ..\n",
      "476303    1\n",
      "450339    1\n",
      "476502    1\n",
      "600561    1\n",
      "612260    1\n",
      "Name: insured_zip, Length: 995, dtype: int64\n",
      "\n",
      "\n",
      "Number of unique values: 2\n",
      "Unique values and respective counts in insured_sex:\n",
      "FEMALE    537\n",
      "MALE      463\n",
      "Name: insured_sex, dtype: int64\n",
      "\n",
      "\n",
      "Number of unique values: 7\n",
      "Unique values and respective counts in insured_education_level:\n",
      "JD             161\n",
      "High School    160\n",
      "Associate      145\n",
      "MD             144\n",
      "Masters        143\n",
      "PhD            125\n",
      "College        122\n",
      "Name: insured_education_level, dtype: int64\n",
      "\n",
      "\n",
      "Number of unique values: 14\n",
      "Unique values and respective counts in insured_occupation:\n",
      "machine-op-inspct    93\n",
      "prof-specialty       85\n",
      "tech-support         78\n",
      "sales                76\n",
      "exec-managerial      76\n",
      "craft-repair         74\n",
      "transport-moving     72\n",
      "other-service        71\n",
      "priv-house-serv      71\n",
      "armed-forces         69\n",
      "adm-clerical         65\n",
      "protective-serv      63\n",
      "handlers-cleaners    54\n",
      "farming-fishing      53\n",
      "Name: insured_occupation, dtype: int64\n",
      "\n",
      "\n",
      "Number of unique values: 20\n",
      "Unique values and respective counts in insured_hobbies:\n",
      "reading           64\n",
      "exercise          57\n",
      "paintball         57\n",
      "bungie-jumping    56\n",
      "movies            55\n",
      "golf              55\n",
      "camping           55\n",
      "kayaking          54\n",
      "yachting          53\n",
      "hiking            52\n",
      "video-games       50\n",
      "skydiving         49\n",
      "base-jumping      49\n",
      "board-games       48\n",
      "polo              47\n",
      "chess             46\n",
      "dancing           43\n",
      "sleeping          41\n",
      "cross-fit         35\n",
      "basketball        34\n",
      "Name: insured_hobbies, dtype: int64\n",
      "\n",
      "\n",
      "Number of unique values: 6\n",
      "Unique values and respective counts in insured_relationship:\n",
      "own-child         183\n",
      "other-relative    177\n",
      "not-in-family     174\n",
      "husband           170\n",
      "wife              155\n",
      "unmarried         141\n",
      "Name: insured_relationship, dtype: int64\n",
      "\n",
      "\n",
      "Number of unique values: 338\n",
      "Unique values and respective counts in capital-gains:\n",
      "0        508\n",
      "46300      5\n",
      "51500      4\n",
      "68500      4\n",
      "55600      3\n",
      "        ... \n",
      "36700      1\n",
      "54900      1\n",
      "69200      1\n",
      "48800      1\n",
      "50300      1\n",
      "Name: capital-gains, Length: 338, dtype: int64\n",
      "\n",
      "\n",
      "Number of unique values: 354\n",
      "Unique values and respective counts in capital-loss:\n",
      " 0        475\n",
      "-31700      5\n",
      "-53700      5\n",
      "-50300      5\n",
      "-45300      4\n",
      "         ... \n",
      "-12100      1\n",
      "-17000      1\n",
      "-72900      1\n",
      "-19700      1\n",
      "-82100      1\n",
      "Name: capital-loss, Length: 354, dtype: int64\n",
      "\n",
      "\n",
      "Number of unique values: 60\n",
      "Unique values and respective counts in incident_date:\n",
      "2015-02-02    28\n",
      "2015-02-17    26\n",
      "2015-01-07    25\n",
      "2015-01-10    24\n",
      "2015-02-04    24\n",
      "2015-01-24    24\n",
      "2015-01-19    23\n",
      "2015-01-08    22\n",
      "2015-01-13    21\n",
      "2015-01-30    21\n",
      "2015-02-12    20\n",
      "2015-02-22    20\n",
      "2015-01-31    20\n",
      "2015-02-06    20\n",
      "2015-02-21    19\n",
      "2015-01-01    19\n",
      "2015-02-23    19\n",
      "2015-01-12    19\n",
      "2015-01-14    19\n",
      "2015-01-21    19\n",
      "2015-01-03    18\n",
      "2015-02-14    18\n",
      "2015-02-01    18\n",
      "2015-02-28    18\n",
      "2015-01-20    18\n",
      "2015-01-18    18\n",
      "2015-02-25    18\n",
      "2015-01-06    17\n",
      "2015-01-09    17\n",
      "2015-02-08    17\n",
      "2015-02-24    17\n",
      "2015-02-26    17\n",
      "2015-02-13    16\n",
      "2015-02-15    16\n",
      "2015-02-16    16\n",
      "2015-02-05    16\n",
      "2015-01-16    16\n",
      "2015-01-17    15\n",
      "2015-02-18    15\n",
      "2015-01-28    15\n",
      "2015-01-15    15\n",
      "2015-01-22    14\n",
      "2015-02-20    14\n",
      "2015-02-27    14\n",
      "2015-01-23    13\n",
      "2015-02-03    13\n",
      "2015-01-27    13\n",
      "2015-02-09    13\n",
      "2015-01-04    12\n",
      "2015-03-01    12\n",
      "2015-01-26    11\n",
      "2015-01-29    11\n",
      "2015-01-02    11\n",
      "2015-02-19    10\n",
      "2015-02-11    10\n",
      "2015-02-10    10\n",
      "2015-02-07    10\n",
      "2015-01-25    10\n",
      "2015-01-11     9\n",
      "2015-01-05     7\n",
      "Name: incident_date, dtype: int64\n",
      "\n",
      "\n",
      "Number of unique values: 4\n",
      "Unique values and respective counts in incident_type:\n",
      "Multi-vehicle Collision     419\n",
      "Single Vehicle Collision    403\n",
      "Vehicle Theft                94\n",
      "Parked Car                   84\n",
      "Name: incident_type, dtype: int64\n",
      "\n",
      "\n",
      "Number of unique values: 4\n",
      "Unique values and respective counts in collision_type:\n",
      "Rear Collision     292\n",
      "Side Collision     276\n",
      "Front Collision    254\n",
      "?                  178\n",
      "Name: collision_type, dtype: int64\n",
      "\n",
      "\n",
      "Number of unique values: 4\n",
      "Unique values and respective counts in incident_severity:\n",
      "Minor Damage      354\n",
      "Total Loss        280\n",
      "Major Damage      276\n",
      "Trivial Damage     90\n",
      "Name: incident_severity, dtype: int64\n",
      "\n",
      "\n",
      "Number of unique values: 5\n",
      "Unique values and respective counts in authorities_contacted:\n",
      "Police       292\n",
      "Fire         223\n",
      "Other        198\n",
      "Ambulance    196\n",
      "None          91\n",
      "Name: authorities_contacted, dtype: int64\n",
      "\n",
      "\n",
      "Number of unique values: 7\n",
      "Unique values and respective counts in incident_state:\n",
      "NY    262\n",
      "SC    248\n",
      "WV    217\n",
      "VA    110\n",
      "NC    110\n",
      "PA     30\n",
      "OH     23\n",
      "Name: incident_state, dtype: int64\n",
      "\n",
      "\n",
      "Number of unique values: 7\n",
      "Unique values and respective counts in incident_city:\n",
      "Springfield    157\n",
      "Arlington      152\n",
      "Columbus       149\n",
      "Northbend      145\n",
      "Hillsdale      141\n",
      "Riverwood      134\n",
      "Northbrook     122\n",
      "Name: incident_city, dtype: int64\n",
      "\n",
      "\n",
      "Number of unique values: 1000\n",
      "Unique values and respective counts in incident_location:\n",
      "9935 4th Drive         1\n",
      "4214 MLK Ridge         1\n",
      "8548 Cherokee Ridge    1\n",
      "2352 MLK Drive         1\n",
      "9734 2nd Ridge         1\n",
      "                      ..\n",
      "6770 1st St            1\n",
      "4119 Texas St          1\n",
      "4347 2nd Ridge         1\n",
      "1091 1st Drive         1\n",
      "1416 Cherokee Ridge    1\n",
      "Name: incident_location, Length: 1000, dtype: int64\n",
      "\n",
      "\n",
      "Number of unique values: 24\n",
      "Unique values and respective counts in incident_hour_of_the_day:\n",
      "17    54\n",
      "3     53\n",
      "0     52\n",
      "23    51\n",
      "16    49\n",
      "13    46\n",
      "10    46\n",
      "4     46\n",
      "6     44\n",
      "9     43\n",
      "14    43\n",
      "21    42\n",
      "18    41\n",
      "12    40\n",
      "19    40\n",
      "7     40\n",
      "15    39\n",
      "22    38\n",
      "8     36\n",
      "20    34\n",
      "5     33\n",
      "2     31\n",
      "11    30\n",
      "1     29\n",
      "Name: incident_hour_of_the_day, dtype: int64\n",
      "\n",
      "\n",
      "Number of unique values: 4\n",
      "Unique values and respective counts in number_of_vehicles_involved:\n",
      "1    581\n",
      "3    358\n",
      "4     31\n",
      "2     30\n",
      "Name: number_of_vehicles_involved, dtype: int64\n",
      "\n",
      "\n",
      "Number of unique values: 3\n",
      "Unique values and respective counts in property_damage:\n",
      "?      360\n",
      "NO     338\n",
      "YES    302\n",
      "Name: property_damage, dtype: int64\n",
      "\n",
      "\n",
      "Number of unique values: 3\n",
      "Unique values and respective counts in bodily_injuries:\n",
      "0    340\n",
      "2    332\n",
      "1    328\n",
      "Name: bodily_injuries, dtype: int64\n",
      "\n",
      "\n",
      "Number of unique values: 4\n",
      "Unique values and respective counts in witnesses:\n",
      "1    258\n",
      "2    250\n",
      "0    249\n",
      "3    243\n",
      "Name: witnesses, dtype: int64\n",
      "\n",
      "\n",
      "Number of unique values: 3\n",
      "Unique values and respective counts in police_report_available:\n",
      "?      343\n",
      "NO     343\n",
      "YES    314\n",
      "Name: police_report_available, dtype: int64\n",
      "\n",
      "\n",
      "Number of unique values: 763\n",
      "Unique values and respective counts in total_claim_amount:\n",
      "59400    5\n",
      "2640     4\n",
      "70400    4\n",
      "4320     4\n",
      "44200    4\n",
      "        ..\n",
      "65250    1\n",
      "87100    1\n",
      "6240     1\n",
      "66600    1\n",
      "67500    1\n",
      "Name: total_claim_amount, Length: 763, dtype: int64\n",
      "\n",
      "\n",
      "Number of unique values: 638\n",
      "Unique values and respective counts in injury_claim:\n",
      "0        25\n",
      "640       7\n",
      "480       7\n",
      "660       5\n",
      "580       5\n",
      "         ..\n",
      "14840     1\n",
      "6580      1\n",
      "11820     1\n",
      "16650     1\n",
      "7500      1\n",
      "Name: injury_claim, Length: 638, dtype: int64\n",
      "\n",
      "\n",
      "Number of unique values: 626\n",
      "Unique values and respective counts in property_claim:\n",
      "0        19\n",
      "860       6\n",
      "480       5\n",
      "660       5\n",
      "10000     5\n",
      "         ..\n",
      "3590      1\n",
      "6480      1\n",
      "4580      1\n",
      "4920      1\n",
      "7500      1\n",
      "Name: property_claim, Length: 626, dtype: int64\n",
      "\n",
      "\n",
      "Number of unique values: 726\n",
      "Unique values and respective counts in vehicle_claim:\n",
      "5040     7\n",
      "3360     6\n",
      "52080    5\n",
      "4720     5\n",
      "3600     5\n",
      "        ..\n",
      "43360    1\n",
      "25130    1\n",
      "38940    1\n",
      "47430    1\n",
      "52500    1\n",
      "Name: vehicle_claim, Length: 726, dtype: int64\n",
      "\n",
      "\n",
      "Number of unique values: 14\n",
      "Unique values and respective counts in auto_make:\n",
      "Saab          80\n",
      "Dodge         80\n",
      "Suburu        80\n",
      "Nissan        78\n",
      "Chevrolet     76\n",
      "Ford          72\n",
      "BMW           72\n",
      "Toyota        70\n",
      "Audi          69\n",
      "Accura        68\n",
      "Volkswagen    68\n",
      "Jeep          67\n",
      "Mercedes      65\n",
      "Honda         55\n",
      "Name: auto_make, dtype: int64\n",
      "\n",
      "\n",
      "Number of unique values: 39\n",
      "Unique values and respective counts in auto_model:\n",
      "RAM               43\n",
      "Wrangler          42\n",
      "A3                37\n",
      "Neon              37\n",
      "MDX               36\n",
      "Jetta             35\n",
      "Passat            33\n",
      "A5                32\n",
      "Legacy            32\n",
      "Pathfinder        31\n",
      "Malibu            30\n",
      "92x               28\n",
      "Camry             28\n",
      "Forrestor         28\n",
      "F150              27\n",
      "95                27\n",
      "E400              27\n",
      "93                25\n",
      "Grand Cherokee    25\n",
      "Escape            24\n",
      "Tahoe             24\n",
      "Maxima            24\n",
      "Ultima            23\n",
      "X5                23\n",
      "Highlander        22\n",
      "Civic             22\n",
      "Silverado         22\n",
      "Fusion            21\n",
      "ML350             20\n",
      "Impreza           20\n",
      "Corolla           20\n",
      "TL                20\n",
      "CRV               20\n",
      "C300              18\n",
      "3 Series          18\n",
      "X6                16\n",
      "M5                15\n",
      "Accord            13\n",
      "RSX               12\n",
      "Name: auto_model, dtype: int64\n",
      "\n",
      "\n",
      "Number of unique values: 21\n",
      "Unique values and respective counts in auto_year:\n",
      "1995    56\n",
      "1999    55\n",
      "2005    54\n",
      "2006    53\n",
      "2011    53\n",
      "2007    52\n",
      "2003    51\n",
      "2009    50\n",
      "2010    50\n",
      "2013    49\n",
      "2002    49\n",
      "2015    47\n",
      "1997    46\n",
      "2012    46\n",
      "2008    45\n",
      "2014    44\n",
      "2001    42\n",
      "2000    42\n",
      "1998    40\n",
      "2004    39\n",
      "1996    37\n",
      "Name: auto_year, dtype: int64\n",
      "\n",
      "\n",
      "Number of unique values: 2\n",
      "Unique values and respective counts in fraud_reported:\n",
      "N    753\n",
      "Y    247\n",
      "Name: fraud_reported, dtype: int64\n",
      "\n",
      "\n",
      "Number of unique values: 0\n",
      "Unique values and respective counts in _c39:\n",
      "Series([], Name: _c39, dtype: int64)\n",
      "\n",
      "\n"
     ]
    }
   ],
   "source": [
    "# Write code to display all the columns with their unique values and counts and check for redundant values\n",
    "for column in df_iclaims.columns:\n",
    "    print(f\"Number of unique values: {df_iclaims[column].nunique()}\")\n",
    "    print(f\"Unique values and respective counts in {column}:\")\n",
    "    print(df_iclaims[column].value_counts())\n",
    "    print(\"\\n\")"
   ]
  },
  {
   "cell_type": "markdown",
   "metadata": {
    "id": "RRIhr3ZwDPWb"
   },
   "source": [
    "#### **2.2.2** Identify and drop any columns that are completely empty <font color=\"red\">[1 Mark]</font>"
   ]
  },
  {
   "cell_type": "code",
   "execution_count": 14,
   "metadata": {
    "id": "9vLZf8ExDPWb"
   },
   "outputs": [],
   "source": [
    "# Identify and drop any columns that are completely empty\n",
    "drop_missing_cols_above_threshold(df_iclaims, 0)\n",
    "\n",
    "# '_c39' will be dropped"
   ]
  },
  {
   "cell_type": "markdown",
   "metadata": {
    "id": "1Cx8douODPWd"
   },
   "source": [
    "#### **2.2.3** Identify and drop rows where features have illogical or invalid values, such as negative values for features that should only have positive values <font color=\"red\">[1 Mark]</font>"
   ]
  },
  {
   "cell_type": "code",
   "execution_count": 15,
   "metadata": {},
   "outputs": [
    {
     "name": "stdout",
     "output_type": "stream",
     "text": [
      "Column: collision_type, Count of '?': 178\n",
      "Column: property_damage, Count of '?': 360\n",
      "Column: police_report_available, Count of '?': 343\n"
     ]
    }
   ],
   "source": [
    "# Find the columns with '?' as one of the values\n",
    "print(\"\\n\".join([f\"Column: {column}, Count of '?': {df_iclaims[column].value_counts().get('?', 0)}\" \n",
    "                 for column in df_iclaims.columns if df_iclaims[column].value_counts().get('?', 0) > 0]))"
   ]
  },
  {
   "cell_type": "code",
   "execution_count": 16,
   "metadata": {
    "id": "U5oARc23DPWd"
   },
   "outputs": [
    {
     "name": "stdout",
     "output_type": "stream",
     "text": [
      "Values less than 0 and their counts:\n",
      "-53700    5\n",
      "-31700    5\n",
      "-50300    5\n",
      "-61400    4\n",
      "-31400    4\n",
      "         ..\n",
      "-8500     1\n",
      "-12100    1\n",
      "-17000    1\n",
      "-72900    1\n",
      "-82100    1\n",
      "Name: capital-loss, Length: 353, dtype: int64\n",
      "\n",
      "\n",
      "\n",
      "Values less than 0 and their counts:\n",
      "-1000000    1\n",
      "Name: umbrella_limit, dtype: int64\n",
      "\n",
      "\n",
      "\n",
      "Values greater than 0 and their counts:\n",
      "46300    5\n",
      "68500    4\n",
      "51500    4\n",
      "44000    3\n",
      "51400    3\n",
      "        ..\n",
      "36700    1\n",
      "54900    1\n",
      "69200    1\n",
      "48800    1\n",
      "50300    1\n",
      "Name: capital-gains, Length: 337, dtype: int64\n"
     ]
    }
   ],
   "source": [
    "# Identify and drop rows where features have illogical or invalid values, such as negative values for features that should only have positive values\n",
    "\n",
    "# Check if values in the column are less than 0\n",
    "negative_values = df_iclaims['capital-loss'][df_iclaims['capital-loss'] < 0]\n",
    "if not negative_values.empty:\n",
    "    print(\"Values less than 0 and their counts:\")\n",
    "    print(negative_values.value_counts())\n",
    "else:\n",
    "    print(\"No values less than 0 in this column.\")\n",
    "\n",
    "print('\\n\\n')    \n",
    "    \n",
    "negative_values_ul = df_iclaims['umbrella_limit'][df_iclaims['umbrella_limit'] < 0]\n",
    "if not negative_values_ul.empty:\n",
    "    print(\"Values less than 0 and their counts:\")\n",
    "    print(negative_values_ul.value_counts())\n",
    "else:\n",
    "    print(\"No values less than 0 in this column.\")\n",
    "\n",
    "\n",
    "print('\\n\\n')\n",
    "\n",
    "# Check if values in the column are greater than 0\n",
    "positive_values = df_iclaims['capital-gains'][df_iclaims['capital-gains'] > 0]\n",
    "if not positive_values.empty:\n",
    "    print(\"Values greater than 0 and their counts:\")\n",
    "    print(positive_values.value_counts())\n",
    "else:\n",
    "    print(\"No values greater than 0 in this column.\")\n"
   ]
  },
  {
   "cell_type": "code",
   "execution_count": 17,
   "metadata": {},
   "outputs": [],
   "source": [
    "df_iclaims = df_iclaims[df_iclaims['umbrella_limit'] >= 0]"
   ]
  },
  {
   "cell_type": "code",
   "execution_count": 18,
   "metadata": {},
   "outputs": [],
   "source": [
    "df_iclaims.loc[df_iclaims['collision_type'] == '?', 'collision_type'] = 'UNK'\n",
    "df_iclaims.loc[df_iclaims['property_damage'] == '?', 'property_damage'] = 'UNK'\n",
    "df_iclaims.loc[df_iclaims['police_report_available'] == '?', 'police_report_available'] = 'UNK'"
   ]
  },
  {
   "cell_type": "markdown",
   "metadata": {},
   "source": [
    "#### <font color=\"orange\">**2.2.3 RESPONSE**</font>  \n",
    "\n",
    "<font color=\"green\">Identified that there are 3 columns with value \"?\" in the dataset. Updated 'collision_type' to UNK</font>\n",
    "\n",
    "<font color=\"green\">Also checked for capital_gains and capital loss, looks OK in terms of negative/positive values.</font>"
   ]
  },
  {
   "cell_type": "markdown",
   "metadata": {
    "id": "XTGMKeeNDPWd"
   },
   "source": [
    "#### **2.2.4** Identify and remove columns where a large proportion of the values are unique or near-unique, as these columns are likely to be identifiers or have very limited predictive power <font color=\"red\">[1 Mark]</font>"
   ]
  },
  {
   "cell_type": "code",
   "execution_count": 19,
   "metadata": {
    "id": "U4LXO65UDPWd"
   },
   "outputs": [],
   "source": [
    "# Identify and remove columns that are likely to be identifiers or have very limited predictive power\n",
    "\n",
    "#policy_number, insured_zip are likely identifier fields\n",
    "\n",
    "df_iclaims.drop(['policy_number'], axis=1, inplace=True)\n",
    "df_iclaims.drop(['insured_zip'], axis=1, inplace=True)\n",
    "\n",
    "#incident_location has all the values unique\n",
    "df_iclaims.drop(['incident_location'], axis=1, inplace=True)"
   ]
  },
  {
   "cell_type": "markdown",
   "metadata": {},
   "source": [
    "#### <font color=\"orange\">**2.2.4 RESPONSE**</font>  \n",
    "\n",
    "<font color=\"green\">Identified that Policy Number and Insured Zip could possibly be identifiers, hence removed them from the dataset</font>"
   ]
  },
  {
   "cell_type": "code",
   "execution_count": 20,
   "metadata": {},
   "outputs": [
    {
     "name": "stdout",
     "output_type": "stream",
     "text": [
      "Number of unique values: 391\n",
      "Unique values and respective counts in months_as_customer:\n",
      "194    8\n",
      "128    7\n",
      "254    7\n",
      "140    7\n",
      "210    7\n",
      "      ..\n",
      "390    1\n",
      "411    1\n",
      "453    1\n",
      "448    1\n",
      "17     1\n",
      "Name: months_as_customer, Length: 391, dtype: int64\n",
      "\n",
      "\n",
      "Number of unique values: 46\n",
      "Unique values and respective counts in age:\n",
      "43    49\n",
      "39    48\n",
      "41    45\n",
      "34    44\n",
      "31    42\n",
      "38    42\n",
      "30    42\n",
      "37    41\n",
      "33    39\n",
      "40    38\n",
      "32    38\n",
      "29    35\n",
      "46    33\n",
      "35    32\n",
      "36    32\n",
      "44    32\n",
      "42    31\n",
      "28    30\n",
      "26    26\n",
      "45    26\n",
      "48    25\n",
      "47    24\n",
      "27    24\n",
      "57    16\n",
      "25    14\n",
      "55    14\n",
      "49    14\n",
      "53    13\n",
      "50    13\n",
      "24    10\n",
      "54    10\n",
      "61    10\n",
      "51     9\n",
      "60     9\n",
      "58     8\n",
      "56     8\n",
      "23     7\n",
      "21     6\n",
      "59     5\n",
      "62     4\n",
      "52     4\n",
      "64     2\n",
      "63     2\n",
      "19     1\n",
      "20     1\n",
      "22     1\n",
      "Name: age, dtype: int64\n",
      "\n",
      "\n",
      "Number of unique values: 950\n",
      "Unique values and respective counts in policy_bind_date:\n",
      "1992-08-05    3\n",
      "2006-01-01    3\n",
      "1992-04-28    3\n",
      "1998-01-29    2\n",
      "2003-03-09    2\n",
      "             ..\n",
      "1998-12-12    1\n",
      "1999-02-18    1\n",
      "1997-10-30    1\n",
      "1999-11-29    1\n",
      "1996-11-11    1\n",
      "Name: policy_bind_date, Length: 950, dtype: int64\n",
      "\n",
      "\n",
      "Number of unique values: 3\n",
      "Unique values and respective counts in policy_state:\n",
      "OH    351\n",
      "IL    338\n",
      "IN    310\n",
      "Name: policy_state, dtype: int64\n",
      "\n",
      "\n",
      "Number of unique values: 3\n",
      "Unique values and respective counts in policy_csl:\n",
      "250/500     351\n",
      "100/300     348\n",
      "500/1000    300\n",
      "Name: policy_csl, dtype: int64\n",
      "\n",
      "\n",
      "Number of unique values: 3\n",
      "Unique values and respective counts in policy_deductable:\n",
      "1000    351\n",
      "500     341\n",
      "2000    307\n",
      "Name: policy_deductable, dtype: int64\n",
      "\n",
      "\n",
      "Number of unique values: 990\n",
      "Unique values and respective counts in policy_annual_premium:\n",
      "1558.29    2\n",
      "1215.36    2\n",
      "1362.87    2\n",
      "1073.83    2\n",
      "1389.13    2\n",
      "          ..\n",
      "1437.33    1\n",
      "988.29     1\n",
      "1238.89    1\n",
      "1384.64    1\n",
      "766.19     1\n",
      "Name: policy_annual_premium, Length: 990, dtype: int64\n",
      "\n",
      "\n",
      "Number of unique values: 10\n",
      "Unique values and respective counts in umbrella_limit:\n",
      "0           798\n",
      "6000000      57\n",
      "5000000      46\n",
      "4000000      39\n",
      "7000000      29\n",
      "3000000      12\n",
      "8000000       8\n",
      "9000000       5\n",
      "2000000       3\n",
      "10000000      2\n",
      "Name: umbrella_limit, dtype: int64\n",
      "\n",
      "\n",
      "Number of unique values: 2\n",
      "Unique values and respective counts in insured_sex:\n",
      "FEMALE    537\n",
      "MALE      462\n",
      "Name: insured_sex, dtype: int64\n",
      "\n",
      "\n",
      "Number of unique values: 7\n",
      "Unique values and respective counts in insured_education_level:\n",
      "JD             161\n",
      "High School    160\n",
      "MD             144\n",
      "Associate      144\n",
      "Masters        143\n",
      "PhD            125\n",
      "College        122\n",
      "Name: insured_education_level, dtype: int64\n",
      "\n",
      "\n",
      "Number of unique values: 14\n",
      "Unique values and respective counts in insured_occupation:\n",
      "machine-op-inspct    92\n",
      "prof-specialty       85\n",
      "tech-support         78\n",
      "sales                76\n",
      "exec-managerial      76\n",
      "craft-repair         74\n",
      "transport-moving     72\n",
      "other-service        71\n",
      "priv-house-serv      71\n",
      "armed-forces         69\n",
      "adm-clerical         65\n",
      "protective-serv      63\n",
      "handlers-cleaners    54\n",
      "farming-fishing      53\n",
      "Name: insured_occupation, dtype: int64\n",
      "\n",
      "\n",
      "Number of unique values: 20\n",
      "Unique values and respective counts in insured_hobbies:\n",
      "reading           64\n",
      "exercise          57\n",
      "paintball         57\n",
      "bungie-jumping    56\n",
      "movies            55\n",
      "golf              55\n",
      "camping           55\n",
      "kayaking          53\n",
      "yachting          53\n",
      "hiking            52\n",
      "video-games       50\n",
      "skydiving         49\n",
      "base-jumping      49\n",
      "board-games       48\n",
      "polo              47\n",
      "chess             46\n",
      "dancing           43\n",
      "sleeping          41\n",
      "cross-fit         35\n",
      "basketball        34\n",
      "Name: insured_hobbies, dtype: int64\n",
      "\n",
      "\n",
      "Number of unique values: 6\n",
      "Unique values and respective counts in insured_relationship:\n",
      "own-child         183\n",
      "other-relative    177\n",
      "not-in-family     174\n",
      "husband           170\n",
      "wife              154\n",
      "unmarried         141\n",
      "Name: insured_relationship, dtype: int64\n",
      "\n",
      "\n",
      "Number of unique values: 338\n",
      "Unique values and respective counts in capital-gains:\n",
      "0        507\n",
      "46300      5\n",
      "51500      4\n",
      "68500      4\n",
      "55600      3\n",
      "        ... \n",
      "36700      1\n",
      "54900      1\n",
      "69200      1\n",
      "48800      1\n",
      "50300      1\n",
      "Name: capital-gains, Length: 338, dtype: int64\n",
      "\n",
      "\n",
      "Number of unique values: 354\n",
      "Unique values and respective counts in capital-loss:\n",
      " 0        474\n",
      "-31700      5\n",
      "-53700      5\n",
      "-50300      5\n",
      "-45300      4\n",
      "         ... \n",
      "-12100      1\n",
      "-17000      1\n",
      "-72900      1\n",
      "-19700      1\n",
      "-82100      1\n",
      "Name: capital-loss, Length: 354, dtype: int64\n",
      "\n",
      "\n",
      "Number of unique values: 60\n",
      "Unique values and respective counts in incident_date:\n",
      "2015-02-02    28\n",
      "2015-02-17    26\n",
      "2015-01-07    25\n",
      "2015-01-10    24\n",
      "2015-02-04    24\n",
      "2015-01-24    24\n",
      "2015-01-19    23\n",
      "2015-01-08    22\n",
      "2015-01-13    21\n",
      "2015-01-30    21\n",
      "2015-02-12    20\n",
      "2015-02-22    20\n",
      "2015-01-31    20\n",
      "2015-02-06    20\n",
      "2015-02-21    19\n",
      "2015-01-01    19\n",
      "2015-02-23    19\n",
      "2015-01-12    19\n",
      "2015-01-14    19\n",
      "2015-01-21    19\n",
      "2015-01-03    18\n",
      "2015-02-14    18\n",
      "2015-02-01    18\n",
      "2015-02-28    18\n",
      "2015-01-20    18\n",
      "2015-01-18    18\n",
      "2015-02-25    18\n",
      "2015-01-06    17\n",
      "2015-01-09    17\n",
      "2015-02-08    17\n",
      "2015-02-24    17\n",
      "2015-02-26    17\n",
      "2015-02-13    16\n",
      "2015-02-15    16\n",
      "2015-02-16    16\n",
      "2015-02-05    16\n",
      "2015-01-16    16\n",
      "2015-01-17    15\n",
      "2015-02-18    15\n",
      "2015-01-28    15\n",
      "2015-01-15    15\n",
      "2015-01-22    14\n",
      "2015-02-20    14\n",
      "2015-02-27    14\n",
      "2015-01-23    13\n",
      "2015-02-03    13\n",
      "2015-01-27    13\n",
      "2015-02-09    13\n",
      "2015-01-04    12\n",
      "2015-03-01    12\n",
      "2015-01-26    11\n",
      "2015-01-02    11\n",
      "2015-02-19    10\n",
      "2015-02-11    10\n",
      "2015-02-10    10\n",
      "2015-01-29    10\n",
      "2015-02-07    10\n",
      "2015-01-25    10\n",
      "2015-01-11     9\n",
      "2015-01-05     7\n",
      "Name: incident_date, dtype: int64\n",
      "\n",
      "\n",
      "Number of unique values: 4\n",
      "Unique values and respective counts in incident_type:\n",
      "Multi-vehicle Collision     419\n",
      "Single Vehicle Collision    402\n",
      "Vehicle Theft                94\n",
      "Parked Car                   84\n",
      "Name: incident_type, dtype: int64\n",
      "\n",
      "\n",
      "Number of unique values: 4\n",
      "Unique values and respective counts in collision_type:\n",
      "Rear Collision     292\n",
      "Side Collision     275\n",
      "Front Collision    254\n",
      "UNK                178\n",
      "Name: collision_type, dtype: int64\n",
      "\n",
      "\n",
      "Number of unique values: 4\n",
      "Unique values and respective counts in incident_severity:\n",
      "Minor Damage      354\n",
      "Total Loss        280\n",
      "Major Damage      275\n",
      "Trivial Damage     90\n",
      "Name: incident_severity, dtype: int64\n",
      "\n",
      "\n",
      "Number of unique values: 5\n",
      "Unique values and respective counts in authorities_contacted:\n",
      "Police       292\n",
      "Fire         223\n",
      "Other        198\n",
      "Ambulance    195\n",
      "None          91\n",
      "Name: authorities_contacted, dtype: int64\n",
      "\n",
      "\n",
      "Number of unique values: 7\n",
      "Unique values and respective counts in incident_state:\n",
      "NY    262\n",
      "SC    248\n",
      "WV    217\n",
      "VA    110\n",
      "NC    109\n",
      "PA     30\n",
      "OH     23\n",
      "Name: incident_state, dtype: int64\n",
      "\n",
      "\n",
      "Number of unique values: 7\n",
      "Unique values and respective counts in incident_city:\n",
      "Springfield    157\n",
      "Arlington      151\n",
      "Columbus       149\n",
      "Northbend      145\n",
      "Hillsdale      141\n",
      "Riverwood      134\n",
      "Northbrook     122\n",
      "Name: incident_city, dtype: int64\n",
      "\n",
      "\n",
      "Number of unique values: 24\n",
      "Unique values and respective counts in incident_hour_of_the_day:\n",
      "17    54\n",
      "3     53\n",
      "0     52\n",
      "23    51\n",
      "16    49\n",
      "10    46\n",
      "4     46\n",
      "13    45\n",
      "6     44\n",
      "9     43\n",
      "14    43\n",
      "21    42\n",
      "18    41\n",
      "12    40\n",
      "19    40\n",
      "7     40\n",
      "15    39\n",
      "22    38\n",
      "8     36\n",
      "20    34\n",
      "5     33\n",
      "2     31\n",
      "11    30\n",
      "1     29\n",
      "Name: incident_hour_of_the_day, dtype: int64\n",
      "\n",
      "\n",
      "Number of unique values: 4\n",
      "Unique values and respective counts in number_of_vehicles_involved:\n",
      "1    580\n",
      "3    358\n",
      "4     31\n",
      "2     30\n",
      "Name: number_of_vehicles_involved, dtype: int64\n",
      "\n",
      "\n",
      "Number of unique values: 3\n",
      "Unique values and respective counts in property_damage:\n",
      "UNK    360\n",
      "NO     338\n",
      "YES    301\n",
      "Name: property_damage, dtype: int64\n",
      "\n",
      "\n",
      "Number of unique values: 3\n",
      "Unique values and respective counts in bodily_injuries:\n",
      "0    339\n",
      "2    332\n",
      "1    328\n",
      "Name: bodily_injuries, dtype: int64\n",
      "\n",
      "\n",
      "Number of unique values: 4\n",
      "Unique values and respective counts in witnesses:\n",
      "1    257\n",
      "2    250\n",
      "0    249\n",
      "3    243\n",
      "Name: witnesses, dtype: int64\n",
      "\n",
      "\n",
      "Number of unique values: 3\n",
      "Unique values and respective counts in police_report_available:\n",
      "NO     343\n",
      "UNK    342\n",
      "YES    314\n",
      "Name: police_report_available, dtype: int64\n",
      "\n",
      "\n",
      "Number of unique values: 762\n",
      "Unique values and respective counts in total_claim_amount:\n",
      "59400    5\n",
      "3190     4\n",
      "60600    4\n",
      "70400    4\n",
      "70290    4\n",
      "        ..\n",
      "87100    1\n",
      "6240     1\n",
      "66600    1\n",
      "70920    1\n",
      "67500    1\n",
      "Name: total_claim_amount, Length: 762, dtype: int64\n",
      "\n",
      "\n",
      "Number of unique values: 638\n",
      "Unique values and respective counts in injury_claim:\n",
      "0        25\n",
      "480       7\n",
      "640       7\n",
      "580       5\n",
      "860       5\n",
      "         ..\n",
      "6580      1\n",
      "11820     1\n",
      "16650     1\n",
      "7810      1\n",
      "7500      1\n",
      "Name: injury_claim, Length: 638, dtype: int64\n",
      "\n",
      "\n",
      "Number of unique values: 625\n",
      "Unique values and respective counts in property_claim:\n",
      "0        19\n",
      "860       6\n",
      "660       5\n",
      "11080     5\n",
      "650       5\n",
      "         ..\n",
      "6170      1\n",
      "3590      1\n",
      "6480      1\n",
      "4580      1\n",
      "7500      1\n",
      "Name: property_claim, Length: 625, dtype: int64\n",
      "\n",
      "\n",
      "Number of unique values: 725\n",
      "Unique values and respective counts in vehicle_claim:\n",
      "5040     7\n",
      "3360     6\n",
      "3600     5\n",
      "4720     5\n",
      "33600    5\n",
      "        ..\n",
      "43360    1\n",
      "25130    1\n",
      "38940    1\n",
      "47430    1\n",
      "52500    1\n",
      "Name: vehicle_claim, Length: 725, dtype: int64\n",
      "\n",
      "\n",
      "Number of unique values: 14\n",
      "Unique values and respective counts in auto_make:\n",
      "Saab          80\n",
      "Dodge         80\n",
      "Suburu        80\n",
      "Nissan        78\n",
      "Chevrolet     75\n",
      "Ford          72\n",
      "BMW           72\n",
      "Toyota        70\n",
      "Audi          69\n",
      "Accura        68\n",
      "Volkswagen    68\n",
      "Jeep          67\n",
      "Mercedes      65\n",
      "Honda         55\n",
      "Name: auto_make, dtype: int64\n",
      "\n",
      "\n",
      "Number of unique values: 39\n",
      "Unique values and respective counts in auto_model:\n",
      "RAM               43\n",
      "Wrangler          42\n",
      "A3                37\n",
      "Neon              37\n",
      "MDX               36\n",
      "Jetta             35\n",
      "Passat            33\n",
      "A5                32\n",
      "Legacy            32\n",
      "Pathfinder        31\n",
      "Malibu            29\n",
      "92x               28\n",
      "Camry             28\n",
      "Forrestor         28\n",
      "F150              27\n",
      "95                27\n",
      "E400              27\n",
      "93                25\n",
      "Grand Cherokee    25\n",
      "Escape            24\n",
      "Tahoe             24\n",
      "Maxima            24\n",
      "Ultima            23\n",
      "X5                23\n",
      "Highlander        22\n",
      "Civic             22\n",
      "Silverado         22\n",
      "Fusion            21\n",
      "ML350             20\n",
      "Impreza           20\n",
      "Corolla           20\n",
      "TL                20\n",
      "CRV               20\n",
      "C300              18\n",
      "3 Series          18\n",
      "X6                16\n",
      "M5                15\n",
      "Accord            13\n",
      "RSX               12\n",
      "Name: auto_model, dtype: int64\n",
      "\n",
      "\n",
      "Number of unique values: 21\n",
      "Unique values and respective counts in auto_year:\n",
      "1995    56\n",
      "1999    55\n",
      "2005    54\n",
      "2006    53\n",
      "2011    53\n",
      "2007    52\n",
      "2003    51\n",
      "2009    50\n",
      "2010    50\n",
      "2013    49\n",
      "2002    49\n",
      "2015    47\n",
      "1997    46\n",
      "2012    46\n",
      "2008    45\n",
      "2014    44\n",
      "2001    42\n",
      "2000    42\n",
      "1998    40\n",
      "2004    39\n",
      "1996    36\n",
      "Name: auto_year, dtype: int64\n",
      "\n",
      "\n",
      "Number of unique values: 2\n",
      "Unique values and respective counts in fraud_reported:\n",
      "N    752\n",
      "Y    247\n",
      "Name: fraud_reported, dtype: int64\n",
      "\n",
      "\n"
     ]
    }
   ],
   "source": [
    "for column in df_iclaims.columns:\n",
    "    print(f\"Number of unique values: {df_iclaims[column].nunique()}\")\n",
    "    print(f\"Unique values and respective counts in {column}:\")\n",
    "    print(df_iclaims[column].value_counts())\n",
    "    print(\"\\n\")"
   ]
  },
  {
   "cell_type": "code",
   "execution_count": 21,
   "metadata": {
    "id": "KzHx2BzPDPWd"
   },
   "outputs": [
    {
     "name": "stdout",
     "output_type": "stream",
     "text": [
      "<class 'pandas.core.frame.DataFrame'>\n",
      "Int64Index: 999 entries, 0 to 999\n",
      "Data columns (total 36 columns):\n",
      " #   Column                       Non-Null Count  Dtype  \n",
      "---  ------                       --------------  -----  \n",
      " 0   months_as_customer           999 non-null    int64  \n",
      " 1   age                          999 non-null    int64  \n",
      " 2   policy_bind_date             999 non-null    object \n",
      " 3   policy_state                 999 non-null    object \n",
      " 4   policy_csl                   999 non-null    object \n",
      " 5   policy_deductable            999 non-null    int64  \n",
      " 6   policy_annual_premium        999 non-null    float64\n",
      " 7   umbrella_limit               999 non-null    int64  \n",
      " 8   insured_sex                  999 non-null    object \n",
      " 9   insured_education_level      999 non-null    object \n",
      " 10  insured_occupation           999 non-null    object \n",
      " 11  insured_hobbies              999 non-null    object \n",
      " 12  insured_relationship         999 non-null    object \n",
      " 13  capital-gains                999 non-null    int64  \n",
      " 14  capital-loss                 999 non-null    int64  \n",
      " 15  incident_date                999 non-null    object \n",
      " 16  incident_type                999 non-null    object \n",
      " 17  collision_type               999 non-null    object \n",
      " 18  incident_severity            999 non-null    object \n",
      " 19  authorities_contacted        999 non-null    object \n",
      " 20  incident_state               999 non-null    object \n",
      " 21  incident_city                999 non-null    object \n",
      " 22  incident_hour_of_the_day     999 non-null    int64  \n",
      " 23  number_of_vehicles_involved  999 non-null    int64  \n",
      " 24  property_damage              999 non-null    object \n",
      " 25  bodily_injuries              999 non-null    int64  \n",
      " 26  witnesses                    999 non-null    int64  \n",
      " 27  police_report_available      999 non-null    object \n",
      " 28  total_claim_amount           999 non-null    int64  \n",
      " 29  injury_claim                 999 non-null    int64  \n",
      " 30  property_claim               999 non-null    int64  \n",
      " 31  vehicle_claim                999 non-null    int64  \n",
      " 32  auto_make                    999 non-null    object \n",
      " 33  auto_model                   999 non-null    object \n",
      " 34  auto_year                    999 non-null    int64  \n",
      " 35  fraud_reported               999 non-null    object \n",
      "dtypes: float64(1), int64(15), object(20)\n",
      "memory usage: 288.8+ KB\n"
     ]
    }
   ],
   "source": [
    "# Check the dataset\n",
    "df_iclaims.info()"
   ]
  },
  {
   "cell_type": "markdown",
   "metadata": {
    "id": "nAvSdxKBDPWe"
   },
   "source": [
    "### **2.3 Fix Data Types** <font color = red>[3 marks]</font>\n",
    "Carefully examine the dataset and identify columns that contain date or time information but are not stored as the appropriate data type. Convert these columns to the correct datetime data type to enable proper analysis and manipulation of temporal information."
   ]
  },
  {
   "cell_type": "code",
   "execution_count": 22,
   "metadata": {
    "id": "WIycvsINDPWe"
   },
   "outputs": [],
   "source": [
    "# Fix the data types of the columns with incorrect data types\n",
    "\n",
    "\n",
    "#Convert incident_date, policy_bind_date to data type DATETIME\n",
    "\n",
    "df_iclaims['incident_date'] = pd.to_datetime(df_iclaims['incident_date'])\n",
    "df_iclaims['policy_bind_date'] = pd.to_datetime(df_iclaims['policy_bind_date'])"
   ]
  },
  {
   "cell_type": "code",
   "execution_count": 23,
   "metadata": {},
   "outputs": [
    {
     "name": "stdout",
     "output_type": "stream",
     "text": [
      "Number of unique values: 391\n",
      "Unique values and respective counts in months_as_customer:\n",
      "194    8\n",
      "128    7\n",
      "254    7\n",
      "140    7\n",
      "210    7\n",
      "      ..\n",
      "390    1\n",
      "411    1\n",
      "453    1\n",
      "448    1\n",
      "17     1\n",
      "Name: months_as_customer, Length: 391, dtype: int64\n",
      "Field Data Type: int64\n",
      "\n",
      "\n",
      "Number of unique values: 46\n",
      "Unique values and respective counts in age:\n",
      "43    49\n",
      "39    48\n",
      "41    45\n",
      "34    44\n",
      "31    42\n",
      "38    42\n",
      "30    42\n",
      "37    41\n",
      "33    39\n",
      "40    38\n",
      "32    38\n",
      "29    35\n",
      "46    33\n",
      "35    32\n",
      "36    32\n",
      "44    32\n",
      "42    31\n",
      "28    30\n",
      "26    26\n",
      "45    26\n",
      "48    25\n",
      "47    24\n",
      "27    24\n",
      "57    16\n",
      "25    14\n",
      "55    14\n",
      "49    14\n",
      "53    13\n",
      "50    13\n",
      "24    10\n",
      "54    10\n",
      "61    10\n",
      "51     9\n",
      "60     9\n",
      "58     8\n",
      "56     8\n",
      "23     7\n",
      "21     6\n",
      "59     5\n",
      "62     4\n",
      "52     4\n",
      "64     2\n",
      "63     2\n",
      "19     1\n",
      "20     1\n",
      "22     1\n",
      "Name: age, dtype: int64\n",
      "Field Data Type: int64\n",
      "\n",
      "\n",
      "Number of unique values: 950\n",
      "Unique values and respective counts in policy_bind_date:\n",
      "1992-08-05    3\n",
      "2006-01-01    3\n",
      "1992-04-28    3\n",
      "1998-01-29    2\n",
      "2003-03-09    2\n",
      "             ..\n",
      "1998-12-12    1\n",
      "1999-02-18    1\n",
      "1997-10-30    1\n",
      "1999-11-29    1\n",
      "1996-11-11    1\n",
      "Name: policy_bind_date, Length: 950, dtype: int64\n",
      "Field Data Type: datetime64[ns]\n",
      "\n",
      "\n",
      "Number of unique values: 3\n",
      "Unique values and respective counts in policy_state:\n",
      "OH    351\n",
      "IL    338\n",
      "IN    310\n",
      "Name: policy_state, dtype: int64\n",
      "Field Data Type: object\n",
      "\n",
      "\n",
      "Number of unique values: 3\n",
      "Unique values and respective counts in policy_csl:\n",
      "250/500     351\n",
      "100/300     348\n",
      "500/1000    300\n",
      "Name: policy_csl, dtype: int64\n",
      "Field Data Type: object\n",
      "\n",
      "\n",
      "Number of unique values: 3\n",
      "Unique values and respective counts in policy_deductable:\n",
      "1000    351\n",
      "500     341\n",
      "2000    307\n",
      "Name: policy_deductable, dtype: int64\n",
      "Field Data Type: int64\n",
      "\n",
      "\n",
      "Number of unique values: 990\n",
      "Unique values and respective counts in policy_annual_premium:\n",
      "1558.29    2\n",
      "1215.36    2\n",
      "1362.87    2\n",
      "1073.83    2\n",
      "1389.13    2\n",
      "          ..\n",
      "1437.33    1\n",
      "988.29     1\n",
      "1238.89    1\n",
      "1384.64    1\n",
      "766.19     1\n",
      "Name: policy_annual_premium, Length: 990, dtype: int64\n",
      "Field Data Type: float64\n",
      "\n",
      "\n",
      "Number of unique values: 10\n",
      "Unique values and respective counts in umbrella_limit:\n",
      "0           798\n",
      "6000000      57\n",
      "5000000      46\n",
      "4000000      39\n",
      "7000000      29\n",
      "3000000      12\n",
      "8000000       8\n",
      "9000000       5\n",
      "2000000       3\n",
      "10000000      2\n",
      "Name: umbrella_limit, dtype: int64\n",
      "Field Data Type: int64\n",
      "\n",
      "\n",
      "Number of unique values: 2\n",
      "Unique values and respective counts in insured_sex:\n",
      "FEMALE    537\n",
      "MALE      462\n",
      "Name: insured_sex, dtype: int64\n",
      "Field Data Type: object\n",
      "\n",
      "\n",
      "Number of unique values: 7\n",
      "Unique values and respective counts in insured_education_level:\n",
      "JD             161\n",
      "High School    160\n",
      "MD             144\n",
      "Associate      144\n",
      "Masters        143\n",
      "PhD            125\n",
      "College        122\n",
      "Name: insured_education_level, dtype: int64\n",
      "Field Data Type: object\n",
      "\n",
      "\n",
      "Number of unique values: 14\n",
      "Unique values and respective counts in insured_occupation:\n",
      "machine-op-inspct    92\n",
      "prof-specialty       85\n",
      "tech-support         78\n",
      "sales                76\n",
      "exec-managerial      76\n",
      "craft-repair         74\n",
      "transport-moving     72\n",
      "other-service        71\n",
      "priv-house-serv      71\n",
      "armed-forces         69\n",
      "adm-clerical         65\n",
      "protective-serv      63\n",
      "handlers-cleaners    54\n",
      "farming-fishing      53\n",
      "Name: insured_occupation, dtype: int64\n",
      "Field Data Type: object\n",
      "\n",
      "\n",
      "Number of unique values: 20\n",
      "Unique values and respective counts in insured_hobbies:\n",
      "reading           64\n",
      "exercise          57\n",
      "paintball         57\n",
      "bungie-jumping    56\n",
      "movies            55\n",
      "golf              55\n",
      "camping           55\n",
      "kayaking          53\n",
      "yachting          53\n",
      "hiking            52\n",
      "video-games       50\n",
      "skydiving         49\n",
      "base-jumping      49\n",
      "board-games       48\n",
      "polo              47\n",
      "chess             46\n",
      "dancing           43\n",
      "sleeping          41\n",
      "cross-fit         35\n",
      "basketball        34\n",
      "Name: insured_hobbies, dtype: int64\n",
      "Field Data Type: object\n",
      "\n",
      "\n",
      "Number of unique values: 6\n",
      "Unique values and respective counts in insured_relationship:\n",
      "own-child         183\n",
      "other-relative    177\n",
      "not-in-family     174\n",
      "husband           170\n",
      "wife              154\n",
      "unmarried         141\n",
      "Name: insured_relationship, dtype: int64\n",
      "Field Data Type: object\n",
      "\n",
      "\n",
      "Number of unique values: 338\n",
      "Unique values and respective counts in capital-gains:\n",
      "0        507\n",
      "46300      5\n",
      "51500      4\n",
      "68500      4\n",
      "55600      3\n",
      "        ... \n",
      "36700      1\n",
      "54900      1\n",
      "69200      1\n",
      "48800      1\n",
      "50300      1\n",
      "Name: capital-gains, Length: 338, dtype: int64\n",
      "Field Data Type: int64\n",
      "\n",
      "\n",
      "Number of unique values: 354\n",
      "Unique values and respective counts in capital-loss:\n",
      " 0        474\n",
      "-31700      5\n",
      "-53700      5\n",
      "-50300      5\n",
      "-45300      4\n",
      "         ... \n",
      "-12100      1\n",
      "-17000      1\n",
      "-72900      1\n",
      "-19700      1\n",
      "-82100      1\n",
      "Name: capital-loss, Length: 354, dtype: int64\n",
      "Field Data Type: int64\n",
      "\n",
      "\n",
      "Number of unique values: 60\n",
      "Unique values and respective counts in incident_date:\n",
      "2015-02-02    28\n",
      "2015-02-17    26\n",
      "2015-01-07    25\n",
      "2015-01-10    24\n",
      "2015-02-04    24\n",
      "2015-01-24    24\n",
      "2015-01-19    23\n",
      "2015-01-08    22\n",
      "2015-01-13    21\n",
      "2015-01-30    21\n",
      "2015-02-12    20\n",
      "2015-02-22    20\n",
      "2015-01-31    20\n",
      "2015-02-06    20\n",
      "2015-02-21    19\n",
      "2015-01-01    19\n",
      "2015-02-23    19\n",
      "2015-01-12    19\n",
      "2015-01-14    19\n",
      "2015-01-21    19\n",
      "2015-01-03    18\n",
      "2015-02-14    18\n",
      "2015-02-01    18\n",
      "2015-02-28    18\n",
      "2015-01-20    18\n",
      "2015-01-18    18\n",
      "2015-02-25    18\n",
      "2015-01-06    17\n",
      "2015-01-09    17\n",
      "2015-02-08    17\n",
      "2015-02-24    17\n",
      "2015-02-26    17\n",
      "2015-02-13    16\n",
      "2015-02-15    16\n",
      "2015-02-16    16\n",
      "2015-02-05    16\n",
      "2015-01-16    16\n",
      "2015-01-17    15\n",
      "2015-02-18    15\n",
      "2015-01-28    15\n",
      "2015-01-15    15\n",
      "2015-01-22    14\n",
      "2015-02-20    14\n",
      "2015-02-27    14\n",
      "2015-01-23    13\n",
      "2015-02-03    13\n",
      "2015-01-27    13\n",
      "2015-02-09    13\n",
      "2015-01-04    12\n",
      "2015-03-01    12\n",
      "2015-01-26    11\n",
      "2015-01-02    11\n",
      "2015-02-19    10\n",
      "2015-02-11    10\n",
      "2015-02-10    10\n",
      "2015-01-29    10\n",
      "2015-02-07    10\n",
      "2015-01-25    10\n",
      "2015-01-11     9\n",
      "2015-01-05     7\n",
      "Name: incident_date, dtype: int64\n",
      "Field Data Type: datetime64[ns]\n",
      "\n",
      "\n",
      "Number of unique values: 4\n",
      "Unique values and respective counts in incident_type:\n",
      "Multi-vehicle Collision     419\n",
      "Single Vehicle Collision    402\n",
      "Vehicle Theft                94\n",
      "Parked Car                   84\n",
      "Name: incident_type, dtype: int64\n",
      "Field Data Type: object\n",
      "\n",
      "\n",
      "Number of unique values: 4\n",
      "Unique values and respective counts in collision_type:\n",
      "Rear Collision     292\n",
      "Side Collision     275\n",
      "Front Collision    254\n",
      "UNK                178\n",
      "Name: collision_type, dtype: int64\n",
      "Field Data Type: object\n",
      "\n",
      "\n",
      "Number of unique values: 4\n",
      "Unique values and respective counts in incident_severity:\n",
      "Minor Damage      354\n",
      "Total Loss        280\n",
      "Major Damage      275\n",
      "Trivial Damage     90\n",
      "Name: incident_severity, dtype: int64\n",
      "Field Data Type: object\n",
      "\n",
      "\n",
      "Number of unique values: 5\n",
      "Unique values and respective counts in authorities_contacted:\n",
      "Police       292\n",
      "Fire         223\n",
      "Other        198\n",
      "Ambulance    195\n",
      "None          91\n",
      "Name: authorities_contacted, dtype: int64\n",
      "Field Data Type: object\n",
      "\n",
      "\n",
      "Number of unique values: 7\n",
      "Unique values and respective counts in incident_state:\n",
      "NY    262\n",
      "SC    248\n",
      "WV    217\n",
      "VA    110\n",
      "NC    109\n",
      "PA     30\n",
      "OH     23\n",
      "Name: incident_state, dtype: int64\n",
      "Field Data Type: object\n",
      "\n",
      "\n",
      "Number of unique values: 7\n",
      "Unique values and respective counts in incident_city:\n",
      "Springfield    157\n",
      "Arlington      151\n",
      "Columbus       149\n",
      "Northbend      145\n",
      "Hillsdale      141\n",
      "Riverwood      134\n",
      "Northbrook     122\n",
      "Name: incident_city, dtype: int64\n",
      "Field Data Type: object\n",
      "\n",
      "\n",
      "Number of unique values: 24\n",
      "Unique values and respective counts in incident_hour_of_the_day:\n",
      "17    54\n",
      "3     53\n",
      "0     52\n",
      "23    51\n",
      "16    49\n",
      "10    46\n",
      "4     46\n",
      "13    45\n",
      "6     44\n",
      "9     43\n",
      "14    43\n",
      "21    42\n",
      "18    41\n",
      "12    40\n",
      "19    40\n",
      "7     40\n",
      "15    39\n",
      "22    38\n",
      "8     36\n",
      "20    34\n",
      "5     33\n",
      "2     31\n",
      "11    30\n",
      "1     29\n",
      "Name: incident_hour_of_the_day, dtype: int64\n",
      "Field Data Type: int64\n",
      "\n",
      "\n",
      "Number of unique values: 4\n",
      "Unique values and respective counts in number_of_vehicles_involved:\n",
      "1    580\n",
      "3    358\n",
      "4     31\n",
      "2     30\n",
      "Name: number_of_vehicles_involved, dtype: int64\n",
      "Field Data Type: int64\n",
      "\n",
      "\n",
      "Number of unique values: 3\n",
      "Unique values and respective counts in property_damage:\n",
      "UNK    360\n",
      "NO     338\n",
      "YES    301\n",
      "Name: property_damage, dtype: int64\n",
      "Field Data Type: object\n",
      "\n",
      "\n",
      "Number of unique values: 3\n",
      "Unique values and respective counts in bodily_injuries:\n",
      "0    339\n",
      "2    332\n",
      "1    328\n",
      "Name: bodily_injuries, dtype: int64\n",
      "Field Data Type: int64\n",
      "\n",
      "\n",
      "Number of unique values: 4\n",
      "Unique values and respective counts in witnesses:\n"
     ]
    },
    {
     "name": "stdout",
     "output_type": "stream",
     "text": [
      "1    257\n",
      "2    250\n",
      "0    249\n",
      "3    243\n",
      "Name: witnesses, dtype: int64\n",
      "Field Data Type: int64\n",
      "\n",
      "\n",
      "Number of unique values: 3\n",
      "Unique values and respective counts in police_report_available:\n",
      "NO     343\n",
      "UNK    342\n",
      "YES    314\n",
      "Name: police_report_available, dtype: int64\n",
      "Field Data Type: object\n",
      "\n",
      "\n",
      "Number of unique values: 762\n",
      "Unique values and respective counts in total_claim_amount:\n",
      "59400    5\n",
      "3190     4\n",
      "60600    4\n",
      "70400    4\n",
      "70290    4\n",
      "        ..\n",
      "87100    1\n",
      "6240     1\n",
      "66600    1\n",
      "70920    1\n",
      "67500    1\n",
      "Name: total_claim_amount, Length: 762, dtype: int64\n",
      "Field Data Type: int64\n",
      "\n",
      "\n",
      "Number of unique values: 638\n",
      "Unique values and respective counts in injury_claim:\n",
      "0        25\n",
      "480       7\n",
      "640       7\n",
      "580       5\n",
      "860       5\n",
      "         ..\n",
      "6580      1\n",
      "11820     1\n",
      "16650     1\n",
      "7810      1\n",
      "7500      1\n",
      "Name: injury_claim, Length: 638, dtype: int64\n",
      "Field Data Type: int64\n",
      "\n",
      "\n",
      "Number of unique values: 625\n",
      "Unique values and respective counts in property_claim:\n",
      "0        19\n",
      "860       6\n",
      "660       5\n",
      "11080     5\n",
      "650       5\n",
      "         ..\n",
      "6170      1\n",
      "3590      1\n",
      "6480      1\n",
      "4580      1\n",
      "7500      1\n",
      "Name: property_claim, Length: 625, dtype: int64\n",
      "Field Data Type: int64\n",
      "\n",
      "\n",
      "Number of unique values: 725\n",
      "Unique values and respective counts in vehicle_claim:\n",
      "5040     7\n",
      "3360     6\n",
      "3600     5\n",
      "4720     5\n",
      "33600    5\n",
      "        ..\n",
      "43360    1\n",
      "25130    1\n",
      "38940    1\n",
      "47430    1\n",
      "52500    1\n",
      "Name: vehicle_claim, Length: 725, dtype: int64\n",
      "Field Data Type: int64\n",
      "\n",
      "\n",
      "Number of unique values: 14\n",
      "Unique values and respective counts in auto_make:\n",
      "Saab          80\n",
      "Dodge         80\n",
      "Suburu        80\n",
      "Nissan        78\n",
      "Chevrolet     75\n",
      "Ford          72\n",
      "BMW           72\n",
      "Toyota        70\n",
      "Audi          69\n",
      "Accura        68\n",
      "Volkswagen    68\n",
      "Jeep          67\n",
      "Mercedes      65\n",
      "Honda         55\n",
      "Name: auto_make, dtype: int64\n",
      "Field Data Type: object\n",
      "\n",
      "\n",
      "Number of unique values: 39\n",
      "Unique values and respective counts in auto_model:\n",
      "RAM               43\n",
      "Wrangler          42\n",
      "A3                37\n",
      "Neon              37\n",
      "MDX               36\n",
      "Jetta             35\n",
      "Passat            33\n",
      "A5                32\n",
      "Legacy            32\n",
      "Pathfinder        31\n",
      "Malibu            29\n",
      "92x               28\n",
      "Camry             28\n",
      "Forrestor         28\n",
      "F150              27\n",
      "95                27\n",
      "E400              27\n",
      "93                25\n",
      "Grand Cherokee    25\n",
      "Escape            24\n",
      "Tahoe             24\n",
      "Maxima            24\n",
      "Ultima            23\n",
      "X5                23\n",
      "Highlander        22\n",
      "Civic             22\n",
      "Silverado         22\n",
      "Fusion            21\n",
      "ML350             20\n",
      "Impreza           20\n",
      "Corolla           20\n",
      "TL                20\n",
      "CRV               20\n",
      "C300              18\n",
      "3 Series          18\n",
      "X6                16\n",
      "M5                15\n",
      "Accord            13\n",
      "RSX               12\n",
      "Name: auto_model, dtype: int64\n",
      "Field Data Type: object\n",
      "\n",
      "\n",
      "Number of unique values: 21\n",
      "Unique values and respective counts in auto_year:\n",
      "1995    56\n",
      "1999    55\n",
      "2005    54\n",
      "2006    53\n",
      "2011    53\n",
      "2007    52\n",
      "2003    51\n",
      "2009    50\n",
      "2010    50\n",
      "2013    49\n",
      "2002    49\n",
      "2015    47\n",
      "1997    46\n",
      "2012    46\n",
      "2008    45\n",
      "2014    44\n",
      "2001    42\n",
      "2000    42\n",
      "1998    40\n",
      "2004    39\n",
      "1996    36\n",
      "Name: auto_year, dtype: int64\n",
      "Field Data Type: int64\n",
      "\n",
      "\n",
      "Number of unique values: 2\n",
      "Unique values and respective counts in fraud_reported:\n",
      "N    752\n",
      "Y    247\n",
      "Name: fraud_reported, dtype: int64\n",
      "Field Data Type: object\n",
      "\n",
      "\n"
     ]
    }
   ],
   "source": [
    "for column in df_iclaims.columns:\n",
    "    print(f\"Number of unique values: {df_iclaims[column].nunique()}\")\n",
    "    print(f\"Unique values and respective counts in {column}:\")\n",
    "    print(df_iclaims[column].value_counts())\n",
    "    print(f\"Field Data Type: {df_iclaims[column].dtype}\")\n",
    "    print(\"\\n\")"
   ]
  },
  {
   "cell_type": "code",
   "execution_count": 24,
   "metadata": {
    "id": "kl0jWZNEDPWe"
   },
   "outputs": [
    {
     "name": "stdout",
     "output_type": "stream",
     "text": [
      "<class 'pandas.core.frame.DataFrame'>\n",
      "Int64Index: 999 entries, 0 to 999\n",
      "Data columns (total 36 columns):\n",
      " #   Column                       Non-Null Count  Dtype         \n",
      "---  ------                       --------------  -----         \n",
      " 0   months_as_customer           999 non-null    int64         \n",
      " 1   age                          999 non-null    int64         \n",
      " 2   policy_bind_date             999 non-null    datetime64[ns]\n",
      " 3   policy_state                 999 non-null    object        \n",
      " 4   policy_csl                   999 non-null    object        \n",
      " 5   policy_deductable            999 non-null    int64         \n",
      " 6   policy_annual_premium        999 non-null    float64       \n",
      " 7   umbrella_limit               999 non-null    int64         \n",
      " 8   insured_sex                  999 non-null    object        \n",
      " 9   insured_education_level      999 non-null    object        \n",
      " 10  insured_occupation           999 non-null    object        \n",
      " 11  insured_hobbies              999 non-null    object        \n",
      " 12  insured_relationship         999 non-null    object        \n",
      " 13  capital-gains                999 non-null    int64         \n",
      " 14  capital-loss                 999 non-null    int64         \n",
      " 15  incident_date                999 non-null    datetime64[ns]\n",
      " 16  incident_type                999 non-null    object        \n",
      " 17  collision_type               999 non-null    object        \n",
      " 18  incident_severity            999 non-null    object        \n",
      " 19  authorities_contacted        999 non-null    object        \n",
      " 20  incident_state               999 non-null    object        \n",
      " 21  incident_city                999 non-null    object        \n",
      " 22  incident_hour_of_the_day     999 non-null    int64         \n",
      " 23  number_of_vehicles_involved  999 non-null    int64         \n",
      " 24  property_damage              999 non-null    object        \n",
      " 25  bodily_injuries              999 non-null    int64         \n",
      " 26  witnesses                    999 non-null    int64         \n",
      " 27  police_report_available      999 non-null    object        \n",
      " 28  total_claim_amount           999 non-null    int64         \n",
      " 29  injury_claim                 999 non-null    int64         \n",
      " 30  property_claim               999 non-null    int64         \n",
      " 31  vehicle_claim                999 non-null    int64         \n",
      " 32  auto_make                    999 non-null    object        \n",
      " 33  auto_model                   999 non-null    object        \n",
      " 34  auto_year                    999 non-null    int64         \n",
      " 35  fraud_reported               999 non-null    object        \n",
      "dtypes: datetime64[ns](2), float64(1), int64(15), object(18)\n",
      "memory usage: 288.8+ KB\n"
     ]
    }
   ],
   "source": [
    "# Check the features of the data again\n",
    "df_iclaims.info()"
   ]
  },
  {
   "cell_type": "markdown",
   "metadata": {
    "id": "nXS8rflQDPWe"
   },
   "source": [
    "## **3. Train-Validation Split** <font color = red>[5 marks]</font>"
   ]
  },
  {
   "cell_type": "markdown",
   "metadata": {
    "id": "9qOELXFYDPWe"
   },
   "source": [
    "### **3.1 Import required libraries**  "
   ]
  },
  {
   "cell_type": "code",
   "execution_count": 25,
   "metadata": {
    "id": "-vJKP7g0DPWe"
   },
   "outputs": [],
   "source": [
    "# Import train-test-split\n",
    "from sklearn.model_selection import train_test_split"
   ]
  },
  {
   "cell_type": "markdown",
   "metadata": {
    "id": "-MdKqcZ-DPWe"
   },
   "source": [
    "### **3.2 Define feature and target variables** <font color = red>[2 Marks]</font>"
   ]
  },
  {
   "cell_type": "code",
   "execution_count": 26,
   "metadata": {
    "id": "qacdKTt1DPWj"
   },
   "outputs": [],
   "source": [
    "# Put all the feature variables in X\n",
    "X = df_iclaims.drop(['fraud_reported'], axis=1)\n",
    "\n",
    "# Put the target variable in y\n",
    "y = df_iclaims['fraud_reported']"
   ]
  },
  {
   "cell_type": "markdown",
   "metadata": {
    "id": "t2JaDNlsDPWj"
   },
   "source": [
    "### **3.3 Split the data** <font color=\"red\">[3 Marks]</font>"
   ]
  },
  {
   "cell_type": "code",
   "execution_count": 27,
   "metadata": {
    "id": "7_mMlbt7DPWj"
   },
   "outputs": [
    {
     "name": "stdout",
     "output_type": "stream",
     "text": [
      "Train X shape:  (699, 35)\n",
      "Test X shape:  (300, 35)\n",
      "Train y shape:  (699,)\n",
      "Test y shape:  (300,)\n"
     ]
    }
   ],
   "source": [
    "# Split the dataset into 70% train and 30% validation and use stratification on the target variable\n",
    "X_train, X_test, y_train, y_test = train_test_split(X, y, train_size=0.7, test_size=0.3, random_state=42, stratify=y)\n",
    "\n",
    "# Reset index for all train and test sets\n",
    "X_train = X_train.reset_index(drop=True)\n",
    "X_test = X_test.reset_index(drop=True)\n",
    "y_train = y_train.reset_index(drop=True)\n",
    "y_test = y_test.reset_index(drop=True)\n",
    "\n",
    "print(\"Train X shape: \", X_train.shape)\n",
    "print(\"Test X shape: \", X_test.shape)\n",
    "print(\"Train y shape: \", y_train.shape)\n",
    "print(\"Test y shape: \", y_test.shape)"
   ]
  },
  {
   "cell_type": "markdown",
   "metadata": {
    "id": "4E_xpebIDPWk"
   },
   "source": [
    "## **4. EDA on training data** <font color = red>[20 marks]</font>"
   ]
  },
  {
   "cell_type": "markdown",
   "metadata": {
    "id": "xDNn7iBADPWk"
   },
   "source": [
    "### **4.1 Perform univariate analysis** <font color = red>[5 marks]</font>"
   ]
  },
  {
   "cell_type": "markdown",
   "metadata": {
    "id": "aVLeqhcADPWk"
   },
   "source": [
    "#### **4.1.1** Identify and select numerical columns from training data for univariate analysis <font color = \"red\">[1 Mark]</font>"
   ]
  },
  {
   "cell_type": "code",
   "execution_count": 28,
   "metadata": {
    "id": "bR9ulzRsDPWk"
   },
   "outputs": [
    {
     "data": {
      "text/plain": [
       "Index(['months_as_customer', 'age', 'policy_deductable',\n",
       "       'policy_annual_premium', 'umbrella_limit', 'capital-gains',\n",
       "       'capital-loss', 'incident_hour_of_the_day',\n",
       "       'number_of_vehicles_involved', 'bodily_injuries', 'witnesses',\n",
       "       'total_claim_amount', 'injury_claim', 'property_claim', 'vehicle_claim',\n",
       "       'auto_year'],\n",
       "      dtype='object')"
      ]
     },
     "execution_count": 28,
     "metadata": {},
     "output_type": "execute_result"
    }
   ],
   "source": [
    "# Select numerical columns\n",
    "numerical_columns = df_iclaims.select_dtypes(include=['number'])\n",
    "numerical_columns.columns"
   ]
  },
  {
   "cell_type": "markdown",
   "metadata": {
    "id": "wP4icMhPDPWk"
   },
   "source": [
    "#### **4.1.2** Visualise the distribution of selected numerical features using appropriate plots to understand their characteristics <font color = \"red\">[4 Marks]</font>"
   ]
  },
  {
   "cell_type": "code",
   "execution_count": 29,
   "metadata": {
    "id": "ny7woMrmDPWk"
   },
   "outputs": [
    {
     "data": {
      "image/png": "[encoded data removed]",
      "text/plain": [
       "<Figure size 432x288 with 1 Axes>"
      ]
     },
     "metadata": {
      "needs_background": "light"
     },
     "output_type": "display_data"
    },
    {
     "data": {
      "image/png": "[encoded data removed]",
      "text/plain": [
       "<Figure size 432x288 with 1 Axes>"
      ]
     },
     "metadata": {
      "needs_background": "light"
     },
     "output_type": "display_data"
    },
    {
     "data": {
      "image/png": "[encoded data removed]",
      "text/plain": [
       "<Figure size 432x288 with 1 Axes>"
      ]
     },
     "metadata": {
      "needs_background": "light"
     },
     "output_type": "display_data"
    },
    {
     "data": {
      "image/png": "[encoded data removed]",
      "text/plain": [
       "<Figure size 432x288 with 1 Axes>"
      ]
     },
     "metadata": {
      "needs_background": "light"
     },
     "output_type": "display_data"
    },
    {
     "data": {
      "image/png": "[encoded data removed]",
      "text/plain": [
       "<Figure size 432x288 with 1 Axes>"
      ]
     },
     "metadata": {
      "needs_background": "light"
     },
     "output_type": "display_data"
    },
    {
     "data": {
      "image/png": "[encoded data removed]",
      "text/plain": [
       "<Figure size 432x288 with 1 Axes>"
      ]
     },
     "metadata": {
      "needs_background": "light"
     },
     "output_type": "display_data"
    },
    {
     "data": {
      "image/png": "[encoded data removed]",
      "text/plain": [
       "<Figure size 432x288 with 1 Axes>"
      ]
     },
     "metadata": {
      "needs_background": "light"
     },
     "output_type": "display_data"
    },
    {
     "data": {
      "image/png": "[encoded data removed]",
      "text/plain": [
       "<Figure size 432x288 with 1 Axes>"
      ]
     },
     "metadata": {
      "needs_background": "light"
     },
     "output_type": "display_data"
    },
    {
     "data": {
      "image/png": "[encoded data removed]",
      "text/plain": [
       "<Figure size 432x288 with 1 Axes>"
      ]
     },
     "metadata": {
      "needs_background": "light"
     },
     "output_type": "display_data"
    },
    {
     "data": {
      "image/png": "[encoded data removed]",
      "text/plain": [
       "<Figure size 432x288 with 1 Axes>"
      ]
     },
     "metadata": {
      "needs_background": "light"
     },
     "output_type": "display_data"
    },
    {
     "data": {
      "image/png": "[encoded data removed]",
      "text/plain": [
       "<Figure size 432x288 with 1 Axes>"
      ]
     },
     "metadata": {
      "needs_background": "light"
     },
     "output_type": "display_data"
    },
    {
     "data": {
      "image/png": "[encoded data removed]",
      "text/plain": [
       "<Figure size 432x288 with 1 Axes>"
      ]
     },
     "metadata": {
      "needs_background": "light"
     },
     "output_type": "display_data"
    },
    {
     "data": {
      "image/png": "[encoded data removed]",
      "text/plain": [
       "<Figure size 432x288 with 1 Axes>"
      ]
     },
     "metadata": {
      "needs_background": "light"
     },
     "output_type": "display_data"
    },
    {
     "data": {
      "image/png": "[encoded data removed]",
      "text/plain": [
       "<Figure size 432x288 with 1 Axes>"
      ]
     },
     "metadata": {
      "needs_background": "light"
     },
     "output_type": "display_data"
    },
    {
     "data": {
      "image/png": "[encoded data removed]",
      "text/plain": [
       "<Figure size 432x288 with 1 Axes>"
      ]
     },
     "metadata": {
      "needs_background": "light"
     },
     "output_type": "display_data"
    },
    {
     "data": {
      "image/png": "[encoded data removed]",
      "text/plain": [
       "<Figure size 432x288 with 1 Axes>"
      ]
     },
     "metadata": {
      "needs_background": "light"
     },
     "output_type": "display_data"
    }
   ],
   "source": [
    "# Plot all the numerical columns to understand their distribution\n",
    "for i in numerical_columns:\n",
    "    sns.histplot(x=df_iclaims[i])\n",
    "    plt.show()"
   ]
  },
  {
   "cell_type": "markdown",
   "metadata": {
    "id": "o4UAw5pDDPWl"
   },
   "source": [
    "### **4.2 Perform correlation analysis** <font color=\"red\">[3 Marks]</font>"
   ]
  },
  {
   "cell_type": "markdown",
   "metadata": {
    "id": "ySJiTDdxDPWl"
   },
   "source": [
    " Investigate the relationships between numerical features to identify potential multicollinearity or dependencies. Visualise the correlation structure using an appropriate method to gain insights into feature relationships."
   ]
  },
  {
   "cell_type": "code",
   "execution_count": 30,
   "metadata": {
    "id": "_xadGQK7DPWl"
   },
   "outputs": [
    {
     "data": {
      "image/png": "[encoded data removed]",
      "text/plain": [
       "<Figure size 1440x1440 with 2 Axes>"
      ]
     },
     "metadata": {
      "needs_background": "light"
     },
     "output_type": "display_data"
    }
   ],
   "source": [
    "# Create correlation matrix for numerical columns\n",
    "\n",
    "# Plot Heatmap of the correlation matrix\n",
    "plt.figure(figsize=(20,20))\n",
    "\n",
    "sns.heatmap(df_iclaims[numerical_columns.columns].corr(), annot=True, cmap=\"coolwarm\")\n",
    "\n",
    "plt.show()"
   ]
  },
  {
   "cell_type": "markdown",
   "metadata": {
    "id": "ZHQ3du-9DPWl"
   },
   "source": [
    "### **4.3 Check class balance** <font color=\"red\">[2 Marks]</font>"
   ]
  },
  {
   "cell_type": "markdown",
   "metadata": {
    "id": "eTkJHl0xDPWm"
   },
   "source": [
    "Examine the distribution of the target variable to identify potential class imbalances using visualisation for better understanding."
   ]
  },
  {
   "cell_type": "code",
   "execution_count": 31,
   "metadata": {
    "id": "V1QrXZdhDPWm"
   },
   "outputs": [
    {
     "data": {
      "image/png": "[encoded data removed]",
      "text/plain": [
       "<Figure size 432x288 with 1 Axes>"
      ]
     },
     "metadata": {
      "needs_background": "light"
     },
     "output_type": "display_data"
    }
   ],
   "source": [
    "# Plot a bar chart to check class balance\n",
    "sns.countplot(x = y_train)\n",
    "plt.show()"
   ]
  },
  {
   "cell_type": "markdown",
   "metadata": {},
   "source": [
    "#### <font color=\"orange\">**4.3 RESPONSE**</font>  \n",
    "\n",
    "<font color=\"green\">Evidently there is a class imbalance with higher proportion of non-frudlent cases</font>"
   ]
  },
  {
   "cell_type": "markdown",
   "metadata": {
    "id": "xFhVKzRHDPWn"
   },
   "source": [
    "### **4.4 Perform bivariate analysis** <font color=\"red\">[10 Marks]</font>"
   ]
  },
  {
   "cell_type": "markdown",
   "metadata": {
    "id": "h0WjamQXDPWn"
   },
   "source": [
    "#### **4.4.1** Target likelihood analysis for categorical variables. <font color=\"red\">[5 Marks]</font>\n",
    "Investigate the relationships between categorical features and the target variable by analysing the target event likelihood (for the `'Y'` event) for each level of every relevant categorical feature. Through this analysis, identify categorical features that do not contribute much in explaining the variation in the target variable."
   ]
  },
  {
   "cell_type": "code",
   "execution_count": 32,
   "metadata": {},
   "outputs": [
    {
     "data": {
      "text/plain": [
       "0      0\n",
       "1      0\n",
       "2      0\n",
       "3      0\n",
       "4      0\n",
       "      ..\n",
       "694    0\n",
       "695    0\n",
       "696    0\n",
       "697    0\n",
       "698    1\n",
       "Name: fraud_reported, Length: 699, dtype: int64"
      ]
     },
     "execution_count": 32,
     "metadata": {},
     "output_type": "execute_result"
    }
   ],
   "source": [
    "y_train = y_train.map({'Y': 1, 'N': 0})\n",
    "y_train"
   ]
  },
  {
   "cell_type": "code",
   "execution_count": 33,
   "metadata": {},
   "outputs": [
    {
     "data": {
      "text/plain": [
       "0      0\n",
       "1      0\n",
       "2      0\n",
       "3      0\n",
       "4      0\n",
       "      ..\n",
       "295    0\n",
       "296    1\n",
       "297    0\n",
       "298    0\n",
       "299    0\n",
       "Name: fraud_reported, Length: 300, dtype: int64"
      ]
     },
     "execution_count": 33,
     "metadata": {},
     "output_type": "execute_result"
    }
   ],
   "source": [
    "y_test = y_test.map({'Y': 1, 'N': 0})\n",
    "y_test"
   ]
  },
  {
   "cell_type": "code",
   "execution_count": 34,
   "metadata": {},
   "outputs": [
    {
     "data": {
      "text/plain": [
       "Index(['policy_state', 'policy_csl', 'insured_sex', 'insured_education_level',\n",
       "       'insured_occupation', 'insured_hobbies', 'insured_relationship',\n",
       "       'incident_type', 'collision_type', 'incident_severity',\n",
       "       'authorities_contacted', 'incident_state', 'incident_city',\n",
       "       'property_damage', 'police_report_available', 'auto_make',\n",
       "       'auto_model'],\n",
       "      dtype='object')"
      ]
     },
     "execution_count": 34,
     "metadata": {},
     "output_type": "execute_result"
    }
   ],
   "source": [
    "categorical_cols = X_train.select_dtypes('object').columns\n",
    "categorical_cols"
   ]
  },
  {
   "cell_type": "code",
   "execution_count": 35,
   "metadata": {
    "id": "K1OQJrO5guyw"
   },
   "outputs": [
    {
     "data": {
      "text/html": [
       "<div>\n",
       "<style scoped>\n",
       "    .dataframe tbody tr th:only-of-type {\n",
       "        vertical-align: middle;\n",
       "    }\n",
       "\n",
       "    .dataframe tbody tr th {\n",
       "        vertical-align: top;\n",
       "    }\n",
       "\n",
       "    .dataframe thead th {\n",
       "        text-align: right;\n",
       "    }\n",
       "</style>\n",
       "<table border=\"1\" class=\"dataframe\">\n",
       "  <thead>\n",
       "    <tr style=\"text-align: right;\">\n",
       "      <th></th>\n",
       "      <th>policy_state</th>\n",
       "      <th>policy_csl</th>\n",
       "      <th>insured_sex</th>\n",
       "      <th>insured_education_level</th>\n",
       "      <th>insured_occupation</th>\n",
       "      <th>insured_hobbies</th>\n",
       "      <th>insured_relationship</th>\n",
       "      <th>incident_type</th>\n",
       "      <th>collision_type</th>\n",
       "      <th>incident_severity</th>\n",
       "      <th>authorities_contacted</th>\n",
       "      <th>incident_state</th>\n",
       "      <th>incident_city</th>\n",
       "      <th>property_damage</th>\n",
       "      <th>police_report_available</th>\n",
       "      <th>auto_make</th>\n",
       "      <th>auto_model</th>\n",
       "      <th>fraud_reported</th>\n",
       "    </tr>\n",
       "  </thead>\n",
       "  <tbody>\n",
       "    <tr>\n",
       "      <th>0</th>\n",
       "      <td>OH</td>\n",
       "      <td>500/1000</td>\n",
       "      <td>MALE</td>\n",
       "      <td>Masters</td>\n",
       "      <td>machine-op-inspct</td>\n",
       "      <td>base-jumping</td>\n",
       "      <td>not-in-family</td>\n",
       "      <td>Single Vehicle Collision</td>\n",
       "      <td>Side Collision</td>\n",
       "      <td>Major Damage</td>\n",
       "      <td>Fire</td>\n",
       "      <td>NY</td>\n",
       "      <td>Springfield</td>\n",
       "      <td>UNK</td>\n",
       "      <td>UNK</td>\n",
       "      <td>Toyota</td>\n",
       "      <td>Camry</td>\n",
       "      <td>0</td>\n",
       "    </tr>\n",
       "    <tr>\n",
       "      <th>1</th>\n",
       "      <td>IL</td>\n",
       "      <td>500/1000</td>\n",
       "      <td>MALE</td>\n",
       "      <td>High School</td>\n",
       "      <td>exec-managerial</td>\n",
       "      <td>polo</td>\n",
       "      <td>other-relative</td>\n",
       "      <td>Multi-vehicle Collision</td>\n",
       "      <td>Rear Collision</td>\n",
       "      <td>Total Loss</td>\n",
       "      <td>Other</td>\n",
       "      <td>WV</td>\n",
       "      <td>Columbus</td>\n",
       "      <td>UNK</td>\n",
       "      <td>NO</td>\n",
       "      <td>BMW</td>\n",
       "      <td>X5</td>\n",
       "      <td>0</td>\n",
       "    </tr>\n",
       "    <tr>\n",
       "      <th>2</th>\n",
       "      <td>IN</td>\n",
       "      <td>250/500</td>\n",
       "      <td>FEMALE</td>\n",
       "      <td>JD</td>\n",
       "      <td>tech-support</td>\n",
       "      <td>base-jumping</td>\n",
       "      <td>unmarried</td>\n",
       "      <td>Parked Car</td>\n",
       "      <td>UNK</td>\n",
       "      <td>Trivial Damage</td>\n",
       "      <td>None</td>\n",
       "      <td>SC</td>\n",
       "      <td>Northbend</td>\n",
       "      <td>NO</td>\n",
       "      <td>UNK</td>\n",
       "      <td>Nissan</td>\n",
       "      <td>Ultima</td>\n",
       "      <td>0</td>\n",
       "    </tr>\n",
       "    <tr>\n",
       "      <th>3</th>\n",
       "      <td>OH</td>\n",
       "      <td>250/500</td>\n",
       "      <td>MALE</td>\n",
       "      <td>Associate</td>\n",
       "      <td>machine-op-inspct</td>\n",
       "      <td>skydiving</td>\n",
       "      <td>own-child</td>\n",
       "      <td>Single Vehicle Collision</td>\n",
       "      <td>Rear Collision</td>\n",
       "      <td>Minor Damage</td>\n",
       "      <td>Ambulance</td>\n",
       "      <td>WV</td>\n",
       "      <td>Springfield</td>\n",
       "      <td>YES</td>\n",
       "      <td>YES</td>\n",
       "      <td>Suburu</td>\n",
       "      <td>Forrestor</td>\n",
       "      <td>0</td>\n",
       "    </tr>\n",
       "    <tr>\n",
       "      <th>4</th>\n",
       "      <td>IL</td>\n",
       "      <td>500/1000</td>\n",
       "      <td>FEMALE</td>\n",
       "      <td>JD</td>\n",
       "      <td>farming-fishing</td>\n",
       "      <td>video-games</td>\n",
       "      <td>wife</td>\n",
       "      <td>Multi-vehicle Collision</td>\n",
       "      <td>Rear Collision</td>\n",
       "      <td>Total Loss</td>\n",
       "      <td>Police</td>\n",
       "      <td>WV</td>\n",
       "      <td>Springfield</td>\n",
       "      <td>UNK</td>\n",
       "      <td>YES</td>\n",
       "      <td>Accura</td>\n",
       "      <td>MDX</td>\n",
       "      <td>0</td>\n",
       "    </tr>\n",
       "  </tbody>\n",
       "</table>\n",
       "</div>"
      ],
      "text/plain": [
       "  policy_state policy_csl insured_sex insured_education_level  \\\n",
       "0           OH   500/1000        MALE                 Masters   \n",
       "1           IL   500/1000        MALE             High School   \n",
       "2           IN    250/500      FEMALE                      JD   \n",
       "3           OH    250/500        MALE               Associate   \n",
       "4           IL   500/1000      FEMALE                      JD   \n",
       "\n",
       "  insured_occupation insured_hobbies insured_relationship  \\\n",
       "0  machine-op-inspct    base-jumping        not-in-family   \n",
       "1    exec-managerial            polo       other-relative   \n",
       "2       tech-support    base-jumping            unmarried   \n",
       "3  machine-op-inspct       skydiving            own-child   \n",
       "4    farming-fishing     video-games                 wife   \n",
       "\n",
       "              incident_type  collision_type incident_severity  \\\n",
       "0  Single Vehicle Collision  Side Collision      Major Damage   \n",
       "1   Multi-vehicle Collision  Rear Collision        Total Loss   \n",
       "2                Parked Car             UNK    Trivial Damage   \n",
       "3  Single Vehicle Collision  Rear Collision      Minor Damage   \n",
       "4   Multi-vehicle Collision  Rear Collision        Total Loss   \n",
       "\n",
       "  authorities_contacted incident_state incident_city property_damage  \\\n",
       "0                  Fire             NY   Springfield             UNK   \n",
       "1                 Other             WV      Columbus             UNK   \n",
       "2                  None             SC     Northbend              NO   \n",
       "3             Ambulance             WV   Springfield             YES   \n",
       "4                Police             WV   Springfield             UNK   \n",
       "\n",
       "  police_report_available auto_make auto_model  fraud_reported  \n",
       "0                     UNK    Toyota      Camry               0  \n",
       "1                      NO       BMW         X5               0  \n",
       "2                     UNK    Nissan     Ultima               0  \n",
       "3                     YES    Suburu  Forrestor               0  \n",
       "4                     YES    Accura        MDX               0  "
      ]
     },
     "execution_count": 35,
     "metadata": {},
     "output_type": "execute_result"
    }
   ],
   "source": [
    "# Write a function to calculate and analyse the target variable likelihood for categorical features\n",
    "df_train = pd.concat([X_train[categorical_cols], y_train], axis=1)\n",
    "df_train.head()"
   ]
  },
  {
   "cell_type": "code",
   "execution_count": 36,
   "metadata": {},
   "outputs": [
    {
     "name": "stdout",
     "output_type": "stream",
     "text": [
      "policy_state \n",
      "\r",
      " {'IL': 0.24369747899159663, 'IN': 0.24545454545454545, 'OH': 0.25311203319502074} \n",
      "\r\n",
      "policy_csl \n",
      "\r",
      " {'100/300': 0.268, '250/500': 0.251063829787234, '500/1000': 0.21962616822429906} \n",
      "\r\n",
      "insured_sex \n",
      "\r",
      " {'FEMALE': 0.24932975871313673, 'MALE': 0.24539877300613497} \n",
      "\r\n",
      "insured_education_level \n",
      "\r",
      " {'Associate': 0.23423423423423423, 'College': 0.24691358024691357, 'High School': 0.20909090909090908, 'JD': 0.2831858407079646, 'MD': 0.2631578947368421, 'Masters': 0.25252525252525254, 'PhD': 0.24444444444444444} \n",
      "\r\n",
      "insured_occupation \n",
      "\r",
      " {'adm-clerical': 0.1702127659574468, 'armed-forces': 0.2608695652173913, 'craft-repair': 0.3018867924528302, 'exec-managerial': 0.3392857142857143, 'farming-fishing': 0.28125, 'handlers-cleaners': 0.14285714285714285, 'machine-op-inspct': 0.24615384615384617, 'other-service': 0.1875, 'priv-house-serv': 0.18, 'prof-specialty': 0.19047619047619047, 'protective-serv': 0.24324324324324326, 'sales': 0.2727272727272727, 'tech-support': 0.25925925925925924, 'transport-moving': 0.3448275862068966} \n",
      "\r\n",
      "insured_hobbies \n",
      "\r",
      " {'base-jumping': 0.23684210526315788, 'basketball': 0.1111111111111111, 'board-games': 0.21875, 'bungie-jumping': 0.175, 'camping': 0.10810810810810811, 'chess': 0.90625, 'cross-fit': 0.76, 'dancing': 0.11764705882352941, 'exercise': 0.15384615384615385, 'golf': 0.075, 'hiking': 0.25, 'kayaking': 0.1111111111111111, 'movies': 0.15151515151515152, 'paintball': 0.2553191489361702, 'polo': 0.3125, 'reading': 0.22448979591836735, 'skydiving': 0.2222222222222222, 'sleeping': 0.20833333333333334, 'video-games': 0.23529411764705882, 'yachting': 0.2972972972972973} \n",
      "\r\n",
      "insured_relationship \n",
      "\r",
      " {'husband': 0.21052631578947367, 'not-in-family': 0.2396694214876033, 'other-relative': 0.2992125984251969, 'own-child': 0.17355371900826447, 'unmarried': 0.29411764705882354, 'wife': 0.2719298245614035} \n",
      "\r\n",
      "incident_type \n",
      "\r",
      " {'Multi-vehicle Collision': 0.27835051546391754, 'Parked Car': 0.09230769230769231, 'Single Vehicle Collision': 0.2872340425531915, 'Vehicle Theft': 0.08196721311475409} \n",
      "\r\n",
      "collision_type \n",
      "\r",
      " {'Front Collision': 0.28901734104046245, 'Rear Collision': 0.2971698113207547, 'Side Collision': 0.26063829787234044, 'UNK': 0.0873015873015873} \n",
      "\r\n",
      "incident_severity \n",
      "\r",
      " {'Major Damage': 0.609375, 'Minor Damage': 0.09090909090909091, 'Total Loss': 0.15025906735751296, 'Trivial Damage': 0.06557377049180328} \n",
      "\r\n",
      "authorities_contacted \n",
      "\r",
      " {'Ambulance': 0.3161764705882353, 'Fire': 0.2802547770700637, 'None': 0.08823529411764706, 'Other': 0.2857142857142857, 'Police': 0.20202020202020202} \n",
      "\r\n",
      "incident_state \n",
      "\r",
      " {'NC': 0.3132530120481928, 'NY': 0.21264367816091953, 'OH': 0.42105263157894735, 'PA': 0.3157894736842105, 'SC': 0.2994350282485876, 'VA': 0.26666666666666666, 'WV': 0.1513157894736842} \n",
      "\r\n",
      "incident_city \n",
      "\r",
      " {'Arlington': 0.2980769230769231, 'Columbus': 0.2727272727272727, 'Hillsdale': 0.25, 'Northbend': 0.2, 'Northbrook': 0.21348314606741572, 'Riverwood': 0.21212121212121213, 'Springfield': 0.2761904761904762} \n",
      "\r\n",
      "property_damage \n",
      "\r",
      " {'NO': 0.1762295081967213, 'UNK': 0.2903225806451613, 'YES': 0.28019323671497587} \n",
      "\r\n",
      "police_report_available \n",
      "\r",
      " {'NO': 0.2551440329218107, 'UNK': 0.2550607287449393, 'YES': 0.22966507177033493} \n",
      "\r\n",
      "auto_make \n",
      "\r",
      " {'Accura': 0.14, 'Audi': 0.3269230769230769, 'BMW': 0.28, 'Chevrolet': 0.2727272727272727, 'Dodge': 0.18867924528301888, 'Ford': 0.2962962962962963, 'Honda': 0.2903225806451613, 'Jeep': 0.25, 'Mercedes': 0.29411764705882354, 'Nissan': 0.1724137931034483, 'Saab': 0.23529411764705882, 'Suburu': 0.23809523809523808, 'Toyota': 0.23404255319148937, 'Volkswagen': 0.275} \n",
      "\r\n",
      "auto_model \n",
      "\r",
      " {'3 Series': 0.07692307692307693, '92x': 0.2631578947368421, '93': 0.3076923076923077, '95': 0.15789473684210525, 'A3': 0.2857142857142857, 'A5': 0.375, 'Accord': 0.2, 'C300': 0.3333333333333333, 'CRV': 0.1111111111111111, 'Camry': 0.23529411764705882, 'Civic': 0.5, 'Corolla': 0.16666666666666666, 'E400': 0.2916666666666667, 'Escape': 0.23529411764705882, 'F150': 0.36363636363636365, 'Forrestor': 0.3333333333333333, 'Fusion': 0.26666666666666666, 'Grand Cherokee': 0.375, 'Highlander': 0.2777777777777778, 'Impreza': 0.21428571428571427, 'Jetta': 0.2857142857142857, 'Legacy': 0.16, 'M5': 0.3, 'MDX': 0.1724137931034483, 'ML350': 0.26666666666666666, 'Malibu': 0.0, 'Maxima': 0.375, 'Neon': 0.19230769230769232, 'Passat': 0.2631578947368421, 'Pathfinder': 0.045454545454545456, 'RAM': 0.18518518518518517, 'RSX': 0.09090909090909091, 'Silverado': 0.4375, 'TL': 0.1, 'Tahoe': 0.4, 'Ultima': 0.15, 'Wrangler': 0.17857142857142858, 'X5': 0.29411764705882354, 'X6': 0.5} \n",
      "\r\n"
     ]
    }
   ],
   "source": [
    "for col in categorical_cols:\n",
    "    target_likelihood = df_train.groupby(col)['fraud_reported'].mean().to_dict()\n",
    "    print(col,'\\n\\r', target_likelihood, '\\n\\r' )"
   ]
  },
  {
   "cell_type": "code",
   "execution_count": 37,
   "metadata": {},
   "outputs": [
    {
     "name": "stdout",
     "output_type": "stream",
     "text": [
      "High Cardinality Columns: []\n"
     ]
    }
   ],
   "source": [
    "#Identify the Categorical columns with high Cardinality, as we have 1000 rows\n",
    "\n",
    "threshold = 50\n",
    "\n",
    "# Find high cardinality columns\n",
    "high_card_cols = [col for col in categorical_cols if df_iclaims[col].nunique() > threshold]\n",
    "\n",
    "print(\"High Cardinality Columns:\", high_card_cols)"
   ]
  },
  {
   "cell_type": "code",
   "execution_count": 38,
   "metadata": {},
   "outputs": [
    {
     "name": "stdout",
     "output_type": "stream",
     "text": [
      "policy_state p-value:  0.9684220357583988\n",
      "policy_csl p-value:  0.4788121633473055\n",
      "insured_sex p-value:  0.9742351783371609\n",
      "insured_education_level p-value:  0.9293560965105621\n",
      "insured_occupation p-value:  0.40163088130975655\n",
      "insured_hobbies p-value:  1.620881142824269e-19\n",
      "insured_relationship p-value:  0.1671245589292493\n",
      "incident_type p-value:  9.304980532389893e-05\n",
      "collision_type p-value:  6.693856975082253e-05\n",
      "incident_severity p-value:  1.0282056748811933e-40\n",
      "authorities_contacted p-value:  0.002015449459148709\n",
      "incident_state p-value:  0.009764320425897999\n",
      "incident_city p-value:  0.5826597621152463\n",
      "property_damage p-value:  0.005844275909211311\n",
      "police_report_available p-value:  0.7753019951584019\n",
      "auto_make p-value:  0.6982902597450773\n",
      "auto_model p-value:  0.19687156512139367\n",
      "fraud_reported p-value:  7.219880730095223e-153\n"
     ]
    }
   ],
   "source": [
    "from scipy.stats import chi2_contingency\n",
    "\n",
    "for col in df_train.columns:\n",
    "    contingency_table = pd.crosstab(df_train[col], df_train['fraud_reported'])\n",
    "    chi2, p, _, _ = chi2_contingency(contingency_table)\n",
    "    print(col, \"p-value: \", p)"
   ]
  },
  {
   "cell_type": "code",
   "execution_count": 39,
   "metadata": {},
   "outputs": [],
   "source": [
    "## As the p_values of most features is > 0.05, they do not significantly affect the target.\n",
    "## Only'incident_state' and 'authorities_contacted' significantly affect the target."
   ]
  },
  {
   "cell_type": "markdown",
   "metadata": {
    "id": "z6oeg9naDPWo"
   },
   "source": [
    "#### **4.4.2** Explore the relationships between numerical features and the target variable to understand their impact on the target outcome using appropriate visualisation techniques to identify trends and potential interactions. <font color=\"red\">[5 Marks]</font>"
   ]
  },
  {
   "cell_type": "code",
   "execution_count": 40,
   "metadata": {
    "id": "bVXoNozGDPWo"
   },
   "outputs": [
    {
     "data": {
      "text/html": [
       "<div>\n",
       "<style scoped>\n",
       "    .dataframe tbody tr th:only-of-type {\n",
       "        vertical-align: middle;\n",
       "    }\n",
       "\n",
       "    .dataframe tbody tr th {\n",
       "        vertical-align: top;\n",
       "    }\n",
       "\n",
       "    .dataframe thead th {\n",
       "        text-align: right;\n",
       "    }\n",
       "</style>\n",
       "<table border=\"1\" class=\"dataframe\">\n",
       "  <thead>\n",
       "    <tr style=\"text-align: right;\">\n",
       "      <th></th>\n",
       "      <th>months_as_customer</th>\n",
       "      <th>age</th>\n",
       "      <th>policy_deductable</th>\n",
       "      <th>policy_annual_premium</th>\n",
       "      <th>umbrella_limit</th>\n",
       "      <th>capital-gains</th>\n",
       "      <th>capital-loss</th>\n",
       "      <th>incident_hour_of_the_day</th>\n",
       "      <th>number_of_vehicles_involved</th>\n",
       "      <th>bodily_injuries</th>\n",
       "      <th>witnesses</th>\n",
       "      <th>total_claim_amount</th>\n",
       "      <th>injury_claim</th>\n",
       "      <th>property_claim</th>\n",
       "      <th>vehicle_claim</th>\n",
       "      <th>auto_year</th>\n",
       "      <th>fraud_reported</th>\n",
       "    </tr>\n",
       "  </thead>\n",
       "  <tbody>\n",
       "    <tr>\n",
       "      <th>0</th>\n",
       "      <td>129</td>\n",
       "      <td>28</td>\n",
       "      <td>1000</td>\n",
       "      <td>1377.94</td>\n",
       "      <td>0</td>\n",
       "      <td>0</td>\n",
       "      <td>0</td>\n",
       "      <td>23</td>\n",
       "      <td>1</td>\n",
       "      <td>2</td>\n",
       "      <td>3</td>\n",
       "      <td>44640</td>\n",
       "      <td>9920</td>\n",
       "      <td>4960</td>\n",
       "      <td>29760</td>\n",
       "      <td>2005</td>\n",
       "      <td>0</td>\n",
       "    </tr>\n",
       "    <tr>\n",
       "      <th>1</th>\n",
       "      <td>210</td>\n",
       "      <td>41</td>\n",
       "      <td>500</td>\n",
       "      <td>1222.75</td>\n",
       "      <td>0</td>\n",
       "      <td>0</td>\n",
       "      <td>-41000</td>\n",
       "      <td>12</td>\n",
       "      <td>3</td>\n",
       "      <td>2</td>\n",
       "      <td>0</td>\n",
       "      <td>81070</td>\n",
       "      <td>14740</td>\n",
       "      <td>14740</td>\n",
       "      <td>51590</td>\n",
       "      <td>2001</td>\n",
       "      <td>0</td>\n",
       "    </tr>\n",
       "    <tr>\n",
       "      <th>2</th>\n",
       "      <td>85</td>\n",
       "      <td>25</td>\n",
       "      <td>500</td>\n",
       "      <td>1259.02</td>\n",
       "      <td>0</td>\n",
       "      <td>67000</td>\n",
       "      <td>-53600</td>\n",
       "      <td>8</td>\n",
       "      <td>1</td>\n",
       "      <td>2</td>\n",
       "      <td>2</td>\n",
       "      <td>5640</td>\n",
       "      <td>940</td>\n",
       "      <td>940</td>\n",
       "      <td>3760</td>\n",
       "      <td>2005</td>\n",
       "      <td>0</td>\n",
       "    </tr>\n",
       "    <tr>\n",
       "      <th>3</th>\n",
       "      <td>429</td>\n",
       "      <td>56</td>\n",
       "      <td>1000</td>\n",
       "      <td>1127.89</td>\n",
       "      <td>6000000</td>\n",
       "      <td>67400</td>\n",
       "      <td>-43800</td>\n",
       "      <td>0</td>\n",
       "      <td>1</td>\n",
       "      <td>2</td>\n",
       "      <td>0</td>\n",
       "      <td>39480</td>\n",
       "      <td>6580</td>\n",
       "      <td>6580</td>\n",
       "      <td>26320</td>\n",
       "      <td>2002</td>\n",
       "      <td>0</td>\n",
       "    </tr>\n",
       "    <tr>\n",
       "      <th>4</th>\n",
       "      <td>106</td>\n",
       "      <td>31</td>\n",
       "      <td>2000</td>\n",
       "      <td>1320.75</td>\n",
       "      <td>0</td>\n",
       "      <td>54100</td>\n",
       "      <td>0</td>\n",
       "      <td>20</td>\n",
       "      <td>3</td>\n",
       "      <td>0</td>\n",
       "      <td>3</td>\n",
       "      <td>45630</td>\n",
       "      <td>5070</td>\n",
       "      <td>5070</td>\n",
       "      <td>35490</td>\n",
       "      <td>2011</td>\n",
       "      <td>0</td>\n",
       "    </tr>\n",
       "  </tbody>\n",
       "</table>\n",
       "</div>"
      ],
      "text/plain": [
       "   months_as_customer  age  policy_deductable  policy_annual_premium  \\\n",
       "0                 129   28               1000                1377.94   \n",
       "1                 210   41                500                1222.75   \n",
       "2                  85   25                500                1259.02   \n",
       "3                 429   56               1000                1127.89   \n",
       "4                 106   31               2000                1320.75   \n",
       "\n",
       "   umbrella_limit  capital-gains  capital-loss  incident_hour_of_the_day  \\\n",
       "0               0              0             0                        23   \n",
       "1               0              0        -41000                        12   \n",
       "2               0          67000        -53600                         8   \n",
       "3         6000000          67400        -43800                         0   \n",
       "4               0          54100             0                        20   \n",
       "\n",
       "   number_of_vehicles_involved  bodily_injuries  witnesses  \\\n",
       "0                            1                2          3   \n",
       "1                            3                2          0   \n",
       "2                            1                2          2   \n",
       "3                            1                2          0   \n",
       "4                            3                0          3   \n",
       "\n",
       "   total_claim_amount  injury_claim  property_claim  vehicle_claim  auto_year  \\\n",
       "0               44640          9920            4960          29760       2005   \n",
       "1               81070         14740           14740          51590       2001   \n",
       "2                5640           940             940           3760       2005   \n",
       "3               39480          6580            6580          26320       2002   \n",
       "4               45630          5070            5070          35490       2011   \n",
       "\n",
       "   fraud_reported  \n",
       "0               0  \n",
       "1               0  \n",
       "2               0  \n",
       "3               0  \n",
       "4               0  "
      ]
     },
     "execution_count": 40,
     "metadata": {},
     "output_type": "execute_result"
    }
   ],
   "source": [
    "# Visualise the relationship between numerical features and the target variable to understand their impact on the target outcome\n",
    "numerical_columns = X_train.select_dtypes('number').columns\n",
    "train_data = pd.concat([X_train[numerical_columns], y_train], axis=1)\n",
    "train_data.head()"
   ]
  },
  {
   "cell_type": "code",
   "execution_count": 41,
   "metadata": {},
   "outputs": [
    {
     "data": {
      "image/png": "[encoded data removed]",
      "text/plain": [
       "<Figure size 360x216 with 1 Axes>"
      ]
     },
     "metadata": {
      "needs_background": "light"
     },
     "output_type": "display_data"
    },
    {
     "data": {
      "image/png": "[encoded data removed]",
      "text/plain": [
       "<Figure size 360x216 with 1 Axes>"
      ]
     },
     "metadata": {
      "needs_background": "light"
     },
     "output_type": "display_data"
    },
    {
     "data": {
      "image/png": "[encoded data removed]",
      "text/plain": [
       "<Figure size 360x216 with 1 Axes>"
      ]
     },
     "metadata": {
      "needs_background": "light"
     },
     "output_type": "display_data"
    },
    {
     "data": {
      "image/png": "[encoded data removed]",
      "text/plain": [
       "<Figure size 360x216 with 1 Axes>"
      ]
     },
     "metadata": {
      "needs_background": "light"
     },
     "output_type": "display_data"
    },
    {
     "data": {
      "image/png": "[encoded data removed]",
      "text/plain": [
       "<Figure size 360x216 with 1 Axes>"
      ]
     },
     "metadata": {
      "needs_background": "light"
     },
     "output_type": "display_data"
    },
    {
     "data": {
      "image/png": "[encoded data removed]",
      "text/plain": [
       "<Figure size 360x216 with 1 Axes>"
      ]
     },
     "metadata": {
      "needs_background": "light"
     },
     "output_type": "display_data"
    },
    {
     "data": {
      "image/png": "[encoded data removed]",
      "text/plain": [
       "<Figure size 360x216 with 1 Axes>"
      ]
     },
     "metadata": {
      "needs_background": "light"
     },
     "output_type": "display_data"
    },
    {
     "data": {
      "image/png": "[encoded data removed]",
      "text/plain": [
       "<Figure size 360x216 with 1 Axes>"
      ]
     },
     "metadata": {
      "needs_background": "light"
     },
     "output_type": "display_data"
    },
    {
     "data": {
      "image/png": "[encoded data removed]",
      "text/plain": [
       "<Figure size 360x216 with 1 Axes>"
      ]
     },
     "metadata": {
      "needs_background": "light"
     },
     "output_type": "display_data"
    },
    {
     "data": {
      "image/png": "[encoded data removed]",
      "text/plain": [
       "<Figure size 360x216 with 1 Axes>"
      ]
     },
     "metadata": {
      "needs_background": "light"
     },
     "output_type": "display_data"
    },
    {
     "data": {
      "image/png": "[encoded data removed]",
      "text/plain": [
       "<Figure size 360x216 with 1 Axes>"
      ]
     },
     "metadata": {
      "needs_background": "light"
     },
     "output_type": "display_data"
    },
    {
     "data": {
      "image/png": "[encoded data removed]",
      "text/plain": [
       "<Figure size 360x216 with 1 Axes>"
      ]
     },
     "metadata": {
      "needs_background": "light"
     },
     "output_type": "display_data"
    },
    {
     "data": {
      "image/png": "[encoded data removed]",
      "text/plain": [
       "<Figure size 360x216 with 1 Axes>"
      ]
     },
     "metadata": {
      "needs_background": "light"
     },
     "output_type": "display_data"
    },
    {
     "data": {
      "image/png": "[encoded data removed]",
      "text/plain": [
       "<Figure size 360x216 with 1 Axes>"
      ]
     },
     "metadata": {
      "needs_background": "light"
     },
     "output_type": "display_data"
    },
    {
     "data": {
      "image/png": "[encoded data removed]",
      "text/plain": [
       "<Figure size 360x216 with 1 Axes>"
      ]
     },
     "metadata": {
      "needs_background": "light"
     },
     "output_type": "display_data"
    },
    {
     "data": {
      "image/png": "[encoded data removed]",
      "text/plain": [
       "<Figure size 360x216 with 1 Axes>"
      ]
     },
     "metadata": {
      "needs_background": "light"
     },
     "output_type": "display_data"
    }
   ],
   "source": [
    "for col in numerical_columns: \n",
    "    plt.figure(figsize=(5,3)) \n",
    "    sns.scatterplot(x=train_data[col],y=train_data['fraud_reported'],palette=\"Set2\")      # palette=\"Set2\" gives colored graph\n",
    "    plt.show()"
   ]
  },
  {
   "cell_type": "markdown",
   "metadata": {
    "id": "OVV4m9OiDPWo"
   },
   "source": [
    "## **5. EDA on validation data** <font color = red>[OPTIONAL]</font>"
   ]
  },
  {
   "cell_type": "markdown",
   "metadata": {
    "id": "hvF11y45DPWo"
   },
   "source": [
    "### **5.1 Perform univariate analysis**"
   ]
  },
  {
   "cell_type": "markdown",
   "metadata": {
    "id": "krLtfiOBDPWo"
   },
   "source": [
    "#### **5.1.1** Identify and select numerical columns from training data for univariate analysis."
   ]
  },
  {
   "cell_type": "code",
   "execution_count": 42,
   "metadata": {
    "id": "RURn5Dp1DPWo"
   },
   "outputs": [],
   "source": [
    "# Select numerical columns\n"
   ]
  },
  {
   "cell_type": "markdown",
   "metadata": {
    "id": "a41PWZrNDPWp"
   },
   "source": [
    "#### **5.1.2** Visualise the distribution of selected numerical features using appropriate plots to understand their characteristics."
   ]
  },
  {
   "cell_type": "code",
   "execution_count": 43,
   "metadata": {
    "id": "DUoPrry8DPWp"
   },
   "outputs": [],
   "source": [
    "# Plot all the numerical columns to understand their distribution\n"
   ]
  },
  {
   "cell_type": "markdown",
   "metadata": {
    "id": "OhvTVXiwDPWp"
   },
   "source": [
    "### **5.2 Perform correlation analysis**"
   ]
  },
  {
   "cell_type": "markdown",
   "metadata": {
    "id": "F5tDAjsNDPWp"
   },
   "source": [
    " Investigate the relationships between numerical features to identify potential multicollinearity or dependencies. Visualise the correlation structure using an appropriate method to gain insights into feature relationships."
   ]
  },
  {
   "cell_type": "code",
   "execution_count": 44,
   "metadata": {
    "id": "C-b6CSy1DPWp"
   },
   "outputs": [],
   "source": [
    "# Create correlation matrix for numerical columns\n",
    "\n",
    "# Plot Heatmap of the correlation matrix\n"
   ]
  },
  {
   "cell_type": "markdown",
   "metadata": {
    "id": "N2ww_JH7DPWp"
   },
   "source": [
    "### **5.3 Check class balance**"
   ]
  },
  {
   "cell_type": "markdown",
   "metadata": {
    "id": "ddcn-VSADPWp"
   },
   "source": [
    "Examine the distribution of the target variable to identify potential class imbalances. Visualise the distribution for better understanding."
   ]
  },
  {
   "cell_type": "code",
   "execution_count": 45,
   "metadata": {
    "id": "5Yvfw9F2DPWq"
   },
   "outputs": [],
   "source": [
    "# Plot a bar chart to check class balance\n"
   ]
  },
  {
   "cell_type": "markdown",
   "metadata": {
    "id": "_pDlcXHxDPWq"
   },
   "source": [
    "### **5.4 Perform bivariate analysis**"
   ]
  },
  {
   "cell_type": "markdown",
   "metadata": {
    "id": "F0UT1kLHDPWq"
   },
   "source": [
    "#### **5.4.1** Target likelihood analysis for categorical variables.\n",
    "Investigate the relationships between categorical features and the target variable by analysing the target event likelihood (for the `'Y'` event) for each level of every relevant categorical feature. Through this analysis, identify categorical features that do not contribute much in explaining the variation in the target variable."
   ]
  },
  {
   "cell_type": "code",
   "execution_count": 46,
   "metadata": {
    "id": "XMe7hHDcDPWr"
   },
   "outputs": [],
   "source": [
    "# Write a function to calculate and analyse the target variable likelihood for categorical features\n"
   ]
  },
  {
   "cell_type": "markdown",
   "metadata": {
    "id": "gCNILHjCDPWr"
   },
   "source": [
    "#### **5.4.2** Explore the relationships between numerical features and the target variable to understand their impact on the target outcome. Utilise appropriate visualisation techniques to identify trends and potential interactions."
   ]
  },
  {
   "cell_type": "code",
   "execution_count": 47,
   "metadata": {
    "id": "NhQl8TJ9DPWr"
   },
   "outputs": [],
   "source": [
    "# Visualise the relationship between numerical features and the target variable to understand their impact on the target outcome\n"
   ]
  },
  {
   "cell_type": "markdown",
   "metadata": {
    "id": "TVb5a63HDPWr"
   },
   "source": [
    "## **6. Feature Engineering** <font color = red>[25 marks]</font>"
   ]
  },
  {
   "cell_type": "markdown",
   "metadata": {
    "id": "F1-lpq1iDPWs"
   },
   "source": [
    "### **6.1 Perform resampling** <font color=\"red\">[3 Marks]</font>"
   ]
  },
  {
   "cell_type": "markdown",
   "metadata": {
    "id": "vV6fEzAADPWs"
   },
   "source": [
    "Handle class imbalance in the training data by applying resampling technique.\n",
    "\n",
    "Use the **RandomOverSampler** technique to balance the data and handle class imbalance. This method increases the number of samples in the minority class by randomly duplicating them, creating synthetic data points with similar characteristics. This helps prevent the model from being biased toward the majority class and improves its ability to predict the minority class more accurately.\n",
    "\n",
    "**Note:** You can try other resampling techniques to handle class imbalance"
   ]
  },
  {
   "cell_type": "markdown",
   "metadata": {},
   "source": [
    "### \n",
    "<font color=\"green\">As the data is biased towards non-fradulent cases, increase the fraud cases by oversampling the minority class by creating extra samples</font>"
   ]
  },
  {
   "cell_type": "code",
   "execution_count": 48,
   "metadata": {
    "id": "ijz0X5bGDPWs"
   },
   "outputs": [
    {
     "name": "stdout",
     "output_type": "stream",
     "text": [
      "Original Training Set Distribution:\n",
      "0    526\n",
      "1    173\n",
      "Name: fraud_reported, dtype: int64\n",
      "\n",
      "Resampled Training Set Distribution:\n",
      "0    526\n",
      "1    526\n",
      "Name: fraud_reported, dtype: int64\n"
     ]
    }
   ],
   "source": [
    "# Import RandomOverSampler from imblearn library\n",
    "from imblearn.over_sampling import RandomOverSampler\n",
    "\n",
    "# Perform resampling on training data\n",
    "rand_os = RandomOverSampler(sampling_strategy='auto', random_state=42)\n",
    "X_train_resampled, y_train_resampled = rand_os.fit_resample(X_train, y_train)\n",
    "\n",
    "print(\"Original Training Set Distribution:\")\n",
    "print(y_train.value_counts())\n",
    "print(\"\\nResampled Training Set Distribution:\")\n",
    "print(y_train_resampled.value_counts())"
   ]
  },
  {
   "cell_type": "markdown",
   "metadata": {
    "id": "IQ7nY4SLDPWs"
   },
   "source": [
    "### **6.2 Feature Creation** <font color=\"red\">[4 marks]</font>"
   ]
  },
  {
   "cell_type": "markdown",
   "metadata": {
    "id": "PdDUn_sVDPWs"
   },
   "source": [
    "Create new features from existing ones to enhance the model's ability to capture patterns in the data. This may involve deriving features from date/time columns, combining features, or creating interaction terms."
   ]
  },
  {
   "cell_type": "code",
   "execution_count": 49,
   "metadata": {},
   "outputs": [
    {
     "name": "stdout",
     "output_type": "stream",
     "text": [
      "<class 'pandas.core.frame.DataFrame'>\n",
      "RangeIndex: 1052 entries, 0 to 1051\n",
      "Data columns (total 35 columns):\n",
      " #   Column                       Non-Null Count  Dtype         \n",
      "---  ------                       --------------  -----         \n",
      " 0   months_as_customer           1052 non-null   int64         \n",
      " 1   age                          1052 non-null   int64         \n",
      " 2   policy_bind_date             1052 non-null   datetime64[ns]\n",
      " 3   policy_state                 1052 non-null   object        \n",
      " 4   policy_csl                   1052 non-null   object        \n",
      " 5   policy_deductable            1052 non-null   int64         \n",
      " 6   policy_annual_premium        1052 non-null   float64       \n",
      " 7   umbrella_limit               1052 non-null   int64         \n",
      " 8   insured_sex                  1052 non-null   object        \n",
      " 9   insured_education_level      1052 non-null   object        \n",
      " 10  insured_occupation           1052 non-null   object        \n",
      " 11  insured_hobbies              1052 non-null   object        \n",
      " 12  insured_relationship         1052 non-null   object        \n",
      " 13  capital-gains                1052 non-null   int64         \n",
      " 14  capital-loss                 1052 non-null   int64         \n",
      " 15  incident_date                1052 non-null   datetime64[ns]\n",
      " 16  incident_type                1052 non-null   object        \n",
      " 17  collision_type               1052 non-null   object        \n",
      " 18  incident_severity            1052 non-null   object        \n",
      " 19  authorities_contacted        1052 non-null   object        \n",
      " 20  incident_state               1052 non-null   object        \n",
      " 21  incident_city                1052 non-null   object        \n",
      " 22  incident_hour_of_the_day     1052 non-null   int64         \n",
      " 23  number_of_vehicles_involved  1052 non-null   int64         \n",
      " 24  property_damage              1052 non-null   object        \n",
      " 25  bodily_injuries              1052 non-null   int64         \n",
      " 26  witnesses                    1052 non-null   int64         \n",
      " 27  police_report_available      1052 non-null   object        \n",
      " 28  total_claim_amount           1052 non-null   int64         \n",
      " 29  injury_claim                 1052 non-null   int64         \n",
      " 30  property_claim               1052 non-null   int64         \n",
      " 31  vehicle_claim                1052 non-null   int64         \n",
      " 32  auto_make                    1052 non-null   object        \n",
      " 33  auto_model                   1052 non-null   object        \n",
      " 34  auto_year                    1052 non-null   int64         \n",
      "dtypes: datetime64[ns](2), float64(1), int64(15), object(17)\n",
      "memory usage: 287.8+ KB\n"
     ]
    }
   ],
   "source": [
    "X_train_resampled.info()"
   ]
  },
  {
   "cell_type": "code",
   "execution_count": 50,
   "metadata": {
    "id": "beiDdjl7DPWs"
   },
   "outputs": [
    {
     "data": {
      "text/plain": [
       "<bound method IndexOpsMixin.nunique of 0       True\n",
       "1       True\n",
       "2       True\n",
       "3       True\n",
       "4       True\n",
       "        ... \n",
       "1047    True\n",
       "1048    True\n",
       "1049    True\n",
       "1050    True\n",
       "1051    True\n",
       "Length: 1052, dtype: bool>"
      ]
     },
     "execution_count": 50,
     "metadata": {},
     "output_type": "execute_result"
    }
   ],
   "source": [
    "# Create new features based on your understanding for both training and validation data\n",
    "\n",
    "X_train_resampled['incident_days_since_policy'] = (X_train_resampled['incident_date'] - X_train_resampled['policy_bind_date']).dt.days.abs()\n",
    "X_test['incident_days_since_policy'] = (X_test['incident_date'] - X_test['policy_bind_date']).dt.days.abs()\n",
    "\n",
    "is_total_claim_reduntant = X_train_resampled['injury_claim'] + X_train_resampled['property_claim'] + X_train_resampled['vehicle_claim'] == X_train_resampled['total_claim_amount']\n",
    "is_total_claim_reduntant.nunique"
   ]
  },
  {
   "cell_type": "markdown",
   "metadata": {
    "id": "NbQ6FhLUDPWt"
   },
   "source": [
    "### **6.3 Handle redundant columns** <font color=\"red\">[3 marks]</font>"
   ]
  },
  {
   "cell_type": "markdown",
   "metadata": {
    "id": "zs_uzd9VDPWt"
   },
   "source": [
    "Analyse the data to identify features that may be redundant or contribute minimal information toward predicting the target variable and drop them.\n",
    "\n",
    "- You can consider features that exhibit high correlation with other variables, which you may have observed during the EDA phase.\n",
    "- Features that don't strongly influence the prediction, which you may have observed during the EDA phase.\n",
    "- Categorical columns with low value counts for some levels can be remapped to reduce number of unique levels, and features with very high counts for just one level may be removed, as they resemble unique identifier columns and do not provide substantial predictive value.\n",
    "- Additionally, eliminate any columns from which the necessary features have already been extracted in the preceding step."
   ]
  },
  {
   "cell_type": "code",
   "execution_count": 51,
   "metadata": {},
   "outputs": [
    {
     "data": {
      "text/html": [
       "<div>\n",
       "<style scoped>\n",
       "    .dataframe tbody tr th:only-of-type {\n",
       "        vertical-align: middle;\n",
       "    }\n",
       "\n",
       "    .dataframe tbody tr th {\n",
       "        vertical-align: top;\n",
       "    }\n",
       "\n",
       "    .dataframe thead th {\n",
       "        text-align: right;\n",
       "    }\n",
       "</style>\n",
       "<table border=\"1\" class=\"dataframe\">\n",
       "  <thead>\n",
       "    <tr style=\"text-align: right;\">\n",
       "      <th></th>\n",
       "      <th>Features</th>\n",
       "      <th>VIF</th>\n",
       "    </tr>\n",
       "  </thead>\n",
       "  <tbody>\n",
       "    <tr>\n",
       "      <th>14</th>\n",
       "      <td>vehicle_claim</td>\n",
       "      <td>inf</td>\n",
       "    </tr>\n",
       "    <tr>\n",
       "      <th>13</th>\n",
       "      <td>property_claim</td>\n",
       "      <td>inf</td>\n",
       "    </tr>\n",
       "    <tr>\n",
       "      <th>12</th>\n",
       "      <td>injury_claim</td>\n",
       "      <td>inf</td>\n",
       "    </tr>\n",
       "    <tr>\n",
       "      <th>11</th>\n",
       "      <td>total_claim_amount</td>\n",
       "      <td>inf</td>\n",
       "    </tr>\n",
       "    <tr>\n",
       "      <th>1</th>\n",
       "      <td>age</td>\n",
       "      <td>144.29</td>\n",
       "    </tr>\n",
       "    <tr>\n",
       "      <th>15</th>\n",
       "      <td>auto_year</td>\n",
       "      <td>96.31</td>\n",
       "    </tr>\n",
       "    <tr>\n",
       "      <th>0</th>\n",
       "      <td>months_as_customer</td>\n",
       "      <td>31.70</td>\n",
       "    </tr>\n",
       "    <tr>\n",
       "      <th>3</th>\n",
       "      <td>policy_annual_premium</td>\n",
       "      <td>29.61</td>\n",
       "    </tr>\n",
       "    <tr>\n",
       "      <th>8</th>\n",
       "      <td>number_of_vehicles_involved</td>\n",
       "      <td>4.94</td>\n",
       "    </tr>\n",
       "    <tr>\n",
       "      <th>2</th>\n",
       "      <td>policy_deductable</td>\n",
       "      <td>4.75</td>\n",
       "    </tr>\n",
       "    <tr>\n",
       "      <th>7</th>\n",
       "      <td>incident_hour_of_the_day</td>\n",
       "      <td>4.20</td>\n",
       "    </tr>\n",
       "    <tr>\n",
       "      <th>16</th>\n",
       "      <td>incident_days_since_policy</td>\n",
       "      <td>4.10</td>\n",
       "    </tr>\n",
       "    <tr>\n",
       "      <th>10</th>\n",
       "      <td>witnesses</td>\n",
       "      <td>2.89</td>\n",
       "    </tr>\n",
       "    <tr>\n",
       "      <th>9</th>\n",
       "      <td>bodily_injuries</td>\n",
       "      <td>2.55</td>\n",
       "    </tr>\n",
       "    <tr>\n",
       "      <th>6</th>\n",
       "      <td>capital-loss</td>\n",
       "      <td>1.97</td>\n",
       "    </tr>\n",
       "    <tr>\n",
       "      <th>5</th>\n",
       "      <td>capital-gains</td>\n",
       "      <td>1.97</td>\n",
       "    </tr>\n",
       "    <tr>\n",
       "      <th>4</th>\n",
       "      <td>umbrella_limit</td>\n",
       "      <td>1.29</td>\n",
       "    </tr>\n",
       "  </tbody>\n",
       "</table>\n",
       "</div>"
      ],
      "text/plain": [
       "                       Features     VIF\n",
       "14                vehicle_claim     inf\n",
       "13               property_claim     inf\n",
       "12                 injury_claim     inf\n",
       "11           total_claim_amount     inf\n",
       "1                           age  144.29\n",
       "15                    auto_year   96.31\n",
       "0            months_as_customer   31.70\n",
       "3         policy_annual_premium   29.61\n",
       "8   number_of_vehicles_involved    4.94\n",
       "2             policy_deductable    4.75\n",
       "7      incident_hour_of_the_day    4.20\n",
       "16   incident_days_since_policy    4.10\n",
       "10                    witnesses    2.89\n",
       "9               bodily_injuries    2.55\n",
       "6                  capital-loss    1.97\n",
       "5                 capital-gains    1.97\n",
       "4                umbrella_limit    1.29"
      ]
     },
     "execution_count": 51,
     "metadata": {},
     "output_type": "execute_result"
    }
   ],
   "source": [
    "from statsmodels.stats.outliers_influence import variance_inflation_factor\n",
    "\n",
    "numerical_columns = X_train_resampled.select_dtypes('number').columns\n",
    "vif = pd.DataFrame()\n",
    "vif['Features'] = numerical_columns\n",
    "vif['VIF'] = [variance_inflation_factor(X_train_resampled[numerical_columns].values, i) for i in range(X_train_resampled[numerical_columns].shape[1])]\n",
    "vif['VIF'] = round(vif['VIF'], 2)\n",
    "vif = vif.sort_values(by='VIF',ascending = False)\n",
    "vif"
   ]
  },
  {
   "cell_type": "code",
   "execution_count": 52,
   "metadata": {
    "id": "9Fy0Rw1BDPWt"
   },
   "outputs": [],
   "source": [
    "# Drop redundant columns from training and validation data\n",
    "X_train_resampled.drop([\"policy_bind_date\", \"incident_date\", \"vehicle_claim\", \"property_claim\", \"injury_claim\", \"age\", \"auto_model\"], axis =1, inplace=True)\n",
    "X_test.drop([\"policy_bind_date\", \"incident_date\", \"vehicle_claim\", \"property_claim\", \"injury_claim\", \"age\", \"auto_model\"], axis =1, inplace=True)\n",
    "\n",
    "# removed \"policy_bind_date\" and \"incident_date\" as they were used to derive incident_days_since_policy\n",
    "# \"vehicle_claim\", \"property_claim\", \"injury_claim\" are dropped as they are redundant due to total claim\n",
    "# \"age\" is dropped as it was highly correalted with \"months_as_customer\""
   ]
  },
  {
   "cell_type": "code",
   "execution_count": 53,
   "metadata": {},
   "outputs": [
    {
     "data": {
      "text/html": [
       "<div>\n",
       "<style scoped>\n",
       "    .dataframe tbody tr th:only-of-type {\n",
       "        vertical-align: middle;\n",
       "    }\n",
       "\n",
       "    .dataframe tbody tr th {\n",
       "        vertical-align: top;\n",
       "    }\n",
       "\n",
       "    .dataframe thead th {\n",
       "        text-align: right;\n",
       "    }\n",
       "</style>\n",
       "<table border=\"1\" class=\"dataframe\">\n",
       "  <thead>\n",
       "    <tr style=\"text-align: right;\">\n",
       "      <th></th>\n",
       "      <th>Features</th>\n",
       "      <th>VIF</th>\n",
       "    </tr>\n",
       "  </thead>\n",
       "  <tbody>\n",
       "    <tr>\n",
       "      <th>11</th>\n",
       "      <td>auto_year</td>\n",
       "      <td>50.24</td>\n",
       "    </tr>\n",
       "    <tr>\n",
       "      <th>2</th>\n",
       "      <td>policy_annual_premium</td>\n",
       "      <td>29.31</td>\n",
       "    </tr>\n",
       "    <tr>\n",
       "      <th>10</th>\n",
       "      <td>total_claim_amount</td>\n",
       "      <td>6.32</td>\n",
       "    </tr>\n",
       "    <tr>\n",
       "      <th>7</th>\n",
       "      <td>number_of_vehicles_involved</td>\n",
       "      <td>4.92</td>\n",
       "    </tr>\n",
       "    <tr>\n",
       "      <th>1</th>\n",
       "      <td>policy_deductable</td>\n",
       "      <td>4.74</td>\n",
       "    </tr>\n",
       "    <tr>\n",
       "      <th>0</th>\n",
       "      <td>months_as_customer</td>\n",
       "      <td>4.31</td>\n",
       "    </tr>\n",
       "    <tr>\n",
       "      <th>6</th>\n",
       "      <td>incident_hour_of_the_day</td>\n",
       "      <td>4.16</td>\n",
       "    </tr>\n",
       "    <tr>\n",
       "      <th>12</th>\n",
       "      <td>incident_days_since_policy</td>\n",
       "      <td>4.07</td>\n",
       "    </tr>\n",
       "    <tr>\n",
       "      <th>9</th>\n",
       "      <td>witnesses</td>\n",
       "      <td>2.84</td>\n",
       "    </tr>\n",
       "    <tr>\n",
       "      <th>8</th>\n",
       "      <td>bodily_injuries</td>\n",
       "      <td>2.55</td>\n",
       "    </tr>\n",
       "    <tr>\n",
       "      <th>4</th>\n",
       "      <td>capital-gains</td>\n",
       "      <td>1.97</td>\n",
       "    </tr>\n",
       "    <tr>\n",
       "      <th>5</th>\n",
       "      <td>capital-loss</td>\n",
       "      <td>1.96</td>\n",
       "    </tr>\n",
       "    <tr>\n",
       "      <th>3</th>\n",
       "      <td>umbrella_limit</td>\n",
       "      <td>1.29</td>\n",
       "    </tr>\n",
       "  </tbody>\n",
       "</table>\n",
       "</div>"
      ],
      "text/plain": [
       "                       Features    VIF\n",
       "11                    auto_year  50.24\n",
       "2         policy_annual_premium  29.31\n",
       "10           total_claim_amount   6.32\n",
       "7   number_of_vehicles_involved   4.92\n",
       "1             policy_deductable   4.74\n",
       "0            months_as_customer   4.31\n",
       "6      incident_hour_of_the_day   4.16\n",
       "12   incident_days_since_policy   4.07\n",
       "9                     witnesses   2.84\n",
       "8               bodily_injuries   2.55\n",
       "4                 capital-gains   1.97\n",
       "5                  capital-loss   1.96\n",
       "3                umbrella_limit   1.29"
      ]
     },
     "execution_count": 53,
     "metadata": {},
     "output_type": "execute_result"
    }
   ],
   "source": [
    "numerical_columns = X_train_resampled.select_dtypes('number').columns\n",
    "vif = pd.DataFrame()\n",
    "vif['Features'] = numerical_columns\n",
    "vif['VIF'] = [variance_inflation_factor(X_train_resampled[numerical_columns].values, i) for i in range(X_train_resampled[numerical_columns].shape[1])]\n",
    "vif['VIF'] = round(vif['VIF'], 2)\n",
    "vif = vif.sort_values(by='VIF',ascending = False)\n",
    "vif"
   ]
  },
  {
   "cell_type": "code",
   "execution_count": 54,
   "metadata": {
    "id": "RVYVBV27DPWt"
   },
   "outputs": [
    {
     "name": "stdout",
     "output_type": "stream",
     "text": [
      "<class 'pandas.core.frame.DataFrame'>\n",
      "RangeIndex: 1052 entries, 0 to 1051\n",
      "Data columns (total 29 columns):\n",
      " #   Column                       Non-Null Count  Dtype  \n",
      "---  ------                       --------------  -----  \n",
      " 0   months_as_customer           1052 non-null   int64  \n",
      " 1   policy_state                 1052 non-null   object \n",
      " 2   policy_csl                   1052 non-null   object \n",
      " 3   policy_deductable            1052 non-null   int64  \n",
      " 4   policy_annual_premium        1052 non-null   float64\n",
      " 5   umbrella_limit               1052 non-null   int64  \n",
      " 6   insured_sex                  1052 non-null   object \n",
      " 7   insured_education_level      1052 non-null   object \n",
      " 8   insured_occupation           1052 non-null   object \n",
      " 9   insured_hobbies              1052 non-null   object \n",
      " 10  insured_relationship         1052 non-null   object \n",
      " 11  capital-gains                1052 non-null   int64  \n",
      " 12  capital-loss                 1052 non-null   int64  \n",
      " 13  incident_type                1052 non-null   object \n",
      " 14  collision_type               1052 non-null   object \n",
      " 15  incident_severity            1052 non-null   object \n",
      " 16  authorities_contacted        1052 non-null   object \n",
      " 17  incident_state               1052 non-null   object \n",
      " 18  incident_city                1052 non-null   object \n",
      " 19  incident_hour_of_the_day     1052 non-null   int64  \n",
      " 20  number_of_vehicles_involved  1052 non-null   int64  \n",
      " 21  property_damage              1052 non-null   object \n",
      " 22  bodily_injuries              1052 non-null   int64  \n",
      " 23  witnesses                    1052 non-null   int64  \n",
      " 24  police_report_available      1052 non-null   object \n",
      " 25  total_claim_amount           1052 non-null   int64  \n",
      " 26  auto_make                    1052 non-null   object \n",
      " 27  auto_year                    1052 non-null   int64  \n",
      " 28  incident_days_since_policy   1052 non-null   int64  \n",
      "dtypes: float64(1), int64(12), object(16)\n",
      "memory usage: 238.5+ KB\n",
      "<class 'pandas.core.frame.DataFrame'>\n",
      "RangeIndex: 300 entries, 0 to 299\n",
      "Data columns (total 29 columns):\n",
      " #   Column                       Non-Null Count  Dtype  \n",
      "---  ------                       --------------  -----  \n",
      " 0   months_as_customer           300 non-null    int64  \n",
      " 1   policy_state                 300 non-null    object \n",
      " 2   policy_csl                   300 non-null    object \n",
      " 3   policy_deductable            300 non-null    int64  \n",
      " 4   policy_annual_premium        300 non-null    float64\n",
      " 5   umbrella_limit               300 non-null    int64  \n",
      " 6   insured_sex                  300 non-null    object \n",
      " 7   insured_education_level      300 non-null    object \n",
      " 8   insured_occupation           300 non-null    object \n",
      " 9   insured_hobbies              300 non-null    object \n",
      " 10  insured_relationship         300 non-null    object \n",
      " 11  capital-gains                300 non-null    int64  \n",
      " 12  capital-loss                 300 non-null    int64  \n",
      " 13  incident_type                300 non-null    object \n",
      " 14  collision_type               300 non-null    object \n",
      " 15  incident_severity            300 non-null    object \n",
      " 16  authorities_contacted        300 non-null    object \n",
      " 17  incident_state               300 non-null    object \n",
      " 18  incident_city                300 non-null    object \n",
      " 19  incident_hour_of_the_day     300 non-null    int64  \n",
      " 20  number_of_vehicles_involved  300 non-null    int64  \n",
      " 21  property_damage              300 non-null    object \n",
      " 22  bodily_injuries              300 non-null    int64  \n",
      " 23  witnesses                    300 non-null    int64  \n",
      " 24  police_report_available      300 non-null    object \n",
      " 25  total_claim_amount           300 non-null    int64  \n",
      " 26  auto_make                    300 non-null    object \n",
      " 27  auto_year                    300 non-null    int64  \n",
      " 28  incident_days_since_policy   300 non-null    int64  \n",
      "dtypes: float64(1), int64(12), object(16)\n",
      "memory usage: 68.1+ KB\n"
     ]
    }
   ],
   "source": [
    "# Check the data\n",
    "X_train_resampled.info()\n",
    "X_test.info()"
   ]
  },
  {
   "cell_type": "markdown",
   "metadata": {
    "id": "SxA7dZ0UDPWt"
   },
   "source": [
    "### **6.4 Combine values in Categorical Columns** <font color=\"red\">[6 Marks]</font>\n",
    "During the EDA process, categorical columns with multiple unique values may be identified. To enhance model performance, it is essential to refine these categorical features by grouping values that have low frequency or provide limited predictive information.\n",
    "\n",
    "Combine categories that occur infrequently or exhibit similar behavior to reduce sparsity and improve model generalisation."
   ]
  },
  {
   "cell_type": "code",
   "execution_count": 55,
   "metadata": {},
   "outputs": [
    {
     "data": {
      "text/plain": [
       "Index(['policy_state', 'policy_csl', 'insured_sex', 'insured_education_level',\n",
       "       'insured_occupation', 'insured_hobbies', 'insured_relationship',\n",
       "       'incident_type', 'collision_type', 'incident_severity',\n",
       "       'authorities_contacted', 'incident_state', 'incident_city',\n",
       "       'property_damage', 'police_report_available', 'auto_make'],\n",
       "      dtype='object')"
      ]
     },
     "execution_count": 55,
     "metadata": {},
     "output_type": "execute_result"
    }
   ],
   "source": [
    "categorical_cols = X_train_resampled.select_dtypes('object').columns\n",
    "categorical_cols"
   ]
  },
  {
   "cell_type": "code",
   "execution_count": 56,
   "metadata": {},
   "outputs": [],
   "source": [
    "remaining_features = X_train_resampled[categorical_cols]\n",
    "remaining_features = remaining_features.drop(['incident_state', 'authorities_contacted'], axis = 1)"
   ]
  },
  {
   "cell_type": "code",
   "execution_count": 57,
   "metadata": {},
   "outputs": [],
   "source": [
    "X_train_resampled = X_train_resampled.drop(remaining_features.columns, axis =1)"
   ]
  },
  {
   "cell_type": "code",
   "execution_count": 58,
   "metadata": {},
   "outputs": [],
   "source": [
    "X_test = X_test.drop(remaining_features.columns, axis =1)"
   ]
  },
  {
   "cell_type": "code",
   "execution_count": 59,
   "metadata": {},
   "outputs": [
    {
     "name": "stdout",
     "output_type": "stream",
     "text": [
      "<class 'pandas.core.frame.DataFrame'>\n",
      "RangeIndex: 1052 entries, 0 to 1051\n",
      "Data columns (total 15 columns):\n",
      " #   Column                       Non-Null Count  Dtype  \n",
      "---  ------                       --------------  -----  \n",
      " 0   months_as_customer           1052 non-null   int64  \n",
      " 1   policy_deductable            1052 non-null   int64  \n",
      " 2   policy_annual_premium        1052 non-null   float64\n",
      " 3   umbrella_limit               1052 non-null   int64  \n",
      " 4   capital-gains                1052 non-null   int64  \n",
      " 5   capital-loss                 1052 non-null   int64  \n",
      " 6   authorities_contacted        1052 non-null   object \n",
      " 7   incident_state               1052 non-null   object \n",
      " 8   incident_hour_of_the_day     1052 non-null   int64  \n",
      " 9   number_of_vehicles_involved  1052 non-null   int64  \n",
      " 10  bodily_injuries              1052 non-null   int64  \n",
      " 11  witnesses                    1052 non-null   int64  \n",
      " 12  total_claim_amount           1052 non-null   int64  \n",
      " 13  auto_year                    1052 non-null   int64  \n",
      " 14  incident_days_since_policy   1052 non-null   int64  \n",
      "dtypes: float64(1), int64(12), object(2)\n",
      "memory usage: 123.4+ KB\n"
     ]
    }
   ],
   "source": [
    "X_train_resampled.info()"
   ]
  },
  {
   "cell_type": "code",
   "execution_count": 60,
   "metadata": {},
   "outputs": [
    {
     "name": "stdout",
     "output_type": "stream",
     "text": [
      "<class 'pandas.core.frame.DataFrame'>\n",
      "RangeIndex: 300 entries, 0 to 299\n",
      "Data columns (total 15 columns):\n",
      " #   Column                       Non-Null Count  Dtype  \n",
      "---  ------                       --------------  -----  \n",
      " 0   months_as_customer           300 non-null    int64  \n",
      " 1   policy_deductable            300 non-null    int64  \n",
      " 2   policy_annual_premium        300 non-null    float64\n",
      " 3   umbrella_limit               300 non-null    int64  \n",
      " 4   capital-gains                300 non-null    int64  \n",
      " 5   capital-loss                 300 non-null    int64  \n",
      " 6   authorities_contacted        300 non-null    object \n",
      " 7   incident_state               300 non-null    object \n",
      " 8   incident_hour_of_the_day     300 non-null    int64  \n",
      " 9   number_of_vehicles_involved  300 non-null    int64  \n",
      " 10  bodily_injuries              300 non-null    int64  \n",
      " 11  witnesses                    300 non-null    int64  \n",
      " 12  total_claim_amount           300 non-null    int64  \n",
      " 13  auto_year                    300 non-null    int64  \n",
      " 14  incident_days_since_policy   300 non-null    int64  \n",
      "dtypes: float64(1), int64(12), object(2)\n",
      "memory usage: 35.3+ KB\n"
     ]
    }
   ],
   "source": [
    "X_test.info()"
   ]
  },
  {
   "cell_type": "code",
   "execution_count": 61,
   "metadata": {},
   "outputs": [
    {
     "data": {
      "text/plain": [
       "Index(['authorities_contacted', 'incident_state'], dtype='object')"
      ]
     },
     "execution_count": 61,
     "metadata": {},
     "output_type": "execute_result"
    }
   ],
   "source": [
    "categorical_cols = X_train_resampled.select_dtypes('object').columns\n",
    "categorical_cols"
   ]
  },
  {
   "cell_type": "code",
   "execution_count": 62,
   "metadata": {
    "id": "-OF7Y35dDPWt"
   },
   "outputs": [],
   "source": [
    "# Combine categories that have low frequency or provide limited predictive information\n",
    "for col in categorical_cols:\n",
    "    category_counts = X_train_resampled[col].value_counts()/len(X_train_resampled)\n",
    "    threshold = 0.01 # using 1% as the minimum threshold for values. Such values will be replaced\n",
    "    rare_categories = category_counts[category_counts < threshold].index\n",
    "    X_train_resampled[col] = X_train_resampled[col].replace(rare_categories, 'rare_value')"
   ]
  },
  {
   "cell_type": "code",
   "execution_count": 63,
   "metadata": {},
   "outputs": [],
   "source": [
    "for col in categorical_cols:\n",
    "    category_counts = X_test[col].value_counts()/len(X_test)\n",
    "    threshold = 0.01 # using 1% as the minimum threshold for values. Such values will be replaced\n",
    "    rare_categories = category_counts[category_counts < threshold].index\n",
    "    X_test[col] = X_test[col].replace(rare_categories, 'rare_value')"
   ]
  },
  {
   "cell_type": "markdown",
   "metadata": {
    "id": "C2vnyJqYDPWt"
   },
   "source": [
    "### **6.5 Dummy variable creation** <font color=\"red\">[6 Marks]</font>\n",
    "Transform categorical variables into numerical representations using dummy variables. Ensure consistent encoding between training and validation data."
   ]
  },
  {
   "cell_type": "markdown",
   "metadata": {
    "id": "pQHnbRB_DPWt"
   },
   "source": [
    "#### **6.5.1** Identify categorical columns for dummy variable creation <font color=\"red\">[1 Mark]</font>"
   ]
  },
  {
   "cell_type": "code",
   "execution_count": 64,
   "metadata": {
    "id": "YCR73H4VDPWt"
   },
   "outputs": [
    {
     "data": {
      "text/plain": [
       "Index(['authorities_contacted', 'incident_state'], dtype='object')"
      ]
     },
     "execution_count": 64,
     "metadata": {},
     "output_type": "execute_result"
    }
   ],
   "source": [
    "# Identify the categorical columns for creating dummy variables\n",
    "categorical_cols = X_train_resampled.select_dtypes('object').columns\n",
    "categorical_cols"
   ]
  },
  {
   "cell_type": "markdown",
   "metadata": {
    "id": "ZcCgF0lsDPWu"
   },
   "source": [
    "#### **6.5.2** Create dummy variables for categorical columns in training data <font color=\"red\">[2 Marks]</font>"
   ]
  },
  {
   "cell_type": "code",
   "execution_count": 65,
   "metadata": {
    "id": "JA8seldpDPWu"
   },
   "outputs": [
    {
     "name": "stdout",
     "output_type": "stream",
     "text": [
      "Before encoding we have 15 features in train\n",
      "After encoding we have 23 features in train\n"
     ]
    }
   ],
   "source": [
    "# Create dummy variables using the 'get_dummies' for categorical columns in training data\n",
    "print('Before encoding we have {} features in train'.format(X_train_resampled.shape[1]))\n",
    "\n",
    "X_train_resampled = pd.get_dummies(X_train_resampled, columns=categorical_cols, drop_first=True)\n",
    "\n",
    "print('After encoding we have {} features in train'.format(X_train_resampled.shape[1]))"
   ]
  },
  {
   "cell_type": "code",
   "execution_count": 82,
   "metadata": {},
   "outputs": [
    {
     "data": {
      "text/plain": [
       "months_as_customer                int64\n",
       "policy_deductable                 int64\n",
       "policy_annual_premium           float64\n",
       "umbrella_limit                    int64\n",
       "capital-gains                     int64\n",
       "capital-loss                      int64\n",
       "incident_hour_of_the_day          int64\n",
       "number_of_vehicles_involved       int64\n",
       "bodily_injuries                   int64\n",
       "witnesses                         int64\n",
       "total_claim_amount                int64\n",
       "auto_year                         int64\n",
       "incident_days_since_policy        int64\n",
       "authorities_contacted_Fire        uint8\n",
       "authorities_contacted_None        uint8\n",
       "authorities_contacted_Other       uint8\n",
       "authorities_contacted_Police      uint8\n",
       "incident_state_NY                 uint8\n",
       "incident_state_OH                 uint8\n",
       "incident_state_PA                 uint8\n",
       "incident_state_SC                 uint8\n",
       "incident_state_VA                 uint8\n",
       "incident_state_WV                 uint8\n",
       "dtype: object"
      ]
     },
     "execution_count": 82,
     "metadata": {},
     "output_type": "execute_result"
    }
   ],
   "source": [
    "X_train_resampled.dtypes"
   ]
  },
  {
   "cell_type": "code",
   "execution_count": 66,
   "metadata": {},
   "outputs": [
    {
     "name": "stdout",
     "output_type": "stream",
     "text": [
      "<class 'pandas.core.frame.DataFrame'>\n",
      "RangeIndex: 1052 entries, 0 to 1051\n",
      "Data columns (total 23 columns):\n",
      " #   Column                        Non-Null Count  Dtype  \n",
      "---  ------                        --------------  -----  \n",
      " 0   months_as_customer            1052 non-null   int64  \n",
      " 1   policy_deductable             1052 non-null   int64  \n",
      " 2   policy_annual_premium         1052 non-null   float64\n",
      " 3   umbrella_limit                1052 non-null   int64  \n",
      " 4   capital-gains                 1052 non-null   int64  \n",
      " 5   capital-loss                  1052 non-null   int64  \n",
      " 6   incident_hour_of_the_day      1052 non-null   int64  \n",
      " 7   number_of_vehicles_involved   1052 non-null   int64  \n",
      " 8   bodily_injuries               1052 non-null   int64  \n",
      " 9   witnesses                     1052 non-null   int64  \n",
      " 10  total_claim_amount            1052 non-null   int64  \n",
      " 11  auto_year                     1052 non-null   int64  \n",
      " 12  incident_days_since_policy    1052 non-null   int64  \n",
      " 13  authorities_contacted_Fire    1052 non-null   uint8  \n",
      " 14  authorities_contacted_None    1052 non-null   uint8  \n",
      " 15  authorities_contacted_Other   1052 non-null   uint8  \n",
      " 16  authorities_contacted_Police  1052 non-null   uint8  \n",
      " 17  incident_state_NY             1052 non-null   uint8  \n",
      " 18  incident_state_OH             1052 non-null   uint8  \n",
      " 19  incident_state_PA             1052 non-null   uint8  \n",
      " 20  incident_state_SC             1052 non-null   uint8  \n",
      " 21  incident_state_VA             1052 non-null   uint8  \n",
      " 22  incident_state_WV             1052 non-null   uint8  \n",
      "dtypes: float64(1), int64(12), uint8(10)\n",
      "memory usage: 117.2 KB\n"
     ]
    }
   ],
   "source": [
    "X_train_resampled.info()"
   ]
  },
  {
   "cell_type": "markdown",
   "metadata": {
    "id": "cbLlOiYcDPWu"
   },
   "source": [
    "#### **6.5.3** Create dummy variables for categorical columns in validation data <font color=\"red\">[2 Marks]</font>"
   ]
  },
  {
   "cell_type": "code",
   "execution_count": 67,
   "metadata": {
    "id": "zvQ4n9yaDPWu"
   },
   "outputs": [
    {
     "name": "stdout",
     "output_type": "stream",
     "text": [
      "Before encoding we have 15 features in test\n",
      "After encoding we have 23 features in test\n"
     ]
    }
   ],
   "source": [
    "# Create dummy variables using the 'get_dummies' for categorical columns in validation data\n",
    "print('Before encoding we have {} features in test'.format(X_test.shape[1]))\n",
    "\n",
    "X_test = pd.get_dummies(X_test, columns=categorical_cols, drop_first=True)\n",
    "\n",
    "print('After encoding we have {} features in test'.format(X_test.shape[1]))"
   ]
  },
  {
   "cell_type": "code",
   "execution_count": 68,
   "metadata": {},
   "outputs": [
    {
     "name": "stdout",
     "output_type": "stream",
     "text": [
      "<class 'pandas.core.frame.DataFrame'>\n",
      "RangeIndex: 300 entries, 0 to 299\n",
      "Data columns (total 23 columns):\n",
      " #   Column                        Non-Null Count  Dtype  \n",
      "---  ------                        --------------  -----  \n",
      " 0   months_as_customer            300 non-null    int64  \n",
      " 1   policy_deductable             300 non-null    int64  \n",
      " 2   policy_annual_premium         300 non-null    float64\n",
      " 3   umbrella_limit                300 non-null    int64  \n",
      " 4   capital-gains                 300 non-null    int64  \n",
      " 5   capital-loss                  300 non-null    int64  \n",
      " 6   incident_hour_of_the_day      300 non-null    int64  \n",
      " 7   number_of_vehicles_involved   300 non-null    int64  \n",
      " 8   bodily_injuries               300 non-null    int64  \n",
      " 9   witnesses                     300 non-null    int64  \n",
      " 10  total_claim_amount            300 non-null    int64  \n",
      " 11  auto_year                     300 non-null    int64  \n",
      " 12  incident_days_since_policy    300 non-null    int64  \n",
      " 13  authorities_contacted_Fire    300 non-null    uint8  \n",
      " 14  authorities_contacted_None    300 non-null    uint8  \n",
      " 15  authorities_contacted_Other   300 non-null    uint8  \n",
      " 16  authorities_contacted_Police  300 non-null    uint8  \n",
      " 17  incident_state_NY             300 non-null    uint8  \n",
      " 18  incident_state_OH             300 non-null    uint8  \n",
      " 19  incident_state_PA             300 non-null    uint8  \n",
      " 20  incident_state_SC             300 non-null    uint8  \n",
      " 21  incident_state_VA             300 non-null    uint8  \n",
      " 22  incident_state_WV             300 non-null    uint8  \n",
      "dtypes: float64(1), int64(12), uint8(10)\n",
      "memory usage: 33.5 KB\n"
     ]
    }
   ],
   "source": [
    "X_test.info()"
   ]
  },
  {
   "cell_type": "markdown",
   "metadata": {
    "id": "tg5crIDKDPWu"
   },
   "source": [
    "#### **6.5.4** Create dummy variable for dependent feature in training and validation data <font color = \"red\">[1 Mark]</font>"
   ]
  },
  {
   "cell_type": "code",
   "execution_count": 83,
   "metadata": {
    "id": "LyreaJQXDPWu"
   },
   "outputs": [
    {
     "data": {
      "text/plain": [
       "0      0\n",
       "1      0\n",
       "2      0\n",
       "3      0\n",
       "4      0\n",
       "      ..\n",
       "295    0\n",
       "296    1\n",
       "297    0\n",
       "298    0\n",
       "299    0\n",
       "Name: fraud_reported, Length: 300, dtype: int64"
      ]
     },
     "execution_count": 83,
     "metadata": {},
     "output_type": "execute_result"
    }
   ],
   "source": [
    "# Create dummy variable for dependent feature in training data\n",
    "# The target variable is already 0 OR 1. No dummification needed.\n",
    "y_train_resampled\n",
    "# Create dummy variable for dependent feature in validation data\n",
    "y_test #= y_test.map({'Y': 1, 'N': 0})"
   ]
  },
  {
   "cell_type": "markdown",
   "metadata": {
    "id": "USXyE8QSDPWu"
   },
   "source": [
    "### **6.6 Feature scaling** <font color = red>[3 marks]</font>\n",
    "Scale numerical features to a common range to prevent features with larger values from dominating the model.  Choose a scaling method appropriate for the data and the chosen model. Apply the same scaling to both training and validation data."
   ]
  },
  {
   "cell_type": "code",
   "execution_count": 70,
   "metadata": {
    "id": "VfE4LXqXDPWu"
   },
   "outputs": [],
   "source": [
    "# Import the necessary scaling tool from scikit-learn\n",
    "from sklearn.preprocessing import StandardScaler\n",
    "from sklearn.preprocessing import MinMaxScaler\n",
    "\n",
    "scalar = MinMaxScaler()\n",
    "\n",
    "# Scale the numeric features present in the training data\n",
    "\n",
    "X_train_scaled = scalar.fit_transform(X_train_resampled)\n",
    "X_train_scaled = pd.DataFrame(X_train_scaled,columns=X_train_resampled.columns)\n",
    "\n",
    "# Scale the numeric features present in the validation data\n",
    "X_test_scaled = scalar.transform(X_test)\n",
    "X_test_scaled = pd.DataFrame(X_test_scaled,columns=X_test.columns)"
   ]
  },
  {
   "cell_type": "code",
   "execution_count": 71,
   "metadata": {},
   "outputs": [
    {
     "data": {
      "text/html": [
       "<div>\n",
       "<style scoped>\n",
       "    .dataframe tbody tr th:only-of-type {\n",
       "        vertical-align: middle;\n",
       "    }\n",
       "\n",
       "    .dataframe tbody tr th {\n",
       "        vertical-align: top;\n",
       "    }\n",
       "\n",
       "    .dataframe thead th {\n",
       "        text-align: right;\n",
       "    }\n",
       "</style>\n",
       "<table border=\"1\" class=\"dataframe\">\n",
       "  <thead>\n",
       "    <tr style=\"text-align: right;\">\n",
       "      <th></th>\n",
       "      <th>months_as_customer</th>\n",
       "      <th>policy_deductable</th>\n",
       "      <th>policy_annual_premium</th>\n",
       "      <th>umbrella_limit</th>\n",
       "      <th>capital-gains</th>\n",
       "      <th>capital-loss</th>\n",
       "      <th>incident_hour_of_the_day</th>\n",
       "      <th>number_of_vehicles_involved</th>\n",
       "      <th>bodily_injuries</th>\n",
       "      <th>witnesses</th>\n",
       "      <th>...</th>\n",
       "      <th>authorities_contacted_Fire</th>\n",
       "      <th>authorities_contacted_None</th>\n",
       "      <th>authorities_contacted_Other</th>\n",
       "      <th>authorities_contacted_Police</th>\n",
       "      <th>incident_state_NY</th>\n",
       "      <th>incident_state_OH</th>\n",
       "      <th>incident_state_PA</th>\n",
       "      <th>incident_state_SC</th>\n",
       "      <th>incident_state_VA</th>\n",
       "      <th>incident_state_WV</th>\n",
       "    </tr>\n",
       "  </thead>\n",
       "  <tbody>\n",
       "    <tr>\n",
       "      <th>0</th>\n",
       "      <td>0.956159</td>\n",
       "      <td>0.333333</td>\n",
       "      <td>0.775811</td>\n",
       "      <td>0.0</td>\n",
       "      <td>0.312438</td>\n",
       "      <td>1.000000</td>\n",
       "      <td>1.000000</td>\n",
       "      <td>0.000000</td>\n",
       "      <td>1.0</td>\n",
       "      <td>0.666667</td>\n",
       "      <td>...</td>\n",
       "      <td>0.0</td>\n",
       "      <td>0.0</td>\n",
       "      <td>0.0</td>\n",
       "      <td>1.0</td>\n",
       "      <td>0.0</td>\n",
       "      <td>0.0</td>\n",
       "      <td>0.0</td>\n",
       "      <td>0.0</td>\n",
       "      <td>1.0</td>\n",
       "      <td>0.0</td>\n",
       "    </tr>\n",
       "    <tr>\n",
       "      <th>1</th>\n",
       "      <td>0.490605</td>\n",
       "      <td>0.000000</td>\n",
       "      <td>0.396027</td>\n",
       "      <td>0.0</td>\n",
       "      <td>0.397015</td>\n",
       "      <td>0.458146</td>\n",
       "      <td>0.304348</td>\n",
       "      <td>1.000000</td>\n",
       "      <td>1.0</td>\n",
       "      <td>0.333333</td>\n",
       "      <td>...</td>\n",
       "      <td>0.0</td>\n",
       "      <td>0.0</td>\n",
       "      <td>1.0</td>\n",
       "      <td>0.0</td>\n",
       "      <td>0.0</td>\n",
       "      <td>0.0</td>\n",
       "      <td>0.0</td>\n",
       "      <td>0.0</td>\n",
       "      <td>0.0</td>\n",
       "      <td>1.0</td>\n",
       "    </tr>\n",
       "    <tr>\n",
       "      <th>2</th>\n",
       "      <td>0.379958</td>\n",
       "      <td>1.000000</td>\n",
       "      <td>0.624267</td>\n",
       "      <td>0.0</td>\n",
       "      <td>0.535323</td>\n",
       "      <td>0.295230</td>\n",
       "      <td>0.782609</td>\n",
       "      <td>0.000000</td>\n",
       "      <td>1.0</td>\n",
       "      <td>1.000000</td>\n",
       "      <td>...</td>\n",
       "      <td>0.0</td>\n",
       "      <td>0.0</td>\n",
       "      <td>0.0</td>\n",
       "      <td>1.0</td>\n",
       "      <td>1.0</td>\n",
       "      <td>0.0</td>\n",
       "      <td>0.0</td>\n",
       "      <td>0.0</td>\n",
       "      <td>0.0</td>\n",
       "      <td>0.0</td>\n",
       "    </tr>\n",
       "    <tr>\n",
       "      <th>3</th>\n",
       "      <td>0.073069</td>\n",
       "      <td>1.000000</td>\n",
       "      <td>0.423779</td>\n",
       "      <td>0.0</td>\n",
       "      <td>0.000000</td>\n",
       "      <td>0.532853</td>\n",
       "      <td>1.000000</td>\n",
       "      <td>0.666667</td>\n",
       "      <td>1.0</td>\n",
       "      <td>0.666667</td>\n",
       "      <td>...</td>\n",
       "      <td>1.0</td>\n",
       "      <td>0.0</td>\n",
       "      <td>0.0</td>\n",
       "      <td>0.0</td>\n",
       "      <td>0.0</td>\n",
       "      <td>0.0</td>\n",
       "      <td>0.0</td>\n",
       "      <td>0.0</td>\n",
       "      <td>0.0</td>\n",
       "      <td>0.0</td>\n",
       "    </tr>\n",
       "    <tr>\n",
       "      <th>4</th>\n",
       "      <td>0.478079</td>\n",
       "      <td>0.333333</td>\n",
       "      <td>0.556670</td>\n",
       "      <td>0.0</td>\n",
       "      <td>0.000000</td>\n",
       "      <td>0.501350</td>\n",
       "      <td>0.739130</td>\n",
       "      <td>0.000000</td>\n",
       "      <td>0.0</td>\n",
       "      <td>0.666667</td>\n",
       "      <td>...</td>\n",
       "      <td>0.0</td>\n",
       "      <td>0.0</td>\n",
       "      <td>1.0</td>\n",
       "      <td>0.0</td>\n",
       "      <td>1.0</td>\n",
       "      <td>0.0</td>\n",
       "      <td>0.0</td>\n",
       "      <td>0.0</td>\n",
       "      <td>0.0</td>\n",
       "      <td>0.0</td>\n",
       "    </tr>\n",
       "  </tbody>\n",
       "</table>\n",
       "<p>5 rows × 23 columns</p>\n",
       "</div>"
      ],
      "text/plain": [
       "   months_as_customer  policy_deductable  policy_annual_premium  \\\n",
       "0            0.956159           0.333333               0.775811   \n",
       "1            0.490605           0.000000               0.396027   \n",
       "2            0.379958           1.000000               0.624267   \n",
       "3            0.073069           1.000000               0.423779   \n",
       "4            0.478079           0.333333               0.556670   \n",
       "\n",
       "   umbrella_limit  capital-gains  capital-loss  incident_hour_of_the_day  \\\n",
       "0             0.0       0.312438      1.000000                  1.000000   \n",
       "1             0.0       0.397015      0.458146                  0.304348   \n",
       "2             0.0       0.535323      0.295230                  0.782609   \n",
       "3             0.0       0.000000      0.532853                  1.000000   \n",
       "4             0.0       0.000000      0.501350                  0.739130   \n",
       "\n",
       "   number_of_vehicles_involved  bodily_injuries  witnesses  ...  \\\n",
       "0                     0.000000              1.0   0.666667  ...   \n",
       "1                     1.000000              1.0   0.333333  ...   \n",
       "2                     0.000000              1.0   1.000000  ...   \n",
       "3                     0.666667              1.0   0.666667  ...   \n",
       "4                     0.000000              0.0   0.666667  ...   \n",
       "\n",
       "   authorities_contacted_Fire  authorities_contacted_None  \\\n",
       "0                         0.0                         0.0   \n",
       "1                         0.0                         0.0   \n",
       "2                         0.0                         0.0   \n",
       "3                         1.0                         0.0   \n",
       "4                         0.0                         0.0   \n",
       "\n",
       "   authorities_contacted_Other  authorities_contacted_Police  \\\n",
       "0                          0.0                           1.0   \n",
       "1                          1.0                           0.0   \n",
       "2                          0.0                           1.0   \n",
       "3                          0.0                           0.0   \n",
       "4                          1.0                           0.0   \n",
       "\n",
       "   incident_state_NY  incident_state_OH  incident_state_PA  incident_state_SC  \\\n",
       "0                0.0                0.0                0.0                0.0   \n",
       "1                0.0                0.0                0.0                0.0   \n",
       "2                1.0                0.0                0.0                0.0   \n",
       "3                0.0                0.0                0.0                0.0   \n",
       "4                1.0                0.0                0.0                0.0   \n",
       "\n",
       "   incident_state_VA  incident_state_WV  \n",
       "0                1.0                0.0  \n",
       "1                0.0                1.0  \n",
       "2                0.0                0.0  \n",
       "3                0.0                0.0  \n",
       "4                0.0                0.0  \n",
       "\n",
       "[5 rows x 23 columns]"
      ]
     },
     "execution_count": 71,
     "metadata": {},
     "output_type": "execute_result"
    }
   ],
   "source": [
    "X_train_scaled.head()\n",
    "X_test_scaled.head()"
   ]
  },
  {
   "cell_type": "code",
   "execution_count": 84,
   "metadata": {},
   "outputs": [
    {
     "data": {
      "text/plain": [
       "(300, 23)"
      ]
     },
     "execution_count": 84,
     "metadata": {},
     "output_type": "execute_result"
    }
   ],
   "source": [
    "X_test_scaled.shape\n"
   ]
  },
  {
   "cell_type": "code",
   "execution_count": 85,
   "metadata": {},
   "outputs": [
    {
     "data": {
      "text/plain": [
       "(1052,)"
      ]
     },
     "execution_count": 85,
     "metadata": {},
     "output_type": "execute_result"
    }
   ],
   "source": [
    "y_train_resampled.shape"
   ]
  },
  {
   "cell_type": "markdown",
   "metadata": {
    "id": "pqIhEkpxDPWu"
   },
   "source": [
    "## **7. Model Building** <font color = red>[50 marks]</font>"
   ]
  },
  {
   "cell_type": "markdown",
   "metadata": {
    "id": "i2OLtpZWUmgS"
   },
   "source": [
    "In this task, you will be building two machine learning models: Logistic Regression and Random Forest. Each model will go through a structured process to ensure optimal performance. The key steps for each model are outlined below:\n",
    "\n",
    "**Logistic Regression Model**\n",
    "- Feature Selection using RFECV – Identify the most relevant features using Recursive Feature Elimination with Cross-Validation.\n",
    "- Model Building and Multicollinearity Assessment – Build the logistic regression model and analyse statistical aspects such as p-values and VIFs to detect multicollinearity.\n",
    "- Model Training and Evaluation on Training Data – Fit the model on the training data and assess initial performance.\n",
    "- Finding the Optimal Cutoff – Determine the best probability threshold by analysing the sensitivity-specificity tradeoff and precision-recall tradeoff.\n",
    "- FInal Prediction and Evaluation on Training Data using the Optimal Cutoff – Generate final predictions using the selected cutoff and evaluate model performance.\n",
    "\n",
    "**Random Forest Model**\n",
    "- Get Feature Importances - Obtain the importance scores for each feature and select the important features to train the model.\n",
    "- Model Evaluation on Training Data – Assess performance metrics on the training data.\n",
    "- Check Model Overfitting using Cross-Validation – Evaluate generalisation by performing cross-validation.\n",
    "- Hyperparameter Tuning using Grid Search – Optimise model performance by fine-tuning hyperparameters.\n",
    "- Final Model and Evaluation on Training Data – Train the final model using the best parameters and assess its performance."
   ]
  },
  {
   "cell_type": "markdown",
   "metadata": {
    "id": "DwQl23_eDPWx"
   },
   "source": [
    "### **7.1 Feature selection** <font color = red>[4 marks]</font>\n",
    "Identify and select the most relevant features for building a logistic regression model using Recursive Feature Elimination with Cross-Validation (RFECV)."
   ]
  },
  {
   "cell_type": "markdown",
   "metadata": {
    "id": "x7oRIQMhDPWy"
   },
   "source": [
    "#### **7.1.1** Import necessary libraries <font color=\"red\">[1 Mark]</font>"
   ]
  },
  {
   "cell_type": "code",
   "execution_count": 72,
   "metadata": {
    "id": "RzQF3EyIDPWy"
   },
   "outputs": [],
   "source": [
    "# Import necessary libraries\n",
    "from sklearn.model_selection import StratifiedKFold\n",
    "from sklearn.feature_selection import RFECV\n",
    "from sklearn.linear_model import LogisticRegression\n",
    "\n",
    "from sklearn.metrics import accuracy_score, confusion_matrix, classification_report\n",
    "\n",
    "estimator = LogisticRegression()"
   ]
  },
  {
   "cell_type": "code",
   "execution_count": 73,
   "metadata": {},
   "outputs": [
    {
     "data": {
      "text/html": [
       "<div>\n",
       "<style scoped>\n",
       "    .dataframe tbody tr th:only-of-type {\n",
       "        vertical-align: middle;\n",
       "    }\n",
       "\n",
       "    .dataframe tbody tr th {\n",
       "        vertical-align: top;\n",
       "    }\n",
       "\n",
       "    .dataframe thead th {\n",
       "        text-align: right;\n",
       "    }\n",
       "</style>\n",
       "<table border=\"1\" class=\"dataframe\">\n",
       "  <thead>\n",
       "    <tr style=\"text-align: right;\">\n",
       "      <th></th>\n",
       "      <th>months_as_customer</th>\n",
       "      <th>policy_deductable</th>\n",
       "      <th>policy_annual_premium</th>\n",
       "      <th>umbrella_limit</th>\n",
       "      <th>capital-gains</th>\n",
       "      <th>capital-loss</th>\n",
       "      <th>incident_hour_of_the_day</th>\n",
       "      <th>number_of_vehicles_involved</th>\n",
       "      <th>bodily_injuries</th>\n",
       "      <th>witnesses</th>\n",
       "      <th>...</th>\n",
       "      <th>authorities_contacted_Fire</th>\n",
       "      <th>authorities_contacted_None</th>\n",
       "      <th>authorities_contacted_Other</th>\n",
       "      <th>authorities_contacted_Police</th>\n",
       "      <th>incident_state_NY</th>\n",
       "      <th>incident_state_OH</th>\n",
       "      <th>incident_state_PA</th>\n",
       "      <th>incident_state_SC</th>\n",
       "      <th>incident_state_VA</th>\n",
       "      <th>incident_state_WV</th>\n",
       "    </tr>\n",
       "  </thead>\n",
       "  <tbody>\n",
       "    <tr>\n",
       "      <th>0</th>\n",
       "      <td>0.269311</td>\n",
       "      <td>0.333333</td>\n",
       "      <td>0.585166</td>\n",
       "      <td>0.000000</td>\n",
       "      <td>0.000000</td>\n",
       "      <td>1.000000</td>\n",
       "      <td>1.000000</td>\n",
       "      <td>0.000000</td>\n",
       "      <td>1.0</td>\n",
       "      <td>1.000000</td>\n",
       "      <td>...</td>\n",
       "      <td>1.0</td>\n",
       "      <td>0.0</td>\n",
       "      <td>0.0</td>\n",
       "      <td>0.0</td>\n",
       "      <td>1.0</td>\n",
       "      <td>0.0</td>\n",
       "      <td>0.0</td>\n",
       "      <td>0.0</td>\n",
       "      <td>0.0</td>\n",
       "      <td>0.0</td>\n",
       "    </tr>\n",
       "    <tr>\n",
       "      <th>1</th>\n",
       "      <td>0.438413</td>\n",
       "      <td>0.000000</td>\n",
       "      <td>0.489029</td>\n",
       "      <td>0.000000</td>\n",
       "      <td>0.000000</td>\n",
       "      <td>0.630963</td>\n",
       "      <td>0.521739</td>\n",
       "      <td>0.666667</td>\n",
       "      <td>1.0</td>\n",
       "      <td>0.000000</td>\n",
       "      <td>...</td>\n",
       "      <td>0.0</td>\n",
       "      <td>0.0</td>\n",
       "      <td>1.0</td>\n",
       "      <td>0.0</td>\n",
       "      <td>0.0</td>\n",
       "      <td>0.0</td>\n",
       "      <td>0.0</td>\n",
       "      <td>0.0</td>\n",
       "      <td>0.0</td>\n",
       "      <td>1.0</td>\n",
       "    </tr>\n",
       "    <tr>\n",
       "      <th>2</th>\n",
       "      <td>0.177453</td>\n",
       "      <td>0.000000</td>\n",
       "      <td>0.511498</td>\n",
       "      <td>0.000000</td>\n",
       "      <td>0.666667</td>\n",
       "      <td>0.517552</td>\n",
       "      <td>0.347826</td>\n",
       "      <td>0.000000</td>\n",
       "      <td>1.0</td>\n",
       "      <td>0.666667</td>\n",
       "      <td>...</td>\n",
       "      <td>0.0</td>\n",
       "      <td>1.0</td>\n",
       "      <td>0.0</td>\n",
       "      <td>0.0</td>\n",
       "      <td>0.0</td>\n",
       "      <td>0.0</td>\n",
       "      <td>0.0</td>\n",
       "      <td>1.0</td>\n",
       "      <td>0.0</td>\n",
       "      <td>0.0</td>\n",
       "    </tr>\n",
       "    <tr>\n",
       "      <th>3</th>\n",
       "      <td>0.895616</td>\n",
       "      <td>0.333333</td>\n",
       "      <td>0.430265</td>\n",
       "      <td>0.666667</td>\n",
       "      <td>0.670647</td>\n",
       "      <td>0.605761</td>\n",
       "      <td>0.000000</td>\n",
       "      <td>0.000000</td>\n",
       "      <td>1.0</td>\n",
       "      <td>0.000000</td>\n",
       "      <td>...</td>\n",
       "      <td>0.0</td>\n",
       "      <td>0.0</td>\n",
       "      <td>0.0</td>\n",
       "      <td>0.0</td>\n",
       "      <td>0.0</td>\n",
       "      <td>0.0</td>\n",
       "      <td>0.0</td>\n",
       "      <td>0.0</td>\n",
       "      <td>0.0</td>\n",
       "      <td>1.0</td>\n",
       "    </tr>\n",
       "    <tr>\n",
       "      <th>4</th>\n",
       "      <td>0.221294</td>\n",
       "      <td>1.000000</td>\n",
       "      <td>0.549738</td>\n",
       "      <td>0.000000</td>\n",
       "      <td>0.538308</td>\n",
       "      <td>1.000000</td>\n",
       "      <td>0.869565</td>\n",
       "      <td>0.666667</td>\n",
       "      <td>0.0</td>\n",
       "      <td>1.000000</td>\n",
       "      <td>...</td>\n",
       "      <td>0.0</td>\n",
       "      <td>0.0</td>\n",
       "      <td>0.0</td>\n",
       "      <td>1.0</td>\n",
       "      <td>0.0</td>\n",
       "      <td>0.0</td>\n",
       "      <td>0.0</td>\n",
       "      <td>0.0</td>\n",
       "      <td>0.0</td>\n",
       "      <td>1.0</td>\n",
       "    </tr>\n",
       "    <tr>\n",
       "      <th>...</th>\n",
       "      <td>...</td>\n",
       "      <td>...</td>\n",
       "      <td>...</td>\n",
       "      <td>...</td>\n",
       "      <td>...</td>\n",
       "      <td>...</td>\n",
       "      <td>...</td>\n",
       "      <td>...</td>\n",
       "      <td>...</td>\n",
       "      <td>...</td>\n",
       "      <td>...</td>\n",
       "      <td>...</td>\n",
       "      <td>...</td>\n",
       "      <td>...</td>\n",
       "      <td>...</td>\n",
       "      <td>...</td>\n",
       "      <td>...</td>\n",
       "      <td>...</td>\n",
       "      <td>...</td>\n",
       "      <td>...</td>\n",
       "      <td>...</td>\n",
       "    </tr>\n",
       "    <tr>\n",
       "      <th>1047</th>\n",
       "      <td>0.718163</td>\n",
       "      <td>0.333333</td>\n",
       "      <td>0.326156</td>\n",
       "      <td>0.000000</td>\n",
       "      <td>0.000000</td>\n",
       "      <td>0.651665</td>\n",
       "      <td>0.782609</td>\n",
       "      <td>0.666667</td>\n",
       "      <td>1.0</td>\n",
       "      <td>0.666667</td>\n",
       "      <td>...</td>\n",
       "      <td>1.0</td>\n",
       "      <td>0.0</td>\n",
       "      <td>0.0</td>\n",
       "      <td>0.0</td>\n",
       "      <td>1.0</td>\n",
       "      <td>0.0</td>\n",
       "      <td>0.0</td>\n",
       "      <td>0.0</td>\n",
       "      <td>0.0</td>\n",
       "      <td>0.0</td>\n",
       "    </tr>\n",
       "    <tr>\n",
       "      <th>1048</th>\n",
       "      <td>0.018789</td>\n",
       "      <td>1.000000</td>\n",
       "      <td>0.539647</td>\n",
       "      <td>0.000000</td>\n",
       "      <td>0.514428</td>\n",
       "      <td>0.700270</td>\n",
       "      <td>0.260870</td>\n",
       "      <td>0.000000</td>\n",
       "      <td>0.0</td>\n",
       "      <td>1.000000</td>\n",
       "      <td>...</td>\n",
       "      <td>0.0</td>\n",
       "      <td>1.0</td>\n",
       "      <td>0.0</td>\n",
       "      <td>0.0</td>\n",
       "      <td>0.0</td>\n",
       "      <td>0.0</td>\n",
       "      <td>0.0</td>\n",
       "      <td>0.0</td>\n",
       "      <td>0.0</td>\n",
       "      <td>0.0</td>\n",
       "    </tr>\n",
       "    <tr>\n",
       "      <th>1049</th>\n",
       "      <td>0.160752</td>\n",
       "      <td>1.000000</td>\n",
       "      <td>0.218360</td>\n",
       "      <td>0.000000</td>\n",
       "      <td>0.494527</td>\n",
       "      <td>1.000000</td>\n",
       "      <td>0.521739</td>\n",
       "      <td>0.666667</td>\n",
       "      <td>1.0</td>\n",
       "      <td>0.000000</td>\n",
       "      <td>...</td>\n",
       "      <td>0.0</td>\n",
       "      <td>0.0</td>\n",
       "      <td>0.0</td>\n",
       "      <td>1.0</td>\n",
       "      <td>1.0</td>\n",
       "      <td>0.0</td>\n",
       "      <td>0.0</td>\n",
       "      <td>0.0</td>\n",
       "      <td>0.0</td>\n",
       "      <td>0.0</td>\n",
       "    </tr>\n",
       "    <tr>\n",
       "      <th>1050</th>\n",
       "      <td>0.997912</td>\n",
       "      <td>0.333333</td>\n",
       "      <td>0.532114</td>\n",
       "      <td>0.000000</td>\n",
       "      <td>0.473632</td>\n",
       "      <td>1.000000</td>\n",
       "      <td>0.217391</td>\n",
       "      <td>0.000000</td>\n",
       "      <td>0.5</td>\n",
       "      <td>1.000000</td>\n",
       "      <td>...</td>\n",
       "      <td>0.0</td>\n",
       "      <td>1.0</td>\n",
       "      <td>0.0</td>\n",
       "      <td>0.0</td>\n",
       "      <td>0.0</td>\n",
       "      <td>0.0</td>\n",
       "      <td>0.0</td>\n",
       "      <td>0.0</td>\n",
       "      <td>1.0</td>\n",
       "      <td>0.0</td>\n",
       "    </tr>\n",
       "    <tr>\n",
       "      <th>1051</th>\n",
       "      <td>0.175365</td>\n",
       "      <td>0.000000</td>\n",
       "      <td>0.781014</td>\n",
       "      <td>0.777778</td>\n",
       "      <td>0.000000</td>\n",
       "      <td>1.000000</td>\n",
       "      <td>0.000000</td>\n",
       "      <td>0.000000</td>\n",
       "      <td>0.0</td>\n",
       "      <td>0.666667</td>\n",
       "      <td>...</td>\n",
       "      <td>0.0</td>\n",
       "      <td>0.0</td>\n",
       "      <td>1.0</td>\n",
       "      <td>0.0</td>\n",
       "      <td>1.0</td>\n",
       "      <td>0.0</td>\n",
       "      <td>0.0</td>\n",
       "      <td>0.0</td>\n",
       "      <td>0.0</td>\n",
       "      <td>0.0</td>\n",
       "    </tr>\n",
       "  </tbody>\n",
       "</table>\n",
       "<p>1052 rows × 23 columns</p>\n",
       "</div>"
      ],
      "text/plain": [
       "      months_as_customer  policy_deductable  policy_annual_premium  \\\n",
       "0               0.269311           0.333333               0.585166   \n",
       "1               0.438413           0.000000               0.489029   \n",
       "2               0.177453           0.000000               0.511498   \n",
       "3               0.895616           0.333333               0.430265   \n",
       "4               0.221294           1.000000               0.549738   \n",
       "...                  ...                ...                    ...   \n",
       "1047            0.718163           0.333333               0.326156   \n",
       "1048            0.018789           1.000000               0.539647   \n",
       "1049            0.160752           1.000000               0.218360   \n",
       "1050            0.997912           0.333333               0.532114   \n",
       "1051            0.175365           0.000000               0.781014   \n",
       "\n",
       "      umbrella_limit  capital-gains  capital-loss  incident_hour_of_the_day  \\\n",
       "0           0.000000       0.000000      1.000000                  1.000000   \n",
       "1           0.000000       0.000000      0.630963                  0.521739   \n",
       "2           0.000000       0.666667      0.517552                  0.347826   \n",
       "3           0.666667       0.670647      0.605761                  0.000000   \n",
       "4           0.000000       0.538308      1.000000                  0.869565   \n",
       "...              ...            ...           ...                       ...   \n",
       "1047        0.000000       0.000000      0.651665                  0.782609   \n",
       "1048        0.000000       0.514428      0.700270                  0.260870   \n",
       "1049        0.000000       0.494527      1.000000                  0.521739   \n",
       "1050        0.000000       0.473632      1.000000                  0.217391   \n",
       "1051        0.777778       0.000000      1.000000                  0.000000   \n",
       "\n",
       "      number_of_vehicles_involved  bodily_injuries  witnesses  ...  \\\n",
       "0                        0.000000              1.0   1.000000  ...   \n",
       "1                        0.666667              1.0   0.000000  ...   \n",
       "2                        0.000000              1.0   0.666667  ...   \n",
       "3                        0.000000              1.0   0.000000  ...   \n",
       "4                        0.666667              0.0   1.000000  ...   \n",
       "...                           ...              ...        ...  ...   \n",
       "1047                     0.666667              1.0   0.666667  ...   \n",
       "1048                     0.000000              0.0   1.000000  ...   \n",
       "1049                     0.666667              1.0   0.000000  ...   \n",
       "1050                     0.000000              0.5   1.000000  ...   \n",
       "1051                     0.000000              0.0   0.666667  ...   \n",
       "\n",
       "      authorities_contacted_Fire  authorities_contacted_None  \\\n",
       "0                            1.0                         0.0   \n",
       "1                            0.0                         0.0   \n",
       "2                            0.0                         1.0   \n",
       "3                            0.0                         0.0   \n",
       "4                            0.0                         0.0   \n",
       "...                          ...                         ...   \n",
       "1047                         1.0                         0.0   \n",
       "1048                         0.0                         1.0   \n",
       "1049                         0.0                         0.0   \n",
       "1050                         0.0                         1.0   \n",
       "1051                         0.0                         0.0   \n",
       "\n",
       "      authorities_contacted_Other  authorities_contacted_Police  \\\n",
       "0                             0.0                           0.0   \n",
       "1                             1.0                           0.0   \n",
       "2                             0.0                           0.0   \n",
       "3                             0.0                           0.0   \n",
       "4                             0.0                           1.0   \n",
       "...                           ...                           ...   \n",
       "1047                          0.0                           0.0   \n",
       "1048                          0.0                           0.0   \n",
       "1049                          0.0                           1.0   \n",
       "1050                          0.0                           0.0   \n",
       "1051                          1.0                           0.0   \n",
       "\n",
       "      incident_state_NY  incident_state_OH  incident_state_PA  \\\n",
       "0                   1.0                0.0                0.0   \n",
       "1                   0.0                0.0                0.0   \n",
       "2                   0.0                0.0                0.0   \n",
       "3                   0.0                0.0                0.0   \n",
       "4                   0.0                0.0                0.0   \n",
       "...                 ...                ...                ...   \n",
       "1047                1.0                0.0                0.0   \n",
       "1048                0.0                0.0                0.0   \n",
       "1049                1.0                0.0                0.0   \n",
       "1050                0.0                0.0                0.0   \n",
       "1051                1.0                0.0                0.0   \n",
       "\n",
       "      incident_state_SC  incident_state_VA  incident_state_WV  \n",
       "0                   0.0                0.0                0.0  \n",
       "1                   0.0                0.0                1.0  \n",
       "2                   1.0                0.0                0.0  \n",
       "3                   0.0                0.0                1.0  \n",
       "4                   0.0                0.0                1.0  \n",
       "...                 ...                ...                ...  \n",
       "1047                0.0                0.0                0.0  \n",
       "1048                0.0                0.0                0.0  \n",
       "1049                0.0                0.0                0.0  \n",
       "1050                0.0                1.0                0.0  \n",
       "1051                0.0                0.0                0.0  \n",
       "\n",
       "[1052 rows x 23 columns]"
      ]
     },
     "execution_count": 73,
     "metadata": {},
     "output_type": "execute_result"
    }
   ],
   "source": [
    "X_train_scaled"
   ]
  },
  {
   "cell_type": "markdown",
   "metadata": {
    "id": "j1sHmcZKDPWy"
   },
   "source": [
    "#### **7.1.2** Perform feature selection <font color=\"red\">[2 Mark]</font>"
   ]
  },
  {
   "cell_type": "code",
   "execution_count": 74,
   "metadata": {
    "id": "NKRnzy8sDPWy"
   },
   "outputs": [
    {
     "data": {
      "text/plain": [
       "RFECV(cv=5, estimator=LogisticRegression(), scoring='f1')"
      ]
     },
     "execution_count": 74,
     "metadata": {},
     "output_type": "execute_result"
    }
   ],
   "source": [
    "# Apply RFECV to identify the most relevant features\n",
    "cv = StratifiedKFold(n_splits=5)\n",
    "\n",
    "selector = RFECV(estimator, step=1, cv=5, scoring=\"f1\")\n",
    "\n",
    "selector.fit(X_train_scaled, y_train_resampled)"
   ]
  },
  {
   "cell_type": "code",
   "execution_count": 75,
   "metadata": {
    "id": "1I0kn-9qDPWy"
   },
   "outputs": [
    {
     "name": "stdout",
     "output_type": "stream",
     "text": [
      "Optimal number of features: 5\n",
      "Selected Features: Index(['umbrella_limit', 'total_claim_amount', 'auto_year',\n",
      "       'incident_state_OH', 'incident_state_WV'],\n",
      "      dtype='object')\n"
     ]
    }
   ],
   "source": [
    "# Display the features ranking by RFECV in a DataFrame\n",
    "selected_features = X_train_scaled.columns[selector.support_]\n",
    "print(\"Optimal number of features:\", selector.n_features_)\n",
    "print(\"Selected Features:\", selected_features)"
   ]
  },
  {
   "cell_type": "code",
   "execution_count": 76,
   "metadata": {},
   "outputs": [
    {
     "data": {
      "text/plain": [
       "[('months_as_customer', False, 4),\n",
       " ('policy_deductable', False, 11),\n",
       " ('policy_annual_premium', False, 16),\n",
       " ('umbrella_limit', True, 1),\n",
       " ('capital-gains', False, 19),\n",
       " ('capital-loss', False, 13),\n",
       " ('incident_hour_of_the_day', False, 14),\n",
       " ('number_of_vehicles_involved', False, 6),\n",
       " ('bodily_injuries', False, 7),\n",
       " ('witnesses', False, 5),\n",
       " ('total_claim_amount', True, 1),\n",
       " ('auto_year', True, 1),\n",
       " ('incident_days_since_policy', False, 17),\n",
       " ('authorities_contacted_Fire', False, 9),\n",
       " ('authorities_contacted_None', False, 2),\n",
       " ('authorities_contacted_Other', False, 10),\n",
       " ('authorities_contacted_Police', False, 8),\n",
       " ('incident_state_NY', False, 3),\n",
       " ('incident_state_OH', True, 1),\n",
       " ('incident_state_PA', False, 18),\n",
       " ('incident_state_SC', False, 15),\n",
       " ('incident_state_VA', False, 12),\n",
       " ('incident_state_WV', True, 1)]"
      ]
     },
     "execution_count": 76,
     "metadata": {},
     "output_type": "execute_result"
    }
   ],
   "source": [
    "list(zip(X_train_scaled.columns, selector.support_, selector.ranking_))"
   ]
  },
  {
   "cell_type": "markdown",
   "metadata": {
    "id": "KKdXnylEDPWz"
   },
   "source": [
    "#### **7.1.2** Retain the selected features <font color=\"red\">[1 Mark]</font>"
   ]
  },
  {
   "cell_type": "code",
   "execution_count": 77,
   "metadata": {
    "id": "Q8TkAe72DPWz"
   },
   "outputs": [
    {
     "data": {
      "text/plain": [
       "Index(['umbrella_limit', 'total_claim_amount', 'auto_year',\n",
       "       'incident_state_OH', 'incident_state_WV'],\n",
       "      dtype='object')"
      ]
     },
     "execution_count": 77,
     "metadata": {},
     "output_type": "execute_result"
    }
   ],
   "source": [
    "# Put columns selected by RFECV into variable 'col'\n",
    "col = selected_features\n",
    "col"
   ]
  },
  {
   "cell_type": "markdown",
   "metadata": {
    "id": "J8zNEaKcDPWz"
   },
   "source": [
    "### **7.2 Build Logistic Regression Model** <font color = red>[12 marks]</font>\n",
    "After selecting the optimal features using RFECV, utilise these features to build a logistic regression model with Statsmodels. This approach enables a detailed statistical analysis of the model, including the assessment of p-values and Variance Inflation Factors (VIFs). Evaluating these metrics is crucial for detecting multicollinearity and ensuring that the selected predictors are not highly correlated."
   ]
  },
  {
   "cell_type": "markdown",
   "metadata": {
    "id": "xXwl9DO3DPWz"
   },
   "source": [
    "#### **7.2.1** Select relevant features and add constant in training data <font color=\"red\">[1 Mark]</font>"
   ]
  },
  {
   "cell_type": "code",
   "execution_count": 78,
   "metadata": {
    "id": "kF5g0yScDPWz"
   },
   "outputs": [
    {
     "data": {
      "text/plain": [
       "umbrella_limit        float64\n",
       "total_claim_amount    float64\n",
       "auto_year             float64\n",
       "incident_state_OH     float64\n",
       "incident_state_WV     float64\n",
       "dtype: object"
      ]
     },
     "execution_count": 78,
     "metadata": {},
     "output_type": "execute_result"
    }
   ],
   "source": [
    "# Select only the columns selected by RFECV\n",
    "X_selected_RFECV = X_train_scaled[selected_features]\n",
    "X_selected_RFECV.dtypes"
   ]
  },
  {
   "cell_type": "code",
   "execution_count": 77,
   "metadata": {
    "id": "aBzSiNhrDPWz"
   },
   "outputs": [
    {
     "data": {
      "text/html": [
       "<div>\n",
       "<style scoped>\n",
       "    .dataframe tbody tr th:only-of-type {\n",
       "        vertical-align: middle;\n",
       "    }\n",
       "\n",
       "    .dataframe tbody tr th {\n",
       "        vertical-align: top;\n",
       "    }\n",
       "\n",
       "    .dataframe thead th {\n",
       "        text-align: right;\n",
       "    }\n",
       "</style>\n",
       "<table border=\"1\" class=\"dataframe\">\n",
       "  <thead>\n",
       "    <tr style=\"text-align: right;\">\n",
       "      <th></th>\n",
       "      <th>const</th>\n",
       "      <th>umbrella_limit</th>\n",
       "      <th>total_claim_amount</th>\n",
       "      <th>auto_year</th>\n",
       "      <th>incident_state_OH</th>\n",
       "      <th>incident_state_WV</th>\n",
       "    </tr>\n",
       "  </thead>\n",
       "  <tbody>\n",
       "    <tr>\n",
       "      <th>0</th>\n",
       "      <td>1.0</td>\n",
       "      <td>0.000000</td>\n",
       "      <td>0.387912</td>\n",
       "      <td>0.50</td>\n",
       "      <td>0.0</td>\n",
       "      <td>0.0</td>\n",
       "    </tr>\n",
       "    <tr>\n",
       "      <th>1</th>\n",
       "      <td>1.0</td>\n",
       "      <td>0.000000</td>\n",
       "      <td>0.705191</td>\n",
       "      <td>0.30</td>\n",
       "      <td>0.0</td>\n",
       "      <td>1.0</td>\n",
       "    </tr>\n",
       "    <tr>\n",
       "      <th>2</th>\n",
       "      <td>1.0</td>\n",
       "      <td>0.000000</td>\n",
       "      <td>0.048249</td>\n",
       "      <td>0.50</td>\n",
       "      <td>0.0</td>\n",
       "      <td>0.0</td>\n",
       "    </tr>\n",
       "    <tr>\n",
       "      <th>3</th>\n",
       "      <td>1.0</td>\n",
       "      <td>0.666667</td>\n",
       "      <td>0.342972</td>\n",
       "      <td>0.35</td>\n",
       "      <td>0.0</td>\n",
       "      <td>1.0</td>\n",
       "    </tr>\n",
       "    <tr>\n",
       "      <th>4</th>\n",
       "      <td>1.0</td>\n",
       "      <td>0.000000</td>\n",
       "      <td>0.396534</td>\n",
       "      <td>0.80</td>\n",
       "      <td>0.0</td>\n",
       "      <td>1.0</td>\n",
       "    </tr>\n",
       "    <tr>\n",
       "      <th>...</th>\n",
       "      <td>...</td>\n",
       "      <td>...</td>\n",
       "      <td>...</td>\n",
       "      <td>...</td>\n",
       "      <td>...</td>\n",
       "      <td>...</td>\n",
       "    </tr>\n",
       "    <tr>\n",
       "      <th>1047</th>\n",
       "      <td>1.0</td>\n",
       "      <td>0.000000</td>\n",
       "      <td>0.655809</td>\n",
       "      <td>0.55</td>\n",
       "      <td>0.0</td>\n",
       "      <td>0.0</td>\n",
       "    </tr>\n",
       "    <tr>\n",
       "      <th>1048</th>\n",
       "      <td>1.0</td>\n",
       "      <td>0.000000</td>\n",
       "      <td>0.050862</td>\n",
       "      <td>0.30</td>\n",
       "      <td>0.0</td>\n",
       "      <td>0.0</td>\n",
       "    </tr>\n",
       "    <tr>\n",
       "      <th>1049</th>\n",
       "      <td>1.0</td>\n",
       "      <td>0.000000</td>\n",
       "      <td>0.600766</td>\n",
       "      <td>0.70</td>\n",
       "      <td>0.0</td>\n",
       "      <td>0.0</td>\n",
       "    </tr>\n",
       "    <tr>\n",
       "      <th>1050</th>\n",
       "      <td>1.0</td>\n",
       "      <td>0.000000</td>\n",
       "      <td>0.040063</td>\n",
       "      <td>0.60</td>\n",
       "      <td>0.0</td>\n",
       "      <td>0.0</td>\n",
       "    </tr>\n",
       "    <tr>\n",
       "      <th>1051</th>\n",
       "      <td>1.0</td>\n",
       "      <td>0.777778</td>\n",
       "      <td>0.497648</td>\n",
       "      <td>0.00</td>\n",
       "      <td>0.0</td>\n",
       "      <td>0.0</td>\n",
       "    </tr>\n",
       "  </tbody>\n",
       "</table>\n",
       "<p>1052 rows × 6 columns</p>\n",
       "</div>"
      ],
      "text/plain": [
       "      const  umbrella_limit  total_claim_amount  auto_year  incident_state_OH  \\\n",
       "0       1.0        0.000000            0.387912       0.50                0.0   \n",
       "1       1.0        0.000000            0.705191       0.30                0.0   \n",
       "2       1.0        0.000000            0.048249       0.50                0.0   \n",
       "3       1.0        0.666667            0.342972       0.35                0.0   \n",
       "4       1.0        0.000000            0.396534       0.80                0.0   \n",
       "...     ...             ...                 ...        ...                ...   \n",
       "1047    1.0        0.000000            0.655809       0.55                0.0   \n",
       "1048    1.0        0.000000            0.050862       0.30                0.0   \n",
       "1049    1.0        0.000000            0.600766       0.70                0.0   \n",
       "1050    1.0        0.000000            0.040063       0.60                0.0   \n",
       "1051    1.0        0.777778            0.497648       0.00                0.0   \n",
       "\n",
       "      incident_state_WV  \n",
       "0                   0.0  \n",
       "1                   1.0  \n",
       "2                   0.0  \n",
       "3                   1.0  \n",
       "4                   1.0  \n",
       "...                 ...  \n",
       "1047                0.0  \n",
       "1048                0.0  \n",
       "1049                0.0  \n",
       "1050                0.0  \n",
       "1051                0.0  \n",
       "\n",
       "[1052 rows x 6 columns]"
      ]
     },
     "execution_count": 77,
     "metadata": {},
     "output_type": "execute_result"
    }
   ],
   "source": [
    "# Import statsmodels and add constant\n",
    "import statsmodels.api as sm\n",
    "X_selected_RFECV = sm.add_constant(X_selected_RFECV)\n",
    "# Check the data\n",
    "X_selected_RFECV"
   ]
  },
  {
   "cell_type": "markdown",
   "metadata": {
    "id": "jc9wYqe8DPW0"
   },
   "source": [
    "#### **7.2.2** Fit logistic regression model <font color=\"red\">[2 Marks]</font>"
   ]
  },
  {
   "cell_type": "code",
   "execution_count": 78,
   "metadata": {
    "id": "2VTpvsZsDPW0"
   },
   "outputs": [
    {
     "name": "stdout",
     "output_type": "stream",
     "text": [
      "Optimization terminated successfully.\n",
      "         Current function value: 0.648383\n",
      "         Iterations 5\n",
      "                           Logit Regression Results                           \n",
      "==============================================================================\n",
      "Dep. Variable:         fraud_reported   No. Observations:                 1052\n",
      "Model:                          Logit   Df Residuals:                     1046\n",
      "Method:                           MLE   Df Model:                            5\n",
      "Date:                Sun, 13 Apr 2025   Pseudo R-squ.:                 0.06458\n",
      "Time:                        16:12:56   Log-Likelihood:                -682.10\n",
      "converged:                       True   LL-Null:                       -729.19\n",
      "Covariance Type:            nonrobust   LLR p-value:                 8.863e-19\n",
      "======================================================================================\n",
      "                         coef    std err          z      P>|z|      [0.025      0.975]\n",
      "--------------------------------------------------------------------------------------\n",
      "const                 -0.6602      0.201     -3.277      0.001      -1.055      -0.265\n",
      "umbrella_limit         0.8901      0.249      3.573      0.000       0.402       1.378\n",
      "total_claim_amount     1.9047      0.308      6.185      0.000       1.301       2.508\n",
      "auto_year             -0.5560      0.218     -2.553      0.011      -0.983      -0.129\n",
      "incident_state_OH      1.0046      0.360      2.792      0.005       0.299       1.710\n",
      "incident_state_WV     -0.8382      0.175     -4.795      0.000      -1.181      -0.496\n",
      "======================================================================================\n"
     ]
    }
   ],
   "source": [
    "# Fit a logistic Regression model on X_train after adding a constant and output the summary\n",
    "logistic_model = sm.Logit(y_train_resampled, X_selected_RFECV).fit()\n",
    "print(logistic_model.summary())"
   ]
  },
  {
   "cell_type": "markdown",
   "metadata": {
    "id": "XBd9hyWgDPW0"
   },
   "source": [
    "**Model Interpretation**\n",
    "\n",
    "The output summary table will provide the features used for building model along with coefficient of each of the feature and their p-value. The p-value in a logistic regression model is used to assess the statistical significance of each coefficient. Lesser the p-value, more significant the feature is in the model.\n",
    "\n",
    "A positive coefficient will indicate that an increase in the value of feature would increase the odds of the event occurring. On the other hand, a negative coefficient means the opposite, i.e, an increase in the value of feature would decrease the odds of the event occurring."
   ]
  },
  {
   "cell_type": "markdown",
   "metadata": {
    "id": "VnhgDNCNDPW0"
   },
   "source": [
    "Now check VIFs for presence of multicollinearity in the model."
   ]
  },
  {
   "cell_type": "markdown",
   "metadata": {
    "id": "xLTRjCqCDPW0"
   },
   "source": [
    "#### **7.2.3** Evaluate VIF of features to assess multicollinearity <font color=\"red\">[2 Marks]</font>"
   ]
  },
  {
   "cell_type": "code",
   "execution_count": 79,
   "metadata": {
    "id": "MOIppRgGDPW0"
   },
   "outputs": [],
   "source": [
    "# Import 'variance_inflation_factor'\n",
    "from statsmodels.stats.outliers_influence import variance_inflation_factor"
   ]
  },
  {
   "cell_type": "code",
   "execution_count": 80,
   "metadata": {
    "id": "Xwb2dA9XDPW0"
   },
   "outputs": [
    {
     "data": {
      "text/html": [
       "<div>\n",
       "<style scoped>\n",
       "    .dataframe tbody tr th:only-of-type {\n",
       "        vertical-align: middle;\n",
       "    }\n",
       "\n",
       "    .dataframe tbody tr th {\n",
       "        vertical-align: top;\n",
       "    }\n",
       "\n",
       "    .dataframe thead th {\n",
       "        text-align: right;\n",
       "    }\n",
       "</style>\n",
       "<table border=\"1\" class=\"dataframe\">\n",
       "  <thead>\n",
       "    <tr style=\"text-align: right;\">\n",
       "      <th></th>\n",
       "      <th>Feature</th>\n",
       "      <th>VIF</th>\n",
       "    </tr>\n",
       "  </thead>\n",
       "  <tbody>\n",
       "    <tr>\n",
       "      <th>0</th>\n",
       "      <td>const</td>\n",
       "      <td>9.462078</td>\n",
       "    </tr>\n",
       "  </tbody>\n",
       "</table>\n",
       "</div>"
      ],
      "text/plain": [
       "  Feature       VIF\n",
       "0   const  9.462078"
      ]
     },
     "execution_count": 80,
     "metadata": {},
     "output_type": "execute_result"
    }
   ],
   "source": [
    "# Make a VIF DataFrame for all the variables present\n",
    "vif = pd.DataFrame()\n",
    "\n",
    "vif[\"Feature\"] = X_selected_RFECV.columns\n",
    "\n",
    "vif[\"VIF\"] = [variance_inflation_factor(X_selected_RFECV.values, i) for i in range(X_selected_RFECV.columns.shape[0])]\n",
    "vif = vif.sort_values(by='VIF',ascending = False)\n",
    "vif[vif[\"VIF\"]>5]"
   ]
  },
  {
   "cell_type": "markdown",
   "metadata": {
    "id": "2RMrfSNPDPW1"
   },
   "source": [
    "Proceed to the next step if p-values and VIFs are within acceptable ranges. If you observe high p-values or VIFs, drop the features and retrain the model. <font color=\"red\">[THIS IS OPTIONAL]</font>"
   ]
  },
  {
   "cell_type": "markdown",
   "metadata": {
    "id": "68j2g6bRDPW1"
   },
   "source": [
    "#### **7.2.4** Make predictions on training data <font color = \"red\">[1 Mark]</font>"
   ]
  },
  {
   "cell_type": "code",
   "execution_count": 81,
   "metadata": {
    "id": "5DT1M3O9DPW1"
   },
   "outputs": [
    {
     "data": {
      "text/plain": [
       "array([0.45032561, 0.42016287, 0.30021091, ..., 0.52369893, 0.28547102,\n",
       "       0.72709187])"
      ]
     },
     "execution_count": 81,
     "metadata": {},
     "output_type": "execute_result"
    }
   ],
   "source": [
    "# Predict the probabilities on the training data\n",
    "y_train_pred = logistic_model.predict(X_selected_RFECV)\n",
    "y_train_pred\n",
    "\n",
    "# Reshape it into an array\n",
    "y_train_pred.values"
   ]
  },
  {
   "cell_type": "markdown",
   "metadata": {
    "id": "_j4gJDUzDPW1"
   },
   "source": [
    "#### **7.2.5** Create a DataFrame that includes actual fraud reported flags, predicted probabilities, and a column indicating predicted classifications based on a cutoff value of 0.5 <font color=\"red\">[1 Mark]</font>\n",
    "\n"
   ]
  },
  {
   "cell_type": "code",
   "execution_count": 82,
   "metadata": {
    "id": "nDaW7LS_DPW1"
   },
   "outputs": [
    {
     "data": {
      "text/html": [
       "<div>\n",
       "<style scoped>\n",
       "    .dataframe tbody tr th:only-of-type {\n",
       "        vertical-align: middle;\n",
       "    }\n",
       "\n",
       "    .dataframe tbody tr th {\n",
       "        vertical-align: top;\n",
       "    }\n",
       "\n",
       "    .dataframe thead th {\n",
       "        text-align: right;\n",
       "    }\n",
       "</style>\n",
       "<table border=\"1\" class=\"dataframe\">\n",
       "  <thead>\n",
       "    <tr style=\"text-align: right;\">\n",
       "      <th></th>\n",
       "      <th>Actual_Fraud</th>\n",
       "      <th>PredFraud_Prob</th>\n",
       "      <th>Pred_Fraud</th>\n",
       "    </tr>\n",
       "  </thead>\n",
       "  <tbody>\n",
       "    <tr>\n",
       "      <th>0</th>\n",
       "      <td>0</td>\n",
       "      <td>0.450326</td>\n",
       "      <td>0</td>\n",
       "    </tr>\n",
       "    <tr>\n",
       "      <th>1</th>\n",
       "      <td>0</td>\n",
       "      <td>0.420163</td>\n",
       "      <td>0</td>\n",
       "    </tr>\n",
       "    <tr>\n",
       "      <th>2</th>\n",
       "      <td>0</td>\n",
       "      <td>0.300211</td>\n",
       "      <td>0</td>\n",
       "    </tr>\n",
       "    <tr>\n",
       "      <th>3</th>\n",
       "      <td>0</td>\n",
       "      <td>0.390212</td>\n",
       "      <td>0</td>\n",
       "    </tr>\n",
       "    <tr>\n",
       "      <th>4</th>\n",
       "      <td>0</td>\n",
       "      <td>0.233622</td>\n",
       "      <td>0</td>\n",
       "    </tr>\n",
       "  </tbody>\n",
       "</table>\n",
       "</div>"
      ],
      "text/plain": [
       "   Actual_Fraud  PredFraud_Prob  Pred_Fraud\n",
       "0             0        0.450326           0\n",
       "1             0        0.420163           0\n",
       "2             0        0.300211           0\n",
       "3             0        0.390212           0\n",
       "4             0        0.233622           0"
      ]
     },
     "execution_count": 82,
     "metadata": {},
     "output_type": "execute_result"
    }
   ],
   "source": [
    "# Create a new DataFrame containing the actual fraud reported flag and the probabilities predicted by the model\n",
    "y_train_pred_final = pd.DataFrame({'Actual_Fraud':y_train_resampled.values, 'PredFraud_Prob': y_train_pred})\n",
    "y_train_pred_final.head()\n",
    "# Create new column indicating predicted classifications based on a cutoff value of 0.5\n",
    "y_train_pred_final['Pred_Fraud'] = y_train_pred_final.PredFraud_Prob.map(lambda x: 1 if x>0.5 else 0)\n",
    "y_train_pred_final.head()"
   ]
  },
  {
   "cell_type": "markdown",
   "metadata": {
    "id": "6rXpNOgtDPW1"
   },
   "source": [
    "**Model performance evaluation**\n",
    "\n",
    "Evaluate the performance of the model based on predictions made on the training data."
   ]
  },
  {
   "cell_type": "markdown",
   "metadata": {
    "id": "cornkRdjDPW2"
   },
   "source": [
    "#### **7.2.6** Check the accuracy of the model <font color = \"red\">[1 Mark]</font>"
   ]
  },
  {
   "cell_type": "code",
   "execution_count": 83,
   "metadata": {
    "id": "w0tyT2xgDPW2"
   },
   "outputs": [
    {
     "name": "stdout",
     "output_type": "stream",
     "text": [
      "0.6131178707224335\n"
     ]
    }
   ],
   "source": [
    "# Import metrics from sklearn for evaluation\n",
    "from sklearn import metrics\n",
    "\n",
    "# Check the accuracy of the model\n",
    "print(metrics.accuracy_score(y_train_pred_final.Actual_Fraud, y_train_pred_final.Pred_Fraud))"
   ]
  },
  {
   "cell_type": "markdown",
   "metadata": {
    "id": "mQPieExsDPW2"
   },
   "source": [
    "#### **7.2.7** Create a confusion matrix based on the predictions made on the training data <font color=\"red\">[1 Mark]</font>"
   ]
  },
  {
   "cell_type": "code",
   "execution_count": 84,
   "metadata": {
    "id": "1v1XZbNkDPW2"
   },
   "outputs": [
    {
     "name": "stdout",
     "output_type": "stream",
     "text": [
      "[[294 232]\n",
      " [175 351]]\n"
     ]
    }
   ],
   "source": [
    "# Create confusion matrix\n",
    "confusion = metrics.confusion_matrix(y_train_pred_final.Actual_Fraud, y_train_pred_final.Pred_Fraud)\n",
    "print(confusion)"
   ]
  },
  {
   "cell_type": "markdown",
   "metadata": {
    "id": "CVWR_SjqKPQF"
   },
   "source": [
    "#### **7.2.8** Create variables for true positive, true negative, false positive and false negative <font color=\"red\">[1 Mark]</font>"
   ]
  },
  {
   "cell_type": "code",
   "execution_count": 85,
   "metadata": {
    "id": "JaXLtV-HKPgY"
   },
   "outputs": [],
   "source": [
    "# Create variables for true positive, true negative, false positive and false negative\n",
    "TN, FP, FN, TP = confusion.ravel()"
   ]
  },
  {
   "cell_type": "markdown",
   "metadata": {
    "id": "UkO5we1NDPW3"
   },
   "source": [
    "#### **7.2.9** Calculate sensitivity, specificity, precision, recall and F1-score <font color=\"red\">[2 Marks]</font>"
   ]
  },
  {
   "cell_type": "code",
   "execution_count": 86,
   "metadata": {
    "id": "K5GpJK5CDPW3"
   },
   "outputs": [
    {
     "name": "stdout",
     "output_type": "stream",
     "text": [
      "Sensitivity: 0.67\n",
      "Specificity: 0.56\n",
      "Precision: 0.60\n",
      "Recall: 0.67\n",
      "F1: 0.63\n"
     ]
    }
   ],
   "source": [
    "from sklearn.metrics import f1_score\n",
    "\n",
    "# Calculate the sensitivity\n",
    "sensitivity = TP / (TP + FN)\n",
    "\n",
    "# Calculate the specificity\n",
    "specificity = TN / (TN + FP)\n",
    "\n",
    "# Calculate Precision\n",
    "precision = TP / (TP + FP)\n",
    "\n",
    "# Calculate Recall\n",
    "recall = TP / (TP + FN)\n",
    "\n",
    "# Calculate F1 Score\n",
    "f1 = 2 * (precision * recall) / (precision + recall)\n",
    "\n",
    "print(f\"Sensitivity: {sensitivity:.2f}\")\n",
    "print(f\"Specificity: {specificity:.2f}\")\n",
    "print(f\"Precision: {precision:.2f}\")\n",
    "print(f\"Recall: {recall:.2f}\")\n",
    "print(f\"F1: {f1:.2f}\")"
   ]
  },
  {
   "cell_type": "markdown",
   "metadata": {
    "id": "gIFdLeULDPW4"
   },
   "source": [
    "### **7.3 Find the Optimal Cutoff** <font color = red>[12 marks]</font>\n",
    "Find the optimal cutoff to improve model performance by evaluating various cutoff values and their impact on relevant metrics."
   ]
  },
  {
   "cell_type": "markdown",
   "metadata": {
    "id": "-un_98BlDPW4"
   },
   "source": [
    "#### **7.3.1** Plot ROC Curve  to visualise the trade-off between true positive rate and false positive rate across different classification thresholds <font color=\"red\">[2 Marks]</font>"
   ]
  },
  {
   "cell_type": "code",
   "execution_count": 87,
   "metadata": {
    "id": "SfRY65pZDPW5"
   },
   "outputs": [],
   "source": [
    "# Import libraries or function to plot the ROC curve\n",
    "from sklearn.metrics import roc_curve, auc\n",
    "\n",
    "# Define ROC function\n",
    "fpr, tpr, thresholds = roc_curve(y_train_pred_final.Actual_Fraud, y_train_pred_final.PredFraud_Prob)"
   ]
  },
  {
   "cell_type": "code",
   "execution_count": 88,
   "metadata": {
    "id": "nGlAWkJDDPW6"
   },
   "outputs": [
    {
     "name": "stdout",
     "output_type": "stream",
     "text": [
      "0.6563579782850699\n"
     ]
    },
    {
     "data": {
      "image/png": "[encoded data removed]",
      "text/plain": [
       "<Figure size 576x432 with 1 Axes>"
      ]
     },
     "metadata": {
      "needs_background": "light"
     },
     "output_type": "display_data"
    }
   ],
   "source": [
    "# Call the ROC function\n",
    "roc_auc = auc(fpr, tpr)\n",
    "print(roc_auc)\n",
    "\n",
    "plt.figure(figsize=(8, 6))\n",
    "plt.plot(fpr, tpr, color='blue', lw=2, label=f'ROC Curve (AUC = {roc_auc:.2f})')\n",
    "plt.plot([0, 1], [0, 1], color='gray', linestyle='--')  # Diagonal line (random classifier)\n",
    "plt.xlabel(\"False Positive Rate (FPR)\")\n",
    "plt.ylabel(\"True Positive Rate (TPR)\")\n",
    "plt.title(\"Receiver Operating Characteristic (ROC) Curve\")\n",
    "plt.legend(loc=\"lower right\")\n",
    "plt.grid()\n",
    "plt.show()"
   ]
  },
  {
   "cell_type": "markdown",
   "metadata": {
    "id": "cFPV1EBDDPW6"
   },
   "source": [
    "**Sensitivity and Specificity tradeoff**\n",
    "\n",
    "After analysing the area under the curve of the ROC, check the sensitivity and specificity tradeoff to find the optimal cutoff point."
   ]
  },
  {
   "cell_type": "markdown",
   "metadata": {
    "id": "vjcQP2BzDPW6"
   },
   "source": [
    "#### **7.3.2** Predict on training data at various probability cutoffs <font color=\"red\">[1 Mark]</font>"
   ]
  },
  {
   "cell_type": "code",
   "execution_count": 89,
   "metadata": {
    "id": "t1UMUMNODPW6"
   },
   "outputs": [],
   "source": [
    "# Create columns with different probability cutoffs to explore the impact of cutoff on model performance\n",
    "thresholds = np.arange(0.1, 1.0, 0.1) "
   ]
  },
  {
   "cell_type": "markdown",
   "metadata": {
    "id": "0EFEKx21DPW6"
   },
   "source": [
    "#### **7.3.3** Plot accuracy, sensitivity, specificity at different values of probability cutoffs <font color=\"red\">[2 Marks]</font>"
   ]
  },
  {
   "cell_type": "code",
   "execution_count": 90,
   "metadata": {
    "id": "OsjuXoXtDPW6"
   },
   "outputs": [
    {
     "name": "stdout",
     "output_type": "stream",
     "text": [
      "Train data score:\n",
      "Threshold | Accuracy | Precision | Recall | F1-score\n",
      "--------------------------------------------------\n",
      "0.10      | 0.500  | 0.500   | 1.000  | 0.667\n",
      "0.20      | 0.527  | 0.514   | 0.996  | 0.678\n",
      "0.30      | 0.571  | 0.540   | 0.952  | 0.690\n",
      "0.40      | 0.615  | 0.575   | 0.886  | 0.697\n",
      "0.50      | 0.613  | 0.602   | 0.667  | 0.633\n",
      "0.60      | 0.548  | 0.611   | 0.262  | 0.367\n",
      "0.70      | 0.541  | 0.742   | 0.125  | 0.215\n",
      "0.80      | 0.510  | 0.789   | 0.029  | 0.055\n",
      "0.90      | 0.500  | 0.000   | 0.000  | 0.000\n"
     ]
    }
   ],
   "source": [
    "# Create a DataFrame to see the values of accuracy, sensitivity, and specificity at different values of probability cutoffs\n",
    "print(\"Train data score:\")\n",
    "print(\"Threshold | Accuracy | Precision | Recall | F1-score\")\n",
    "print(\"-\" * 50)\n",
    "\n",
    "metrics_1 = []\n",
    "\n",
    "for threshold in thresholds:\n",
    "    y_pred_classes = (y_train_pred_final.PredFraud_Prob >= threshold).astype(int)  # Convert probabilities to binary predictions\n",
    "    \n",
    "    # Calculate Metrics\n",
    "    accuracy = metrics.accuracy_score(y_train_pred_final.Actual_Fraud, y_pred_classes)\n",
    "    precision = metrics.precision_score(y_train_pred_final.Actual_Fraud, y_pred_classes)\n",
    "    recall = metrics.recall_score(y_train_pred_final.Actual_Fraud, y_pred_classes)\n",
    "    f1 = f1_score(y_train_pred_final.Actual_Fraud, y_pred_classes)\n",
    "    metrics_1.append([threshold, accuracy, recall, specificity])\n",
    "    print(f\"{threshold:.2f}      | {accuracy:.3f}  | {precision:.3f}   | {recall:.3f}  | {f1:.3f}\")\n",
    "    \n",
    "metrics_df = pd.DataFrame(metrics_1, columns=[\"Cutoff\", \"Accuracy\", \"Sensitivity\", \"Specificity\"])"
   ]
  },
  {
   "cell_type": "code",
   "execution_count": 91,
   "metadata": {
    "id": "z4og5facDPW7"
   },
   "outputs": [
    {
     "data": {
      "image/png": "[encoded data removed]",
      "text/plain": [
       "<Figure size 720x360 with 1 Axes>"
      ]
     },
     "metadata": {
      "needs_background": "light"
     },
     "output_type": "display_data"
    }
   ],
   "source": [
    "# Plot accuracy, sensitivity, and specificity at different values of probability cutoffs\n",
    "plt.figure(figsize=(10, 5))\n",
    "\n",
    "plt.plot(metrics_df[\"Cutoff\"], metrics_df[\"Accuracy\"], marker=\"o\", label=\"Accuracy\", color=\"blue\")\n",
    "plt.plot(metrics_df[\"Cutoff\"], metrics_df[\"Sensitivity\"], marker=\"s\", label=\"Sensitivity (Recall)\", color=\"green\")\n",
    "plt.plot(metrics_df[\"Cutoff\"], metrics_df[\"Specificity\"], marker=\"^\", label=\"Specificity\", color=\"red\")\n",
    "\n",
    "plt.xlabel(\"Probability Cutoff\")\n",
    "plt.ylabel(\"Metric Score\")\n",
    "plt.title(\"Accuracy, Sensitivity & Specificity vs. Probability Cutoff\")\n",
    "plt.legend()\n",
    "plt.grid()\n",
    "plt.show()\n"
   ]
  },
  {
   "cell_type": "markdown",
   "metadata": {
    "id": "o6C-ScQ1DPW7"
   },
   "source": [
    "#### **7.3.4** Create a column for final prediction based on optimal cutoff <font color=\"red\">[1 Mark]</font>"
   ]
  },
  {
   "cell_type": "code",
   "execution_count": 92,
   "metadata": {
    "id": "1p-z0A9wDPW7"
   },
   "outputs": [
    {
     "data": {
      "text/html": [
       "<div>\n",
       "<style scoped>\n",
       "    .dataframe tbody tr th:only-of-type {\n",
       "        vertical-align: middle;\n",
       "    }\n",
       "\n",
       "    .dataframe tbody tr th {\n",
       "        vertical-align: top;\n",
       "    }\n",
       "\n",
       "    .dataframe thead th {\n",
       "        text-align: right;\n",
       "    }\n",
       "</style>\n",
       "<table border=\"1\" class=\"dataframe\">\n",
       "  <thead>\n",
       "    <tr style=\"text-align: right;\">\n",
       "      <th></th>\n",
       "      <th>Actual_Fraud</th>\n",
       "      <th>PredFraud_Prob</th>\n",
       "      <th>Pred_Fraud</th>\n",
       "      <th>FinalPred_Fraud</th>\n",
       "    </tr>\n",
       "  </thead>\n",
       "  <tbody>\n",
       "    <tr>\n",
       "      <th>0</th>\n",
       "      <td>0</td>\n",
       "      <td>0.450326</td>\n",
       "      <td>0</td>\n",
       "      <td>1</td>\n",
       "    </tr>\n",
       "    <tr>\n",
       "      <th>1</th>\n",
       "      <td>0</td>\n",
       "      <td>0.420163</td>\n",
       "      <td>0</td>\n",
       "      <td>1</td>\n",
       "    </tr>\n",
       "    <tr>\n",
       "      <th>2</th>\n",
       "      <td>0</td>\n",
       "      <td>0.300211</td>\n",
       "      <td>0</td>\n",
       "      <td>1</td>\n",
       "    </tr>\n",
       "    <tr>\n",
       "      <th>3</th>\n",
       "      <td>0</td>\n",
       "      <td>0.390212</td>\n",
       "      <td>0</td>\n",
       "      <td>1</td>\n",
       "    </tr>\n",
       "    <tr>\n",
       "      <th>4</th>\n",
       "      <td>0</td>\n",
       "      <td>0.233622</td>\n",
       "      <td>0</td>\n",
       "      <td>0</td>\n",
       "    </tr>\n",
       "  </tbody>\n",
       "</table>\n",
       "</div>"
      ],
      "text/plain": [
       "   Actual_Fraud  PredFraud_Prob  Pred_Fraud  FinalPred_Fraud\n",
       "0             0        0.450326           0                1\n",
       "1             0        0.420163           0                1\n",
       "2             0        0.300211           0                1\n",
       "3             0        0.390212           0                1\n",
       "4             0        0.233622           0                0"
      ]
     },
     "execution_count": 92,
     "metadata": {},
     "output_type": "execute_result"
    }
   ],
   "source": [
    "# Create a column for final prediction based on the optimal cutoff\n",
    "y_train_pred_final['FinalPred_Fraud'] = y_train_pred_final.PredFraud_Prob.map(lambda x: 1 if x>0.3 else 0)\n",
    "y_train_pred_final.head()"
   ]
  },
  {
   "cell_type": "markdown",
   "metadata": {
    "id": "8jEQC7QlDPW7"
   },
   "source": [
    "#### **7.3.5** Calculate the accuracy <font color=\"red\">[1 Mark]</font>"
   ]
  },
  {
   "cell_type": "code",
   "execution_count": 93,
   "metadata": {
    "id": "-XARhijiDPW7"
   },
   "outputs": [
    {
     "name": "stdout",
     "output_type": "stream",
     "text": [
      "Accuracy:  0.5712927756653993\n"
     ]
    }
   ],
   "source": [
    "# Check the accuracy now\n",
    "print(\"Accuracy: \", metrics.accuracy_score(y_train_pred_final.Actual_Fraud, y_train_pred_final.FinalPred_Fraud))"
   ]
  },
  {
   "cell_type": "markdown",
   "metadata": {
    "id": "qsgvpYa3DPW-"
   },
   "source": [
    "#### **7.3.6** Create confusion matrix <font color=\"red\">[1 Mark]</font>"
   ]
  },
  {
   "cell_type": "code",
   "execution_count": 94,
   "metadata": {
    "id": "tuRtey6YDPW-"
   },
   "outputs": [
    {
     "name": "stdout",
     "output_type": "stream",
     "text": [
      "[[100 426]\n",
      " [ 25 501]]\n"
     ]
    }
   ],
   "source": [
    "# Create the confusion matrix once again\n",
    "confusion = metrics.confusion_matrix(y_train_pred_final.Actual_Fraud, y_train_pred_final.FinalPred_Fraud)\n",
    "print(confusion)"
   ]
  },
  {
   "cell_type": "markdown",
   "metadata": {
    "id": "Nbfa0CsbDPW-"
   },
   "source": [
    "#### **7.3.7** Create variables for true positive, true negative, false positive and false negative <font color=\"red\">[1 Mark]</font>"
   ]
  },
  {
   "cell_type": "code",
   "execution_count": 95,
   "metadata": {
    "id": "xAQncHXtDPW_"
   },
   "outputs": [],
   "source": [
    "# Create variables for true positive, true negative, false positive and false negative\n",
    "tn, fp, fn, tp = confusion.ravel()"
   ]
  },
  {
   "cell_type": "markdown",
   "metadata": {
    "id": "z7KXFHRnDPW_"
   },
   "source": [
    "#### **7.3.8** Calculate sensitivity, specificity, precision, recall and F1-score of the model <font color=\"red\">[2 Mark]</font>"
   ]
  },
  {
   "cell_type": "code",
   "execution_count": 96,
   "metadata": {
    "id": "958ly8K8DPW_"
   },
   "outputs": [
    {
     "name": "stdout",
     "output_type": "stream",
     "text": [
      "Sensitivity: 0.95\n",
      "Specificity: 0.19\n",
      "Precision: 0.54\n",
      "Recall: 0.95\n",
      "F1: 0.69\n"
     ]
    }
   ],
   "source": [
    "# Calculate the sensitivity\n",
    "sensitivity = tp / (tp + fn)\n",
    "\n",
    "# Calculate the specificity\n",
    "specificity = tn / (tn + fp)\n",
    "\n",
    "# Calculate Precision\n",
    "precision = tp / (tp + fp)\n",
    "\n",
    "# Calculate Recall\n",
    "recall = tp / (tp + fn)\n",
    "\n",
    "# Calculate F1 Score\n",
    "f1 = 2 * (precision * recall) / (precision + recall)\n",
    "\n",
    "print(f\"Sensitivity: {sensitivity:.2f}\")\n",
    "print(f\"Specificity: {specificity:.2f}\")\n",
    "print(f\"Precision: {precision:.2f}\")\n",
    "print(f\"Recall: {recall:.2f}\")\n",
    "print(f\"F1: {f1:.2f}\")\n"
   ]
  },
  {
   "cell_type": "markdown",
   "metadata": {
    "id": "_dNjDGtNDPXA"
   },
   "source": [
    "**Precision and Recall tradeoff**\n",
    "\n",
    "Check optimal cutoff value by plotting precision-recall curve, and adjust the cutoff based on precision and recall tradeoff if required."
   ]
  },
  {
   "cell_type": "code",
   "execution_count": 97,
   "metadata": {
    "id": "HGKKbLQgDPXA"
   },
   "outputs": [],
   "source": [
    "# Import precision-recall curve function\n",
    "from sklearn.metrics import precision_recall_curve"
   ]
  },
  {
   "cell_type": "markdown",
   "metadata": {
    "id": "G4_-ZTXYDPXB"
   },
   "source": [
    "#### **7.3.9** Plot precision-recall curve <font color=\"red\">[1 Mark]</font>"
   ]
  },
  {
   "cell_type": "code",
   "execution_count": 98,
   "metadata": {
    "id": "Wj2qr5FSDPXB"
   },
   "outputs": [
    {
     "data": {
      "image/png": "[encoded data removed]",
      "text/plain": [
       "<Figure size 576x432 with 1 Axes>"
      ]
     },
     "metadata": {
      "needs_background": "light"
     },
     "output_type": "display_data"
    }
   ],
   "source": [
    "# Plot precision-recall curve\n",
    "precision, recall, thresholds = precision_recall_curve(y_train_pred_final.Actual_Fraud, y_train_pred_final.FinalPred_Fraud)\n",
    "pr_auc = auc(recall, precision) \n",
    "\n",
    "plt.figure(figsize=(8, 6))\n",
    "plt.plot(recall, precision, marker='.', label=f'PR Curve (AUC = {pr_auc:.2f})\", color=\"blue')\n",
    "#plt.plot(recall, precision, color='blue', lw=2, label=f'Precision-Recall Curve (AP = {avg_precision:.2f})')\n",
    "plt.xlabel(\"Recall\")\n",
    "plt.ylabel(\"Precision\")\n",
    "plt.title(\"Precision-Recall Curve\")\n",
    "plt.legend()\n",
    "plt.grid()\n",
    "plt.show()"
   ]
  },
  {
   "cell_type": "markdown",
   "metadata": {
    "id": "VdNY3cNPDPXB"
   },
   "source": [
    "### **7.4 Build Random Forest Model** <font color = red>[12 marks]</font>\n",
    "Now that you have built a logistic regression model, let's move on to building a random forest model."
   ]
  },
  {
   "cell_type": "markdown",
   "metadata": {
    "id": "sS2Hc10fDPXC"
   },
   "source": [
    "#### **7.4.1** Import necessary libraries"
   ]
  },
  {
   "cell_type": "code",
   "execution_count": 99,
   "metadata": {
    "id": "S6duSoHlDPXC"
   },
   "outputs": [],
   "source": [
    "# Import necessary libraries\n",
    "from sklearn.ensemble import RandomForestClassifier\n",
    "from sklearn.metrics import classification_report\n",
    "from sklearn.model_selection import cross_val_score, GridSearchCV"
   ]
  },
  {
   "cell_type": "markdown",
   "metadata": {
    "id": "7Euc5ukLDPXC"
   },
   "source": [
    "#### **7.4.2** Build the random forest model <font color=\"red\">[1 Mark]</font>"
   ]
  },
  {
   "cell_type": "code",
   "execution_count": 100,
   "metadata": {
    "id": "3ouCc_YFDPXC"
   },
   "outputs": [
    {
     "data": {
      "text/html": [
       "<style>#sk-container-id-2 {\n",
       "  /* Definition of color scheme common for light and dark mode */\n",
       "  --sklearn-color-text: #000;\n",
       "  --sklearn-color-text-muted: #666;\n",
       "  --sklearn-color-line: gray;\n",
       "  /* Definition of color scheme for unfitted estimators */\n",
       "  --sklearn-color-unfitted-level-0: #fff5e6;\n",
       "  --sklearn-color-unfitted-level-1: #f6e4d2;\n",
       "  --sklearn-color-unfitted-level-2: #ffe0b3;\n",
       "  --sklearn-color-unfitted-level-3: chocolate;\n",
       "  /* Definition of color scheme for fitted estimators */\n",
       "  --sklearn-color-fitted-level-0: #f0f8ff;\n",
       "  --sklearn-color-fitted-level-1: #d4ebff;\n",
       "  --sklearn-color-fitted-level-2: #b3dbfd;\n",
       "  --sklearn-color-fitted-level-3: cornflowerblue;\n",
       "\n",
       "  /* Specific color for light theme */\n",
       "  --sklearn-color-text-on-default-background: var(--sg-text-color, var(--theme-code-foreground, var(--jp-content-font-color1, black)));\n",
       "  --sklearn-color-background: var(--sg-background-color, var(--theme-background, var(--jp-layout-color0, white)));\n",
       "  --sklearn-color-border-box: var(--sg-text-color, var(--theme-code-foreground, var(--jp-content-font-color1, black)));\n",
       "  --sklearn-color-icon: #696969;\n",
       "\n",
       "  @media (prefers-color-scheme: dark) {\n",
       "    /* Redefinition of color scheme for dark theme */\n",
       "    --sklearn-color-text-on-default-background: var(--sg-text-color, var(--theme-code-foreground, var(--jp-content-font-color1, white)));\n",
       "    --sklearn-color-background: var(--sg-background-color, var(--theme-background, var(--jp-layout-color0, #111)));\n",
       "    --sklearn-color-border-box: var(--sg-text-color, var(--theme-code-foreground, var(--jp-content-font-color1, white)));\n",
       "    --sklearn-color-icon: #878787;\n",
       "  }\n",
       "}\n",
       "\n",
       "#sk-container-id-2 {\n",
       "  color: var(--sklearn-color-text);\n",
       "}\n",
       "\n",
       "#sk-container-id-2 pre {\n",
       "  padding: 0;\n",
       "}\n",
       "\n",
       "#sk-container-id-2 input.sk-hidden--visually {\n",
       "  border: 0;\n",
       "  clip: rect(1px 1px 1px 1px);\n",
       "  clip: rect(1px, 1px, 1px, 1px);\n",
       "  height: 1px;\n",
       "  margin: -1px;\n",
       "  overflow: hidden;\n",
       "  padding: 0;\n",
       "  position: absolute;\n",
       "  width: 1px;\n",
       "}\n",
       "\n",
       "#sk-container-id-2 div.sk-dashed-wrapped {\n",
       "  border: 1px dashed var(--sklearn-color-line);\n",
       "  margin: 0 0.4em 0.5em 0.4em;\n",
       "  box-sizing: border-box;\n",
       "  padding-bottom: 0.4em;\n",
       "  background-color: var(--sklearn-color-background);\n",
       "}\n",
       "\n",
       "#sk-container-id-2 div.sk-container {\n",
       "  /* jupyter's `normalize.less` sets `[hidden] { display: none; }`\n",
       "     but bootstrap.min.css set `[hidden] { display: none !important; }`\n",
       "     so we also need the `!important` here to be able to override the\n",
       "     default hidden behavior on the sphinx rendered scikit-learn.org.\n",
       "     See: https://github.com/scikit-learn/scikit-learn/issues/21755 */\n",
       "  display: inline-block !important;\n",
       "  position: relative;\n",
       "}\n",
       "\n",
       "#sk-container-id-2 div.sk-text-repr-fallback {\n",
       "  display: none;\n",
       "}\n",
       "\n",
       "div.sk-parallel-item,\n",
       "div.sk-serial,\n",
       "div.sk-item {\n",
       "  /* draw centered vertical line to link estimators */\n",
       "  background-image: linear-gradient(var(--sklearn-color-text-on-default-background), var(--sklearn-color-text-on-default-background));\n",
       "  background-size: 2px 100%;\n",
       "  background-repeat: no-repeat;\n",
       "  background-position: center center;\n",
       "}\n",
       "\n",
       "/* Parallel-specific style estimator block */\n",
       "\n",
       "#sk-container-id-2 div.sk-parallel-item::after {\n",
       "  content: \"\";\n",
       "  width: 100%;\n",
       "  border-bottom: 2px solid var(--sklearn-color-text-on-default-background);\n",
       "  flex-grow: 1;\n",
       "}\n",
       "\n",
       "#sk-container-id-2 div.sk-parallel {\n",
       "  display: flex;\n",
       "  align-items: stretch;\n",
       "  justify-content: center;\n",
       "  background-color: var(--sklearn-color-background);\n",
       "  position: relative;\n",
       "}\n",
       "\n",
       "#sk-container-id-2 div.sk-parallel-item {\n",
       "  display: flex;\n",
       "  flex-direction: column;\n",
       "}\n",
       "\n",
       "#sk-container-id-2 div.sk-parallel-item:first-child::after {\n",
       "  align-self: flex-end;\n",
       "  width: 50%;\n",
       "}\n",
       "\n",
       "#sk-container-id-2 div.sk-parallel-item:last-child::after {\n",
       "  align-self: flex-start;\n",
       "  width: 50%;\n",
       "}\n",
       "\n",
       "#sk-container-id-2 div.sk-parallel-item:only-child::after {\n",
       "  width: 0;\n",
       "}\n",
       "\n",
       "/* Serial-specific style estimator block */\n",
       "\n",
       "#sk-container-id-2 div.sk-serial {\n",
       "  display: flex;\n",
       "  flex-direction: column;\n",
       "  align-items: center;\n",
       "  background-color: var(--sklearn-color-background);\n",
       "  padding-right: 1em;\n",
       "  padding-left: 1em;\n",
       "}\n",
       "\n",
       "\n",
       "/* Toggleable style: style used for estimator/Pipeline/ColumnTransformer box that is\n",
       "clickable and can be expanded/collapsed.\n",
       "- Pipeline and ColumnTransformer use this feature and define the default style\n",
       "- Estimators will overwrite some part of the style using the `sk-estimator` class\n",
       "*/\n",
       "\n",
       "/* Pipeline and ColumnTransformer style (default) */\n",
       "\n",
       "#sk-container-id-2 div.sk-toggleable {\n",
       "  /* Default theme specific background. It is overwritten whether we have a\n",
       "  specific estimator or a Pipeline/ColumnTransformer */\n",
       "  background-color: var(--sklearn-color-background);\n",
       "}\n",
       "\n",
       "/* Toggleable label */\n",
       "#sk-container-id-2 label.sk-toggleable__label {\n",
       "  cursor: pointer;\n",
       "  display: flex;\n",
       "  width: 100%;\n",
       "  margin-bottom: 0;\n",
       "  padding: 0.5em;\n",
       "  box-sizing: border-box;\n",
       "  text-align: center;\n",
       "  align-items: start;\n",
       "  justify-content: space-between;\n",
       "  gap: 0.5em;\n",
       "}\n",
       "\n",
       "#sk-container-id-2 label.sk-toggleable__label .caption {\n",
       "  font-size: 0.6rem;\n",
       "  font-weight: lighter;\n",
       "  color: var(--sklearn-color-text-muted);\n",
       "}\n",
       "\n",
       "#sk-container-id-2 label.sk-toggleable__label-arrow:before {\n",
       "  /* Arrow on the left of the label */\n",
       "  content: \"▸\";\n",
       "  float: left;\n",
       "  margin-right: 0.25em;\n",
       "  color: var(--sklearn-color-icon);\n",
       "}\n",
       "\n",
       "#sk-container-id-2 label.sk-toggleable__label-arrow:hover:before {\n",
       "  color: var(--sklearn-color-text);\n",
       "}\n",
       "\n",
       "/* Toggleable content - dropdown */\n",
       "\n",
       "#sk-container-id-2 div.sk-toggleable__content {\n",
       "  max-height: 0;\n",
       "  max-width: 0;\n",
       "  overflow: hidden;\n",
       "  text-align: left;\n",
       "  /* unfitted */\n",
       "  background-color: var(--sklearn-color-unfitted-level-0);\n",
       "}\n",
       "\n",
       "#sk-container-id-2 div.sk-toggleable__content.fitted {\n",
       "  /* fitted */\n",
       "  background-color: var(--sklearn-color-fitted-level-0);\n",
       "}\n",
       "\n",
       "#sk-container-id-2 div.sk-toggleable__content pre {\n",
       "  margin: 0.2em;\n",
       "  border-radius: 0.25em;\n",
       "  color: var(--sklearn-color-text);\n",
       "  /* unfitted */\n",
       "  background-color: var(--sklearn-color-unfitted-level-0);\n",
       "}\n",
       "\n",
       "#sk-container-id-2 div.sk-toggleable__content.fitted pre {\n",
       "  /* unfitted */\n",
       "  background-color: var(--sklearn-color-fitted-level-0);\n",
       "}\n",
       "\n",
       "#sk-container-id-2 input.sk-toggleable__control:checked~div.sk-toggleable__content {\n",
       "  /* Expand drop-down */\n",
       "  max-height: 200px;\n",
       "  max-width: 100%;\n",
       "  overflow: auto;\n",
       "}\n",
       "\n",
       "#sk-container-id-2 input.sk-toggleable__control:checked~label.sk-toggleable__label-arrow:before {\n",
       "  content: \"▾\";\n",
       "}\n",
       "\n",
       "/* Pipeline/ColumnTransformer-specific style */\n",
       "\n",
       "#sk-container-id-2 div.sk-label input.sk-toggleable__control:checked~label.sk-toggleable__label {\n",
       "  color: var(--sklearn-color-text);\n",
       "  background-color: var(--sklearn-color-unfitted-level-2);\n",
       "}\n",
       "\n",
       "#sk-container-id-2 div.sk-label.fitted input.sk-toggleable__control:checked~label.sk-toggleable__label {\n",
       "  background-color: var(--sklearn-color-fitted-level-2);\n",
       "}\n",
       "\n",
       "/* Estimator-specific style */\n",
       "\n",
       "/* Colorize estimator box */\n",
       "#sk-container-id-2 div.sk-estimator input.sk-toggleable__control:checked~label.sk-toggleable__label {\n",
       "  /* unfitted */\n",
       "  background-color: var(--sklearn-color-unfitted-level-2);\n",
       "}\n",
       "\n",
       "#sk-container-id-2 div.sk-estimator.fitted input.sk-toggleable__control:checked~label.sk-toggleable__label {\n",
       "  /* fitted */\n",
       "  background-color: var(--sklearn-color-fitted-level-2);\n",
       "}\n",
       "\n",
       "#sk-container-id-2 div.sk-label label.sk-toggleable__label,\n",
       "#sk-container-id-2 div.sk-label label {\n",
       "  /* The background is the default theme color */\n",
       "  color: var(--sklearn-color-text-on-default-background);\n",
       "}\n",
       "\n",
       "/* On hover, darken the color of the background */\n",
       "#sk-container-id-2 div.sk-label:hover label.sk-toggleable__label {\n",
       "  color: var(--sklearn-color-text);\n",
       "  background-color: var(--sklearn-color-unfitted-level-2);\n",
       "}\n",
       "\n",
       "/* Label box, darken color on hover, fitted */\n",
       "#sk-container-id-2 div.sk-label.fitted:hover label.sk-toggleable__label.fitted {\n",
       "  color: var(--sklearn-color-text);\n",
       "  background-color: var(--sklearn-color-fitted-level-2);\n",
       "}\n",
       "\n",
       "/* Estimator label */\n",
       "\n",
       "#sk-container-id-2 div.sk-label label {\n",
       "  font-family: monospace;\n",
       "  font-weight: bold;\n",
       "  display: inline-block;\n",
       "  line-height: 1.2em;\n",
       "}\n",
       "\n",
       "#sk-container-id-2 div.sk-label-container {\n",
       "  text-align: center;\n",
       "}\n",
       "\n",
       "/* Estimator-specific */\n",
       "#sk-container-id-2 div.sk-estimator {\n",
       "  font-family: monospace;\n",
       "  border: 1px dotted var(--sklearn-color-border-box);\n",
       "  border-radius: 0.25em;\n",
       "  box-sizing: border-box;\n",
       "  margin-bottom: 0.5em;\n",
       "  /* unfitted */\n",
       "  background-color: var(--sklearn-color-unfitted-level-0);\n",
       "}\n",
       "\n",
       "#sk-container-id-2 div.sk-estimator.fitted {\n",
       "  /* fitted */\n",
       "  background-color: var(--sklearn-color-fitted-level-0);\n",
       "}\n",
       "\n",
       "/* on hover */\n",
       "#sk-container-id-2 div.sk-estimator:hover {\n",
       "  /* unfitted */\n",
       "  background-color: var(--sklearn-color-unfitted-level-2);\n",
       "}\n",
       "\n",
       "#sk-container-id-2 div.sk-estimator.fitted:hover {\n",
       "  /* fitted */\n",
       "  background-color: var(--sklearn-color-fitted-level-2);\n",
       "}\n",
       "\n",
       "/* Specification for estimator info (e.g. \"i\" and \"?\") */\n",
       "\n",
       "/* Common style for \"i\" and \"?\" */\n",
       "\n",
       ".sk-estimator-doc-link,\n",
       "a:link.sk-estimator-doc-link,\n",
       "a:visited.sk-estimator-doc-link {\n",
       "  float: right;\n",
       "  font-size: smaller;\n",
       "  line-height: 1em;\n",
       "  font-family: monospace;\n",
       "  background-color: var(--sklearn-color-background);\n",
       "  border-radius: 1em;\n",
       "  height: 1em;\n",
       "  width: 1em;\n",
       "  text-decoration: none !important;\n",
       "  margin-left: 0.5em;\n",
       "  text-align: center;\n",
       "  /* unfitted */\n",
       "  border: var(--sklearn-color-unfitted-level-1) 1pt solid;\n",
       "  color: var(--sklearn-color-unfitted-level-1);\n",
       "}\n",
       "\n",
       ".sk-estimator-doc-link.fitted,\n",
       "a:link.sk-estimator-doc-link.fitted,\n",
       "a:visited.sk-estimator-doc-link.fitted {\n",
       "  /* fitted */\n",
       "  border: var(--sklearn-color-fitted-level-1) 1pt solid;\n",
       "  color: var(--sklearn-color-fitted-level-1);\n",
       "}\n",
       "\n",
       "/* On hover */\n",
       "div.sk-estimator:hover .sk-estimator-doc-link:hover,\n",
       ".sk-estimator-doc-link:hover,\n",
       "div.sk-label-container:hover .sk-estimator-doc-link:hover,\n",
       ".sk-estimator-doc-link:hover {\n",
       "  /* unfitted */\n",
       "  background-color: var(--sklearn-color-unfitted-level-3);\n",
       "  color: var(--sklearn-color-background);\n",
       "  text-decoration: none;\n",
       "}\n",
       "\n",
       "div.sk-estimator.fitted:hover .sk-estimator-doc-link.fitted:hover,\n",
       ".sk-estimator-doc-link.fitted:hover,\n",
       "div.sk-label-container:hover .sk-estimator-doc-link.fitted:hover,\n",
       ".sk-estimator-doc-link.fitted:hover {\n",
       "  /* fitted */\n",
       "  background-color: var(--sklearn-color-fitted-level-3);\n",
       "  color: var(--sklearn-color-background);\n",
       "  text-decoration: none;\n",
       "}\n",
       "\n",
       "/* Span, style for the box shown on hovering the info icon */\n",
       ".sk-estimator-doc-link span {\n",
       "  display: none;\n",
       "  z-index: 9999;\n",
       "  position: relative;\n",
       "  font-weight: normal;\n",
       "  right: .2ex;\n",
       "  padding: .5ex;\n",
       "  margin: .5ex;\n",
       "  width: min-content;\n",
       "  min-width: 20ex;\n",
       "  max-width: 50ex;\n",
       "  color: var(--sklearn-color-text);\n",
       "  box-shadow: 2pt 2pt 4pt #999;\n",
       "  /* unfitted */\n",
       "  background: var(--sklearn-color-unfitted-level-0);\n",
       "  border: .5pt solid var(--sklearn-color-unfitted-level-3);\n",
       "}\n",
       "\n",
       ".sk-estimator-doc-link.fitted span {\n",
       "  /* fitted */\n",
       "  background: var(--sklearn-color-fitted-level-0);\n",
       "  border: var(--sklearn-color-fitted-level-3);\n",
       "}\n",
       "\n",
       ".sk-estimator-doc-link:hover span {\n",
       "  display: block;\n",
       "}\n",
       "\n",
       "/* \"?\"-specific style due to the `<a>` HTML tag */\n",
       "\n",
       "#sk-container-id-2 a.estimator_doc_link {\n",
       "  float: right;\n",
       "  font-size: 1rem;\n",
       "  line-height: 1em;\n",
       "  font-family: monospace;\n",
       "  background-color: var(--sklearn-color-background);\n",
       "  border-radius: 1rem;\n",
       "  height: 1rem;\n",
       "  width: 1rem;\n",
       "  text-decoration: none;\n",
       "  /* unfitted */\n",
       "  color: var(--sklearn-color-unfitted-level-1);\n",
       "  border: var(--sklearn-color-unfitted-level-1) 1pt solid;\n",
       "}\n",
       "\n",
       "#sk-container-id-2 a.estimator_doc_link.fitted {\n",
       "  /* fitted */\n",
       "  border: var(--sklearn-color-fitted-level-1) 1pt solid;\n",
       "  color: var(--sklearn-color-fitted-level-1);\n",
       "}\n",
       "\n",
       "/* On hover */\n",
       "#sk-container-id-2 a.estimator_doc_link:hover {\n",
       "  /* unfitted */\n",
       "  background-color: var(--sklearn-color-unfitted-level-3);\n",
       "  color: var(--sklearn-color-background);\n",
       "  text-decoration: none;\n",
       "}\n",
       "\n",
       "#sk-container-id-2 a.estimator_doc_link.fitted:hover {\n",
       "  /* fitted */\n",
       "  background-color: var(--sklearn-color-fitted-level-3);\n",
       "}\n",
       "</style><div id=\"sk-container-id-2\" class=\"sk-top-container\"><div class=\"sk-text-repr-fallback\"><pre>RandomForestClassifier(max_depth=3, n_estimators=10, oob_score=True,\n",
       "                       random_state=42)</pre><b>In a Jupyter environment, please rerun this cell to show the HTML representation or trust the notebook. <br />On GitHub, the HTML representation is unable to render, please try loading this page with nbviewer.org.</b></div><div class=\"sk-container\" hidden><div class=\"sk-item\"><div class=\"sk-estimator fitted sk-toggleable\"><input class=\"sk-toggleable__control sk-hidden--visually\" id=\"sk-estimator-id-4\" type=\"checkbox\" checked><label for=\"sk-estimator-id-4\" class=\"sk-toggleable__label fitted sk-toggleable__label-arrow\"><div><div>RandomForestClassifier</div></div><div><a class=\"sk-estimator-doc-link fitted\" rel=\"noreferrer\" target=\"_blank\" href=\"https://scikit-learn.org/1.6/modules/generated/sklearn.ensemble.RandomForestClassifier.html\">?<span>Documentation for RandomForestClassifier</span></a><span class=\"sk-estimator-doc-link fitted\">i<span>Fitted</span></span></div></label><div class=\"sk-toggleable__content fitted\"><pre>RandomForestClassifier(max_depth=3, n_estimators=10, oob_score=True,\n",
       "                       random_state=42)</pre></div> </div></div></div></div>"
      ],
      "text/plain": [
       "RandomForestClassifier(max_depth=3, n_estimators=10, oob_score=True,\n",
       "                       random_state=42)"
      ]
     },
     "execution_count": 100,
     "metadata": {},
     "output_type": "execute_result"
    }
   ],
   "source": [
    "# Build a base random forest model\n",
    "rf = RandomForestClassifier(random_state=42, max_depth=3, n_estimators=10, oob_score=True)\n",
    "rf.fit(X_train_scaled, y_train_resampled)"
   ]
  },
  {
   "cell_type": "markdown",
   "metadata": {
    "id": "wr3ExsTgUSKl"
   },
   "source": [
    "#### **7.4.3** Get feature importance scores and select important features <font color=\"red\">[2 Marks]</font>"
   ]
  },
  {
   "cell_type": "code",
   "execution_count": 101,
   "metadata": {
    "id": "eSnQ3xQL__gV"
   },
   "outputs": [
    {
     "name": "stdout",
     "output_type": "stream",
     "text": [
      "                         Feature  Importance\n",
      "10            total_claim_amount    0.297365\n",
      "0             months_as_customer    0.096396\n",
      "4                  capital-gains    0.092447\n",
      "3                 umbrella_limit    0.068834\n",
      "14    authorities_contacted_None    0.066433\n",
      "12    incident_days_since_policy    0.064940\n",
      "2          policy_annual_premium    0.058618\n",
      "11                     auto_year    0.049979\n",
      "22             incident_state_WV    0.048874\n",
      "8                bodily_injuries    0.036807\n",
      "20             incident_state_SC    0.027256\n",
      "6       incident_hour_of_the_day    0.020341\n",
      "7    number_of_vehicles_involved    0.019832\n",
      "1              policy_deductable    0.017847\n",
      "9                      witnesses    0.012105\n",
      "18             incident_state_OH    0.008351\n",
      "13    authorities_contacted_Fire    0.008222\n",
      "15   authorities_contacted_Other    0.005354\n",
      "5                   capital-loss    0.000000\n",
      "16  authorities_contacted_Police    0.000000\n",
      "17             incident_state_NY    0.000000\n",
      "19             incident_state_PA    0.000000\n",
      "21             incident_state_VA    0.000000\n"
     ]
    }
   ],
   "source": [
    "# Get feature importance scores from the trained model\n",
    "feature_importance = rf.feature_importances_\n",
    "# Create a DataFrame to visualise the importance scores\n",
    "importance_df = pd.DataFrame({'Feature': X_train_scaled.columns,\n",
    "                             'Importance': feature_importance})\n",
    "importance_df = importance_df.sort_values(by='Importance', ascending=False)\n",
    "\n",
    "print(importance_df)"
   ]
  },
  {
   "cell_type": "code",
   "execution_count": 102,
   "metadata": {
    "id": "yQIR2yUqxNVI"
   },
   "outputs": [
    {
     "name": "stdout",
     "output_type": "stream",
     "text": [
      "<class 'pandas.core.frame.DataFrame'>\n",
      "RangeIndex: 1052 entries, 0 to 1051\n",
      "Data columns (total 10 columns):\n",
      " #   Column                      Non-Null Count  Dtype  \n",
      "---  ------                      --------------  -----  \n",
      " 0   total_claim_amount          1052 non-null   float64\n",
      " 1   months_as_customer          1052 non-null   float64\n",
      " 2   capital-gains               1052 non-null   float64\n",
      " 3   umbrella_limit              1052 non-null   float64\n",
      " 4   authorities_contacted_None  1052 non-null   float64\n",
      " 5   incident_days_since_policy  1052 non-null   float64\n",
      " 6   policy_annual_premium       1052 non-null   float64\n",
      " 7   auto_year                   1052 non-null   float64\n",
      " 8   incident_state_WV           1052 non-null   float64\n",
      " 9   bodily_injuries             1052 non-null   float64\n",
      "dtypes: float64(10)\n",
      "memory usage: 82.3 KB\n"
     ]
    }
   ],
   "source": [
    "# Select features with high importance scores\n",
    "cutoff = 0.03  # Define threshold\n",
    "selected_features = importance_df[importance_df['Importance'] > cutoff].Feature\n",
    "selected_features\n",
    "# Create a new training data with only the selected features\n",
    "X_train_imp = X_train_scaled[selected_features]\n",
    "X_train_imp.info()"
   ]
  },
  {
   "cell_type": "code",
   "execution_count": 103,
   "metadata": {},
   "outputs": [
    {
     "name": "stdout",
     "output_type": "stream",
     "text": [
      "<class 'pandas.core.frame.DataFrame'>\n",
      "RangeIndex: 300 entries, 0 to 299\n",
      "Data columns (total 10 columns):\n",
      " #   Column                      Non-Null Count  Dtype  \n",
      "---  ------                      --------------  -----  \n",
      " 0   total_claim_amount          300 non-null    float64\n",
      " 1   months_as_customer          300 non-null    float64\n",
      " 2   capital-gains               300 non-null    float64\n",
      " 3   umbrella_limit              300 non-null    float64\n",
      " 4   authorities_contacted_None  300 non-null    float64\n",
      " 5   incident_days_since_policy  300 non-null    float64\n",
      " 6   policy_annual_premium       300 non-null    float64\n",
      " 7   auto_year                   300 non-null    float64\n",
      " 8   incident_state_WV           300 non-null    float64\n",
      " 9   bodily_injuries             300 non-null    float64\n",
      "dtypes: float64(10)\n",
      "memory usage: 23.6 KB\n"
     ]
    }
   ],
   "source": [
    "X_test_imp = X_test_scaled[selected_features]\n",
    "X_test_imp.info()"
   ]
  },
  {
   "cell_type": "markdown",
   "metadata": {
    "id": "wTzZ1YnhU9Dt"
   },
   "source": [
    "#### **7.4.4** Train the model with selected features <font color=\"red\">[1 Mark]</font>"
   ]
  },
  {
   "cell_type": "code",
   "execution_count": 104,
   "metadata": {
    "id": "IeU6JcgJUnPs"
   },
   "outputs": [
    {
     "data": {
      "text/html": [
       "<style>#sk-container-id-3 {\n",
       "  /* Definition of color scheme common for light and dark mode */\n",
       "  --sklearn-color-text: #000;\n",
       "  --sklearn-color-text-muted: #666;\n",
       "  --sklearn-color-line: gray;\n",
       "  /* Definition of color scheme for unfitted estimators */\n",
       "  --sklearn-color-unfitted-level-0: #fff5e6;\n",
       "  --sklearn-color-unfitted-level-1: #f6e4d2;\n",
       "  --sklearn-color-unfitted-level-2: #ffe0b3;\n",
       "  --sklearn-color-unfitted-level-3: chocolate;\n",
       "  /* Definition of color scheme for fitted estimators */\n",
       "  --sklearn-color-fitted-level-0: #f0f8ff;\n",
       "  --sklearn-color-fitted-level-1: #d4ebff;\n",
       "  --sklearn-color-fitted-level-2: #b3dbfd;\n",
       "  --sklearn-color-fitted-level-3: cornflowerblue;\n",
       "\n",
       "  /* Specific color for light theme */\n",
       "  --sklearn-color-text-on-default-background: var(--sg-text-color, var(--theme-code-foreground, var(--jp-content-font-color1, black)));\n",
       "  --sklearn-color-background: var(--sg-background-color, var(--theme-background, var(--jp-layout-color0, white)));\n",
       "  --sklearn-color-border-box: var(--sg-text-color, var(--theme-code-foreground, var(--jp-content-font-color1, black)));\n",
       "  --sklearn-color-icon: #696969;\n",
       "\n",
       "  @media (prefers-color-scheme: dark) {\n",
       "    /* Redefinition of color scheme for dark theme */\n",
       "    --sklearn-color-text-on-default-background: var(--sg-text-color, var(--theme-code-foreground, var(--jp-content-font-color1, white)));\n",
       "    --sklearn-color-background: var(--sg-background-color, var(--theme-background, var(--jp-layout-color0, #111)));\n",
       "    --sklearn-color-border-box: var(--sg-text-color, var(--theme-code-foreground, var(--jp-content-font-color1, white)));\n",
       "    --sklearn-color-icon: #878787;\n",
       "  }\n",
       "}\n",
       "\n",
       "#sk-container-id-3 {\n",
       "  color: var(--sklearn-color-text);\n",
       "}\n",
       "\n",
       "#sk-container-id-3 pre {\n",
       "  padding: 0;\n",
       "}\n",
       "\n",
       "#sk-container-id-3 input.sk-hidden--visually {\n",
       "  border: 0;\n",
       "  clip: rect(1px 1px 1px 1px);\n",
       "  clip: rect(1px, 1px, 1px, 1px);\n",
       "  height: 1px;\n",
       "  margin: -1px;\n",
       "  overflow: hidden;\n",
       "  padding: 0;\n",
       "  position: absolute;\n",
       "  width: 1px;\n",
       "}\n",
       "\n",
       "#sk-container-id-3 div.sk-dashed-wrapped {\n",
       "  border: 1px dashed var(--sklearn-color-line);\n",
       "  margin: 0 0.4em 0.5em 0.4em;\n",
       "  box-sizing: border-box;\n",
       "  padding-bottom: 0.4em;\n",
       "  background-color: var(--sklearn-color-background);\n",
       "}\n",
       "\n",
       "#sk-container-id-3 div.sk-container {\n",
       "  /* jupyter's `normalize.less` sets `[hidden] { display: none; }`\n",
       "     but bootstrap.min.css set `[hidden] { display: none !important; }`\n",
       "     so we also need the `!important` here to be able to override the\n",
       "     default hidden behavior on the sphinx rendered scikit-learn.org.\n",
       "     See: https://github.com/scikit-learn/scikit-learn/issues/21755 */\n",
       "  display: inline-block !important;\n",
       "  position: relative;\n",
       "}\n",
       "\n",
       "#sk-container-id-3 div.sk-text-repr-fallback {\n",
       "  display: none;\n",
       "}\n",
       "\n",
       "div.sk-parallel-item,\n",
       "div.sk-serial,\n",
       "div.sk-item {\n",
       "  /* draw centered vertical line to link estimators */\n",
       "  background-image: linear-gradient(var(--sklearn-color-text-on-default-background), var(--sklearn-color-text-on-default-background));\n",
       "  background-size: 2px 100%;\n",
       "  background-repeat: no-repeat;\n",
       "  background-position: center center;\n",
       "}\n",
       "\n",
       "/* Parallel-specific style estimator block */\n",
       "\n",
       "#sk-container-id-3 div.sk-parallel-item::after {\n",
       "  content: \"\";\n",
       "  width: 100%;\n",
       "  border-bottom: 2px solid var(--sklearn-color-text-on-default-background);\n",
       "  flex-grow: 1;\n",
       "}\n",
       "\n",
       "#sk-container-id-3 div.sk-parallel {\n",
       "  display: flex;\n",
       "  align-items: stretch;\n",
       "  justify-content: center;\n",
       "  background-color: var(--sklearn-color-background);\n",
       "  position: relative;\n",
       "}\n",
       "\n",
       "#sk-container-id-3 div.sk-parallel-item {\n",
       "  display: flex;\n",
       "  flex-direction: column;\n",
       "}\n",
       "\n",
       "#sk-container-id-3 div.sk-parallel-item:first-child::after {\n",
       "  align-self: flex-end;\n",
       "  width: 50%;\n",
       "}\n",
       "\n",
       "#sk-container-id-3 div.sk-parallel-item:last-child::after {\n",
       "  align-self: flex-start;\n",
       "  width: 50%;\n",
       "}\n",
       "\n",
       "#sk-container-id-3 div.sk-parallel-item:only-child::after {\n",
       "  width: 0;\n",
       "}\n",
       "\n",
       "/* Serial-specific style estimator block */\n",
       "\n",
       "#sk-container-id-3 div.sk-serial {\n",
       "  display: flex;\n",
       "  flex-direction: column;\n",
       "  align-items: center;\n",
       "  background-color: var(--sklearn-color-background);\n",
       "  padding-right: 1em;\n",
       "  padding-left: 1em;\n",
       "}\n",
       "\n",
       "\n",
       "/* Toggleable style: style used for estimator/Pipeline/ColumnTransformer box that is\n",
       "clickable and can be expanded/collapsed.\n",
       "- Pipeline and ColumnTransformer use this feature and define the default style\n",
       "- Estimators will overwrite some part of the style using the `sk-estimator` class\n",
       "*/\n",
       "\n",
       "/* Pipeline and ColumnTransformer style (default) */\n",
       "\n",
       "#sk-container-id-3 div.sk-toggleable {\n",
       "  /* Default theme specific background. It is overwritten whether we have a\n",
       "  specific estimator or a Pipeline/ColumnTransformer */\n",
       "  background-color: var(--sklearn-color-background);\n",
       "}\n",
       "\n",
       "/* Toggleable label */\n",
       "#sk-container-id-3 label.sk-toggleable__label {\n",
       "  cursor: pointer;\n",
       "  display: flex;\n",
       "  width: 100%;\n",
       "  margin-bottom: 0;\n",
       "  padding: 0.5em;\n",
       "  box-sizing: border-box;\n",
       "  text-align: center;\n",
       "  align-items: start;\n",
       "  justify-content: space-between;\n",
       "  gap: 0.5em;\n",
       "}\n",
       "\n",
       "#sk-container-id-3 label.sk-toggleable__label .caption {\n",
       "  font-size: 0.6rem;\n",
       "  font-weight: lighter;\n",
       "  color: var(--sklearn-color-text-muted);\n",
       "}\n",
       "\n",
       "#sk-container-id-3 label.sk-toggleable__label-arrow:before {\n",
       "  /* Arrow on the left of the label */\n",
       "  content: \"▸\";\n",
       "  float: left;\n",
       "  margin-right: 0.25em;\n",
       "  color: var(--sklearn-color-icon);\n",
       "}\n",
       "\n",
       "#sk-container-id-3 label.sk-toggleable__label-arrow:hover:before {\n",
       "  color: var(--sklearn-color-text);\n",
       "}\n",
       "\n",
       "/* Toggleable content - dropdown */\n",
       "\n",
       "#sk-container-id-3 div.sk-toggleable__content {\n",
       "  max-height: 0;\n",
       "  max-width: 0;\n",
       "  overflow: hidden;\n",
       "  text-align: left;\n",
       "  /* unfitted */\n",
       "  background-color: var(--sklearn-color-unfitted-level-0);\n",
       "}\n",
       "\n",
       "#sk-container-id-3 div.sk-toggleable__content.fitted {\n",
       "  /* fitted */\n",
       "  background-color: var(--sklearn-color-fitted-level-0);\n",
       "}\n",
       "\n",
       "#sk-container-id-3 div.sk-toggleable__content pre {\n",
       "  margin: 0.2em;\n",
       "  border-radius: 0.25em;\n",
       "  color: var(--sklearn-color-text);\n",
       "  /* unfitted */\n",
       "  background-color: var(--sklearn-color-unfitted-level-0);\n",
       "}\n",
       "\n",
       "#sk-container-id-3 div.sk-toggleable__content.fitted pre {\n",
       "  /* unfitted */\n",
       "  background-color: var(--sklearn-color-fitted-level-0);\n",
       "}\n",
       "\n",
       "#sk-container-id-3 input.sk-toggleable__control:checked~div.sk-toggleable__content {\n",
       "  /* Expand drop-down */\n",
       "  max-height: 200px;\n",
       "  max-width: 100%;\n",
       "  overflow: auto;\n",
       "}\n",
       "\n",
       "#sk-container-id-3 input.sk-toggleable__control:checked~label.sk-toggleable__label-arrow:before {\n",
       "  content: \"▾\";\n",
       "}\n",
       "\n",
       "/* Pipeline/ColumnTransformer-specific style */\n",
       "\n",
       "#sk-container-id-3 div.sk-label input.sk-toggleable__control:checked~label.sk-toggleable__label {\n",
       "  color: var(--sklearn-color-text);\n",
       "  background-color: var(--sklearn-color-unfitted-level-2);\n",
       "}\n",
       "\n",
       "#sk-container-id-3 div.sk-label.fitted input.sk-toggleable__control:checked~label.sk-toggleable__label {\n",
       "  background-color: var(--sklearn-color-fitted-level-2);\n",
       "}\n",
       "\n",
       "/* Estimator-specific style */\n",
       "\n",
       "/* Colorize estimator box */\n",
       "#sk-container-id-3 div.sk-estimator input.sk-toggleable__control:checked~label.sk-toggleable__label {\n",
       "  /* unfitted */\n",
       "  background-color: var(--sklearn-color-unfitted-level-2);\n",
       "}\n",
       "\n",
       "#sk-container-id-3 div.sk-estimator.fitted input.sk-toggleable__control:checked~label.sk-toggleable__label {\n",
       "  /* fitted */\n",
       "  background-color: var(--sklearn-color-fitted-level-2);\n",
       "}\n",
       "\n",
       "#sk-container-id-3 div.sk-label label.sk-toggleable__label,\n",
       "#sk-container-id-3 div.sk-label label {\n",
       "  /* The background is the default theme color */\n",
       "  color: var(--sklearn-color-text-on-default-background);\n",
       "}\n",
       "\n",
       "/* On hover, darken the color of the background */\n",
       "#sk-container-id-3 div.sk-label:hover label.sk-toggleable__label {\n",
       "  color: var(--sklearn-color-text);\n",
       "  background-color: var(--sklearn-color-unfitted-level-2);\n",
       "}\n",
       "\n",
       "/* Label box, darken color on hover, fitted */\n",
       "#sk-container-id-3 div.sk-label.fitted:hover label.sk-toggleable__label.fitted {\n",
       "  color: var(--sklearn-color-text);\n",
       "  background-color: var(--sklearn-color-fitted-level-2);\n",
       "}\n",
       "\n",
       "/* Estimator label */\n",
       "\n",
       "#sk-container-id-3 div.sk-label label {\n",
       "  font-family: monospace;\n",
       "  font-weight: bold;\n",
       "  display: inline-block;\n",
       "  line-height: 1.2em;\n",
       "}\n",
       "\n",
       "#sk-container-id-3 div.sk-label-container {\n",
       "  text-align: center;\n",
       "}\n",
       "\n",
       "/* Estimator-specific */\n",
       "#sk-container-id-3 div.sk-estimator {\n",
       "  font-family: monospace;\n",
       "  border: 1px dotted var(--sklearn-color-border-box);\n",
       "  border-radius: 0.25em;\n",
       "  box-sizing: border-box;\n",
       "  margin-bottom: 0.5em;\n",
       "  /* unfitted */\n",
       "  background-color: var(--sklearn-color-unfitted-level-0);\n",
       "}\n",
       "\n",
       "#sk-container-id-3 div.sk-estimator.fitted {\n",
       "  /* fitted */\n",
       "  background-color: var(--sklearn-color-fitted-level-0);\n",
       "}\n",
       "\n",
       "/* on hover */\n",
       "#sk-container-id-3 div.sk-estimator:hover {\n",
       "  /* unfitted */\n",
       "  background-color: var(--sklearn-color-unfitted-level-2);\n",
       "}\n",
       "\n",
       "#sk-container-id-3 div.sk-estimator.fitted:hover {\n",
       "  /* fitted */\n",
       "  background-color: var(--sklearn-color-fitted-level-2);\n",
       "}\n",
       "\n",
       "/* Specification for estimator info (e.g. \"i\" and \"?\") */\n",
       "\n",
       "/* Common style for \"i\" and \"?\" */\n",
       "\n",
       ".sk-estimator-doc-link,\n",
       "a:link.sk-estimator-doc-link,\n",
       "a:visited.sk-estimator-doc-link {\n",
       "  float: right;\n",
       "  font-size: smaller;\n",
       "  line-height: 1em;\n",
       "  font-family: monospace;\n",
       "  background-color: var(--sklearn-color-background);\n",
       "  border-radius: 1em;\n",
       "  height: 1em;\n",
       "  width: 1em;\n",
       "  text-decoration: none !important;\n",
       "  margin-left: 0.5em;\n",
       "  text-align: center;\n",
       "  /* unfitted */\n",
       "  border: var(--sklearn-color-unfitted-level-1) 1pt solid;\n",
       "  color: var(--sklearn-color-unfitted-level-1);\n",
       "}\n",
       "\n",
       ".sk-estimator-doc-link.fitted,\n",
       "a:link.sk-estimator-doc-link.fitted,\n",
       "a:visited.sk-estimator-doc-link.fitted {\n",
       "  /* fitted */\n",
       "  border: var(--sklearn-color-fitted-level-1) 1pt solid;\n",
       "  color: var(--sklearn-color-fitted-level-1);\n",
       "}\n",
       "\n",
       "/* On hover */\n",
       "div.sk-estimator:hover .sk-estimator-doc-link:hover,\n",
       ".sk-estimator-doc-link:hover,\n",
       "div.sk-label-container:hover .sk-estimator-doc-link:hover,\n",
       ".sk-estimator-doc-link:hover {\n",
       "  /* unfitted */\n",
       "  background-color: var(--sklearn-color-unfitted-level-3);\n",
       "  color: var(--sklearn-color-background);\n",
       "  text-decoration: none;\n",
       "}\n",
       "\n",
       "div.sk-estimator.fitted:hover .sk-estimator-doc-link.fitted:hover,\n",
       ".sk-estimator-doc-link.fitted:hover,\n",
       "div.sk-label-container:hover .sk-estimator-doc-link.fitted:hover,\n",
       ".sk-estimator-doc-link.fitted:hover {\n",
       "  /* fitted */\n",
       "  background-color: var(--sklearn-color-fitted-level-3);\n",
       "  color: var(--sklearn-color-background);\n",
       "  text-decoration: none;\n",
       "}\n",
       "\n",
       "/* Span, style for the box shown on hovering the info icon */\n",
       ".sk-estimator-doc-link span {\n",
       "  display: none;\n",
       "  z-index: 9999;\n",
       "  position: relative;\n",
       "  font-weight: normal;\n",
       "  right: .2ex;\n",
       "  padding: .5ex;\n",
       "  margin: .5ex;\n",
       "  width: min-content;\n",
       "  min-width: 20ex;\n",
       "  max-width: 50ex;\n",
       "  color: var(--sklearn-color-text);\n",
       "  box-shadow: 2pt 2pt 4pt #999;\n",
       "  /* unfitted */\n",
       "  background: var(--sklearn-color-unfitted-level-0);\n",
       "  border: .5pt solid var(--sklearn-color-unfitted-level-3);\n",
       "}\n",
       "\n",
       ".sk-estimator-doc-link.fitted span {\n",
       "  /* fitted */\n",
       "  background: var(--sklearn-color-fitted-level-0);\n",
       "  border: var(--sklearn-color-fitted-level-3);\n",
       "}\n",
       "\n",
       ".sk-estimator-doc-link:hover span {\n",
       "  display: block;\n",
       "}\n",
       "\n",
       "/* \"?\"-specific style due to the `<a>` HTML tag */\n",
       "\n",
       "#sk-container-id-3 a.estimator_doc_link {\n",
       "  float: right;\n",
       "  font-size: 1rem;\n",
       "  line-height: 1em;\n",
       "  font-family: monospace;\n",
       "  background-color: var(--sklearn-color-background);\n",
       "  border-radius: 1rem;\n",
       "  height: 1rem;\n",
       "  width: 1rem;\n",
       "  text-decoration: none;\n",
       "  /* unfitted */\n",
       "  color: var(--sklearn-color-unfitted-level-1);\n",
       "  border: var(--sklearn-color-unfitted-level-1) 1pt solid;\n",
       "}\n",
       "\n",
       "#sk-container-id-3 a.estimator_doc_link.fitted {\n",
       "  /* fitted */\n",
       "  border: var(--sklearn-color-fitted-level-1) 1pt solid;\n",
       "  color: var(--sklearn-color-fitted-level-1);\n",
       "}\n",
       "\n",
       "/* On hover */\n",
       "#sk-container-id-3 a.estimator_doc_link:hover {\n",
       "  /* unfitted */\n",
       "  background-color: var(--sklearn-color-unfitted-level-3);\n",
       "  color: var(--sklearn-color-background);\n",
       "  text-decoration: none;\n",
       "}\n",
       "\n",
       "#sk-container-id-3 a.estimator_doc_link.fitted:hover {\n",
       "  /* fitted */\n",
       "  background-color: var(--sklearn-color-fitted-level-3);\n",
       "}\n",
       "</style><div id=\"sk-container-id-3\" class=\"sk-top-container\"><div class=\"sk-text-repr-fallback\"><pre>RandomForestClassifier(max_depth=3, n_estimators=10, oob_score=True,\n",
       "                       random_state=42)</pre><b>In a Jupyter environment, please rerun this cell to show the HTML representation or trust the notebook. <br />On GitHub, the HTML representation is unable to render, please try loading this page with nbviewer.org.</b></div><div class=\"sk-container\" hidden><div class=\"sk-item\"><div class=\"sk-estimator fitted sk-toggleable\"><input class=\"sk-toggleable__control sk-hidden--visually\" id=\"sk-estimator-id-5\" type=\"checkbox\" checked><label for=\"sk-estimator-id-5\" class=\"sk-toggleable__label fitted sk-toggleable__label-arrow\"><div><div>RandomForestClassifier</div></div><div><a class=\"sk-estimator-doc-link fitted\" rel=\"noreferrer\" target=\"_blank\" href=\"https://scikit-learn.org/1.6/modules/generated/sklearn.ensemble.RandomForestClassifier.html\">?<span>Documentation for RandomForestClassifier</span></a><span class=\"sk-estimator-doc-link fitted\">i<span>Fitted</span></span></div></label><div class=\"sk-toggleable__content fitted\"><pre>RandomForestClassifier(max_depth=3, n_estimators=10, oob_score=True,\n",
       "                       random_state=42)</pre></div> </div></div></div></div>"
      ],
      "text/plain": [
       "RandomForestClassifier(max_depth=3, n_estimators=10, oob_score=True,\n",
       "                       random_state=42)"
      ]
     },
     "execution_count": 104,
     "metadata": {},
     "output_type": "execute_result"
    }
   ],
   "source": [
    "# Fit the model on the training data with selected features\n",
    "rf.fit(X_train_imp, y_train_resampled)"
   ]
  },
  {
   "cell_type": "markdown",
   "metadata": {
    "id": "g_5Fk-9bDPXG"
   },
   "source": [
    "#### **7.4.5** Generate predictions on the training data <font color=\"red\">[1 Mark]</font>"
   ]
  },
  {
   "cell_type": "code",
   "execution_count": 105,
   "metadata": {
    "id": "TO6AGoPFDPXG"
   },
   "outputs": [],
   "source": [
    "# Generate predictions on training data\n",
    "y_train_pred = rf.predict(X_train_imp)"
   ]
  },
  {
   "cell_type": "markdown",
   "metadata": {
    "id": "I5ApUsKlDPXH"
   },
   "source": [
    "#### **7.4.6** Check accuracy of the model <font color=\"red\">[1 Mark]</font>"
   ]
  },
  {
   "cell_type": "code",
   "execution_count": 106,
   "metadata": {
    "id": "t2zmn36dDPXH"
   },
   "outputs": [
    {
     "name": "stdout",
     "output_type": "stream",
     "text": [
      "Accuracy:  0.6834600760456274\n"
     ]
    }
   ],
   "source": [
    "# Check accuracy of the model\n",
    "accuracy = metrics.accuracy_score(y_train_resampled, y_train_pred)\n",
    "print(\"Accuracy: \", accuracy)"
   ]
  },
  {
   "cell_type": "markdown",
   "metadata": {
    "id": "Z_e5FElrDPXH"
   },
   "source": [
    "#### **7.4.7** Create confusion matrix <font color=\"red\">[1 Mark]</font>"
   ]
  },
  {
   "cell_type": "code",
   "execution_count": 107,
   "metadata": {
    "id": "NJIGPNTaDPXI"
   },
   "outputs": [
    {
     "name": "stdout",
     "output_type": "stream",
     "text": [
      "[[256 270]\n",
      " [ 63 463]]\n"
     ]
    }
   ],
   "source": [
    "# Create the confusion matrix to visualise the performance\n",
    "confusion = metrics.confusion_matrix(y_train_resampled, y_train_pred)\n",
    "print(confusion)"
   ]
  },
  {
   "cell_type": "markdown",
   "metadata": {
    "id": "rY3mFM8CDPXI"
   },
   "source": [
    "#### **7.4.8** Create variables for true positive, true negative, false positive and false negative <font color=\"red\">[1 Mark]</font>"
   ]
  },
  {
   "cell_type": "code",
   "execution_count": 108,
   "metadata": {
    "id": "l9Ehc0vcDPXI"
   },
   "outputs": [],
   "source": [
    "# Create variables for true positive, true negative, false positive and false negative\n",
    "tn, fp, fn, tp = confusion.ravel()"
   ]
  },
  {
   "cell_type": "markdown",
   "metadata": {
    "id": "_NSOsFxRDPXJ"
   },
   "source": [
    "#### **7.4.9** Calculate sensitivity, specificity, precision, recall and F1-score of the model <font color=\"red\">[2 Marks]</font>"
   ]
  },
  {
   "cell_type": "code",
   "execution_count": 109,
   "metadata": {
    "id": "M3wJsKu3DPXJ"
   },
   "outputs": [
    {
     "name": "stdout",
     "output_type": "stream",
     "text": [
      "Sensitivity: 0.88\n",
      "Specificity: 0.49\n",
      "Precision: 0.63\n",
      "Recall: 0.88\n",
      "F1: 0.74\n"
     ]
    }
   ],
   "source": [
    "# Calculate the sensitivity\n",
    "sensitivity = tp / (tp + fn)\n",
    "\n",
    "# Calculate the specificity\n",
    "specificity = tn / (tn + fp)\n",
    "\n",
    "# Calculate Precision\n",
    "precision = tp / (tp + fp)\n",
    "\n",
    "# Calculate Recall\n",
    "recall = tp / (tp + fn)\n",
    "\n",
    "# Calculate F1 Score\n",
    "f1 = 2 * (precision * recall) / (precision + recall)\n",
    "\n",
    "print(f\"Sensitivity: {sensitivity:.2f}\")\n",
    "print(f\"Specificity: {specificity:.2f}\")\n",
    "print(f\"Precision: {precision:.2f}\")\n",
    "print(f\"Recall: {recall:.2f}\")\n",
    "print(f\"F1: {f1:.2f}\")"
   ]
  },
  {
   "cell_type": "code",
   "execution_count": 110,
   "metadata": {},
   "outputs": [
    {
     "data": {
      "text/plain": [
       "0.8802281368821293"
      ]
     },
     "execution_count": 110,
     "metadata": {},
     "output_type": "execute_result"
    }
   ],
   "source": [
    "recall_train_lr = recall\n",
    "recall_train_lr"
   ]
  },
  {
   "cell_type": "markdown",
   "metadata": {
    "id": "b6Jax54VDPXJ"
   },
   "source": [
    "#### **7.4.10** Check if the model is overfitting training data using cross validation <font color = \"red\">[2 marks]</font>"
   ]
  },
  {
   "cell_type": "code",
   "execution_count": 111,
   "metadata": {
    "id": "42-huob6DPXJ"
   },
   "outputs": [
    {
     "name": "stdout",
     "output_type": "stream",
     "text": [
      "Cross Validation F1 score:  [0.69527897 0.69230769 0.66923077 0.72307692 0.76377953]\n",
      "Cross Validation Average F1 score:  0.7087347764263042\n"
     ]
    }
   ],
   "source": [
    "# Use cross validation to check if the model is overfitting\n",
    "from sklearn.model_selection import cross_val_score\n",
    "\n",
    "cv_scores = cross_val_score(rf, X_train_imp, y_train_resampled, cv=5, scoring='f1')\n",
    "print(\"Cross Validation F1 score: \", cv_scores)\n",
    "\n",
    "avg_cv_score = cv_scores.mean(axis=0)\n",
    "print(\"Cross Validation Average F1 score: \", avg_cv_score)"
   ]
  },
  {
   "cell_type": "markdown",
   "metadata": {
    "id": "sNxYrAKZDPXJ"
   },
   "source": [
    "### **7.5 Hyperparameter Tuning** <font color = red>[10 Marks]</font>\n",
    " Enhance the performance of the random forest model by systematically exploring and selecting optimal hyperparameter values using grid search."
   ]
  },
  {
   "cell_type": "markdown",
   "metadata": {
    "id": "UnBcYjbQDPXK"
   },
   "source": [
    "#### **7.5.1** Use grid search to find the best hyperparameter values <font color = red>[2 Marks]</font>"
   ]
  },
  {
   "cell_type": "code",
   "execution_count": 112,
   "metadata": {
    "id": "LTLCDfb4DPXK"
   },
   "outputs": [
    {
     "name": "stdout",
     "output_type": "stream",
     "text": [
      "GridSearchCV(cv=5,\n",
      "             estimator=RandomForestClassifier(max_depth=3, n_estimators=10,\n",
      "                                              oob_score=True, random_state=42),\n",
      "             n_jobs=-1,\n",
      "             param_grid={'max_depth': [5, 6, 7, 8],\n",
      "                         'min_samples_split': [50, 75, 100, 125],\n",
      "                         'n_estimators': range(10, 50, 100)},\n",
      "             scoring='f1')\n",
      "Best F1 score: 0.722177 using {'max_depth': 8, 'min_samples_split': 50, 'n_estimators': 10}\n"
     ]
    }
   ],
   "source": [
    "# Use grid search to find the best hyperparamter values\n",
    "\n",
    "# define the grid of values to search \n",
    "grid = dict() \n",
    "grid['n_estimators'] = range(10,50,100) \n",
    "grid['min_samples_split'] = [50,75,100,125] \n",
    "grid['max_depth'] = [5,6,7,8]\n",
    "\n",
    "# define the grid search procedure \n",
    "grid_search = GridSearchCV(estimator=rf, param_grid=grid, n_jobs=-1, cv=5, scoring='f1') \n",
    "\n",
    "# execute the grid search \n",
    "grid_result = grid_search.fit(X_train_resampled, y_train_resampled) \n",
    "\n",
    "print(grid_result)\n",
    "# Best Hyperparameters\n",
    "print(\"Best F1 score: %f using %s\" % (grid_result.best_score_, grid_result.best_params_))"
   ]
  },
  {
   "cell_type": "markdown",
   "metadata": {
    "id": "vrGoY46TDPXK"
   },
   "source": [
    "#### **7.5.2** Build a random forest model based on hyperparameter tuning results <font color = red>[1 Mark]</font>"
   ]
  },
  {
   "cell_type": "code",
   "execution_count": 113,
   "metadata": {
    "id": "2yxPaaDxDPXK"
   },
   "outputs": [
    {
     "data": {
      "text/html": [
       "<style>#sk-container-id-4 {\n",
       "  /* Definition of color scheme common for light and dark mode */\n",
       "  --sklearn-color-text: #000;\n",
       "  --sklearn-color-text-muted: #666;\n",
       "  --sklearn-color-line: gray;\n",
       "  /* Definition of color scheme for unfitted estimators */\n",
       "  --sklearn-color-unfitted-level-0: #fff5e6;\n",
       "  --sklearn-color-unfitted-level-1: #f6e4d2;\n",
       "  --sklearn-color-unfitted-level-2: #ffe0b3;\n",
       "  --sklearn-color-unfitted-level-3: chocolate;\n",
       "  /* Definition of color scheme for fitted estimators */\n",
       "  --sklearn-color-fitted-level-0: #f0f8ff;\n",
       "  --sklearn-color-fitted-level-1: #d4ebff;\n",
       "  --sklearn-color-fitted-level-2: #b3dbfd;\n",
       "  --sklearn-color-fitted-level-3: cornflowerblue;\n",
       "\n",
       "  /* Specific color for light theme */\n",
       "  --sklearn-color-text-on-default-background: var(--sg-text-color, var(--theme-code-foreground, var(--jp-content-font-color1, black)));\n",
       "  --sklearn-color-background: var(--sg-background-color, var(--theme-background, var(--jp-layout-color0, white)));\n",
       "  --sklearn-color-border-box: var(--sg-text-color, var(--theme-code-foreground, var(--jp-content-font-color1, black)));\n",
       "  --sklearn-color-icon: #696969;\n",
       "\n",
       "  @media (prefers-color-scheme: dark) {\n",
       "    /* Redefinition of color scheme for dark theme */\n",
       "    --sklearn-color-text-on-default-background: var(--sg-text-color, var(--theme-code-foreground, var(--jp-content-font-color1, white)));\n",
       "    --sklearn-color-background: var(--sg-background-color, var(--theme-background, var(--jp-layout-color0, #111)));\n",
       "    --sklearn-color-border-box: var(--sg-text-color, var(--theme-code-foreground, var(--jp-content-font-color1, white)));\n",
       "    --sklearn-color-icon: #878787;\n",
       "  }\n",
       "}\n",
       "\n",
       "#sk-container-id-4 {\n",
       "  color: var(--sklearn-color-text);\n",
       "}\n",
       "\n",
       "#sk-container-id-4 pre {\n",
       "  padding: 0;\n",
       "}\n",
       "\n",
       "#sk-container-id-4 input.sk-hidden--visually {\n",
       "  border: 0;\n",
       "  clip: rect(1px 1px 1px 1px);\n",
       "  clip: rect(1px, 1px, 1px, 1px);\n",
       "  height: 1px;\n",
       "  margin: -1px;\n",
       "  overflow: hidden;\n",
       "  padding: 0;\n",
       "  position: absolute;\n",
       "  width: 1px;\n",
       "}\n",
       "\n",
       "#sk-container-id-4 div.sk-dashed-wrapped {\n",
       "  border: 1px dashed var(--sklearn-color-line);\n",
       "  margin: 0 0.4em 0.5em 0.4em;\n",
       "  box-sizing: border-box;\n",
       "  padding-bottom: 0.4em;\n",
       "  background-color: var(--sklearn-color-background);\n",
       "}\n",
       "\n",
       "#sk-container-id-4 div.sk-container {\n",
       "  /* jupyter's `normalize.less` sets `[hidden] { display: none; }`\n",
       "     but bootstrap.min.css set `[hidden] { display: none !important; }`\n",
       "     so we also need the `!important` here to be able to override the\n",
       "     default hidden behavior on the sphinx rendered scikit-learn.org.\n",
       "     See: https://github.com/scikit-learn/scikit-learn/issues/21755 */\n",
       "  display: inline-block !important;\n",
       "  position: relative;\n",
       "}\n",
       "\n",
       "#sk-container-id-4 div.sk-text-repr-fallback {\n",
       "  display: none;\n",
       "}\n",
       "\n",
       "div.sk-parallel-item,\n",
       "div.sk-serial,\n",
       "div.sk-item {\n",
       "  /* draw centered vertical line to link estimators */\n",
       "  background-image: linear-gradient(var(--sklearn-color-text-on-default-background), var(--sklearn-color-text-on-default-background));\n",
       "  background-size: 2px 100%;\n",
       "  background-repeat: no-repeat;\n",
       "  background-position: center center;\n",
       "}\n",
       "\n",
       "/* Parallel-specific style estimator block */\n",
       "\n",
       "#sk-container-id-4 div.sk-parallel-item::after {\n",
       "  content: \"\";\n",
       "  width: 100%;\n",
       "  border-bottom: 2px solid var(--sklearn-color-text-on-default-background);\n",
       "  flex-grow: 1;\n",
       "}\n",
       "\n",
       "#sk-container-id-4 div.sk-parallel {\n",
       "  display: flex;\n",
       "  align-items: stretch;\n",
       "  justify-content: center;\n",
       "  background-color: var(--sklearn-color-background);\n",
       "  position: relative;\n",
       "}\n",
       "\n",
       "#sk-container-id-4 div.sk-parallel-item {\n",
       "  display: flex;\n",
       "  flex-direction: column;\n",
       "}\n",
       "\n",
       "#sk-container-id-4 div.sk-parallel-item:first-child::after {\n",
       "  align-self: flex-end;\n",
       "  width: 50%;\n",
       "}\n",
       "\n",
       "#sk-container-id-4 div.sk-parallel-item:last-child::after {\n",
       "  align-self: flex-start;\n",
       "  width: 50%;\n",
       "}\n",
       "\n",
       "#sk-container-id-4 div.sk-parallel-item:only-child::after {\n",
       "  width: 0;\n",
       "}\n",
       "\n",
       "/* Serial-specific style estimator block */\n",
       "\n",
       "#sk-container-id-4 div.sk-serial {\n",
       "  display: flex;\n",
       "  flex-direction: column;\n",
       "  align-items: center;\n",
       "  background-color: var(--sklearn-color-background);\n",
       "  padding-right: 1em;\n",
       "  padding-left: 1em;\n",
       "}\n",
       "\n",
       "\n",
       "/* Toggleable style: style used for estimator/Pipeline/ColumnTransformer box that is\n",
       "clickable and can be expanded/collapsed.\n",
       "- Pipeline and ColumnTransformer use this feature and define the default style\n",
       "- Estimators will overwrite some part of the style using the `sk-estimator` class\n",
       "*/\n",
       "\n",
       "/* Pipeline and ColumnTransformer style (default) */\n",
       "\n",
       "#sk-container-id-4 div.sk-toggleable {\n",
       "  /* Default theme specific background. It is overwritten whether we have a\n",
       "  specific estimator or a Pipeline/ColumnTransformer */\n",
       "  background-color: var(--sklearn-color-background);\n",
       "}\n",
       "\n",
       "/* Toggleable label */\n",
       "#sk-container-id-4 label.sk-toggleable__label {\n",
       "  cursor: pointer;\n",
       "  display: flex;\n",
       "  width: 100%;\n",
       "  margin-bottom: 0;\n",
       "  padding: 0.5em;\n",
       "  box-sizing: border-box;\n",
       "  text-align: center;\n",
       "  align-items: start;\n",
       "  justify-content: space-between;\n",
       "  gap: 0.5em;\n",
       "}\n",
       "\n",
       "#sk-container-id-4 label.sk-toggleable__label .caption {\n",
       "  font-size: 0.6rem;\n",
       "  font-weight: lighter;\n",
       "  color: var(--sklearn-color-text-muted);\n",
       "}\n",
       "\n",
       "#sk-container-id-4 label.sk-toggleable__label-arrow:before {\n",
       "  /* Arrow on the left of the label */\n",
       "  content: \"▸\";\n",
       "  float: left;\n",
       "  margin-right: 0.25em;\n",
       "  color: var(--sklearn-color-icon);\n",
       "}\n",
       "\n",
       "#sk-container-id-4 label.sk-toggleable__label-arrow:hover:before {\n",
       "  color: var(--sklearn-color-text);\n",
       "}\n",
       "\n",
       "/* Toggleable content - dropdown */\n",
       "\n",
       "#sk-container-id-4 div.sk-toggleable__content {\n",
       "  max-height: 0;\n",
       "  max-width: 0;\n",
       "  overflow: hidden;\n",
       "  text-align: left;\n",
       "  /* unfitted */\n",
       "  background-color: var(--sklearn-color-unfitted-level-0);\n",
       "}\n",
       "\n",
       "#sk-container-id-4 div.sk-toggleable__content.fitted {\n",
       "  /* fitted */\n",
       "  background-color: var(--sklearn-color-fitted-level-0);\n",
       "}\n",
       "\n",
       "#sk-container-id-4 div.sk-toggleable__content pre {\n",
       "  margin: 0.2em;\n",
       "  border-radius: 0.25em;\n",
       "  color: var(--sklearn-color-text);\n",
       "  /* unfitted */\n",
       "  background-color: var(--sklearn-color-unfitted-level-0);\n",
       "}\n",
       "\n",
       "#sk-container-id-4 div.sk-toggleable__content.fitted pre {\n",
       "  /* unfitted */\n",
       "  background-color: var(--sklearn-color-fitted-level-0);\n",
       "}\n",
       "\n",
       "#sk-container-id-4 input.sk-toggleable__control:checked~div.sk-toggleable__content {\n",
       "  /* Expand drop-down */\n",
       "  max-height: 200px;\n",
       "  max-width: 100%;\n",
       "  overflow: auto;\n",
       "}\n",
       "\n",
       "#sk-container-id-4 input.sk-toggleable__control:checked~label.sk-toggleable__label-arrow:before {\n",
       "  content: \"▾\";\n",
       "}\n",
       "\n",
       "/* Pipeline/ColumnTransformer-specific style */\n",
       "\n",
       "#sk-container-id-4 div.sk-label input.sk-toggleable__control:checked~label.sk-toggleable__label {\n",
       "  color: var(--sklearn-color-text);\n",
       "  background-color: var(--sklearn-color-unfitted-level-2);\n",
       "}\n",
       "\n",
       "#sk-container-id-4 div.sk-label.fitted input.sk-toggleable__control:checked~label.sk-toggleable__label {\n",
       "  background-color: var(--sklearn-color-fitted-level-2);\n",
       "}\n",
       "\n",
       "/* Estimator-specific style */\n",
       "\n",
       "/* Colorize estimator box */\n",
       "#sk-container-id-4 div.sk-estimator input.sk-toggleable__control:checked~label.sk-toggleable__label {\n",
       "  /* unfitted */\n",
       "  background-color: var(--sklearn-color-unfitted-level-2);\n",
       "}\n",
       "\n",
       "#sk-container-id-4 div.sk-estimator.fitted input.sk-toggleable__control:checked~label.sk-toggleable__label {\n",
       "  /* fitted */\n",
       "  background-color: var(--sklearn-color-fitted-level-2);\n",
       "}\n",
       "\n",
       "#sk-container-id-4 div.sk-label label.sk-toggleable__label,\n",
       "#sk-container-id-4 div.sk-label label {\n",
       "  /* The background is the default theme color */\n",
       "  color: var(--sklearn-color-text-on-default-background);\n",
       "}\n",
       "\n",
       "/* On hover, darken the color of the background */\n",
       "#sk-container-id-4 div.sk-label:hover label.sk-toggleable__label {\n",
       "  color: var(--sklearn-color-text);\n",
       "  background-color: var(--sklearn-color-unfitted-level-2);\n",
       "}\n",
       "\n",
       "/* Label box, darken color on hover, fitted */\n",
       "#sk-container-id-4 div.sk-label.fitted:hover label.sk-toggleable__label.fitted {\n",
       "  color: var(--sklearn-color-text);\n",
       "  background-color: var(--sklearn-color-fitted-level-2);\n",
       "}\n",
       "\n",
       "/* Estimator label */\n",
       "\n",
       "#sk-container-id-4 div.sk-label label {\n",
       "  font-family: monospace;\n",
       "  font-weight: bold;\n",
       "  display: inline-block;\n",
       "  line-height: 1.2em;\n",
       "}\n",
       "\n",
       "#sk-container-id-4 div.sk-label-container {\n",
       "  text-align: center;\n",
       "}\n",
       "\n",
       "/* Estimator-specific */\n",
       "#sk-container-id-4 div.sk-estimator {\n",
       "  font-family: monospace;\n",
       "  border: 1px dotted var(--sklearn-color-border-box);\n",
       "  border-radius: 0.25em;\n",
       "  box-sizing: border-box;\n",
       "  margin-bottom: 0.5em;\n",
       "  /* unfitted */\n",
       "  background-color: var(--sklearn-color-unfitted-level-0);\n",
       "}\n",
       "\n",
       "#sk-container-id-4 div.sk-estimator.fitted {\n",
       "  /* fitted */\n",
       "  background-color: var(--sklearn-color-fitted-level-0);\n",
       "}\n",
       "\n",
       "/* on hover */\n",
       "#sk-container-id-4 div.sk-estimator:hover {\n",
       "  /* unfitted */\n",
       "  background-color: var(--sklearn-color-unfitted-level-2);\n",
       "}\n",
       "\n",
       "#sk-container-id-4 div.sk-estimator.fitted:hover {\n",
       "  /* fitted */\n",
       "  background-color: var(--sklearn-color-fitted-level-2);\n",
       "}\n",
       "\n",
       "/* Specification for estimator info (e.g. \"i\" and \"?\") */\n",
       "\n",
       "/* Common style for \"i\" and \"?\" */\n",
       "\n",
       ".sk-estimator-doc-link,\n",
       "a:link.sk-estimator-doc-link,\n",
       "a:visited.sk-estimator-doc-link {\n",
       "  float: right;\n",
       "  font-size: smaller;\n",
       "  line-height: 1em;\n",
       "  font-family: monospace;\n",
       "  background-color: var(--sklearn-color-background);\n",
       "  border-radius: 1em;\n",
       "  height: 1em;\n",
       "  width: 1em;\n",
       "  text-decoration: none !important;\n",
       "  margin-left: 0.5em;\n",
       "  text-align: center;\n",
       "  /* unfitted */\n",
       "  border: var(--sklearn-color-unfitted-level-1) 1pt solid;\n",
       "  color: var(--sklearn-color-unfitted-level-1);\n",
       "}\n",
       "\n",
       ".sk-estimator-doc-link.fitted,\n",
       "a:link.sk-estimator-doc-link.fitted,\n",
       "a:visited.sk-estimator-doc-link.fitted {\n",
       "  /* fitted */\n",
       "  border: var(--sklearn-color-fitted-level-1) 1pt solid;\n",
       "  color: var(--sklearn-color-fitted-level-1);\n",
       "}\n",
       "\n",
       "/* On hover */\n",
       "div.sk-estimator:hover .sk-estimator-doc-link:hover,\n",
       ".sk-estimator-doc-link:hover,\n",
       "div.sk-label-container:hover .sk-estimator-doc-link:hover,\n",
       ".sk-estimator-doc-link:hover {\n",
       "  /* unfitted */\n",
       "  background-color: var(--sklearn-color-unfitted-level-3);\n",
       "  color: var(--sklearn-color-background);\n",
       "  text-decoration: none;\n",
       "}\n",
       "\n",
       "div.sk-estimator.fitted:hover .sk-estimator-doc-link.fitted:hover,\n",
       ".sk-estimator-doc-link.fitted:hover,\n",
       "div.sk-label-container:hover .sk-estimator-doc-link.fitted:hover,\n",
       ".sk-estimator-doc-link.fitted:hover {\n",
       "  /* fitted */\n",
       "  background-color: var(--sklearn-color-fitted-level-3);\n",
       "  color: var(--sklearn-color-background);\n",
       "  text-decoration: none;\n",
       "}\n",
       "\n",
       "/* Span, style for the box shown on hovering the info icon */\n",
       ".sk-estimator-doc-link span {\n",
       "  display: none;\n",
       "  z-index: 9999;\n",
       "  position: relative;\n",
       "  font-weight: normal;\n",
       "  right: .2ex;\n",
       "  padding: .5ex;\n",
       "  margin: .5ex;\n",
       "  width: min-content;\n",
       "  min-width: 20ex;\n",
       "  max-width: 50ex;\n",
       "  color: var(--sklearn-color-text);\n",
       "  box-shadow: 2pt 2pt 4pt #999;\n",
       "  /* unfitted */\n",
       "  background: var(--sklearn-color-unfitted-level-0);\n",
       "  border: .5pt solid var(--sklearn-color-unfitted-level-3);\n",
       "}\n",
       "\n",
       ".sk-estimator-doc-link.fitted span {\n",
       "  /* fitted */\n",
       "  background: var(--sklearn-color-fitted-level-0);\n",
       "  border: var(--sklearn-color-fitted-level-3);\n",
       "}\n",
       "\n",
       ".sk-estimator-doc-link:hover span {\n",
       "  display: block;\n",
       "}\n",
       "\n",
       "/* \"?\"-specific style due to the `<a>` HTML tag */\n",
       "\n",
       "#sk-container-id-4 a.estimator_doc_link {\n",
       "  float: right;\n",
       "  font-size: 1rem;\n",
       "  line-height: 1em;\n",
       "  font-family: monospace;\n",
       "  background-color: var(--sklearn-color-background);\n",
       "  border-radius: 1rem;\n",
       "  height: 1rem;\n",
       "  width: 1rem;\n",
       "  text-decoration: none;\n",
       "  /* unfitted */\n",
       "  color: var(--sklearn-color-unfitted-level-1);\n",
       "  border: var(--sklearn-color-unfitted-level-1) 1pt solid;\n",
       "}\n",
       "\n",
       "#sk-container-id-4 a.estimator_doc_link.fitted {\n",
       "  /* fitted */\n",
       "  border: var(--sklearn-color-fitted-level-1) 1pt solid;\n",
       "  color: var(--sklearn-color-fitted-level-1);\n",
       "}\n",
       "\n",
       "/* On hover */\n",
       "#sk-container-id-4 a.estimator_doc_link:hover {\n",
       "  /* unfitted */\n",
       "  background-color: var(--sklearn-color-unfitted-level-3);\n",
       "  color: var(--sklearn-color-background);\n",
       "  text-decoration: none;\n",
       "}\n",
       "\n",
       "#sk-container-id-4 a.estimator_doc_link.fitted:hover {\n",
       "  /* fitted */\n",
       "  background-color: var(--sklearn-color-fitted-level-3);\n",
       "}\n",
       "</style><div id=\"sk-container-id-4\" class=\"sk-top-container\"><div class=\"sk-text-repr-fallback\"><pre>RandomForestClassifier(max_depth=7, min_samples_split=50, n_estimators=10,\n",
       "                       oob_score=True, random_state=42)</pre><b>In a Jupyter environment, please rerun this cell to show the HTML representation or trust the notebook. <br />On GitHub, the HTML representation is unable to render, please try loading this page with nbviewer.org.</b></div><div class=\"sk-container\" hidden><div class=\"sk-item\"><div class=\"sk-estimator fitted sk-toggleable\"><input class=\"sk-toggleable__control sk-hidden--visually\" id=\"sk-estimator-id-6\" type=\"checkbox\" checked><label for=\"sk-estimator-id-6\" class=\"sk-toggleable__label fitted sk-toggleable__label-arrow\"><div><div>RandomForestClassifier</div></div><div><a class=\"sk-estimator-doc-link fitted\" rel=\"noreferrer\" target=\"_blank\" href=\"https://scikit-learn.org/1.6/modules/generated/sklearn.ensemble.RandomForestClassifier.html\">?<span>Documentation for RandomForestClassifier</span></a><span class=\"sk-estimator-doc-link fitted\">i<span>Fitted</span></span></div></label><div class=\"sk-toggleable__content fitted\"><pre>RandomForestClassifier(max_depth=7, min_samples_split=50, n_estimators=10,\n",
       "                       oob_score=True, random_state=42)</pre></div> </div></div></div></div>"
      ],
      "text/plain": [
       "RandomForestClassifier(max_depth=7, min_samples_split=50, n_estimators=10,\n",
       "                       oob_score=True, random_state=42)"
      ]
     },
     "execution_count": 113,
     "metadata": {},
     "output_type": "execute_result"
    }
   ],
   "source": [
    "# Building random forest model based on results of hyperparameter tuning\n",
    "rf = RandomForestClassifier(random_state=42, max_depth=7, n_estimators=10, min_samples_split=50, oob_score=True)\n",
    "rf.fit(X_train_imp, y_train_resampled)"
   ]
  },
  {
   "cell_type": "markdown",
   "metadata": {
    "id": "IJ4gQ2m0DPXK"
   },
   "source": [
    "#### **7.5.3** Make predictions on training data <font color = red>[1 Mark]</font>"
   ]
  },
  {
   "cell_type": "code",
   "execution_count": 114,
   "metadata": {
    "id": "hTE3p2rCDPXL"
   },
   "outputs": [],
   "source": [
    "# Make predictions on training data\n",
    "y_train_pred = rf.predict_proba(X_train_imp)[:, 1]"
   ]
  },
  {
   "cell_type": "markdown",
   "metadata": {
    "id": "fbfSJpEuDPXL"
   },
   "source": [
    "#### **7.5.4** Check accuracy of Random Forest Model <font color = red>[1 Mark]</font>"
   ]
  },
  {
   "cell_type": "code",
   "execution_count": 115,
   "metadata": {},
   "outputs": [
    {
     "data": {
      "text/html": [
       "<div>\n",
       "<style scoped>\n",
       "    .dataframe tbody tr th:only-of-type {\n",
       "        vertical-align: middle;\n",
       "    }\n",
       "\n",
       "    .dataframe tbody tr th {\n",
       "        vertical-align: top;\n",
       "    }\n",
       "\n",
       "    .dataframe thead th {\n",
       "        text-align: right;\n",
       "    }\n",
       "</style>\n",
       "<table border=\"1\" class=\"dataframe\">\n",
       "  <thead>\n",
       "    <tr style=\"text-align: right;\">\n",
       "      <th></th>\n",
       "      <th>Actual_Fraud</th>\n",
       "      <th>PredFraud_Prob</th>\n",
       "    </tr>\n",
       "  </thead>\n",
       "  <tbody>\n",
       "    <tr>\n",
       "      <th>0</th>\n",
       "      <td>0</td>\n",
       "      <td>0.456199</td>\n",
       "    </tr>\n",
       "    <tr>\n",
       "      <th>1</th>\n",
       "      <td>0</td>\n",
       "      <td>0.291758</td>\n",
       "    </tr>\n",
       "    <tr>\n",
       "      <th>2</th>\n",
       "      <td>0</td>\n",
       "      <td>0.187872</td>\n",
       "    </tr>\n",
       "    <tr>\n",
       "      <th>3</th>\n",
       "      <td>0</td>\n",
       "      <td>0.456277</td>\n",
       "    </tr>\n",
       "    <tr>\n",
       "      <th>4</th>\n",
       "      <td>0</td>\n",
       "      <td>0.154184</td>\n",
       "    </tr>\n",
       "  </tbody>\n",
       "</table>\n",
       "</div>"
      ],
      "text/plain": [
       "   Actual_Fraud  PredFraud_Prob\n",
       "0             0        0.456199\n",
       "1             0        0.291758\n",
       "2             0        0.187872\n",
       "3             0        0.456277\n",
       "4             0        0.154184"
      ]
     },
     "execution_count": 115,
     "metadata": {},
     "output_type": "execute_result"
    }
   ],
   "source": [
    "y_train_pred_final = pd.DataFrame({'Actual_Fraud':y_train_resampled.values, 'PredFraud_Prob': y_train_pred})\n",
    "y_train_pred_final.head()"
   ]
  },
  {
   "cell_type": "code",
   "execution_count": 116,
   "metadata": {},
   "outputs": [
    {
     "data": {
      "text/html": [
       "<div>\n",
       "<style scoped>\n",
       "    .dataframe tbody tr th:only-of-type {\n",
       "        vertical-align: middle;\n",
       "    }\n",
       "\n",
       "    .dataframe tbody tr th {\n",
       "        vertical-align: top;\n",
       "    }\n",
       "\n",
       "    .dataframe thead th {\n",
       "        text-align: right;\n",
       "    }\n",
       "</style>\n",
       "<table border=\"1\" class=\"dataframe\">\n",
       "  <thead>\n",
       "    <tr style=\"text-align: right;\">\n",
       "      <th></th>\n",
       "      <th>Actual_Fraud</th>\n",
       "      <th>PredFraud_Prob</th>\n",
       "      <th>Pred_Fraud</th>\n",
       "    </tr>\n",
       "  </thead>\n",
       "  <tbody>\n",
       "    <tr>\n",
       "      <th>0</th>\n",
       "      <td>0</td>\n",
       "      <td>0.456199</td>\n",
       "      <td>1</td>\n",
       "    </tr>\n",
       "    <tr>\n",
       "      <th>1</th>\n",
       "      <td>0</td>\n",
       "      <td>0.291758</td>\n",
       "      <td>0</td>\n",
       "    </tr>\n",
       "    <tr>\n",
       "      <th>2</th>\n",
       "      <td>0</td>\n",
       "      <td>0.187872</td>\n",
       "      <td>0</td>\n",
       "    </tr>\n",
       "    <tr>\n",
       "      <th>3</th>\n",
       "      <td>0</td>\n",
       "      <td>0.456277</td>\n",
       "      <td>1</td>\n",
       "    </tr>\n",
       "    <tr>\n",
       "      <th>4</th>\n",
       "      <td>0</td>\n",
       "      <td>0.154184</td>\n",
       "      <td>0</td>\n",
       "    </tr>\n",
       "  </tbody>\n",
       "</table>\n",
       "</div>"
      ],
      "text/plain": [
       "   Actual_Fraud  PredFraud_Prob  Pred_Fraud\n",
       "0             0        0.456199           1\n",
       "1             0        0.291758           0\n",
       "2             0        0.187872           0\n",
       "3             0        0.456277           1\n",
       "4             0        0.154184           0"
      ]
     },
     "execution_count": 116,
     "metadata": {},
     "output_type": "execute_result"
    }
   ],
   "source": [
    "y_train_pred_final['Pred_Fraud'] = y_train_pred_final.PredFraud_Prob.map(lambda x: 1 if x>0.3 else 0)\n",
    "y_train_pred_final.head()"
   ]
  },
  {
   "cell_type": "code",
   "execution_count": 117,
   "metadata": {
    "id": "ItpV-JYkDPXL"
   },
   "outputs": [
    {
     "name": "stdout",
     "output_type": "stream",
     "text": [
      "Accuracy:  0.6501901140684411\n"
     ]
    }
   ],
   "source": [
    "# Check the accuracy\n",
    "accuracy = metrics.accuracy_score(y_train_pred_final.Actual_Fraud, y_train_pred_final.Pred_Fraud)\n",
    "print(\"Accuracy: \", accuracy)"
   ]
  },
  {
   "cell_type": "markdown",
   "metadata": {
    "id": "l-t6Hme3DPXL"
   },
   "source": [
    "#### **7.5.5** Create confusion matrix <font color = red>[1 Mark]</font>"
   ]
  },
  {
   "cell_type": "code",
   "execution_count": 118,
   "metadata": {
    "id": "MdteUZXzDPXL"
   },
   "outputs": [
    {
     "name": "stdout",
     "output_type": "stream",
     "text": [
      "[[165 361]\n",
      " [  7 519]]\n"
     ]
    }
   ],
   "source": [
    "# Create the confusion matrix\n",
    "confusion = metrics.confusion_matrix(y_train_pred_final.Actual_Fraud, y_train_pred_final.Pred_Fraud)\n",
    "print(confusion)"
   ]
  },
  {
   "cell_type": "markdown",
   "metadata": {
    "id": "jEUtsRafDPXL"
   },
   "source": [
    "#### **7.5.6** Create variables for true positive, true negative, false positive and false negative <font color = red>[1 Mark]</font>"
   ]
  },
  {
   "cell_type": "code",
   "execution_count": 119,
   "metadata": {
    "id": "0aeUhFSWDPXM"
   },
   "outputs": [],
   "source": [
    "# Create variables for true positive, true negative, false positive and false negative\n",
    "tn, fp, fn, tp = confusion.ravel()"
   ]
  },
  {
   "cell_type": "markdown",
   "metadata": {
    "id": "nwDnBdjnDPXM"
   },
   "source": [
    "#### **7.5.7** Calculate sensitivity, specificity, precision, recall and F1-score of the model <font color = red>[3 Marks]</font>"
   ]
  },
  {
   "cell_type": "code",
   "execution_count": 120,
   "metadata": {
    "id": "KxPHj1NjDPXM"
   },
   "outputs": [
    {
     "name": "stdout",
     "output_type": "stream",
     "text": [
      "Sensitivity: 0.99\n",
      "Specificity: 0.31\n",
      "Precision: 0.59\n",
      "Recall: 0.99\n",
      "F1: 0.74\n"
     ]
    }
   ],
   "source": [
    "# Calculate the sensitivity\n",
    "sensitivity = tp / (tp + fn)\n",
    "\n",
    "# Calculate the specificity\n",
    "specificity = tn / (tn + fp)\n",
    "\n",
    "# Calculate Precision\n",
    "precision = tp / (tp + fp)\n",
    "\n",
    "# Calculate Recall\n",
    "recall = tp / (tp + fn)\n",
    "\n",
    "# Calculate F1 Score\n",
    "f1 = 2 * (precision * recall) / (precision + recall)\n",
    "\n",
    "print(f\"Sensitivity: {sensitivity:.2f}\")\n",
    "print(f\"Specificity: {specificity:.2f}\")\n",
    "print(f\"Precision: {precision:.2f}\")\n",
    "print(f\"Recall: {recall:.2f}\")\n",
    "print(f\"F1: {f1:.2f}\")\n"
   ]
  },
  {
   "cell_type": "code",
   "execution_count": 121,
   "metadata": {},
   "outputs": [
    {
     "data": {
      "text/plain": [
       "0.9866920152091255"
      ]
     },
     "execution_count": 121,
     "metadata": {},
     "output_type": "execute_result"
    }
   ],
   "source": [
    "recall_train_rf = recall\n",
    "recall_train_rf"
   ]
  },
  {
   "cell_type": "markdown",
   "metadata": {
    "id": "yUEvyADyDPXM"
   },
   "source": [
    "## **8. Prediction and Model Evaluation** <font color = red>[20 marks]</font>\n",
    "Use the model from the previous step to make predictions on the validation data with the optimal cutoff. Then evaluate the model's performance using metrics such as accuracy, sensitivity, specificity, precision, and recall."
   ]
  },
  {
   "cell_type": "markdown",
   "metadata": {
    "id": "EQuMB-P1DPXM"
   },
   "source": [
    "### **8.1 Make predictions over validation data using logistic regression model** <font color = red>[10 marks]</font>"
   ]
  },
  {
   "cell_type": "markdown",
   "metadata": {
    "id": "Wuz5v3TYDPXM"
   },
   "source": [
    "#### **8.1.1** Select relevant features for validation data and add constant <font color=\"red\">[1 Mark]</font>"
   ]
  },
  {
   "cell_type": "code",
   "execution_count": 122,
   "metadata": {},
   "outputs": [
    {
     "data": {
      "text/html": [
       "<div>\n",
       "<style scoped>\n",
       "    .dataframe tbody tr th:only-of-type {\n",
       "        vertical-align: middle;\n",
       "    }\n",
       "\n",
       "    .dataframe tbody tr th {\n",
       "        vertical-align: top;\n",
       "    }\n",
       "\n",
       "    .dataframe thead th {\n",
       "        text-align: right;\n",
       "    }\n",
       "</style>\n",
       "<table border=\"1\" class=\"dataframe\">\n",
       "  <thead>\n",
       "    <tr style=\"text-align: right;\">\n",
       "      <th></th>\n",
       "      <th>const</th>\n",
       "      <th>umbrella_limit</th>\n",
       "      <th>total_claim_amount</th>\n",
       "      <th>auto_year</th>\n",
       "      <th>incident_state_OH</th>\n",
       "      <th>incident_state_WV</th>\n",
       "    </tr>\n",
       "  </thead>\n",
       "  <tbody>\n",
       "    <tr>\n",
       "      <th>0</th>\n",
       "      <td>1.0</td>\n",
       "      <td>0.000000</td>\n",
       "      <td>0.387912</td>\n",
       "      <td>0.50</td>\n",
       "      <td>0.0</td>\n",
       "      <td>0.0</td>\n",
       "    </tr>\n",
       "    <tr>\n",
       "      <th>1</th>\n",
       "      <td>1.0</td>\n",
       "      <td>0.000000</td>\n",
       "      <td>0.705191</td>\n",
       "      <td>0.30</td>\n",
       "      <td>0.0</td>\n",
       "      <td>1.0</td>\n",
       "    </tr>\n",
       "    <tr>\n",
       "      <th>2</th>\n",
       "      <td>1.0</td>\n",
       "      <td>0.000000</td>\n",
       "      <td>0.048249</td>\n",
       "      <td>0.50</td>\n",
       "      <td>0.0</td>\n",
       "      <td>0.0</td>\n",
       "    </tr>\n",
       "    <tr>\n",
       "      <th>3</th>\n",
       "      <td>1.0</td>\n",
       "      <td>0.666667</td>\n",
       "      <td>0.342972</td>\n",
       "      <td>0.35</td>\n",
       "      <td>0.0</td>\n",
       "      <td>1.0</td>\n",
       "    </tr>\n",
       "    <tr>\n",
       "      <th>4</th>\n",
       "      <td>1.0</td>\n",
       "      <td>0.000000</td>\n",
       "      <td>0.396534</td>\n",
       "      <td>0.80</td>\n",
       "      <td>0.0</td>\n",
       "      <td>1.0</td>\n",
       "    </tr>\n",
       "    <tr>\n",
       "      <th>...</th>\n",
       "      <td>...</td>\n",
       "      <td>...</td>\n",
       "      <td>...</td>\n",
       "      <td>...</td>\n",
       "      <td>...</td>\n",
       "      <td>...</td>\n",
       "    </tr>\n",
       "    <tr>\n",
       "      <th>1047</th>\n",
       "      <td>1.0</td>\n",
       "      <td>0.000000</td>\n",
       "      <td>0.655809</td>\n",
       "      <td>0.55</td>\n",
       "      <td>0.0</td>\n",
       "      <td>0.0</td>\n",
       "    </tr>\n",
       "    <tr>\n",
       "      <th>1048</th>\n",
       "      <td>1.0</td>\n",
       "      <td>0.000000</td>\n",
       "      <td>0.050862</td>\n",
       "      <td>0.30</td>\n",
       "      <td>0.0</td>\n",
       "      <td>0.0</td>\n",
       "    </tr>\n",
       "    <tr>\n",
       "      <th>1049</th>\n",
       "      <td>1.0</td>\n",
       "      <td>0.000000</td>\n",
       "      <td>0.600766</td>\n",
       "      <td>0.70</td>\n",
       "      <td>0.0</td>\n",
       "      <td>0.0</td>\n",
       "    </tr>\n",
       "    <tr>\n",
       "      <th>1050</th>\n",
       "      <td>1.0</td>\n",
       "      <td>0.000000</td>\n",
       "      <td>0.040063</td>\n",
       "      <td>0.60</td>\n",
       "      <td>0.0</td>\n",
       "      <td>0.0</td>\n",
       "    </tr>\n",
       "    <tr>\n",
       "      <th>1051</th>\n",
       "      <td>1.0</td>\n",
       "      <td>0.777778</td>\n",
       "      <td>0.497648</td>\n",
       "      <td>0.00</td>\n",
       "      <td>0.0</td>\n",
       "      <td>0.0</td>\n",
       "    </tr>\n",
       "  </tbody>\n",
       "</table>\n",
       "<p>1052 rows × 6 columns</p>\n",
       "</div>"
      ],
      "text/plain": [
       "      const  umbrella_limit  total_claim_amount  auto_year  incident_state_OH  \\\n",
       "0       1.0        0.000000            0.387912       0.50                0.0   \n",
       "1       1.0        0.000000            0.705191       0.30                0.0   \n",
       "2       1.0        0.000000            0.048249       0.50                0.0   \n",
       "3       1.0        0.666667            0.342972       0.35                0.0   \n",
       "4       1.0        0.000000            0.396534       0.80                0.0   \n",
       "...     ...             ...                 ...        ...                ...   \n",
       "1047    1.0        0.000000            0.655809       0.55                0.0   \n",
       "1048    1.0        0.000000            0.050862       0.30                0.0   \n",
       "1049    1.0        0.000000            0.600766       0.70                0.0   \n",
       "1050    1.0        0.000000            0.040063       0.60                0.0   \n",
       "1051    1.0        0.777778            0.497648       0.00                0.0   \n",
       "\n",
       "      incident_state_WV  \n",
       "0                   0.0  \n",
       "1                   1.0  \n",
       "2                   0.0  \n",
       "3                   1.0  \n",
       "4                   1.0  \n",
       "...                 ...  \n",
       "1047                0.0  \n",
       "1048                0.0  \n",
       "1049                0.0  \n",
       "1050                0.0  \n",
       "1051                0.0  \n",
       "\n",
       "[1052 rows x 6 columns]"
      ]
     },
     "execution_count": 122,
     "metadata": {},
     "output_type": "execute_result"
    }
   ],
   "source": [
    "X_selected_RFECV"
   ]
  },
  {
   "cell_type": "code",
   "execution_count": 123,
   "metadata": {
    "id": "_AbB-x3aDPXM"
   },
   "outputs": [],
   "source": [
    "# Select the relevant features for validation data\n",
    "X_train_rfe = X_selected_RFECV.drop(['const'], axis = 1)\n",
    "X_test_rfe = X_test[X_train_rfe.columns]\n",
    "\n",
    "# Add constant to X_validation\n",
    "X_test_rfe = sm.add_constant(X_test_rfe)"
   ]
  },
  {
   "cell_type": "code",
   "execution_count": 124,
   "metadata": {},
   "outputs": [
    {
     "data": {
      "text/html": [
       "<div>\n",
       "<style scoped>\n",
       "    .dataframe tbody tr th:only-of-type {\n",
       "        vertical-align: middle;\n",
       "    }\n",
       "\n",
       "    .dataframe tbody tr th {\n",
       "        vertical-align: top;\n",
       "    }\n",
       "\n",
       "    .dataframe thead th {\n",
       "        text-align: right;\n",
       "    }\n",
       "</style>\n",
       "<table border=\"1\" class=\"dataframe\">\n",
       "  <thead>\n",
       "    <tr style=\"text-align: right;\">\n",
       "      <th></th>\n",
       "      <th>const</th>\n",
       "      <th>umbrella_limit</th>\n",
       "      <th>total_claim_amount</th>\n",
       "      <th>auto_year</th>\n",
       "      <th>incident_state_OH</th>\n",
       "      <th>incident_state_WV</th>\n",
       "    </tr>\n",
       "  </thead>\n",
       "  <tbody>\n",
       "    <tr>\n",
       "      <th>0</th>\n",
       "      <td>1.0</td>\n",
       "      <td>0</td>\n",
       "      <td>71800</td>\n",
       "      <td>1995</td>\n",
       "      <td>0</td>\n",
       "      <td>0</td>\n",
       "    </tr>\n",
       "    <tr>\n",
       "      <th>1</th>\n",
       "      <td>1.0</td>\n",
       "      <td>0</td>\n",
       "      <td>69100</td>\n",
       "      <td>2006</td>\n",
       "      <td>0</td>\n",
       "      <td>1</td>\n",
       "    </tr>\n",
       "    <tr>\n",
       "      <th>2</th>\n",
       "      <td>1.0</td>\n",
       "      <td>0</td>\n",
       "      <td>89650</td>\n",
       "      <td>2005</td>\n",
       "      <td>0</td>\n",
       "      <td>0</td>\n",
       "    </tr>\n",
       "    <tr>\n",
       "      <th>3</th>\n",
       "      <td>1.0</td>\n",
       "      <td>0</td>\n",
       "      <td>53190</td>\n",
       "      <td>1996</td>\n",
       "      <td>0</td>\n",
       "      <td>0</td>\n",
       "    </tr>\n",
       "    <tr>\n",
       "      <th>4</th>\n",
       "      <td>1.0</td>\n",
       "      <td>0</td>\n",
       "      <td>54560</td>\n",
       "      <td>2004</td>\n",
       "      <td>0</td>\n",
       "      <td>0</td>\n",
       "    </tr>\n",
       "  </tbody>\n",
       "</table>\n",
       "</div>"
      ],
      "text/plain": [
       "   const  umbrella_limit  total_claim_amount  auto_year  incident_state_OH  \\\n",
       "0    1.0               0               71800       1995                  0   \n",
       "1    1.0               0               69100       2006                  0   \n",
       "2    1.0               0               89650       2005                  0   \n",
       "3    1.0               0               53190       1996                  0   \n",
       "4    1.0               0               54560       2004                  0   \n",
       "\n",
       "   incident_state_WV  \n",
       "0                  0  \n",
       "1                  1  \n",
       "2                  0  \n",
       "3                  0  \n",
       "4                  0  "
      ]
     },
     "execution_count": 124,
     "metadata": {},
     "output_type": "execute_result"
    }
   ],
   "source": [
    "X_test_rfe.head()"
   ]
  },
  {
   "cell_type": "markdown",
   "metadata": {
    "id": "pzpawlMLDPXM"
   },
   "source": [
    "#### **8.1.2** Make predictions over validation data <font color=\"red\">[1 Mark]</font>"
   ]
  },
  {
   "cell_type": "code",
   "execution_count": 125,
   "metadata": {
    "id": "9CmoAZJODPXM"
   },
   "outputs": [],
   "source": [
    "# Make predictions on the validation data and store it in the variable 'y_validation_pred'\n",
    "y_test_pred = logistic_model.predict(X_test_rfe)"
   ]
  },
  {
   "cell_type": "markdown",
   "metadata": {
    "id": "r8qyn8xvDPXM"
   },
   "source": [
    "#### **8.1.3** Create DataFrame with actual values and predicted values for validation data <font color=\"red\">[2 Marks]</font>"
   ]
  },
  {
   "cell_type": "code",
   "execution_count": 126,
   "metadata": {},
   "outputs": [
    {
     "data": {
      "text/plain": [
       "0    0\n",
       "1    0\n",
       "2    0\n",
       "3    0\n",
       "4    0\n",
       "Name: fraud_reported, dtype: int64"
      ]
     },
     "execution_count": 126,
     "metadata": {},
     "output_type": "execute_result"
    }
   ],
   "source": [
    "y_test.head()"
   ]
  },
  {
   "cell_type": "code",
   "execution_count": 127,
   "metadata": {
    "id": "9Zx8RBFVDPXN"
   },
   "outputs": [
    {
     "data": {
      "text/html": [
       "<div>\n",
       "<style scoped>\n",
       "    .dataframe tbody tr th:only-of-type {\n",
       "        vertical-align: middle;\n",
       "    }\n",
       "\n",
       "    .dataframe tbody tr th {\n",
       "        vertical-align: top;\n",
       "    }\n",
       "\n",
       "    .dataframe thead th {\n",
       "        text-align: right;\n",
       "    }\n",
       "</style>\n",
       "<table border=\"1\" class=\"dataframe\">\n",
       "  <thead>\n",
       "    <tr style=\"text-align: right;\">\n",
       "      <th></th>\n",
       "      <th>Actual_Fraud</th>\n",
       "      <th>PredFraud_Prob</th>\n",
       "    </tr>\n",
       "  </thead>\n",
       "  <tbody>\n",
       "    <tr>\n",
       "      <th>0</th>\n",
       "      <td>0</td>\n",
       "      <td>1.0</td>\n",
       "    </tr>\n",
       "    <tr>\n",
       "      <th>1</th>\n",
       "      <td>0</td>\n",
       "      <td>1.0</td>\n",
       "    </tr>\n",
       "    <tr>\n",
       "      <th>2</th>\n",
       "      <td>0</td>\n",
       "      <td>1.0</td>\n",
       "    </tr>\n",
       "    <tr>\n",
       "      <th>3</th>\n",
       "      <td>0</td>\n",
       "      <td>1.0</td>\n",
       "    </tr>\n",
       "    <tr>\n",
       "      <th>4</th>\n",
       "      <td>0</td>\n",
       "      <td>1.0</td>\n",
       "    </tr>\n",
       "  </tbody>\n",
       "</table>\n",
       "</div>"
      ],
      "text/plain": [
       "   Actual_Fraud  PredFraud_Prob\n",
       "0             0             1.0\n",
       "1             0             1.0\n",
       "2             0             1.0\n",
       "3             0             1.0\n",
       "4             0             1.0"
      ]
     },
     "execution_count": 127,
     "metadata": {},
     "output_type": "execute_result"
    }
   ],
   "source": [
    "#  Create DataFrame with actual values and predicted values for validation data\n",
    "y_test_pred_final = pd.DataFrame({'Actual_Fraud':y_test.values, 'PredFraud_Prob': y_test_pred})\n",
    "y_test_pred_final.head()"
   ]
  },
  {
   "cell_type": "markdown",
   "metadata": {
    "id": "G_kC6wEPDPXN"
   },
   "source": [
    "#### **8.1.4** Make final prediction based on cutoff value <font color=\"red\">[1 Mark]</font>"
   ]
  },
  {
   "cell_type": "code",
   "execution_count": 128,
   "metadata": {
    "id": "4ge-EC74DPXN"
   },
   "outputs": [
    {
     "data": {
      "text/html": [
       "<div>\n",
       "<style scoped>\n",
       "    .dataframe tbody tr th:only-of-type {\n",
       "        vertical-align: middle;\n",
       "    }\n",
       "\n",
       "    .dataframe tbody tr th {\n",
       "        vertical-align: top;\n",
       "    }\n",
       "\n",
       "    .dataframe thead th {\n",
       "        text-align: right;\n",
       "    }\n",
       "</style>\n",
       "<table border=\"1\" class=\"dataframe\">\n",
       "  <thead>\n",
       "    <tr style=\"text-align: right;\">\n",
       "      <th></th>\n",
       "      <th>Actual_Fraud</th>\n",
       "      <th>PredFraud_Prob</th>\n",
       "      <th>Pred_Fraud</th>\n",
       "    </tr>\n",
       "  </thead>\n",
       "  <tbody>\n",
       "    <tr>\n",
       "      <th>0</th>\n",
       "      <td>0</td>\n",
       "      <td>1.0</td>\n",
       "      <td>1</td>\n",
       "    </tr>\n",
       "    <tr>\n",
       "      <th>1</th>\n",
       "      <td>0</td>\n",
       "      <td>1.0</td>\n",
       "      <td>1</td>\n",
       "    </tr>\n",
       "    <tr>\n",
       "      <th>2</th>\n",
       "      <td>0</td>\n",
       "      <td>1.0</td>\n",
       "      <td>1</td>\n",
       "    </tr>\n",
       "    <tr>\n",
       "      <th>3</th>\n",
       "      <td>0</td>\n",
       "      <td>1.0</td>\n",
       "      <td>1</td>\n",
       "    </tr>\n",
       "    <tr>\n",
       "      <th>4</th>\n",
       "      <td>0</td>\n",
       "      <td>1.0</td>\n",
       "      <td>1</td>\n",
       "    </tr>\n",
       "  </tbody>\n",
       "</table>\n",
       "</div>"
      ],
      "text/plain": [
       "   Actual_Fraud  PredFraud_Prob  Pred_Fraud\n",
       "0             0             1.0           1\n",
       "1             0             1.0           1\n",
       "2             0             1.0           1\n",
       "3             0             1.0           1\n",
       "4             0             1.0           1"
      ]
     },
     "execution_count": 128,
     "metadata": {},
     "output_type": "execute_result"
    }
   ],
   "source": [
    "# Make final predictions on the validation data using the optimal cutoff\n",
    "y_test_pred_final['Pred_Fraud'] = y_test_pred_final.PredFraud_Prob.map(lambda x: 1 if x>0.3 else 0)\n",
    "y_test_pred_final.head()"
   ]
  },
  {
   "cell_type": "markdown",
   "metadata": {
    "id": "bt7sm55QDPXN"
   },
   "source": [
    "#### **8.1.5** Check the accuracy of logistic regression model on validation data <font color=\"red\">[1 Mark]</font>"
   ]
  },
  {
   "cell_type": "code",
   "execution_count": 129,
   "metadata": {
    "id": "81tEKwwsDPXN"
   },
   "outputs": [
    {
     "name": "stdout",
     "output_type": "stream",
     "text": [
      "Accuracy:  0.24666666666666667\n"
     ]
    }
   ],
   "source": [
    "# Check the accuracy\n",
    "accuracy = metrics.accuracy_score(y_test_pred_final.Actual_Fraud, y_test_pred_final.Pred_Fraud)\n",
    "print(\"Accuracy: \", accuracy)"
   ]
  },
  {
   "cell_type": "markdown",
   "metadata": {
    "id": "RE8ZnagdDPXN"
   },
   "source": [
    "#### **8.1.6** Create confusion matrix <font color=\"red\">[1 Mark]</font>"
   ]
  },
  {
   "cell_type": "code",
   "execution_count": 130,
   "metadata": {
    "id": "NjkkexqrDPXN"
   },
   "outputs": [
    {
     "name": "stdout",
     "output_type": "stream",
     "text": [
      "[[  0 226]\n",
      " [  0  74]]\n"
     ]
    }
   ],
   "source": [
    "# Create the confusion matrix\n",
    "confusion = metrics.confusion_matrix(y_test_pred_final.Actual_Fraud, y_test_pred_final.Pred_Fraud)\n",
    "print(confusion)"
   ]
  },
  {
   "cell_type": "markdown",
   "metadata": {
    "id": "SSqBZOrYDPXN"
   },
   "source": [
    "#### **8.1.7** Create variables for true positive, true negative, false positive and false negative <font color=\"red\">[1 Mark]</font>"
   ]
  },
  {
   "cell_type": "code",
   "execution_count": 131,
   "metadata": {
    "id": "NzH_sFeoDPXN"
   },
   "outputs": [],
   "source": [
    "# Create variables for true positive, true negative, false positive and false negative\n",
    "tn, fp, fn, tp = confusion.ravel()"
   ]
  },
  {
   "cell_type": "markdown",
   "metadata": {
    "id": "_Mkn6DUwDPXN"
   },
   "source": [
    "#### **8.1.8** Calculate sensitivity, specificity, precision, recall and f1 score of the model <font color=\"red\">[2 Marks]</font>"
   ]
  },
  {
   "cell_type": "code",
   "execution_count": 132,
   "metadata": {
    "id": "FCqNW4t3DPXO"
   },
   "outputs": [
    {
     "name": "stdout",
     "output_type": "stream",
     "text": [
      "Sensitivity: 1.00\n",
      "Specificity: 0.00\n",
      "Precision: 0.25\n",
      "Recall: 1.00\n",
      "F1: 0.40\n"
     ]
    }
   ],
   "source": [
    "# Calculate the sensitivity\n",
    "sensitivity = tp / (tp + fn)\n",
    "\n",
    "# Calculate the specificity\n",
    "specificity = tn / (tn + fp)\n",
    "\n",
    "# Calculate Precision\n",
    "precision = tp / (tp + fp)\n",
    "\n",
    "# Calculate Recall\n",
    "recall = tp / (tp + fn)\n",
    "\n",
    "# Calculate F1 Score\n",
    "f1 = 2 * (precision * recall) / (precision + recall)\n",
    "\n",
    "print(f\"Sensitivity: {sensitivity:.2f}\")\n",
    "print(f\"Specificity: {specificity:.2f}\")\n",
    "print(f\"Precision: {precision:.2f}\")\n",
    "print(f\"Recall: {recall:.2f}\")\n",
    "print(f\"F1: {f1:.2f}\")"
   ]
  },
  {
   "cell_type": "code",
   "execution_count": 133,
   "metadata": {},
   "outputs": [
    {
     "data": {
      "text/plain": [
       "1.0"
      ]
     },
     "execution_count": 133,
     "metadata": {},
     "output_type": "execute_result"
    }
   ],
   "source": [
    "recall_test_lr = recall\n",
    "recall_test_lr"
   ]
  },
  {
   "cell_type": "markdown",
   "metadata": {
    "id": "1wTVm8V_DPXO"
   },
   "source": [
    "### **8.2 Make predictions over validation data using random forest model** <font color = red>[10 marks]</font>"
   ]
  },
  {
   "cell_type": "markdown",
   "metadata": {
    "id": "UDgbDTfIDPXO"
   },
   "source": [
    "#### **8.2.1** Select the important features and make predictions over validation data <font color=\"red\">[2 Marks]</font>"
   ]
  },
  {
   "cell_type": "code",
   "execution_count": 135,
   "metadata": {
    "id": "RhtKprsQDPXO"
   },
   "outputs": [],
   "source": [
    "# Select the relevant features for validation data\n",
    "# X_test_imp\n",
    "# Make predictions on the validation data\n",
    "y_test_pred = rf.predict_proba(X_test_imp)[:, 1]\n",
    "#y_test_pred = rf.predict(X_test_imp)"
   ]
  },
  {
   "cell_type": "code",
   "execution_count": 136,
   "metadata": {},
   "outputs": [
    {
     "data": {
      "text/html": [
       "<div>\n",
       "<style scoped>\n",
       "    .dataframe tbody tr th:only-of-type {\n",
       "        vertical-align: middle;\n",
       "    }\n",
       "\n",
       "    .dataframe tbody tr th {\n",
       "        vertical-align: top;\n",
       "    }\n",
       "\n",
       "    .dataframe thead th {\n",
       "        text-align: right;\n",
       "    }\n",
       "</style>\n",
       "<table border=\"1\" class=\"dataframe\">\n",
       "  <thead>\n",
       "    <tr style=\"text-align: right;\">\n",
       "      <th></th>\n",
       "      <th>Actual_Fraud</th>\n",
       "      <th>PredFraud_Prob</th>\n",
       "    </tr>\n",
       "  </thead>\n",
       "  <tbody>\n",
       "    <tr>\n",
       "      <th>0</th>\n",
       "      <td>0</td>\n",
       "      <td>0.469976</td>\n",
       "    </tr>\n",
       "    <tr>\n",
       "      <th>1</th>\n",
       "      <td>0</td>\n",
       "      <td>0.420710</td>\n",
       "    </tr>\n",
       "    <tr>\n",
       "      <th>2</th>\n",
       "      <td>0</td>\n",
       "      <td>0.571522</td>\n",
       "    </tr>\n",
       "    <tr>\n",
       "      <th>3</th>\n",
       "      <td>0</td>\n",
       "      <td>0.611792</td>\n",
       "    </tr>\n",
       "    <tr>\n",
       "      <th>4</th>\n",
       "      <td>0</td>\n",
       "      <td>0.583269</td>\n",
       "    </tr>\n",
       "  </tbody>\n",
       "</table>\n",
       "</div>"
      ],
      "text/plain": [
       "   Actual_Fraud  PredFraud_Prob\n",
       "0             0        0.469976\n",
       "1             0        0.420710\n",
       "2             0        0.571522\n",
       "3             0        0.611792\n",
       "4             0        0.583269"
      ]
     },
     "execution_count": 136,
     "metadata": {},
     "output_type": "execute_result"
    }
   ],
   "source": [
    "y_test_pred_final = pd.DataFrame({'Actual_Fraud':y_test.values, 'PredFraud_Prob': y_test_pred})\n",
    "y_test_pred_final.head()"
   ]
  },
  {
   "cell_type": "code",
   "execution_count": 137,
   "metadata": {},
   "outputs": [
    {
     "data": {
      "text/html": [
       "<div>\n",
       "<style scoped>\n",
       "    .dataframe tbody tr th:only-of-type {\n",
       "        vertical-align: middle;\n",
       "    }\n",
       "\n",
       "    .dataframe tbody tr th {\n",
       "        vertical-align: top;\n",
       "    }\n",
       "\n",
       "    .dataframe thead th {\n",
       "        text-align: right;\n",
       "    }\n",
       "</style>\n",
       "<table border=\"1\" class=\"dataframe\">\n",
       "  <thead>\n",
       "    <tr style=\"text-align: right;\">\n",
       "      <th></th>\n",
       "      <th>Actual_Fraud</th>\n",
       "      <th>PredFraud_Prob</th>\n",
       "      <th>Pred_Fraud</th>\n",
       "    </tr>\n",
       "  </thead>\n",
       "  <tbody>\n",
       "    <tr>\n",
       "      <th>0</th>\n",
       "      <td>0</td>\n",
       "      <td>0.469976</td>\n",
       "      <td>1</td>\n",
       "    </tr>\n",
       "    <tr>\n",
       "      <th>1</th>\n",
       "      <td>0</td>\n",
       "      <td>0.420710</td>\n",
       "      <td>1</td>\n",
       "    </tr>\n",
       "    <tr>\n",
       "      <th>2</th>\n",
       "      <td>0</td>\n",
       "      <td>0.571522</td>\n",
       "      <td>1</td>\n",
       "    </tr>\n",
       "    <tr>\n",
       "      <th>3</th>\n",
       "      <td>0</td>\n",
       "      <td>0.611792</td>\n",
       "      <td>1</td>\n",
       "    </tr>\n",
       "    <tr>\n",
       "      <th>4</th>\n",
       "      <td>0</td>\n",
       "      <td>0.583269</td>\n",
       "      <td>1</td>\n",
       "    </tr>\n",
       "  </tbody>\n",
       "</table>\n",
       "</div>"
      ],
      "text/plain": [
       "   Actual_Fraud  PredFraud_Prob  Pred_Fraud\n",
       "0             0        0.469976           1\n",
       "1             0        0.420710           1\n",
       "2             0        0.571522           1\n",
       "3             0        0.611792           1\n",
       "4             0        0.583269           1"
      ]
     },
     "execution_count": 137,
     "metadata": {},
     "output_type": "execute_result"
    }
   ],
   "source": [
    "# Make final predictions on the validation data using the optimal cutoff of 0.4\n",
    "y_test_pred_final['Pred_Fraud'] = y_test_pred_final.PredFraud_Prob.map(lambda x: 1 if x>0.3 else 0)\n",
    "y_test_pred_final.head()"
   ]
  },
  {
   "cell_type": "markdown",
   "metadata": {
    "id": "bUbtP7CADPXO"
   },
   "source": [
    "#### **8.2.2** Check accuracy of random forest model <font color=\"red\">[1 Mark]</font>"
   ]
  },
  {
   "cell_type": "code",
   "execution_count": 138,
   "metadata": {
    "id": "bJyVOpLlDPXO"
   },
   "outputs": [
    {
     "name": "stdout",
     "output_type": "stream",
     "text": [
      "Accuracy:  0.4066666666666667\n"
     ]
    }
   ],
   "source": [
    "# Check accuracy\n",
    "accuracy = metrics.accuracy_score(y_test_pred_final.Actual_Fraud, y_test_pred_final.Pred_Fraud)\n",
    "print(\"Accuracy: \", accuracy)"
   ]
  },
  {
   "cell_type": "markdown",
   "metadata": {
    "id": "spUa4VBfDPXO"
   },
   "source": [
    "#### **8.2.3** Create confusion matrix <font color=\"red\">[1 Mark]</font>"
   ]
  },
  {
   "cell_type": "code",
   "execution_count": 139,
   "metadata": {
    "id": "eXJVNVrSDPXO"
   },
   "outputs": [
    {
     "name": "stdout",
     "output_type": "stream",
     "text": [
      "[[ 59 167]\n",
      " [ 11  63]]\n"
     ]
    }
   ],
   "source": [
    "# Create the confusion matrix\n",
    "confusion = metrics.confusion_matrix(y_test_pred_final.Actual_Fraud, y_test_pred_final.Pred_Fraud)\n",
    "print(confusion)"
   ]
  },
  {
   "cell_type": "markdown",
   "metadata": {
    "id": "HuUdgVYSDPXO"
   },
   "source": [
    "#### **8.2.4** Create variables for true positive, true negative, false positive and false negative <font color=\"red\">[1 Mark]</font>"
   ]
  },
  {
   "cell_type": "code",
   "execution_count": 140,
   "metadata": {
    "id": "UT7lU5CWDPXO"
   },
   "outputs": [],
   "source": [
    "# Create variables for true positive, true negative, false positive and false negative\n",
    "tn, fp, fn, tp = confusion.ravel()"
   ]
  },
  {
   "cell_type": "markdown",
   "metadata": {
    "id": "YAjovvF4DPXO"
   },
   "source": [
    "#### **8.2.5** Calculate sensitivity, specificity, precision, recall and F1-score of the model <font color=\"red\">[5 Marks]</font>"
   ]
  },
  {
   "cell_type": "code",
   "execution_count": 141,
   "metadata": {
    "id": "C1PYzDaWDPXO"
   },
   "outputs": [
    {
     "name": "stdout",
     "output_type": "stream",
     "text": [
      "Sensitivity: 0.85\n",
      "Specificity: 0.26\n",
      "Precision: 0.27\n",
      "Recall: 0.85\n",
      "F1: 0.41\n"
     ]
    }
   ],
   "source": [
    "# Calculate the sensitivity\n",
    "sensitivity = tp / (tp + fn)\n",
    "\n",
    "# Calculate the specificity\n",
    "specificity = tn / (tn + fp)\n",
    "\n",
    "# Calculate Precision\n",
    "precision = tp / (tp + fp)\n",
    "\n",
    "# Calculate Recall\n",
    "recall = tp / (tp + fn)\n",
    "\n",
    "# Calculate F1 Score\n",
    "f1 = 2 * (precision * recall) / (precision + recall)\n",
    "\n",
    "print(f\"Sensitivity: {sensitivity:.2f}\")\n",
    "print(f\"Specificity: {specificity:.2f}\")\n",
    "print(f\"Precision: {precision:.2f}\")\n",
    "print(f\"Recall: {recall:.2f}\")\n",
    "print(f\"F1: {f1:.2f}\")\n"
   ]
  },
  {
   "cell_type": "code",
   "execution_count": 142,
   "metadata": {},
   "outputs": [
    {
     "data": {
      "text/plain": [
       "0.8513513513513513"
      ]
     },
     "execution_count": 142,
     "metadata": {},
     "output_type": "execute_result"
    }
   ],
   "source": [
    "recall_test_rf = recall\n",
    "recall_test_rf"
   ]
  },
  {
   "cell_type": "markdown",
   "metadata": {
    "id": "nENAdFWhDPXP"
   },
   "source": [
    "## **Evaluation and Conclusion**\n",
    "Write the conclusion."
   ]
  },
  {
   "cell_type": "code",
   "execution_count": 149,
   "metadata": {},
   "outputs": [
    {
     "name": "stdout",
     "output_type": "stream",
     "text": [
      "** Logistic Regression **\n",
      "With a cut-off of 0.3\n",
      "Train Recall = 88.02281368821293 %\n",
      "Test Recall = 100.0 %\n",
      "\n",
      "\n",
      "\n",
      "** Random Forest **\n",
      "With a cut-off of 0.3\n",
      "Train Recall = 98.66920152091255 %\n",
      "Test Recall = 85.13513513513513 %\n"
     ]
    }
   ],
   "source": [
    "print(\"** Logistic Regression **\")\n",
    "print(\"With a cut-off of 0.3\")\n",
    "print(\"Train Recall = \" + str(recall_train_lr * 100) + \" %\")\n",
    "print(\"Test Recall = \" + str(recall_test_lr * 100) + \" %\")\n",
    "\n",
    "print(\"\\n\\n\")\n",
    "\n",
    "print(\"** Random Forest **\")\n",
    "print(\"With a cut-off of 0.3\")\n",
    "print(\"Train Recall = \" + str(recall_train_rf * 100) + \" %\")\n",
    "print(\"Test Recall = \" + str(recall_test_rf * 100) + \" %\")"
   ]
  }
 ],
 "metadata": {
  "colab": {
   "provenance": [
    {
     "file_id": "1SIhxHs7kl3qt0VU3gGAAt_k_NQTvuqmc",
     "timestamp": 1740041215388
    },
    {
     "file_id": "1wef6jk_PrklarfJ5GA9FoyCAiKkArPCw",
     "timestamp": 1739780524071
    }
   ],
   "toc_visible": true
  },
  "kernelspec": {
   "display_name": "Python 3 (ipykernel)",
   "language": "python",
   "name": "python3"
  },
  "language_info": {
   "codemirror_mode": {
    "name": "ipython",
    "version": 3
   },
   "file_extension": ".py",
   "mimetype": "text/x-python",
   "name": "python",
   "nbconvert_exporter": "python",
   "pygments_lexer": "ipython3",
   "version": "3.9.12"
  }
 },
 "nbformat": 4,
 "nbformat_minor": 1
}
