{
 "cells": [
  {
   "cell_type": "markdown",
   "metadata": {
    "id": "uJ6cv25EDPWV"
   },
   "source": [
    "## **Fraudulent Claim Detection**"
   ]
  },
  {
   "cell_type": "markdown",
   "metadata": {
    "id": "_rLrWLwZDPWW"
   },
   "source": [
    "## Problem Statement\n",
    "Global Insure, a leading insurance company, processes thousands of claims annually. However, a significant percentage of these claims turn out to be fraudulent, resulting in considerable financial losses. The company’s current process for identifying fraudulent claims involves manual inspections, which is time-consuming and inefficient. Fraudulent claims are often detected too late in the process, after the company has already paid out significant amounts. Global Insure wants to improve its fraud detection process using data-driven insights to classify claims as fraudulent or legitimate early in the approval process. This would minimise financial losses and optimise the overall claims handling process.\n",
    "\n",
    "## Business Objective\n",
    "Global Insure wants to build a model to classify insurance claims as either fraudulent or legitimate based on historical claim details and customer profiles. By using features like claim amounts, customer profiles and claim types, the company aims to predict which claims are likely to be fraudulent before they are approved.\n",
    "\n",
    "\n",
    "Based on this assignment, you have to answer the following questions:<br>\n",
    "\n",
    "● How can we analyse historical claim data to detect patterns that indicate fraudulent claims?<br>\n",
    "● Which features are most predictive of fraudulent behaviour?<br>\n",
    "● Can we predict the likelihood of fraud for an incoming claim, based on past data?<br>\n",
    "● What insights can be drawn from the model that can help in improving the fraud detection process?<br>"
   ]
  },
  {
   "cell_type": "markdown",
   "metadata": {
    "id": "dCp1H_XyDPWX"
   },
   "source": [
    "## Assignment Tasks\n",
    "You need to perform the following steps for successfully completing this assignment:\n",
    "1. Data Preparation\n",
    "2. Data Cleaning\n",
    "3. Train Validation Split 70-30\n",
    "4. EDA on Training Data\n",
    "5. EDA on Validation Data (optional)\n",
    "6. Feature Engineering\n",
    "7. Model Building\n",
    "8. Predicting and Model Evaluation"
   ]
  },
  {
   "cell_type": "markdown",
   "metadata": {
    "id": "PPnbScj6sHfw"
   },
   "source": [
    "## Data Dictionary\n",
    "The insurance claims data has 40 Columns and 1000 Rows. Following data dictionary provides the description for each column present in dataset:<br>\n",
    "\n",
    "<table>\n",
    "  <thead>\n",
    "    <tr>\n",
    "      <th>Column Name</th>\n",
    "      <th>Description</th>\n",
    "    </tr>\n",
    "  </thead>\n",
    "  <tbody>\n",
    "    <tr>\n",
    "      <td>months_as_customer</td>\n",
    "      <td>Represents the duration in months that a customer has been associated with the insurance company.</td>\n",
    "    </tr>\n",
    "    <tr>\n",
    "      <td>age</td>\n",
    "      <td>Represents the age of the insured person.</td>\n",
    "    </tr>\n",
    "    <tr>\n",
    "      <td>policy_number</td>\n",
    "      <td>Represents a unique identifier for each insurance policy.</td>\n",
    "    </tr>\n",
    "    <tr>\n",
    "      <td>policy_bind_date</td>\n",
    "      <td>Represents the date when the insurance policy was initiated.</td>\n",
    "    </tr>\n",
    "    <tr>\n",
    "      <td>policy_state</td>\n",
    "      <td>Represents the state where the insurance policy is applicable.</td>\n",
    "    </tr>\n",
    "    <tr>\n",
    "      <td>policy_csl</td>\n",
    "      <td>Represents the combined single limit for the insurance policy.</td>\n",
    "    </tr>\n",
    "    <tr>\n",
    "      <td>policy_deductable</td>\n",
    "      <td>Represents the amount that the insured person needs to pay before the insurance coverage kicks in.</td>\n",
    "    </tr>\n",
    "    <tr>\n",
    "      <td>policy_annual_premium</td>\n",
    "      <td>Represents the yearly cost of the insurance policy.</td>\n",
    "    </tr>\n",
    "    <tr>\n",
    "      <td>umbrella_limit</td>\n",
    "      <td>Represents an additional layer of liability coverage provided beyond the limits of the primary insurance policy.</td>\n",
    "    </tr>\n",
    "    <tr>\n",
    "      <td>insured_zip</td>\n",
    "      <td>Represents the zip code of the insured person.</td>\n",
    "    </tr>\n",
    "    <tr>\n",
    "      <td>insured_sex</td>\n",
    "      <td>Represents the gender of the insured person.</td>\n",
    "    </tr>\n",
    "    <tr>\n",
    "      <td>insured_education_level</td>\n",
    "      <td>Represents the highest educational qualification of the insured person.</td>\n",
    "    </tr>\n",
    "    <tr>\n",
    "      <td>insured_occupation</td>\n",
    "      <td>Represents the profession or job of the insured person.</td>\n",
    "    </tr>\n",
    "    <tr>\n",
    "      <td>insured_hobbies</td>\n",
    "      <td>Represents the hobbies or leisure activities of the insured person.</td>\n",
    "    </tr>\n",
    "    <tr>\n",
    "      <td>insured_relationship</td>\n",
    "      <td>Represents the relationship of the insured person to the policyholder.</td>\n",
    "    </tr>\n",
    "    <tr>\n",
    "      <td>capital-gains</td>\n",
    "      <td>Represents the profit earned from the sale of assets such as stocks, bonds, or real estate.</td>\n",
    "    </tr>\n",
    "    <tr>\n",
    "      <td>capital-loss</td>\n",
    "      <td>Represents the loss incurred from the sale of assets such as stocks, bonds, or real estate.</td>\n",
    "    </tr>\n",
    "    <tr>\n",
    "      <td>incident_date</td>\n",
    "      <td>Represents the date when the incident or accident occurred.</td>\n",
    "    </tr>\n",
    "    <tr>\n",
    "      <td>incident_type</td>\n",
    "      <td>Represents the category or type of incident that led to the claim.</td>\n",
    "    </tr>\n",
    "    <tr>\n",
    "      <td>collision_type</td>\n",
    "      <td>Represents the type of collision that occurred in an accident.</td>\n",
    "    </tr>\n",
    "    <tr>\n",
    "      <td>incident_severity</td>\n",
    "      <td>Represents the extent of damage or injury caused by the incident.</td>\n",
    "    </tr>\n",
    "    <tr>\n",
    "      <td>authorities_contacted</td>\n",
    "      <td>Represents the authorities or agencies that were contacted after the incident.</td>\n",
    "    </tr>\n",
    "    <tr>\n",
    "      <td>incident_state</td>\n",
    "      <td>Represents the state where the incident occurred.</td>\n",
    "    </tr>\n",
    "    <tr>\n",
    "      <td>incident_city</td>\n",
    "      <td>Represents the city where the incident occurred.</td>\n",
    "    </tr>\n",
    "    <tr>\n",
    "      <td>incident_location</td>\n",
    "      <td>Represents the specific location or address where the incident occurred.</td>\n",
    "    </tr>\n",
    "    <tr>\n",
    "      <td>incident_hour_of_the_day</td>\n",
    "      <td>Represents the hour of the day when the incident occurred.</td>\n",
    "    </tr>\n",
    "    <tr>\n",
    "      <td>number_of_vehicles_involved</td>\n",
    "      <td>Represents the total number of vehicles involved in the incident.</td>\n",
    "    </tr>\n",
    "    <tr>\n",
    "      <td>property_damage</td>\n",
    "      <td>Represents whether there was any damage to property in the incident.</td>\n",
    "    </tr>\n",
    "    <tr>\n",
    "      <td>bodily_injuries</td>\n",
    "      <td>Represents the number of bodily injuries resulting from the incident.</td>\n",
    "    </tr>\n",
    "    <tr>\n",
    "      <td>witnesses</td>\n",
    "      <td>Represents the number of witnesses present at the scene of the incident.</td>\n",
    "    </tr>\n",
    "    <tr>\n",
    "      <td>police_report_available</td>\n",
    "      <td>Represents whether a police report is available for the incident.</td>\n",
    "    </tr>\n",
    "    <tr>\n",
    "      <td>total_claim_amount</td>\n",
    "      <td>Represents the total amount claimed by the insured person for the incident.</td>\n",
    "    </tr>\n",
    "    <tr>\n",
    "      <td>injury_claim</td>\n",
    "      <td>Represents the amount claimed for injuries sustained in the incident.</td>\n",
    "    </tr>\n",
    "    <tr>\n",
    "      <td>property_claim</td>\n",
    "      <td>Represents the amount claimed for property damage in the incident.</td>\n",
    "    </tr>\n",
    "    <tr>\n",
    "      <td>vehicle_claim</td>\n",
    "      <td>Represents the amount claimed for vehicle damage in the incident.</td>\n",
    "    </tr>\n",
    "    <tr>\n",
    "      <td>auto_make</td>\n",
    "      <td>Represents the manufacturer of the insured vehicle.</td>\n",
    "    </tr>\n",
    "    <tr>\n",
    "      <td>auto_model</td>\n",
    "      <td>Represents the specific model of the insured vehicle.</td>\n",
    "    </tr>\n",
    "    <tr>\n",
    "      <td>auto_year</td>\n",
    "      <td>Represents the year of manufacture of the insured vehicle.</td>\n",
    "    </tr>\n",
    "    <tr>\n",
    "      <td>fraud_reported</td>\n",
    "      <td>Represents whether the claim was reported as fraudulent or not.</td>\n",
    "    </tr>\n",
    "    <tr>\n",
    "      <td>_c39</td>\n",
    "      <td>Represents an unknown or unspecified variable.</td>\n",
    "    </tr>\n",
    "  </tbody>\n",
    "</table>"
   ]
  },
  {
   "cell_type": "markdown",
   "metadata": {
    "id": "2Hfg3nHjDPWY"
   },
   "source": [
    "## **1. Data Preparation**\n",
    "In this step, read the dataset provided in CSV format and look at basic statistics of the data, including preview of data, dimension of data, column descriptions and data types."
   ]
  },
  {
   "cell_type": "markdown",
   "metadata": {
    "id": "2xZBs5L_DPWY"
   },
   "source": [
    "### **1.0 Import Libraries**"
   ]
  },
  {
   "cell_type": "code",
   "execution_count": 1654,
   "metadata": {
    "id": "2xUZYP92DPWY"
   },
   "outputs": [],
   "source": [
    "# Supress unnecessary warnings\n",
    "import warnings\n",
    "warnings.filterwarnings(\"ignore\")"
   ]
  },
  {
   "cell_type": "code",
   "execution_count": 1655,
   "metadata": {
    "id": "6glz5HkPDPWZ"
   },
   "outputs": [],
   "source": [
    "# Import necessary libraries\n",
    "import numpy as np\n",
    "import pandas as pd\n",
    "import seaborn as sns\n",
    "import matplotlib.pyplot as plt"
   ]
  },
  {
   "cell_type": "markdown",
   "metadata": {
    "id": "D8-RBUdWDPWZ"
   },
   "source": [
    "### **1.1 Load the Data**"
   ]
  },
  {
   "cell_type": "code",
   "execution_count": 1656,
   "metadata": {
    "id": "kP0JaSjJDPWZ"
   },
   "outputs": [],
   "source": [
    "# Load the dataset\n",
    "df = pd.read_csv('insurance_claims.csv')\n"
   ]
  },
  {
   "cell_type": "code",
   "execution_count": 1657,
   "metadata": {
    "id": "qaR4TkqTDPWZ"
   },
   "outputs": [
    {
     "data": {
      "text/html": [
       "<div>\n",
       "<style scoped>\n",
       "    .dataframe tbody tr th:only-of-type {\n",
       "        vertical-align: middle;\n",
       "    }\n",
       "\n",
       "    .dataframe tbody tr th {\n",
       "        vertical-align: top;\n",
       "    }\n",
       "\n",
       "    .dataframe thead th {\n",
       "        text-align: right;\n",
       "    }\n",
       "</style>\n",
       "<table border=\"1\" class=\"dataframe\">\n",
       "  <thead>\n",
       "    <tr style=\"text-align: right;\">\n",
       "      <th></th>\n",
       "      <th>months_as_customer</th>\n",
       "      <th>age</th>\n",
       "      <th>policy_number</th>\n",
       "      <th>policy_bind_date</th>\n",
       "      <th>policy_state</th>\n",
       "      <th>policy_csl</th>\n",
       "      <th>policy_deductable</th>\n",
       "      <th>policy_annual_premium</th>\n",
       "      <th>umbrella_limit</th>\n",
       "      <th>insured_zip</th>\n",
       "      <th>...</th>\n",
       "      <th>police_report_available</th>\n",
       "      <th>total_claim_amount</th>\n",
       "      <th>injury_claim</th>\n",
       "      <th>property_claim</th>\n",
       "      <th>vehicle_claim</th>\n",
       "      <th>auto_make</th>\n",
       "      <th>auto_model</th>\n",
       "      <th>auto_year</th>\n",
       "      <th>fraud_reported</th>\n",
       "      <th>_c39</th>\n",
       "    </tr>\n",
       "  </thead>\n",
       "  <tbody>\n",
       "    <tr>\n",
       "      <th>0</th>\n",
       "      <td>328</td>\n",
       "      <td>48</td>\n",
       "      <td>521585</td>\n",
       "      <td>2014-10-17</td>\n",
       "      <td>OH</td>\n",
       "      <td>250/500</td>\n",
       "      <td>1000</td>\n",
       "      <td>1406.91</td>\n",
       "      <td>0</td>\n",
       "      <td>466132</td>\n",
       "      <td>...</td>\n",
       "      <td>YES</td>\n",
       "      <td>71610</td>\n",
       "      <td>6510</td>\n",
       "      <td>13020</td>\n",
       "      <td>52080</td>\n",
       "      <td>Saab</td>\n",
       "      <td>92x</td>\n",
       "      <td>2004</td>\n",
       "      <td>Y</td>\n",
       "      <td>NaN</td>\n",
       "    </tr>\n",
       "    <tr>\n",
       "      <th>1</th>\n",
       "      <td>228</td>\n",
       "      <td>42</td>\n",
       "      <td>342868</td>\n",
       "      <td>2006-06-27</td>\n",
       "      <td>IN</td>\n",
       "      <td>250/500</td>\n",
       "      <td>2000</td>\n",
       "      <td>1197.22</td>\n",
       "      <td>5000000</td>\n",
       "      <td>468176</td>\n",
       "      <td>...</td>\n",
       "      <td>?</td>\n",
       "      <td>5070</td>\n",
       "      <td>780</td>\n",
       "      <td>780</td>\n",
       "      <td>3510</td>\n",
       "      <td>Mercedes</td>\n",
       "      <td>E400</td>\n",
       "      <td>2007</td>\n",
       "      <td>Y</td>\n",
       "      <td>NaN</td>\n",
       "    </tr>\n",
       "    <tr>\n",
       "      <th>2</th>\n",
       "      <td>134</td>\n",
       "      <td>29</td>\n",
       "      <td>687698</td>\n",
       "      <td>2000-09-06</td>\n",
       "      <td>OH</td>\n",
       "      <td>100/300</td>\n",
       "      <td>2000</td>\n",
       "      <td>1413.14</td>\n",
       "      <td>5000000</td>\n",
       "      <td>430632</td>\n",
       "      <td>...</td>\n",
       "      <td>NO</td>\n",
       "      <td>34650</td>\n",
       "      <td>7700</td>\n",
       "      <td>3850</td>\n",
       "      <td>23100</td>\n",
       "      <td>Dodge</td>\n",
       "      <td>RAM</td>\n",
       "      <td>2007</td>\n",
       "      <td>N</td>\n",
       "      <td>NaN</td>\n",
       "    </tr>\n",
       "    <tr>\n",
       "      <th>3</th>\n",
       "      <td>256</td>\n",
       "      <td>41</td>\n",
       "      <td>227811</td>\n",
       "      <td>1990-05-25</td>\n",
       "      <td>IL</td>\n",
       "      <td>250/500</td>\n",
       "      <td>2000</td>\n",
       "      <td>1415.74</td>\n",
       "      <td>6000000</td>\n",
       "      <td>608117</td>\n",
       "      <td>...</td>\n",
       "      <td>NO</td>\n",
       "      <td>63400</td>\n",
       "      <td>6340</td>\n",
       "      <td>6340</td>\n",
       "      <td>50720</td>\n",
       "      <td>Chevrolet</td>\n",
       "      <td>Tahoe</td>\n",
       "      <td>2014</td>\n",
       "      <td>Y</td>\n",
       "      <td>NaN</td>\n",
       "    </tr>\n",
       "    <tr>\n",
       "      <th>4</th>\n",
       "      <td>228</td>\n",
       "      <td>44</td>\n",
       "      <td>367455</td>\n",
       "      <td>2014-06-06</td>\n",
       "      <td>IL</td>\n",
       "      <td>500/1000</td>\n",
       "      <td>1000</td>\n",
       "      <td>1583.91</td>\n",
       "      <td>6000000</td>\n",
       "      <td>610706</td>\n",
       "      <td>...</td>\n",
       "      <td>NO</td>\n",
       "      <td>6500</td>\n",
       "      <td>1300</td>\n",
       "      <td>650</td>\n",
       "      <td>4550</td>\n",
       "      <td>Accura</td>\n",
       "      <td>RSX</td>\n",
       "      <td>2009</td>\n",
       "      <td>N</td>\n",
       "      <td>NaN</td>\n",
       "    </tr>\n",
       "  </tbody>\n",
       "</table>\n",
       "<p>5 rows × 40 columns</p>\n",
       "</div>"
      ],
      "text/plain": [
       "   months_as_customer  age  policy_number policy_bind_date policy_state  \\\n",
       "0                 328   48         521585       2014-10-17           OH   \n",
       "1                 228   42         342868       2006-06-27           IN   \n",
       "2                 134   29         687698       2000-09-06           OH   \n",
       "3                 256   41         227811       1990-05-25           IL   \n",
       "4                 228   44         367455       2014-06-06           IL   \n",
       "\n",
       "  policy_csl  policy_deductable  policy_annual_premium  umbrella_limit  \\\n",
       "0    250/500               1000                1406.91               0   \n",
       "1    250/500               2000                1197.22         5000000   \n",
       "2    100/300               2000                1413.14         5000000   \n",
       "3    250/500               2000                1415.74         6000000   \n",
       "4   500/1000               1000                1583.91         6000000   \n",
       "\n",
       "   insured_zip  ... police_report_available total_claim_amount injury_claim  \\\n",
       "0       466132  ...                     YES              71610         6510   \n",
       "1       468176  ...                       ?               5070          780   \n",
       "2       430632  ...                      NO              34650         7700   \n",
       "3       608117  ...                      NO              63400         6340   \n",
       "4       610706  ...                      NO               6500         1300   \n",
       "\n",
       "  property_claim vehicle_claim  auto_make  auto_model auto_year  \\\n",
       "0          13020         52080       Saab         92x      2004   \n",
       "1            780          3510   Mercedes        E400      2007   \n",
       "2           3850         23100      Dodge         RAM      2007   \n",
       "3           6340         50720  Chevrolet       Tahoe      2014   \n",
       "4            650          4550     Accura         RSX      2009   \n",
       "\n",
       "  fraud_reported _c39  \n",
       "0              Y  NaN  \n",
       "1              Y  NaN  \n",
       "2              N  NaN  \n",
       "3              Y  NaN  \n",
       "4              N  NaN  \n",
       "\n",
       "[5 rows x 40 columns]"
      ]
     },
     "execution_count": 1657,
     "metadata": {},
     "output_type": "execute_result"
    }
   ],
   "source": [
    "# Check at the first few entries\n",
    "df.head()"
   ]
  },
  {
   "cell_type": "code",
   "execution_count": 1658,
   "metadata": {
    "id": "TK9_lipzDPWa"
   },
   "outputs": [
    {
     "data": {
      "text/plain": [
       "(1000, 40)"
      ]
     },
     "execution_count": 1658,
     "metadata": {},
     "output_type": "execute_result"
    }
   ],
   "source": [
    "# Inspect the shape of the dataset\n",
    "df.shape"
   ]
  },
  {
   "cell_type": "code",
   "execution_count": 1659,
   "metadata": {
    "id": "Fd0PADNIuqov"
   },
   "outputs": [
    {
     "name": "stdout",
     "output_type": "stream",
     "text": [
      "<class 'pandas.core.frame.DataFrame'>\n",
      "RangeIndex: 1000 entries, 0 to 999\n",
      "Data columns (total 40 columns):\n",
      " #   Column                       Non-Null Count  Dtype  \n",
      "---  ------                       --------------  -----  \n",
      " 0   months_as_customer           1000 non-null   int64  \n",
      " 1   age                          1000 non-null   int64  \n",
      " 2   policy_number                1000 non-null   int64  \n",
      " 3   policy_bind_date             1000 non-null   object \n",
      " 4   policy_state                 1000 non-null   object \n",
      " 5   policy_csl                   1000 non-null   object \n",
      " 6   policy_deductable            1000 non-null   int64  \n",
      " 7   policy_annual_premium        1000 non-null   float64\n",
      " 8   umbrella_limit               1000 non-null   int64  \n",
      " 9   insured_zip                  1000 non-null   int64  \n",
      " 10  insured_sex                  1000 non-null   object \n",
      " 11  insured_education_level      1000 non-null   object \n",
      " 12  insured_occupation           1000 non-null   object \n",
      " 13  insured_hobbies              1000 non-null   object \n",
      " 14  insured_relationship         1000 non-null   object \n",
      " 15  capital-gains                1000 non-null   int64  \n",
      " 16  capital-loss                 1000 non-null   int64  \n",
      " 17  incident_date                1000 non-null   object \n",
      " 18  incident_type                1000 non-null   object \n",
      " 19  collision_type               1000 non-null   object \n",
      " 20  incident_severity            1000 non-null   object \n",
      " 21  authorities_contacted        1000 non-null   object \n",
      " 22  incident_state               1000 non-null   object \n",
      " 23  incident_city                1000 non-null   object \n",
      " 24  incident_location            1000 non-null   object \n",
      " 25  incident_hour_of_the_day     1000 non-null   int64  \n",
      " 26  number_of_vehicles_involved  1000 non-null   int64  \n",
      " 27  property_damage              1000 non-null   object \n",
      " 28  bodily_injuries              1000 non-null   int64  \n",
      " 29  witnesses                    1000 non-null   int64  \n",
      " 30  police_report_available      1000 non-null   object \n",
      " 31  total_claim_amount           1000 non-null   int64  \n",
      " 32  injury_claim                 1000 non-null   int64  \n",
      " 33  property_claim               1000 non-null   int64  \n",
      " 34  vehicle_claim                1000 non-null   int64  \n",
      " 35  auto_make                    1000 non-null   object \n",
      " 36  auto_model                   1000 non-null   object \n",
      " 37  auto_year                    1000 non-null   int64  \n",
      " 38  fraud_reported               1000 non-null   object \n",
      " 39  _c39                         0 non-null      float64\n",
      "dtypes: float64(2), int64(17), object(21)\n",
      "memory usage: 312.6+ KB\n"
     ]
    }
   ],
   "source": [
    "# Inspect the features in the dataset\n",
    "df.info()"
   ]
  },
  {
   "cell_type": "markdown",
   "metadata": {
    "id": "YRijmf2EDPWa"
   },
   "source": [
    "## **2. Data Cleaning** <font color = red>[10 marks]</font>"
   ]
  },
  {
   "cell_type": "markdown",
   "metadata": {
    "id": "DxXOACINDPWa"
   },
   "source": [
    "### **2.1 Handle null values** <font color = red>[2 marks]</font>"
   ]
  },
  {
   "cell_type": "markdown",
   "metadata": {
    "id": "kJDjZSkmDPWa"
   },
   "source": [
    "#### **2.1.1** Examine the columns to determine if any value or column needs to be treated <font color=\"red\">[1 Mark]</font>"
   ]
  },
  {
   "cell_type": "code",
   "execution_count": 1660,
   "metadata": {
    "id": "3B4OtvQlDPWa"
   },
   "outputs": [
    {
     "data": {
      "text/plain": [
       "months_as_customer                0\n",
       "age                               0\n",
       "policy_number                     0\n",
       "policy_bind_date                  0\n",
       "policy_state                      0\n",
       "policy_csl                        0\n",
       "policy_deductable                 0\n",
       "policy_annual_premium             0\n",
       "umbrella_limit                    0\n",
       "insured_zip                       0\n",
       "insured_sex                       0\n",
       "insured_education_level           0\n",
       "insured_occupation                0\n",
       "insured_hobbies                   0\n",
       "insured_relationship              0\n",
       "capital-gains                     0\n",
       "capital-loss                      0\n",
       "incident_date                     0\n",
       "incident_type                     0\n",
       "collision_type                    0\n",
       "incident_severity                 0\n",
       "authorities_contacted             0\n",
       "incident_state                    0\n",
       "incident_city                     0\n",
       "incident_location                 0\n",
       "incident_hour_of_the_day          0\n",
       "number_of_vehicles_involved       0\n",
       "property_damage                   0\n",
       "bodily_injuries                   0\n",
       "witnesses                         0\n",
       "police_report_available           0\n",
       "total_claim_amount                0\n",
       "injury_claim                      0\n",
       "property_claim                    0\n",
       "vehicle_claim                     0\n",
       "auto_make                         0\n",
       "auto_model                        0\n",
       "auto_year                         0\n",
       "fraud_reported                    0\n",
       "_c39                           1000\n",
       "dtype: int64"
      ]
     },
     "execution_count": 1660,
     "metadata": {},
     "output_type": "execute_result"
    }
   ],
   "source": [
    "# Check the number of missing values in each column\n",
    "df.isnull().sum()\n"
   ]
  },
  {
   "cell_type": "markdown",
   "metadata": {
    "id": "AE6K2iqkDPWb"
   },
   "source": [
    "#### **2.1.2** Handle rows containing null values <font color=\"red\">[1 Mark]</font>"
   ]
  },
  {
   "cell_type": "code",
   "execution_count": 1661,
   "metadata": {
    "id": "88PX2r5hDPWb"
   },
   "outputs": [],
   "source": [
    "# Handle the rows containing null values\n",
    "\n",
    "# 2. Fill missing authorities_contacted\n",
    "df['authorities_contacted'] = df['authorities_contacted'].fillna('None Reported')\n"
   ]
  },
  {
   "cell_type": "code",
   "execution_count": 1662,
   "metadata": {},
   "outputs": [
    {
     "data": {
      "text/plain": [
       "(1000, 40)"
      ]
     },
     "execution_count": 1662,
     "metadata": {},
     "output_type": "execute_result"
    }
   ],
   "source": [
    "df.shape"
   ]
  },
  {
   "cell_type": "markdown",
   "metadata": {
    "id": "202JyqOjDPWb"
   },
   "source": [
    "### **2.2 Identify and handle redundant values and columns** <font color = red>[5 marks]</font>"
   ]
  },
  {
   "cell_type": "markdown",
   "metadata": {
    "id": "fSh2wYZoDPWb"
   },
   "source": [
    "#### **2.2.1** Examine the columns to determine if any value or column needs to be treated <font color=\"red\">[2 Mark]</font>"
   ]
  },
  {
   "cell_type": "code",
   "execution_count": 1663,
   "metadata": {
    "id": "1x0Cn8BiDPWb"
   },
   "outputs": [
    {
     "name": "stdout",
     "output_type": "stream",
     "text": [
      "                             unique_count  \\\n",
      "months_as_customer                    391   \n",
      "age                                    46   \n",
      "policy_number                        1000   \n",
      "policy_bind_date                      951   \n",
      "policy_state                            3   \n",
      "policy_csl                              3   \n",
      "policy_deductable                       3   \n",
      "policy_annual_premium                 991   \n",
      "umbrella_limit                         11   \n",
      "insured_zip                           995   \n",
      "insured_sex                             2   \n",
      "insured_education_level                 7   \n",
      "insured_occupation                     14   \n",
      "insured_hobbies                        20   \n",
      "insured_relationship                    6   \n",
      "capital-gains                         338   \n",
      "capital-loss                          354   \n",
      "incident_date                          60   \n",
      "incident_type                           4   \n",
      "collision_type                          4   \n",
      "incident_severity                       4   \n",
      "authorities_contacted                   5   \n",
      "incident_state                          7   \n",
      "incident_city                           7   \n",
      "incident_location                    1000   \n",
      "incident_hour_of_the_day               24   \n",
      "number_of_vehicles_involved             4   \n",
      "property_damage                         3   \n",
      "bodily_injuries                         3   \n",
      "witnesses                               4   \n",
      "police_report_available                 3   \n",
      "total_claim_amount                    763   \n",
      "injury_claim                          638   \n",
      "property_claim                        626   \n",
      "vehicle_claim                         726   \n",
      "auto_make                              14   \n",
      "auto_model                             39   \n",
      "auto_year                              21   \n",
      "fraud_reported                          2   \n",
      "_c39                                    1   \n",
      "\n",
      "                                                                    top_values  \n",
      "months_as_customer                                    {194: 8, 128: 7, 254: 7}  \n",
      "age                                                   {43: 49, 39: 48, 41: 45}  \n",
      "policy_number                                {521585: 1, 687755: 1, 674485: 1}  \n",
      "policy_bind_date             {'2006-01-01': 3, '1992-04-28': 3, '1992-08-05...  \n",
      "policy_state                                 {'OH': 352, 'IL': 338, 'IN': 310}  \n",
      "policy_csl                   {'250/500': 351, '100/300': 349, '500/1000': 300}  \n",
      "policy_deductable                             {1000: 351, 500: 342, 2000: 307}  \n",
      "policy_annual_premium                     {1558.29: 2, 1215.36: 2, 1362.87: 2}  \n",
      "umbrella_limit                              {0: 798, 6000000: 57, 5000000: 46}  \n",
      "insured_zip                                  {477695: 2, 469429: 2, 446895: 2}  \n",
      "insured_sex                                       {'FEMALE': 537, 'MALE': 463}  \n",
      "insured_education_level      {'JD': 161, 'High School': 160, 'Associate': 145}  \n",
      "insured_occupation           {'machine-op-inspct': 93, 'prof-specialty': 85...  \n",
      "insured_hobbies               {'reading': 64, 'exercise': 57, 'paintball': 57}  \n",
      "insured_relationship         {'own-child': 183, 'other-relative': 177, 'not...  \n",
      "capital-gains                                     {0: 508, 46300: 5, 51500: 4}  \n",
      "capital-loss                                    {0: 475, -31700: 5, -53700: 5}  \n",
      "incident_date                {'2015-02-02': 28, '2015-02-17': 26, '2015-01-...  \n",
      "incident_type                {'Multi-vehicle Collision': 419, 'Single Vehic...  \n",
      "collision_type               {'Rear Collision': 292, 'Side Collision': 276,...  \n",
      "incident_severity            {'Minor Damage': 354, 'Total Loss': 280, 'Majo...  \n",
      "authorities_contacted               {'Police': 292, 'Fire': 223, 'Other': 198}  \n",
      "incident_state                               {'NY': 262, 'SC': 248, 'WV': 217}  \n",
      "incident_city                {'Springfield': 157, 'Arlington': 152, 'Columb...  \n",
      "incident_location            {'9935 4th Drive': 1, '4214 MLK Ridge': 1, '85...  \n",
      "incident_hour_of_the_day                                {17: 54, 3: 53, 0: 52}  \n",
      "number_of_vehicles_involved                            {1: 581, 3: 358, 4: 31}  \n",
      "property_damage                              {'?': 360, 'NO': 338, 'YES': 302}  \n",
      "bodily_injuries                                       {0: 340, 2: 332, 1: 328}  \n",
      "witnesses                                             {1: 258, 2: 250, 0: 249}  \n",
      "police_report_available                      {'?': 343, 'NO': 343, 'YES': 314}  \n",
      "total_claim_amount                               {59400: 5, 2640: 4, 70400: 4}  \n",
      "injury_claim                                           {0: 25, 640: 7, 480: 7}  \n",
      "property_claim                                         {0: 19, 860: 6, 480: 5}  \n",
      "vehicle_claim                                     {5040: 7, 3360: 6, 52080: 5}  \n",
      "auto_make                              {'Saab': 80, 'Dodge': 80, 'Suburu': 80}  \n",
      "auto_model                               {'RAM': 43, 'Wrangler': 42, 'A3': 37}  \n",
      "auto_year                                       {1995: 56, 1999: 55, 2005: 54}  \n",
      "fraud_reported                                            {'N': 753, 'Y': 247}  \n",
      "_c39                                                               {nan: 1000}  \n"
     ]
    }
   ],
   "source": [
    "# Write code to display all the columns with their unique values and counts and check for redundant values\n",
    "summary = pd.DataFrame({\n",
    "    'unique_count': df.nunique(dropna=False),\n",
    "    'top_values': df.apply(lambda x: x.value_counts(dropna=False).head(3).to_dict())\n",
    "})\n",
    "print(summary)\n"
   ]
  },
  {
   "cell_type": "markdown",
   "metadata": {
    "id": "RRIhr3ZwDPWb"
   },
   "source": [
    "#### **2.2.2** Identify and drop any columns that are completely empty <font color=\"red\">[1 Mark]</font>"
   ]
  },
  {
   "cell_type": "code",
   "execution_count": 1664,
   "metadata": {
    "id": "9vLZf8ExDPWb"
   },
   "outputs": [],
   "source": [
    "# Identify and drop any columns that are completely empty\n",
    "# Dropping the _c39 column as it is completely empty\n",
    "df = df.drop(columns=['_c39'])\n"
   ]
  },
  {
   "cell_type": "code",
   "execution_count": 1665,
   "metadata": {},
   "outputs": [
    {
     "data": {
      "text/plain": [
       "(1000, 39)"
      ]
     },
     "execution_count": 1665,
     "metadata": {},
     "output_type": "execute_result"
    }
   ],
   "source": [
    "df.shape"
   ]
  },
  {
   "cell_type": "markdown",
   "metadata": {
    "id": "1Cx8douODPWd"
   },
   "source": [
    "#### **2.2.3** Identify and drop rows where features have illogical or invalid values, such as negative values for features that should only have positive values <font color=\"red\">[1 Mark]</font>"
   ]
  },
  {
   "cell_type": "code",
   "execution_count": 1666,
   "metadata": {
    "id": "U5oARc23DPWd"
   },
   "outputs": [
    {
     "name": "stdout",
     "output_type": "stream",
     "text": [
      "Dropped rows with umbrella limit less than 0 (999, 39)\n"
     ]
    }
   ],
   "source": [
    "# Identify and drop rows where features have illogical or invalid values, such as negative values for features that should only have positive values\n",
    "# Since umbrella limit cannot be negative hence dropping the rows that have umbrella limit less than 0\n",
    "\n",
    "df= df[df['umbrella_limit'] >= 0]\n",
    "print(\"Dropped rows with umbrella limit less than 0\",df.shape)"
   ]
  },
  {
   "cell_type": "code",
   "execution_count": 1667,
   "metadata": {},
   "outputs": [
    {
     "name": "stdout",
     "output_type": "stream",
     "text": [
      "Negative capital-gains rows: 0\n",
      "Negative capital-loss rows: 525\n",
      "capital-gains    0\n",
      "capital-loss     0\n",
      "dtype: int64\n"
     ]
    }
   ],
   "source": [
    "# 1. Identify how many “wrong‑signed” values exist\n",
    "neg_gains_count = (df['capital-gains'] < 0).sum()\n",
    "neg_losses_count = (df['capital-loss'] < 0).sum()\n",
    "print(f\"Negative capital-gains rows: {neg_gains_count}\")\n",
    "print(f\"Negative capital-loss rows: {neg_losses_count}\")\n",
    "\n",
    "# 2. Convert any negatives to absolute values\n",
    "df[['capital-gains', 'capital-loss']] = df[['capital-gains', 'capital-loss']].abs()\n",
    "\n",
    "# 3. Verify there are no more negatives\n",
    "print(df[['capital-gains', 'capital-loss']].min())\n"
   ]
  },
  {
   "cell_type": "code",
   "execution_count": 1668,
   "metadata": {},
   "outputs": [
    {
     "name": "stdout",
     "output_type": "stream",
     "text": [
      "Value counts for collision_type:\n",
      "Rear Collision     292\n",
      "Side Collision     275\n",
      "Front Collision    254\n",
      "Unknown            178\n",
      "Name: collision_type, dtype: int64\n",
      "\n",
      "Value counts for police_report_available:\n",
      "NO         343\n",
      "Unknown    342\n",
      "YES        314\n",
      "Name: police_report_available, dtype: int64\n",
      "\n",
      "Value counts for property_damage:\n",
      "Unknown    360\n",
      "NO         338\n",
      "YES        301\n",
      "Name: property_damage, dtype: int64\n",
      "\n"
     ]
    }
   ],
   "source": [
    "# Define the columns to clean\n",
    "unknown_category_cols = ['collision_type', 'police_report_available', 'property_damage']\n",
    "\n",
    "# Replace '?' with 'Unknown' in each column\n",
    "for col in unknown_category_cols:\n",
    "    df[col] = df[col].replace('?', 'Unknown')\n",
    "    # Print the updated value counts\n",
    "    print(f\"Value counts for {col}:\\n{df[col].value_counts(dropna=False)}\\n\")\n"
   ]
  },
  {
   "cell_type": "markdown",
   "metadata": {
    "id": "XTGMKeeNDPWd"
   },
   "source": [
    "#### **2.2.4** Identify and remove columns where a large proportion of the values are unique or near-unique, as these columns are likely to be identifiers or have very limited predictive power <font color=\"red\">[1 Mark]</font>"
   ]
  },
  {
   "cell_type": "code",
   "execution_count": 1669,
   "metadata": {
    "id": "U4LXO65UDPWd"
   },
   "outputs": [
    {
     "name": "stdout",
     "output_type": "stream",
     "text": [
      "Columns with more than 90% unique values\n",
      "policy_number            100.000000\n",
      "policy_bind_date          95.095095\n",
      "policy_annual_premium     99.099099\n",
      "insured_zip               99.499499\n",
      "incident_location        100.000000\n",
      "dtype: float64\n",
      "Dropped columns Index(['policy_number', 'policy_bind_date', 'policy_annual_premium',\n",
      "       'insured_zip', 'incident_location'],\n",
      "      dtype='object') successfully\n"
     ]
    }
   ],
   "source": [
    "# Identify and remove columns that are likely to be identifiers or have very limited predictive power\n",
    "unique_percentage = (df.nunique() / len(df)) * 100\n",
    "\n",
    "threshold = 90\n",
    "unique_cols = unique_percentage[unique_percentage > threshold]\n",
    "print(\"Columns with more than 90% unique values\",unique_cols,sep='\\n')\n",
    "\n",
    "# Dropping columns\n",
    "df.drop(columns=unique_cols.index, axis = 1, inplace=True)\n",
    "print(f'Dropped columns {unique_cols.index} successfully')\n"
   ]
  },
  {
   "cell_type": "code",
   "execution_count": 1670,
   "metadata": {
    "id": "KzHx2BzPDPWd"
   },
   "outputs": [
    {
     "name": "stdout",
     "output_type": "stream",
     "text": [
      "<class 'pandas.core.frame.DataFrame'>\n",
      "Int64Index: 999 entries, 0 to 999\n",
      "Data columns (total 34 columns):\n",
      " #   Column                       Non-Null Count  Dtype \n",
      "---  ------                       --------------  ----- \n",
      " 0   months_as_customer           999 non-null    int64 \n",
      " 1   age                          999 non-null    int64 \n",
      " 2   policy_state                 999 non-null    object\n",
      " 3   policy_csl                   999 non-null    object\n",
      " 4   policy_deductable            999 non-null    int64 \n",
      " 5   umbrella_limit               999 non-null    int64 \n",
      " 6   insured_sex                  999 non-null    object\n",
      " 7   insured_education_level      999 non-null    object\n",
      " 8   insured_occupation           999 non-null    object\n",
      " 9   insured_hobbies              999 non-null    object\n",
      " 10  insured_relationship         999 non-null    object\n",
      " 11  capital-gains                999 non-null    int64 \n",
      " 12  capital-loss                 999 non-null    int64 \n",
      " 13  incident_date                999 non-null    object\n",
      " 14  incident_type                999 non-null    object\n",
      " 15  collision_type               999 non-null    object\n",
      " 16  incident_severity            999 non-null    object\n",
      " 17  authorities_contacted        999 non-null    object\n",
      " 18  incident_state               999 non-null    object\n",
      " 19  incident_city                999 non-null    object\n",
      " 20  incident_hour_of_the_day     999 non-null    int64 \n",
      " 21  number_of_vehicles_involved  999 non-null    int64 \n",
      " 22  property_damage              999 non-null    object\n",
      " 23  bodily_injuries              999 non-null    int64 \n",
      " 24  witnesses                    999 non-null    int64 \n",
      " 25  police_report_available      999 non-null    object\n",
      " 26  total_claim_amount           999 non-null    int64 \n",
      " 27  injury_claim                 999 non-null    int64 \n",
      " 28  property_claim               999 non-null    int64 \n",
      " 29  vehicle_claim                999 non-null    int64 \n",
      " 30  auto_make                    999 non-null    object\n",
      " 31  auto_model                   999 non-null    object\n",
      " 32  auto_year                    999 non-null    int64 \n",
      " 33  fraud_reported               999 non-null    object\n",
      "dtypes: int64(15), object(19)\n",
      "memory usage: 273.2+ KB\n"
     ]
    }
   ],
   "source": [
    "# Check the dataset\n",
    "df.info()"
   ]
  },
  {
   "cell_type": "markdown",
   "metadata": {
    "id": "nAvSdxKBDPWe"
   },
   "source": [
    "### **2.3 Fix Data Types** <font color = red>[3 marks]</font>\n",
    "Carefully examine the dataset and identify columns that contain date or time information but are not stored as the appropriate data type. Convert these columns to the correct datetime data type to enable proper analysis and manipulation of temporal information."
   ]
  },
  {
   "cell_type": "code",
   "execution_count": 1671,
   "metadata": {
    "id": "WIycvsINDPWe"
   },
   "outputs": [],
   "source": [
    "# Fix the data types of the columns with incorrect data types\n",
    "date_time_cols = ['incident_date']\n",
    "for cols in date_time_cols:\n",
    "    df[cols] = pd.to_datetime(df[cols])"
   ]
  },
  {
   "cell_type": "code",
   "execution_count": 1672,
   "metadata": {
    "id": "kl0jWZNEDPWe"
   },
   "outputs": [
    {
     "name": "stdout",
     "output_type": "stream",
     "text": [
      "<class 'pandas.core.frame.DataFrame'>\n",
      "Int64Index: 999 entries, 0 to 999\n",
      "Data columns (total 34 columns):\n",
      " #   Column                       Non-Null Count  Dtype         \n",
      "---  ------                       --------------  -----         \n",
      " 0   months_as_customer           999 non-null    int64         \n",
      " 1   age                          999 non-null    int64         \n",
      " 2   policy_state                 999 non-null    object        \n",
      " 3   policy_csl                   999 non-null    object        \n",
      " 4   policy_deductable            999 non-null    int64         \n",
      " 5   umbrella_limit               999 non-null    int64         \n",
      " 6   insured_sex                  999 non-null    object        \n",
      " 7   insured_education_level      999 non-null    object        \n",
      " 8   insured_occupation           999 non-null    object        \n",
      " 9   insured_hobbies              999 non-null    object        \n",
      " 10  insured_relationship         999 non-null    object        \n",
      " 11  capital-gains                999 non-null    int64         \n",
      " 12  capital-loss                 999 non-null    int64         \n",
      " 13  incident_date                999 non-null    datetime64[ns]\n",
      " 14  incident_type                999 non-null    object        \n",
      " 15  collision_type               999 non-null    object        \n",
      " 16  incident_severity            999 non-null    object        \n",
      " 17  authorities_contacted        999 non-null    object        \n",
      " 18  incident_state               999 non-null    object        \n",
      " 19  incident_city                999 non-null    object        \n",
      " 20  incident_hour_of_the_day     999 non-null    int64         \n",
      " 21  number_of_vehicles_involved  999 non-null    int64         \n",
      " 22  property_damage              999 non-null    object        \n",
      " 23  bodily_injuries              999 non-null    int64         \n",
      " 24  witnesses                    999 non-null    int64         \n",
      " 25  police_report_available      999 non-null    object        \n",
      " 26  total_claim_amount           999 non-null    int64         \n",
      " 27  injury_claim                 999 non-null    int64         \n",
      " 28  property_claim               999 non-null    int64         \n",
      " 29  vehicle_claim                999 non-null    int64         \n",
      " 30  auto_make                    999 non-null    object        \n",
      " 31  auto_model                   999 non-null    object        \n",
      " 32  auto_year                    999 non-null    int64         \n",
      " 33  fraud_reported               999 non-null    object        \n",
      "dtypes: datetime64[ns](1), int64(15), object(18)\n",
      "memory usage: 273.2+ KB\n"
     ]
    }
   ],
   "source": [
    "# Check the features of the data again\n",
    "df.info()"
   ]
  },
  {
   "cell_type": "markdown",
   "metadata": {
    "id": "nXS8rflQDPWe"
   },
   "source": [
    "## **3. Train-Validation Split** <font color = red>[5 marks]</font>"
   ]
  },
  {
   "cell_type": "markdown",
   "metadata": {
    "id": "9qOELXFYDPWe"
   },
   "source": [
    "### **3.1 Import required libraries**  "
   ]
  },
  {
   "cell_type": "code",
   "execution_count": 1673,
   "metadata": {
    "id": "-vJKP7g0DPWe"
   },
   "outputs": [],
   "source": [
    "# Import train-test-split\n",
    "from sklearn.model_selection import train_test_split"
   ]
  },
  {
   "cell_type": "markdown",
   "metadata": {
    "id": "-MdKqcZ-DPWe"
   },
   "source": [
    "### **3.2 Define feature and target variables** <font color = red>[2 Marks]</font>"
   ]
  },
  {
   "cell_type": "code",
   "execution_count": 1674,
   "metadata": {
    "id": "qacdKTt1DPWj"
   },
   "outputs": [
    {
     "name": "stdout",
     "output_type": "stream",
     "text": [
      "Features (X) shape: (999, 33)\n",
      "Target (y) shape: (999,)\n"
     ]
    }
   ],
   "source": [
    "# Convert 'fraud_reported' from 'Y'/'N' to binary 1/0\n",
    "y = df['fraud_reported'].map({'Y': 1, 'N': 0})\n",
    "\n",
    "# Define the feature set by dropping the target column\n",
    "X = df.drop(columns=['fraud_reported'])\n",
    "\n",
    "# Display shapes\n",
    "print(\"Features (X) shape:\", X.shape)\n",
    "print(\"Target (y) shape:\", y.shape)\n"
   ]
  },
  {
   "cell_type": "markdown",
   "metadata": {
    "id": "t2JaDNlsDPWj"
   },
   "source": [
    "### **3.3 Split the data** <font color=\"red\">[3 Marks]</font>"
   ]
  },
  {
   "cell_type": "code",
   "execution_count": 1675,
   "metadata": {
    "id": "7_mMlbt7DPWj"
   },
   "outputs": [
    {
     "name": "stdout",
     "output_type": "stream",
     "text": [
      "X_train (699, 33)\n",
      "X_test (300, 33)\n",
      "y_train (699,)\n",
      "y_test (300,)\n"
     ]
    }
   ],
   "source": [
    "# Split the dataset into 70% train and 30% validation and use stratification on the target variable\n",
    "X_train,X_test,y_train,y_test = train_test_split(X,y,test_size=0.3,stratify=y,random_state=42)\n",
    "\n",
    "# Reset index for all train and test sets\n",
    "X_train.reset_index(drop=True,inplace=True)\n",
    "X_test.reset_index(drop=True,inplace=True)\n",
    "y_train.reset_index(drop=True,inplace=True)\n",
    "y_test.reset_index(drop=True,inplace=True)\n",
    "\n",
    "print(\"X_train\",X_train.shape)\n",
    "print(\"X_test\",X_test.shape)\n",
    "print(\"y_train\",y_train.shape)\n",
    "print(\"y_test\",y_test.shape)\n"
   ]
  },
  {
   "cell_type": "code",
   "execution_count": 1676,
   "metadata": {},
   "outputs": [
    {
     "name": "stdout",
     "output_type": "stream",
     "text": [
      "<class 'pandas.core.frame.DataFrame'>\n",
      "Int64Index: 999 entries, 0 to 999\n",
      "Data columns (total 34 columns):\n",
      " #   Column                       Non-Null Count  Dtype         \n",
      "---  ------                       --------------  -----         \n",
      " 0   months_as_customer           999 non-null    int64         \n",
      " 1   age                          999 non-null    int64         \n",
      " 2   policy_state                 999 non-null    object        \n",
      " 3   policy_csl                   999 non-null    object        \n",
      " 4   policy_deductable            999 non-null    int64         \n",
      " 5   umbrella_limit               999 non-null    int64         \n",
      " 6   insured_sex                  999 non-null    object        \n",
      " 7   insured_education_level      999 non-null    object        \n",
      " 8   insured_occupation           999 non-null    object        \n",
      " 9   insured_hobbies              999 non-null    object        \n",
      " 10  insured_relationship         999 non-null    object        \n",
      " 11  capital-gains                999 non-null    int64         \n",
      " 12  capital-loss                 999 non-null    int64         \n",
      " 13  incident_date                999 non-null    datetime64[ns]\n",
      " 14  incident_type                999 non-null    object        \n",
      " 15  collision_type               999 non-null    object        \n",
      " 16  incident_severity            999 non-null    object        \n",
      " 17  authorities_contacted        999 non-null    object        \n",
      " 18  incident_state               999 non-null    object        \n",
      " 19  incident_city                999 non-null    object        \n",
      " 20  incident_hour_of_the_day     999 non-null    int64         \n",
      " 21  number_of_vehicles_involved  999 non-null    int64         \n",
      " 22  property_damage              999 non-null    object        \n",
      " 23  bodily_injuries              999 non-null    int64         \n",
      " 24  witnesses                    999 non-null    int64         \n",
      " 25  police_report_available      999 non-null    object        \n",
      " 26  total_claim_amount           999 non-null    int64         \n",
      " 27  injury_claim                 999 non-null    int64         \n",
      " 28  property_claim               999 non-null    int64         \n",
      " 29  vehicle_claim                999 non-null    int64         \n",
      " 30  auto_make                    999 non-null    object        \n",
      " 31  auto_model                   999 non-null    object        \n",
      " 32  auto_year                    999 non-null    int64         \n",
      " 33  fraud_reported               999 non-null    object        \n",
      "dtypes: datetime64[ns](1), int64(15), object(18)\n",
      "memory usage: 273.2+ KB\n"
     ]
    }
   ],
   "source": [
    "df.info()"
   ]
  },
  {
   "cell_type": "markdown",
   "metadata": {
    "id": "4E_xpebIDPWk"
   },
   "source": [
    "## **4. EDA on training data** <font color = red>[20 marks]</font>"
   ]
  },
  {
   "cell_type": "markdown",
   "metadata": {
    "id": "xDNn7iBADPWk"
   },
   "source": [
    "### **4.1 Perform univariate analysis** <font color = red>[5 marks]</font>"
   ]
  },
  {
   "cell_type": "markdown",
   "metadata": {
    "id": "aVLeqhcADPWk"
   },
   "source": [
    "#### **4.1.1** Identify and select numerical columns from training data for univariate analysis <font color = \"red\">[1 Mark]</font>"
   ]
  },
  {
   "cell_type": "code",
   "execution_count": 1677,
   "metadata": {
    "id": "bR9ulzRsDPWk"
   },
   "outputs": [
    {
     "name": "stdout",
     "output_type": "stream",
     "text": [
      "Numeric columns for univariate analysis:\n",
      "- months_as_customer\n",
      "- age\n",
      "- policy_deductable\n",
      "- umbrella_limit\n",
      "- capital-gains\n",
      "- capital-loss\n",
      "- incident_hour_of_the_day\n",
      "- number_of_vehicles_involved\n",
      "- bodily_injuries\n",
      "- witnesses\n",
      "- total_claim_amount\n",
      "- injury_claim\n",
      "- property_claim\n",
      "- vehicle_claim\n",
      "- auto_year\n"
     ]
    }
   ],
   "source": [
    "\n",
    "# Identify numeric columns in the training set for univariate analysis\n",
    "num_cols = X_train.select_dtypes(include=['int64']).columns.tolist()\n",
    "print(\"Numeric columns for univariate analysis:\")\n",
    "for col in num_cols:\n",
    "    print(\"-\", col)\n"
   ]
  },
  {
   "cell_type": "markdown",
   "metadata": {
    "id": "wP4icMhPDPWk"
   },
   "source": [
    "#### **4.1.2** Visualise the distribution of selected numerical features using appropriate plots to understand their characteristics <font color = \"red\">[4 Marks]</font>"
   ]
  },
  {
   "cell_type": "code",
   "execution_count": 1678,
   "metadata": {},
   "outputs": [
    {
     "data": {
      "text/plain": [
       "Index(['months_as_customer', 'age', 'policy_state', 'policy_csl',\n",
       "       'policy_deductable', 'umbrella_limit', 'insured_sex',\n",
       "       'insured_education_level', 'insured_occupation', 'insured_hobbies',\n",
       "       'insured_relationship', 'capital-gains', 'capital-loss',\n",
       "       'incident_date', 'incident_type', 'collision_type', 'incident_severity',\n",
       "       'authorities_contacted', 'incident_state', 'incident_city',\n",
       "       'incident_hour_of_the_day', 'number_of_vehicles_involved',\n",
       "       'property_damage', 'bodily_injuries', 'witnesses',\n",
       "       'police_report_available', 'total_claim_amount', 'injury_claim',\n",
       "       'property_claim', 'vehicle_claim', 'auto_make', 'auto_model',\n",
       "       'auto_year', 'fraud_reported'],\n",
       "      dtype='object')"
      ]
     },
     "execution_count": 1678,
     "metadata": {},
     "output_type": "execute_result"
    }
   ],
   "source": [
    "df.columns"
   ]
  },
  {
   "cell_type": "code",
   "execution_count": 1679,
   "metadata": {
    "id": "ny7woMrmDPWk"
   },
   "outputs": [
    {
     "data": {
      "image/png": "[encoded data removed]",
      "text/plain": [
       "<Figure size 432x288 with 1 Axes>"
      ]
     },
     "metadata": {
      "needs_background": "light"
     },
     "output_type": "display_data"
    },
    {
     "data": {
      "image/png": "[encoded data removed]",
      "text/plain": [
       "<Figure size 432x288 with 1 Axes>"
      ]
     },
     "metadata": {
      "needs_background": "light"
     },
     "output_type": "display_data"
    },
    {
     "data": {
      "image/png": "[encoded data removed]",
      "text/plain": [
       "<Figure size 432x288 with 1 Axes>"
      ]
     },
     "metadata": {
      "needs_background": "light"
     },
     "output_type": "display_data"
    },
    {
     "data": {
      "image/png": "[encoded data removed]",
      "text/plain": [
       "<Figure size 432x288 with 1 Axes>"
      ]
     },
     "metadata": {
      "needs_background": "light"
     },
     "output_type": "display_data"
    },
    {
     "data": {
      "image/png": "[encoded data removed]",
      "text/plain": [
       "<Figure size 432x288 with 1 Axes>"
      ]
     },
     "metadata": {
      "needs_background": "light"
     },
     "output_type": "display_data"
    },
    {
     "data": {
      "image/png": "[encoded data removed]",
      "text/plain": [
       "<Figure size 432x288 with 1 Axes>"
      ]
     },
     "metadata": {
      "needs_background": "light"
     },
     "output_type": "display_data"
    },
    {
     "data": {
      "image/png": "[encoded data removed]",
      "text/plain": [
       "<Figure size 432x288 with 1 Axes>"
      ]
     },
     "metadata": {
      "needs_background": "light"
     },
     "output_type": "display_data"
    },
    {
     "data": {
      "image/png": "[encoded data removed]",
      "text/plain": [
       "<Figure size 432x288 with 1 Axes>"
      ]
     },
     "metadata": {
      "needs_background": "light"
     },
     "output_type": "display_data"
    },
    {
     "data": {
      "image/png": "[encoded data removed]",
      "text/plain": [
       "<Figure size 432x288 with 1 Axes>"
      ]
     },
     "metadata": {
      "needs_background": "light"
     },
     "output_type": "display_data"
    },
    {
     "data": {
      "image/png": "[encoded data removed]",
      "text/plain": [
       "<Figure size 432x288 with 1 Axes>"
      ]
     },
     "metadata": {
      "needs_background": "light"
     },
     "output_type": "display_data"
    },
    {
     "data": {
      "image/png": "[encoded data removed]",
      "text/plain": [
       "<Figure size 432x288 with 1 Axes>"
      ]
     },
     "metadata": {
      "needs_background": "light"
     },
     "output_type": "display_data"
    },
    {
     "data": {
      "image/png": "[encoded data removed]",
      "text/plain": [
       "<Figure size 432x288 with 1 Axes>"
      ]
     },
     "metadata": {
      "needs_background": "light"
     },
     "output_type": "display_data"
    },
    {
     "data": {
      "image/png": "[encoded data removed]",
      "text/plain": [
       "<Figure size 432x288 with 1 Axes>"
      ]
     },
     "metadata": {
      "needs_background": "light"
     },
     "output_type": "display_data"
    },
    {
     "data": {
      "image/png": "[encoded data removed]",
      "text/plain": [
       "<Figure size 432x288 with 1 Axes>"
      ]
     },
     "metadata": {
      "needs_background": "light"
     },
     "output_type": "display_data"
    },
    {
     "data": {
      "image/png": "[encoded data removed]",
      "text/plain": [
       "<Figure size 432x288 with 1 Axes>"
      ]
     },
     "metadata": {
      "needs_background": "light"
     },
     "output_type": "display_data"
    }
   ],
   "source": [
    "# Plot all the numerical columns to understand their distribution\n",
    "for col in num_cols:\n",
    "    plt.figure()\n",
    "    plt.hist(X_train[col].dropna(), bins=30)\n",
    "    plt.title(f'Distribution of {col}')\n",
    "    plt.xlabel(col)\n",
    "    plt.ylabel('Frequency')\n",
    "    plt.show()"
   ]
  },
  {
   "cell_type": "markdown",
   "metadata": {},
   "source": [
    "#### Inference \n",
    "\n",
    "##### Claim amounts & capital flows (total_claim_amount, injury_claim, property_claim, vehicle_claim, capital‑gains, capital‑loss):\n",
    "\n",
    "- All are highly right‑skewed with long tails—many small or zero values and a few very large claims.\n",
    "\n",
    "- We’ll likely need log (or similar) transforms to tame the skew and stabilize variance.\n",
    "\n",
    "##### Coverage limits:\n",
    "\n",
    "- umbrella_limit is zero for the vast majority (no extra coverage), with small spikes at large round numbers.\n",
    "\n",
    "- policy_deductable takes only three discrete values (500, 1000, 2000), which will be best handled as an ordinal or categorical feature.\n",
    "\n",
    "##### Customer tenure & demographics:\n",
    "\n",
    "- months_as_customer shows two clusters—newer customers (<200 months) and long‑standing ones (>300 months).\n",
    "\n",
    "- age roughly bell‑shaped between 25–50, tapering off toward the extremes.\n",
    "\n",
    "##### Incident characteristics:\n",
    "\n",
    "- incident_hour_of_the_day is fairly uniform across 0–23 hours, with slight peaks at typical commute times (morning/evening).\n",
    "\n",
    "- number_of_vehicles_involved, bodily_injuries, and witnesses are low‑cardinality counts (mostly 1 vehicle, 0–2 injuries/witnesses).\n",
    "\n",
    "##### Vehicle model year:\n",
    "\n",
    "- auto_year spans 1995–2015 fairly evenly, suggesting no major gaps—but we may want to bucket into age‑of‑vehicle bins.\n",
    "\n",
    "These patterns suggest a mix of continuous, skewed monetary features (candidates for transformation), low‑cardinality numeric counts, and a few discrete tiers (deductible, coverage)."
   ]
  },
  {
   "cell_type": "markdown",
   "metadata": {
    "id": "o4UAw5pDDPWl"
   },
   "source": [
    "### **4.2 Perform correlation analysis** <font color=\"red\">[3 Marks]</font>"
   ]
  },
  {
   "cell_type": "markdown",
   "metadata": {
    "id": "ySJiTDdxDPWl"
   },
   "source": [
    " Investigate the relationships between numerical features to identify potential multicollinearity or dependencies. Visualise the correlation structure using an appropriate method to gain insights into feature relationships."
   ]
  },
  {
   "cell_type": "code",
   "execution_count": 1680,
   "metadata": {
    "id": "_xadGQK7DPWl"
   },
   "outputs": [
    {
     "data": {
      "image/png": "[encoded data removed]",
      "text/plain": [
       "<Figure size 864x576 with 2 Axes>"
      ]
     },
     "metadata": {
      "needs_background": "light"
     },
     "output_type": "display_data"
    }
   ],
   "source": [
    "# Create correlation matrix for numerical columns\n",
    "\n",
    "corr = X_train[num_cols].corr()\n",
    "# Plot Heatmap of the correlation matrix\n",
    "plt.figure(figsize=(12, 8))\n",
    "sns.heatmap(corr, annot=True, cmap='coolwarm', vmin=-1, vmax=1, center=0)\n",
    "plt.title('Correlation Heatmap of Numerical Features')\n",
    "plt.show()"
   ]
  },
  {
   "cell_type": "markdown",
   "metadata": {},
   "source": [
    "#### Inference\n",
    "\n",
    "##### High multicollinearity in claim amounts\n",
    "\n",
    "- total_claim_amount is nearly perfectly correlated (r > 0.9) with each of its components: injury_claim, property_claim, and vehicle_claim.\n",
    "\n",
    "- These three individual claim columns also correlate strongly with each other (r ≈ 0.6–0.8), reflecting that larger overall claims tend to involve both property and bodily costs.\n",
    "\n",
    "##### Zero or low correlations elsewhere\n",
    "\n",
    "- Most demographic and temporal features (e.g. age, months_as_customer, incident_hour_of_the_day) show very low pairwise correlations with financial variables, indicating they capture orthogonal information.\n",
    "\n",
    "##### Discrete count variables\n",
    "\n",
    "- number_of_vehicles_involved, bodily_injuries, and witnesses have modest positive correlations with claim amounts (r ≈ 0.1–0.2), suggesting collisions with more parties/injuries tend to cost more.\n",
    "\n",
    "##### Independent financial flows\n",
    "\n",
    "- capital-gains and capital-loss have little to no correlation with claims-related features, indicating separate sources of variability."
   ]
  },
  {
   "cell_type": "markdown",
   "metadata": {
    "id": "ZHQ3du-9DPWl"
   },
   "source": [
    "### **4.3 Check class balance** <font color=\"red\">[2 Marks]</font>"
   ]
  },
  {
   "cell_type": "markdown",
   "metadata": {
    "id": "eTkJHl0xDPWm"
   },
   "source": [
    "Examine the distribution of the target variable to identify potential class imbalances using visualisation for better understanding."
   ]
  },
  {
   "cell_type": "code",
   "execution_count": 1681,
   "metadata": {
    "id": "V1QrXZdhDPWm"
   },
   "outputs": [
    {
     "data": {
      "image/png": "[encoded data removed]",
      "text/plain": [
       "<Figure size 432x288 with 1 Axes>"
      ]
     },
     "metadata": {
      "needs_background": "light"
     },
     "output_type": "display_data"
    }
   ],
   "source": [
    "# Compute class counts on the training set\n",
    "counts = y_train.value_counts().sort_index()\n",
    "labels = ['Legitimate', 'Fraudulent']  # 0 -> Legitimate, 1 -> Fraudulent\n",
    "\n",
    "# Plot bar chart\n",
    "fig, ax = plt.subplots()\n",
    "ax.bar(labels, counts.values)\n",
    "ax.set_xlabel('Claim Status')\n",
    "ax.set_ylabel('Number of Claims')\n",
    "ax.set_title('Distribution of Target Variable (fraud_reported)')\n",
    "plt.tight_layout()\n",
    "plt.show()\n"
   ]
  },
  {
   "cell_type": "markdown",
   "metadata": {},
   "source": [
    "#### Inference\n",
    "\n",
    "The bar chart shows that the training set is imbalanced:\n",
    "\n",
    "- Legitimate claims: ~525\n",
    "\n",
    "- Fraudulent claims: ~175\n",
    "\n",
    "This corresponds to roughly a 3:1 ratio (75% legit vs. 25% fraud). While not extremely skewed, it’s a clear imbalance. We should account for this in model building—e.g., by using stratified sampling, class weights, or targeted metrics like precision/recall—to ensure the minority (fraud) class is well recognized."
   ]
  },
  {
   "cell_type": "markdown",
   "metadata": {
    "id": "xFhVKzRHDPWn"
   },
   "source": [
    "### **4.4 Perform bivariate analysis** <font color=\"red\">[10 Marks]</font>"
   ]
  },
  {
   "cell_type": "markdown",
   "metadata": {
    "id": "h0WjamQXDPWn"
   },
   "source": [
    "#### **4.4.1** Target likelihood analysis for categorical variables. <font color=\"red\">[5 Marks]</font>\n",
    "Investigate the relationships between categorical features and the target variable by analysing the target event likelihood (for the `'Y'` event) for each level of every relevant categorical feature. Through this analysis, identify categorical features that do not contribute much in explaining the variation in the target variable."
   ]
  },
  {
   "cell_type": "code",
   "execution_count": 1682,
   "metadata": {
    "id": "K1OQJrO5guyw"
   },
   "outputs": [
    {
     "name": "stdout",
     "output_type": "stream",
     "text": [
      "Categorical Features Fraud Rate Range                          fraud_rate_min  fraud_rate_max     range\n",
      "feature                                                          \n",
      "insured_sex                    0.245399        0.249330  0.003931\n",
      "policy_state                   0.243697        0.253112  0.009415\n",
      "police_report_available        0.229665        0.255144  0.025479\n",
      "policy_csl                     0.219626        0.268000  0.048374\n",
      "insured_education_level        0.209091        0.283186  0.074095\n",
      "incident_city                  0.200000        0.298077  0.098077\n",
      "property_damage                0.176230        0.290323  0.114093\n",
      "insured_relationship           0.173554        0.299213  0.125659\n",
      "auto_make                      0.140000        0.326923  0.186923\n",
      "insured_occupation             0.142857        0.344828  0.201970\n",
      "incident_type                  0.081967        0.287234  0.205267\n",
      "collision_type                 0.087302        0.297170  0.209868\n",
      "authorities_contacted          0.088235        0.316176  0.227941\n",
      "incident_state                 0.151316        0.421053  0.269737\n",
      "auto_model                     0.000000        0.500000  0.500000\n",
      "incident_severity              0.065574        0.609375  0.543801\n",
      "insured_hobbies                0.075000        0.906250  0.831250\n",
      "\n",
      " Low-Variation Categorical Features (<5% range)                          fraud_rate_min  fraud_rate_max     range\n",
      "feature                                                          \n",
      "insured_sex                    0.245399        0.249330  0.003931\n",
      "policy_state                   0.243697        0.253112  0.009415\n",
      "police_report_available        0.229665        0.255144  0.025479\n",
      "policy_csl                     0.219626        0.268000  0.048374\n"
     ]
    }
   ],
   "source": [
    "# Write a function to calculate and analyse the target variable likelihood for categorical features\n",
    "\n",
    "# Combine training features and target\n",
    "train = X_train.copy()\n",
    "train['fraud'] = y_train\n",
    "\n",
    "# Identify categorical columns\n",
    "cat_cols = train.select_dtypes(include=['object']).columns.tolist()\n",
    "\n",
    "# Calculate fraud rate per level for each categorical feature and compute range\n",
    "range_records = []\n",
    "for col in cat_cols:\n",
    "    rates = train.groupby(col)['fraud'].mean()\n",
    "    range_records.append({\n",
    "        'feature': col,\n",
    "        'fraud_rate_min': rates.min(),\n",
    "        'fraud_rate_max': rates.max(),\n",
    "        'range': rates.max() - rates.min()\n",
    "    })\n",
    "\n",
    "range_df = pd.DataFrame(range_records).set_index('feature').sort_values('range')\n",
    "\n",
    "# Identify low-variation features (< 5% range)\n",
    "low_var_df = range_df[range_df['range'] < 0.05]\n",
    "\n",
    "# Display concise summaries\n",
    "print('Categorical Features Fraud Rate Range', range_df)\n",
    "print('\\n Low-Variation Categorical Features (<5% range)', low_var_df)"
   ]
  },
  {
   "cell_type": "markdown",
   "metadata": {},
   "source": [
    "#### Inference\n",
    "\n",
    "Low‑variation features (< 5 % range):\n",
    "\n",
    "- insured_sex (range ≈ 0.33 %)\n",
    "\n",
    "- policy_state (range ≈ 1.98 %)\n",
    "\n",
    "- police_report_available (range ≈ 3.60 %)\n",
    "\n",
    "- policy_csl (range ≈ 4.87 %)\n",
    "\n",
    "These features show little change in fraud likelihood across their categories and may have limited predictive power on their own."
   ]
  },
  {
   "cell_type": "markdown",
   "metadata": {
    "id": "z6oeg9naDPWo"
   },
   "source": [
    "#### **4.4.2** Explore the relationships between numerical features and the target variable to understand their impact on the target outcome using appropriate visualisation techniques to identify trends and potential interactions. <font color=\"red\">[5 Marks]</font>"
   ]
  },
  {
   "cell_type": "code",
   "execution_count": 1683,
   "metadata": {
    "id": "bVXoNozGDPWo"
   },
   "outputs": [
    {
     "data": {
      "text/plain": [
       "<Figure size 432x288 with 0 Axes>"
      ]
     },
     "metadata": {},
     "output_type": "display_data"
    },
    {
     "data": {
      "image/png": "[encoded data removed]",
      "text/plain": [
       "<Figure size 432x288 with 1 Axes>"
      ]
     },
     "metadata": {
      "needs_background": "light"
     },
     "output_type": "display_data"
    },
    {
     "data": {
      "text/plain": [
       "<Figure size 432x288 with 0 Axes>"
      ]
     },
     "metadata": {},
     "output_type": "display_data"
    },
    {
     "data": {
      "image/png": "[encoded data removed]",
      "text/plain": [
       "<Figure size 432x288 with 1 Axes>"
      ]
     },
     "metadata": {
      "needs_background": "light"
     },
     "output_type": "display_data"
    },
    {
     "data": {
      "text/plain": [
       "<Figure size 432x288 with 0 Axes>"
      ]
     },
     "metadata": {},
     "output_type": "display_data"
    },
    {
     "data": {
      "image/png": "[encoded data removed]",
      "text/plain": [
       "<Figure size 432x288 with 1 Axes>"
      ]
     },
     "metadata": {
      "needs_background": "light"
     },
     "output_type": "display_data"
    },
    {
     "data": {
      "text/plain": [
       "<Figure size 432x288 with 0 Axes>"
      ]
     },
     "metadata": {},
     "output_type": "display_data"
    },
    {
     "data": {
      "image/png": "[encoded data removed]",
      "text/plain": [
       "<Figure size 432x288 with 1 Axes>"
      ]
     },
     "metadata": {
      "needs_background": "light"
     },
     "output_type": "display_data"
    },
    {
     "data": {
      "text/plain": [
       "<Figure size 432x288 with 0 Axes>"
      ]
     },
     "metadata": {},
     "output_type": "display_data"
    },
    {
     "data": {
      "image/png": "[encoded data removed]",
      "text/plain": [
       "<Figure size 432x288 with 1 Axes>"
      ]
     },
     "metadata": {
      "needs_background": "light"
     },
     "output_type": "display_data"
    },
    {
     "data": {
      "text/plain": [
       "<Figure size 432x288 with 0 Axes>"
      ]
     },
     "metadata": {},
     "output_type": "display_data"
    },
    {
     "data": {
      "image/png": "[encoded data removed]",
      "text/plain": [
       "<Figure size 432x288 with 1 Axes>"
      ]
     },
     "metadata": {
      "needs_background": "light"
     },
     "output_type": "display_data"
    },
    {
     "data": {
      "text/plain": [
       "<Figure size 432x288 with 0 Axes>"
      ]
     },
     "metadata": {},
     "output_type": "display_data"
    },
    {
     "data": {
      "image/png": "[encoded data removed]",
      "text/plain": [
       "<Figure size 432x288 with 1 Axes>"
      ]
     },
     "metadata": {
      "needs_background": "light"
     },
     "output_type": "display_data"
    },
    {
     "data": {
      "text/plain": [
       "<Figure size 432x288 with 0 Axes>"
      ]
     },
     "metadata": {},
     "output_type": "display_data"
    },
    {
     "data": {
      "image/png": "[encoded data removed]",
      "text/plain": [
       "<Figure size 432x288 with 1 Axes>"
      ]
     },
     "metadata": {
      "needs_background": "light"
     },
     "output_type": "display_data"
    },
    {
     "data": {
      "text/plain": [
       "<Figure size 432x288 with 0 Axes>"
      ]
     },
     "metadata": {},
     "output_type": "display_data"
    },
    {
     "data": {
      "image/png": "[encoded data removed]",
      "text/plain": [
       "<Figure size 432x288 with 1 Axes>"
      ]
     },
     "metadata": {
      "needs_background": "light"
     },
     "output_type": "display_data"
    },
    {
     "data": {
      "text/plain": [
       "<Figure size 432x288 with 0 Axes>"
      ]
     },
     "metadata": {},
     "output_type": "display_data"
    },
    {
     "data": {
      "image/png": "[encoded data removed]",
      "text/plain": [
       "<Figure size 432x288 with 1 Axes>"
      ]
     },
     "metadata": {
      "needs_background": "light"
     },
     "output_type": "display_data"
    },
    {
     "data": {
      "text/plain": [
       "<Figure size 432x288 with 0 Axes>"
      ]
     },
     "metadata": {},
     "output_type": "display_data"
    },
    {
     "data": {
      "image/png": "[encoded data removed]",
      "text/plain": [
       "<Figure size 432x288 with 1 Axes>"
      ]
     },
     "metadata": {
      "needs_background": "light"
     },
     "output_type": "display_data"
    },
    {
     "data": {
      "text/plain": [
       "<Figure size 432x288 with 0 Axes>"
      ]
     },
     "metadata": {},
     "output_type": "display_data"
    },
    {
     "data": {
      "image/png": "[encoded data removed]",
      "text/plain": [
       "<Figure size 432x288 with 1 Axes>"
      ]
     },
     "metadata": {
      "needs_background": "light"
     },
     "output_type": "display_data"
    },
    {
     "data": {
      "text/plain": [
       "<Figure size 432x288 with 0 Axes>"
      ]
     },
     "metadata": {},
     "output_type": "display_data"
    },
    {
     "data": {
      "image/png": "[encoded data removed]",
      "text/plain": [
       "<Figure size 432x288 with 1 Axes>"
      ]
     },
     "metadata": {
      "needs_background": "light"
     },
     "output_type": "display_data"
    },
    {
     "data": {
      "text/plain": [
       "<Figure size 432x288 with 0 Axes>"
      ]
     },
     "metadata": {},
     "output_type": "display_data"
    },
    {
     "data": {
      "image/png": "[encoded data removed]",
      "text/plain": [
       "<Figure size 432x288 with 1 Axes>"
      ]
     },
     "metadata": {
      "needs_background": "light"
     },
     "output_type": "display_data"
    },
    {
     "data": {
      "text/plain": [
       "<Figure size 432x288 with 0 Axes>"
      ]
     },
     "metadata": {},
     "output_type": "display_data"
    },
    {
     "data": {
      "image/png": "[encoded data removed]",
      "text/plain": [
       "<Figure size 432x288 with 1 Axes>"
      ]
     },
     "metadata": {
      "needs_background": "light"
     },
     "output_type": "display_data"
    }
   ],
   "source": [
    "# Visualise the relationship between numerical features and the target variable to understand their impact on the target outcome\n",
    "# Identify numeric columns\n",
    "num_cols = X_train.select_dtypes(include=['int64']).columns\n",
    "\n",
    "# Combine features with target for plotting\n",
    "train_data = pd.concat([X_train[num_cols], y_train.rename('fraud')], axis=1)\n",
    "\n",
    "# Create boxplots for each numeric feature by fraud status\n",
    "for col in num_cols:\n",
    "    plt.figure()\n",
    "    train_data.boxplot(column=col, by='fraud')\n",
    "    plt.title(f'{col} by Fraud Status')\n",
    "    plt.suptitle('')  \n",
    "    plt.xlabel('Fraud (0 = Legitimate, 1 = Fraudulent)')\n",
    "    plt.ylabel(col)\n",
    "    plt.show()"
   ]
  },
  {
   "cell_type": "markdown",
   "metadata": {},
   "source": [
    "#### Inference\n",
    "\n",
    "From the boxplots of each numerical feature by fraud status, here are the key patterns:\n",
    "\n",
    "##### Claim‐related amounts (total_claim_amount, injury_claim, property_claim, vehicle_claim):\n",
    "- Fraudulent claims show higher medians and upper quartiles—fraud tends to involve larger payouts.\n",
    "\n",
    "- Many small‐value outliers persist in legitimate claims; fraud cases cluster at higher values.\n",
    "\n",
    "##### Capital flows (capital-gains, capital-loss):\n",
    "- Legitimate claims have medians at zero and wide negative/positive spreads.\n",
    "\n",
    "- Fraud cases, while skewed, also show heavier gain/loss extremes compared to legitimate.\n",
    "\n",
    "##### Coverage and premium (umbrella_limit, policy_annual_premium, policy_deductable):\n",
    "- Fraudsters skew toward non-zero umbrella coverage (higher potential payouts).\n",
    "\n",
    "- Slightly higher median annual premiums and deductibles in fraud group.\n",
    "\n",
    "##### Customer tenure/demographics (months_as_customer, age, auto_year):\n",
    "- Distributions overlap heavily; only minor shifts in medians (e.g., fraud cases marginally younger).\n",
    "\n",
    "- Incident characteristics (incident_hour_of_the_day, number_of_vehicles_involved, bodily_injuries, witnesses):\n",
    "\n",
    "- Little difference in incident hour or counts of vehicles/injuries/witnesses between fraud and legit.\n",
    "\n",
    "##### Implications:\n",
    "\n",
    "- Financial features (claim sizes, capital gains/losses, coverage limits) show the strongest separation and will be key predictors.\n",
    "\n",
    "- Demographic and incident‐timing features provide less signal and may be lower on the feature‐importance list.\n",
    "\n",
    "- Consider log‐transforming skewed monetary variables and focusing on coverage amounts and past capital flows for modeling."
   ]
  },
  {
   "cell_type": "markdown",
   "metadata": {
    "id": "OVV4m9OiDPWo"
   },
   "source": [
    "## **5. EDA on validation data** <font color = red>[OPTIONAL]</font>"
   ]
  },
  {
   "cell_type": "markdown",
   "metadata": {
    "id": "hvF11y45DPWo"
   },
   "source": [
    "### **5.1 Perform univariate analysis**"
   ]
  },
  {
   "cell_type": "markdown",
   "metadata": {
    "id": "krLtfiOBDPWo"
   },
   "source": [
    "#### **5.1.1** Identify and select numerical columns from training data for univariate analysis."
   ]
  },
  {
   "cell_type": "code",
   "execution_count": 1684,
   "metadata": {
    "id": "RURn5Dp1DPWo"
   },
   "outputs": [],
   "source": [
    "# Select numerical columns\n"
   ]
  },
  {
   "cell_type": "markdown",
   "metadata": {
    "id": "a41PWZrNDPWp"
   },
   "source": [
    "#### **5.1.2** Visualise the distribution of selected numerical features using appropriate plots to understand their characteristics."
   ]
  },
  {
   "cell_type": "code",
   "execution_count": 1685,
   "metadata": {
    "id": "DUoPrry8DPWp"
   },
   "outputs": [],
   "source": [
    "# Plot all the numerical columns to understand their distribution\n"
   ]
  },
  {
   "cell_type": "markdown",
   "metadata": {
    "id": "OhvTVXiwDPWp"
   },
   "source": [
    "### **5.2 Perform correlation analysis**"
   ]
  },
  {
   "cell_type": "markdown",
   "metadata": {
    "id": "F5tDAjsNDPWp"
   },
   "source": [
    " Investigate the relationships between numerical features to identify potential multicollinearity or dependencies. Visualise the correlation structure using an appropriate method to gain insights into feature relationships."
   ]
  },
  {
   "cell_type": "code",
   "execution_count": 1686,
   "metadata": {
    "id": "C-b6CSy1DPWp"
   },
   "outputs": [],
   "source": [
    "# Create correlation matrix for numerical columns\n",
    "\n",
    "# Plot Heatmap of the correlation matrix\n"
   ]
  },
  {
   "cell_type": "markdown",
   "metadata": {
    "id": "N2ww_JH7DPWp"
   },
   "source": [
    "### **5.3 Check class balance**"
   ]
  },
  {
   "cell_type": "markdown",
   "metadata": {
    "id": "ddcn-VSADPWp"
   },
   "source": [
    "Examine the distribution of the target variable to identify potential class imbalances. Visualise the distribution for better understanding."
   ]
  },
  {
   "cell_type": "code",
   "execution_count": 1687,
   "metadata": {
    "id": "5Yvfw9F2DPWq"
   },
   "outputs": [],
   "source": [
    "# Plot a bar chart to check class balance\n"
   ]
  },
  {
   "cell_type": "markdown",
   "metadata": {
    "id": "_pDlcXHxDPWq"
   },
   "source": [
    "### **5.4 Perform bivariate analysis**"
   ]
  },
  {
   "cell_type": "markdown",
   "metadata": {
    "id": "F0UT1kLHDPWq"
   },
   "source": [
    "#### **5.4.1** Target likelihood analysis for categorical variables.\n",
    "Investigate the relationships between categorical features and the target variable by analysing the target event likelihood (for the `'Y'` event) for each level of every relevant categorical feature. Through this analysis, identify categorical features that do not contribute much in explaining the variation in the target variable."
   ]
  },
  {
   "cell_type": "code",
   "execution_count": 1688,
   "metadata": {
    "id": "XMe7hHDcDPWr"
   },
   "outputs": [],
   "source": [
    "# Write a function to calculate and analyse the target variable likelihood for categorical features\n"
   ]
  },
  {
   "cell_type": "markdown",
   "metadata": {
    "id": "gCNILHjCDPWr"
   },
   "source": [
    "#### **5.4.2** Explore the relationships between numerical features and the target variable to understand their impact on the target outcome. Utilise appropriate visualisation techniques to identify trends and potential interactions."
   ]
  },
  {
   "cell_type": "code",
   "execution_count": 1689,
   "metadata": {
    "id": "NhQl8TJ9DPWr"
   },
   "outputs": [],
   "source": [
    "# Visualise the relationship between numerical features and the target variable to understand their impact on the target outcome\n"
   ]
  },
  {
   "cell_type": "markdown",
   "metadata": {
    "id": "TVb5a63HDPWr"
   },
   "source": [
    "## **6. Feature Engineering** <font color = red>[25 marks]</font>"
   ]
  },
  {
   "cell_type": "markdown",
   "metadata": {
    "id": "F1-lpq1iDPWs"
   },
   "source": [
    "### **6.1 Perform resampling** <font color=\"red\">[3 Marks]</font>"
   ]
  },
  {
   "cell_type": "markdown",
   "metadata": {
    "id": "vV6fEzAADPWs"
   },
   "source": [
    "Handle class imbalance in the training data by applying resampling technique.\n",
    "\n",
    "Use the **RandomOverSampler** technique to balance the data and handle class imbalance. This method increases the number of samples in the minority class by randomly duplicating them, creating synthetic data points with similar characteristics. This helps prevent the model from being biased toward the majority class and improves its ability to predict the minority class more accurately.\n",
    "\n",
    "**Note:** You can try other resampling techniques to handle class imbalance"
   ]
  },
  {
   "cell_type": "code",
   "execution_count": 1690,
   "metadata": {
    "id": "ijz0X5bGDPWs"
   },
   "outputs": [
    {
     "name": "stdout",
     "output_type": "stream",
     "text": [
      "Before resampling: Counter({0: 526, 1: 173})\n",
      "After resampling:  Counter({0: 526, 1: 526})\n"
     ]
    }
   ],
   "source": [
    "# Import RandomOverSampler from imblearn library\n",
    "from imblearn.over_sampling import RandomOverSampler\n",
    "from collections import Counter\n",
    "\n",
    "# Perform resampling on training data\n",
    "ros = RandomOverSampler(random_state=42)\n",
    "\n",
    "X_train_resampled, y_train_resampled = ros.fit_resample(X_train, y_train)\n",
    "\n",
    "# 3. Check class distributions before and after\n",
    "print(\"Before resampling:\", Counter(y_train))\n",
    "print(\"After resampling: \", Counter(y_train_resampled))"
   ]
  },
  {
   "cell_type": "code",
   "execution_count": 1691,
   "metadata": {},
   "outputs": [
    {
     "name": "stdout",
     "output_type": "stream",
     "text": [
      "Resampled X_train (1052, 33)\n",
      "Resampled y_train (1052,)\n"
     ]
    }
   ],
   "source": [
    "print(\"Resampled X_train\",X_train_resampled.shape)\n",
    "print(\"Resampled y_train\",y_train_resampled.shape)"
   ]
  },
  {
   "cell_type": "markdown",
   "metadata": {
    "id": "IQ7nY4SLDPWs"
   },
   "source": [
    "### **6.2 Feature Creation** <font color=\"red\">[4 marks]</font>"
   ]
  },
  {
   "cell_type": "markdown",
   "metadata": {
    "id": "PdDUn_sVDPWs"
   },
   "source": [
    "Create new features from existing ones to enhance the model's ability to capture patterns in the data. This may involve deriving features from date/time columns, combining features, or creating interaction terms."
   ]
  },
  {
   "cell_type": "code",
   "execution_count": 1692,
   "metadata": {},
   "outputs": [
    {
     "name": "stdout",
     "output_type": "stream",
     "text": [
      "<class 'pandas.core.frame.DataFrame'>\n",
      "RangeIndex: 699 entries, 0 to 698\n",
      "Data columns (total 33 columns):\n",
      " #   Column                       Non-Null Count  Dtype         \n",
      "---  ------                       --------------  -----         \n",
      " 0   months_as_customer           699 non-null    int64         \n",
      " 1   age                          699 non-null    int64         \n",
      " 2   policy_state                 699 non-null    object        \n",
      " 3   policy_csl                   699 non-null    object        \n",
      " 4   policy_deductable            699 non-null    int64         \n",
      " 5   umbrella_limit               699 non-null    int64         \n",
      " 6   insured_sex                  699 non-null    object        \n",
      " 7   insured_education_level      699 non-null    object        \n",
      " 8   insured_occupation           699 non-null    object        \n",
      " 9   insured_hobbies              699 non-null    object        \n",
      " 10  insured_relationship         699 non-null    object        \n",
      " 11  capital-gains                699 non-null    int64         \n",
      " 12  capital-loss                 699 non-null    int64         \n",
      " 13  incident_date                699 non-null    datetime64[ns]\n",
      " 14  incident_type                699 non-null    object        \n",
      " 15  collision_type               699 non-null    object        \n",
      " 16  incident_severity            699 non-null    object        \n",
      " 17  authorities_contacted        699 non-null    object        \n",
      " 18  incident_state               699 non-null    object        \n",
      " 19  incident_city                699 non-null    object        \n",
      " 20  incident_hour_of_the_day     699 non-null    int64         \n",
      " 21  number_of_vehicles_involved  699 non-null    int64         \n",
      " 22  property_damage              699 non-null    object        \n",
      " 23  bodily_injuries              699 non-null    int64         \n",
      " 24  witnesses                    699 non-null    int64         \n",
      " 25  police_report_available      699 non-null    object        \n",
      " 26  total_claim_amount           699 non-null    int64         \n",
      " 27  injury_claim                 699 non-null    int64         \n",
      " 28  property_claim               699 non-null    int64         \n",
      " 29  vehicle_claim                699 non-null    int64         \n",
      " 30  auto_make                    699 non-null    object        \n",
      " 31  auto_model                   699 non-null    object        \n",
      " 32  auto_year                    699 non-null    int64         \n",
      "dtypes: datetime64[ns](1), int64(15), object(17)\n",
      "memory usage: 180.3+ KB\n"
     ]
    }
   ],
   "source": [
    "X_train.info()"
   ]
  },
  {
   "cell_type": "code",
   "execution_count": 1693,
   "metadata": {},
   "outputs": [
    {
     "data": {
      "text/html": [
       "<div>\n",
       "<style scoped>\n",
       "    .dataframe tbody tr th:only-of-type {\n",
       "        vertical-align: middle;\n",
       "    }\n",
       "\n",
       "    .dataframe tbody tr th {\n",
       "        vertical-align: top;\n",
       "    }\n",
       "\n",
       "    .dataframe thead th {\n",
       "        text-align: right;\n",
       "    }\n",
       "</style>\n",
       "<table border=\"1\" class=\"dataframe\">\n",
       "  <thead>\n",
       "    <tr style=\"text-align: right;\">\n",
       "      <th></th>\n",
       "      <th>months_as_customer</th>\n",
       "      <th>age</th>\n",
       "      <th>policy_state</th>\n",
       "      <th>policy_csl</th>\n",
       "      <th>policy_deductable</th>\n",
       "      <th>umbrella_limit</th>\n",
       "      <th>insured_sex</th>\n",
       "      <th>insured_education_level</th>\n",
       "      <th>insured_occupation</th>\n",
       "      <th>insured_hobbies</th>\n",
       "      <th>...</th>\n",
       "      <th>bodily_injuries</th>\n",
       "      <th>witnesses</th>\n",
       "      <th>police_report_available</th>\n",
       "      <th>total_claim_amount</th>\n",
       "      <th>injury_claim</th>\n",
       "      <th>property_claim</th>\n",
       "      <th>vehicle_claim</th>\n",
       "      <th>auto_make</th>\n",
       "      <th>auto_model</th>\n",
       "      <th>auto_year</th>\n",
       "    </tr>\n",
       "  </thead>\n",
       "  <tbody>\n",
       "    <tr>\n",
       "      <th>0</th>\n",
       "      <td>129</td>\n",
       "      <td>28</td>\n",
       "      <td>OH</td>\n",
       "      <td>500/1000</td>\n",
       "      <td>1000</td>\n",
       "      <td>0</td>\n",
       "      <td>MALE</td>\n",
       "      <td>Masters</td>\n",
       "      <td>machine-op-inspct</td>\n",
       "      <td>base-jumping</td>\n",
       "      <td>...</td>\n",
       "      <td>2</td>\n",
       "      <td>3</td>\n",
       "      <td>Unknown</td>\n",
       "      <td>44640</td>\n",
       "      <td>9920</td>\n",
       "      <td>4960</td>\n",
       "      <td>29760</td>\n",
       "      <td>Toyota</td>\n",
       "      <td>Camry</td>\n",
       "      <td>2005</td>\n",
       "    </tr>\n",
       "    <tr>\n",
       "      <th>1</th>\n",
       "      <td>210</td>\n",
       "      <td>41</td>\n",
       "      <td>IL</td>\n",
       "      <td>500/1000</td>\n",
       "      <td>500</td>\n",
       "      <td>0</td>\n",
       "      <td>MALE</td>\n",
       "      <td>High School</td>\n",
       "      <td>exec-managerial</td>\n",
       "      <td>polo</td>\n",
       "      <td>...</td>\n",
       "      <td>2</td>\n",
       "      <td>0</td>\n",
       "      <td>NO</td>\n",
       "      <td>81070</td>\n",
       "      <td>14740</td>\n",
       "      <td>14740</td>\n",
       "      <td>51590</td>\n",
       "      <td>BMW</td>\n",
       "      <td>X5</td>\n",
       "      <td>2001</td>\n",
       "    </tr>\n",
       "    <tr>\n",
       "      <th>2</th>\n",
       "      <td>85</td>\n",
       "      <td>25</td>\n",
       "      <td>IN</td>\n",
       "      <td>250/500</td>\n",
       "      <td>500</td>\n",
       "      <td>0</td>\n",
       "      <td>FEMALE</td>\n",
       "      <td>JD</td>\n",
       "      <td>tech-support</td>\n",
       "      <td>base-jumping</td>\n",
       "      <td>...</td>\n",
       "      <td>2</td>\n",
       "      <td>2</td>\n",
       "      <td>Unknown</td>\n",
       "      <td>5640</td>\n",
       "      <td>940</td>\n",
       "      <td>940</td>\n",
       "      <td>3760</td>\n",
       "      <td>Nissan</td>\n",
       "      <td>Ultima</td>\n",
       "      <td>2005</td>\n",
       "    </tr>\n",
       "    <tr>\n",
       "      <th>3</th>\n",
       "      <td>429</td>\n",
       "      <td>56</td>\n",
       "      <td>OH</td>\n",
       "      <td>250/500</td>\n",
       "      <td>1000</td>\n",
       "      <td>6000000</td>\n",
       "      <td>MALE</td>\n",
       "      <td>Associate</td>\n",
       "      <td>machine-op-inspct</td>\n",
       "      <td>skydiving</td>\n",
       "      <td>...</td>\n",
       "      <td>2</td>\n",
       "      <td>0</td>\n",
       "      <td>YES</td>\n",
       "      <td>39480</td>\n",
       "      <td>6580</td>\n",
       "      <td>6580</td>\n",
       "      <td>26320</td>\n",
       "      <td>Suburu</td>\n",
       "      <td>Forrestor</td>\n",
       "      <td>2002</td>\n",
       "    </tr>\n",
       "    <tr>\n",
       "      <th>4</th>\n",
       "      <td>106</td>\n",
       "      <td>31</td>\n",
       "      <td>IL</td>\n",
       "      <td>500/1000</td>\n",
       "      <td>2000</td>\n",
       "      <td>0</td>\n",
       "      <td>FEMALE</td>\n",
       "      <td>JD</td>\n",
       "      <td>farming-fishing</td>\n",
       "      <td>video-games</td>\n",
       "      <td>...</td>\n",
       "      <td>0</td>\n",
       "      <td>3</td>\n",
       "      <td>YES</td>\n",
       "      <td>45630</td>\n",
       "      <td>5070</td>\n",
       "      <td>5070</td>\n",
       "      <td>35490</td>\n",
       "      <td>Accura</td>\n",
       "      <td>MDX</td>\n",
       "      <td>2011</td>\n",
       "    </tr>\n",
       "  </tbody>\n",
       "</table>\n",
       "<p>5 rows × 33 columns</p>\n",
       "</div>"
      ],
      "text/plain": [
       "   months_as_customer  age policy_state policy_csl  policy_deductable  \\\n",
       "0                 129   28           OH   500/1000               1000   \n",
       "1                 210   41           IL   500/1000                500   \n",
       "2                  85   25           IN    250/500                500   \n",
       "3                 429   56           OH    250/500               1000   \n",
       "4                 106   31           IL   500/1000               2000   \n",
       "\n",
       "   umbrella_limit insured_sex insured_education_level insured_occupation  \\\n",
       "0               0        MALE                 Masters  machine-op-inspct   \n",
       "1               0        MALE             High School    exec-managerial   \n",
       "2               0      FEMALE                      JD       tech-support   \n",
       "3         6000000        MALE               Associate  machine-op-inspct   \n",
       "4               0      FEMALE                      JD    farming-fishing   \n",
       "\n",
       "  insured_hobbies  ... bodily_injuries  witnesses  police_report_available  \\\n",
       "0    base-jumping  ...               2          3                  Unknown   \n",
       "1            polo  ...               2          0                       NO   \n",
       "2    base-jumping  ...               2          2                  Unknown   \n",
       "3       skydiving  ...               2          0                      YES   \n",
       "4     video-games  ...               0          3                      YES   \n",
       "\n",
       "  total_claim_amount injury_claim property_claim vehicle_claim auto_make  \\\n",
       "0              44640         9920           4960         29760    Toyota   \n",
       "1              81070        14740          14740         51590       BMW   \n",
       "2               5640          940            940          3760    Nissan   \n",
       "3              39480         6580           6580         26320    Suburu   \n",
       "4              45630         5070           5070         35490    Accura   \n",
       "\n",
       "  auto_model auto_year  \n",
       "0      Camry      2005  \n",
       "1         X5      2001  \n",
       "2     Ultima      2005  \n",
       "3  Forrestor      2002  \n",
       "4        MDX      2011  \n",
       "\n",
       "[5 rows x 33 columns]"
      ]
     },
     "execution_count": 1693,
     "metadata": {},
     "output_type": "execute_result"
    }
   ],
   "source": [
    "X_train.head()"
   ]
  },
  {
   "cell_type": "code",
   "execution_count": 1694,
   "metadata": {
    "id": "beiDdjl7DPWs"
   },
   "outputs": [
    {
     "name": "stdout",
     "output_type": "stream",
     "text": [
      "New train shape: (1052, 37)\n",
      "New valid shape: (300, 37)\n"
     ]
    },
    {
     "data": {
      "text/html": [
       "<div>\n",
       "<style scoped>\n",
       "    .dataframe tbody tr th:only-of-type {\n",
       "        vertical-align: middle;\n",
       "    }\n",
       "\n",
       "    .dataframe tbody tr th {\n",
       "        vertical-align: top;\n",
       "    }\n",
       "\n",
       "    .dataframe thead th {\n",
       "        text-align: right;\n",
       "    }\n",
       "</style>\n",
       "<table border=\"1\" class=\"dataframe\">\n",
       "  <thead>\n",
       "    <tr style=\"text-align: right;\">\n",
       "      <th></th>\n",
       "      <th>net_capital</th>\n",
       "      <th>claim_deduct_ratio</th>\n",
       "      <th>incident_month</th>\n",
       "      <th>incident_quarter</th>\n",
       "      <th>incident_dayofweek</th>\n",
       "    </tr>\n",
       "  </thead>\n",
       "  <tbody>\n",
       "    <tr>\n",
       "      <th>0</th>\n",
       "      <td>0</td>\n",
       "      <td>44.640</td>\n",
       "      <td>2</td>\n",
       "      <td>1</td>\n",
       "      <td>5</td>\n",
       "    </tr>\n",
       "    <tr>\n",
       "      <th>1</th>\n",
       "      <td>-41000</td>\n",
       "      <td>162.140</td>\n",
       "      <td>1</td>\n",
       "      <td>1</td>\n",
       "      <td>4</td>\n",
       "    </tr>\n",
       "    <tr>\n",
       "      <th>2</th>\n",
       "      <td>13400</td>\n",
       "      <td>11.280</td>\n",
       "      <td>2</td>\n",
       "      <td>1</td>\n",
       "      <td>0</td>\n",
       "    </tr>\n",
       "    <tr>\n",
       "      <th>3</th>\n",
       "      <td>23600</td>\n",
       "      <td>39.480</td>\n",
       "      <td>1</td>\n",
       "      <td>1</td>\n",
       "      <td>2</td>\n",
       "    </tr>\n",
       "    <tr>\n",
       "      <th>4</th>\n",
       "      <td>54100</td>\n",
       "      <td>22.815</td>\n",
       "      <td>2</td>\n",
       "      <td>1</td>\n",
       "      <td>6</td>\n",
       "    </tr>\n",
       "  </tbody>\n",
       "</table>\n",
       "</div>"
      ],
      "text/plain": [
       "   net_capital  claim_deduct_ratio  incident_month  incident_quarter  \\\n",
       "0            0              44.640               2                 1   \n",
       "1       -41000             162.140               1                 1   \n",
       "2        13400              11.280               2                 1   \n",
       "3        23600              39.480               1                 1   \n",
       "4        54100              22.815               2                 1   \n",
       "\n",
       "   incident_dayofweek  \n",
       "0                   5  \n",
       "1                   4  \n",
       "2                   0  \n",
       "3                   2  \n",
       "4                   6  "
      ]
     },
     "execution_count": 1694,
     "metadata": {},
     "output_type": "execute_result"
    }
   ],
   "source": [
    "# Create new features based on your understanding for both training and validation data\n",
    "def create_features(df):\n",
    "    df = df.copy()\n",
    "\n",
    "    # Net capital flow\n",
    "    df['net_capital'] = df['capital-gains'] - df['capital-loss']\n",
    "    \n",
    "    # Claim-to-deductible ratio\n",
    "    df['claim_deduct_ratio'] = df['total_claim_amount'] / df['policy_deductable']\n",
    "    \n",
    "    \n",
    "    # Date breakdowns\n",
    "    df['incident_month']     = df['incident_date'].dt.month\n",
    "    df['incident_quarter']   = df['incident_date'].dt.quarter\n",
    "    df['incident_dayofweek'] = df['incident_date'].dt.dayofweek\n",
    "    \n",
    "    # (Optional) drop raw date if you only want the slices\n",
    "    df = df.drop(columns=['incident_date'])\n",
    "    \n",
    "    return df\n",
    "\n",
    "# Apply to train & validation\n",
    "X_train_feat = create_features(X_train_resampled)\n",
    "X_test_feat = create_features(X_test)\n",
    "\n",
    "# Quick check\n",
    "print(\"New train shape:\", X_train_feat.shape)\n",
    "print(\"New valid shape:\", X_test_feat.shape)\n",
    "X_train_feat[['net_capital','claim_deduct_ratio',\n",
    "              'incident_month',\n",
    "              'incident_quarter','incident_dayofweek']].head()"
   ]
  },
  {
   "cell_type": "markdown",
   "metadata": {
    "id": "NbQ6FhLUDPWt"
   },
   "source": [
    "### **6.3 Handle redundant columns** <font color=\"red\">[3 marks]</font>"
   ]
  },
  {
   "cell_type": "markdown",
   "metadata": {
    "id": "zs_uzd9VDPWt"
   },
   "source": [
    "Analyse the data to identify features that may be redundant or contribute minimal information toward predicting the target variable and drop them.\n",
    "\n",
    "- You can consider features that exhibit high correlation with other variables, which you may have observed during the EDA phase.\n",
    "- Features that don't strongly influence the prediction, which you may have observed during the EDA phase.\n",
    "- Categorical columns with low value counts for some levels can be remapped to reduce number of unique levels, and features with very high counts for just one level may be removed, as they resemble unique identifier columns and do not provide substantial predictive value.\n",
    "- Additionally, eliminate any columns from which the necessary features have already been extracted in the preceding step."
   ]
  },
  {
   "cell_type": "code",
   "execution_count": 1695,
   "metadata": {
    "id": "9Fy0Rw1BDPWt"
   },
   "outputs": [
    {
     "name": "stdout",
     "output_type": "stream",
     "text": [
      "Dropped columns: ['injury_claim', 'property_claim', 'vehicle_claim', 'capital-gains', 'capital-loss', 'insured_sex', 'policy_state', 'policy_csl', 'police_report_available']\n",
      "X_train_final shape: (1052, 28)\n",
      "X_test_final shape: (300, 28)\n",
      "Remaining features: ['months_as_customer', 'age', 'policy_deductable', 'umbrella_limit', 'insured_education_level', 'insured_occupation', 'insured_hobbies', 'insured_relationship', 'incident_type', 'collision_type', 'incident_severity', 'authorities_contacted', 'incident_state', 'incident_city', 'incident_hour_of_the_day', 'number_of_vehicles_involved', 'property_damage', 'bodily_injuries', 'witnesses', 'total_claim_amount', 'auto_make', 'auto_model', 'auto_year', 'net_capital', 'claim_deduct_ratio', 'incident_month', 'incident_quarter', 'incident_dayofweek']\n"
     ]
    }
   ],
   "source": [
    "# Drop redundant columns from training and validation data\n",
    "\n",
    "# List of columns to drop:\n",
    "drop_cols = [\n",
    "    'injury_claim',\n",
    "    'property_claim',\n",
    "    'vehicle_claim',\n",
    "    'capital-gains',\n",
    "    'capital-loss',\n",
    "    'insured_sex',\n",
    "    'policy_state',\n",
    "    'policy_csl',\n",
    "    'police_report_available'\n",
    "]\n",
    "\n",
    "# Drop from both training and validation feature sets\n",
    "X_train_final = X_train_feat.drop(columns=drop_cols)\n",
    "X_test_final  = X_test_feat.drop(columns=drop_cols)\n",
    "\n",
    "# Display shapes and remaining columns\n",
    "print(\"Dropped columns:\", drop_cols)\n",
    "print(\"X_train_final shape:\", X_train_final.shape)\n",
    "print(\"X_test_final shape:\", X_test_final.shape)\n",
    "print(\"Remaining features:\", X_train_final.columns.tolist())\n"
   ]
  },
  {
   "cell_type": "markdown",
   "metadata": {},
   "source": [
    "#### Inference\n",
    "\n",
    "\n",
    "##### Individual claim components (injury_claim, property_claim, vehicle_claim)\n",
    "\n",
    "- In our correlation analysis, each of these was almost perfectly collinear (r > 0.9) with total_claim_amount, meaning they add no new information once you keep the aggregate total.\n",
    "\n",
    "##### Raw capital flow columns (capital-gains, capital-loss)\n",
    "\n",
    "- We’ve replaced them with a single net_capital feature (gains – losses), which captures the same signal more succinctly and avoids multicollinearity.\n",
    "\n",
    "##### Low‑signal categoricals (insured_sex, policy_state, policy_csl, police_report_available)\n",
    "\n",
    "- In our bivariate “fraud‑rate by category” check, each varied by less than ~5 percentage points across their levels. Such minimal range indicates they contribute little discriminatory power for predicting fraud.\n",
    "\n",
    "Dropping these columns helps reduce redundancy, simplify the feature space, and focus the model on the most informative predictors."
   ]
  },
  {
   "cell_type": "markdown",
   "metadata": {
    "id": "SxA7dZ0UDPWt"
   },
   "source": [
    "### **6.4 Combine values in Categorical Columns** <font color=\"red\">[6 Marks]</font>\n",
    "During the EDA process, categorical columns with multiple unique values may be identified. To enhance model performance, it is essential to refine these categorical features by grouping values that have low frequency or provide limited predictive information.\n",
    "\n",
    "Combine categories that occur infrequently or exhibit similar behavior to reduce sparsity and improve model generalisation."
   ]
  },
  {
   "cell_type": "code",
   "execution_count": 1696,
   "metadata": {
    "id": "-OF7Y35dDPWt"
   },
   "outputs": [
    {
     "name": "stdout",
     "output_type": "stream",
     "text": [
      "\n",
      "insured_education_level value counts after combining low-frequency categories:\n",
      "JD             17.21%\n",
      "Associate      15.11%\n",
      "Masters        15.02%\n",
      "MD             14.45%\n",
      "High School    14.07%\n",
      "PhD            12.74%\n",
      "College        11.41%\n",
      "Name: insured_education_level, dtype: object\n",
      "\n",
      "insured_occupation value counts after combining low-frequency categories:\n",
      "exec-managerial      9.41%\n",
      "machine-op-inspct    9.13%\n",
      "prof-specialty       9.03%\n",
      "Other                8.84%\n",
      "transport-moving     8.75%\n",
      "tech-support         8.17%\n",
      "craft-repair         7.89%\n",
      "sales                7.79%\n",
      "armed-forces         6.94%\n",
      "adm-clerical         6.75%\n",
      "other-service        6.27%\n",
      "priv-house-serv      5.99%\n",
      "farming-fishing      5.04%\n",
      "Name: insured_occupation, dtype: object\n",
      "\n",
      "insured_hobbies value counts after combining low-frequency categories:\n",
      "Other             50.57%\n",
      "chess               9.6%\n",
      "paintball          6.94%\n",
      "reading            6.18%\n",
      "bungie-jumping     6.08%\n",
      "exercise           5.32%\n",
      "skydiving          5.23%\n",
      "base-jumping       5.04%\n",
      "yachting           5.04%\n",
      "Name: insured_hobbies, dtype: object\n",
      "\n",
      "insured_relationship value counts after combining low-frequency categories:\n",
      "other-relative    18.25%\n",
      "wife              17.49%\n",
      "not-in-family     17.02%\n",
      "unmarried         16.25%\n",
      "husband           15.87%\n",
      "own-child         15.11%\n",
      "Name: insured_relationship, dtype: object\n",
      "\n",
      "incident_type value counts after combining low-frequency categories:\n",
      "Multi-vehicle Collision     44.87%\n",
      "Single Vehicle Collision    41.16%\n",
      "Parked Car                    7.7%\n",
      "Vehicle Theft                6.27%\n",
      "Name: incident_type, dtype: object\n",
      "\n",
      "collision_type value counts after combining low-frequency categories:\n",
      "Rear Collision     31.84%\n",
      "Side Collision     27.28%\n",
      "Front Collision     26.9%\n",
      "Unknown            13.97%\n",
      "Name: collision_type, dtype: object\n",
      "\n",
      "incident_severity value counts after combining low-frequency categories:\n",
      "Major Damage      41.35%\n",
      "Minor Damage      28.61%\n",
      "Total Loss        23.86%\n",
      "Trivial Damage     6.18%\n",
      "Name: incident_severity, dtype: object\n",
      "\n",
      "authorities_contacted value counts after combining low-frequency categories:\n",
      "Police       27.28%\n",
      "Fire         22.72%\n",
      "Ambulance    21.58%\n",
      "Other        20.63%\n",
      "None          7.79%\n",
      "Name: authorities_contacted, dtype: object\n",
      "\n",
      "incident_state value counts after combining low-frequency categories:\n",
      "SC        26.9%\n",
      "NY       24.43%\n",
      "WV       18.44%\n",
      "NC       12.83%\n",
      "VA       10.36%\n",
      "Other     7.03%\n",
      "Name: incident_state, dtype: object\n",
      "\n",
      "incident_city value counts after combining low-frequency categories:\n",
      "Arlington      16.92%\n",
      "Columbus       15.68%\n",
      "Springfield    14.73%\n",
      "Northbend      14.07%\n",
      "Hillsdale      14.07%\n",
      "Riverwood      13.59%\n",
      "Northbrook     10.93%\n",
      "Name: incident_city, dtype: object\n",
      "\n",
      "property_damage value counts after combining low-frequency categories:\n",
      "Unknown    37.83%\n",
      "YES        31.27%\n",
      "NO         30.89%\n",
      "Name: property_damage, dtype: object\n",
      "\n",
      "auto_make value counts after combining low-frequency categories:\n",
      "Ford          9.22%\n",
      "Audi          8.84%\n",
      "Chevrolet     8.75%\n",
      "Saab          8.17%\n",
      "Dodge         8.08%\n",
      "Nissan        7.89%\n",
      "Suburu        7.51%\n",
      "BMW           7.32%\n",
      "Mercedes      6.65%\n",
      "Accura        6.27%\n",
      "Toyota         5.8%\n",
      "Jeep           5.7%\n",
      "Volkswagen    5.42%\n",
      "Other         4.37%\n",
      "Name: auto_make, dtype: object\n",
      "\n",
      "auto_model value counts after combining low-frequency categories:\n",
      "Other    100.0%\n",
      "Name: auto_model, dtype: object\n"
     ]
    }
   ],
   "source": [
    "# Combine categories that have low frequency or provide limited predictive information\n",
    "\n",
    "# Define categorical columns to refine\n",
    "cat_cols = X_train_final.select_dtypes(include=['object']).columns.tolist()\n",
    "\n",
    "# Threshold for low-frequency categories (e.g., less than 5% of training data)\n",
    "threshold = 0.05  \n",
    "# n_train = len(X_train_final)\n",
    "\n",
    "# Identify and replace infrequent categories\n",
    "for col in cat_cols:\n",
    "    # Calculate relative frequencies\n",
    "    freq = X_train_final[col].value_counts(normalize=True)\n",
    "    low_freq_cats = freq[freq < threshold].index.tolist()\n",
    "    \n",
    "    # Map low-frequency levels to 'Other'\n",
    "    X_train_final[col] = X_train_final[col].replace(low_freq_cats, 'Other')\n",
    "    X_test_final[col] = X_test_final[col].replace(low_freq_cats, 'Other')\n",
    "\n",
    "# Display updated category counts for verification\n",
    "for col in cat_cols:\n",
    "    print(f\"\\n{col} value counts after combining low-frequency categories:\")\n",
    "    print(X_train_final[col].value_counts(normalize=True).mul(100).round(2).astype(str) + '%')\n"
   ]
  },
  {
   "cell_type": "markdown",
   "metadata": {},
   "source": [
    "#### Inference\n",
    "\n",
    "Grouped all levels in each categorical feature that comprised less than 5 % of the training data into a single “Other” category. This reduces sparsity and helps the model generalize over infrequent or noisy categories."
   ]
  },
  {
   "cell_type": "markdown",
   "metadata": {
    "id": "C2vnyJqYDPWt"
   },
   "source": [
    "### **6.5 Dummy variable creation** <font color=\"red\">[6 Marks]</font>\n",
    "Transform categorical variables into numerical representations using dummy variables. Ensure consistent encoding between training and validation data."
   ]
  },
  {
   "cell_type": "markdown",
   "metadata": {
    "id": "pQHnbRB_DPWt"
   },
   "source": [
    "#### **6.5.1** Identify categorical columns for dummy variable creation <font color=\"red\">[1 Mark]</font>"
   ]
  },
  {
   "cell_type": "code",
   "execution_count": 1697,
   "metadata": {
    "id": "YCR73H4VDPWt"
   },
   "outputs": [
    {
     "name": "stdout",
     "output_type": "stream",
     "text": [
      "Categorical columns for dummy creation:\n",
      "['insured_education_level', 'insured_occupation', 'insured_hobbies', 'insured_relationship', 'incident_type', 'collision_type', 'incident_severity', 'authorities_contacted', 'incident_state', 'incident_city', 'property_damage', 'auto_make', 'auto_model']\n"
     ]
    }
   ],
   "source": [
    "# Identify the categorical columns for creating dummy variables\n",
    "# Identify categorical columns in the final feature set\n",
    "cat_cols = X_train_final.select_dtypes(include=['object']).columns.tolist()\n",
    "print(\"Categorical columns for dummy creation:\")\n",
    "print(cat_cols)\n"
   ]
  },
  {
   "cell_type": "markdown",
   "metadata": {
    "id": "ZcCgF0lsDPWu"
   },
   "source": [
    "#### **6.5.2** Create dummy variables for categorical columns in training data <font color=\"red\">[2 Marks]</font>"
   ]
  },
  {
   "cell_type": "code",
   "execution_count": 1698,
   "metadata": {
    "id": "JA8seldpDPWu"
   },
   "outputs": [],
   "source": [
    "# Create dummy variables using the 'get_dummies' for categorical columns in training data\n",
    "X_train_dum = pd.get_dummies(X_train_final, columns=cat_cols, drop_first=True, dtype=int)"
   ]
  },
  {
   "cell_type": "code",
   "execution_count": 1699,
   "metadata": {},
   "outputs": [
    {
     "data": {
      "text/plain": [
       "(1052, 85)"
      ]
     },
     "execution_count": 1699,
     "metadata": {},
     "output_type": "execute_result"
    }
   ],
   "source": [
    "X_train_dum.shape"
   ]
  },
  {
   "cell_type": "markdown",
   "metadata": {
    "id": "cbLlOiYcDPWu"
   },
   "source": [
    "#### **6.5.3** Create dummy variables for categorical columns in validation data <font color=\"red\">[2 Marks]</font>"
   ]
  },
  {
   "cell_type": "code",
   "execution_count": 1700,
   "metadata": {
    "id": "zvQ4n9yaDPWu"
   },
   "outputs": [],
   "source": [
    "# Create dummy variables using the 'get_dummies' for categorical columns in validation data\n",
    "X_test_dum = pd.get_dummies(X_test_final, columns=cat_cols, drop_first=True, dtype=int)"
   ]
  },
  {
   "cell_type": "code",
   "execution_count": 1701,
   "metadata": {},
   "outputs": [
    {
     "name": "stdout",
     "output_type": "stream",
     "text": [
      "X_train_dum shape: (1052, 85)\n",
      "X_valid_dum shape: (300, 85)\n"
     ]
    }
   ],
   "source": [
    "# Align validation columns to match training\n",
    "X_test_dum = X_test_dum.reindex(columns=X_train_dum.columns, fill_value=0)\n",
    "\n",
    "# Display shapes for verification\n",
    "print(\"X_train_dum shape:\", X_train_dum.shape)\n",
    "print(\"X_valid_dum shape:\", X_test_dum.shape)"
   ]
  },
  {
   "cell_type": "markdown",
   "metadata": {
    "id": "tg5crIDKDPWu"
   },
   "source": [
    "#### **6.5.4** Create dummy variable for dependent feature in training and validation data <font color = \"red\">[1 Mark]</font>"
   ]
  },
  {
   "cell_type": "code",
   "execution_count": 1702,
   "metadata": {},
   "outputs": [
    {
     "name": "stdout",
     "output_type": "stream",
     "text": [
      "y_train_resampled mapped\n",
      "0    526\n",
      "1    526\n",
      "Name: fraud_reported, dtype: int64\n",
      "y_test mapped\n",
      "0    226\n",
      "1     74\n",
      "Name: fraud_reported, dtype: int64\n"
     ]
    }
   ],
   "source": [
    "# Create dummy variable for dependent feature in training data\n",
    "# We had already mapped the target variable 'fraud_reported' to 0 and 1. Hence, not creating dummy variables\n",
    "\n",
    "\n",
    "# Create dummy variable for dependent feature in validation data\n",
    "\n",
    "# Display shapes for verification\n",
    "\n",
    "print(\"y_train_resampled mapped\", y_train_resampled.value_counts(),sep='\\n')\n",
    "print(\"y_test mapped\",y_test.value_counts(),sep='\\n')\n",
    "\n"
   ]
  },
  {
   "cell_type": "code",
   "execution_count": 1703,
   "metadata": {},
   "outputs": [
    {
     "data": {
      "text/plain": [
       "((1052, 85), (1052,))"
      ]
     },
     "execution_count": 1703,
     "metadata": {},
     "output_type": "execute_result"
    }
   ],
   "source": [
    "\n",
    "# Checking the shapes\n",
    "X_train_dum.shape,y_train_resampled.shape"
   ]
  },
  {
   "cell_type": "markdown",
   "metadata": {
    "id": "USXyE8QSDPWu"
   },
   "source": [
    "### **6.6 Feature scaling** <font color = red>[3 marks]</font>\n",
    "Scale numerical features to a common range to prevent features with larger values from dominating the model.  Choose a scaling method appropriate for the data and the chosen model. Apply the same scaling to both training and validation data."
   ]
  },
  {
   "cell_type": "code",
   "execution_count": 1704,
   "metadata": {
    "id": "VfE4LXqXDPWu"
   },
   "outputs": [
    {
     "name": "stdout",
     "output_type": "stream",
     "text": [
      "X_train_scaled shape:    months_as_customer       age  policy_deductable  umbrella_limit  \\\n",
      "0           -0.674430 -1.213444          -0.277463       -0.505166   \n",
      "1            0.023016  0.194946          -1.086025       -0.505166   \n",
      "2           -1.053290 -1.538457          -1.086025       -0.505166   \n",
      "3            1.908703  1.820011          -0.277463        2.017467   \n",
      "4           -0.872471 -0.888431           1.339662       -0.505166   \n",
      "\n",
      "   incident_hour_of_the_day  number_of_vehicles_involved  bodily_injuries  \\\n",
      "0                  1.598378                    -0.873298         1.190755   \n",
      "1                  0.021530                     1.106680         1.190755   \n",
      "2                 -0.551870                    -0.873298         1.190755   \n",
      "3                 -1.698668                    -0.873298         1.190755   \n",
      "4                  1.168328                     1.106680        -1.213610   \n",
      "\n",
      "   witnesses  total_claim_amount  auto_year  ...  auto_make_Dodge  \\\n",
      "0   1.356257           -0.421998   0.051747  ...                0   \n",
      "1  -1.347690            1.021532  -0.616200  ...                0   \n",
      "2   0.454942           -1.967364   0.051747  ...                0   \n",
      "3  -1.347690           -0.626462  -0.449213  ...                0   \n",
      "4   1.356257           -0.382770   1.053667  ...                0   \n",
      "\n",
      "   auto_make_Ford  auto_make_Jeep  auto_make_Mercedes  auto_make_Nissan  \\\n",
      "0               0               0                   0                 0   \n",
      "1               0               0                   0                 0   \n",
      "2               0               0                   0                 1   \n",
      "3               0               0                   0                 0   \n",
      "4               0               0                   0                 0   \n",
      "\n",
      "   auto_make_Other  auto_make_Saab  auto_make_Suburu  auto_make_Toyota  \\\n",
      "0                0               0                 0                 1   \n",
      "1                0               0                 0                 0   \n",
      "2                0               0                 0                 0   \n",
      "3                0               0                 1                 0   \n",
      "4                0               0                 0                 0   \n",
      "\n",
      "   auto_make_Volkswagen  \n",
      "0                     0  \n",
      "1                     0  \n",
      "2                     0  \n",
      "3                     0  \n",
      "4                     0  \n",
      "\n",
      "[5 rows x 85 columns]\n",
      "X_test_scaled shape:    months_as_customer       age  policy_deductable  umbrella_limit  \\\n",
      "0            2.158406  2.145024          -0.277463       -0.505166   \n",
      "1            0.238277  0.303284          -1.086025       -0.505166   \n",
      "2           -0.218077 -0.130067           1.339662       -0.505166   \n",
      "3           -1.483812 -0.455080           1.339662       -0.505166   \n",
      "4            0.186614 -0.238405          -0.277463       -0.505166   \n",
      "\n",
      "   incident_hour_of_the_day  number_of_vehicles_involved  bodily_injuries  \\\n",
      "0                  1.598378                    -0.873298         1.190755   \n",
      "1                 -0.695219                     2.096668         1.190755   \n",
      "2                  0.881629                    -0.873298         1.190755   \n",
      "3                  1.598378                     1.106680         1.190755   \n",
      "4                  0.738279                    -0.873298        -1.213610   \n",
      "\n",
      "   witnesses  total_claim_amount  auto_year  ...  auto_make_Dodge  \\\n",
      "0   0.454942            0.654211  -1.618120  ...                0   \n",
      "1  -0.446374            0.547224   0.218734  ...                0   \n",
      "2   1.356257            1.361513   0.051747  ...                1   \n",
      "3   0.454942           -0.083206  -1.451133  ...                0   \n",
      "4   0.454942           -0.028920  -0.115240  ...                0   \n",
      "\n",
      "   auto_make_Ford  auto_make_Jeep  auto_make_Mercedes  auto_make_Nissan  \\\n",
      "0               0               1                   0                 0   \n",
      "1               0               0                   0                 0   \n",
      "2               0               0                   0                 0   \n",
      "3               0               0                   0                 0   \n",
      "4               0               0                   0                 0   \n",
      "\n",
      "   auto_make_Other  auto_make_Saab  auto_make_Suburu  auto_make_Toyota  \\\n",
      "0                0               0                 0                 0   \n",
      "1                0               0                 0                 1   \n",
      "2                0               0                 0                 0   \n",
      "3                0               0                 0                 0   \n",
      "4                0               1                 0                 0   \n",
      "\n",
      "   auto_make_Volkswagen  \n",
      "0                     0  \n",
      "1                     0  \n",
      "2                     0  \n",
      "3                     1  \n",
      "4                     0  \n",
      "\n",
      "[5 rows x 85 columns]\n"
     ]
    }
   ],
   "source": [
    "# Import the necessary scaling tool from scikit-learn\n",
    "from sklearn.preprocessing import StandardScaler\n",
    "\n",
    "numeric_cols = X_train_dum.select_dtypes(include=['int64', 'float64']).columns.tolist()\n",
    "scaler = StandardScaler()\n",
    "\n",
    "# Scale the numeric features present in the training data\n",
    "X_train_scaled = X_train_dum.copy()\n",
    "X_train_scaled[numeric_cols] = scaler.fit_transform(X_train_dum[numeric_cols])\n",
    "\n",
    "# Scale the numeric features present in the validation data\n",
    "X_test_scaled = X_test_dum.copy()\n",
    "X_test_scaled[numeric_cols] = scaler.transform(X_test_dum[numeric_cols])\n",
    "\n",
    "# Display shapes for verification\n",
    "print(\"X_train_scaled shape:\", X_train_scaled.head())\n",
    "print(\"X_test_scaled shape:\", X_test_scaled.head())\n"
   ]
  },
  {
   "cell_type": "code",
   "execution_count": 1705,
   "metadata": {},
   "outputs": [
    {
     "data": {
      "text/plain": [
       "((1052, 85), (300, 85))"
      ]
     },
     "execution_count": 1705,
     "metadata": {},
     "output_type": "execute_result"
    }
   ],
   "source": [
    "# Checking the shapes\n",
    "X_train_scaled.shape,X_test_scaled.shape"
   ]
  },
  {
   "cell_type": "markdown",
   "metadata": {
    "id": "pqIhEkpxDPWu"
   },
   "source": [
    "## **7. Model Building** <font color = red>[50 marks]</font>"
   ]
  },
  {
   "cell_type": "markdown",
   "metadata": {
    "id": "i2OLtpZWUmgS"
   },
   "source": [
    "In this task, you will be building two machine learning models: Logistic Regression and Random Forest. Each model will go through a structured process to ensure optimal performance. The key steps for each model are outlined below:\n",
    "\n",
    "**Logistic Regression Model**\n",
    "- Feature Selection using RFECV – Identify the most relevant features using Recursive Feature Elimination with Cross-Validation.\n",
    "- Model Building and Multicollinearity Assessment – Build the logistic regression model and analyse statistical aspects such as p-values and VIFs to detect multicollinearity.\n",
    "- Model Training and Evaluation on Training Data – Fit the model on the training data and assess initial performance.\n",
    "- Finding the Optimal Cutoff – Determine the best probability threshold by analysing the sensitivity-specificity tradeoff and precision-recall tradeoff.\n",
    "- FInal Prediction and Evaluation on Training Data using the Optimal Cutoff – Generate final predictions using the selected cutoff and evaluate model performance.\n",
    "\n",
    "**Random Forest Model**\n",
    "- Get Feature Importances - Obtain the importance scores for each feature and select the important features to train the model.\n",
    "- Model Evaluation on Training Data – Assess performance metrics on the training data.\n",
    "- Check Model Overfitting using Cross-Validation – Evaluate generalisation by performing cross-validation.\n",
    "- Hyperparameter Tuning using Grid Search – Optimise model performance by fine-tuning hyperparameters.\n",
    "- Final Model and Evaluation on Training Data – Train the final model using the best parameters and assess its performance."
   ]
  },
  {
   "cell_type": "markdown",
   "metadata": {
    "id": "DwQl23_eDPWx"
   },
   "source": [
    "### **7.1 Feature selection** <font color = red>[4 marks]</font>\n",
    "Identify and select the most relevant features for building a logistic regression model using Recursive Feature Elimination with Cross-Validation (RFECV)."
   ]
  },
  {
   "cell_type": "markdown",
   "metadata": {
    "id": "x7oRIQMhDPWy"
   },
   "source": [
    "#### **7.1.1** Import necessary libraries <font color=\"red\">[1 Mark]</font>"
   ]
  },
  {
   "cell_type": "code",
   "execution_count": 1706,
   "metadata": {
    "id": "RzQF3EyIDPWy"
   },
   "outputs": [],
   "source": [
    "# Import necessary libraries\n",
    "from sklearn.feature_selection import RFECV\n",
    "from sklearn.linear_model import LogisticRegression\n",
    "from sklearn.model_selection import StratifiedKFold\n",
    "from sklearn.pipeline import Pipeline"
   ]
  },
  {
   "cell_type": "code",
   "execution_count": 1707,
   "metadata": {},
   "outputs": [
    {
     "data": {
      "text/plain": [
       "((1052, 85), (1052,))"
      ]
     },
     "execution_count": 1707,
     "metadata": {},
     "output_type": "execute_result"
    }
   ],
   "source": [
    "# Check whether the shapes match between X_train_scaled and y_train_resampled\n",
    "X_train_scaled.shape,y_train_resampled.shape"
   ]
  },
  {
   "cell_type": "markdown",
   "metadata": {
    "id": "j1sHmcZKDPWy"
   },
   "source": [
    "#### **7.1.2** Perform feature selection <font color=\"red\">[2 Mark]</font>"
   ]
  },
  {
   "cell_type": "code",
   "execution_count": 1708,
   "metadata": {
    "id": "NKRnzy8sDPWy"
   },
   "outputs": [
    {
     "data": {
      "text/plain": [
       "RFECV(cv=StratifiedKFold(n_splits=5, random_state=42, shuffle=True),\n",
       "      estimator=Pipeline(steps=[('scaler', StandardScaler()),\n",
       "                                ('clf',\n",
       "                                 LogisticRegression(class_weight='balanced',\n",
       "                                                    max_iter=1000,\n",
       "                                                    random_state=42))]),\n",
       "      importance_getter=<function <lambda> at 0x000002A4E465FC10>, n_jobs=-1,\n",
       "      scoring='roc_auc')"
      ]
     },
     "execution_count": 1708,
     "metadata": {},
     "output_type": "execute_result"
    }
   ],
   "source": [
    "# Apply RFECV to identify the most relevant features\n",
    "X_num = X_train_scaled\n",
    "y = y_train_resampled\n",
    "\n",
    "# Create a pipeline with RFECV and Logistic Regression\n",
    "cv = StratifiedKFold(n_splits=5, shuffle=True, random_state=42)\n",
    "pipeline = Pipeline([\n",
    "    ('scaler', StandardScaler()),\n",
    "    ('clf', LogisticRegression(solver='lbfgs',\n",
    "                               max_iter=1000,\n",
    "                               class_weight='balanced',\n",
    "                               random_state=42))\n",
    "])\n",
    "\n",
    "# Initialize and fit RFECV using ROC_AUC as scoring metrics\n",
    "rfecv = RFECV(estimator=pipeline,\n",
    "              step=1,\n",
    "              cv=cv,\n",
    "              scoring='roc_auc',\n",
    "              n_jobs=-1,\n",
    "              importance_getter=lambda est: est.named_steps['clf'].coef_[0])\n",
    "rfecv.fit(X_num, y)"
   ]
  },
  {
   "cell_type": "code",
   "execution_count": 1709,
   "metadata": {
    "id": "1I0kn-9qDPWy"
   },
   "outputs": [
    {
     "name": "stdout",
     "output_type": "stream",
     "text": [
      "                                feature  ranking  selected\n",
      "42  insured_relationship_other-relative        1      True\n",
      "44       insured_relationship_unmarried        1      True\n",
      "35                insured_hobbies_chess        1      True\n",
      "67             incident_city_Northbrook        1      True\n",
      "32  insured_occupation_transport-moving        1      True\n",
      "..                                  ...      ...       ...\n",
      "78                   auto_make_Mercedes       55     False\n",
      "64               incident_city_Columbus       56     False\n",
      "37            insured_hobbies_paintball       57     False\n",
      "46             incident_type_Parked Car       58     False\n",
      "13                     incident_quarter       59     False\n",
      "\n",
      "[85 rows x 3 columns]\n"
     ]
    }
   ],
   "source": [
    "# Display the features ranking by RFECV in a DataFrame\n",
    "ranking_df = pd.DataFrame({\n",
    "    'feature': X_num.columns,\n",
    "    'ranking': rfecv.ranking_,\n",
    "    'selected': rfecv.support_\n",
    "}).sort_values('ranking')\n",
    "\n",
    "print(ranking_df)\n"
   ]
  },
  {
   "cell_type": "markdown",
   "metadata": {
    "id": "KKdXnylEDPWz"
   },
   "source": [
    "#### **7.1.2** Retain the selected features <font color=\"red\">[1 Mark]</font>"
   ]
  },
  {
   "cell_type": "code",
   "execution_count": 1710,
   "metadata": {
    "id": "Q8TkAe72DPWz"
   },
   "outputs": [
    {
     "name": "stdout",
     "output_type": "stream",
     "text": [
      "Selected features:\n",
      "['insured_relationship_other-relative', 'insured_relationship_unmarried', 'insured_hobbies_chess', 'incident_city_Northbrook', 'insured_occupation_transport-moving', 'insured_occupation_prof-specialty', 'auto_make_Audi', 'incident_severity_Trivial Damage', 'insured_occupation_armed-forces', 'collision_type_Side Collision', 'insured_education_level_MD', 'insured_education_level_JD', 'auto_make_Other', 'insured_education_level_PhD', 'witnesses', 'property_damage_Unknown', 'policy_deductable', 'umbrella_limit', 'property_damage_YES', 'incident_severity_Total Loss', 'incident_severity_Minor Damage', 'total_claim_amount', 'insured_relationship_not-in-family', 'auto_year', 'incident_state_WV', 'claim_deduct_ratio', 'incident_state_VA']\n",
      "Number of selected features: 27\n"
     ]
    }
   ],
   "source": [
    "# Put columns selected by RFECV into variable 'col'\n",
    "col = ranking_df.loc[ranking_df['ranking'] == 1, 'feature'].tolist()\n",
    "\n",
    "print(\"Selected features:\", col,sep='\\n')\n",
    "print(\"Number of selected features:\", len(col))"
   ]
  },
  {
   "cell_type": "markdown",
   "metadata": {
    "id": "J8zNEaKcDPWz"
   },
   "source": [
    "### **7.2 Build Logistic Regression Model** <font color = red>[12 marks]</font>\n",
    "After selecting the optimal features using RFECV, utilise these features to build a logistic regression model with Statsmodels. This approach enables a detailed statistical analysis of the model, including the assessment of p-values and Variance Inflation Factors (VIFs). Evaluating these metrics is crucial for detecting multicollinearity and ensuring that the selected predictors are not highly correlated."
   ]
  },
  {
   "cell_type": "markdown",
   "metadata": {
    "id": "xXwl9DO3DPWz"
   },
   "source": [
    "#### **7.2.1** Select relevant features and add constant in training data <font color=\"red\">[1 Mark]</font>"
   ]
  },
  {
   "cell_type": "code",
   "execution_count": 1711,
   "metadata": {
    "id": "kF5g0yScDPWz"
   },
   "outputs": [],
   "source": [
    "# Select only the columns selected by RFECV\n",
    "X_sm = X_train_scaled[col]"
   ]
  },
  {
   "cell_type": "code",
   "execution_count": 1712,
   "metadata": {
    "id": "aBzSiNhrDPWz"
   },
   "outputs": [
    {
     "name": "stdout",
     "output_type": "stream",
     "text": [
      "   const  insured_relationship_other-relative  insured_relationship_unmarried  \\\n",
      "0    1.0                                    0                               0   \n",
      "1    1.0                                    1                               0   \n",
      "2    1.0                                    0                               1   \n",
      "3    1.0                                    0                               0   \n",
      "4    1.0                                    0                               0   \n",
      "\n",
      "   insured_hobbies_chess  incident_city_Northbrook  \\\n",
      "0                      0                         0   \n",
      "1                      0                         0   \n",
      "2                      0                         0   \n",
      "3                      0                         0   \n",
      "4                      0                         0   \n",
      "\n",
      "   insured_occupation_transport-moving  insured_occupation_prof-specialty  \\\n",
      "0                                    0                                  0   \n",
      "1                                    0                                  0   \n",
      "2                                    0                                  0   \n",
      "3                                    0                                  0   \n",
      "4                                    0                                  0   \n",
      "\n",
      "   auto_make_Audi  incident_severity_Trivial Damage  \\\n",
      "0               0                                 0   \n",
      "1               0                                 0   \n",
      "2               0                                 1   \n",
      "3               0                                 0   \n",
      "4               0                                 0   \n",
      "\n",
      "   insured_occupation_armed-forces  ...  umbrella_limit  property_damage_YES  \\\n",
      "0                                0  ...       -0.505166                    0   \n",
      "1                                0  ...       -0.505166                    0   \n",
      "2                                0  ...       -0.505166                    0   \n",
      "3                                0  ...        2.017467                    1   \n",
      "4                                0  ...       -0.505166                    0   \n",
      "\n",
      "   incident_severity_Total Loss  incident_severity_Minor Damage  \\\n",
      "0                             0                               0   \n",
      "1                             1                               0   \n",
      "2                             0                               0   \n",
      "3                             0                               1   \n",
      "4                             1                               0   \n",
      "\n",
      "   total_claim_amount  insured_relationship_not-in-family  auto_year  \\\n",
      "0           -0.421998                                   1   0.051747   \n",
      "1            1.021532                                   0  -0.616200   \n",
      "2           -1.967364                                   0   0.051747   \n",
      "3           -0.626462                                   0  -0.449213   \n",
      "4           -0.382770                                   0   1.053667   \n",
      "\n",
      "   incident_state_WV  claim_deduct_ratio  incident_state_VA  \n",
      "0                  0           -0.407267                  0  \n",
      "1                  1            2.003195                  0  \n",
      "2                  0           -1.091633                  0  \n",
      "3                  1           -0.513122                  0  \n",
      "4                  1           -0.854998                  0  \n",
      "\n",
      "[5 rows x 28 columns]\n"
     ]
    }
   ],
   "source": [
    "# Import statsmodels and add constant\n",
    "import statsmodels.api as sm\n",
    "\n",
    "X_sm = sm.add_constant(X_sm)\n",
    "\n",
    "# Check the data\n",
    "print(X_sm.head())"
   ]
  },
  {
   "cell_type": "markdown",
   "metadata": {
    "id": "jc9wYqe8DPW0"
   },
   "source": [
    "#### **7.2.2** Fit logistic regression model <font color=\"red\">[2 Marks]</font>"
   ]
  },
  {
   "cell_type": "code",
   "execution_count": 1713,
   "metadata": {
    "id": "2VTpvsZsDPW0"
   },
   "outputs": [
    {
     "name": "stdout",
     "output_type": "stream",
     "text": [
      "Optimization terminated successfully.\n",
      "         Current function value: 0.352026\n",
      "         Iterations 8\n",
      "Model Summary:\n",
      "\n",
      "                           Logit Regression Results                           \n",
      "==============================================================================\n",
      "Dep. Variable:         fraud_reported   No. Observations:                 1052\n",
      "Model:                          Logit   Df Residuals:                     1024\n",
      "Method:                           MLE   Df Model:                           27\n",
      "Date:                Wed, 23 Apr 2025   Pseudo R-squ.:                  0.4921\n",
      "Time:                        16:10:17   Log-Likelihood:                -370.33\n",
      "converged:                       True   LL-Null:                       -729.19\n",
      "Covariance Type:            nonrobust   LLR p-value:                7.378e-134\n",
      "=======================================================================================================\n",
      "                                          coef    std err          z      P>|z|      [0.025      0.975]\n",
      "-------------------------------------------------------------------------------------------------------\n",
      "const                                   0.5509      0.260      2.122      0.034       0.042       1.060\n",
      "insured_relationship_other-relative     0.6601      0.271      2.432      0.015       0.128       1.192\n",
      "insured_relationship_unmarried          1.0510      0.289      3.642      0.000       0.485       1.617\n",
      "insured_hobbies_chess                   6.2549      0.664      9.423      0.000       4.954       7.556\n",
      "incident_city_Northbrook               -0.8463      0.344     -2.460      0.014      -1.520      -0.172\n",
      "insured_occupation_transport-moving     0.9169      0.321      2.861      0.004       0.289       1.545\n",
      "insured_occupation_prof-specialty       0.6413      0.338      1.898      0.058      -0.021       1.303\n",
      "auto_make_Audi                          1.0678      0.343      3.113      0.002       0.395       1.740\n",
      "incident_severity_Trivial Damage       -4.5969      0.643     -7.154      0.000      -5.856      -3.337\n",
      "insured_occupation_armed-forces         0.7038      0.411      1.714      0.087      -0.101       1.509\n",
      "collision_type_Side Collision          -0.7559      0.228     -3.310      0.001      -1.204      -0.308\n",
      "insured_education_level_MD              0.8578      0.287      2.991      0.003       0.296       1.420\n",
      "insured_education_level_JD              0.6227      0.270      2.302      0.021       0.093       1.153\n",
      "auto_make_Other                         0.7951      0.441      1.803      0.071      -0.069       1.660\n",
      "insured_education_level_PhD             0.5456      0.297      1.835      0.067      -0.037       1.129\n",
      "witnesses                               0.4208      0.102      4.144      0.000       0.222       0.620\n",
      "property_damage_Unknown                 0.4041      0.235      1.720      0.085      -0.056       0.865\n",
      "policy_deductable                       0.6291      0.194      3.239      0.001       0.248       1.010\n",
      "umbrella_limit                          0.3031      0.096      3.165      0.002       0.115       0.491\n",
      "property_damage_YES                     0.6349      0.247      2.568      0.010       0.150       1.119\n",
      "incident_severity_Total Loss           -3.3121      0.258    -12.858      0.000      -3.817      -2.807\n",
      "incident_severity_Minor Damage         -3.8658      0.279    -13.836      0.000      -4.413      -3.318\n",
      "total_claim_amount                     -0.3079      0.190     -1.624      0.104      -0.679       0.064\n",
      "insured_relationship_not-in-family      1.1195      0.273      4.106      0.000       0.585       1.654\n",
      "auto_year                              -0.2127      0.101     -2.106      0.035      -0.411      -0.015\n",
      "incident_state_WV                      -0.9204      0.269     -3.422      0.001      -1.447      -0.393\n",
      "claim_deduct_ratio                      0.7571      0.246      3.082      0.002       0.276       1.239\n",
      "incident_state_VA                       0.7724      0.300      2.573      0.010       0.184       1.361\n",
      "=======================================================================================================\n"
     ]
    }
   ],
   "source": [
    "# Fit a logistic Regression model on X_train after adding a constant and output the summary\n",
    "model = sm.Logit(y_train_resampled, X_sm).fit()\n",
    "print(\"Model Summary:\\n\")\n",
    "print(model.summary())"
   ]
  },
  {
   "cell_type": "markdown",
   "metadata": {},
   "source": [
    "# Inference\n",
    "\n",
    "Key findings from the logistic regression model:\n",
    "\n",
    "1. Strong Positive Associations with Fraud:\n",
    "   - Chess as insured hobby (coef: +6.25, p<0.001) - Unusually strong effect, may need investigation\n",
    "   - Unmarried status (coef: +1.05, p<0.001)\n",
    "   - Not-in-family relationship (coef: +1.12, p<0.001)\n",
    "   - Audi vehicles (coef: +1.07, p=0.002)\n",
    "\n",
    "2. Strong Negative Associations with Fraud:\n",
    "   - Trivial damage incidents (coef: -4.60, p<0.001)\n",
    "   - Minor damage (coef: -3.87, p<0.001)\n",
    "   - Total loss incidents (coef: -3.31, p<0.001)\n",
    "\n",
    "3. Education Level Effects:\n",
    "   - MD degree holders (coef: +0.86, p=0.003)\n",
    "   - JD degree holders (coef: +0.62, p=0.021)\n",
    "   - Both show higher fraud likelihood\n",
    "\n",
    "4. Claim-Related Factors:\n",
    "   - Higher witnesses count increases fraud likelihood (coef: +0.42, p<0.001)\n",
    "   - Property damage presence (coef: +0.63, p=0.010)\n",
    "   - Higher claim-to-deductible ratio (coef: +0.76, p=0.002)\n",
    "\n",
    "5. Insurance Policy Factors:\n",
    "   - Higher policy deductible (coef: +0.63, p=0.001)\n",
    "   - Higher umbrella limit (coef: +0.30, p=0.002)\n",
    "   - Both associated with increased fraud risk\n",
    "\n",
    "6. Geographic Patterns:\n",
    "   - Virginia shows higher fraud (coef: +0.77, p=0.010)\n",
    "   - West Virginia shows lower fraud (coef: -0.92, p=0.001)\n",
    "   - Northbrook city shows lower fraud (coef: -0.85, p=0.014)\n",
    "\n",
    "7. Vehicle Characteristics:\n",
    "   - Older vehicles associated with fewer fraud cases (coef: -0.21, p=0.035)\n",
    "\n",
    "8. Occupation Impact:\n",
    "   - Transport-moving occupation shows higher fraud risk (coef: +0.92, p=0.004)"
   ]
  },
  {
   "cell_type": "markdown",
   "metadata": {
    "id": "XBd9hyWgDPW0"
   },
   "source": [
    "**Model Interpretation**\n",
    "\n",
    "The output summary table will provide the features used for building model along with coefficient of each of the feature and their p-value. The p-value in a logistic regression model is used to assess the statistical significance of each coefficient. Lesser the p-value, more significant the feature is in the model.\n",
    "\n",
    "A positive coefficient will indicate that an increase in the value of feature would increase the odds of the event occurring. On the other hand, a negative coefficient means the opposite, i.e, an increase in the value of feature would decrease the odds of the event occurring."
   ]
  },
  {
   "cell_type": "markdown",
   "metadata": {
    "id": "VnhgDNCNDPW0"
   },
   "source": [
    "Now check VIFs for presence of multicollinearity in the model."
   ]
  },
  {
   "cell_type": "markdown",
   "metadata": {
    "id": "xLTRjCqCDPW0"
   },
   "source": [
    "#### **7.2.3** Evaluate VIF of features to assess multicollinearity <font color=\"red\">[2 Marks]</font>"
   ]
  },
  {
   "cell_type": "code",
   "execution_count": 1714,
   "metadata": {
    "id": "MOIppRgGDPW0"
   },
   "outputs": [],
   "source": [
    "# Import 'variance_inflation_factor'\n",
    "from statsmodels.stats.outliers_influence import variance_inflation_factor"
   ]
  },
  {
   "cell_type": "code",
   "execution_count": 1715,
   "metadata": {
    "id": "Xwb2dA9XDPW0"
   },
   "outputs": [
    {
     "name": "stdout",
     "output_type": "stream",
     "text": [
      "\n",
      "Variance Inflation Factors:\n",
      "                                feature       VIF\n",
      "0                                 const  8.562682\n",
      "1   insured_relationship_other-relative  1.185146\n",
      "2        insured_relationship_unmarried  1.179001\n",
      "3                 insured_hobbies_chess  1.126390\n",
      "4              incident_city_Northbrook  1.042892\n",
      "5   insured_occupation_transport-moving  1.097791\n",
      "6     insured_occupation_prof-specialty  1.089897\n",
      "7                        auto_make_Audi  1.111164\n",
      "8      incident_severity_Trivial Damage  1.605969\n",
      "9       insured_occupation_armed-forces  1.097431\n",
      "10        collision_type_Side Collision  1.111867\n",
      "11           insured_education_level_MD  1.189355\n",
      "12           insured_education_level_JD  1.135936\n",
      "13                      auto_make_Other  1.051569\n",
      "14          insured_education_level_PhD  1.117695\n",
      "15                            witnesses  1.058863\n",
      "16              property_damage_Unknown  1.464982\n",
      "17                    policy_deductable  3.779188\n",
      "18                       umbrella_limit  1.057879\n",
      "19                  property_damage_YES  1.475973\n",
      "20         incident_severity_Total Loss  1.321143\n",
      "21       incident_severity_Minor Damage  1.449125\n",
      "22                   total_claim_amount  3.943157\n",
      "23   insured_relationship_not-in-family  1.192344\n",
      "24                            auto_year  1.093043\n",
      "25                    incident_state_WV  1.138668\n",
      "26                   claim_deduct_ratio  6.263392\n",
      "27                    incident_state_VA  1.083949\n"
     ]
    }
   ],
   "source": [
    "# Make a VIF DataFrame for all the variables present\n",
    "vif = pd.DataFrame({\n",
    "    'feature': X_sm.columns,\n",
    "    'VIF': [variance_inflation_factor(X_sm.values, i) for i in range(X_sm.shape[1])]\n",
    "})\n",
    "print(\"\\nVariance Inflation Factors:\")\n",
    "print(vif)"
   ]
  },
  {
   "cell_type": "markdown",
   "metadata": {},
   "source": [
    "#### Inference\n",
    "| Feature | VIF | Interpretation |\n",
    "|---------|-----|----------------|\n",
    "| const | 113466 | The intercept always shows a huge VIF—ignore this |\n",
    "| policy_deductable | 3.03 | Moderate correlation with other predictors, but well under 5 |\n",
    "| umbrella_limit | 1.01 | Virtually no collinearity |\n",
    "| witnesses | 1.01 | Virtually no collinearity |\n",
    "| total_claim_amount | 3.29 | Moderate correlation—again acceptable (< 5) |\n",
    "| auto_year | 1.00 | No collinearity concern |\n",
    "| claim_deduct_ratio | 5.43 | Borderline high—this ratio is naturally correlated with its components (total_claim_amount and policy_deductable) |\n",
    "\n",
    "\n",
    "Overall, all predictors except the intercept have VIFs well below the usual cutoff of 10 (and most below 5), indicating that multicollinearity is not a serious issue for this model."
   ]
  },
  {
   "cell_type": "code",
   "execution_count": 1716,
   "metadata": {},
   "outputs": [
    {
     "name": "stdout",
     "output_type": "stream",
     "text": [
      "\n",
      "Features with p-values > 0.05:\n",
      "Index(['insured_occupation_prof-specialty', 'insured_occupation_armed-forces',\n",
      "       'auto_make_Other', 'insured_education_level_PhD',\n",
      "       'property_damage_Unknown', 'total_claim_amount'],\n",
      "      dtype='object')\n",
      "Optimization terminated successfully.\n",
      "         Current function value: 0.361633\n",
      "         Iterations 8\n",
      "\n",
      "Updated Model Summary:\n",
      "                           Logit Regression Results                           \n",
      "==============================================================================\n",
      "Dep. Variable:         fraud_reported   No. Observations:                 1052\n",
      "Model:                          Logit   Df Residuals:                     1030\n",
      "Method:                           MLE   Df Model:                           21\n",
      "Date:                Wed, 23 Apr 2025   Pseudo R-squ.:                  0.4783\n",
      "Time:                        16:10:17   Log-Likelihood:                -380.44\n",
      "converged:                       True   LL-Null:                       -729.19\n",
      "Covariance Type:            nonrobust   LLR p-value:                4.468e-134\n",
      "=======================================================================================================\n",
      "                                          coef    std err          z      P>|z|      [0.025      0.975]\n",
      "-------------------------------------------------------------------------------------------------------\n",
      "const                                   0.9878      0.201      4.909      0.000       0.593       1.382\n",
      "insured_relationship_other-relative     0.5199      0.269      1.930      0.054      -0.008       1.048\n",
      "insured_relationship_unmarried          0.9644      0.273      3.536      0.000       0.430       1.499\n",
      "insured_hobbies_chess                   6.0847      0.657      9.268      0.000       4.798       7.371\n",
      "incident_city_Northbrook               -0.8349      0.337     -2.476      0.013      -1.496      -0.174\n",
      "insured_occupation_transport-moving     0.7392      0.307      2.410      0.016       0.138       1.340\n",
      "auto_make_Audi                          1.0497      0.335      3.133      0.002       0.393       1.706\n",
      "incident_severity_Trivial Damage       -4.1654      0.588     -7.080      0.000      -5.318      -3.012\n",
      "collision_type_Side Collision          -0.7822      0.222     -3.527      0.000      -1.217      -0.348\n",
      "insured_education_level_MD              0.8196      0.277      2.961      0.003       0.277       1.362\n",
      "insured_education_level_JD              0.5239      0.260      2.011      0.044       0.013       1.034\n",
      "witnesses                               0.4085      0.099      4.132      0.000       0.215       0.602\n",
      "policy_deductable                       0.4001      0.149      2.683      0.007       0.108       0.692\n",
      "umbrella_limit                          0.2881      0.096      2.998      0.003       0.100       0.476\n",
      "property_damage_YES                     0.4243      0.205      2.071      0.038       0.023       0.826\n",
      "incident_severity_Total Loss           -3.2487      0.250    -12.971      0.000      -3.740      -2.758\n",
      "incident_severity_Minor Damage         -3.6240      0.257    -14.109      0.000      -4.127      -3.121\n",
      "insured_relationship_not-in-family      1.0352      0.266      3.885      0.000       0.513       1.558\n",
      "auto_year                              -0.2341      0.098     -2.384      0.017      -0.427      -0.042\n",
      "incident_state_WV                      -0.8310      0.264     -3.147      0.002      -1.349      -0.313\n",
      "claim_deduct_ratio                      0.4788      0.163      2.940      0.003       0.160       0.798\n",
      "incident_state_VA                       0.7225      0.297      2.435      0.015       0.141       1.304\n",
      "=======================================================================================================\n"
     ]
    }
   ],
   "source": [
    "# Get p-values from the model summary\n",
    "p_values = model.pvalues\n",
    "\n",
    "# Identify features with p-values > 0.05\n",
    "high_p_features = p_values[p_values > 0.05].index\n",
    "\n",
    "print(\"\\nFeatures with p-values > 0.05:\")\n",
    "print(high_p_features)\n",
    "\n",
    "# Drop features with high p-values\n",
    "X_sm_significant = X_sm.drop(columns=high_p_features)\n",
    "\n",
    "# Retrain model with significant features only\n",
    "model = sm.Logit(y_train_resampled, sm.add_constant(X_sm_significant)).fit()\n",
    "\n",
    "print(\"\\nUpdated Model Summary:\")\n",
    "print(model.summary())"
   ]
  },
  {
   "cell_type": "code",
   "execution_count": 1717,
   "metadata": {},
   "outputs": [
    {
     "name": "stdout",
     "output_type": "stream",
     "text": [
      "\n",
      "Updated Variance Inflation Factors after dropping high p-value features:\n",
      "                                feature       VIF\n",
      "0                                 const  5.600090\n",
      "1   insured_relationship_other-relative  1.171176\n",
      "2        insured_relationship_unmarried  1.140711\n",
      "3                 insured_hobbies_chess  1.088079\n",
      "4              incident_city_Northbrook  1.040782\n",
      "5   insured_occupation_transport-moving  1.076197\n",
      "6                        auto_make_Audi  1.099025\n",
      "7      incident_severity_Trivial Damage  1.422202\n",
      "8         collision_type_Side Collision  1.080450\n",
      "9            insured_education_level_MD  1.144430\n",
      "10           insured_education_level_JD  1.065896\n",
      "11                            witnesses  1.055428\n",
      "12                    policy_deductable  2.193917\n",
      "13                       umbrella_limit  1.053137\n",
      "14                  property_damage_YES  1.067529\n",
      "15         incident_severity_Total Loss  1.290525\n",
      "16       incident_severity_Minor Damage  1.373947\n",
      "17   insured_relationship_not-in-family  1.184888\n",
      "18                            auto_year  1.063683\n",
      "19                    incident_state_WV  1.126027\n",
      "20                   claim_deduct_ratio  2.554045\n",
      "21                    incident_state_VA  1.078045\n"
     ]
    }
   ],
   "source": [
    "# Recalculate VIF after dropping high p-value features\n",
    "vif_updated = pd.DataFrame({\n",
    "    'feature': X_sm_significant.columns,\n",
    "    'VIF': [variance_inflation_factor(X_sm_significant.values, i) for i in range(X_sm_significant.shape[1])]\n",
    "})\n",
    "\n",
    "print(\"\\nUpdated Variance Inflation Factors after dropping high p-value features:\")\n",
    "print(vif_updated)\n",
    "\n"
   ]
  },
  {
   "cell_type": "code",
   "execution_count": 1718,
   "metadata": {},
   "outputs": [
    {
     "name": "stdout",
     "output_type": "stream",
     "text": [
      "\n",
      "Selected Features and their Impact (sorted by absolute coefficient value):\n",
      "                                                                 Feature  \\\n",
      "insured_hobbies_chess                              insured_hobbies_chess   \n",
      "incident_severity_Trivial Damage        incident_severity_Trivial Damage   \n",
      "incident_severity_Minor Damage            incident_severity_Minor Damage   \n",
      "incident_severity_Total Loss                incident_severity_Total Loss   \n",
      "auto_make_Audi                                            auto_make_Audi   \n",
      "insured_relationship_not-in-family    insured_relationship_not-in-family   \n",
      "insured_relationship_unmarried            insured_relationship_unmarried   \n",
      "incident_city_Northbrook                        incident_city_Northbrook   \n",
      "incident_state_WV                                      incident_state_WV   \n",
      "insured_education_level_MD                    insured_education_level_MD   \n",
      "collision_type_Side Collision              collision_type_Side Collision   \n",
      "insured_occupation_transport-moving  insured_occupation_transport-moving   \n",
      "incident_state_VA                                      incident_state_VA   \n",
      "insured_education_level_JD                    insured_education_level_JD   \n",
      "insured_relationship_other-relative  insured_relationship_other-relative   \n",
      "claim_deduct_ratio                                    claim_deduct_ratio   \n",
      "property_damage_YES                                  property_damage_YES   \n",
      "witnesses                                                      witnesses   \n",
      "policy_deductable                                      policy_deductable   \n",
      "umbrella_limit                                            umbrella_limit   \n",
      "auto_year                                                      auto_year   \n",
      "\n",
      "                                     Coefficient       P-value  \n",
      "insured_hobbies_chess                   6.084673  1.901876e-20  \n",
      "incident_severity_Trivial Damage       -4.165398  1.436930e-12  \n",
      "incident_severity_Minor Damage         -3.623951  3.331332e-45  \n",
      "incident_severity_Total Loss           -3.248719  1.786973e-38  \n",
      "auto_make_Audi                          1.049724  1.730178e-03  \n",
      "insured_relationship_not-in-family      1.035219  1.024010e-04  \n",
      "insured_relationship_unmarried          0.964432  4.069426e-04  \n",
      "incident_city_Northbrook               -0.834945  1.326955e-02  \n",
      "incident_state_WV                      -0.831016  1.651062e-03  \n",
      "insured_education_level_MD              0.819568  3.067244e-03  \n",
      "collision_type_Side Collision          -0.782188  4.204150e-04  \n",
      "insured_occupation_transport-moving     0.739204  1.594190e-02  \n",
      "incident_state_VA                       0.722543  1.490042e-02  \n",
      "insured_education_level_JD              0.523872  4.428837e-02  \n",
      "insured_relationship_other-relative     0.519896  5.355520e-02  \n",
      "claim_deduct_ratio                      0.478750  3.284417e-03  \n",
      "property_damage_YES                     0.424291  3.835757e-02  \n",
      "witnesses                               0.408502  3.596831e-05  \n",
      "policy_deductable                       0.400112  7.300394e-03  \n",
      "umbrella_limit                          0.288056  2.718802e-03  \n",
      "auto_year                              -0.234079  1.713802e-02  \n",
      "\n",
      "Total number of significant features: 21\n"
     ]
    }
   ],
   "source": [
    "# Get the selected features and their coefficients\n",
    "selected_features_logreg = model.params.index[1:]  # Skip the constant term\n",
    "coefficients = model.params[1:]\n",
    "\n",
    "# Create a DataFrame to display features and their coefficients\n",
    "feature_importance = pd.DataFrame({\n",
    "    'Feature': selected_features_logreg,\n",
    "    'Coefficient': coefficients,\n",
    "    'P-value': model.pvalues[1:]\n",
    "})\n",
    "\n",
    "# Sort by absolute coefficient value to see most influential features\n",
    "feature_importance['Abs_Coefficient'] = abs(feature_importance['Coefficient'])\n",
    "feature_importance = feature_importance.sort_values('Abs_Coefficient', ascending=False)\n",
    "\n",
    "print(\"\\nSelected Features and their Impact (sorted by absolute coefficient value):\")\n",
    "print(feature_importance.drop('Abs_Coefficient', axis=1))\n",
    "\n",
    "# Count number of selected features\n",
    "print(f\"\\nTotal number of significant features: {len(selected_features_logreg)}\")"
   ]
  },
  {
   "cell_type": "markdown",
   "metadata": {},
   "source": [
    "## Inferences:\n",
    "\n",
    "1. Demographic Factors\n",
    "- Unmarried individuals (+0.96, p<0.001) and non-family claims (+1.04, p<0.001) show higher fraud likelihood\n",
    "- Higher education levels correlate with fraud (MD: +0.82, p=0.003; JD: +0.52, p=0.044)\n",
    "- Transport/moving occupation shows elevated fraud risk (+0.74, p=0.016)\n",
    "\n",
    "2. Incident Characteristics  \n",
    "- Trivial (-4.17), Minor (-3.62), and Total Loss (-3.25) damage all strongly indicate genuine claims (p<0.001)\n",
    "- Side collisions less likely fraudulent (-0.78, p<0.001)\n",
    "- Property damage presence increases fraud likelihood (+0.42, p=0.038)\n",
    "- More witnesses correlate with fraud (+0.41, p<0.001), possibly indicating staged events\n",
    "\n",
    "3. Policy/Claims Factors\n",
    "- Higher deductibles (+0.40, p=0.007) and umbrella limits (+0.29, p=0.003) increase fraud odds\n",
    "- Claim-to-deductible ratio strongly predicts fraud (+0.48, p=0.003)\n",
    "\n",
    "4. Vehicle Factors\n",
    "- Audi ownership shows higher fraud rates (+1.05, p=0.002), possibly as luxury proxy\n",
    "- Older vehicles associated with fewer fraudulent claims (-0.23, p=0.017)\n",
    "\n",
    "5. Geographic Patterns\n",
    "- Northbrook shows lower fraud incidence (-0.83, p=0.013)\n",
    "- State-level variations: WV lower (-0.83, p=0.002), VA higher (+0.72, p=0.015)\n",
    "\n",
    "6. Notable Outlier\n",
    "- Chess as hobby shows extremely strong fraud correlation (+6.08, p<0.001)\n"
   ]
  },
  {
   "cell_type": "markdown",
   "metadata": {},
   "source": [
    "VIF Analysis:\n",
    "1. Constant term (intercept):\n",
    "    - VIF = 5.60\n",
    "    - Slightly elevated but acceptable for intercept term\n",
    "\n",
    "2. All other features:\n",
    "    - VIF range: 1.04 to 2.55\n",
    "    - All VIF values well below threshold of 5\n",
    "    - Indicates no concerning multicollinearity between predictors\n",
    "    - Model variables show good independence from each other"
   ]
  },
  {
   "cell_type": "markdown",
   "metadata": {
    "id": "2RMrfSNPDPW1"
   },
   "source": [
    "Proceed to the next step if p-values and VIFs are within acceptable ranges. If you observe high p-values or VIFs, drop the features and retrain the model. <font color=\"red\">[THIS IS OPTIONAL]</font>"
   ]
  },
  {
   "cell_type": "markdown",
   "metadata": {
    "id": "68j2g6bRDPW1"
   },
   "source": [
    "#### **7.2.4** Make predictions on training data <font color = \"red\">[1 Mark]</font>"
   ]
  },
  {
   "cell_type": "code",
   "execution_count": 1719,
   "metadata": {
    "id": "5DT1M3O9DPW1"
   },
   "outputs": [
    {
     "name": "stdout",
     "output_type": "stream",
     "text": [
      "[[0.79104955]\n",
      " [0.0691817 ]\n",
      " [0.06797583]\n",
      " ...\n",
      " [0.94699623]\n",
      " [0.13361981]\n",
      " [0.37441389]]\n"
     ]
    }
   ],
   "source": [
    "# Predict the probabilities on the training data\n",
    "train_probs = model.predict(X_sm_significant)\n",
    "\n",
    "# Reshape it into an array\n",
    "train_probs = np.array(train_probs).reshape(-1, 1)\n",
    "\n",
    "print(train_probs)"
   ]
  },
  {
   "cell_type": "markdown",
   "metadata": {
    "id": "_j4gJDUzDPW1"
   },
   "source": [
    "#### **7.2.5** Create a DataFrame that includes actual fraud reported flags, predicted probabilities, and a column indicating predicted classifications based on a cutoff value of 0.5 <font color=\"red\">[1 Mark]</font>\n",
    "\n"
   ]
  },
  {
   "cell_type": "code",
   "execution_count": 1720,
   "metadata": {
    "id": "nDaW7LS_DPW1"
   },
   "outputs": [
    {
     "data": {
      "text/html": [
       "<div>\n",
       "<style scoped>\n",
       "    .dataframe tbody tr th:only-of-type {\n",
       "        vertical-align: middle;\n",
       "    }\n",
       "\n",
       "    .dataframe tbody tr th {\n",
       "        vertical-align: top;\n",
       "    }\n",
       "\n",
       "    .dataframe thead th {\n",
       "        text-align: right;\n",
       "    }\n",
       "</style>\n",
       "<table border=\"1\" class=\"dataframe\">\n",
       "  <thead>\n",
       "    <tr style=\"text-align: right;\">\n",
       "      <th></th>\n",
       "      <th>actual_fraud</th>\n",
       "      <th>pred_prob</th>\n",
       "      <th>pred_class</th>\n",
       "    </tr>\n",
       "  </thead>\n",
       "  <tbody>\n",
       "    <tr>\n",
       "      <th>0</th>\n",
       "      <td>0</td>\n",
       "      <td>0.791050</td>\n",
       "      <td>1</td>\n",
       "    </tr>\n",
       "    <tr>\n",
       "      <th>1</th>\n",
       "      <td>0</td>\n",
       "      <td>0.069182</td>\n",
       "      <td>0</td>\n",
       "    </tr>\n",
       "    <tr>\n",
       "      <th>2</th>\n",
       "      <td>0</td>\n",
       "      <td>0.067976</td>\n",
       "      <td>0</td>\n",
       "    </tr>\n",
       "    <tr>\n",
       "      <th>3</th>\n",
       "      <td>0</td>\n",
       "      <td>0.036835</td>\n",
       "      <td>0</td>\n",
       "    </tr>\n",
       "    <tr>\n",
       "      <th>4</th>\n",
       "      <td>0</td>\n",
       "      <td>0.092837</td>\n",
       "      <td>0</td>\n",
       "    </tr>\n",
       "  </tbody>\n",
       "</table>\n",
       "</div>"
      ],
      "text/plain": [
       "   actual_fraud  pred_prob  pred_class\n",
       "0             0   0.791050           1\n",
       "1             0   0.069182           0\n",
       "2             0   0.067976           0\n",
       "3             0   0.036835           0\n",
       "4             0   0.092837           0"
      ]
     },
     "execution_count": 1720,
     "metadata": {},
     "output_type": "execute_result"
    }
   ],
   "source": [
    "# Create a new DataFrame containing the actual fraud reported flag and the probabilities predicted by the model\n",
    "\n",
    "train_probs = model.predict(X_sm_significant)\n",
    "# Classify using a 0.5 cutoff\n",
    "train_preds = (train_probs >= 0.5).astype(int)\n",
    "\n",
    "# Construct the results DataFrame\n",
    "df_train_results = pd.DataFrame({\n",
    "    'actual_fraud': y_train_resampled,\n",
    "    'pred_prob': train_probs,\n",
    "    'pred_class': train_preds\n",
    "})\n",
    "\n",
    "# Show the first few rows\n",
    "df_train_results.head()\n"
   ]
  },
  {
   "cell_type": "markdown",
   "metadata": {
    "id": "6rXpNOgtDPW1"
   },
   "source": [
    "**Model performance evaluation**\n",
    "\n",
    "Evaluate the performance of the model based on predictions made on the training data."
   ]
  },
  {
   "cell_type": "code",
   "execution_count": 1721,
   "metadata": {},
   "outputs": [
    {
     "name": "stdout",
     "output_type": "stream",
     "text": [
      "Model Performance Metrics:\n",
      "-------------------------\n",
      "Accuracy: 0.871\n",
      "Precision: 0.867\n",
      "Recall: 0.876\n",
      "F1 Score: 0.871\n"
     ]
    }
   ],
   "source": [
    "# Calculate various performance metrics\n",
    "from sklearn import metrics\n",
    "print(\"Model Performance Metrics:\")\n",
    "print(\"-\" * 25)\n",
    "\n",
    "# Classification accuracy\n",
    "accuracy = (df_train_results['actual_fraud'] == df_train_results['pred_class']).mean()\n",
    "print(f\"Accuracy: {accuracy:.3f}\")\n",
    "\n",
    "# Precision, recall, and F1 score\n",
    "precision = metrics.precision_score(df_train_results['actual_fraud'], df_train_results['pred_class'])\n",
    "recall = metrics.recall_score(df_train_results['actual_fraud'], df_train_results['pred_class']) \n",
    "f1 = metrics.f1_score(df_train_results['actual_fraud'], df_train_results['pred_class'])\n",
    "\n",
    "print(f\"Precision: {precision:.3f}\")\n",
    "print(f\"Recall: {recall:.3f}\") \n",
    "print(f\"F1 Score: {f1:.3f}\")\n"
   ]
  },
  {
   "cell_type": "markdown",
   "metadata": {
    "id": "cornkRdjDPW2"
   },
   "source": [
    "#### **7.2.6** Check the accuracy of the model <font color = \"red\">[1 Mark]</font>"
   ]
  },
  {
   "cell_type": "code",
   "execution_count": 1722,
   "metadata": {
    "id": "w0tyT2xgDPW2"
   },
   "outputs": [
    {
     "name": "stdout",
     "output_type": "stream",
     "text": [
      "Training Accuracy: 0.871\n"
     ]
    }
   ],
   "source": [
    "# Import metrics from sklearn for evaluation\n",
    "from sklearn import metrics\n",
    "\n",
    "# Check the accuracy of the model\n",
    "y_true = df_train_results['actual_fraud']\n",
    "y_pred = df_train_results['pred_class']\n",
    "\n",
    "# Compute accuracy\n",
    "accuracy = metrics.accuracy_score(y_true, y_pred)\n",
    "print(f\"Training Accuracy: {accuracy:.3f}\")"
   ]
  },
  {
   "cell_type": "markdown",
   "metadata": {
    "id": "mQPieExsDPW2"
   },
   "source": [
    "#### **7.2.7** Create a confusion matrix based on the predictions made on the training data <font color=\"red\">[1 Mark]</font>"
   ]
  },
  {
   "cell_type": "code",
   "execution_count": 1723,
   "metadata": {
    "id": "1v1XZbNkDPW2"
   },
   "outputs": [
    {
     "name": "stdout",
     "output_type": "stream",
     "text": [
      "[[455  71]\n",
      " [ 65 461]]\n"
     ]
    }
   ],
   "source": [
    "# Create confusion matrix\n",
    "cm = metrics.confusion_matrix(y_true, y_pred)\n",
    "print(cm)\n"
   ]
  },
  {
   "cell_type": "markdown",
   "metadata": {
    "id": "CVWR_SjqKPQF"
   },
   "source": [
    "#### **7.2.8** Create variables for true positive, true negative, false positive and false negative <font color=\"red\">[1 Mark]</font>"
   ]
  },
  {
   "cell_type": "code",
   "execution_count": 1724,
   "metadata": {
    "id": "JaXLtV-HKPgY"
   },
   "outputs": [
    {
     "name": "stdout",
     "output_type": "stream",
     "text": [
      "True Positives: 461\n",
      "True Negatives: 455\n",
      "False Positives: 71\n",
      "False Negatives: 65\n"
     ]
    }
   ],
   "source": [
    "# Create variables for true positive, true negative, false positive and false negative\n",
    "tp = cm[1, 1]\n",
    "tn = cm[0, 0]\n",
    "fp = cm[0, 1]\n",
    "fn = cm[1, 0]\n",
    "print(f\"True Positives: {tp}\")\n",
    "print(f\"True Negatives: {tn}\")\n",
    "print(f\"False Positives: {fp}\")\n",
    "print(f\"False Negatives: {fn}\")"
   ]
  },
  {
   "cell_type": "markdown",
   "metadata": {
    "id": "UkO5we1NDPW3"
   },
   "source": [
    "#### **7.2.9** Calculate sensitivity, specificity, precision, recall and F1-score <font color=\"red\">[2 Marks]</font>"
   ]
  },
  {
   "cell_type": "code",
   "execution_count": 1725,
   "metadata": {
    "id": "K5GpJK5CDPW3"
   },
   "outputs": [
    {
     "name": "stdout",
     "output_type": "stream",
     "text": [
      "Sensitivity: 0.876\n",
      "Specificity: 0.865\n",
      "Precision: 0.867\n",
      "Recall: 0.876\n",
      "F1 Score: 0.871\n"
     ]
    }
   ],
   "source": [
    "# Calculate the sensitivity\n",
    "sensitivity = tp / (tp + fn)\n",
    "print(f\"Sensitivity: {sensitivity:.3f}\")\n",
    "\n",
    "# Calculate the specificity\n",
    "specificity = tn / (tn + fp)\n",
    "print(f\"Specificity: {specificity:.3f}\")\n",
    "\n",
    "# Calculate Precision\n",
    "precision = tp / (tp + fp)\n",
    "print(f\"Precision: {precision:.3f}\")\n",
    "\n",
    "# Calculate Recall\n",
    "recall = tp / (tp + fn)\n",
    "print(f\"Recall: {recall:.3f}\")\n",
    "\n",
    "# Calculate F1 Score\n",
    "f1_score = 2 * (precision * recall) / (precision + recall)\n",
    "print(f\"F1 Score: {f1_score:.3f}\")\n"
   ]
  },
  {
   "cell_type": "markdown",
   "metadata": {
    "id": "gIFdLeULDPW4"
   },
   "source": [
    "### **7.3 Find the Optimal Cutoff** <font color = red>[12 marks]</font>\n",
    "Find the optimal cutoff to improve model performance by evaluating various cutoff values and their impact on relevant metrics."
   ]
  },
  {
   "cell_type": "markdown",
   "metadata": {
    "id": "-un_98BlDPW4"
   },
   "source": [
    "#### **7.3.1** Plot ROC Curve  to visualise the trade-off between true positive rate and false positive rate across different classification thresholds <font color=\"red\">[2 Marks]</font>"
   ]
  },
  {
   "cell_type": "code",
   "execution_count": 1726,
   "metadata": {
    "id": "SfRY65pZDPW5"
   },
   "outputs": [
    {
     "name": "stdout",
     "output_type": "stream",
     "text": [
      "Training ROC‑AUC: 0.871\n"
     ]
    }
   ],
   "source": [
    "# Import libraries or function to plot the ROC curve\n",
    "from sklearn.metrics import roc_auc_score\n",
    "\n",
    "# Define ROC function\n",
    "auc = roc_auc_score(y_true, y_pred)\n",
    "print(f\"Training ROC‑AUC: {auc:.3f}\")\n"
   ]
  },
  {
   "cell_type": "code",
   "execution_count": 1727,
   "metadata": {
    "id": "nGlAWkJDDPW6"
   },
   "outputs": [
    {
     "data": {
      "image/png": "[encoded data removed]",
      "text/plain": [
       "<Figure size 576x432 with 1 Axes>"
      ]
     },
     "metadata": {
      "needs_background": "light"
     },
     "output_type": "display_data"
    }
   ],
   "source": [
    "# Call the ROC function\n",
    "from sklearn.metrics import roc_curve, auc\n",
    "import matplotlib.pyplot as plt\n",
    "\n",
    "# Calculate ROC curve\n",
    "fpr, tpr, thresholds = roc_curve(y_true, y_pred)\n",
    "\n",
    "# Calculate AUC\n",
    "roc_auc = auc(fpr, tpr)\n",
    "\n",
    "# Plot ROC curve\n",
    "plt.figure(figsize=(8, 6))\n",
    "plt.plot(fpr, tpr, color='darkorange', lw=2, label=f'ROC curve (AUC = {roc_auc:.3f})')\n",
    "plt.plot([0, 1], [0, 1], color='navy', lw=2, linestyle='--')\n",
    "plt.xlim([0.0, 1.0])\n",
    "plt.ylim([0.0, 1.05])\n",
    "plt.xlabel('False Positive Rate')\n",
    "plt.ylabel('True Positive Rate')\n",
    "plt.title('Receiver Operating Characteristic (ROC) Curve')\n",
    "plt.legend(loc=\"lower right\")\n",
    "plt.show()\n"
   ]
  },
  {
   "cell_type": "markdown",
   "metadata": {},
   "source": [
    "Infernce for TPR and FPR \n",
    "- The ROC curve shows the trade-off between True Positive Rate (TPR/Sensitivity) and False Positive Rate (FPR/1-Specificity) at different classification thresholds:\n",
    "\n",
    "1. The orange line represents our model's performance, with an AUC of 0.871, indicating good discriminative ability\n",
    "2. The dashed navy line represents random chance (AUC = 0.5)\n",
    "3. The high AUC (0.871) indicates the model is effective at distinguishing between fraudulent and non-fraudulent claims"
   ]
  },
  {
   "cell_type": "markdown",
   "metadata": {
    "id": "cFPV1EBDDPW6"
   },
   "source": [
    "**Sensitivity and Specificity tradeoff**\n",
    "\n",
    "After analysing the area under the curve of the ROC, check the sensitivity and specificity tradeoff to find the optimal cutoff point."
   ]
  },
  {
   "cell_type": "markdown",
   "metadata": {
    "id": "vjcQP2BzDPW6"
   },
   "source": [
    "#### **7.3.2** Predict on training data at various probability cutoffs <font color=\"red\">[1 Mark]</font>"
   ]
  },
  {
   "cell_type": "code",
   "execution_count": 1728,
   "metadata": {
    "id": "t1UMUMNODPW6"
   },
   "outputs": [
    {
     "data": {
      "text/html": [
       "<div>\n",
       "<style scoped>\n",
       "    .dataframe tbody tr th:only-of-type {\n",
       "        vertical-align: middle;\n",
       "    }\n",
       "\n",
       "    .dataframe tbody tr th {\n",
       "        vertical-align: top;\n",
       "    }\n",
       "\n",
       "    .dataframe thead th {\n",
       "        text-align: right;\n",
       "    }\n",
       "</style>\n",
       "<table border=\"1\" class=\"dataframe\">\n",
       "  <thead>\n",
       "    <tr style=\"text-align: right;\">\n",
       "      <th></th>\n",
       "      <th>actual_fraud</th>\n",
       "      <th>pred_0.1</th>\n",
       "      <th>pred_0.2</th>\n",
       "      <th>pred_0.3</th>\n",
       "      <th>pred_0.4</th>\n",
       "    </tr>\n",
       "  </thead>\n",
       "  <tbody>\n",
       "    <tr>\n",
       "      <th>0</th>\n",
       "      <td>0</td>\n",
       "      <td>1</td>\n",
       "      <td>1</td>\n",
       "      <td>1</td>\n",
       "      <td>1</td>\n",
       "    </tr>\n",
       "    <tr>\n",
       "      <th>1</th>\n",
       "      <td>0</td>\n",
       "      <td>0</td>\n",
       "      <td>0</td>\n",
       "      <td>0</td>\n",
       "      <td>0</td>\n",
       "    </tr>\n",
       "    <tr>\n",
       "      <th>2</th>\n",
       "      <td>0</td>\n",
       "      <td>0</td>\n",
       "      <td>0</td>\n",
       "      <td>0</td>\n",
       "      <td>0</td>\n",
       "    </tr>\n",
       "    <tr>\n",
       "      <th>3</th>\n",
       "      <td>0</td>\n",
       "      <td>0</td>\n",
       "      <td>0</td>\n",
       "      <td>0</td>\n",
       "      <td>0</td>\n",
       "    </tr>\n",
       "    <tr>\n",
       "      <th>4</th>\n",
       "      <td>0</td>\n",
       "      <td>0</td>\n",
       "      <td>0</td>\n",
       "      <td>0</td>\n",
       "      <td>0</td>\n",
       "    </tr>\n",
       "  </tbody>\n",
       "</table>\n",
       "</div>"
      ],
      "text/plain": [
       "   actual_fraud  pred_0.1  pred_0.2  pred_0.3  pred_0.4\n",
       "0             0         1         1         1         1\n",
       "1             0         0         0         0         0\n",
       "2             0         0         0         0         0\n",
       "3             0         0         0         0         0\n",
       "4             0         0         0         0         0"
      ]
     },
     "execution_count": 1728,
     "metadata": {},
     "output_type": "execute_result"
    }
   ],
   "source": [
    "# Create columns with different probability cutoffs to explore the impact of cutoff on model performance\n",
    "# Create a DataFrame to store predictions at different probability cutoffs\n",
    "cutoffs = [0.1, 0.2, 0.3, 0.4]\n",
    "\n",
    "# Initialize DataFrame with actual values\n",
    "results_df = pd.DataFrame({'actual_fraud': y_true})\n",
    "\n",
    "# Add columns for predictions at different cutoffs\n",
    "for cutoff in cutoffs:\n",
    "    results_df[f'pred_{cutoff}'] = (y_pred >= cutoff).astype(int)\n",
    "\n",
    "# Display first few rows to verify\n",
    "results_df.head()\n"
   ]
  },
  {
   "cell_type": "markdown",
   "metadata": {
    "id": "0EFEKx21DPW6"
   },
   "source": [
    "#### **7.3.3** Plot accuracy, sensitivity, specificity at different values of probability cutoffs <font color=\"red\">[2 Marks]</font>"
   ]
  },
  {
   "cell_type": "code",
   "execution_count": 1729,
   "metadata": {},
   "outputs": [
    {
     "name": "stdout",
     "output_type": "stream",
     "text": [
      "\n",
      "Cutoff: 0.1\n",
      "Confusion Matrix:\n",
      "[[243 283]\n",
      " [  7 519]]\n",
      "Precision: 0.65\n",
      "Recall (Sensitivity): 0.99\n",
      "Specificity: 0.46\n",
      "\n",
      "Cutoff: 0.2\n",
      "Confusion Matrix:\n",
      "[[355 171]\n",
      " [ 25 501]]\n",
      "Precision: 0.75\n",
      "Recall (Sensitivity): 0.95\n",
      "Specificity: 0.67\n",
      "\n",
      "Cutoff: 0.3\n",
      "Confusion Matrix:\n",
      "[[411 115]\n",
      " [ 46 480]]\n",
      "Precision: 0.81\n",
      "Recall (Sensitivity): 0.91\n",
      "Specificity: 0.78\n",
      "\n",
      "Cutoff: 0.4\n",
      "Confusion Matrix:\n",
      "[[431  95]\n",
      " [ 58 468]]\n",
      "Precision: 0.83\n",
      "Recall (Sensitivity): 0.89\n",
      "Specificity: 0.82\n",
      "\n",
      "Cutoff: 0.5\n",
      "Confusion Matrix:\n",
      "[[455  71]\n",
      " [ 65 461]]\n",
      "Precision: 0.87\n",
      "Recall (Sensitivity): 0.88\n",
      "Specificity: 0.87\n",
      "\n",
      "Cutoff: 0.6\n",
      "Confusion Matrix:\n",
      "[[466  60]\n",
      " [ 80 446]]\n",
      "Precision: 0.88\n",
      "Recall (Sensitivity): 0.85\n",
      "Specificity: 0.89\n",
      "\n",
      "Cutoff: 0.7\n",
      "Confusion Matrix:\n",
      "[[479  47]\n",
      " [121 405]]\n",
      "Precision: 0.90\n",
      "Recall (Sensitivity): 0.77\n",
      "Specificity: 0.91\n",
      "\n",
      "Cutoff: 0.8\n",
      "Confusion Matrix:\n",
      "[[491  35]\n",
      " [181 345]]\n",
      "Precision: 0.91\n",
      "Recall (Sensitivity): 0.66\n",
      "Specificity: 0.93\n",
      "\n",
      "Cutoff: 0.9\n",
      "Confusion Matrix:\n",
      "[[509  17]\n",
      " [309 217]]\n",
      "Precision: 0.93\n",
      "Recall (Sensitivity): 0.41\n",
      "Specificity: 0.97\n"
     ]
    }
   ],
   "source": [
    "cutoffs = [0.1,0.2, 0.3, 0.4, 0.5, 0.6, 0.7,0.8,0.9]\n",
    "\n",
    "for cutoff in cutoffs:\n",
    "    y_pred = [1 if prob >= cutoff else 0 for prob in train_probs]\n",
    "\n",
    "    cm = metrics.confusion_matrix(y_true, y_pred)\n",
    "    precision = metrics.precision_score(y_true, y_pred)\n",
    "    recall = metrics.recall_score(y_true, y_pred)\n",
    "    tn, fp, fn, tp = cm.ravel()\n",
    "    specificity = tn / (tn + fp)\n",
    "\n",
    "    print(f\"\\nCutoff: {cutoff}\")\n",
    "    print(f\"Confusion Matrix:\\n{cm}\")\n",
    "    print(f\"Precision: {precision:.2f}\")\n",
    "    print(f\"Recall (Sensitivity): {recall:.2f}\")\n",
    "    print(f\"Specificity: {specificity:.2f}\")"
   ]
  },
  {
   "cell_type": "code",
   "execution_count": 1730,
   "metadata": {},
   "outputs": [
    {
     "data": {
      "image/png": "[encoded data removed]",
      "text/plain": [
       "<Figure size 720x432 with 1 Axes>"
      ]
     },
     "metadata": {
      "needs_background": "light"
     },
     "output_type": "display_data"
    }
   ],
   "source": [
    "# Plot accuracy, sensitivity, and specificity at different values of probability cutoffs\n",
    "# Initialize lists to store metrics\n",
    "accuracy_list = []\n",
    "sensitivity_list = []\n",
    "specificity_list = []\n",
    "\n",
    "# Calculate metrics for each cutoff\n",
    "for cutoff in cutoffs:\n",
    "    y_pred = [1 if prob >= cutoff else 0 for prob in train_probs]\n",
    "    \n",
    "    # Calculate confusion matrix\n",
    "    cm = metrics.confusion_matrix(y_true, y_pred)\n",
    "    tn, fp, fn, tp = cm.ravel()\n",
    "    \n",
    "    # Calculate metrics\n",
    "    accuracy = (tp + tn) / (tp + tn + fp + fn)\n",
    "    sensitivity = tp / (tp + fn)\n",
    "    specificity = tn / (tn + fp)\n",
    "    \n",
    "    # Append to lists\n",
    "    accuracy_list.append(accuracy)\n",
    "    sensitivity_list.append(sensitivity)\n",
    "    specificity_list.append(specificity)\n",
    "\n",
    "# Create the plot\n",
    "plt.figure(figsize=(10, 6))\n",
    "plt.plot(cutoffs, accuracy_list, 'b-', label='Accuracy')\n",
    "plt.plot(cutoffs, sensitivity_list, 'g-', label='Sensitivity')\n",
    "plt.plot(cutoffs, specificity_list, 'r-', label='Specificity')\n",
    "\n",
    "# Add labels and title\n",
    "plt.xlabel('Probability Cutoff')\n",
    "plt.ylabel('Metric Value')\n",
    "plt.title('Model Performance Metrics vs Probability Cutoff')\n",
    "plt.legend()\n",
    "plt.grid(True)\n",
    "\n",
    "# Show the plot\n",
    "plt.show()\n"
   ]
  },
  {
   "cell_type": "markdown",
   "metadata": {
    "id": "o6C-ScQ1DPW7"
   },
   "source": [
    "#### **7.3.4** Create a column for final prediction based on optimal cutoff <font color=\"red\">[1 Mark]</font>"
   ]
  },
  {
   "cell_type": "code",
   "execution_count": 1731,
   "metadata": {
    "id": "1p-z0A9wDPW7"
   },
   "outputs": [],
   "source": [
    "# Create a column for final prediction based on the optimal cutoff\n",
    "# Taking the optimal cutoff value as 0.5 based on balancing accuracy, sensitivity and specificity\n",
    "optimal_cutoff = 0.5  # Defining optimal cutoff threshold\n",
    "df_train_results['final_prediction'] = [1 if prob >= optimal_cutoff else 0 for prob in df_train_results['pred_prob']]\n"
   ]
  },
  {
   "cell_type": "code",
   "execution_count": 1732,
   "metadata": {},
   "outputs": [
    {
     "data": {
      "text/html": [
       "<div>\n",
       "<style scoped>\n",
       "    .dataframe tbody tr th:only-of-type {\n",
       "        vertical-align: middle;\n",
       "    }\n",
       "\n",
       "    .dataframe tbody tr th {\n",
       "        vertical-align: top;\n",
       "    }\n",
       "\n",
       "    .dataframe thead th {\n",
       "        text-align: right;\n",
       "    }\n",
       "</style>\n",
       "<table border=\"1\" class=\"dataframe\">\n",
       "  <thead>\n",
       "    <tr style=\"text-align: right;\">\n",
       "      <th></th>\n",
       "      <th>actual_fraud</th>\n",
       "      <th>pred_prob</th>\n",
       "      <th>pred_class</th>\n",
       "      <th>final_prediction</th>\n",
       "    </tr>\n",
       "  </thead>\n",
       "  <tbody>\n",
       "    <tr>\n",
       "      <th>0</th>\n",
       "      <td>0</td>\n",
       "      <td>0.791050</td>\n",
       "      <td>1</td>\n",
       "      <td>1</td>\n",
       "    </tr>\n",
       "    <tr>\n",
       "      <th>1</th>\n",
       "      <td>0</td>\n",
       "      <td>0.069182</td>\n",
       "      <td>0</td>\n",
       "      <td>0</td>\n",
       "    </tr>\n",
       "    <tr>\n",
       "      <th>2</th>\n",
       "      <td>0</td>\n",
       "      <td>0.067976</td>\n",
       "      <td>0</td>\n",
       "      <td>0</td>\n",
       "    </tr>\n",
       "    <tr>\n",
       "      <th>3</th>\n",
       "      <td>0</td>\n",
       "      <td>0.036835</td>\n",
       "      <td>0</td>\n",
       "      <td>0</td>\n",
       "    </tr>\n",
       "    <tr>\n",
       "      <th>4</th>\n",
       "      <td>0</td>\n",
       "      <td>0.092837</td>\n",
       "      <td>0</td>\n",
       "      <td>0</td>\n",
       "    </tr>\n",
       "  </tbody>\n",
       "</table>\n",
       "</div>"
      ],
      "text/plain": [
       "   actual_fraud  pred_prob  pred_class  final_prediction\n",
       "0             0   0.791050           1                 1\n",
       "1             0   0.069182           0                 0\n",
       "2             0   0.067976           0                 0\n",
       "3             0   0.036835           0                 0\n",
       "4             0   0.092837           0                 0"
      ]
     },
     "execution_count": 1732,
     "metadata": {},
     "output_type": "execute_result"
    }
   ],
   "source": [
    "df_train_results.head()"
   ]
  },
  {
   "cell_type": "code",
   "execution_count": 1733,
   "metadata": {},
   "outputs": [
    {
     "data": {
      "text/html": [
       "<div>\n",
       "<style scoped>\n",
       "    .dataframe tbody tr th:only-of-type {\n",
       "        vertical-align: middle;\n",
       "    }\n",
       "\n",
       "    .dataframe tbody tr th {\n",
       "        vertical-align: top;\n",
       "    }\n",
       "\n",
       "    .dataframe thead th {\n",
       "        text-align: right;\n",
       "    }\n",
       "</style>\n",
       "<table border=\"1\" class=\"dataframe\">\n",
       "  <thead>\n",
       "    <tr style=\"text-align: right;\">\n",
       "      <th></th>\n",
       "      <th>actual_fraud</th>\n",
       "      <th>pred_prob</th>\n",
       "      <th>final_prediction</th>\n",
       "    </tr>\n",
       "  </thead>\n",
       "  <tbody>\n",
       "    <tr>\n",
       "      <th>0</th>\n",
       "      <td>0</td>\n",
       "      <td>0.791050</td>\n",
       "      <td>1</td>\n",
       "    </tr>\n",
       "    <tr>\n",
       "      <th>1</th>\n",
       "      <td>0</td>\n",
       "      <td>0.069182</td>\n",
       "      <td>0</td>\n",
       "    </tr>\n",
       "    <tr>\n",
       "      <th>2</th>\n",
       "      <td>0</td>\n",
       "      <td>0.067976</td>\n",
       "      <td>0</td>\n",
       "    </tr>\n",
       "    <tr>\n",
       "      <th>3</th>\n",
       "      <td>0</td>\n",
       "      <td>0.036835</td>\n",
       "      <td>0</td>\n",
       "    </tr>\n",
       "    <tr>\n",
       "      <th>4</th>\n",
       "      <td>0</td>\n",
       "      <td>0.092837</td>\n",
       "      <td>0</td>\n",
       "    </tr>\n",
       "  </tbody>\n",
       "</table>\n",
       "</div>"
      ],
      "text/plain": [
       "   actual_fraud  pred_prob  final_prediction\n",
       "0             0   0.791050                 1\n",
       "1             0   0.069182                 0\n",
       "2             0   0.067976                 0\n",
       "3             0   0.036835                 0\n",
       "4             0   0.092837                 0"
      ]
     },
     "execution_count": 1733,
     "metadata": {},
     "output_type": "execute_result"
    }
   ],
   "source": [
    "#Dropping the pred_class column\n",
    "df_train_results = df_train_results.drop(columns=['pred_class'])\n",
    "df_train_results.head()\n"
   ]
  },
  {
   "cell_type": "markdown",
   "metadata": {
    "id": "8jEQC7QlDPW7"
   },
   "source": [
    "#### **7.3.5** Calculate the accuracy <font color=\"red\">[1 Mark]</font>"
   ]
  },
  {
   "cell_type": "code",
   "execution_count": 1734,
   "metadata": {
    "id": "-XARhijiDPW7"
   },
   "outputs": [
    {
     "name": "stdout",
     "output_type": "stream",
     "text": [
      "Accuracy: 0.8707\n"
     ]
    }
   ],
   "source": [
    "# Check the accuracy now\n",
    "accuracy = (df_train_results['actual_fraud'] == df_train_results['final_prediction']).mean()\n",
    "print(f\"Accuracy: {accuracy:.4f}\")\n"
   ]
  },
  {
   "cell_type": "markdown",
   "metadata": {
    "id": "qsgvpYa3DPW-"
   },
   "source": [
    "#### **7.3.6** Create confusion matrix <font color=\"red\">[1 Mark]</font>"
   ]
  },
  {
   "cell_type": "code",
   "execution_count": 1735,
   "metadata": {
    "id": "tuRtey6YDPW-"
   },
   "outputs": [
    {
     "data": {
      "image/png": "[encoded data removed]",
      "text/plain": [
       "<Figure size 576x432 with 2 Axes>"
      ]
     },
     "metadata": {
      "needs_background": "light"
     },
     "output_type": "display_data"
    }
   ],
   "source": [
    "# Create the confusion matrix once again\n",
    "\n",
    "\n",
    "# Create confusion matrix\n",
    "cm = metrics.confusion_matrix(df_train_results['actual_fraud'], df_train_results['final_prediction'])\n",
    "\n",
    "# Plot confusion matrix\n",
    "plt.figure(figsize=(8, 6))\n",
    "sns.heatmap(cm, annot=True, fmt='d', cmap='Blues', \n",
    "            xticklabels=['Not Fraud', 'Fraud'],\n",
    "            yticklabels=['Not Fraud', 'Fraud'])\n",
    "plt.title('Confusion Matrix')\n",
    "plt.xlabel('Predicted')\n",
    "plt.ylabel('Actual')\n",
    "plt.show()\n"
   ]
  },
  {
   "cell_type": "markdown",
   "metadata": {},
   "source": [
    "Inference for Confusion Matrix\n",
    "\n",
    "1. The model performs well overall with a balanced trade-off between false positives and false negatives.\n",
    "\n",
    "2. Accuracy, Precision, Recall, and Specificity are all around 86–87%, showing strong consistency.\n",
    "\n",
    "3. The relatively low number of false positives (71) and false negatives (65) suggests:\n",
    "\n",
    "      - It rarely misses fraud.\n",
    "\n",
    "      - It doesn't raise too many false alarms either."
   ]
  },
  {
   "cell_type": "markdown",
   "metadata": {
    "id": "Nbfa0CsbDPW-"
   },
   "source": [
    "#### **7.3.7** Create variables for true positive, true negative, false positive and false negative <font color=\"red\">[1 Mark]</font>"
   ]
  },
  {
   "cell_type": "code",
   "execution_count": 1736,
   "metadata": {
    "id": "xAQncHXtDPW_"
   },
   "outputs": [],
   "source": [
    "# Create variables for true positive, true negative, false positive and false negative\n",
    "\n",
    "true_positive = cm[1, 1]  # Actual fraud cases correctly predicted as fraud\n",
    "true_negative = cm[0, 0]  # Actual non-fraud cases correctly predicted as non-fraud\n",
    "false_positive = cm[0, 1]  # Actual non-fraud cases incorrectly predicted as fraud\n",
    "false_negative = cm[1, 0]  # Actual fraud cases incorrectly predicted as non-fraud\n",
    "\n"
   ]
  },
  {
   "cell_type": "markdown",
   "metadata": {
    "id": "z7KXFHRnDPW_"
   },
   "source": [
    "#### **7.3.8** Calculate sensitivity, specificity, precision, recall and F1-score of the model <font color=\"red\">[2 Mark]</font>"
   ]
  },
  {
   "cell_type": "code",
   "execution_count": 1737,
   "metadata": {
    "id": "958ly8K8DPW_"
   },
   "outputs": [
    {
     "name": "stdout",
     "output_type": "stream",
     "text": [
      "Sensitivity (Recall): 0.8764\n",
      "Specificity: 0.8650\n",
      "Precision: 0.8665\n",
      "Recall: 0.8764\n",
      "F1 Score: 0.8715\n"
     ]
    }
   ],
   "source": [
    "# Calculate the sensitivity\n",
    "sensitivity = true_positive / (true_positive + false_negative)  # Also known as recall\n",
    "# Calculate the specificity\n",
    "specificity = true_negative / (true_negative + false_positive)\n",
    "\n",
    "# Calculate Precision\n",
    "precision = true_positive / (true_positive + false_positive)\n",
    "\n",
    "# Calculate Recall\n",
    "recall = sensitivity\n",
    "\n",
    "# Calculate F1 Score\n",
    "f1_score = 2 * (precision * recall) / (precision + recall)\n",
    "\n",
    "print(f\"Sensitivity (Recall): {sensitivity:.4f}\")\n",
    "print(f\"Specificity: {specificity:.4f}\")\n",
    "print(f\"Precision: {precision:.4f}\")\n",
    "print(f\"Recall: {recall:.4f}\")\n",
    "print(f\"F1 Score: {f1_score:.4f}\")"
   ]
  },
  {
   "cell_type": "markdown",
   "metadata": {
    "id": "_dNjDGtNDPXA"
   },
   "source": [
    "**Precision and Recall tradeoff**\n",
    "\n",
    "Check optimal cutoff value by plotting precision-recall curve, and adjust the cutoff based on precision and recall tradeoff if required."
   ]
  },
  {
   "cell_type": "code",
   "execution_count": 1738,
   "metadata": {
    "id": "HGKKbLQgDPXA"
   },
   "outputs": [],
   "source": [
    "# Import precision-recall curve function\n",
    "from sklearn.metrics import precision_recall_curve"
   ]
  },
  {
   "cell_type": "markdown",
   "metadata": {
    "id": "G4_-ZTXYDPXB"
   },
   "source": [
    "#### **7.3.9** Plot precision-recall curve <font color=\"red\">[1 Mark]</font>"
   ]
  },
  {
   "cell_type": "code",
   "execution_count": 1739,
   "metadata": {
    "id": "Wj2qr5FSDPXB"
   },
   "outputs": [
    {
     "data": {
      "image/png": "[encoded data removed]",
      "text/plain": [
       "<Figure size 720x432 with 1 Axes>"
      ]
     },
     "metadata": {
      "needs_background": "light"
     },
     "output_type": "display_data"
    },
    {
     "name": "stdout",
     "output_type": "stream",
     "text": [
      "Optimal threshold: 0.0000\n",
      "Optimal F1 score: 0.6667\n"
     ]
    }
   ],
   "source": [
    "# Plot precision-recall curve\n",
    "# Calculate precision and recall for different probability thresholds\n",
    "precision, recall, thresholds = precision_recall_curve(y_true, y_pred)\n",
    "\n",
    "# Plot the precision-recall curve\n",
    "plt.figure(figsize=(10, 6))\n",
    "plt.plot(recall, precision, marker='.', label='Logistic Regression')\n",
    "plt.xlabel('Recall')\n",
    "plt.ylabel('Precision')\n",
    "plt.title('Precision-Recall Curve')\n",
    "plt.grid(True)\n",
    "plt.legend()\n",
    "plt.show()\n",
    "\n",
    "# Find the optimal threshold that maximizes F1 score\n",
    "f1_scores = 2 * (precision * recall) / (precision + recall)\n",
    "optimal_idx = np.argmax(f1_scores)\n",
    "optimal_threshold = thresholds[optimal_idx]\n",
    "print(f\"Optimal threshold: {optimal_threshold:.4f}\")\n",
    "print(f\"Optimal F1 score: {f1_scores[optimal_idx]:.4f}\")\n"
   ]
  },
  {
   "cell_type": "markdown",
   "metadata": {
    "id": "VdNY3cNPDPXB"
   },
   "source": [
    "### **7.4 Build Random Forest Model** <font color = red>[12 marks]</font>\n",
    "Now that you have built a logistic regression model, let's move on to building a random forest model."
   ]
  },
  {
   "cell_type": "markdown",
   "metadata": {
    "id": "sS2Hc10fDPXC"
   },
   "source": [
    "#### **7.4.1** Import necessary libraries"
   ]
  },
  {
   "cell_type": "code",
   "execution_count": 1740,
   "metadata": {
    "id": "S6duSoHlDPXC"
   },
   "outputs": [],
   "source": [
    "# Import necessary libraries\n",
    "from sklearn.ensemble import RandomForestClassifier\n",
    "from sklearn.metrics import classification_report\n",
    "from sklearn.model_selection import cross_val_score, GridSearchCV"
   ]
  },
  {
   "cell_type": "markdown",
   "metadata": {
    "id": "7Euc5ukLDPXC"
   },
   "source": [
    "#### **7.4.2** Build the random forest model <font color=\"red\">[1 Mark]</font>"
   ]
  },
  {
   "cell_type": "markdown",
   "metadata": {},
   "source": [
    "X_num = X_train_scaled\n",
    "y = y_train_resampled"
   ]
  },
  {
   "cell_type": "code",
   "execution_count": 1741,
   "metadata": {
    "id": "3ouCc_YFDPXC"
   },
   "outputs": [
    {
     "name": "stdout",
     "output_type": "stream",
     "text": [
      "Random Forest Model Parameters:\n",
      "{'bootstrap': True, 'ccp_alpha': 0.0, 'class_weight': 'balanced', 'criterion': 'gini', 'max_depth': None, 'max_features': 'sqrt', 'max_leaf_nodes': None, 'max_samples': None, 'min_impurity_decrease': 0.0, 'min_samples_leaf': 1, 'min_samples_split': 2, 'min_weight_fraction_leaf': 0.0, 'n_estimators': 100, 'n_jobs': None, 'oob_score': False, 'random_state': 42, 'verbose': 0, 'warm_start': False}\n"
     ]
    }
   ],
   "source": [
    "# Build a base random forest model\n",
    "# Initialize the Random Forest Classifier\n",
    "rf_model = RandomForestClassifier(\n",
    "    n_estimators=100,          # Default value\n",
    "    max_depth=None,           # Allow full depth\n",
    "    min_samples_split=2,      # Default value\n",
    "    min_samples_leaf=1,       # Default value \n",
    "    max_features='sqrt',      # Limit features at each split\n",
    "    random_state=42,\n",
    "    class_weight='balanced'   # Handle class imbalance\n",
    ")\n",
    "\n",
    "# Fit the model on the training data\n",
    "rf_model.fit(X_train_scaled, y_train_resampled)\n",
    "\n",
    "# Print the model parameters\n",
    "print(\"Random Forest Model Parameters:\")\n",
    "print(rf_model.get_params())\n"
   ]
  },
  {
   "cell_type": "markdown",
   "metadata": {
    "id": "wr3ExsTgUSKl"
   },
   "source": [
    "#### **7.4.3** Get feature importance scores and select important features <font color=\"red\">[2 Marks]</font>"
   ]
  },
  {
   "cell_type": "code",
   "execution_count": 1742,
   "metadata": {
    "collapsed": true,
    "id": "eSnQ3xQL__gV"
   },
   "outputs": [
    {
     "name": "stdout",
     "output_type": "stream",
     "text": [
      "Top 20 Most Important Features:\n",
      "                           Feature  Importance\n",
      "52  incident_severity_Minor Damage    0.094244\n",
      "8               total_claim_amount    0.059703\n",
      "35           insured_hobbies_chess    0.057832\n",
      "53    incident_severity_Total Loss    0.056533\n",
      "11              claim_deduct_ratio    0.053564\n",
      "0               months_as_customer    0.053160\n",
      "10                     net_capital    0.040478\n",
      "4         incident_hour_of_the_day    0.036715\n",
      "9                        auto_year    0.036495\n",
      "1                              age    0.036406\n",
      "14              incident_dayofweek    0.027241\n",
      "7                        witnesses    0.021267\n",
      "6                  bodily_injuries    0.016763\n",
      "3                   umbrella_limit    0.016265\n",
      "51          collision_type_Unknown    0.013594\n",
      "2                policy_deductable    0.013391\n",
      "63               incident_state_WV    0.012700\n",
      "12                  incident_month    0.011287\n",
      "5      number_of_vehicles_involved    0.010174\n",
      "49   collision_type_Rear Collision    0.010032\n"
     ]
    },
    {
     "data": {
      "image/png": "[encoded data removed]",
      "text/plain": [
       "<Figure size 864x576 with 1 Axes>"
      ]
     },
     "metadata": {
      "needs_background": "light"
     },
     "output_type": "display_data"
    }
   ],
   "source": [
    "# Get feature importance scores from the trained model\n",
    "# Get feature importance scores\n",
    "feature_importance = rf_model.feature_importances_\n",
    "\n",
    "# Create a DataFrame with feature names and importance scores\n",
    "feature_importance_df = pd.DataFrame({\n",
    "    'Feature': X_train_scaled.columns,\n",
    "    'Importance': feature_importance\n",
    "})\n",
    "\n",
    "# Sort features by importance in descending order\n",
    "feature_importance_df = feature_importance_df.sort_values('Importance', ascending=False)\n",
    "\n",
    "# Display the top 20 most important features\n",
    "print(\"Top 20 Most Important Features:\")\n",
    "print(feature_importance_df.head(20))\n",
    "\n",
    "# Visualize feature importance\n",
    "plt.figure(figsize=(12, 8))\n",
    "sns.barplot(x='Importance', y='Feature', data=feature_importance_df.head(20))\n",
    "plt.title('Top 20 Most Important Features')\n",
    "plt.xlabel('Feature Importance Score')\n",
    "plt.ylabel('Feature Name')\n",
    "plt.tight_layout()\n",
    "plt.show()\n",
    "\n"
   ]
  },
  {
   "cell_type": "code",
   "execution_count": 1743,
   "metadata": {
    "id": "yQIR2yUqxNVI"
   },
   "outputs": [
    {
     "name": "stdout",
     "output_type": "stream",
     "text": [
      "Number of selected features: 20\n",
      "\n",
      "Selected features:\n",
      "['incident_severity_Minor Damage', 'total_claim_amount', 'insured_hobbies_chess', 'incident_severity_Total Loss', 'claim_deduct_ratio', 'months_as_customer', 'net_capital', 'incident_hour_of_the_day', 'auto_year', 'age', 'incident_dayofweek', 'witnesses', 'bodily_injuries', 'umbrella_limit', 'collision_type_Unknown', 'policy_deductable', 'incident_state_WV', 'incident_month', 'number_of_vehicles_involved', 'collision_type_Rear Collision']\n",
      "Shape of new training data: (1052, 20)\n"
     ]
    }
   ],
   "source": [
    "# Select features with high importance scores\n",
    "# Select features with importance score above 0.01\n",
    "randomforest_selected_features = feature_importance_df[feature_importance_df['Importance'] > 0.01]['Feature'].tolist()\n",
    "\n",
    "# Print the number of selected features\n",
    "print(f\"Number of selected features: {len(randomforest_selected_features)}\")\n",
    "print(\"\\nSelected features:\")\n",
    "print(randomforest_selected_features)\n",
    "\n",
    "# Create a new training data with only the selected features\n",
    "# Create new training data with only selected features\n",
    "X_train_selected = X_train_scaled[randomforest_selected_features]\n",
    "\n",
    "# Print shape of new training data\n",
    "print(f\"Shape of new training data: {X_train_selected.shape}\")\n"
   ]
  },
  {
   "cell_type": "markdown",
   "metadata": {},
   "source": [
    "X_train_selected, y_train_resampled"
   ]
  },
  {
   "cell_type": "markdown",
   "metadata": {
    "id": "wTzZ1YnhU9Dt"
   },
   "source": [
    "#### **7.4.4** Train the model with selected features <font color=\"red\">[1 Mark]</font>"
   ]
  },
  {
   "cell_type": "code",
   "execution_count": 1744,
   "metadata": {
    "id": "IeU6JcgJUnPs"
   },
   "outputs": [
    {
     "data": {
      "text/plain": [
       "RandomForestClassifier(class_weight='balanced', random_state=42)"
      ]
     },
     "execution_count": 1744,
     "metadata": {},
     "output_type": "execute_result"
    }
   ],
   "source": [
    "# Fit the model on the training data with selected features\n",
    "# Fit the random forest model on the training data with selected features\n",
    "rf_model_selected = RandomForestClassifier(n_estimators=100, random_state=42, class_weight='balanced')\n",
    "rf_model_selected.fit(X_train_selected, y_train_resampled)\n"
   ]
  },
  {
   "cell_type": "markdown",
   "metadata": {
    "id": "g_5Fk-9bDPXG"
   },
   "source": [
    "#### **7.4.5** Generate predictions on the training data <font color=\"red\">[1 Mark]</font>"
   ]
  },
  {
   "cell_type": "code",
   "execution_count": 1745,
   "metadata": {
    "id": "TO6AGoPFDPXG"
   },
   "outputs": [
    {
     "name": "stdout",
     "output_type": "stream",
     "text": [
      "\n",
      "Training predictions:\n",
      "   actual_fraud  pred_prob  pred_class\n",
      "0             0       0.18           0\n",
      "1             0       0.10           0\n",
      "2             0       0.04           0\n",
      "3             0       0.06           0\n",
      "4             0       0.04           0\n"
     ]
    }
   ],
   "source": [
    "# Generate predictions on training data\n",
    "# Generate predictions on training data\n",
    "y_train_pred = rf_model_selected.predict(X_train_selected)\n",
    "y_train_pred_proba = rf_model_selected.predict_proba(X_train_selected)[:, 1]\n",
    "\n",
    "# Create a DataFrame with actual and predicted values\n",
    "train_results = pd.DataFrame({\n",
    "    'actual_fraud': y_train_resampled,\n",
    "    'pred_prob': y_train_pred_proba,\n",
    "    'pred_class': y_train_pred\n",
    "})\n",
    "\n",
    "# Display first few rows of predictions\n",
    "print(\"\\nTraining predictions:\")\n",
    "print(train_results.head())\n"
   ]
  },
  {
   "cell_type": "markdown",
   "metadata": {
    "id": "I5ApUsKlDPXH"
   },
   "source": [
    "#### **7.4.6** Check accuracy of the model <font color=\"red\">[1 Mark]</font>"
   ]
  },
  {
   "cell_type": "code",
   "execution_count": 1746,
   "metadata": {},
   "outputs": [
    {
     "name": "stdout",
     "output_type": "stream",
     "text": [
      "Mean Training Accuracy:         1.0\n",
      "Mean Validation Accuracy:       0.9278041074249606\n",
      "Mean Training ROC‑AUC:          1.0\n",
      "Mean Validation ROC‑AUC:        0.9855837076969152\n",
      "Mean Validation Balanced Acc.:  0.9277987421383648\n"
     ]
    }
   ],
   "source": [
    "from sklearn.model_selection import cross_validate\n",
    "from sklearn.metrics import make_scorer, accuracy_score, roc_auc_score, balanced_accuracy_score\n",
    "\n",
    "# Define scorers\n",
    "scoring = {\n",
    "    'train_acc': 'accuracy',\n",
    "    'test_acc': 'accuracy',\n",
    "    'train_auc': 'roc_auc',\n",
    "    'test_auc': 'roc_auc',\n",
    "    'test_balanced_acc': make_scorer(balanced_accuracy_score)\n",
    "}\n",
    "\n",
    "cv_results = cross_validate(\n",
    "    rf_model,\n",
    "    X_train_selected, y_train_resampled,\n",
    "    cv=5,\n",
    "    scoring=scoring,\n",
    "    return_train_score=True,\n",
    "    n_jobs=-1\n",
    ")\n",
    "\n",
    "# Summarize\n",
    "print(\"Mean Training Accuracy:        \", cv_results['train_train_acc'].mean())\n",
    "print(\"Mean Validation Accuracy:      \", cv_results['test_test_acc'].mean())\n",
    "print(\"Mean Training ROC‑AUC:         \", cv_results['train_train_auc'].mean())\n",
    "print(\"Mean Validation ROC‑AUC:       \", cv_results['test_test_auc'].mean())\n",
    "print(\"Mean Validation Balanced Acc.: \", cv_results['test_test_balanced_acc'].mean())\n",
    "\n"
   ]
  },
  {
   "cell_type": "code",
   "execution_count": 1747,
   "metadata": {
    "id": "t2zmn36dDPXH"
   },
   "outputs": [
    {
     "name": "stdout",
     "output_type": "stream",
     "text": [
      "Training Accuracy: 1.0000\n",
      "Training ROC AUC Score: 1.0000\n",
      "Training Balanced Accuracy: 1.0000\n"
     ]
    }
   ],
   "source": [
    "# Check accuracy of the model\n",
    "# Calculate accuracy score\n",
    "from sklearn.metrics import accuracy_score\n",
    "train_accuracy = accuracy_score(y_train_resampled, y_train_pred)\n",
    "print(f\"Training Accuracy: {train_accuracy:.4f}\")\n",
    "\n",
    "# Calculate ROC AUC score\n",
    "from sklearn.metrics import roc_auc_score\n",
    "train_auc = roc_auc_score(y_train_resampled, y_train_pred_proba)\n",
    "print(f\"Training ROC AUC Score: {train_auc:.4f}\")\n",
    "\n",
    "# Calculate balanced accuracy score\n",
    "from sklearn.metrics import balanced_accuracy_score\n",
    "train_balanced_accuracy = balanced_accuracy_score(y_train_resampled, y_train_pred)\n",
    "print(f\"Training Balanced Accuracy: {train_balanced_accuracy:.4f}\")\n"
   ]
  },
  {
   "cell_type": "markdown",
   "metadata": {
    "id": "Z_e5FElrDPXH"
   },
   "source": [
    "#### **7.4.7** Create confusion matrix <font color=\"red\">[1 Mark]</font>"
   ]
  },
  {
   "cell_type": "code",
   "execution_count": 1748,
   "metadata": {
    "id": "NJIGPNTaDPXI"
   },
   "outputs": [
    {
     "data": {
      "image/png": "[encoded data removed]",
      "text/plain": [
       "<Figure size 576x432 with 2 Axes>"
      ]
     },
     "metadata": {
      "needs_background": "light"
     },
     "output_type": "display_data"
    }
   ],
   "source": [
    "# Create the confusion matrix to visualise the performance\n",
    "\n",
    "# Create confusion matrix\n",
    "cm = metrics.confusion_matrix(y_train_resampled, y_train_pred)\n",
    "\n",
    "# Plot confusion matrix using seaborn\n",
    "plt.figure(figsize=(8,6))\n",
    "sns.heatmap(cm, annot=True, fmt='d', cmap='Blues')\n",
    "plt.title('Confusion Matrix')\n",
    "plt.ylabel('Actual')\n",
    "plt.xlabel('Predicted')\n",
    "plt.show()\n"
   ]
  },
  {
   "cell_type": "markdown",
   "metadata": {
    "id": "rY3mFM8CDPXI"
   },
   "source": [
    "#### **7.4.8** Create variables for true positive, true negative, false positive and false negative <font color=\"red\">[1 Mark]</font>"
   ]
  },
  {
   "cell_type": "code",
   "execution_count": 1749,
   "metadata": {
    "id": "l9Ehc0vcDPXI"
   },
   "outputs": [
    {
     "name": "stdout",
     "output_type": "stream",
     "text": [
      "True Negatives: 526\n",
      "False Positives: 0\n",
      "False Negatives: 0\n",
      "True Positives: 526\n"
     ]
    }
   ],
   "source": [
    "# Create variables for true positive, true negative, false positive and false negative\n",
    "# Extract values from confusion matrix\n",
    "tn, fp, fn, tp = cm.ravel()\n",
    "\n",
    "# Print the values\n",
    "print(f\"True Negatives: {tn}\")\n",
    "print(f\"False Positives: {fp}\") \n",
    "print(f\"False Negatives: {fn}\")\n",
    "print(f\"True Positives: {tp}\")\n"
   ]
  },
  {
   "cell_type": "markdown",
   "metadata": {
    "id": "_NSOsFxRDPXJ"
   },
   "source": [
    "#### **7.4.9** Calculate sensitivity, specificity, precision, recall and F1-score of the model <font color=\"red\">[2 Marks]</font>"
   ]
  },
  {
   "cell_type": "code",
   "execution_count": 1750,
   "metadata": {
    "id": "M3wJsKu3DPXJ"
   },
   "outputs": [
    {
     "name": "stdout",
     "output_type": "stream",
     "text": [
      "Sensitivity: 1.0000\n",
      "Specificity: 1.0000\n",
      "Precision: 1.0000\n",
      "Recall: 1.0000\n",
      "F1 Score: 1.0000\n"
     ]
    }
   ],
   "source": [
    "# Calculate the sensitivity\n",
    "sensitivity = tp / (tp + fn)\n",
    "print(f\"Sensitivity: {sensitivity:.4f}\")\n",
    "\n",
    "# Calculate the specificity \n",
    "specificity = tn / (tn + fp)\n",
    "print(f\"Specificity: {specificity:.4f}\")\n",
    "\n",
    "# Calculate Precision\n",
    "precision = tp / (tp + fp)\n",
    "print(f\"Precision: {precision:.4f}\")\n",
    "\n",
    "# Calculate Recall\n",
    "recall = tp / (tp + fn)  # Same as sensitivity\n",
    "print(f\"Recall: {recall:.4f}\")\n",
    "\n",
    "# Calculate F1 Score\n",
    "f1_score = 2 * (precision * recall) / (precision + recall)\n",
    "print(f\"F1 Score: {f1_score:.4f}\")\n"
   ]
  },
  {
   "cell_type": "markdown",
   "metadata": {
    "id": "b6Jax54VDPXJ"
   },
   "source": [
    "#### **7.4.10** Check if the model is overfitting training data using cross validation <font color = \"red\">[2 marks]</font>"
   ]
  },
  {
   "cell_type": "code",
   "execution_count": 1751,
   "metadata": {},
   "outputs": [
    {
     "data": {
      "text/plain": [
       "((1052, 20), (1052,))"
      ]
     },
     "execution_count": 1751,
     "metadata": {},
     "output_type": "execute_result"
    }
   ],
   "source": [
    "X_train_selected.shape,y_train_resampled.shape"
   ]
  },
  {
   "cell_type": "code",
   "execution_count": 1752,
   "metadata": {
    "id": "42-huob6DPXJ"
   },
   "outputs": [
    {
     "name": "stdout",
     "output_type": "stream",
     "text": [
      "Cross Validation Scores: [0.92417062 0.92417062 0.92380952 0.90952381 0.92857143]\n",
      "\n",
      "Mean CV Score: 0.9220 (+/- 0.0130)\n",
      "\n",
      "Training Score: 1.0\n",
      "\n",
      "Difference between Training Score and Mean CV Score: 0.0780\n"
     ]
    }
   ],
   "source": [
    "# Use cross validation to check if the model is overfitting\n",
    "# Perform cross-validation using StratifiedKFold\n",
    "cv = StratifiedKFold(n_splits=5, shuffle=True, random_state=42)\n",
    "\n",
    "# Initialize the Random Forest model\n",
    "rf_model = RandomForestClassifier(class_weight='balanced', random_state=42)\n",
    "\n",
    "# Get cross validation scores for training data\n",
    "cv_scores = cross_val_score(rf_model, X_train_selected, y_train_resampled, cv=cv, scoring='accuracy')\n",
    "\n",
    "# Print the cross validation scores\n",
    "print(\"Cross Validation Scores:\", cv_scores)\n",
    "print(\"\\nMean CV Score: {:.4f} (+/- {:.4f})\".format(cv_scores.mean(), cv_scores.std() * 2))\n",
    "\n",
    "# Fit the model on full training data to compare\n",
    "rf_model.fit(X_train_selected, y_train_resampled)\n",
    "train_score = rf_model.score(X_train_selected, y_train_resampled)\n",
    "print(\"\\nTraining Score:\", train_score)\n",
    "\n",
    "# Compare training score with CV score to check for overfitting\n",
    "print(\"\\nDifference between Training Score and Mean CV Score: {:.4f}\".format(train_score - cv_scores.mean()))\n",
    "\n"
   ]
  },
  {
   "cell_type": "markdown",
   "metadata": {},
   "source": [
    "Conclusions: Model is Overfitting\n",
    "1. The model is too complex relative to the data, causing it to memorize training examples rather than generalize.\n",
    "\n",
    "2. The small but consistent gap between training and CV scores suggests mild overfitting (not extreme, but still problematic)."
   ]
  },
  {
   "cell_type": "markdown",
   "metadata": {
    "id": "sNxYrAKZDPXJ"
   },
   "source": [
    "### **7.5 Hyperparameter Tuning** <font color = red>[10 Marks]</font>\n",
    " Enhance the performance of the random forest model by systematically exploring and selecting optimal hyperparameter values using grid search."
   ]
  },
  {
   "cell_type": "markdown",
   "metadata": {
    "id": "UnBcYjbQDPXK"
   },
   "source": [
    "#### **7.5.1** Use grid search to find the best hyperparameter values <font color = red>[2 Marks]</font>"
   ]
  },
  {
   "cell_type": "code",
   "execution_count": 1753,
   "metadata": {
    "id": "LTLCDfb4DPXK"
   },
   "outputs": [
    {
     "name": "stdout",
     "output_type": "stream",
     "text": [
      "Fitting 5 folds for each of 162 candidates, totalling 810 fits\n",
      "Best parameters: {'bootstrap': True, 'max_depth': 15, 'max_features': 'sqrt', 'min_samples_leaf': 4, 'min_samples_split': 5, 'n_estimators': 100, 'oob_score': True}\n",
      "Best cross-validation score: 0.9011735499887159\n"
     ]
    }
   ],
   "source": [
    "# Use grid search to find the best hyperparamter values\n",
    "\n",
    "# Best Hyperparameters\n",
    "# Define the parameter grid for Random Forest\n",
    "param_grid = {\n",
    "    'n_estimators': [50, 100, 150],  # Reduced number of trees to prevent memorization\n",
    "    'max_depth': [5, 10, 15],  # Shallower trees to reduce complexity\n",
    "    'min_samples_split': [5, 10, 15],  # Increased minimum samples to split\n",
    "    'min_samples_leaf': [4, 8, 12],  # Increased minimum samples per leaf\n",
    "    'max_features': ['sqrt', 'log2'],  # Limiting features considered at each split\n",
    "    'bootstrap': [True],  # Enable bootstrapping for better generalization\n",
    "    'oob_score': [True]  # Out-of-bag score to monitor overfitting\n",
    "}\n",
    "\n",
    "# Initialize Random Forest model\n",
    "rf = RandomForestClassifier(class_weight='balanced', random_state=42)\n",
    "\n",
    "# Initialize GridSearchCV\n",
    "grid_search = GridSearchCV(\n",
    "    estimator=rf,\n",
    "    param_grid=param_grid,\n",
    "    cv=5,\n",
    "    scoring='accuracy',\n",
    "    n_jobs=-1,\n",
    "    verbose=2\n",
    ")\n",
    "\n",
    "# Fit the grid search\n",
    "grid_search.fit(X_train_selected, y_train_resampled)\n",
    "\n",
    "# Print best parameters and score\n",
    "print(\"Best parameters:\", grid_search.best_params_)\n",
    "print(\"Best cross-validation score:\", grid_search.best_score_)\n"
   ]
  },
  {
   "cell_type": "markdown",
   "metadata": {
    "id": "vrGoY46TDPXK"
   },
   "source": [
    "#### **7.5.2** Build a random forest model based on hyperparameter tuning results <font color = red>[1 Mark]</font>"
   ]
  },
  {
   "cell_type": "code",
   "execution_count": 1754,
   "metadata": {
    "id": "2yxPaaDxDPXK"
   },
   "outputs": [
    {
     "data": {
      "text/plain": [
       "RandomForestClassifier(class_weight='balanced', max_depth=15,\n",
       "                       max_features='sqrt', min_samples_leaf=4,\n",
       "                       min_samples_split=5, random_state=42)"
      ]
     },
     "execution_count": 1754,
     "metadata": {},
     "output_type": "execute_result"
    }
   ],
   "source": [
    "# Building random forest model based on results of hyperparameter tuning\n",
    "# Initialize Random Forest with best parameters from grid search\n",
    "rf_best = RandomForestClassifier(\n",
    "    n_estimators=grid_search.best_params_['n_estimators'],\n",
    "    max_depth=grid_search.best_params_['max_depth'], \n",
    "    min_samples_split=grid_search.best_params_['min_samples_split'],\n",
    "    min_samples_leaf=grid_search.best_params_['min_samples_leaf'],\n",
    "    max_features=grid_search.best_params_['max_features'],\n",
    "    class_weight='balanced',\n",
    "    random_state=42\n",
    ")\n",
    "\n",
    "# Fit the model\n",
    "rf_best.fit(X_train_selected, y_train_resampled)\n"
   ]
  },
  {
   "cell_type": "markdown",
   "metadata": {
    "id": "IJ4gQ2m0DPXK"
   },
   "source": [
    "#### **7.5.3** Make predictions on training data <font color = red>[1 Mark]</font>"
   ]
  },
  {
   "cell_type": "code",
   "execution_count": 1755,
   "metadata": {
    "id": "hTE3p2rCDPXL"
   },
   "outputs": [],
   "source": [
    "# Make predictions on training data\n",
    "# Get predictions for training data\n",
    "y_train_pred = rf_best.predict(X_train_selected)\n",
    "y_train_pred_proba = rf_best.predict_proba(X_train_selected)[:,1]\n"
   ]
  },
  {
   "cell_type": "markdown",
   "metadata": {
    "id": "fbfSJpEuDPXL"
   },
   "source": [
    "#### **7.5.4** Check accuracy of Random Forest Model <font color = red>[1 Mark]</font>"
   ]
  },
  {
   "cell_type": "code",
   "execution_count": 1756,
   "metadata": {
    "id": "ItpV-JYkDPXL"
   },
   "outputs": [
    {
     "name": "stdout",
     "output_type": "stream",
     "text": [
      "Training Accuracy Score: 0.9629277566539924\n",
      "Training ROC AUC Score: 0.9962591623415114\n",
      "Training Classification Report:\n",
      "               precision    recall  f1-score   support\n",
      "\n",
      "           0       0.98      0.95      0.96       526\n",
      "           1       0.95      0.98      0.96       526\n",
      "\n",
      "    accuracy                           0.96      1052\n",
      "   macro avg       0.96      0.96      0.96      1052\n",
      "weighted avg       0.96      0.96      0.96      1052\n",
      "\n"
     ]
    }
   ],
   "source": [
    "# Check the accuracy\n",
    "# Calculate and print various accuracy metrics\n",
    "print(\"Training Accuracy Score:\", accuracy_score(y_train_resampled, y_train_pred))\n",
    "print(\"Training ROC AUC Score:\", roc_auc_score(y_train_resampled, y_train_pred_proba))\n",
    "print(\"Training Classification Report:\\n\", classification_report(y_train_resampled, y_train_pred))\n"
   ]
  },
  {
   "cell_type": "markdown",
   "metadata": {
    "id": "l-t6Hme3DPXL"
   },
   "source": [
    "#### **7.5.5** Create confusion matrix <font color = red>[1 Mark]</font>"
   ]
  },
  {
   "cell_type": "code",
   "execution_count": 1757,
   "metadata": {
    "id": "MdteUZXzDPXL"
   },
   "outputs": [
    {
     "data": {
      "image/png": "[encoded data removed]",
      "text/plain": [
       "<Figure size 576x432 with 2 Axes>"
      ]
     },
     "metadata": {
      "needs_background": "light"
     },
     "output_type": "display_data"
    }
   ],
   "source": [
    "# Create the confusion matrix\n",
    "# Create confusion matrix\n",
    "cm = metrics.confusion_matrix(y_train_resampled, y_train_pred)\n",
    "\n",
    "# Plot confusion matrix using seaborn\n",
    "plt.figure(figsize=(8, 6))\n",
    "sns.heatmap(cm, annot=True, fmt='d', cmap='Blues')\n",
    "plt.title('Confusion Matrix')\n",
    "plt.ylabel('Actual')\n",
    "plt.xlabel('Predicted')\n",
    "plt.show()\n"
   ]
  },
  {
   "cell_type": "markdown",
   "metadata": {},
   "source": [
    "Inference for Confusion Matrix\n",
    "\n",
    "- Model's Ability to Identify Positives: True positives are significantly higher (498) compared to false negatives (11). This indicates the model is strong at correctly identifying positive cases.\n",
    "\n",
    "- Model's Precision: False positives (28) are relatively low compared to true negatives (515). This means the model has a high precision, as it correctly avoids misclassifying many negative cases.\n",
    "\n",
    "- Balanced Classification: With both high true positives and true negatives, the model demonstrates balanced performance for classifying both positive and negative instances.\n",
    "\n",
    "- Overall Accuracy: The sum of true positives and true negatives (498 + 515 = 1013) is much larger than the sum of false positives and false negatives (28 + 11 = 39), suggesting a high overall accuracy."
   ]
  },
  {
   "cell_type": "markdown",
   "metadata": {
    "id": "jEUtsRafDPXL"
   },
   "source": [
    "#### **7.5.6** Create variables for true positive, true negative, false positive and false negative <font color = red>[1 Mark]</font>"
   ]
  },
  {
   "cell_type": "code",
   "execution_count": 1758,
   "metadata": {
    "id": "0aeUhFSWDPXM"
   },
   "outputs": [
    {
     "name": "stdout",
     "output_type": "stream",
     "text": [
      "True Negative: 498\n",
      "False Positive: 28\n",
      "False Negative: 11\n",
      "True Positive: 515\n"
     ]
    }
   ],
   "source": [
    "# Create variables for true positive, true negative, false positive and false negative\n",
    "# Extract values from confusion matrix\n",
    "tn, fp, fn, tp = cm.ravel()\n",
    "\n",
    "# Create individual variables\n",
    "true_negative = tn\n",
    "false_positive = fp \n",
    "false_negative = fn\n",
    "true_positive = tp\n",
    "\n",
    "# Print the values\n",
    "print(\"True Negative:\", true_negative)\n",
    "print(\"False Positive:\", false_positive)\n",
    "print(\"False Negative:\", false_negative)\n",
    "print(\"True Positive:\", true_positive)\n"
   ]
  },
  {
   "cell_type": "markdown",
   "metadata": {
    "id": "nwDnBdjnDPXM"
   },
   "source": [
    "#### **7.5.7** Calculate sensitivity, specificity, precision, recall and F1-score of the model <font color = red>[3 Marks]</font>"
   ]
  },
  {
   "cell_type": "code",
   "execution_count": 1759,
   "metadata": {
    "id": "KxPHj1NjDPXM"
   },
   "outputs": [
    {
     "name": "stdout",
     "output_type": "stream",
     "text": [
      "Sensitivity: 0.9790874524714829\n",
      "Specificity: 0.9467680608365019\n",
      "Precision: 0.9484346224677717\n",
      "Recall: 0.9790874524714829\n",
      "F1-Score: 0.9635173058933583\n"
     ]
    }
   ],
   "source": [
    "# Calculate the sensitivity\n",
    "# Sensitivity = TP / (TP + FN)\n",
    "sensitivity = true_positive / (true_positive + false_negative)\n",
    "print(\"Sensitivity:\", sensitivity)\n",
    "\n",
    "\n",
    "# Calculate the specificity\n",
    "# Specificity = TN / (TN + FP)\n",
    "specificity = true_negative / (true_negative + false_positive)\n",
    "print(\"Specificity:\", specificity)\n",
    "\n",
    "\n",
    "# Calculate Precision\n",
    "# Precision = TP / (TP + FP)\n",
    "precision = true_positive / (true_positive + false_positive)\n",
    "print(\"Precision:\", precision)\n",
    "\n",
    "\n",
    "# Calculate Recall\n",
    "# Recall = TP / (TP + FN)\n",
    "recall = true_positive / (true_positive + false_negative)\n",
    "print(\"Recall:\", recall)\n",
    "\n",
    "\n",
    "# Calculate F1-Score\n",
    "# F1 = 2 * (Precision * Recall) / (Precision + Recall)\n",
    "f1_score = 2 * (precision * recall) / (precision + recall)\n",
    "print(\"F1-Score:\", f1_score)\n",
    "\n"
   ]
  },
  {
   "cell_type": "markdown",
   "metadata": {
    "id": "yUEvyADyDPXM"
   },
   "source": [
    "## **8. Prediction and Model Evaluation** <font color = red>[20 marks]</font>\n",
    "Use the model from the previous step to make predictions on the validation data with the optimal cutoff. Then evaluate the model's performance using metrics such as accuracy, sensitivity, specificity, precision, and recall."
   ]
  },
  {
   "cell_type": "markdown",
   "metadata": {
    "id": "EQuMB-P1DPXM"
   },
   "source": [
    "### **8.1 Make predictions over validation data using logistic regression model** <font color = red>[10 marks]</font>"
   ]
  },
  {
   "cell_type": "markdown",
   "metadata": {
    "id": "Wuz5v3TYDPXM"
   },
   "source": [
    "#### **8.1.1** Select relevant features for validation data and add constant <font color=\"red\">[1 Mark]</font>"
   ]
  },
  {
   "cell_type": "code",
   "execution_count": 1760,
   "metadata": {},
   "outputs": [
    {
     "data": {
      "text/plain": [
       "((300,), (300, 85))"
      ]
     },
     "execution_count": 1760,
     "metadata": {},
     "output_type": "execute_result"
    }
   ],
   "source": [
    "y_test.shape,X_test_scaled.shape"
   ]
  },
  {
   "cell_type": "code",
   "execution_count": 1761,
   "metadata": {},
   "outputs": [
    {
     "name": "stdout",
     "output_type": "stream",
     "text": [
      "Selected features: Index(['insured_relationship_other-relative', 'insured_relationship_unmarried',\n",
      "       'insured_hobbies_chess', 'incident_city_Northbrook',\n",
      "       'insured_occupation_transport-moving', 'auto_make_Audi',\n",
      "       'incident_severity_Trivial Damage', 'collision_type_Side Collision',\n",
      "       'insured_education_level_MD', 'insured_education_level_JD', 'witnesses',\n",
      "       'policy_deductable', 'umbrella_limit', 'property_damage_YES',\n",
      "       'incident_severity_Total Loss', 'incident_severity_Minor Damage',\n",
      "       'insured_relationship_not-in-family', 'auto_year', 'incident_state_WV',\n",
      "       'claim_deduct_ratio', 'incident_state_VA'],\n",
      "      dtype='object')\n"
     ]
    }
   ],
   "source": [
    "# Get the selected features from logistic regression model\n",
    "\n",
    "X_test_selected = X_test_scaled[selected_features_logreg]\n",
    "print(\"Selected features:\", selected_features_logreg)"
   ]
  },
  {
   "cell_type": "code",
   "execution_count": 1762,
   "metadata": {
    "id": "_AbB-x3aDPXM"
   },
   "outputs": [],
   "source": [
    "# Select the relevant features for validation data\n",
    "\n",
    "# Add constant to X_validation\n",
    "\n",
    "# Select the same features used in training\n",
    "X_validation = X_test_selected\n",
    "\n",
    "# Add constant to X_validation\n",
    "if 'const' not in X_validation.columns:\n",
    "    X_validation = sm.add_constant(X_validation)\n",
    "else:\n",
    "    print(\"const was already present\")\n",
    "\n"
   ]
  },
  {
   "cell_type": "markdown",
   "metadata": {
    "id": "pzpawlMLDPXM"
   },
   "source": [
    "#### **8.1.2** Make predictions over validation data <font color=\"red\">[1 Mark]</font>"
   ]
  },
  {
   "cell_type": "code",
   "execution_count": 1763,
   "metadata": {
    "id": "9CmoAZJODPXM"
   },
   "outputs": [
    {
     "name": "stdout",
     "output_type": "stream",
     "text": [
      "\n",
      "Predicted class labels:\n",
      "0      0.238939\n",
      "1      0.018637\n",
      "2      0.090806\n",
      "3      0.137136\n",
      "4      0.203115\n",
      "         ...   \n",
      "295    0.995037\n",
      "296    0.093210\n",
      "297    0.085934\n",
      "298    0.007511\n",
      "299    0.042856\n",
      "Length: 300, dtype: float64\n"
     ]
    }
   ],
   "source": [
    "# Make predictions on the validation data and store it in the variable 'y_validation_pred'\n",
    "\n",
    "# Make predictions using the logistic regression model\n",
    "y_validation_pred = model.predict(X_validation)\n",
    "print(\"\\nPredicted class labels:\")\n",
    "print(y_validation_pred)\n",
    "\n"
   ]
  },
  {
   "cell_type": "markdown",
   "metadata": {
    "id": "r8qyn8xvDPXM"
   },
   "source": [
    "#### **8.1.3** Create DataFrame with actual values and predicted values for validation data <font color=\"red\">[2 Marks]</font>"
   ]
  },
  {
   "cell_type": "code",
   "execution_count": 1764,
   "metadata": {
    "id": "9Zx8RBFVDPXN"
   },
   "outputs": [
    {
     "name": "stdout",
     "output_type": "stream",
     "text": [
      "\n",
      "Predicted probabilities:\n",
      "0      0.238939\n",
      "1      0.018637\n",
      "2      0.090806\n",
      "3      0.137136\n",
      "4      0.203115\n",
      "         ...   \n",
      "295    0.995037\n",
      "296    0.093210\n",
      "297    0.085934\n",
      "298    0.007511\n",
      "299    0.042856\n",
      "Length: 300, dtype: float64\n"
     ]
    }
   ],
   "source": [
    "#  Create DataFrame with actual values and predicted values for validation data\n",
    "# Create DataFrame with actual values and predicted probabilities\n",
    "validation_results = pd.DataFrame({\n",
    "    'actual_fraud': y_test,\n",
    "    'pred_prob': y_validation_pred\n",
    "})\n",
    "\n",
    "print(\"\\nPredicted probabilities:\")\n",
    "print(y_validation_pred)\n",
    "\n",
    "\n"
   ]
  },
  {
   "cell_type": "markdown",
   "metadata": {
    "id": "G_kC6wEPDPXN"
   },
   "source": [
    "#### **8.1.4** Make final prediction based on cutoff value <font color=\"red\">[1 Mark]</font>"
   ]
  },
  {
   "cell_type": "code",
   "execution_count": 1765,
   "metadata": {
    "id": "4ge-EC74DPXN"
   },
   "outputs": [
    {
     "name": "stdout",
     "output_type": "stream",
     "text": [
      "\n",
      "Validation Results with Final Predictions:\n",
      "   actual_fraud  pred_prob  final_prediction\n",
      "0             0   0.238939                 0\n",
      "1             0   0.018637                 0\n",
      "2             0   0.090806                 0\n",
      "3             0   0.137136                 0\n",
      "4             0   0.203115                 0\n"
     ]
    }
   ],
   "source": [
    "# Make final predictions on the validation data using the optimal cutoff\n",
    "# Make final predictions using optimal cutoff of 0.5\n",
    "validation_results['final_prediction'] = (validation_results['pred_prob'] >= 0.5).astype(int)\n",
    "\n",
    "# Display first few rows with final predictions\n",
    "print(\"\\nValidation Results with Final Predictions:\")\n",
    "print(validation_results.head())\n"
   ]
  },
  {
   "cell_type": "markdown",
   "metadata": {},
   "source": [
    "- For balanced performance: 0.5 threshold has best F1 score."
   ]
  },
  {
   "cell_type": "markdown",
   "metadata": {
    "id": "bt7sm55QDPXN"
   },
   "source": [
    "#### **8.1.5** Check the accuracy of logistic regression model on validation data <font color=\"red\">[1 Mark]</font>"
   ]
  },
  {
   "cell_type": "code",
   "execution_count": 1766,
   "metadata": {
    "id": "81tEKwwsDPXN"
   },
   "outputs": [
    {
     "name": "stdout",
     "output_type": "stream",
     "text": [
      "\n",
      "Accuracy Score: 0.7933\n"
     ]
    }
   ],
   "source": [
    "# Check the accuracy\n",
    "accuracy = accuracy_score(validation_results['actual_fraud'], validation_results['final_prediction'])\n",
    "print(f\"\\nAccuracy Score: {accuracy:.4f}\")\n"
   ]
  },
  {
   "cell_type": "markdown",
   "metadata": {
    "id": "RE8ZnagdDPXN"
   },
   "source": [
    "#### **8.1.6** Create confusion matrix <font color=\"red\">[1 Mark]</font>"
   ]
  },
  {
   "cell_type": "code",
   "execution_count": 1767,
   "metadata": {
    "id": "NjkkexqrDPXN"
   },
   "outputs": [
    {
     "data": {
      "image/png": "[encoded data removed]",
      "text/plain": [
       "<Figure size 576x432 with 2 Axes>"
      ]
     },
     "metadata": {
      "needs_background": "light"
     },
     "output_type": "display_data"
    }
   ],
   "source": [
    "# Create the confusion matrix\n",
    "# Create confusion matrix\n",
    "cm = metrics.confusion_matrix(validation_results['actual_fraud'], validation_results['final_prediction'])\n",
    "\n",
    "# Plot confusion matrix\n",
    "plt.figure(figsize=(8, 6))\n",
    "sns.heatmap(cm, annot=True, fmt='d', cmap='Blues')\n",
    "plt.title('Confusion Matrix')\n",
    "plt.ylabel('Actual')\n",
    "plt.xlabel('Predicted')\n",
    "plt.show()\n"
   ]
  },
  {
   "cell_type": "markdown",
   "metadata": {
    "id": "SSqBZOrYDPXN"
   },
   "source": [
    "#### **8.1.7** Create variables for true positive, true negative, false positive and false negative <font color=\"red\">[1 Mark]</font>"
   ]
  },
  {
   "cell_type": "code",
   "execution_count": 1768,
   "metadata": {
    "id": "NzH_sFeoDPXN"
   },
   "outputs": [
    {
     "name": "stdout",
     "output_type": "stream",
     "text": [
      "\n",
      "True Positives: 51\n",
      "True Negatives: 187\n",
      "False Positives: 39\n",
      "False Negatives: 23\n"
     ]
    }
   ],
   "source": [
    "# Create variables for true positive, true negative, false positive and false negative\n",
    "# Extract values from confusion matrix\n",
    "tn, fp, fn, tp = cm.ravel()\n",
    "\n",
    "# Create individual variables\n",
    "true_negative = tn\n",
    "false_positive = fp\n",
    "false_negative = fn\n",
    "true_positive = tp\n",
    "\n",
    "# Print results\n",
    "print(f\"\\nTrue Positives: {true_positive}\")\n",
    "print(f\"True Negatives: {true_negative}\") \n",
    "print(f\"False Positives: {false_positive}\")\n",
    "print(f\"False Negatives: {false_negative}\")\n"
   ]
  },
  {
   "cell_type": "markdown",
   "metadata": {
    "id": "_Mkn6DUwDPXN"
   },
   "source": [
    "#### **8.1.8** Calculate sensitivity, specificity, precision, recall and f1 score of the model <font color=\"red\">[2 Marks]</font>"
   ]
  },
  {
   "cell_type": "code",
   "execution_count": 1769,
   "metadata": {
    "id": "FCqNW4t3DPXO"
   },
   "outputs": [
    {
     "name": "stdout",
     "output_type": "stream",
     "text": [
      "\n",
      "Sensitivity: 0.6892\n",
      "Specificity: 0.8274\n",
      "Precision: 0.5667\n",
      "Recall: 0.6892\n",
      "F1 Score: 0.6220\n"
     ]
    }
   ],
   "source": [
    "# Calculate the sensitivity\n",
    "\n",
    "# Calculate Sensitivity (True Positive Rate / Recall)\n",
    "sensitivity = true_positive / (true_positive + false_negative)\n",
    "print(f\"\\nSensitivity: {sensitivity:.4f}\")\n",
    "\n",
    "\n",
    "# Calculate the specificity\n",
    "# Calculate Specificity (True Negative Rate)\n",
    "specificity = true_negative / (true_negative + false_positive) \n",
    "print(f\"Specificity: {specificity:.4f}\")\n",
    "\n",
    "\n",
    "# Calculate Precision\n",
    "# Calculate Precision (Positive Predictive Value)\n",
    "precision = true_positive / (true_positive + false_positive)\n",
    "print(f\"Precision: {precision:.4f}\")\n",
    "\n",
    "# Calculate Recall\n",
    "# Calculate Recall (same as Sensitivity)\n",
    "recall = sensitivity\n",
    "print(f\"Recall: {recall:.4f}\")\n",
    "\n",
    "# Calculate F1 Score\n",
    "# Calculate F1 Score\n",
    "f1_score = 2 * (precision * recall) / (precision + recall)\n",
    "print(f\"F1 Score: {f1_score:.4f}\")"
   ]
  },
  {
   "cell_type": "markdown",
   "metadata": {
    "id": "1wTVm8V_DPXO"
   },
   "source": [
    "### **8.2 Make predictions over validation data using random forest model** <font color = red>[10 marks]</font>"
   ]
  },
  {
   "cell_type": "markdown",
   "metadata": {
    "id": "UDgbDTfIDPXO"
   },
   "source": [
    "#### **8.2.1** Select the important features and make predictions over validation data <font color=\"red\">[2 Marks]</font>"
   ]
  },
  {
   "cell_type": "code",
   "execution_count": 1770,
   "metadata": {
    "id": "RhtKprsQDPXO"
   },
   "outputs": [
    {
     "name": "stdout",
     "output_type": "stream",
     "text": [
      "\n",
      "First few validation predictions:\n",
      "[0 0 0 0 0]\n",
      "\n",
      "First few validation prediction probabilities:\n",
      "[0.38 0.18 0.39 0.16 0.16]\n"
     ]
    }
   ],
   "source": [
    "# Select the relevant features for validation data\n",
    "\n",
    "X_validation_rf = X_test_scaled[randomforest_selected_features]\n",
    "# Make predictions on the validation data\n",
    "# Make predictions on validation data using random forest model\n",
    "y_validation_pred_rf = rf_model.predict(X_validation_rf)\n",
    "y_validation_pred_prob_rf = rf_model.predict_proba(X_validation_rf)[:, 1]\n",
    "\n",
    "# Print validation predictions\n",
    "print(\"\\nFirst few validation predictions:\")\n",
    "print(y_validation_pred_rf[:5])\n",
    "print(\"\\nFirst few validation prediction probabilities:\")\n",
    "print(y_validation_pred_prob_rf[:5])\n",
    "\n",
    "\n"
   ]
  },
  {
   "cell_type": "markdown",
   "metadata": {
    "id": "bUbtP7CADPXO"
   },
   "source": [
    "#### **8.2.2** Check accuracy of random forest model <font color=\"red\">[1 Mark]</font>"
   ]
  },
  {
   "cell_type": "code",
   "execution_count": 1771,
   "metadata": {
    "id": "bJyVOpLlDPXO"
   },
   "outputs": [
    {
     "name": "stdout",
     "output_type": "stream",
     "text": [
      "Accuracy Score: 0.7967\n"
     ]
    }
   ],
   "source": [
    "# Check accuracy\n",
    "# Calculate and print accuracy score\n",
    "accuracy = accuracy_score(y_test, y_validation_pred_rf)\n",
    "print(f\"Accuracy Score: {accuracy:.4f}\")\n"
   ]
  },
  {
   "cell_type": "markdown",
   "metadata": {
    "id": "spUa4VBfDPXO"
   },
   "source": [
    "#### **8.2.3** Create confusion matrix <font color=\"red\">[1 Mark]</font>"
   ]
  },
  {
   "cell_type": "code",
   "execution_count": 1772,
   "metadata": {
    "id": "eXJVNVrSDPXO"
   },
   "outputs": [
    {
     "data": {
      "image/png": "[encoded data removed]",
      "text/plain": [
       "<Figure size 576x432 with 2 Axes>"
      ]
     },
     "metadata": {
      "needs_background": "light"
     },
     "output_type": "display_data"
    }
   ],
   "source": [
    "# Create the confusion matrix\n",
    "# Create confusion matrix\n",
    "cm = metrics.confusion_matrix(y_test, y_validation_pred_rf)\n",
    "\n",
    "# Plot confusion matrix\n",
    "plt.figure(figsize=(8, 6))\n",
    "sns.heatmap(cm, annot=True, fmt='d', cmap='Blues')\n",
    "plt.title('Confusion Matrix for Random Forest Model')\n",
    "plt.ylabel('Actual')\n",
    "plt.xlabel('Predicted')\n",
    "plt.show()\n"
   ]
  },
  {
   "cell_type": "markdown",
   "metadata": {
    "id": "HuUdgVYSDPXO"
   },
   "source": [
    "#### **8.2.4** Create variables for true positive, true negative, false positive and false negative <font color=\"red\">[1 Mark]</font>"
   ]
  },
  {
   "cell_type": "code",
   "execution_count": 1773,
   "metadata": {
    "id": "UT7lU5CWDPXO"
   },
   "outputs": [
    {
     "name": "stdout",
     "output_type": "stream",
     "text": [
      "True Negatives: 197\n",
      "False Positives: 29\n",
      "False Negatives: 32\n",
      "True Positives: 42\n"
     ]
    }
   ],
   "source": [
    "# Create variables for true positive, true negative, false positive and false negative\n",
    "# Extract values from confusion matrix\n",
    "tn, fp, fn, tp = cm.ravel()\n",
    "\n",
    "# Print values\n",
    "print(f\"True Negatives: {tn}\")\n",
    "print(f\"False Positives: {fp}\") \n",
    "print(f\"False Negatives: {fn}\")\n",
    "print(f\"True Positives: {tp}\")\n"
   ]
  },
  {
   "cell_type": "markdown",
   "metadata": {
    "id": "YAjovvF4DPXO"
   },
   "source": [
    "#### **8.2.5** Calculate sensitivity, specificity, precision, recall and F1-score of the model <font color=\"red\">[5 Marks]</font>"
   ]
  },
  {
   "cell_type": "code",
   "execution_count": 1774,
   "metadata": {
    "id": "C1PYzDaWDPXO"
   },
   "outputs": [
    {
     "name": "stdout",
     "output_type": "stream",
     "text": [
      "Sensitivity: 0.5676\n",
      "Specificity: 0.8717\n",
      "Precision: 0.5915\n",
      "Recall: 0.5676\n",
      "F1-score: 0.5793\n"
     ]
    }
   ],
   "source": [
    "# Calculate Sensitivity\n",
    "\n",
    "# Sensitivity = TP / (TP + FN)\n",
    "sensitivity = tp / (tp + fn)\n",
    "print(f\"Sensitivity: {sensitivity:.4f}\")\n",
    "\n",
    "# Calculate Specificity\n",
    "# Specificity = TN / (TN + FP)\n",
    "specificity = tn / (tn + fp)\n",
    "print(f\"Specificity: {specificity:.4f}\")\n",
    "\n",
    "\n",
    "# Calculate Precision\n",
    "# Precision = TP / (TP + FP)\n",
    "precision = tp / (tp + fp)\n",
    "print(f\"Precision: {precision:.4f}\")\n",
    "\n",
    "\n",
    "# Calculate Recall\n",
    "# Recall = TP / (TP + FN)\n",
    "recall = tp / (tp + fn)\n",
    "print(f\"Recall: {recall:.4f}\")\n",
    "\n",
    "\n",
    "# Calculate F1-score\n",
    "# F1 = 2 * (Precision * Recall) / (Precision + Recall)\n",
    "f1_score = 2 * (precision * recall) / (precision + recall)\n",
    "print(f\"F1-score: {f1_score:.4f}\")\n"
   ]
  },
  {
   "cell_type": "markdown",
   "metadata": {
    "id": "nENAdFWhDPXP"
   },
   "source": [
    "## **Evaluation and Conclusion**\n",
    "Write the conclusion."
   ]
  }
 ],
 "metadata": {
  "colab": {
   "provenance": [
    {
     "file_id": "1SIhxHs7kl3qt0VU3gGAAt_k_NQTvuqmc",
     "timestamp": 1740041215388
    },
    {
     "file_id": "1wef6jk_PrklarfJ5GA9FoyCAiKkArPCw",
     "timestamp": 1739780524071
    }
   ],
   "toc_visible": true
  },
  "kernelspec": {
   "display_name": "Python 3 (ipykernel)",
   "language": "python",
   "name": "python3"
  },
  "language_info": {
   "codemirror_mode": {
    "name": "ipython",
    "version": 3
   },
   "file_extension": ".py",
   "mimetype": "text/x-python",
   "name": "python",
   "nbconvert_exporter": "python",
   "pygments_lexer": "ipython3",
   "version": "3.9.12"
  }
 },
 "nbformat": 4,
 "nbformat_minor": 0
}
